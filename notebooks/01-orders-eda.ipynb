{
 "cells": [
  {
   "cell_type": "markdown",
   "metadata": {},
   "source": [
    "# Development environment setup"
   ]
  },
  {
   "cell_type": "markdown",
   "metadata": {},
   "source": [
    "## Libraries"
   ]
  },
  {
   "cell_type": "code",
   "execution_count": 63,
   "metadata": {},
   "outputs": [],
   "source": [
    "from pathlib import Path\n",
    "from pprint import pprint\n",
    "\n",
    "import numpy as np\n",
    "import pandas as pd\n",
    "import plotly.express as px\n",
    "import plotly.graph_objects as go\n",
    "import plotly.io as pio\n",
    "from plotly.offline import plot\n",
    "from plotly.subplots import make_subplots\n",
    "from transformers import pipeline\n"
   ]
  },
  {
   "cell_type": "markdown",
   "metadata": {},
   "source": [
    "## Paths"
   ]
  },
  {
   "cell_type": "code",
   "execution_count": 2,
   "metadata": {},
   "outputs": [],
   "source": [
    "project_folder = Path(\".\").absolute().parent"
   ]
  },
  {
   "cell_type": "markdown",
   "metadata": {},
   "source": [
    "## Plotly preferences"
   ]
  },
  {
   "cell_type": "code",
   "execution_count": 3,
   "metadata": {},
   "outputs": [],
   "source": [
    "# Change the default theme to \"plotly_white\"\n",
    "pio.templates.default = \"plotly_white\""
   ]
  },
  {
   "cell_type": "markdown",
   "metadata": {},
   "source": [
    "## NLP Model"
   ]
  },
  {
   "cell_type": "code",
   "execution_count": 4,
   "metadata": {},
   "outputs": [],
   "source": [
    "# Sentiment classifier for brazilian portuguese texts\n",
    "sentiment_classifier = pipeline(\n",
    "    task=\"sentiment-analysis\", model=\"pysentimiento/bertweet-pt-sentiment\"\n",
    ")"
   ]
  },
  {
   "cell_type": "code",
   "execution_count": 5,
   "metadata": {},
   "outputs": [
    {
     "data": {
      "text/plain": [
       "{'POS': 0.8772935271263123,\n",
       " 'NEU': 0.11531976610422134,\n",
       " 'NEG': 0.007386720739305019}"
      ]
     },
     "execution_count": 5,
     "metadata": {},
     "output_type": "execute_result"
    }
   ],
   "source": [
    "# Use example\n",
    "sentiment_classifier(\"Eu gosto de você\", top_k=None)\n",
    "model_response = sentiment_classifier(\"Eu gosto de você\", top_k=None)\n",
    "\n",
    "# Transform the model response into a dict with the sentiment and the scores\n",
    "{dictionary[\"label\"]: dictionary[\"score\"] for dictionary in model_response}"
   ]
  },
  {
   "cell_type": "markdown",
   "metadata": {},
   "source": [
    "# Datasets"
   ]
  },
  {
   "cell_type": "markdown",
   "metadata": {},
   "source": [
    "## Import raw data"
   ]
  },
  {
   "cell_type": "markdown",
   "metadata": {},
   "source": [
    "### Customers"
   ]
  },
  {
   "cell_type": "code",
   "execution_count": 6,
   "metadata": {},
   "outputs": [
    {
     "data": {
      "text/html": [
       "<div>\n",
       "<style scoped>\n",
       "    .dataframe tbody tr th:only-of-type {\n",
       "        vertical-align: middle;\n",
       "    }\n",
       "\n",
       "    .dataframe tbody tr th {\n",
       "        vertical-align: top;\n",
       "    }\n",
       "\n",
       "    .dataframe thead th {\n",
       "        text-align: right;\n",
       "    }\n",
       "</style>\n",
       "<table border=\"1\" class=\"dataframe\">\n",
       "  <thead>\n",
       "    <tr style=\"text-align: right;\">\n",
       "      <th></th>\n",
       "      <th>customer_id</th>\n",
       "      <th>customer_unique_id</th>\n",
       "      <th>customer_zip_code_prefix</th>\n",
       "      <th>customer_city</th>\n",
       "      <th>customer_state</th>\n",
       "    </tr>\n",
       "  </thead>\n",
       "  <tbody>\n",
       "    <tr>\n",
       "      <th>0</th>\n",
       "      <td>06b8999e2fba1a1fbc88172c00ba8bc7</td>\n",
       "      <td>861eff4711a542e4b93843c6dd7febb0</td>\n",
       "      <td>14409</td>\n",
       "      <td>franca</td>\n",
       "      <td>SP</td>\n",
       "    </tr>\n",
       "    <tr>\n",
       "      <th>1</th>\n",
       "      <td>18955e83d337fd6b2def6b18a428ac77</td>\n",
       "      <td>290c77bc529b7ac935b93aa66c333dc3</td>\n",
       "      <td>9790</td>\n",
       "      <td>sao bernardo do campo</td>\n",
       "      <td>SP</td>\n",
       "    </tr>\n",
       "  </tbody>\n",
       "</table>\n",
       "</div>"
      ],
      "text/plain": [
       "                        customer_id                customer_unique_id  \\\n",
       "0  06b8999e2fba1a1fbc88172c00ba8bc7  861eff4711a542e4b93843c6dd7febb0   \n",
       "1  18955e83d337fd6b2def6b18a428ac77  290c77bc529b7ac935b93aa66c333dc3   \n",
       "\n",
       "   customer_zip_code_prefix          customer_city customer_state  \n",
       "0                     14409                 franca             SP  \n",
       "1                      9790  sao bernardo do campo             SP  "
      ]
     },
     "execution_count": 6,
     "metadata": {},
     "output_type": "execute_result"
    }
   ],
   "source": [
    "customers = pd.read_csv(\n",
    "    project_folder.joinpath(\"data\", \"raw\", \"olist_customers_dataset.csv\")\n",
    ")\n",
    "customers.head(2)"
   ]
  },
  {
   "cell_type": "markdown",
   "metadata": {},
   "source": [
    "### Geolocation"
   ]
  },
  {
   "cell_type": "code",
   "execution_count": 7,
   "metadata": {},
   "outputs": [
    {
     "data": {
      "text/html": [
       "<div>\n",
       "<style scoped>\n",
       "    .dataframe tbody tr th:only-of-type {\n",
       "        vertical-align: middle;\n",
       "    }\n",
       "\n",
       "    .dataframe tbody tr th {\n",
       "        vertical-align: top;\n",
       "    }\n",
       "\n",
       "    .dataframe thead th {\n",
       "        text-align: right;\n",
       "    }\n",
       "</style>\n",
       "<table border=\"1\" class=\"dataframe\">\n",
       "  <thead>\n",
       "    <tr style=\"text-align: right;\">\n",
       "      <th></th>\n",
       "      <th>geolocation_zip_code_prefix</th>\n",
       "      <th>geolocation_lat</th>\n",
       "      <th>geolocation_lng</th>\n",
       "      <th>geolocation_city</th>\n",
       "      <th>geolocation_state</th>\n",
       "    </tr>\n",
       "  </thead>\n",
       "  <tbody>\n",
       "    <tr>\n",
       "      <th>0</th>\n",
       "      <td>1037</td>\n",
       "      <td>-23.545621</td>\n",
       "      <td>-46.639292</td>\n",
       "      <td>sao paulo</td>\n",
       "      <td>SP</td>\n",
       "    </tr>\n",
       "    <tr>\n",
       "      <th>1</th>\n",
       "      <td>1046</td>\n",
       "      <td>-23.546081</td>\n",
       "      <td>-46.644820</td>\n",
       "      <td>sao paulo</td>\n",
       "      <td>SP</td>\n",
       "    </tr>\n",
       "  </tbody>\n",
       "</table>\n",
       "</div>"
      ],
      "text/plain": [
       "   geolocation_zip_code_prefix  geolocation_lat  geolocation_lng  \\\n",
       "0                         1037       -23.545621       -46.639292   \n",
       "1                         1046       -23.546081       -46.644820   \n",
       "\n",
       "  geolocation_city geolocation_state  \n",
       "0        sao paulo                SP  \n",
       "1        sao paulo                SP  "
      ]
     },
     "execution_count": 7,
     "metadata": {},
     "output_type": "execute_result"
    }
   ],
   "source": [
    "geolocation = pd.read_csv(\n",
    "    project_folder.joinpath(\"data\", \"raw\", \"olist_geolocation_dataset.csv\")\n",
    ")\n",
    "geolocation.head(2)"
   ]
  },
  {
   "cell_type": "markdown",
   "metadata": {},
   "source": [
    "### Orders"
   ]
  },
  {
   "cell_type": "code",
   "execution_count": 8,
   "metadata": {},
   "outputs": [
    {
     "data": {
      "text/html": [
       "<div>\n",
       "<style scoped>\n",
       "    .dataframe tbody tr th:only-of-type {\n",
       "        vertical-align: middle;\n",
       "    }\n",
       "\n",
       "    .dataframe tbody tr th {\n",
       "        vertical-align: top;\n",
       "    }\n",
       "\n",
       "    .dataframe thead th {\n",
       "        text-align: right;\n",
       "    }\n",
       "</style>\n",
       "<table border=\"1\" class=\"dataframe\">\n",
       "  <thead>\n",
       "    <tr style=\"text-align: right;\">\n",
       "      <th></th>\n",
       "      <th>order_id</th>\n",
       "      <th>customer_id</th>\n",
       "      <th>order_status</th>\n",
       "      <th>order_purchase_timestamp</th>\n",
       "      <th>order_approved_at</th>\n",
       "      <th>order_delivered_carrier_date</th>\n",
       "      <th>order_delivered_customer_date</th>\n",
       "      <th>order_estimated_delivery_date</th>\n",
       "    </tr>\n",
       "  </thead>\n",
       "  <tbody>\n",
       "    <tr>\n",
       "      <th>0</th>\n",
       "      <td>e481f51cbdc54678b7cc49136f2d6af7</td>\n",
       "      <td>9ef432eb6251297304e76186b10a928d</td>\n",
       "      <td>delivered</td>\n",
       "      <td>2017-10-02 10:56:33</td>\n",
       "      <td>2017-10-02 11:07:15</td>\n",
       "      <td>2017-10-04 19:55:00</td>\n",
       "      <td>2017-10-10 21:25:13</td>\n",
       "      <td>2017-10-18 00:00:00</td>\n",
       "    </tr>\n",
       "    <tr>\n",
       "      <th>1</th>\n",
       "      <td>53cdb2fc8bc7dce0b6741e2150273451</td>\n",
       "      <td>b0830fb4747a6c6d20dea0b8c802d7ef</td>\n",
       "      <td>delivered</td>\n",
       "      <td>2018-07-24 20:41:37</td>\n",
       "      <td>2018-07-26 03:24:27</td>\n",
       "      <td>2018-07-26 14:31:00</td>\n",
       "      <td>2018-08-07 15:27:45</td>\n",
       "      <td>2018-08-13 00:00:00</td>\n",
       "    </tr>\n",
       "  </tbody>\n",
       "</table>\n",
       "</div>"
      ],
      "text/plain": [
       "                           order_id                       customer_id  \\\n",
       "0  e481f51cbdc54678b7cc49136f2d6af7  9ef432eb6251297304e76186b10a928d   \n",
       "1  53cdb2fc8bc7dce0b6741e2150273451  b0830fb4747a6c6d20dea0b8c802d7ef   \n",
       "\n",
       "  order_status order_purchase_timestamp    order_approved_at  \\\n",
       "0    delivered      2017-10-02 10:56:33  2017-10-02 11:07:15   \n",
       "1    delivered      2018-07-24 20:41:37  2018-07-26 03:24:27   \n",
       "\n",
       "  order_delivered_carrier_date order_delivered_customer_date  \\\n",
       "0          2017-10-04 19:55:00           2017-10-10 21:25:13   \n",
       "1          2018-07-26 14:31:00           2018-08-07 15:27:45   \n",
       "\n",
       "  order_estimated_delivery_date  \n",
       "0           2017-10-18 00:00:00  \n",
       "1           2018-08-13 00:00:00  "
      ]
     },
     "execution_count": 8,
     "metadata": {},
     "output_type": "execute_result"
    }
   ],
   "source": [
    "orders = pd.read_csv(project_folder.joinpath(\"data\", \"raw\", \"olist_orders_dataset.csv\"))\n",
    "\n",
    "orders.head(2)"
   ]
  },
  {
   "cell_type": "markdown",
   "metadata": {},
   "source": [
    "### Order Items"
   ]
  },
  {
   "cell_type": "code",
   "execution_count": 9,
   "metadata": {},
   "outputs": [
    {
     "data": {
      "text/html": [
       "<div>\n",
       "<style scoped>\n",
       "    .dataframe tbody tr th:only-of-type {\n",
       "        vertical-align: middle;\n",
       "    }\n",
       "\n",
       "    .dataframe tbody tr th {\n",
       "        vertical-align: top;\n",
       "    }\n",
       "\n",
       "    .dataframe thead th {\n",
       "        text-align: right;\n",
       "    }\n",
       "</style>\n",
       "<table border=\"1\" class=\"dataframe\">\n",
       "  <thead>\n",
       "    <tr style=\"text-align: right;\">\n",
       "      <th></th>\n",
       "      <th>order_id</th>\n",
       "      <th>order_item_id</th>\n",
       "      <th>product_id</th>\n",
       "      <th>seller_id</th>\n",
       "      <th>shipping_limit_date</th>\n",
       "      <th>price</th>\n",
       "      <th>freight_value</th>\n",
       "    </tr>\n",
       "  </thead>\n",
       "  <tbody>\n",
       "    <tr>\n",
       "      <th>0</th>\n",
       "      <td>00010242fe8c5a6d1ba2dd792cb16214</td>\n",
       "      <td>1</td>\n",
       "      <td>4244733e06e7ecb4970a6e2683c13e61</td>\n",
       "      <td>48436dade18ac8b2bce089ec2a041202</td>\n",
       "      <td>2017-09-19 09:45:35</td>\n",
       "      <td>58.9</td>\n",
       "      <td>13.29</td>\n",
       "    </tr>\n",
       "    <tr>\n",
       "      <th>1</th>\n",
       "      <td>00018f77f2f0320c557190d7a144bdd3</td>\n",
       "      <td>1</td>\n",
       "      <td>e5f2d52b802189ee658865ca93d83a8f</td>\n",
       "      <td>dd7ddc04e1b6c2c614352b383efe2d36</td>\n",
       "      <td>2017-05-03 11:05:13</td>\n",
       "      <td>239.9</td>\n",
       "      <td>19.93</td>\n",
       "    </tr>\n",
       "  </tbody>\n",
       "</table>\n",
       "</div>"
      ],
      "text/plain": [
       "                           order_id  order_item_id  \\\n",
       "0  00010242fe8c5a6d1ba2dd792cb16214              1   \n",
       "1  00018f77f2f0320c557190d7a144bdd3              1   \n",
       "\n",
       "                         product_id                         seller_id  \\\n",
       "0  4244733e06e7ecb4970a6e2683c13e61  48436dade18ac8b2bce089ec2a041202   \n",
       "1  e5f2d52b802189ee658865ca93d83a8f  dd7ddc04e1b6c2c614352b383efe2d36   \n",
       "\n",
       "   shipping_limit_date  price  freight_value  \n",
       "0  2017-09-19 09:45:35   58.9          13.29  \n",
       "1  2017-05-03 11:05:13  239.9          19.93  "
      ]
     },
     "execution_count": 9,
     "metadata": {},
     "output_type": "execute_result"
    }
   ],
   "source": [
    "order_items = pd.read_csv(\n",
    "    project_folder.joinpath(\"data\", \"raw\", \"olist_order_items_dataset.csv\")\n",
    ")\n",
    "order_items.head(2)"
   ]
  },
  {
   "cell_type": "markdown",
   "metadata": {},
   "source": [
    "### Order Payments"
   ]
  },
  {
   "cell_type": "code",
   "execution_count": 10,
   "metadata": {},
   "outputs": [
    {
     "data": {
      "text/html": [
       "<div>\n",
       "<style scoped>\n",
       "    .dataframe tbody tr th:only-of-type {\n",
       "        vertical-align: middle;\n",
       "    }\n",
       "\n",
       "    .dataframe tbody tr th {\n",
       "        vertical-align: top;\n",
       "    }\n",
       "\n",
       "    .dataframe thead th {\n",
       "        text-align: right;\n",
       "    }\n",
       "</style>\n",
       "<table border=\"1\" class=\"dataframe\">\n",
       "  <thead>\n",
       "    <tr style=\"text-align: right;\">\n",
       "      <th></th>\n",
       "      <th>order_id</th>\n",
       "      <th>payment_sequential</th>\n",
       "      <th>payment_type</th>\n",
       "      <th>payment_installments</th>\n",
       "      <th>payment_value</th>\n",
       "    </tr>\n",
       "  </thead>\n",
       "  <tbody>\n",
       "    <tr>\n",
       "      <th>0</th>\n",
       "      <td>b81ef226f3fe1789b1e8b2acac839d17</td>\n",
       "      <td>1</td>\n",
       "      <td>credit_card</td>\n",
       "      <td>8</td>\n",
       "      <td>99.33</td>\n",
       "    </tr>\n",
       "    <tr>\n",
       "      <th>1</th>\n",
       "      <td>a9810da82917af2d9aefd1278f1dcfa0</td>\n",
       "      <td>1</td>\n",
       "      <td>credit_card</td>\n",
       "      <td>1</td>\n",
       "      <td>24.39</td>\n",
       "    </tr>\n",
       "  </tbody>\n",
       "</table>\n",
       "</div>"
      ],
      "text/plain": [
       "                           order_id  payment_sequential payment_type  \\\n",
       "0  b81ef226f3fe1789b1e8b2acac839d17                   1  credit_card   \n",
       "1  a9810da82917af2d9aefd1278f1dcfa0                   1  credit_card   \n",
       "\n",
       "   payment_installments  payment_value  \n",
       "0                     8          99.33  \n",
       "1                     1          24.39  "
      ]
     },
     "execution_count": 10,
     "metadata": {},
     "output_type": "execute_result"
    }
   ],
   "source": [
    "order_payments = pd.read_csv(\n",
    "    project_folder.joinpath(\"data\", \"raw\", \"olist_order_payments_dataset.csv\")\n",
    ")\n",
    "\n",
    "order_payments.head(2)"
   ]
  },
  {
   "cell_type": "markdown",
   "metadata": {},
   "source": [
    "### Order Reviews"
   ]
  },
  {
   "cell_type": "code",
   "execution_count": 11,
   "metadata": {},
   "outputs": [
    {
     "data": {
      "text/html": [
       "<div>\n",
       "<style scoped>\n",
       "    .dataframe tbody tr th:only-of-type {\n",
       "        vertical-align: middle;\n",
       "    }\n",
       "\n",
       "    .dataframe tbody tr th {\n",
       "        vertical-align: top;\n",
       "    }\n",
       "\n",
       "    .dataframe thead th {\n",
       "        text-align: right;\n",
       "    }\n",
       "</style>\n",
       "<table border=\"1\" class=\"dataframe\">\n",
       "  <thead>\n",
       "    <tr style=\"text-align: right;\">\n",
       "      <th></th>\n",
       "      <th>review_id</th>\n",
       "      <th>order_id</th>\n",
       "      <th>review_score</th>\n",
       "      <th>review_comment_title</th>\n",
       "      <th>review_comment_message</th>\n",
       "      <th>review_creation_date</th>\n",
       "      <th>review_answer_timestamp</th>\n",
       "    </tr>\n",
       "  </thead>\n",
       "  <tbody>\n",
       "    <tr>\n",
       "      <th>0</th>\n",
       "      <td>7bc2406110b926393aa56f80a40eba40</td>\n",
       "      <td>73fc7af87114b39712e6da79b0a377eb</td>\n",
       "      <td>4</td>\n",
       "      <td>NaN</td>\n",
       "      <td>NaN</td>\n",
       "      <td>2018-01-18 00:00:00</td>\n",
       "      <td>2018-01-18 21:46:59</td>\n",
       "    </tr>\n",
       "    <tr>\n",
       "      <th>1</th>\n",
       "      <td>80e641a11e56f04c1ad469d5645fdfde</td>\n",
       "      <td>a548910a1c6147796b98fdf73dbeba33</td>\n",
       "      <td>5</td>\n",
       "      <td>NaN</td>\n",
       "      <td>NaN</td>\n",
       "      <td>2018-03-10 00:00:00</td>\n",
       "      <td>2018-03-11 03:05:13</td>\n",
       "    </tr>\n",
       "  </tbody>\n",
       "</table>\n",
       "</div>"
      ],
      "text/plain": [
       "                          review_id                          order_id  \\\n",
       "0  7bc2406110b926393aa56f80a40eba40  73fc7af87114b39712e6da79b0a377eb   \n",
       "1  80e641a11e56f04c1ad469d5645fdfde  a548910a1c6147796b98fdf73dbeba33   \n",
       "\n",
       "   review_score review_comment_title review_comment_message  \\\n",
       "0             4                  NaN                    NaN   \n",
       "1             5                  NaN                    NaN   \n",
       "\n",
       "  review_creation_date review_answer_timestamp  \n",
       "0  2018-01-18 00:00:00     2018-01-18 21:46:59  \n",
       "1  2018-03-10 00:00:00     2018-03-11 03:05:13  "
      ]
     },
     "execution_count": 11,
     "metadata": {},
     "output_type": "execute_result"
    }
   ],
   "source": [
    "order_reviews = pd.read_csv(\n",
    "    project_folder.joinpath(\"data\", \"raw\", \"olist_order_reviews_dataset.csv\")\n",
    ")\n",
    "\n",
    "order_reviews.head(2)"
   ]
  },
  {
   "cell_type": "markdown",
   "metadata": {},
   "source": [
    "### Products"
   ]
  },
  {
   "cell_type": "code",
   "execution_count": 12,
   "metadata": {},
   "outputs": [
    {
     "data": {
      "text/html": [
       "<div>\n",
       "<style scoped>\n",
       "    .dataframe tbody tr th:only-of-type {\n",
       "        vertical-align: middle;\n",
       "    }\n",
       "\n",
       "    .dataframe tbody tr th {\n",
       "        vertical-align: top;\n",
       "    }\n",
       "\n",
       "    .dataframe thead th {\n",
       "        text-align: right;\n",
       "    }\n",
       "</style>\n",
       "<table border=\"1\" class=\"dataframe\">\n",
       "  <thead>\n",
       "    <tr style=\"text-align: right;\">\n",
       "      <th></th>\n",
       "      <th>product_id</th>\n",
       "      <th>product_category_name</th>\n",
       "      <th>product_name_lenght</th>\n",
       "      <th>product_description_lenght</th>\n",
       "      <th>product_photos_qty</th>\n",
       "      <th>product_weight_g</th>\n",
       "      <th>product_length_cm</th>\n",
       "      <th>product_height_cm</th>\n",
       "      <th>product_width_cm</th>\n",
       "    </tr>\n",
       "  </thead>\n",
       "  <tbody>\n",
       "    <tr>\n",
       "      <th>0</th>\n",
       "      <td>1e9e8ef04dbcff4541ed26657ea517e5</td>\n",
       "      <td>perfumaria</td>\n",
       "      <td>40.0</td>\n",
       "      <td>287.0</td>\n",
       "      <td>1.0</td>\n",
       "      <td>225.0</td>\n",
       "      <td>16.0</td>\n",
       "      <td>10.0</td>\n",
       "      <td>14.0</td>\n",
       "    </tr>\n",
       "    <tr>\n",
       "      <th>1</th>\n",
       "      <td>3aa071139cb16b67ca9e5dea641aaa2f</td>\n",
       "      <td>artes</td>\n",
       "      <td>44.0</td>\n",
       "      <td>276.0</td>\n",
       "      <td>1.0</td>\n",
       "      <td>1000.0</td>\n",
       "      <td>30.0</td>\n",
       "      <td>18.0</td>\n",
       "      <td>20.0</td>\n",
       "    </tr>\n",
       "  </tbody>\n",
       "</table>\n",
       "</div>"
      ],
      "text/plain": [
       "                         product_id product_category_name  \\\n",
       "0  1e9e8ef04dbcff4541ed26657ea517e5            perfumaria   \n",
       "1  3aa071139cb16b67ca9e5dea641aaa2f                 artes   \n",
       "\n",
       "   product_name_lenght  product_description_lenght  product_photos_qty  \\\n",
       "0                 40.0                       287.0                 1.0   \n",
       "1                 44.0                       276.0                 1.0   \n",
       "\n",
       "   product_weight_g  product_length_cm  product_height_cm  product_width_cm  \n",
       "0             225.0               16.0               10.0              14.0  \n",
       "1            1000.0               30.0               18.0              20.0  "
      ]
     },
     "execution_count": 12,
     "metadata": {},
     "output_type": "execute_result"
    }
   ],
   "source": [
    "products = pd.read_csv(\n",
    "    project_folder.joinpath(\"data\", \"raw\", \"olist_products_dataset.csv\")\n",
    ")\n",
    "\n",
    "products.head(2)"
   ]
  },
  {
   "cell_type": "markdown",
   "metadata": {},
   "source": [
    "### Sellers"
   ]
  },
  {
   "cell_type": "code",
   "execution_count": 13,
   "metadata": {},
   "outputs": [
    {
     "data": {
      "text/html": [
       "<div>\n",
       "<style scoped>\n",
       "    .dataframe tbody tr th:only-of-type {\n",
       "        vertical-align: middle;\n",
       "    }\n",
       "\n",
       "    .dataframe tbody tr th {\n",
       "        vertical-align: top;\n",
       "    }\n",
       "\n",
       "    .dataframe thead th {\n",
       "        text-align: right;\n",
       "    }\n",
       "</style>\n",
       "<table border=\"1\" class=\"dataframe\">\n",
       "  <thead>\n",
       "    <tr style=\"text-align: right;\">\n",
       "      <th></th>\n",
       "      <th>seller_id</th>\n",
       "      <th>seller_zip_code_prefix</th>\n",
       "      <th>seller_city</th>\n",
       "      <th>seller_state</th>\n",
       "    </tr>\n",
       "  </thead>\n",
       "  <tbody>\n",
       "    <tr>\n",
       "      <th>0</th>\n",
       "      <td>3442f8959a84dea7ee197c632cb2df15</td>\n",
       "      <td>13023</td>\n",
       "      <td>campinas</td>\n",
       "      <td>SP</td>\n",
       "    </tr>\n",
       "    <tr>\n",
       "      <th>1</th>\n",
       "      <td>d1b65fc7debc3361ea86b5f14c68d2e2</td>\n",
       "      <td>13844</td>\n",
       "      <td>mogi guacu</td>\n",
       "      <td>SP</td>\n",
       "    </tr>\n",
       "  </tbody>\n",
       "</table>\n",
       "</div>"
      ],
      "text/plain": [
       "                          seller_id  seller_zip_code_prefix seller_city  \\\n",
       "0  3442f8959a84dea7ee197c632cb2df15                   13023    campinas   \n",
       "1  d1b65fc7debc3361ea86b5f14c68d2e2                   13844  mogi guacu   \n",
       "\n",
       "  seller_state  \n",
       "0           SP  \n",
       "1           SP  "
      ]
     },
     "execution_count": 13,
     "metadata": {},
     "output_type": "execute_result"
    }
   ],
   "source": [
    "sellers = pd.read_csv(\n",
    "    project_folder.joinpath(\"data\", \"raw\", \"olist_sellers_dataset.csv\")\n",
    ")\n",
    "\n",
    "sellers.head(2)"
   ]
  },
  {
   "cell_type": "markdown",
   "metadata": {},
   "source": [
    "### Product Category Name Translation"
   ]
  },
  {
   "cell_type": "code",
   "execution_count": 14,
   "metadata": {},
   "outputs": [
    {
     "data": {
      "text/html": [
       "<div>\n",
       "<style scoped>\n",
       "    .dataframe tbody tr th:only-of-type {\n",
       "        vertical-align: middle;\n",
       "    }\n",
       "\n",
       "    .dataframe tbody tr th {\n",
       "        vertical-align: top;\n",
       "    }\n",
       "\n",
       "    .dataframe thead th {\n",
       "        text-align: right;\n",
       "    }\n",
       "</style>\n",
       "<table border=\"1\" class=\"dataframe\">\n",
       "  <thead>\n",
       "    <tr style=\"text-align: right;\">\n",
       "      <th></th>\n",
       "      <th>product_category_name</th>\n",
       "      <th>product_category_name_english</th>\n",
       "    </tr>\n",
       "  </thead>\n",
       "  <tbody>\n",
       "    <tr>\n",
       "      <th>0</th>\n",
       "      <td>beleza_saude</td>\n",
       "      <td>health_beauty</td>\n",
       "    </tr>\n",
       "    <tr>\n",
       "      <th>1</th>\n",
       "      <td>informatica_acessorios</td>\n",
       "      <td>computers_accessories</td>\n",
       "    </tr>\n",
       "  </tbody>\n",
       "</table>\n",
       "</div>"
      ],
      "text/plain": [
       "    product_category_name product_category_name_english\n",
       "0            beleza_saude                 health_beauty\n",
       "1  informatica_acessorios         computers_accessories"
      ]
     },
     "execution_count": 14,
     "metadata": {},
     "output_type": "execute_result"
    }
   ],
   "source": [
    "product_category_name_translation = pd.read_csv(\n",
    "    project_folder.joinpath(\"data\", \"raw\", \"product_category_name_translation.csv\")\n",
    ")\n",
    "\n",
    "product_category_name_translation.head(2)"
   ]
  },
  {
   "cell_type": "markdown",
   "metadata": {},
   "source": [
    "# Exploratory Data Analysis (EDA)"
   ]
  },
  {
   "cell_type": "markdown",
   "metadata": {},
   "source": [
    "## Number of orders and payment values by state and order status"
   ]
  },
  {
   "cell_type": "code",
   "execution_count": 15,
   "metadata": {},
   "outputs": [
    {
     "data": {
      "text/html": [
       "<div>\n",
       "<style scoped>\n",
       "    .dataframe tbody tr th:only-of-type {\n",
       "        vertical-align: middle;\n",
       "    }\n",
       "\n",
       "    .dataframe tbody tr th {\n",
       "        vertical-align: top;\n",
       "    }\n",
       "\n",
       "    .dataframe thead th {\n",
       "        text-align: right;\n",
       "    }\n",
       "</style>\n",
       "<table border=\"1\" class=\"dataframe\">\n",
       "  <thead>\n",
       "    <tr style=\"text-align: right;\">\n",
       "      <th></th>\n",
       "      <th>customer_state</th>\n",
       "      <th>order_status</th>\n",
       "      <th>n_orders</th>\n",
       "      <th>payment_value</th>\n",
       "    </tr>\n",
       "  </thead>\n",
       "  <tbody>\n",
       "    <tr>\n",
       "      <th>139</th>\n",
       "      <td>SP</td>\n",
       "      <td>delivered</td>\n",
       "      <td>40501</td>\n",
       "      <td>5770266.19</td>\n",
       "    </tr>\n",
       "    <tr>\n",
       "      <th>101</th>\n",
       "      <td>RJ</td>\n",
       "      <td>delivered</td>\n",
       "      <td>12350</td>\n",
       "      <td>2055690.45</td>\n",
       "    </tr>\n",
       "    <tr>\n",
       "      <th>51</th>\n",
       "      <td>MG</td>\n",
       "      <td>delivered</td>\n",
       "      <td>11354</td>\n",
       "      <td>1819277.61</td>\n",
       "    </tr>\n",
       "    <tr>\n",
       "      <th>120</th>\n",
       "      <td>RS</td>\n",
       "      <td>delivered</td>\n",
       "      <td>5345</td>\n",
       "      <td>861802.40</td>\n",
       "    </tr>\n",
       "    <tr>\n",
       "      <th>94</th>\n",
       "      <td>PR</td>\n",
       "      <td>delivered</td>\n",
       "      <td>4923</td>\n",
       "      <td>781919.55</td>\n",
       "    </tr>\n",
       "    <tr>\n",
       "      <th>...</th>\n",
       "      <td>...</td>\n",
       "      <td>...</td>\n",
       "      <td>...</td>\n",
       "      <td>...</td>\n",
       "    </tr>\n",
       "    <tr>\n",
       "      <th>7</th>\n",
       "      <td>AL</td>\n",
       "      <td>unavailable</td>\n",
       "      <td>1</td>\n",
       "      <td>69.38</td>\n",
       "    </tr>\n",
       "    <tr>\n",
       "      <th>131</th>\n",
       "      <td>SE</td>\n",
       "      <td>canceled</td>\n",
       "      <td>1</td>\n",
       "      <td>61.79</td>\n",
       "    </tr>\n",
       "    <tr>\n",
       "      <th>49</th>\n",
       "      <td>MG</td>\n",
       "      <td>approved</td>\n",
       "      <td>1</td>\n",
       "      <td>61.62</td>\n",
       "    </tr>\n",
       "    <tr>\n",
       "      <th>133</th>\n",
       "      <td>SE</td>\n",
       "      <td>invoiced</td>\n",
       "      <td>1</td>\n",
       "      <td>43.05</td>\n",
       "    </tr>\n",
       "    <tr>\n",
       "      <th>100</th>\n",
       "      <td>RJ</td>\n",
       "      <td>created</td>\n",
       "      <td>1</td>\n",
       "      <td>37.84</td>\n",
       "    </tr>\n",
       "  </tbody>\n",
       "</table>\n",
       "<p>149 rows × 4 columns</p>\n",
       "</div>"
      ],
      "text/plain": [
       "    customer_state order_status  n_orders  payment_value\n",
       "139             SP    delivered     40501     5770266.19\n",
       "101             RJ    delivered     12350     2055690.45\n",
       "51              MG    delivered     11354     1819277.61\n",
       "120             RS    delivered      5345      861802.40\n",
       "94              PR    delivered      4923      781919.55\n",
       "..             ...          ...       ...            ...\n",
       "7               AL  unavailable         1          69.38\n",
       "131             SE     canceled         1          61.79\n",
       "49              MG     approved         1          61.62\n",
       "133             SE     invoiced         1          43.05\n",
       "100             RJ      created         1          37.84\n",
       "\n",
       "[149 rows x 4 columns]"
      ]
     },
     "execution_count": 15,
     "metadata": {},
     "output_type": "execute_result"
    }
   ],
   "source": [
    "# Creates a aggregated dataframe with the number of orders and the total payment value by state and order status\n",
    "value_orders_by_state_status = (\n",
    "    orders.merge(customers, how=\"left\", on=\"customer_id\")\n",
    "    .merge(order_payments, how=\"left\", on=\"order_id\")\n",
    "    .loc[:, [\"customer_state\", \"order_id\", \"order_status\", \"payment_value\"]]\n",
    "    .groupby(by=[\"customer_state\", \"order_status\"])\n",
    "    .agg({\"order_id\": \"nunique\", \"payment_value\": \"sum\"})\n",
    "    .reset_index()\n",
    "    .rename(columns={\"order_id\": \"n_orders\"})\n",
    "    .sort_values(by=\"payment_value\", ascending=False)\n",
    ")\n",
    "\n",
    "value_orders_by_state_status"
   ]
  },
  {
   "cell_type": "code",
   "execution_count": 16,
   "metadata": {},
   "outputs": [
    {
     "data": {
      "text/html": [
       "<div>\n",
       "<style scoped>\n",
       "    .dataframe tbody tr th:only-of-type {\n",
       "        vertical-align: middle;\n",
       "    }\n",
       "\n",
       "    .dataframe tbody tr th {\n",
       "        vertical-align: top;\n",
       "    }\n",
       "\n",
       "    .dataframe thead th {\n",
       "        text-align: right;\n",
       "    }\n",
       "</style>\n",
       "<table border=\"1\" class=\"dataframe\">\n",
       "  <thead>\n",
       "    <tr style=\"text-align: right;\">\n",
       "      <th></th>\n",
       "      <th>customer_state</th>\n",
       "      <th>approved</th>\n",
       "      <th>canceled</th>\n",
       "      <th>created</th>\n",
       "      <th>delivered</th>\n",
       "      <th>invoiced</th>\n",
       "      <th>processing</th>\n",
       "      <th>shipped</th>\n",
       "      <th>unavailable</th>\n",
       "    </tr>\n",
       "  </thead>\n",
       "  <tbody>\n",
       "    <tr>\n",
       "      <th>26</th>\n",
       "      <td>TO</td>\n",
       "      <td>0.00</td>\n",
       "      <td>250.57</td>\n",
       "      <td>0.00</td>\n",
       "      <td>60007.37</td>\n",
       "      <td>0.00</td>\n",
       "      <td>96.98</td>\n",
       "      <td>999.50</td>\n",
       "      <td>130.91</td>\n",
       "    </tr>\n",
       "    <tr>\n",
       "      <th>25</th>\n",
       "      <td>SP</td>\n",
       "      <td>179.46</td>\n",
       "      <td>55829.85</td>\n",
       "      <td>160.94</td>\n",
       "      <td>5770266.19</td>\n",
       "      <td>30663.24</td>\n",
       "      <td>31436.74</td>\n",
       "      <td>46229.42</td>\n",
       "      <td>63461.12</td>\n",
       "    </tr>\n",
       "  </tbody>\n",
       "</table>\n",
       "</div>"
      ],
      "text/plain": [
       "   customer_state  approved  canceled  created   delivered  invoiced  \\\n",
       "26             TO      0.00    250.57     0.00    60007.37      0.00   \n",
       "25             SP    179.46  55829.85   160.94  5770266.19  30663.24   \n",
       "\n",
       "    processing   shipped  unavailable  \n",
       "26       96.98    999.50       130.91  \n",
       "25    31436.74  46229.42     63461.12  "
      ]
     },
     "execution_count": 16,
     "metadata": {},
     "output_type": "execute_result"
    }
   ],
   "source": [
    "pivot_value_by_state_status = (\n",
    "    value_orders_by_state_status.pivot_table(\n",
    "        index=\"customer_state\", columns=\"order_status\", values=\"payment_value\"\n",
    "    )\n",
    "    .fillna(0)\n",
    "    .reset_index()\n",
    "    .rename_axis(None, axis=1)\n",
    "    .sort_values(by=\"customer_state\", ascending=False)\n",
    ")\n",
    "\n",
    "pivot_value_by_state_status.head(2)"
   ]
  },
  {
   "cell_type": "code",
   "execution_count": 17,
   "metadata": {},
   "outputs": [
    {
     "data": {
      "text/html": [
       "<div>\n",
       "<style scoped>\n",
       "    .dataframe tbody tr th:only-of-type {\n",
       "        vertical-align: middle;\n",
       "    }\n",
       "\n",
       "    .dataframe tbody tr th {\n",
       "        vertical-align: top;\n",
       "    }\n",
       "\n",
       "    .dataframe thead th {\n",
       "        text-align: right;\n",
       "    }\n",
       "</style>\n",
       "<table border=\"1\" class=\"dataframe\">\n",
       "  <thead>\n",
       "    <tr style=\"text-align: right;\">\n",
       "      <th></th>\n",
       "      <th>customer_state</th>\n",
       "      <th>approved</th>\n",
       "      <th>canceled</th>\n",
       "      <th>created</th>\n",
       "      <th>delivered</th>\n",
       "      <th>invoiced</th>\n",
       "      <th>processing</th>\n",
       "      <th>shipped</th>\n",
       "      <th>unavailable</th>\n",
       "    </tr>\n",
       "  </thead>\n",
       "  <tbody>\n",
       "    <tr>\n",
       "      <th>26</th>\n",
       "      <td>TO</td>\n",
       "      <td>0.0</td>\n",
       "      <td>1.0</td>\n",
       "      <td>0.0</td>\n",
       "      <td>274.0</td>\n",
       "      <td>0.0</td>\n",
       "      <td>1.0</td>\n",
       "      <td>3.0</td>\n",
       "      <td>1.0</td>\n",
       "    </tr>\n",
       "    <tr>\n",
       "      <th>25</th>\n",
       "      <td>SP</td>\n",
       "      <td>1.0</td>\n",
       "      <td>327.0</td>\n",
       "      <td>1.0</td>\n",
       "      <td>40501.0</td>\n",
       "      <td>160.0</td>\n",
       "      <td>136.0</td>\n",
       "      <td>328.0</td>\n",
       "      <td>292.0</td>\n",
       "    </tr>\n",
       "  </tbody>\n",
       "</table>\n",
       "</div>"
      ],
      "text/plain": [
       "   customer_state  approved  canceled  created  delivered  invoiced  \\\n",
       "26             TO       0.0       1.0      0.0      274.0       0.0   \n",
       "25             SP       1.0     327.0      1.0    40501.0     160.0   \n",
       "\n",
       "    processing  shipped  unavailable  \n",
       "26         1.0      3.0          1.0  \n",
       "25       136.0    328.0        292.0  "
      ]
     },
     "execution_count": 17,
     "metadata": {},
     "output_type": "execute_result"
    }
   ],
   "source": [
    "pivot_orders_by_state_status = (\n",
    "    value_orders_by_state_status.pivot_table(\n",
    "        index=\"customer_state\", columns=\"order_status\", values=\"n_orders\"\n",
    "    )\n",
    "    .fillna(0)\n",
    "    .reset_index()\n",
    "    .rename_axis(None, axis=1)\n",
    "    .sort_values(by=\"customer_state\", ascending=False)\n",
    ")\n",
    "\n",
    "pivot_orders_by_state_status.head(2)"
   ]
  },
  {
   "cell_type": "code",
   "execution_count": 134,
   "metadata": {},
   "outputs": [],
   "source": [
    "map_status_color = {\n",
    "    \"created\": \"#6e35ff\",\n",
    "    \"processing\": \"#6e35ff\",\n",
    "    \"approved\": \"#6e35ff\",\n",
    "    \"invoiced\": \"#6e35ff\",\n",
    "    \"shipped\": \"#6e35ff\",\n",
    "    \"delivered\": \"#00c456\",\n",
    "    \"unavailable\": \"#ff4d65\",\n",
    "    \"canceled\": \"#ff4d65\",\n",
    "}"
   ]
  },
  {
   "cell_type": "code",
   "execution_count": 135,
   "metadata": {},
   "outputs": [
    {
     "data": {
      "application/vnd.plotly.v1+json": {
       "config": {
        "plotlyServerURL": "https://plot.ly"
       },
       "data": [
        {
         "marker": {
          "color": "#6e35ff"
         },
         "name": "Created",
         "orientation": "h",
         "type": "bar",
         "x": [
          0,
          160.94,
          0,
          0,
          105.87,
          0,
          0,
          0,
          37.84,
          245.85,
          0,
          0,
          0,
          0,
          0,
          0,
          0,
          0,
          0,
          0,
          137.6,
          0,
          0,
          0,
          0,
          0,
          0
         ],
         "xaxis": "x",
         "y": [
          "TO",
          "SP",
          "SE",
          "SC",
          "RS",
          "RR",
          "RO",
          "RN",
          "RJ",
          "PR",
          "PI",
          "PE",
          "PB",
          "PA",
          "MT",
          "MS",
          "MG",
          "MA",
          "GO",
          "ES",
          "DF",
          "CE",
          "BA",
          "AP",
          "AM",
          "AL",
          "AC"
         ],
         "yaxis": "y"
        },
        {
         "marker": {
          "color": "#6e35ff"
         },
         "name": "Created",
         "orientation": "h",
         "showlegend": false,
         "type": "bar",
         "x": [
          0,
          1,
          0,
          0,
          1,
          0,
          0,
          0,
          1,
          1,
          0,
          0,
          0,
          0,
          0,
          0,
          0,
          0,
          0,
          0,
          1,
          0,
          0,
          0,
          0,
          0,
          0
         ],
         "xaxis": "x2",
         "y": [
          "TO",
          "SP",
          "SE",
          "SC",
          "RS",
          "RR",
          "RO",
          "RN",
          "RJ",
          "PR",
          "PI",
          "PE",
          "PB",
          "PA",
          "MT",
          "MS",
          "MG",
          "MA",
          "GO",
          "ES",
          "DF",
          "CE",
          "BA",
          "AP",
          "AM",
          "AL",
          "AC"
         ],
         "yaxis": "y2"
        },
        {
         "marker": {
          "color": "#6e35ff"
         },
         "name": "Processing",
         "orientation": "h",
         "type": "bar",
         "x": [
          96.98,
          31436.74,
          0,
          4599.59,
          2276.11,
          0,
          307.40999999999997,
          160.58,
          8244.33,
          3143.46,
          838.13,
          2914.01,
          459.37,
          585.5699999999999,
          655.67,
          547.35,
          5981.42,
          0,
          1511.02,
          118.50999999999999,
          733.14,
          1607.01,
          2617.42,
          120.99,
          0,
          439.3,
          0
         ],
         "xaxis": "x",
         "y": [
          "TO",
          "SP",
          "SE",
          "SC",
          "RS",
          "RR",
          "RO",
          "RN",
          "RJ",
          "PR",
          "PI",
          "PE",
          "PB",
          "PA",
          "MT",
          "MS",
          "MG",
          "MA",
          "GO",
          "ES",
          "DF",
          "CE",
          "BA",
          "AP",
          "AM",
          "AL",
          "AC"
         ],
         "yaxis": "y"
        },
        {
         "marker": {
          "color": "#6e35ff"
         },
         "name": "Processing",
         "orientation": "h",
         "showlegend": false,
         "type": "bar",
         "x": [
          1,
          136,
          0,
          14,
          14,
          0,
          2,
          1,
          32,
          15,
          3,
          10,
          2,
          2,
          1,
          3,
          31,
          0,
          5,
          2,
          7,
          5,
          11,
          1,
          0,
          3,
          0
         ],
         "xaxis": "x2",
         "y": [
          "TO",
          "SP",
          "SE",
          "SC",
          "RS",
          "RR",
          "RO",
          "RN",
          "RJ",
          "PR",
          "PI",
          "PE",
          "PB",
          "PA",
          "MT",
          "MS",
          "MG",
          "MA",
          "GO",
          "ES",
          "DF",
          "CE",
          "BA",
          "AP",
          "AM",
          "AL",
          "AC"
         ],
         "yaxis": "y2"
        },
        {
         "marker": {
          "color": "#6e35ff"
         },
         "name": "Approved",
         "orientation": "h",
         "type": "bar",
         "x": [
          0,
          179.46,
          0,
          0,
          0,
          0,
          0,
          0,
          0,
          0,
          0,
          0,
          0,
          0,
          0,
          0,
          61.62,
          0,
          0,
          0,
          0,
          0,
          0,
          0,
          0,
          0,
          0
         ],
         "xaxis": "x",
         "y": [
          "TO",
          "SP",
          "SE",
          "SC",
          "RS",
          "RR",
          "RO",
          "RN",
          "RJ",
          "PR",
          "PI",
          "PE",
          "PB",
          "PA",
          "MT",
          "MS",
          "MG",
          "MA",
          "GO",
          "ES",
          "DF",
          "CE",
          "BA",
          "AP",
          "AM",
          "AL",
          "AC"
         ],
         "yaxis": "y"
        },
        {
         "marker": {
          "color": "#6e35ff"
         },
         "name": "Approved",
         "orientation": "h",
         "showlegend": false,
         "type": "bar",
         "x": [
          0,
          1,
          0,
          0,
          0,
          0,
          0,
          0,
          0,
          0,
          0,
          0,
          0,
          0,
          0,
          0,
          1,
          0,
          0,
          0,
          0,
          0,
          0,
          0,
          0,
          0,
          0
         ],
         "xaxis": "x2",
         "y": [
          "TO",
          "SP",
          "SE",
          "SC",
          "RS",
          "RR",
          "RO",
          "RN",
          "RJ",
          "PR",
          "PI",
          "PE",
          "PB",
          "PA",
          "MT",
          "MS",
          "MG",
          "MA",
          "GO",
          "ES",
          "DF",
          "CE",
          "BA",
          "AP",
          "AM",
          "AL",
          "AC"
         ],
         "yaxis": "y2"
        },
        {
         "marker": {
          "color": "#6e35ff"
         },
         "name": "Invoiced",
         "orientation": "h",
         "type": "bar",
         "x": [
          0,
          30663.24,
          43.05,
          3319.8700000000003,
          5711.54,
          0,
          150.36,
          0,
          5842.68,
          2813.99,
          773.37,
          2415.6000000000004,
          81.96,
          814.1899999999999,
          1724.04,
          444.25,
          9211.2,
          100.1,
          643.13,
          1856.12,
          181.32,
          181,
          1994.87,
          0,
          0,
          172.11,
          0
         ],
         "xaxis": "x",
         "y": [
          "TO",
          "SP",
          "SE",
          "SC",
          "RS",
          "RR",
          "RO",
          "RN",
          "RJ",
          "PR",
          "PI",
          "PE",
          "PB",
          "PA",
          "MT",
          "MS",
          "MG",
          "MA",
          "GO",
          "ES",
          "DF",
          "CE",
          "BA",
          "AP",
          "AM",
          "AL",
          "AC"
         ],
         "yaxis": "y"
        },
        {
         "marker": {
          "color": "#6e35ff"
         },
         "name": "Invoiced",
         "orientation": "h",
         "showlegend": false,
         "type": "bar",
         "x": [
          0,
          160,
          1,
          12,
          20,
          0,
          1,
          0,
          26,
          15,
          4,
          5,
          1,
          2,
          1,
          1,
          39,
          2,
          5,
          4,
          3,
          1,
          9,
          0,
          0,
          2,
          0
         ],
         "xaxis": "x2",
         "y": [
          "TO",
          "SP",
          "SE",
          "SC",
          "RS",
          "RR",
          "RO",
          "RN",
          "RJ",
          "PR",
          "PI",
          "PE",
          "PB",
          "PA",
          "MT",
          "MS",
          "MG",
          "MA",
          "GO",
          "ES",
          "DF",
          "CE",
          "BA",
          "AP",
          "AM",
          "AL",
          "AC"
         ],
         "yaxis": "y2"
        },
        {
         "marker": {
          "color": "#6e35ff"
         },
         "name": "Shipped",
         "orientation": "h",
         "type": "bar",
         "x": [
          999.5,
          46229.42,
          2700.14,
          5052.650000000001,
          7907.88,
          909.45,
          0,
          1019.72,
          46178.98,
          6530.35,
          975.78,
          6716.68,
          2143.59,
          4057.21,
          2400.98,
          516.54,
          8928.52,
          2784.31,
          4177.87,
          3448.4700000000003,
          4289.4,
          6297.83,
          11158.56,
          0,
          250.26,
          1445.5,
          94.37
         ],
         "xaxis": "x",
         "y": [
          "TO",
          "SP",
          "SE",
          "SC",
          "RS",
          "RR",
          "RO",
          "RN",
          "RJ",
          "PR",
          "PI",
          "PE",
          "PB",
          "PA",
          "MT",
          "MS",
          "MG",
          "MA",
          "GO",
          "ES",
          "DF",
          "CE",
          "BA",
          "AP",
          "AM",
          "AL",
          "AC"
         ],
         "yaxis": "y"
        },
        {
         "marker": {
          "color": "#6e35ff"
         },
         "name": "Shipped",
         "orientation": "h",
         "showlegend": false,
         "type": "bar",
         "x": [
          3,
          328,
          9,
          28,
          37,
          4,
          0,
          7,
          289,
          29,
          7,
          35,
          11,
          19,
          14,
          3,
          71,
          17,
          31,
          17,
          30,
          38,
          68,
          0,
          2,
          9,
          1
         ],
         "xaxis": "x2",
         "y": [
          "TO",
          "SP",
          "SE",
          "SC",
          "RS",
          "RR",
          "RO",
          "RN",
          "RJ",
          "PR",
          "PI",
          "PE",
          "PB",
          "PA",
          "MT",
          "MS",
          "MG",
          "MA",
          "GO",
          "ES",
          "DF",
          "CE",
          "BA",
          "AP",
          "AM",
          "AL",
          "AC"
         ],
         "yaxis": "y2"
        },
        {
         "marker": {
          "color": "#00c456"
         },
         "name": "Delivered",
         "orientation": "h",
         "type": "bar",
         "x": [
          60007.37,
          5770266.19,
          70289.13,
          595208.4,
          861802.4,
          9039.52,
          56975.7,
          100728.3,
          2055690.45,
          781919.55,
          105272.17,
          309074.59,
          137834.65,
          212027.55,
          181441.72,
          134421.54,
          1819277.61,
          147807.29,
          334294.22,
          317682.65,
          346146.17,
          266463.97,
          591270.6,
          16141.81,
          27596.18,
          94195.79,
          19586.25
         ],
         "xaxis": "x",
         "y": [
          "TO",
          "SP",
          "SE",
          "SC",
          "RS",
          "RR",
          "RO",
          "RN",
          "RJ",
          "PR",
          "PI",
          "PE",
          "PB",
          "PA",
          "MT",
          "MS",
          "MG",
          "MA",
          "GO",
          "ES",
          "DF",
          "CE",
          "BA",
          "AP",
          "AM",
          "AL",
          "AC"
         ],
         "yaxis": "y"
        },
        {
         "marker": {
          "color": "#00c456"
         },
         "name": "Delivered",
         "orientation": "h",
         "showlegend": false,
         "type": "bar",
         "x": [
          274,
          40501,
          335,
          3546,
          5345,
          41,
          243,
          474,
          12350,
          4923,
          476,
          1593,
          517,
          946,
          886,
          701,
          11354,
          717,
          1957,
          1995,
          2080,
          1279,
          3256,
          67,
          145,
          397,
          80
         ],
         "xaxis": "x2",
         "y": [
          "TO",
          "SP",
          "SE",
          "SC",
          "RS",
          "RR",
          "RO",
          "RN",
          "RJ",
          "PR",
          "PI",
          "PE",
          "PB",
          "PA",
          "MT",
          "MS",
          "MG",
          "MA",
          "GO",
          "ES",
          "DF",
          "CE",
          "BA",
          "AP",
          "AM",
          "AL",
          "AC"
         ],
         "yaxis": "y2"
        },
        {
         "marker": {
          "color": "#ff4d65"
         },
         "name": "Unavailable",
         "orientation": "h",
         "type": "bar",
         "x": [
          130.91,
          63461.12,
          2152.14,
          5526.95,
          3876.8,
          0,
          1761.63,
          809.53,
          10449.95,
          7665.9800000000005,
          75.68,
          2510.21,
          476.09999999999997,
          332.03,
          191.59,
          1243.53,
          12915.44,
          1347.29,
          1498.56,
          933.15,
          1230.41,
          2946.0800000000004,
          4754.5599999999995,
          0,
          120.49,
          69.38,
          0
         ],
         "xaxis": "x",
         "y": [
          "TO",
          "SP",
          "SE",
          "SC",
          "RS",
          "RR",
          "RO",
          "RN",
          "RJ",
          "PR",
          "PI",
          "PE",
          "PB",
          "PA",
          "MT",
          "MS",
          "MG",
          "MA",
          "GO",
          "ES",
          "DF",
          "CE",
          "BA",
          "AP",
          "AM",
          "AL",
          "AC"
         ],
         "yaxis": "y"
        },
        {
         "marker": {
          "color": "#ff4d65"
         },
         "name": "Unavailable",
         "orientation": "h",
         "showlegend": false,
         "type": "bar",
         "x": [
          1,
          292,
          4,
          18,
          24,
          0,
          4,
          3,
          68,
          40,
          1,
          4,
          3,
          2,
          3,
          5,
          75,
          7,
          9,
          6,
          12,
          6,
          20,
          0,
          1,
          1,
          0
         ],
         "xaxis": "x2",
         "y": [
          "TO",
          "SP",
          "SE",
          "SC",
          "RS",
          "RR",
          "RO",
          "RN",
          "RJ",
          "PR",
          "PI",
          "PE",
          "PB",
          "PA",
          "MT",
          "MS",
          "MG",
          "MA",
          "GO",
          "ES",
          "DF",
          "CE",
          "BA",
          "AP",
          "AM",
          "AL",
          "AC"
         ],
         "yaxis": "y2"
        },
        {
         "marker": {
          "color": "#ff4d65"
         },
         "name": "Canceled",
         "orientation": "h",
         "type": "bar",
         "x": [
          250.57,
          55829.85,
          61.79,
          9378.970000000001,
          9217.94,
          115.65,
          1671.1000000000001,
          0,
          17935.46,
          8837.199999999999,
          588.8399999999999,
          1219.35,
          550.05,
          479.3,
          615.29,
          361.63,
          15881.45,
          484.03,
          7967.509999999999,
          1928.65,
          2423.04,
          1968.14,
          4849.81,
          0,
          0,
          639.98,
          0
         ],
         "xaxis": "x",
         "y": [
          "TO",
          "SP",
          "SE",
          "SC",
          "RS",
          "RR",
          "RO",
          "RN",
          "RJ",
          "PR",
          "PI",
          "PE",
          "PB",
          "PA",
          "MT",
          "MS",
          "MG",
          "MA",
          "GO",
          "ES",
          "DF",
          "CE",
          "BA",
          "AP",
          "AM",
          "AL",
          "AC"
         ],
         "yaxis": "y"
        },
        {
         "marker": {
          "color": "#ff4d65"
         },
         "name": "Canceled",
         "orientation": "h",
         "showlegend": false,
         "type": "bar",
         "x": [
          1,
          327,
          1,
          19,
          25,
          1,
          3,
          0,
          86,
          22,
          4,
          5,
          2,
          4,
          2,
          2,
          64,
          4,
          13,
          9,
          7,
          7,
          16,
          0,
          0,
          1,
          0
         ],
         "xaxis": "x2",
         "y": [
          "TO",
          "SP",
          "SE",
          "SC",
          "RS",
          "RR",
          "RO",
          "RN",
          "RJ",
          "PR",
          "PI",
          "PE",
          "PB",
          "PA",
          "MT",
          "MS",
          "MG",
          "MA",
          "GO",
          "ES",
          "DF",
          "CE",
          "BA",
          "AP",
          "AM",
          "AL",
          "AC"
         ],
         "yaxis": "y2"
        }
       ],
       "layout": {
        "annotations": [
         {
          "font": {
           "size": 16
          },
          "showarrow": false,
          "text": "Total Payment Value",
          "x": 0.225,
          "xanchor": "center",
          "xref": "paper",
          "y": 1,
          "yanchor": "bottom",
          "yref": "paper"
         },
         {
          "font": {
           "size": 16
          },
          "showarrow": false,
          "text": "Number of Orders",
          "x": 0.775,
          "xanchor": "center",
          "xref": "paper",
          "y": 1,
          "yanchor": "bottom",
          "yref": "paper"
         }
        ],
        "barmode": "stack",
        "height": 600,
        "template": {
         "data": {
          "bar": [
           {
            "error_x": {
             "color": "#2a3f5f"
            },
            "error_y": {
             "color": "#2a3f5f"
            },
            "marker": {
             "line": {
              "color": "white",
              "width": 0.5
             },
             "pattern": {
              "fillmode": "overlay",
              "size": 10,
              "solidity": 0.2
             }
            },
            "type": "bar"
           }
          ],
          "barpolar": [
           {
            "marker": {
             "line": {
              "color": "white",
              "width": 0.5
             },
             "pattern": {
              "fillmode": "overlay",
              "size": 10,
              "solidity": 0.2
             }
            },
            "type": "barpolar"
           }
          ],
          "carpet": [
           {
            "aaxis": {
             "endlinecolor": "#2a3f5f",
             "gridcolor": "#C8D4E3",
             "linecolor": "#C8D4E3",
             "minorgridcolor": "#C8D4E3",
             "startlinecolor": "#2a3f5f"
            },
            "baxis": {
             "endlinecolor": "#2a3f5f",
             "gridcolor": "#C8D4E3",
             "linecolor": "#C8D4E3",
             "minorgridcolor": "#C8D4E3",
             "startlinecolor": "#2a3f5f"
            },
            "type": "carpet"
           }
          ],
          "choropleth": [
           {
            "colorbar": {
             "outlinewidth": 0,
             "ticks": ""
            },
            "type": "choropleth"
           }
          ],
          "contour": [
           {
            "colorbar": {
             "outlinewidth": 0,
             "ticks": ""
            },
            "colorscale": [
             [
              0,
              "#0d0887"
             ],
             [
              0.1111111111111111,
              "#46039f"
             ],
             [
              0.2222222222222222,
              "#7201a8"
             ],
             [
              0.3333333333333333,
              "#9c179e"
             ],
             [
              0.4444444444444444,
              "#bd3786"
             ],
             [
              0.5555555555555556,
              "#d8576b"
             ],
             [
              0.6666666666666666,
              "#ed7953"
             ],
             [
              0.7777777777777778,
              "#fb9f3a"
             ],
             [
              0.8888888888888888,
              "#fdca26"
             ],
             [
              1,
              "#f0f921"
             ]
            ],
            "type": "contour"
           }
          ],
          "contourcarpet": [
           {
            "colorbar": {
             "outlinewidth": 0,
             "ticks": ""
            },
            "type": "contourcarpet"
           }
          ],
          "heatmap": [
           {
            "colorbar": {
             "outlinewidth": 0,
             "ticks": ""
            },
            "colorscale": [
             [
              0,
              "#0d0887"
             ],
             [
              0.1111111111111111,
              "#46039f"
             ],
             [
              0.2222222222222222,
              "#7201a8"
             ],
             [
              0.3333333333333333,
              "#9c179e"
             ],
             [
              0.4444444444444444,
              "#bd3786"
             ],
             [
              0.5555555555555556,
              "#d8576b"
             ],
             [
              0.6666666666666666,
              "#ed7953"
             ],
             [
              0.7777777777777778,
              "#fb9f3a"
             ],
             [
              0.8888888888888888,
              "#fdca26"
             ],
             [
              1,
              "#f0f921"
             ]
            ],
            "type": "heatmap"
           }
          ],
          "heatmapgl": [
           {
            "colorbar": {
             "outlinewidth": 0,
             "ticks": ""
            },
            "colorscale": [
             [
              0,
              "#0d0887"
             ],
             [
              0.1111111111111111,
              "#46039f"
             ],
             [
              0.2222222222222222,
              "#7201a8"
             ],
             [
              0.3333333333333333,
              "#9c179e"
             ],
             [
              0.4444444444444444,
              "#bd3786"
             ],
             [
              0.5555555555555556,
              "#d8576b"
             ],
             [
              0.6666666666666666,
              "#ed7953"
             ],
             [
              0.7777777777777778,
              "#fb9f3a"
             ],
             [
              0.8888888888888888,
              "#fdca26"
             ],
             [
              1,
              "#f0f921"
             ]
            ],
            "type": "heatmapgl"
           }
          ],
          "histogram": [
           {
            "marker": {
             "pattern": {
              "fillmode": "overlay",
              "size": 10,
              "solidity": 0.2
             }
            },
            "type": "histogram"
           }
          ],
          "histogram2d": [
           {
            "colorbar": {
             "outlinewidth": 0,
             "ticks": ""
            },
            "colorscale": [
             [
              0,
              "#0d0887"
             ],
             [
              0.1111111111111111,
              "#46039f"
             ],
             [
              0.2222222222222222,
              "#7201a8"
             ],
             [
              0.3333333333333333,
              "#9c179e"
             ],
             [
              0.4444444444444444,
              "#bd3786"
             ],
             [
              0.5555555555555556,
              "#d8576b"
             ],
             [
              0.6666666666666666,
              "#ed7953"
             ],
             [
              0.7777777777777778,
              "#fb9f3a"
             ],
             [
              0.8888888888888888,
              "#fdca26"
             ],
             [
              1,
              "#f0f921"
             ]
            ],
            "type": "histogram2d"
           }
          ],
          "histogram2dcontour": [
           {
            "colorbar": {
             "outlinewidth": 0,
             "ticks": ""
            },
            "colorscale": [
             [
              0,
              "#0d0887"
             ],
             [
              0.1111111111111111,
              "#46039f"
             ],
             [
              0.2222222222222222,
              "#7201a8"
             ],
             [
              0.3333333333333333,
              "#9c179e"
             ],
             [
              0.4444444444444444,
              "#bd3786"
             ],
             [
              0.5555555555555556,
              "#d8576b"
             ],
             [
              0.6666666666666666,
              "#ed7953"
             ],
             [
              0.7777777777777778,
              "#fb9f3a"
             ],
             [
              0.8888888888888888,
              "#fdca26"
             ],
             [
              1,
              "#f0f921"
             ]
            ],
            "type": "histogram2dcontour"
           }
          ],
          "mesh3d": [
           {
            "colorbar": {
             "outlinewidth": 0,
             "ticks": ""
            },
            "type": "mesh3d"
           }
          ],
          "parcoords": [
           {
            "line": {
             "colorbar": {
              "outlinewidth": 0,
              "ticks": ""
             }
            },
            "type": "parcoords"
           }
          ],
          "pie": [
           {
            "automargin": true,
            "type": "pie"
           }
          ],
          "scatter": [
           {
            "fillpattern": {
             "fillmode": "overlay",
             "size": 10,
             "solidity": 0.2
            },
            "type": "scatter"
           }
          ],
          "scatter3d": [
           {
            "line": {
             "colorbar": {
              "outlinewidth": 0,
              "ticks": ""
             }
            },
            "marker": {
             "colorbar": {
              "outlinewidth": 0,
              "ticks": ""
             }
            },
            "type": "scatter3d"
           }
          ],
          "scattercarpet": [
           {
            "marker": {
             "colorbar": {
              "outlinewidth": 0,
              "ticks": ""
             }
            },
            "type": "scattercarpet"
           }
          ],
          "scattergeo": [
           {
            "marker": {
             "colorbar": {
              "outlinewidth": 0,
              "ticks": ""
             }
            },
            "type": "scattergeo"
           }
          ],
          "scattergl": [
           {
            "marker": {
             "colorbar": {
              "outlinewidth": 0,
              "ticks": ""
             }
            },
            "type": "scattergl"
           }
          ],
          "scattermapbox": [
           {
            "marker": {
             "colorbar": {
              "outlinewidth": 0,
              "ticks": ""
             }
            },
            "type": "scattermapbox"
           }
          ],
          "scatterpolar": [
           {
            "marker": {
             "colorbar": {
              "outlinewidth": 0,
              "ticks": ""
             }
            },
            "type": "scatterpolar"
           }
          ],
          "scatterpolargl": [
           {
            "marker": {
             "colorbar": {
              "outlinewidth": 0,
              "ticks": ""
             }
            },
            "type": "scatterpolargl"
           }
          ],
          "scatterternary": [
           {
            "marker": {
             "colorbar": {
              "outlinewidth": 0,
              "ticks": ""
             }
            },
            "type": "scatterternary"
           }
          ],
          "surface": [
           {
            "colorbar": {
             "outlinewidth": 0,
             "ticks": ""
            },
            "colorscale": [
             [
              0,
              "#0d0887"
             ],
             [
              0.1111111111111111,
              "#46039f"
             ],
             [
              0.2222222222222222,
              "#7201a8"
             ],
             [
              0.3333333333333333,
              "#9c179e"
             ],
             [
              0.4444444444444444,
              "#bd3786"
             ],
             [
              0.5555555555555556,
              "#d8576b"
             ],
             [
              0.6666666666666666,
              "#ed7953"
             ],
             [
              0.7777777777777778,
              "#fb9f3a"
             ],
             [
              0.8888888888888888,
              "#fdca26"
             ],
             [
              1,
              "#f0f921"
             ]
            ],
            "type": "surface"
           }
          ],
          "table": [
           {
            "cells": {
             "fill": {
              "color": "#EBF0F8"
             },
             "line": {
              "color": "white"
             }
            },
            "header": {
             "fill": {
              "color": "#C8D4E3"
             },
             "line": {
              "color": "white"
             }
            },
            "type": "table"
           }
          ]
         },
         "layout": {
          "annotationdefaults": {
           "arrowcolor": "#2a3f5f",
           "arrowhead": 0,
           "arrowwidth": 1
          },
          "autotypenumbers": "strict",
          "coloraxis": {
           "colorbar": {
            "outlinewidth": 0,
            "ticks": ""
           }
          },
          "colorscale": {
           "diverging": [
            [
             0,
             "#8e0152"
            ],
            [
             0.1,
             "#c51b7d"
            ],
            [
             0.2,
             "#de77ae"
            ],
            [
             0.3,
             "#f1b6da"
            ],
            [
             0.4,
             "#fde0ef"
            ],
            [
             0.5,
             "#f7f7f7"
            ],
            [
             0.6,
             "#e6f5d0"
            ],
            [
             0.7,
             "#b8e186"
            ],
            [
             0.8,
             "#7fbc41"
            ],
            [
             0.9,
             "#4d9221"
            ],
            [
             1,
             "#276419"
            ]
           ],
           "sequential": [
            [
             0,
             "#0d0887"
            ],
            [
             0.1111111111111111,
             "#46039f"
            ],
            [
             0.2222222222222222,
             "#7201a8"
            ],
            [
             0.3333333333333333,
             "#9c179e"
            ],
            [
             0.4444444444444444,
             "#bd3786"
            ],
            [
             0.5555555555555556,
             "#d8576b"
            ],
            [
             0.6666666666666666,
             "#ed7953"
            ],
            [
             0.7777777777777778,
             "#fb9f3a"
            ],
            [
             0.8888888888888888,
             "#fdca26"
            ],
            [
             1,
             "#f0f921"
            ]
           ],
           "sequentialminus": [
            [
             0,
             "#0d0887"
            ],
            [
             0.1111111111111111,
             "#46039f"
            ],
            [
             0.2222222222222222,
             "#7201a8"
            ],
            [
             0.3333333333333333,
             "#9c179e"
            ],
            [
             0.4444444444444444,
             "#bd3786"
            ],
            [
             0.5555555555555556,
             "#d8576b"
            ],
            [
             0.6666666666666666,
             "#ed7953"
            ],
            [
             0.7777777777777778,
             "#fb9f3a"
            ],
            [
             0.8888888888888888,
             "#fdca26"
            ],
            [
             1,
             "#f0f921"
            ]
           ]
          },
          "colorway": [
           "#636efa",
           "#EF553B",
           "#00cc96",
           "#ab63fa",
           "#FFA15A",
           "#19d3f3",
           "#FF6692",
           "#B6E880",
           "#FF97FF",
           "#FECB52"
          ],
          "font": {
           "color": "#2a3f5f"
          },
          "geo": {
           "bgcolor": "white",
           "lakecolor": "white",
           "landcolor": "white",
           "showlakes": true,
           "showland": true,
           "subunitcolor": "#C8D4E3"
          },
          "hoverlabel": {
           "align": "left"
          },
          "hovermode": "closest",
          "mapbox": {
           "style": "light"
          },
          "paper_bgcolor": "white",
          "plot_bgcolor": "white",
          "polar": {
           "angularaxis": {
            "gridcolor": "#EBF0F8",
            "linecolor": "#EBF0F8",
            "ticks": ""
           },
           "bgcolor": "white",
           "radialaxis": {
            "gridcolor": "#EBF0F8",
            "linecolor": "#EBF0F8",
            "ticks": ""
           }
          },
          "scene": {
           "xaxis": {
            "backgroundcolor": "white",
            "gridcolor": "#DFE8F3",
            "gridwidth": 2,
            "linecolor": "#EBF0F8",
            "showbackground": true,
            "ticks": "",
            "zerolinecolor": "#EBF0F8"
           },
           "yaxis": {
            "backgroundcolor": "white",
            "gridcolor": "#DFE8F3",
            "gridwidth": 2,
            "linecolor": "#EBF0F8",
            "showbackground": true,
            "ticks": "",
            "zerolinecolor": "#EBF0F8"
           },
           "zaxis": {
            "backgroundcolor": "white",
            "gridcolor": "#DFE8F3",
            "gridwidth": 2,
            "linecolor": "#EBF0F8",
            "showbackground": true,
            "ticks": "",
            "zerolinecolor": "#EBF0F8"
           }
          },
          "shapedefaults": {
           "line": {
            "color": "#2a3f5f"
           }
          },
          "ternary": {
           "aaxis": {
            "gridcolor": "#DFE8F3",
            "linecolor": "#A2B1C6",
            "ticks": ""
           },
           "baxis": {
            "gridcolor": "#DFE8F3",
            "linecolor": "#A2B1C6",
            "ticks": ""
           },
           "bgcolor": "white",
           "caxis": {
            "gridcolor": "#DFE8F3",
            "linecolor": "#A2B1C6",
            "ticks": ""
           }
          },
          "title": {
           "x": 0.05
          },
          "xaxis": {
           "automargin": true,
           "gridcolor": "#EBF0F8",
           "linecolor": "#EBF0F8",
           "ticks": "",
           "title": {
            "standoff": 15
           },
           "zerolinecolor": "#EBF0F8",
           "zerolinewidth": 2
          },
          "yaxis": {
           "automargin": true,
           "gridcolor": "#EBF0F8",
           "linecolor": "#EBF0F8",
           "ticks": "",
           "title": {
            "standoff": 15
           },
           "zerolinecolor": "#EBF0F8",
           "zerolinewidth": 2
          }
         }
        },
        "title": {
         "text": "Number of Total Payment Value and Orders by State and Order Status"
        },
        "width": 1200,
        "xaxis": {
         "anchor": "y",
         "domain": [
          0,
          0.45
         ],
         "title": {
          "text": "Value (BRL)"
         }
        },
        "xaxis2": {
         "anchor": "y2",
         "domain": [
          0.55,
          1
         ],
         "title": {
          "text": "# Orders"
         }
        },
        "yaxis": {
         "anchor": "x",
         "domain": [
          0,
          1
         ]
        },
        "yaxis2": {
         "anchor": "x2",
         "domain": [
          0,
          1
         ],
         "matches": "y",
         "showticklabels": false
        }
       }
      }
     },
     "metadata": {},
     "output_type": "display_data"
    }
   ],
   "source": [
    "# Creates a plotly figure with the number of orders and the total payment value by state and order status\n",
    "fig = make_subplots(\n",
    "    rows=1,\n",
    "    cols=2,\n",
    "    subplot_titles=(\"Total Payment Value\", \"Number of Orders\"),\n",
    "    shared_yaxes=True,\n",
    "    specs=[[{\"type\": \"bar\"}, {\"type\": \"bar\"}]],\n",
    ")\n",
    "\n",
    "for status in map_status_color.keys():\n",
    "    trace1 = go.Bar(\n",
    "        y=pivot_value_by_state_status[\"customer_state\"],\n",
    "        x=pivot_value_by_state_status[status],\n",
    "        orientation=\"h\",\n",
    "        name=status.title(),\n",
    "        marker=dict(color=map_status_color[status]),\n",
    "    )\n",
    "\n",
    "    trace2 = go.Bar(\n",
    "        y=pivot_orders_by_state_status[\"customer_state\"],\n",
    "        x=pivot_orders_by_state_status[status],\n",
    "        orientation=\"h\",\n",
    "        name=status.title(),\n",
    "        showlegend=False,\n",
    "        marker=dict(color=map_status_color[status]),\n",
    "    )\n",
    "\n",
    "    fig.add_trace(trace1, row=1, col=1)\n",
    "    fig.add_trace(trace2, row=1, col=2)\n",
    "\n",
    "fig.update_layout(\n",
    "    title_text=\"Number of Total Payment Value and Orders by State and Order Status\",\n",
    "    height=600,\n",
    "    width=1200,\n",
    ")\n",
    "\n",
    "fig.update_layout(\n",
    "    barmode=\"stack\",\n",
    "    xaxis=dict(title=\"Value (BRL)\"),\n",
    "    xaxis2=dict(title=\"# Orders\"),\n",
    ")\n",
    "\n",
    "fig.show()"
   ]
  },
  {
   "cell_type": "code",
   "execution_count": 21,
   "metadata": {},
   "outputs": [
    {
     "name": "stdout",
     "output_type": "stream",
     "text": [
      "Payment share of Southeast states: 64.6%\n"
     ]
    }
   ],
   "source": [
    "# Verify the payment share of Southeast states\n",
    "invoiced_orders_payments = (\n",
    "    orders.merge(customers, how=\"left\", on=\"customer_id\")\n",
    "    .merge(order_payments, how=\"left\", on=\"order_id\")\n",
    "    .loc[:, [\"customer_state\", \"order_status\", \"payment_value\"]]\n",
    "    .query(\"order_status.isin(['invoiced', 'shipped', 'delivered'])\")\n",
    "    .groupby(by=[\"customer_state\"])\n",
    "    .agg({\"payment_value\": \"sum\"})\n",
    "    .reset_index()\n",
    "    .sort_values(by=\"payment_value\", ascending=False)\n",
    ")\n",
    "\n",
    "invoiced_orders_payments[\"payment_share\"] = (\n",
    "    invoiced_orders_payments[\"payment_value\"]\n",
    "    / invoiced_orders_payments[\"payment_value\"].sum()\n",
    ")\n",
    "\n",
    "southeast_states = [\"SP\", \"RJ\", \"MG\", \"ES\"]\n",
    "southeast_payment_share = invoiced_orders_payments.query(\n",
    "    \"customer_state in @southeast_states\"\n",
    ")[\"payment_share\"].sum()\n",
    "\n",
    "print(f\"Payment share of Southeast states: {southeast_payment_share:.1%}\")"
   ]
  },
  {
   "cell_type": "markdown",
   "metadata": {},
   "source": [
    "Here we can see that the Southeast states are responsible for almost 2/3 of the total payment value of the invoiced, shipped and delivered orders.\n",
    "\n",
    "But these sellers are close to their customers? Let's see the relationship between the number of sellers and the number of customers by state."
   ]
  },
  {
   "cell_type": "code",
   "execution_count": 33,
   "metadata": {},
   "outputs": [
    {
     "data": {
      "application/vnd.plotly.v1+json": {
       "config": {
        "plotlyServerURL": "https://plot.ly"
       },
       "data": [
        {
         "marker": {
          "color": [
           "#a9a9a9",
           "#a9a9a9",
           "#a9a9a9",
           "#6e35ff"
          ]
         },
         "orientation": "h",
         "text": [
          6414,
          10734,
          24853,
          57730
         ],
         "textposition": "outside",
         "texttemplate": "%{text:,}",
         "type": "bar",
         "x": [
          6414,
          10734,
          24853,
          57730
         ],
         "y": [
          "Between another regions",
          "From another region to Southeast",
          "From Southeast to another region",
          "Only inside Southeast"
         ]
        }
       ],
       "layout": {
        "height": 400,
        "template": {
         "data": {
          "bar": [
           {
            "error_x": {
             "color": "#2a3f5f"
            },
            "error_y": {
             "color": "#2a3f5f"
            },
            "marker": {
             "line": {
              "color": "white",
              "width": 0.5
             },
             "pattern": {
              "fillmode": "overlay",
              "size": 10,
              "solidity": 0.2
             }
            },
            "type": "bar"
           }
          ],
          "barpolar": [
           {
            "marker": {
             "line": {
              "color": "white",
              "width": 0.5
             },
             "pattern": {
              "fillmode": "overlay",
              "size": 10,
              "solidity": 0.2
             }
            },
            "type": "barpolar"
           }
          ],
          "carpet": [
           {
            "aaxis": {
             "endlinecolor": "#2a3f5f",
             "gridcolor": "#C8D4E3",
             "linecolor": "#C8D4E3",
             "minorgridcolor": "#C8D4E3",
             "startlinecolor": "#2a3f5f"
            },
            "baxis": {
             "endlinecolor": "#2a3f5f",
             "gridcolor": "#C8D4E3",
             "linecolor": "#C8D4E3",
             "minorgridcolor": "#C8D4E3",
             "startlinecolor": "#2a3f5f"
            },
            "type": "carpet"
           }
          ],
          "choropleth": [
           {
            "colorbar": {
             "outlinewidth": 0,
             "ticks": ""
            },
            "type": "choropleth"
           }
          ],
          "contour": [
           {
            "colorbar": {
             "outlinewidth": 0,
             "ticks": ""
            },
            "colorscale": [
             [
              0,
              "#0d0887"
             ],
             [
              0.1111111111111111,
              "#46039f"
             ],
             [
              0.2222222222222222,
              "#7201a8"
             ],
             [
              0.3333333333333333,
              "#9c179e"
             ],
             [
              0.4444444444444444,
              "#bd3786"
             ],
             [
              0.5555555555555556,
              "#d8576b"
             ],
             [
              0.6666666666666666,
              "#ed7953"
             ],
             [
              0.7777777777777778,
              "#fb9f3a"
             ],
             [
              0.8888888888888888,
              "#fdca26"
             ],
             [
              1,
              "#f0f921"
             ]
            ],
            "type": "contour"
           }
          ],
          "contourcarpet": [
           {
            "colorbar": {
             "outlinewidth": 0,
             "ticks": ""
            },
            "type": "contourcarpet"
           }
          ],
          "heatmap": [
           {
            "colorbar": {
             "outlinewidth": 0,
             "ticks": ""
            },
            "colorscale": [
             [
              0,
              "#0d0887"
             ],
             [
              0.1111111111111111,
              "#46039f"
             ],
             [
              0.2222222222222222,
              "#7201a8"
             ],
             [
              0.3333333333333333,
              "#9c179e"
             ],
             [
              0.4444444444444444,
              "#bd3786"
             ],
             [
              0.5555555555555556,
              "#d8576b"
             ],
             [
              0.6666666666666666,
              "#ed7953"
             ],
             [
              0.7777777777777778,
              "#fb9f3a"
             ],
             [
              0.8888888888888888,
              "#fdca26"
             ],
             [
              1,
              "#f0f921"
             ]
            ],
            "type": "heatmap"
           }
          ],
          "heatmapgl": [
           {
            "colorbar": {
             "outlinewidth": 0,
             "ticks": ""
            },
            "colorscale": [
             [
              0,
              "#0d0887"
             ],
             [
              0.1111111111111111,
              "#46039f"
             ],
             [
              0.2222222222222222,
              "#7201a8"
             ],
             [
              0.3333333333333333,
              "#9c179e"
             ],
             [
              0.4444444444444444,
              "#bd3786"
             ],
             [
              0.5555555555555556,
              "#d8576b"
             ],
             [
              0.6666666666666666,
              "#ed7953"
             ],
             [
              0.7777777777777778,
              "#fb9f3a"
             ],
             [
              0.8888888888888888,
              "#fdca26"
             ],
             [
              1,
              "#f0f921"
             ]
            ],
            "type": "heatmapgl"
           }
          ],
          "histogram": [
           {
            "marker": {
             "pattern": {
              "fillmode": "overlay",
              "size": 10,
              "solidity": 0.2
             }
            },
            "type": "histogram"
           }
          ],
          "histogram2d": [
           {
            "colorbar": {
             "outlinewidth": 0,
             "ticks": ""
            },
            "colorscale": [
             [
              0,
              "#0d0887"
             ],
             [
              0.1111111111111111,
              "#46039f"
             ],
             [
              0.2222222222222222,
              "#7201a8"
             ],
             [
              0.3333333333333333,
              "#9c179e"
             ],
             [
              0.4444444444444444,
              "#bd3786"
             ],
             [
              0.5555555555555556,
              "#d8576b"
             ],
             [
              0.6666666666666666,
              "#ed7953"
             ],
             [
              0.7777777777777778,
              "#fb9f3a"
             ],
             [
              0.8888888888888888,
              "#fdca26"
             ],
             [
              1,
              "#f0f921"
             ]
            ],
            "type": "histogram2d"
           }
          ],
          "histogram2dcontour": [
           {
            "colorbar": {
             "outlinewidth": 0,
             "ticks": ""
            },
            "colorscale": [
             [
              0,
              "#0d0887"
             ],
             [
              0.1111111111111111,
              "#46039f"
             ],
             [
              0.2222222222222222,
              "#7201a8"
             ],
             [
              0.3333333333333333,
              "#9c179e"
             ],
             [
              0.4444444444444444,
              "#bd3786"
             ],
             [
              0.5555555555555556,
              "#d8576b"
             ],
             [
              0.6666666666666666,
              "#ed7953"
             ],
             [
              0.7777777777777778,
              "#fb9f3a"
             ],
             [
              0.8888888888888888,
              "#fdca26"
             ],
             [
              1,
              "#f0f921"
             ]
            ],
            "type": "histogram2dcontour"
           }
          ],
          "mesh3d": [
           {
            "colorbar": {
             "outlinewidth": 0,
             "ticks": ""
            },
            "type": "mesh3d"
           }
          ],
          "parcoords": [
           {
            "line": {
             "colorbar": {
              "outlinewidth": 0,
              "ticks": ""
             }
            },
            "type": "parcoords"
           }
          ],
          "pie": [
           {
            "automargin": true,
            "type": "pie"
           }
          ],
          "scatter": [
           {
            "fillpattern": {
             "fillmode": "overlay",
             "size": 10,
             "solidity": 0.2
            },
            "type": "scatter"
           }
          ],
          "scatter3d": [
           {
            "line": {
             "colorbar": {
              "outlinewidth": 0,
              "ticks": ""
             }
            },
            "marker": {
             "colorbar": {
              "outlinewidth": 0,
              "ticks": ""
             }
            },
            "type": "scatter3d"
           }
          ],
          "scattercarpet": [
           {
            "marker": {
             "colorbar": {
              "outlinewidth": 0,
              "ticks": ""
             }
            },
            "type": "scattercarpet"
           }
          ],
          "scattergeo": [
           {
            "marker": {
             "colorbar": {
              "outlinewidth": 0,
              "ticks": ""
             }
            },
            "type": "scattergeo"
           }
          ],
          "scattergl": [
           {
            "marker": {
             "colorbar": {
              "outlinewidth": 0,
              "ticks": ""
             }
            },
            "type": "scattergl"
           }
          ],
          "scattermapbox": [
           {
            "marker": {
             "colorbar": {
              "outlinewidth": 0,
              "ticks": ""
             }
            },
            "type": "scattermapbox"
           }
          ],
          "scatterpolar": [
           {
            "marker": {
             "colorbar": {
              "outlinewidth": 0,
              "ticks": ""
             }
            },
            "type": "scatterpolar"
           }
          ],
          "scatterpolargl": [
           {
            "marker": {
             "colorbar": {
              "outlinewidth": 0,
              "ticks": ""
             }
            },
            "type": "scatterpolargl"
           }
          ],
          "scatterternary": [
           {
            "marker": {
             "colorbar": {
              "outlinewidth": 0,
              "ticks": ""
             }
            },
            "type": "scatterternary"
           }
          ],
          "surface": [
           {
            "colorbar": {
             "outlinewidth": 0,
             "ticks": ""
            },
            "colorscale": [
             [
              0,
              "#0d0887"
             ],
             [
              0.1111111111111111,
              "#46039f"
             ],
             [
              0.2222222222222222,
              "#7201a8"
             ],
             [
              0.3333333333333333,
              "#9c179e"
             ],
             [
              0.4444444444444444,
              "#bd3786"
             ],
             [
              0.5555555555555556,
              "#d8576b"
             ],
             [
              0.6666666666666666,
              "#ed7953"
             ],
             [
              0.7777777777777778,
              "#fb9f3a"
             ],
             [
              0.8888888888888888,
              "#fdca26"
             ],
             [
              1,
              "#f0f921"
             ]
            ],
            "type": "surface"
           }
          ],
          "table": [
           {
            "cells": {
             "fill": {
              "color": "#EBF0F8"
             },
             "line": {
              "color": "white"
             }
            },
            "header": {
             "fill": {
              "color": "#C8D4E3"
             },
             "line": {
              "color": "white"
             }
            },
            "type": "table"
           }
          ]
         },
         "layout": {
          "annotationdefaults": {
           "arrowcolor": "#2a3f5f",
           "arrowhead": 0,
           "arrowwidth": 1
          },
          "autotypenumbers": "strict",
          "coloraxis": {
           "colorbar": {
            "outlinewidth": 0,
            "ticks": ""
           }
          },
          "colorscale": {
           "diverging": [
            [
             0,
             "#8e0152"
            ],
            [
             0.1,
             "#c51b7d"
            ],
            [
             0.2,
             "#de77ae"
            ],
            [
             0.3,
             "#f1b6da"
            ],
            [
             0.4,
             "#fde0ef"
            ],
            [
             0.5,
             "#f7f7f7"
            ],
            [
             0.6,
             "#e6f5d0"
            ],
            [
             0.7,
             "#b8e186"
            ],
            [
             0.8,
             "#7fbc41"
            ],
            [
             0.9,
             "#4d9221"
            ],
            [
             1,
             "#276419"
            ]
           ],
           "sequential": [
            [
             0,
             "#0d0887"
            ],
            [
             0.1111111111111111,
             "#46039f"
            ],
            [
             0.2222222222222222,
             "#7201a8"
            ],
            [
             0.3333333333333333,
             "#9c179e"
            ],
            [
             0.4444444444444444,
             "#bd3786"
            ],
            [
             0.5555555555555556,
             "#d8576b"
            ],
            [
             0.6666666666666666,
             "#ed7953"
            ],
            [
             0.7777777777777778,
             "#fb9f3a"
            ],
            [
             0.8888888888888888,
             "#fdca26"
            ],
            [
             1,
             "#f0f921"
            ]
           ],
           "sequentialminus": [
            [
             0,
             "#0d0887"
            ],
            [
             0.1111111111111111,
             "#46039f"
            ],
            [
             0.2222222222222222,
             "#7201a8"
            ],
            [
             0.3333333333333333,
             "#9c179e"
            ],
            [
             0.4444444444444444,
             "#bd3786"
            ],
            [
             0.5555555555555556,
             "#d8576b"
            ],
            [
             0.6666666666666666,
             "#ed7953"
            ],
            [
             0.7777777777777778,
             "#fb9f3a"
            ],
            [
             0.8888888888888888,
             "#fdca26"
            ],
            [
             1,
             "#f0f921"
            ]
           ]
          },
          "colorway": [
           "#636efa",
           "#EF553B",
           "#00cc96",
           "#ab63fa",
           "#FFA15A",
           "#19d3f3",
           "#FF6692",
           "#B6E880",
           "#FF97FF",
           "#FECB52"
          ],
          "font": {
           "color": "#2a3f5f"
          },
          "geo": {
           "bgcolor": "white",
           "lakecolor": "white",
           "landcolor": "white",
           "showlakes": true,
           "showland": true,
           "subunitcolor": "#C8D4E3"
          },
          "hoverlabel": {
           "align": "left"
          },
          "hovermode": "closest",
          "mapbox": {
           "style": "light"
          },
          "paper_bgcolor": "white",
          "plot_bgcolor": "white",
          "polar": {
           "angularaxis": {
            "gridcolor": "#EBF0F8",
            "linecolor": "#EBF0F8",
            "ticks": ""
           },
           "bgcolor": "white",
           "radialaxis": {
            "gridcolor": "#EBF0F8",
            "linecolor": "#EBF0F8",
            "ticks": ""
           }
          },
          "scene": {
           "xaxis": {
            "backgroundcolor": "white",
            "gridcolor": "#DFE8F3",
            "gridwidth": 2,
            "linecolor": "#EBF0F8",
            "showbackground": true,
            "ticks": "",
            "zerolinecolor": "#EBF0F8"
           },
           "yaxis": {
            "backgroundcolor": "white",
            "gridcolor": "#DFE8F3",
            "gridwidth": 2,
            "linecolor": "#EBF0F8",
            "showbackground": true,
            "ticks": "",
            "zerolinecolor": "#EBF0F8"
           },
           "zaxis": {
            "backgroundcolor": "white",
            "gridcolor": "#DFE8F3",
            "gridwidth": 2,
            "linecolor": "#EBF0F8",
            "showbackground": true,
            "ticks": "",
            "zerolinecolor": "#EBF0F8"
           }
          },
          "shapedefaults": {
           "line": {
            "color": "#2a3f5f"
           }
          },
          "ternary": {
           "aaxis": {
            "gridcolor": "#DFE8F3",
            "linecolor": "#A2B1C6",
            "ticks": ""
           },
           "baxis": {
            "gridcolor": "#DFE8F3",
            "linecolor": "#A2B1C6",
            "ticks": ""
           },
           "bgcolor": "white",
           "caxis": {
            "gridcolor": "#DFE8F3",
            "linecolor": "#A2B1C6",
            "ticks": ""
           }
          },
          "title": {
           "x": 0.05
          },
          "xaxis": {
           "automargin": true,
           "gridcolor": "#EBF0F8",
           "linecolor": "#EBF0F8",
           "ticks": "",
           "title": {
            "standoff": 15
           },
           "zerolinecolor": "#EBF0F8",
           "zerolinewidth": 2
          },
          "yaxis": {
           "automargin": true,
           "gridcolor": "#EBF0F8",
           "linecolor": "#EBF0F8",
           "ticks": "",
           "title": {
            "standoff": 15
           },
           "zerolinecolor": "#EBF0F8",
           "zerolinewidth": 2
          }
         }
        },
        "title": {
         "text": "Product path between seller and customer regions"
        },
        "width": 800,
        "xaxis": {
         "range": [
          0,
          66389.5
         ],
         "showgrid": false,
         "showticklabels": false,
         "zeroline": false
        }
       }
      }
     },
     "metadata": {},
     "output_type": "display_data"
    }
   ],
   "source": [
    "# Calculates the number of order by seller and customer states\n",
    "order_by_seller_customer_states = (\n",
    "    orders.merge(customers, how=\"left\", on=\"customer_id\")\n",
    "    .merge(order_items, how=\"left\", on=\"order_id\")\n",
    "    .merge(products, how=\"left\", on=\"product_id\")\n",
    "    .merge(sellers, how=\"left\", on=\"seller_id\")\n",
    "    .loc[:, [\"customer_state\", \"seller_state\", \"order_id\"]]\n",
    ")\n",
    "\n",
    "order_by_seller_customer_states[\n",
    "    \"is_customer_from_southeast\"\n",
    "] = order_by_seller_customer_states[\"customer_state\"].isin(southeast_states)\n",
    "order_by_seller_customer_states[\n",
    "    \"is_seller_from_southeast\"\n",
    "] = order_by_seller_customer_states[\"seller_state\"].isin(southeast_states)\n",
    "\n",
    "order_by_seller_customer_states[\"customer_seller_situation\"] = np.select(\n",
    "    [\n",
    "        order_by_seller_customer_states[\"is_customer_from_southeast\"]\n",
    "        & order_by_seller_customer_states[\"is_seller_from_southeast\"],\n",
    "        ~order_by_seller_customer_states[\"is_customer_from_southeast\"]\n",
    "        & order_by_seller_customer_states[\"is_seller_from_southeast\"],\n",
    "        order_by_seller_customer_states[\"is_customer_from_southeast\"]\n",
    "        & ~order_by_seller_customer_states[\"is_seller_from_southeast\"],\n",
    "        ~order_by_seller_customer_states[\"is_customer_from_southeast\"]\n",
    "        & ~order_by_seller_customer_states[\"is_seller_from_southeast\"],\n",
    "    ],\n",
    "    [\n",
    "        \"Only inside Southeast\",\n",
    "        \"From Southeast to another region\",\n",
    "        \"From another region to Southeast\",\n",
    "        \"Between another regions\",\n",
    "    ],\n",
    "    default=\"Between another regions\",\n",
    ")\n",
    "\n",
    "order_by_seller_customer_states = (\n",
    "    order_by_seller_customer_states.groupby(by=[\"customer_seller_situation\"])\n",
    "    .agg({\"order_id\": \"nunique\"})\n",
    "    .reset_index()\n",
    "    .rename(columns={\"order_id\": \"n_orders\"})\n",
    "    .sort_values(by=\"n_orders\", ascending=True)\n",
    ")\n",
    "\n",
    "\n",
    "fig = go.Figure(\n",
    "    data=[\n",
    "        go.Bar(\n",
    "            x=order_by_seller_customer_states[\"n_orders\"],\n",
    "            y=order_by_seller_customer_states[\"customer_seller_situation\"],\n",
    "            marker_color=[\"#a9a9a9\", \"#a9a9a9\", \"#a9a9a9\", \"#6e35ff\"],\n",
    "            orientation=\"h\",\n",
    "            text=order_by_seller_customer_states[\"n_orders\"],\n",
    "            texttemplate=\"%{text:,}\",\n",
    "            textposition=\"outside\",\n",
    "        )\n",
    "    ]\n",
    ")\n",
    "\n",
    "# Remove the xaxis values\n",
    "fig.update_xaxes(showticklabels=False)\n",
    "\n",
    "# Add the title\n",
    "fig.update_layout(\n",
    "    title_text=\"Product path between seller and customer regions\",\n",
    "    height=400,\n",
    "    width=800,\n",
    ")\n",
    "\n",
    "# Update axes limits to not cut off the first bar\n",
    "fig.update_xaxes(range=[0, 1.15 * order_by_seller_customer_states[\"n_orders\"].max()])\n",
    "\n",
    "# Removes the grid\n",
    "fig.update_xaxes(showgrid=False, zeroline=False)\n",
    "\n",
    "fig.show()"
   ]
  },
  {
   "cell_type": "markdown",
   "metadata": {},
   "source": [
    "The previous chart shows that the **Southeast** states have the **highest participation** both in the number of sellers and in the number of customers.\n",
    "\n",
    "Let's see the number of customers and sellers plotted on a map."
   ]
  },
  {
   "cell_type": "code",
   "execution_count": 94,
   "metadata": {},
   "outputs": [
    {
     "data": {
      "text/html": [
       "<div>\n",
       "<style scoped>\n",
       "    .dataframe tbody tr th:only-of-type {\n",
       "        vertical-align: middle;\n",
       "    }\n",
       "\n",
       "    .dataframe tbody tr th {\n",
       "        vertical-align: top;\n",
       "    }\n",
       "\n",
       "    .dataframe thead th {\n",
       "        text-align: right;\n",
       "    }\n",
       "</style>\n",
       "<table border=\"1\" class=\"dataframe\">\n",
       "  <thead>\n",
       "    <tr style=\"text-align: right;\">\n",
       "      <th></th>\n",
       "      <th>geolocation_zip_code_prefix</th>\n",
       "      <th>geolocation_state</th>\n",
       "      <th>geolocation_city</th>\n",
       "    </tr>\n",
       "  </thead>\n",
       "  <tbody>\n",
       "    <tr>\n",
       "      <th>0</th>\n",
       "      <td>1001</td>\n",
       "      <td>SP</td>\n",
       "      <td>sao paulo</td>\n",
       "    </tr>\n",
       "    <tr>\n",
       "      <th>1</th>\n",
       "      <td>1002</td>\n",
       "      <td>SP</td>\n",
       "      <td>sao paulo</td>\n",
       "    </tr>\n",
       "    <tr>\n",
       "      <th>2</th>\n",
       "      <td>1003</td>\n",
       "      <td>SP</td>\n",
       "      <td>sao paulo</td>\n",
       "    </tr>\n",
       "    <tr>\n",
       "      <th>3</th>\n",
       "      <td>1004</td>\n",
       "      <td>SP</td>\n",
       "      <td>sao paulo</td>\n",
       "    </tr>\n",
       "    <tr>\n",
       "      <th>4</th>\n",
       "      <td>1005</td>\n",
       "      <td>SP</td>\n",
       "      <td>sao paulo</td>\n",
       "    </tr>\n",
       "    <tr>\n",
       "      <th>...</th>\n",
       "      <td>...</td>\n",
       "      <td>...</td>\n",
       "      <td>...</td>\n",
       "    </tr>\n",
       "    <tr>\n",
       "      <th>19010</th>\n",
       "      <td>99960</td>\n",
       "      <td>RS</td>\n",
       "      <td>charrua</td>\n",
       "    </tr>\n",
       "    <tr>\n",
       "      <th>19011</th>\n",
       "      <td>99965</td>\n",
       "      <td>RS</td>\n",
       "      <td>agua santa</td>\n",
       "    </tr>\n",
       "    <tr>\n",
       "      <th>19012</th>\n",
       "      <td>99970</td>\n",
       "      <td>RS</td>\n",
       "      <td>ciriaco</td>\n",
       "    </tr>\n",
       "    <tr>\n",
       "      <th>19013</th>\n",
       "      <td>99980</td>\n",
       "      <td>RS</td>\n",
       "      <td>david canabarro</td>\n",
       "    </tr>\n",
       "    <tr>\n",
       "      <th>19014</th>\n",
       "      <td>99990</td>\n",
       "      <td>RS</td>\n",
       "      <td>muliterno</td>\n",
       "    </tr>\n",
       "  </tbody>\n",
       "</table>\n",
       "<p>19015 rows × 3 columns</p>\n",
       "</div>"
      ],
      "text/plain": [
       "       geolocation_zip_code_prefix geolocation_state geolocation_city\n",
       "0                             1001                SP        sao paulo\n",
       "1                             1002                SP        sao paulo\n",
       "2                             1003                SP        sao paulo\n",
       "3                             1004                SP        sao paulo\n",
       "4                             1005                SP        sao paulo\n",
       "...                            ...               ...              ...\n",
       "19010                        99960                RS          charrua\n",
       "19011                        99965                RS       agua santa\n",
       "19012                        99970                RS          ciriaco\n",
       "19013                        99980                RS  david canabarro\n",
       "19014                        99990                RS        muliterno\n",
       "\n",
       "[19015 rows x 3 columns]"
      ]
     },
     "execution_count": 94,
     "metadata": {},
     "output_type": "execute_result"
    }
   ],
   "source": [
    "# Creates a standardized dataframe with the geolocation data (1 zip code to 1 state/city, choosing the first one)\n",
    "city_state_by_zipcode = (\n",
    "    geolocation.groupby(by=[\"geolocation_zip_code_prefix\"])\n",
    "    .agg({\"geolocation_state\": \"first\", \"geolocation_city\": \"first\"})\n",
    "    .reset_index()\n",
    ")\n",
    "\n",
    "city_state_by_zipcode"
   ]
  },
  {
   "cell_type": "code",
   "execution_count": 96,
   "metadata": {},
   "outputs": [
    {
     "data": {
      "text/html": [
       "<div>\n",
       "<style scoped>\n",
       "    .dataframe tbody tr th:only-of-type {\n",
       "        vertical-align: middle;\n",
       "    }\n",
       "\n",
       "    .dataframe tbody tr th {\n",
       "        vertical-align: top;\n",
       "    }\n",
       "\n",
       "    .dataframe thead th {\n",
       "        text-align: right;\n",
       "    }\n",
       "</style>\n",
       "<table border=\"1\" class=\"dataframe\">\n",
       "  <thead>\n",
       "    <tr style=\"text-align: right;\">\n",
       "      <th></th>\n",
       "      <th>geolocation_state</th>\n",
       "      <th>geolocation_city</th>\n",
       "      <th>centroid_lat</th>\n",
       "      <th>centroid_lng</th>\n",
       "    </tr>\n",
       "  </thead>\n",
       "  <tbody>\n",
       "    <tr>\n",
       "      <th>0</th>\n",
       "      <td>AC</td>\n",
       "      <td>acrelândia</td>\n",
       "      <td>-10.059374</td>\n",
       "      <td>-67.037486</td>\n",
       "    </tr>\n",
       "    <tr>\n",
       "      <th>1</th>\n",
       "      <td>AC</td>\n",
       "      <td>assis brasil</td>\n",
       "      <td>-10.935106</td>\n",
       "      <td>-69.557831</td>\n",
       "    </tr>\n",
       "    <tr>\n",
       "      <th>2</th>\n",
       "      <td>AC</td>\n",
       "      <td>brasiléia</td>\n",
       "      <td>-11.005941</td>\n",
       "      <td>-68.749175</td>\n",
       "    </tr>\n",
       "    <tr>\n",
       "      <th>3</th>\n",
       "      <td>AC</td>\n",
       "      <td>bujari</td>\n",
       "      <td>-9.798651</td>\n",
       "      <td>-68.004247</td>\n",
       "    </tr>\n",
       "    <tr>\n",
       "      <th>4</th>\n",
       "      <td>AC</td>\n",
       "      <td>campinas</td>\n",
       "      <td>-22.861615</td>\n",
       "      <td>-47.064303</td>\n",
       "    </tr>\n",
       "    <tr>\n",
       "      <th>5</th>\n",
       "      <td>AC</td>\n",
       "      <td>capixaba</td>\n",
       "      <td>-10.571230</td>\n",
       "      <td>-67.674421</td>\n",
       "    </tr>\n",
       "    <tr>\n",
       "      <th>6</th>\n",
       "      <td>AC</td>\n",
       "      <td>cruzeiro do sul</td>\n",
       "      <td>-7.626200</td>\n",
       "      <td>-72.668881</td>\n",
       "    </tr>\n",
       "    <tr>\n",
       "      <th>7</th>\n",
       "      <td>AC</td>\n",
       "      <td>epitaciolandia</td>\n",
       "      <td>-11.020953</td>\n",
       "      <td>-68.729392</td>\n",
       "    </tr>\n",
       "    <tr>\n",
       "      <th>8</th>\n",
       "      <td>AC</td>\n",
       "      <td>feijo</td>\n",
       "      <td>-8.169583</td>\n",
       "      <td>-70.357297</td>\n",
       "    </tr>\n",
       "    <tr>\n",
       "      <th>9</th>\n",
       "      <td>AC</td>\n",
       "      <td>jordao</td>\n",
       "      <td>-9.191311</td>\n",
       "      <td>-71.950423</td>\n",
       "    </tr>\n",
       "  </tbody>\n",
       "</table>\n",
       "</div>"
      ],
      "text/plain": [
       "  geolocation_state geolocation_city  centroid_lat  centroid_lng\n",
       "0                AC       acrelândia    -10.059374    -67.037486\n",
       "1                AC     assis brasil    -10.935106    -69.557831\n",
       "2                AC        brasiléia    -11.005941    -68.749175\n",
       "3                AC           bujari     -9.798651    -68.004247\n",
       "4                AC         campinas    -22.861615    -47.064303\n",
       "5                AC         capixaba    -10.571230    -67.674421\n",
       "6                AC  cruzeiro do sul     -7.626200    -72.668881\n",
       "7                AC   epitaciolandia    -11.020953    -68.729392\n",
       "8                AC            feijo     -8.169583    -70.357297\n",
       "9                AC           jordao     -9.191311    -71.950423"
      ]
     },
     "execution_count": 96,
     "metadata": {},
     "output_type": "execute_result"
    }
   ],
   "source": [
    "# Calculates the centroid geolocation latitude and longitude by zipcode\n",
    "centroid_geolocation = (\n",
    "    geolocation[[\"geolocation_zip_code_prefix\", \"geolocation_lat\", \"geolocation_lng\"]]\n",
    "    .merge(\n",
    "        city_state_by_zipcode,\n",
    "        how=\"left\",\n",
    "        on=\"geolocation_zip_code_prefix\",\n",
    "    )\n",
    "    .groupby(by=[\"geolocation_state\", \"geolocation_city\"])\n",
    "    .agg({\"geolocation_lat\": \"mean\", \"geolocation_lng\": \"mean\"})\n",
    "    .reset_index()\n",
    "    .rename(\n",
    "        columns={\n",
    "            \"geolocation_lat\": \"centroid_lat\",\n",
    "            \"geolocation_lng\": \"centroid_lng\",\n",
    "        }\n",
    "    )\n",
    ")\n",
    "\n",
    "centroid_geolocation.head(10)"
   ]
  },
  {
   "cell_type": "code",
   "execution_count": 99,
   "metadata": {},
   "outputs": [
    {
     "data": {
      "text/html": [
       "<div>\n",
       "<style scoped>\n",
       "    .dataframe tbody tr th:only-of-type {\n",
       "        vertical-align: middle;\n",
       "    }\n",
       "\n",
       "    .dataframe tbody tr th {\n",
       "        vertical-align: top;\n",
       "    }\n",
       "\n",
       "    .dataframe thead th {\n",
       "        text-align: right;\n",
       "    }\n",
       "</style>\n",
       "<table border=\"1\" class=\"dataframe\">\n",
       "  <thead>\n",
       "    <tr style=\"text-align: right;\">\n",
       "      <th></th>\n",
       "      <th>0</th>\n",
       "      <th>1</th>\n",
       "      <th>2</th>\n",
       "      <th>3</th>\n",
       "      <th>4</th>\n",
       "    </tr>\n",
       "  </thead>\n",
       "  <tbody>\n",
       "    <tr>\n",
       "      <th>geolocation_state</th>\n",
       "      <td>AC</td>\n",
       "      <td>AC</td>\n",
       "      <td>AC</td>\n",
       "      <td>AC</td>\n",
       "      <td>AC</td>\n",
       "    </tr>\n",
       "    <tr>\n",
       "      <th>geolocation_city</th>\n",
       "      <td>brasiléia</td>\n",
       "      <td>cruzeiro do sul</td>\n",
       "      <td>epitaciolandia</td>\n",
       "      <td>manoel urbano</td>\n",
       "      <td>porto acre</td>\n",
       "    </tr>\n",
       "    <tr>\n",
       "      <th>centroid_lat</th>\n",
       "      <td>-11.005941</td>\n",
       "      <td>-7.6262</td>\n",
       "      <td>-11.020953</td>\n",
       "      <td>-8.838578</td>\n",
       "      <td>-9.59514</td>\n",
       "    </tr>\n",
       "    <tr>\n",
       "      <th>centroid_lng</th>\n",
       "      <td>-68.749175</td>\n",
       "      <td>-72.668881</td>\n",
       "      <td>-68.729392</td>\n",
       "      <td>-69.261385</td>\n",
       "      <td>-67.542961</td>\n",
       "    </tr>\n",
       "    <tr>\n",
       "      <th>n_customers</th>\n",
       "      <td>1</td>\n",
       "      <td>3</td>\n",
       "      <td>1</td>\n",
       "      <td>1</td>\n",
       "      <td>1</td>\n",
       "    </tr>\n",
       "  </tbody>\n",
       "</table>\n",
       "</div>"
      ],
      "text/plain": [
       "                           0                1               2              3  \\\n",
       "geolocation_state         AC               AC              AC             AC   \n",
       "geolocation_city   brasiléia  cruzeiro do sul  epitaciolandia  manoel urbano   \n",
       "centroid_lat      -11.005941          -7.6262      -11.020953      -8.838578   \n",
       "centroid_lng      -68.749175       -72.668881      -68.729392     -69.261385   \n",
       "n_customers                1                3               1              1   \n",
       "\n",
       "                            4  \n",
       "geolocation_state          AC  \n",
       "geolocation_city   porto acre  \n",
       "centroid_lat         -9.59514  \n",
       "centroid_lng       -67.542961  \n",
       "n_customers                 1  "
      ]
     },
     "execution_count": 99,
     "metadata": {},
     "output_type": "execute_result"
    }
   ],
   "source": [
    "customers_location = (\n",
    "    customers[[\"customer_unique_id\", \"customer_zip_code_prefix\"]]\n",
    "    .drop_duplicates(subset=[\"customer_unique_id\"])\n",
    "\n",
    "    .merge(\n",
    "        city_state_by_zipcode,\n",
    "        how=\"left\",\n",
    "        left_on=[\"customer_zip_code_prefix\"],\n",
    "        right_on=[\"geolocation_zip_code_prefix\"],\n",
    "    )\n",
    "    .merge(\n",
    "        centroid_geolocation, \n",
    "        how=\"left\", \n",
    "        on=[\"geolocation_state\", \"geolocation_city\"],\n",
    "    )\n",
    "    .groupby(by=[\"geolocation_state\", \"geolocation_city\", \"centroid_lat\", \"centroid_lng\"])\n",
    "    .agg({\"customer_unique_id\": \"count\"})\n",
    "    .reset_index()\n",
    "    .rename(columns={\"customer_unique_id\": \"n_customers\"})\n",
    ")\n",
    "\n",
    "customers_location.head(5).T"
   ]
  },
  {
   "cell_type": "code",
   "execution_count": 103,
   "metadata": {},
   "outputs": [
    {
     "data": {
      "text/html": [
       "<div>\n",
       "<style scoped>\n",
       "    .dataframe tbody tr th:only-of-type {\n",
       "        vertical-align: middle;\n",
       "    }\n",
       "\n",
       "    .dataframe tbody tr th {\n",
       "        vertical-align: top;\n",
       "    }\n",
       "\n",
       "    .dataframe thead th {\n",
       "        text-align: right;\n",
       "    }\n",
       "</style>\n",
       "<table border=\"1\" class=\"dataframe\">\n",
       "  <thead>\n",
       "    <tr style=\"text-align: right;\">\n",
       "      <th></th>\n",
       "      <th>0</th>\n",
       "      <th>1</th>\n",
       "      <th>2</th>\n",
       "      <th>3</th>\n",
       "      <th>4</th>\n",
       "    </tr>\n",
       "  </thead>\n",
       "  <tbody>\n",
       "    <tr>\n",
       "      <th>geolocation_state</th>\n",
       "      <td>AC</td>\n",
       "      <td>AM</td>\n",
       "      <td>BA</td>\n",
       "      <td>BA</td>\n",
       "      <td>BA</td>\n",
       "    </tr>\n",
       "    <tr>\n",
       "      <th>geolocation_city</th>\n",
       "      <td>rio branco</td>\n",
       "      <td>manaus</td>\n",
       "      <td>arraial d'ajuda</td>\n",
       "      <td>barro alto</td>\n",
       "      <td>eunapolis</td>\n",
       "    </tr>\n",
       "    <tr>\n",
       "      <th>centroid_lat</th>\n",
       "      <td>-9.966214</td>\n",
       "      <td>-3.079578</td>\n",
       "      <td>-16.400187</td>\n",
       "      <td>-11.769488</td>\n",
       "      <td>-16.369117</td>\n",
       "    </tr>\n",
       "    <tr>\n",
       "      <th>centroid_lng</th>\n",
       "      <td>-67.826626</td>\n",
       "      <td>-60.007107</td>\n",
       "      <td>-39.262747</td>\n",
       "      <td>-41.901853</td>\n",
       "      <td>-39.583835</td>\n",
       "    </tr>\n",
       "    <tr>\n",
       "      <th>n_sellers</th>\n",
       "      <td>1</td>\n",
       "      <td>1</td>\n",
       "      <td>1</td>\n",
       "      <td>1</td>\n",
       "      <td>1</td>\n",
       "    </tr>\n",
       "  </tbody>\n",
       "</table>\n",
       "</div>"
      ],
      "text/plain": [
       "                            0          1                2           3  \\\n",
       "geolocation_state          AC         AM               BA          BA   \n",
       "geolocation_city   rio branco     manaus  arraial d'ajuda  barro alto   \n",
       "centroid_lat        -9.966214  -3.079578       -16.400187  -11.769488   \n",
       "centroid_lng       -67.826626 -60.007107       -39.262747  -41.901853   \n",
       "n_sellers                   1          1                1           1   \n",
       "\n",
       "                           4  \n",
       "geolocation_state         BA  \n",
       "geolocation_city   eunapolis  \n",
       "centroid_lat      -16.369117  \n",
       "centroid_lng      -39.583835  \n",
       "n_sellers                  1  "
      ]
     },
     "execution_count": 103,
     "metadata": {},
     "output_type": "execute_result"
    }
   ],
   "source": [
    "sellers_location = (\n",
    "    sellers[[\"seller_id\", \"seller_zip_code_prefix\"]]\n",
    "    .drop_duplicates(subset=[\"seller_id\"])\n",
    "    .merge(\n",
    "        city_state_by_zipcode,\n",
    "        how=\"left\",\n",
    "        left_on=[\"seller_zip_code_prefix\"],\n",
    "        right_on=[\"geolocation_zip_code_prefix\"],\n",
    "    )\n",
    "    .merge(\n",
    "        centroid_geolocation, \n",
    "        how=\"left\", \n",
    "        on=[\"geolocation_state\", \"geolocation_city\"],\n",
    "    )\n",
    "    .groupby(by=[\"geolocation_state\", \"geolocation_city\", \"centroid_lat\", \"centroid_lng\"])\n",
    "    .agg({\"seller_id\": \"count\"})\n",
    "    .reset_index()\n",
    "    .rename(columns={\"seller_id\": \"n_sellers\"})\n",
    ")\n",
    "\n",
    "sellers_location.head(5).T"
   ]
  },
  {
   "cell_type": "code",
   "execution_count": 179,
   "metadata": {},
   "outputs": [
    {
     "data": {
      "application/vnd.plotly.v1+json": {
       "config": {
        "plotlyServerURL": "https://plot.ly"
       },
       "data": [
        {
         "colorbar": {
          "outlinecolor": "rgba(0,0,0,0)"
         },
         "customdata": [
          [
           "brasiléia",
           "AC"
          ],
          [
           "cruzeiro do sul",
           "AC"
          ],
          [
           "epitaciolandia",
           "AC"
          ],
          [
           "manoel urbano",
           "AC"
          ],
          [
           "porto acre",
           "AC"
          ],
          [
           "rio branco",
           "AC"
          ],
          [
           "senador guiomard",
           "AC"
          ],
          [
           "xapuri",
           "AC"
          ],
          [
           "agua branca",
           "AL"
          ],
          [
           "anadia",
           "AL"
          ],
          [
           "arapiraca",
           "AL"
          ],
          [
           "atalaia",
           "AL"
          ],
          [
           "barra de  santo antônio",
           "AL"
          ],
          [
           "barra de sao miguel",
           "AL"
          ],
          [
           "batalha",
           "AL"
          ],
          [
           "belem",
           "AL"
          ],
          [
           "boca da mata",
           "AL"
          ],
          [
           "cacimbinhas",
           "AL"
          ],
          [
           "cajueiro",
           "AL"
          ],
          [
           "campo alegre",
           "AL"
          ],
          [
           "canapi",
           "AL"
          ],
          [
           "coite do noia",
           "AL"
          ],
          [
           "colônia leopoldina",
           "AL"
          ],
          [
           "coruripe",
           "AL"
          ],
          [
           "delmiro gouveia",
           "AL"
          ],
          [
           "dois riachos",
           "AL"
          ],
          [
           "feliz deserto",
           "AL"
          ],
          [
           "girau do ponciano",
           "AL"
          ],
          [
           "ibateguara",
           "AL"
          ],
          [
           "igaci",
           "AL"
          ],
          [
           "igreja nova",
           "AL"
          ],
          [
           "inhapi",
           "AL"
          ],
          [
           "jequia da praia",
           "AL"
          ],
          [
           "junqueiro",
           "AL"
          ],
          [
           "lagoa da canoa",
           "AL"
          ],
          [
           "maceio",
           "AL"
          ],
          [
           "maceió",
           "AL"
          ],
          [
           "mar vermelho",
           "AL"
          ],
          [
           "maragogi",
           "AL"
          ],
          [
           "maravilha",
           "AL"
          ],
          [
           "marechal deodoro",
           "AL"
          ],
          [
           "maribondo",
           "AL"
          ],
          [
           "mata grande",
           "AL"
          ],
          [
           "matriz de camaragibe",
           "AL"
          ],
          [
           "monteiropolis",
           "AL"
          ],
          [
           "murici",
           "AL"
          ],
          [
           "novo lino",
           "AL"
          ],
          [
           "olho d'agua das flores",
           "AL"
          ],
          [
           "palmeira dos indios",
           "AL"
          ],
          [
           "paripueira",
           "AL"
          ],
          [
           "passo de camaragibe",
           "AL"
          ],
          [
           "pau d'arco",
           "AL"
          ],
          [
           "paulo jacinto",
           "AL"
          ],
          [
           "penedo",
           "AL"
          ],
          [
           "piacabucu",
           "AL"
          ],
          [
           "pilar",
           "AL"
          ],
          [
           "pindoba",
           "AL"
          ],
          [
           "porto calvo",
           "AL"
          ],
          [
           "porto de pedras",
           "AL"
          ],
          [
           "rio largo",
           "AL"
          ],
          [
           "santa luzia do norte",
           "AL"
          ],
          [
           "santana do ipanema",
           "AL"
          ],
          [
           "santana do mundaú",
           "AL"
          ],
          [
           "sao jose da laje",
           "AL"
          ],
          [
           "sao jose da tapera",
           "AL"
          ],
          [
           "sao miguel dos campos",
           "AL"
          ],
          [
           "satuba",
           "AL"
          ],
          [
           "são brás",
           "AL"
          ],
          [
           "são luís do quitunde",
           "AL"
          ],
          [
           "são miguel dos campos",
           "AL"
          ],
          [
           "são sebastião",
           "AL"
          ],
          [
           "tanque d'arca",
           "AL"
          ],
          [
           "taquarana",
           "AL"
          ],
          [
           "teotonio vilela",
           "AL"
          ],
          [
           "traipu",
           "AL"
          ],
          [
           "uniao dos palmares",
           "AL"
          ],
          [
           "vicosa",
           "AL"
          ],
          [
           "coari",
           "AM"
          ],
          [
           "humaita",
           "AM"
          ],
          [
           "itacoatiara",
           "AM"
          ],
          [
           "manaus",
           "AM"
          ],
          [
           "urucurituba",
           "AM"
          ],
          [
           "laranjal do jari",
           "AP"
          ],
          [
           "macapa",
           "AP"
          ],
          [
           "macapá",
           "AP"
          ],
          [
           "oiapoque",
           "AP"
          ],
          [
           "porto grande",
           "AP"
          ],
          [
           "santana",
           "AP"
          ],
          [
           "vitoria do jari",
           "AP"
          ],
          [
           "abaira",
           "BA"
          ],
          [
           "abare",
           "BA"
          ],
          [
           "abrantes",
           "BA"
          ],
          [
           "acajutiba",
           "BA"
          ],
          [
           "adustina",
           "BA"
          ],
          [
           "alagoinhas",
           "BA"
          ],
          [
           "alcobaca",
           "BA"
          ],
          [
           "amargosa",
           "BA"
          ],
          [
           "amelia rodrigues",
           "BA"
          ],
          [
           "america dourada",
           "BA"
          ],
          [
           "anage",
           "BA"
          ],
          [
           "andaraí",
           "BA"
          ],
          [
           "andorinha",
           "BA"
          ],
          [
           "angical",
           "BA"
          ],
          [
           "anguera",
           "BA"
          ],
          [
           "antonio cardoso",
           "BA"
          ],
          [
           "antonio goncalves",
           "BA"
          ],
          [
           "apuarema",
           "BA"
          ],
          [
           "aracatu",
           "BA"
          ],
          [
           "araci",
           "BA"
          ],
          [
           "aramari",
           "BA"
          ],
          [
           "arataca",
           "BA"
          ],
          [
           "arraial d'ajuda",
           "BA"
          ],
          [
           "baianopolis",
           "BA"
          ],
          [
           "baixa grande",
           "BA"
          ],
          [
           "banzae",
           "BA"
          ],
          [
           "barra",
           "BA"
          ],
          [
           "barra da estiva",
           "BA"
          ],
          [
           "barra do choca",
           "BA"
          ],
          [
           "barra do mendes",
           "BA"
          ],
          [
           "barra do tarrachil",
           "BA"
          ],
          [
           "barreiras",
           "BA"
          ],
          [
           "barro alto",
           "BA"
          ],
          [
           "barro preto",
           "BA"
          ],
          [
           "barrocas",
           "BA"
          ],
          [
           "belmonte",
           "BA"
          ],
          [
           "belo campo",
           "BA"
          ],
          [
           "biritinga",
           "BA"
          ],
          [
           "bom jesus da lapa",
           "BA"
          ],
          [
           "bom jesus da serra",
           "BA"
          ],
          [
           "boninal",
           "BA"
          ],
          [
           "bonito",
           "BA"
          ],
          [
           "boquira",
           "BA"
          ],
          [
           "botupora",
           "BA"
          ],
          [
           "brejoes",
           "BA"
          ],
          [
           "brejolandia",
           "BA"
          ],
          [
           "brotas de macaúbas",
           "BA"
          ],
          [
           "brumado",
           "BA"
          ],
          [
           "buerarema",
           "BA"
          ],
          [
           "buritirama",
           "BA"
          ],
          [
           "cabaceiras do paraguaçu",
           "BA"
          ],
          [
           "cachoeira",
           "BA"
          ],
          [
           "cacule",
           "BA"
          ],
          [
           "caem",
           "BA"
          ],
          [
           "caetanos",
           "BA"
          ],
          [
           "caetite",
           "BA"
          ],
          [
           "cairu",
           "BA"
          ],
          [
           "caldeirao grande",
           "BA"
          ],
          [
           "camacan",
           "BA"
          ],
          [
           "camacari",
           "BA"
          ],
          [
           "camamu",
           "BA"
          ],
          [
           "camaçari",
           "BA"
          ],
          [
           "campo alegre de lourdes",
           "BA"
          ],
          [
           "campo formoso",
           "BA"
          ],
          [
           "canarana",
           "BA"
          ],
          [
           "canavieiras",
           "BA"
          ],
          [
           "candeal",
           "BA"
          ],
          [
           "candeias",
           "BA"
          ],
          [
           "candido sales",
           "BA"
          ],
          [
           "cansancao",
           "BA"
          ],
          [
           "canudos",
           "BA"
          ],
          [
           "canápolis",
           "BA"
          ],
          [
           "capela do alto alegre",
           "BA"
          ],
          [
           "capim grosso",
           "BA"
          ],
          [
           "caraibas",
           "BA"
          ],
          [
           "caravelas",
           "BA"
          ],
          [
           "carinhanha",
           "BA"
          ],
          [
           "carnaiba do sertao",
           "BA"
          ],
          [
           "casa nova",
           "BA"
          ],
          [
           "castro alves",
           "BA"
          ],
          [
           "catu",
           "BA"
          ],
          [
           "catu de abrantes",
           "BA"
          ],
          [
           "caturama",
           "BA"
          ],
          [
           "central",
           "BA"
          ],
          [
           "chorrocho",
           "BA"
          ],
          [
           "cicero dantas",
           "BA"
          ],
          [
           "cipó",
           "BA"
          ],
          [
           "coaraci",
           "BA"
          ],
          [
           "cocos",
           "BA"
          ],
          [
           "conceicao da feira",
           "BA"
          ],
          [
           "conceicao do coite",
           "BA"
          ],
          [
           "conceição do almeida",
           "BA"
          ],
          [
           "conceição do jacuípe",
           "BA"
          ],
          [
           "conde",
           "BA"
          ],
          [
           "condeuba",
           "BA"
          ],
          [
           "coracao de maria",
           "BA"
          ],
          [
           "cordeiros",
           "BA"
          ],
          [
           "coribe",
           "BA"
          ],
          [
           "coronel joao sa",
           "BA"
          ],
          [
           "correntina",
           "BA"
          ],
          [
           "cotegipe",
           "BA"
          ],
          [
           "cravolandia",
           "BA"
          ],
          [
           "crisopolis",
           "BA"
          ],
          [
           "cristopolis",
           "BA"
          ],
          [
           "cruz das almas",
           "BA"
          ],
          [
           "curaca",
           "BA"
          ],
          [
           "dario meira",
           "BA"
          ],
          [
           "dias d'ávila",
           "BA"
          ],
          [
           "dom basílio",
           "BA"
          ],
          [
           "dom macedo costa",
           "BA"
          ],
          [
           "elisio medrado",
           "BA"
          ],
          [
           "entre rios",
           "BA"
          ],
          [
           "erico cardoso",
           "BA"
          ],
          [
           "esplanada",
           "BA"
          ],
          [
           "euclides da cunha",
           "BA"
          ],
          [
           "eunapolis",
           "BA"
          ],
          [
           "feira de santana",
           "BA"
          ],
          [
           "filadelfia",
           "BA"
          ],
          [
           "formosa do rio preto",
           "BA"
          ],
          [
           "fátima",
           "BA"
          ],
          [
           "gandu",
           "BA"
          ],
          [
           "gentio do ouro",
           "BA"
          ],
          [
           "gongogi",
           "BA"
          ],
          [
           "governador mangabeira",
           "BA"
          ],
          [
           "guanambi",
           "BA"
          ],
          [
           "guaratinga",
           "BA"
          ],
          [
           "heliópolis",
           "BA"
          ],
          [
           "iacu",
           "BA"
          ],
          [
           "ibiajara",
           "BA"
          ],
          [
           "ibiassuce",
           "BA"
          ],
          [
           "ibicarai",
           "BA"
          ],
          [
           "ibicoara",
           "BA"
          ],
          [
           "ibipeba",
           "BA"
          ],
          [
           "ibipitanga",
           "BA"
          ],
          [
           "ibiraja",
           "BA"
          ],
          [
           "ibirapua",
           "BA"
          ],
          [
           "ibirataia",
           "BA"
          ],
          [
           "ibitiara",
           "BA"
          ],
          [
           "ibitira",
           "BA"
          ],
          [
           "ibitita",
           "BA"
          ],
          [
           "ibotirama",
           "BA"
          ],
          [
           "ichu",
           "BA"
          ],
          [
           "igapora",
           "BA"
          ],
          [
           "igrapiuna",
           "BA"
          ],
          [
           "iguai",
           "BA"
          ],
          [
           "ilheus",
           "BA"
          ],
          [
           "inhambupe",
           "BA"
          ],
          [
           "ipecaeta",
           "BA"
          ],
          [
           "ipiaú",
           "BA"
          ],
          [
           "ipira",
           "BA"
          ],
          [
           "ipupiara",
           "BA"
          ],
          [
           "iramaia",
           "BA"
          ],
          [
           "iraquara",
           "BA"
          ],
          [
           "irara",
           "BA"
          ],
          [
           "irece",
           "BA"
          ],
          [
           "itabela",
           "BA"
          ],
          [
           "itaberaba",
           "BA"
          ],
          [
           "itabuna",
           "BA"
          ],
          [
           "itacare",
           "BA"
          ],
          [
           "itacaré",
           "BA"
          ],
          [
           "itagi",
           "BA"
          ],
          [
           "itagiba",
           "BA"
          ],
          [
           "itagimirim",
           "BA"
          ],
          [
           "itaguacu da bahia",
           "BA"
          ],
          [
           "itaju do colonia",
           "BA"
          ],
          [
           "itajuipe",
           "BA"
          ],
          [
           "itamaraju",
           "BA"
          ],
          [
           "itamari",
           "BA"
          ],
          [
           "itambé",
           "BA"
          ],
          [
           "itamira",
           "BA"
          ],
          [
           "itanhem",
           "BA"
          ],
          [
           "itaparica",
           "BA"
          ],
          [
           "itape",
           "BA"
          ],
          [
           "itapetinga",
           "BA"
          ],
          [
           "itapicuru",
           "BA"
          ],
          [
           "itapitanga",
           "BA"
          ],
          [
           "itarantim",
           "BA"
          ],
          [
           "itatim",
           "BA"
          ],
          [
           "itirucu",
           "BA"
          ],
          [
           "itiuba",
           "BA"
          ],
          [
           "itororo",
           "BA"
          ],
          [
           "ituacu",
           "BA"
          ],
          [
           "itubera",
           "BA"
          ],
          [
           "jacaraci",
           "BA"
          ],
          [
           "jacobina",
           "BA"
          ],
          [
           "jaguaquara",
           "BA"
          ],
          [
           "jaguarari",
           "BA"
          ],
          [
           "jandaira",
           "BA"
          ],
          [
           "jequie",
           "BA"
          ],
          [
           "jeremoabo",
           "BA"
          ],
          [
           "jiquiriçá",
           "BA"
          ],
          [
           "joao dourado",
           "BA"
          ],
          [
           "juazeiro",
           "BA"
          ],
          [
           "jucurucu",
           "BA"
          ],
          [
           "jussari",
           "BA"
          ],
          [
           "jussiape",
           "BA"
          ],
          [
           "lagoa real",
           "BA"
          ],
          [
           "lamarao",
           "BA"
          ],
          [
           "lauro de freitas",
           "BA"
          ],
          [
           "lencois",
           "BA"
          ],
          [
           "livramento de nossa senhora",
           "BA"
          ],
          [
           "luis eduardo magalhaes",
           "BA"
          ],
          [
           "macaubas",
           "BA"
          ],
          [
           "madre de deus",
           "BA"
          ],
          [
           "maiquinique",
           "BA"
          ],
          [
           "mairi",
           "BA"
          ],
          [
           "mansidao",
           "BA"
          ],
          [
           "maracas",
           "BA"
          ],
          [
           "maragogipe",
           "BA"
          ],
          [
           "mascote",
           "BA"
          ],
          [
           "mata de sao joao",
           "BA"
          ],
          [
           "medeiros neto",
           "BA"
          ],
          [
           "miguel calmon",
           "BA"
          ],
          [
           "milagres",
           "BA"
          ],
          [
           "monte gordo",
           "BA"
          ],
          [
           "monte santo",
           "BA"
          ],
          [
           "morpara",
           "BA"
          ],
          [
           "morro de sao paulo",
           "BA"
          ],
          [
           "morro do chapeu",
           "BA"
          ],
          [
           "mucuge",
           "BA"
          ],
          [
           "mucuri",
           "BA"
          ],
          [
           "mundo novo",
           "BA"
          ],
          [
           "muquem do sao francisco",
           "BA"
          ],
          [
           "muritiba",
           "BA"
          ],
          [
           "mutuipe",
           "BA"
          ],
          [
           "nazare",
           "BA"
          ],
          [
           "nova canaã",
           "BA"
          ],
          [
           "nova fatima",
           "BA"
          ],
          [
           "nova redenção",
           "BA"
          ],
          [
           "nova soure",
           "BA"
          ],
          [
           "nova vicosa",
           "BA"
          ],
          [
           "olindina",
           "BA"
          ],
          [
           "oliveira dos brejinhos",
           "BA"
          ],
          [
           "palmeiras",
           "BA"
          ],
          [
           "paramirim",
           "BA"
          ],
          [
           "paripiranga",
           "BA"
          ],
          [
           "pau brasil",
           "BA"
          ],
          [
           "paulo afonso",
           "BA"
          ],
          [
           "pedrao",
           "BA"
          ],
          [
           "piata",
           "BA"
          ],
          [
           "pilao arcado",
           "BA"
          ],
          [
           "pindai",
           "BA"
          ],
          [
           "pindobacu",
           "BA"
          ],
          [
           "pintadas",
           "BA"
          ],
          [
           "pirai do norte",
           "BA"
          ],
          [
           "piripa",
           "BA"
          ],
          [
           "piritiba",
           "BA"
          ],
          [
           "planaltino",
           "BA"
          ],
          [
           "planalto",
           "BA"
          ],
          [
           "pocoes",
           "BA"
          ],
          [
           "pojuca",
           "BA"
          ],
          [
           "ponto novo",
           "BA"
          ],
          [
           "porto seguro",
           "BA"
          ],
          [
           "posto da mata",
           "BA"
          ],
          [
           "potiragua",
           "BA"
          ],
          [
           "prado",
           "BA"
          ],
          [
           "presidente dutra",
           "BA"
          ],
          [
           "presidente janio quadros",
           "BA"
          ],
          [
           "presidente tancredo neves",
           "BA"
          ],
          [
           "queimadas",
           "BA"
          ],
          [
           "quijingue",
           "BA"
          ],
          [
           "quixabeira",
           "BA"
          ],
          [
           "remanso",
           "BA"
          ],
          [
           "retirolandia",
           "BA"
          ],
          [
           "riachao das neves",
           "BA"
          ],
          [
           "riachao do jacuipe",
           "BA"
          ],
          [
           "riacho de santana",
           "BA"
          ],
          [
           "ribeira do amparo",
           "BA"
          ],
          [
           "ribeira do pombal",
           "BA"
          ],
          [
           "rio de contas",
           "BA"
          ],
          [
           "rio do antonio",
           "BA"
          ],
          [
           "rio do pires",
           "BA"
          ],
          [
           "rio real",
           "BA"
          ],
          [
           "rodelas",
           "BA"
          ],
          [
           "ruy barbosa",
           "BA"
          ],
          [
           "salinas da margarida",
           "BA"
          ],
          [
           "salobro",
           "BA"
          ],
          [
           "salvador",
           "BA"
          ],
          [
           "santa brigida",
           "BA"
          ],
          [
           "santa cruz cabrália",
           "BA"
          ],
          [
           "santa ines",
           "BA"
          ],
          [
           "santa maria da vitoria",
           "BA"
          ],
          [
           "santa terezinha",
           "BA"
          ],
          [
           "santaluz",
           "BA"
          ],
          [
           "santana",
           "BA"
          ],
          [
           "santana do sobrado",
           "BA"
          ],
          [
           "santo amaro",
           "BA"
          ],
          [
           "santo antonio de jesus",
           "BA"
          ],
          [
           "santo estevao",
           "BA"
          ],
          [
           "sao desiderio",
           "BA"
          ],
          [
           "sao domingos",
           "BA"
          ],
          [
           "sao felipe",
           "BA"
          ],
          [
           "sao felix",
           "BA"
          ],
          [
           "sao felix do coribe",
           "BA"
          ],
          [
           "sao jose da vitoria",
           "BA"
          ],
          [
           "sao miguel das matas",
           "BA"
          ],
          [
           "sao sebastiao do passe",
           "BA"
          ],
          [
           "sapeacu",
           "BA"
          ],
          [
           "saubara",
           "BA"
          ],
          [
           "saude",
           "BA"
          ],
          [
           "seabra",
           "BA"
          ],
          [
           "senhor do bonfim",
           "BA"
          ],
          [
           "sento se",
           "BA"
          ],
          [
           "serra do ramalho",
           "BA"
          ],
          [
           "serra dourada",
           "BA"
          ],
          [
           "serrinha",
           "BA"
          ],
          [
           "serrolandia",
           "BA"
          ],
          [
           "simoes filho",
           "BA"
          ],
          [
           "sobradinho",
           "BA"
          ],
          [
           "sátiro dias",
           "BA"
          ],
          [
           "são francisco do conde",
           "BA"
          ],
          [
           "sítio do quinto",
           "BA"
          ],
          [
           "tabocas do brejo velho",
           "BA"
          ],
          [
           "tanhaçu",
           "BA"
          ],
          [
           "tanque novo",
           "BA"
          ],
          [
           "tapiramuta",
           "BA"
          ],
          [
           "teixeira de freitas",
           "BA"
          ],
          [
           "teodoro sampaio",
           "BA"
          ],
          [
           "teofilandia",
           "BA"
          ],
          [
           "teolandia",
           "BA"
          ],
          [
           "trancoso",
           "BA"
          ],
          [
           "tucano",
           "BA"
          ],
          [
           "uaua",
           "BA"
          ],
          [
           "ubaira",
           "BA"
          ],
          [
           "ubaitaba",
           "BA"
          ],
          [
           "ubata",
           "BA"
          ],
          [
           "uibai",
           "BA"
          ],
          [
           "umburanas",
           "BA"
          ],
          [
           "una",
           "BA"
          ],
          [
           "urandi",
           "BA"
          ],
          [
           "urucuca",
           "BA"
          ],
          [
           "utinga",
           "BA"
          ],
          [
           "valenca",
           "BA"
          ],
          [
           "valente",
           "BA"
          ],
          [
           "varzea do poco",
           "BA"
          ],
          [
           "varzea nova",
           "BA"
          ],
          [
           "varzedo",
           "BA"
          ],
          [
           "vera cruz",
           "BA"
          ],
          [
           "vereda",
           "BA"
          ],
          [
           "vitoria da conquista",
           "BA"
          ],
          [
           "vitória da conquista",
           "BA"
          ],
          [
           "wagner",
           "BA"
          ],
          [
           "wanderley",
           "BA"
          ],
          [
           "wenceslau guimaraes",
           "BA"
          ],
          [
           "xique-xique",
           "BA"
          ],
          [
           "abaiara",
           "CE"
          ],
          [
           "acarau",
           "CE"
          ],
          [
           "acopiara",
           "CE"
          ],
          [
           "aiuaba",
           "CE"
          ],
          [
           "altaneira",
           "CE"
          ],
          [
           "alto santo",
           "CE"
          ],
          [
           "amanari",
           "CE"
          ],
          [
           "amontada",
           "CE"
          ],
          [
           "antonina do norte",
           "CE"
          ],
          [
           "apuiares",
           "CE"
          ],
          [
           "aquiraz",
           "CE"
          ],
          [
           "aracati",
           "CE"
          ],
          [
           "aracoiaba",
           "CE"
          ],
          [
           "araripe",
           "CE"
          ],
          [
           "aratuba",
           "CE"
          ],
          [
           "arneiroz",
           "CE"
          ],
          [
           "assare",
           "CE"
          ],
          [
           "aurora",
           "CE"
          ],
          [
           "banabuiu",
           "CE"
          ],
          [
           "barbalha",
           "CE"
          ],
          [
           "barreira",
           "CE"
          ],
          [
           "barro",
           "CE"
          ],
          [
           "baturite",
           "CE"
          ],
          [
           "beberibe",
           "CE"
          ],
          [
           "bela cruz",
           "CE"
          ],
          [
           "boa viagem",
           "CE"
          ],
          [
           "brejo santo",
           "CE"
          ],
          [
           "camocim",
           "CE"
          ],
          [
           "campos sales",
           "CE"
          ],
          [
           "caninde",
           "CE"
          ],
          [
           "capistrano",
           "CE"
          ],
          [
           "caridade",
           "CE"
          ],
          [
           "carire",
           "CE"
          ],
          [
           "caririacu",
           "CE"
          ],
          [
           "carius",
           "CE"
          ],
          [
           "carnaubal",
           "CE"
          ],
          [
           "cascavel",
           "CE"
          ],
          [
           "catarina",
           "CE"
          ],
          [
           "caucaia",
           "CE"
          ],
          [
           "cedro",
           "CE"
          ],
          [
           "chaval",
           "CE"
          ],
          [
           "chorozinho",
           "CE"
          ],
          [
           "coreau",
           "CE"
          ],
          [
           "crateus",
           "CE"
          ],
          [
           "crato",
           "CE"
          ],
          [
           "croatá",
           "CE"
          ],
          [
           "cruz",
           "CE"
          ],
          [
           "deputado irapuan pinheiro",
           "CE"
          ],
          [
           "erere",
           "CE"
          ],
          [
           "eusebio",
           "CE"
          ],
          [
           "flores",
           "CE"
          ],
          [
           "forquilha",
           "CE"
          ],
          [
           "fortaleza",
           "CE"
          ],
          [
           "fortim",
           "CE"
          ],
          [
           "frecheirinha",
           "CE"
          ],
          [
           "granja",
           "CE"
          ],
          [
           "groairas",
           "CE"
          ],
          [
           "guaiuba",
           "CE"
          ],
          [
           "guaraciaba do norte",
           "CE"
          ],
          [
           "guassusse",
           "CE"
          ],
          [
           "hidrolandia",
           "CE"
          ],
          [
           "horizonte",
           "CE"
          ],
          [
           "ibiapina",
           "CE"
          ],
          [
           "ibicuitinga",
           "CE"
          ],
          [
           "icapui",
           "CE"
          ],
          [
           "ico",
           "CE"
          ],
          [
           "iguatu",
           "CE"
          ],
          [
           "independencia",
           "CE"
          ],
          [
           "ipaporanga",
           "CE"
          ],
          [
           "ipaumirim",
           "CE"
          ],
          [
           "ipu",
           "CE"
          ],
          [
           "ipueiras",
           "CE"
          ],
          [
           "iracema",
           "CE"
          ],
          [
           "iraucuba",
           "CE"
          ],
          [
           "itaicaba",
           "CE"
          ],
          [
           "itaitinga",
           "CE"
          ],
          [
           "itapaje",
           "CE"
          ],
          [
           "itapipoca",
           "CE"
          ],
          [
           "itapiuna",
           "CE"
          ],
          [
           "itarema",
           "CE"
          ],
          [
           "jaguaribara",
           "CE"
          ],
          [
           "jaguaribe",
           "CE"
          ],
          [
           "jaguaruana",
           "CE"
          ],
          [
           "jardim",
           "CE"
          ],
          [
           "jijoca de jericoacoara",
           "CE"
          ],
          [
           "juazeiro do norte",
           "CE"
          ],
          [
           "jucas",
           "CE"
          ],
          [
           "lages",
           "CE"
          ],
          [
           "lagoa do mato",
           "CE"
          ],
          [
           "lavras da mangabeira",
           "CE"
          ],
          [
           "limoeiro do norte",
           "CE"
          ],
          [
           "madalena",
           "CE"
          ],
          [
           "maracanau",
           "CE"
          ],
          [
           "maracanaú",
           "CE"
          ],
          [
           "maranguape",
           "CE"
          ],
          [
           "marco",
           "CE"
          ],
          [
           "massape",
           "CE"
          ],
          [
           "mauriti",
           "CE"
          ],
          [
           "meruoca",
           "CE"
          ],
          [
           "milagres",
           "CE"
          ],
          [
           "milha",
           "CE"
          ],
          [
           "miraima",
           "CE"
          ],
          [
           "missao velha",
           "CE"
          ],
          [
           "mombaca",
           "CE"
          ],
          [
           "monsenhor tabosa",
           "CE"
          ],
          [
           "morada nova",
           "CE"
          ],
          [
           "morrinhos",
           "CE"
          ],
          [
           "mucambo",
           "CE"
          ],
          [
           "nova olinda",
           "CE"
          ],
          [
           "nova russas",
           "CE"
          ],
          [
           "novo oriente",
           "CE"
          ],
          [
           "ocara",
           "CE"
          ],
          [
           "oros",
           "CE"
          ],
          [
           "pacajus",
           "CE"
          ],
          [
           "pacatuba",
           "CE"
          ],
          [
           "pacoti",
           "CE"
          ],
          [
           "pacuja",
           "CE"
          ],
          [
           "palhano",
           "CE"
          ],
          [
           "paracuru",
           "CE"
          ],
          [
           "paraipaba",
           "CE"
          ],
          [
           "parambu",
           "CE"
          ],
          [
           "pedra branca",
           "CE"
          ],
          [
           "penaforte",
           "CE"
          ],
          [
           "pentecoste",
           "CE"
          ],
          [
           "pereiro",
           "CE"
          ],
          [
           "pindoretama",
           "CE"
          ],
          [
           "pires ferreira",
           "CE"
          ],
          [
           "porteiras",
           "CE"
          ],
          [
           "potengi",
           "CE"
          ],
          [
           "quixada",
           "CE"
          ],
          [
           "quixelô",
           "CE"
          ],
          [
           "quixeramobim",
           "CE"
          ],
          [
           "quixere",
           "CE"
          ],
          [
           "redencao",
           "CE"
          ],
          [
           "reriutaba",
           "CE"
          ],
          [
           "russas",
           "CE"
          ],
          [
           "saboeiro",
           "CE"
          ],
          [
           "santa quiteria",
           "CE"
          ],
          [
           "santana do acarau",
           "CE"
          ],
          [
           "santana do cariri",
           "CE"
          ],
          [
           "sao benedito",
           "CE"
          ],
          [
           "sao goncalo do amarante",
           "CE"
          ],
          [
           "sao luis do curu",
           "CE"
          ],
          [
           "senador pompeu",
           "CE"
          ],
          [
           "sobral",
           "CE"
          ],
          [
           "solonopole",
           "CE"
          ],
          [
           "sucesso",
           "CE"
          ],
          [
           "tabuleiro do norte",
           "CE"
          ],
          [
           "taperuaba",
           "CE"
          ],
          [
           "taua",
           "CE"
          ],
          [
           "tiangua",
           "CE"
          ],
          [
           "trairi",
           "CE"
          ],
          [
           "tururu",
           "CE"
          ],
          [
           "ubajara",
           "CE"
          ],
          [
           "uruburetama",
           "CE"
          ],
          [
           "uruoca",
           "CE"
          ],
          [
           "varjota",
           "CE"
          ],
          [
           "vicosa do ceara",
           "CE"
          ],
          [
           "várzea alegre",
           "CE"
          ],
          [
           "brasilia",
           "DF"
          ],
          [
           "brasília",
           "DF"
          ],
          [
           "brazlandia",
           "DF"
          ],
          [
           "candangolandia",
           "DF"
          ],
          [
           "candangolândia",
           "DF"
          ],
          [
           "ceilandia",
           "DF"
          ],
          [
           "cruzeiro",
           "DF"
          ],
          [
           "guara",
           "DF"
          ],
          [
           "lago norte",
           "DF"
          ],
          [
           "samambaia",
           "DF"
          ],
          [
           "santa maria",
           "DF"
          ],
          [
           "sobradinho",
           "DF"
          ],
          [
           "taguatinga",
           "DF"
          ],
          [
           "afonso claudio",
           "ES"
          ],
          [
           "alegre",
           "ES"
          ],
          [
           "alfredo chaves",
           "ES"
          ],
          [
           "alto rio novo",
           "ES"
          ],
          [
           "anchieta",
           "ES"
          ],
          [
           "apiaca",
           "ES"
          ],
          [
           "arace",
           "ES"
          ],
          [
           "aracruz",
           "ES"
          ],
          [
           "araguaia",
           "ES"
          ],
          [
           "atilio vivacqua",
           "ES"
          ],
          [
           "baixo guandu",
           "ES"
          ],
          [
           "barra de sao francisco",
           "ES"
          ],
          [
           "boa esperanca",
           "ES"
          ],
          [
           "bom jesus do norte",
           "ES"
          ],
          [
           "brejetuba",
           "ES"
          ],
          [
           "cachoeiro de itapemirim",
           "ES"
          ],
          [
           "cariacica",
           "ES"
          ],
          [
           "castelo",
           "ES"
          ],
          [
           "celina",
           "ES"
          ],
          [
           "colatina",
           "ES"
          ],
          [
           "conceicao da barra",
           "ES"
          ],
          [
           "conceicao do castelo",
           "ES"
          ],
          [
           "conceição da barra",
           "ES"
          ],
          [
           "divino de sao lourenco",
           "ES"
          ],
          [
           "domingos martins",
           "ES"
          ],
          [
           "dores do rio preto",
           "ES"
          ],
          [
           "ecoporanga",
           "ES"
          ],
          [
           "fundao",
           "ES"
          ],
          [
           "governador lindenberg",
           "ES"
          ],
          [
           "guacui",
           "ES"
          ],
          [
           "guarapari",
           "ES"
          ],
          [
           "ibatiba",
           "ES"
          ],
          [
           "ibiracu",
           "ES"
          ],
          [
           "iconha",
           "ES"
          ],
          [
           "irupi",
           "ES"
          ],
          [
           "itaguacu",
           "ES"
          ],
          [
           "itaipava",
           "ES"
          ],
          [
           "itaoca",
           "ES"
          ],
          [
           "itapemirim",
           "ES"
          ],
          [
           "itarana",
           "ES"
          ],
          [
           "iuna",
           "ES"
          ],
          [
           "jacigua",
           "ES"
          ],
          [
           "jaguaré",
           "ES"
          ],
          [
           "jeronimo monteiro",
           "ES"
          ],
          [
           "joao neiva",
           "ES"
          ],
          [
           "laranja da terra",
           "ES"
          ],
          [
           "linhares",
           "ES"
          ],
          [
           "mantenopolis",
           "ES"
          ],
          [
           "marataizes",
           "ES"
          ],
          [
           "marechal floriano",
           "ES"
          ],
          [
           "marilandia",
           "ES"
          ],
          [
           "mimoso do sul",
           "ES"
          ],
          [
           "montanha",
           "ES"
          ],
          [
           "mucurici",
           "ES"
          ],
          [
           "muniz freire",
           "ES"
          ],
          [
           "muqui",
           "ES"
          ],
          [
           "nova venecia",
           "ES"
          ],
          [
           "novo brasil",
           "ES"
          ],
          [
           "pacotuba",
           "ES"
          ],
          [
           "pancas",
           "ES"
          ],
          [
           "pedro canario",
           "ES"
          ],
          [
           "pinheiros",
           "ES"
          ],
          [
           "piuma",
           "ES"
          ],
          [
           "ponto belo",
           "ES"
          ],
          [
           "praia grande",
           "ES"
          ],
          [
           "presidente kennedy",
           "ES"
          ],
          [
           "quilometro 14 do mutum",
           "ES"
          ],
          [
           "rio bananal",
           "ES"
          ],
          [
           "rio novo do sul",
           "ES"
          ],
          [
           "santa leopoldina",
           "ES"
          ],
          [
           "santa maria de jetiba",
           "ES"
          ],
          [
           "santa teresa",
           "ES"
          ],
          [
           "santo antonio do canaa",
           "ES"
          ],
          [
           "sao domingos do norte",
           "ES"
          ],
          [
           "sao joao do sobrado",
           "ES"
          ],
          [
           "sao jose do calcado",
           "ES"
          ],
          [
           "sao mateus",
           "ES"
          ],
          [
           "sao roque do canaa",
           "ES"
          ],
          [
           "serra",
           "ES"
          ],
          [
           "sooretama",
           "ES"
          ],
          [
           "são gabriel da palha",
           "ES"
          ],
          [
           "são mateus",
           "ES"
          ],
          [
           "vargem alta",
           "ES"
          ],
          [
           "vargem grande do soturno",
           "ES"
          ],
          [
           "venda nova do imigrante",
           "ES"
          ],
          [
           "viana",
           "ES"
          ],
          [
           "vila nelita",
           "ES"
          ],
          [
           "vila valerio",
           "ES"
          ],
          [
           "vila velha",
           "ES"
          ],
          [
           "vitoria",
           "ES"
          ],
          [
           "vitória",
           "ES"
          ],
          [
           "água doce do norte",
           "ES"
          ],
          [
           "águia branca",
           "ES"
          ],
          [
           "abadiania",
           "GO"
          ],
          [
           "acreuna",
           "GO"
          ],
          [
           "agua fria de goias",
           "GO"
          ],
          [
           "agua limpa",
           "GO"
          ],
          [
           "aguas lindas de goias",
           "GO"
          ],
          [
           "alexânia",
           "GO"
          ],
          [
           "alto horizonte",
           "GO"
          ],
          [
           "alto paraíso de goiás",
           "GO"
          ],
          [
           "alvorada do norte",
           "GO"
          ],
          [
           "americano do brasil",
           "GO"
          ],
          [
           "anapolis",
           "GO"
          ],
          [
           "anicuns",
           "GO"
          ],
          [
           "anápolis",
           "GO"
          ],
          [
           "aparecida de goiania",
           "GO"
          ],
          [
           "aparecida de goiânia",
           "GO"
          ],
          [
           "aporé",
           "GO"
          ],
          [
           "aragarcas",
           "GO"
          ],
          [
           "aragoiania",
           "GO"
          ],
          [
           "araguapaz",
           "GO"
          ],
          [
           "arenopolis",
           "GO"
          ],
          [
           "aruanã",
           "GO"
          ],
          [
           "aurilandia",
           "GO"
          ],
          [
           "barro alto",
           "GO"
          ],
          [
           "bela vista de goias",
           "GO"
          ],
          [
           "bom jardim de goiás",
           "GO"
          ],
          [
           "bom jesus",
           "GO"
          ],
          [
           "bonfinópolis",
           "GO"
          ],
          [
           "brazabrantes",
           "GO"
          ],
          [
           "britania",
           "GO"
          ],
          [
           "buriti alegre",
           "GO"
          ],
          [
           "cabeceiras",
           "GO"
          ],
          [
           "cachoeira alta",
           "GO"
          ],
          [
           "cachoeira dourada",
           "GO"
          ],
          [
           "cacu",
           "GO"
          ],
          [
           "caiaponia",
           "GO"
          ],
          [
           "caldas novas",
           "GO"
          ],
          [
           "campinacu",
           "GO"
          ],
          [
           "campinorte",
           "GO"
          ],
          [
           "campo alegre de goias",
           "GO"
          ],
          [
           "campos belos",
           "GO"
          ],
          [
           "campos verdes",
           "GO"
          ],
          [
           "carmo do rio verde",
           "GO"
          ],
          [
           "castelandia",
           "GO"
          ],
          [
           "catalao",
           "GO"
          ],
          [
           "catalão",
           "GO"
          ],
          [
           "cavalcante",
           "GO"
          ],
          [
           "ceres",
           "GO"
          ],
          [
           "cezarina",
           "GO"
          ],
          [
           "chapadao do ceu",
           "GO"
          ],
          [
           "cidade ocidental",
           "GO"
          ],
          [
           "cocalzinho de goias",
           "GO"
          ],
          [
           "corumba de goias",
           "GO"
          ],
          [
           "corumbaiba",
           "GO"
          ],
          [
           "cristalina",
           "GO"
          ],
          [
           "crixas",
           "GO"
          ],
          [
           "crominia",
           "GO"
          ],
          [
           "cumari",
           "GO"
          ],
          [
           "damianopolis",
           "GO"
          ],
          [
           "diorama",
           "GO"
          ],
          [
           "divinópolis de goiás",
           "GO"
          ],
          [
           "doverlandia",
           "GO"
          ],
          [
           "edeia",
           "GO"
          ],
          [
           "fazenda nova",
           "GO"
          ],
          [
           "firminopolis",
           "GO"
          ],
          [
           "flores de goias",
           "GO"
          ],
          [
           "formosa",
           "GO"
          ],
          [
           "formoso",
           "GO"
          ],
          [
           "goianapolis",
           "GO"
          ],
          [
           "goiandira",
           "GO"
          ],
          [
           "goianesia",
           "GO"
          ],
          [
           "goiania",
           "GO"
          ],
          [
           "goianira",
           "GO"
          ],
          [
           "goianésia",
           "GO"
          ],
          [
           "goias",
           "GO"
          ],
          [
           "goiatuba",
           "GO"
          ],
          [
           "goiânia",
           "GO"
          ],
          [
           "guapo",
           "GO"
          ],
          [
           "hidrolandia",
           "GO"
          ],
          [
           "hidrolina",
           "GO"
          ],
          [
           "iaciara",
           "GO"
          ],
          [
           "inaciolandia",
           "GO"
          ],
          [
           "indiara",
           "GO"
          ],
          [
           "inhumas",
           "GO"
          ],
          [
           "ipameri",
           "GO"
          ],
          [
           "ipiranga de goias",
           "GO"
          ],
          [
           "iporá",
           "GO"
          ],
          [
           "itaberai",
           "GO"
          ],
          [
           "itaguacu",
           "GO"
          ],
          [
           "itaguari",
           "GO"
          ],
          [
           "itaguaru",
           "GO"
          ],
          [
           "itaja",
           "GO"
          ],
          [
           "itapaci",
           "GO"
          ],
          [
           "itapirapua",
           "GO"
          ],
          [
           "itapuranga",
           "GO"
          ],
          [
           "itumbiara",
           "GO"
          ],
          [
           "jandaia",
           "GO"
          ],
          [
           "jaraguá",
           "GO"
          ],
          [
           "jardim abc de goias",
           "GO"
          ],
          [
           "jatai",
           "GO"
          ],
          [
           "jataí",
           "GO"
          ],
          [
           "jaupaci",
           "GO"
          ],
          [
           "jesupolis",
           "GO"
          ],
          [
           "joviania",
           "GO"
          ],
          [
           "jussara",
           "GO"
          ],
          [
           "lagoa santa",
           "GO"
          ],
          [
           "leopoldo de bulhoes",
           "GO"
          ],
          [
           "luziania",
           "GO"
          ],
          [
           "luziânia",
           "GO"
          ],
          [
           "mairipotaba",
           "GO"
          ],
          [
           "mambaí",
           "GO"
          ],
          [
           "mara rosa",
           "GO"
          ],
          [
           "matrincha",
           "GO"
          ],
          [
           "maurilandia",
           "GO"
          ],
          [
           "mimoso de goiás",
           "GO"
          ],
          [
           "minacu",
           "GO"
          ],
          [
           "mineiros",
           "GO"
          ],
          [
           "montividiu do norte",
           "GO"
          ],
          [
           "morrinhos",
           "GO"
          ],
          [
           "morro agudo de goiás",
           "GO"
          ],
          [
           "mossamedes",
           "GO"
          ],
          [
           "mozarlândia",
           "GO"
          ],
          [
           "mundo novo",
           "GO"
          ],
          [
           "mutunopolis",
           "GO"
          ],
          [
           "nazario",
           "GO"
          ],
          [
           "neropolis",
           "GO"
          ],
          [
           "niquelandia",
           "GO"
          ],
          [
           "nova america",
           "GO"
          ],
          [
           "nova aurora",
           "GO"
          ],
          [
           "nova crixas",
           "GO"
          ],
          [
           "nova roma",
           "GO"
          ],
          [
           "nova veneza",
           "GO"
          ],
          [
           "novo gama",
           "GO"
          ],
          [
           "novo planalto",
           "GO"
          ],
          [
           "orizona",
           "GO"
          ],
          [
           "ouro verde de goias",
           "GO"
          ],
          [
           "ouvidor",
           "GO"
          ],
          [
           "padre bernardo",
           "GO"
          ],
          [
           "palmeiras de goiás",
           "GO"
          ],
          [
           "palminópolis",
           "GO"
          ],
          [
           "paranaiguara",
           "GO"
          ],
          [
           "parauna",
           "GO"
          ],
          [
           "piracanjuba",
           "GO"
          ],
          [
           "piranhas",
           "GO"
          ],
          [
           "pirenopolis",
           "GO"
          ],
          [
           "pires do rio",
           "GO"
          ],
          [
           "planaltina",
           "GO"
          ],
          [
           "pontalina",
           "GO"
          ],
          [
           "porangatu",
           "GO"
          ],
          [
           "portelandia",
           "GO"
          ],
          [
           "posse",
           "GO"
          ],
          [
           "quirinopolis",
           "GO"
          ],
          [
           "rianapolis",
           "GO"
          ],
          [
           "rio verde",
           "GO"
          ],
          [
           "rubiataba",
           "GO"
          ],
          [
           "sanclerlandia",
           "GO"
          ],
          [
           "santa cruz de goias",
           "GO"
          ],
          [
           "santa fe de goias",
           "GO"
          ],
          [
           "santa helena de goias",
           "GO"
          ],
          [
           "santa rita do araguaia",
           "GO"
          ],
          [
           "santo antonio de goias",
           "GO"
          ],
          [
           "santo antonio do descoberto",
           "GO"
          ],
          [
           "sao joao d'alianca",
           "GO"
          ],
          [
           "sao joao da parauna",
           "GO"
          ],
          [
           "sao luiz do norte",
           "GO"
          ],
          [
           "sao miguel do araguaia",
           "GO"
          ],
          [
           "sao patricio",
           "GO"
          ],
          [
           "sao simao",
           "GO"
          ],
          [
           "senador canedo",
           "GO"
          ],
          [
           "serranópolis",
           "GO"
          ],
          [
           "silvania",
           "GO"
          ],
          [
           "simolândia",
           "GO"
          ],
          [
           "são luís de montes belos",
           "GO"
          ],
          [
           "teresina de goias",
           "GO"
          ],
          [
           "trindade",
           "GO"
          ],
          [
           "trombas",
           "GO"
          ],
          [
           "turvania",
           "GO"
          ],
          [
           "turvelandia",
           "GO"
          ],
          [
           "uruacu",
           "GO"
          ],
          [
           "uruana",
           "GO"
          ],
          [
           "urutai",
           "GO"
          ],
          [
           "valparaiso de goias",
           "GO"
          ],
          [
           "vianopolis",
           "GO"
          ],
          [
           "vicentinópolis",
           "GO"
          ],
          [
           "águas lindas de goiás",
           "GO"
          ],
          [
           "acailandia",
           "MA"
          ],
          [
           "alcântara",
           "MA"
          ],
          [
           "alto alegre do maranhao",
           "MA"
          ],
          [
           "alto alegre do pindare",
           "MA"
          ],
          [
           "alto parnaiba",
           "MA"
          ],
          [
           "amapa do maranhao",
           "MA"
          ],
          [
           "araguana",
           "MA"
          ],
          [
           "arame",
           "MA"
          ],
          [
           "arari",
           "MA"
          ],
          [
           "bacabal",
           "MA"
          ],
          [
           "bacuri",
           "MA"
          ],
          [
           "balsas",
           "MA"
          ],
          [
           "barra do corda",
           "MA"
          ],
          [
           "barreirinhas",
           "MA"
          ],
          [
           "bela vista do maranhao",
           "MA"
          ],
          [
           "benedito leite",
           "MA"
          ],
          [
           "bequimão",
           "MA"
          ],
          [
           "boa vista do gurupi",
           "MA"
          ],
          [
           "bom jardim",
           "MA"
          ],
          [
           "bom jesus das selvas",
           "MA"
          ],
          [
           "brejo",
           "MA"
          ],
          [
           "buriti",
           "MA"
          ],
          [
           "buriticupu",
           "MA"
          ],
          [
           "cajapio",
           "MA"
          ],
          [
           "cajari",
           "MA"
          ],
          [
           "campestre do maranhao",
           "MA"
          ],
          [
           "candido mendes",
           "MA"
          ],
          [
           "cantanhede",
           "MA"
          ],
          [
           "capinzal do norte",
           "MA"
          ],
          [
           "carolina",
           "MA"
          ],
          [
           "carutapera",
           "MA"
          ],
          [
           "caxias",
           "MA"
          ],
          [
           "cedral",
           "MA"
          ],
          [
           "centro novo do maranhao",
           "MA"
          ],
          [
           "chapadinha",
           "MA"
          ],
          [
           "cidelandia",
           "MA"
          ],
          [
           "codo",
           "MA"
          ],
          [
           "coelho neto",
           "MA"
          ],
          [
           "colinas",
           "MA"
          ],
          [
           "coroata",
           "MA"
          ],
          [
           "cururupu",
           "MA"
          ],
          [
           "dom pedro",
           "MA"
          ],
          [
           "esperantinopolis",
           "MA"
          ],
          [
           "estreito",
           "MA"
          ],
          [
           "formosa da serra negra",
           "MA"
          ],
          [
           "fortuna",
           "MA"
          ],
          [
           "goncalves dias",
           "MA"
          ],
          [
           "governador eugenio barros",
           "MA"
          ],
          [
           "grajau",
           "MA"
          ],
          [
           "guimaraes",
           "MA"
          ],
          [
           "humberto de campos",
           "MA"
          ],
          [
           "icatu",
           "MA"
          ],
          [
           "imperatriz",
           "MA"
          ],
          [
           "itapecuru mirim",
           "MA"
          ],
          [
           "jatoba",
           "MA"
          ],
          [
           "joao lisboa",
           "MA"
          ],
          [
           "joselandia",
           "MA"
          ],
          [
           "lago da pedra",
           "MA"
          ],
          [
           "lago verde",
           "MA"
          ],
          [
           "loreto",
           "MA"
          ],
          [
           "magalhaes de almeida",
           "MA"
          ],
          [
           "maracacume",
           "MA"
          ],
          [
           "maranhãozinho",
           "MA"
          ],
          [
           "mata roma",
           "MA"
          ],
          [
           "matoes",
           "MA"
          ],
          [
           "matoes do norte",
           "MA"
          ],
          [
           "miranda do norte",
           "MA"
          ],
          [
           "mirinzal",
           "MA"
          ],
          [
           "moncao",
           "MA"
          ],
          [
           "nova olinda do maranhao",
           "MA"
          ],
          [
           "olho d'água das cunhãs",
           "MA"
          ],
          [
           "paco do lumiar",
           "MA"
          ],
          [
           "paraibano",
           "MA"
          ],
          [
           "parnarama",
           "MA"
          ],
          [
           "passagem franca",
           "MA"
          ],
          [
           "pastos bons",
           "MA"
          ],
          [
           "paulino neves",
           "MA"
          ],
          [
           "pedreiras",
           "MA"
          ],
          [
           "peri mirim",
           "MA"
          ],
          [
           "pindare mirim",
           "MA"
          ],
          [
           "pinheiro",
           "MA"
          ],
          [
           "pio xii",
           "MA"
          ],
          [
           "pirapemas",
           "MA"
          ],
          [
           "pocao de pedras",
           "MA"
          ],
          [
           "porto franco",
           "MA"
          ],
          [
           "presidente dutra",
           "MA"
          ],
          [
           "presidente juscelino",
           "MA"
          ],
          [
           "presidente medici",
           "MA"
          ],
          [
           "rosario",
           "MA"
          ],
          [
           "santa helena",
           "MA"
          ],
          [
           "santa ines",
           "MA"
          ],
          [
           "santa inês",
           "MA"
          ],
          [
           "santa luzia",
           "MA"
          ],
          [
           "santa luzia do parua",
           "MA"
          ],
          [
           "santa quitéria do maranhão",
           "MA"
          ],
          [
           "santa rita",
           "MA"
          ],
          [
           "sao benedito do rio preto",
           "MA"
          ],
          [
           "sao bento",
           "MA"
          ],
          [
           "sao bernardo",
           "MA"
          ],
          [
           "sao domingos do maranhao",
           "MA"
          ],
          [
           "sao francisco do brejao",
           "MA"
          ],
          [
           "sao joao batista",
           "MA"
          ],
          [
           "sao joao do paraiso",
           "MA"
          ],
          [
           "sao joao dos patos",
           "MA"
          ],
          [
           "sao jose de ribamar",
           "MA"
          ],
          [
           "sao luis",
           "MA"
          ],
          [
           "sao mateus do maranhao",
           "MA"
          ],
          [
           "sao pedro da agua branca",
           "MA"
          ],
          [
           "sao vicente ferrer",
           "MA"
          ],
          [
           "satubinha",
           "MA"
          ],
          [
           "senador la rocque",
           "MA"
          ],
          [
           "sitio novo",
           "MA"
          ],
          [
           "sucupira do norte",
           "MA"
          ],
          [
           "são luís",
           "MA"
          ],
          [
           "timon",
           "MA"
          ],
          [
           "tutoia",
           "MA"
          ],
          [
           "urbano santos",
           "MA"
          ],
          [
           "vargem grande",
           "MA"
          ],
          [
           "viana",
           "MA"
          ],
          [
           "vitorino freire",
           "MA"
          ],
          [
           "vitória do mearim",
           "MA"
          ],
          [
           "ze doca",
           "MA"
          ],
          [
           "abadia dos dourados",
           "MG"
          ],
          [
           "abaete",
           "MG"
          ],
          [
           "abre campo",
           "MG"
          ],
          [
           "acaiaca",
           "MG"
          ],
          [
           "agua comprida",
           "MG"
          ],
          [
           "aguas vermelhas",
           "MG"
          ],
          [
           "aimores",
           "MG"
          ],
          [
           "aiuruoca",
           "MG"
          ],
          [
           "alagoa",
           "MG"
          ],
          [
           "alem paraiba",
           "MG"
          ],
          [
           "alexandrita",
           "MG"
          ],
          [
           "alfenas",
           "MG"
          ],
          [
           "alfredo vasconcelos",
           "MG"
          ],
          [
           "almenara",
           "MG"
          ],
          [
           "alpercata",
           "MG"
          ],
          [
           "alpinopolis",
           "MG"
          ],
          [
           "alterosa",
           "MG"
          ],
          [
           "alto caparao",
           "MG"
          ],
          [
           "alto jequitiba",
           "MG"
          ],
          [
           "alto rio doce",
           "MG"
          ],
          [
           "alvarenga",
           "MG"
          ],
          [
           "alvinopolis",
           "MG"
          ],
          [
           "amparo da serra",
           "MG"
          ],
          [
           "andradas",
           "MG"
          ],
          [
           "andrelandia",
           "MG"
          ],
          [
           "andrequice",
           "MG"
          ],
          [
           "angustura",
           "MG"
          ],
          [
           "antonio carlos",
           "MG"
          ],
          [
           "antonio pereira",
           "MG"
          ],
          [
           "antonio prado de minas",
           "MG"
          ],
          [
           "antunes",
           "MG"
          ],
          [
           "aracitaba",
           "MG"
          ],
          [
           "aracuai",
           "MG"
          ],
          [
           "araguari",
           "MG"
          ],
          [
           "arantina",
           "MG"
          ],
          [
           "araponga",
           "MG"
          ],
          [
           "arapora",
           "MG"
          ],
          [
           "arapua",
           "MG"
          ],
          [
           "araujos",
           "MG"
          ],
          [
           "araxa",
           "MG"
          ],
          [
           "araxá",
           "MG"
          ],
          [
           "arceburgo",
           "MG"
          ],
          [
           "arcos",
           "MG"
          ],
          [
           "areado",
           "MG"
          ],
          [
           "arinos",
           "MG"
          ],
          [
           "astolfo dutra",
           "MG"
          ],
          [
           "ataléia",
           "MG"
          ],
          [
           "azurita",
           "MG"
          ],
          [
           "açucena",
           "MG"
          ],
          [
           "baependi",
           "MG"
          ],
          [
           "baguari",
           "MG"
          ],
          [
           "baldim",
           "MG"
          ],
          [
           "bambui",
           "MG"
          ],
          [
           "bandeira",
           "MG"
          ],
          [
           "bandeira do sul",
           "MG"
          ],
          [
           "barao de cocais",
           "MG"
          ],
          [
           "barbacena",
           "MG"
          ],
          [
           "barra longa",
           "MG"
          ],
          [
           "barroso",
           "MG"
          ],
          [
           "bela vista de minas",
           "MG"
          ],
          [
           "belo horizonte",
           "MG"
          ],
          [
           "belo oriente",
           "MG"
          ],
          [
           "belo vale",
           "MG"
          ],
          [
           "berilo",
           "MG"
          ],
          [
           "berizal",
           "MG"
          ],
          [
           "bertópolis",
           "MG"
          ],
          [
           "betim",
           "MG"
          ],
          [
           "bias fortes",
           "MG"
          ],
          [
           "bicas",
           "MG"
          ],
          [
           "boa esperanca",
           "MG"
          ],
          [
           "bocaiuva",
           "MG"
          ],
          [
           "bom despacho",
           "MG"
          ],
          [
           "bom jardim de minas",
           "MG"
          ],
          [
           "bom jesus da penha",
           "MG"
          ],
          [
           "bom jesus do amparo",
           "MG"
          ],
          [
           "bom jesus do galho",
           "MG"
          ],
          [
           "bom repouso",
           "MG"
          ],
          [
           "bom sucesso",
           "MG"
          ],
          [
           "bonfim",
           "MG"
          ],
          [
           "bonfinopolis de minas",
           "MG"
          ],
          [
           "bonito de minas",
           "MG"
          ],
          [
           "borda da mata",
           "MG"
          ],
          [
           "botelhos",
           "MG"
          ],
          [
           "bras pires",
           "MG"
          ],
          [
           "brasilandia de minas",
           "MG"
          ],
          [
           "brasilia de minas",
           "MG"
          ],
          [
           "brasopolis",
           "MG"
          ],
          [
           "braunas",
           "MG"
          ],
          [
           "brejo bonito",
           "MG"
          ],
          [
           "brumadinho",
           "MG"
          ],
          [
           "bueno brandao",
           "MG"
          ],
          [
           "buenópolis",
           "MG"
          ],
          [
           "bugre",
           "MG"
          ],
          [
           "buritis",
           "MG"
          ],
          [
           "buritizeiro",
           "MG"
          ],
          [
           "cabeceira grande",
           "MG"
          ],
          [
           "cabo verde",
           "MG"
          ],
          [
           "cachoeira da prata",
           "MG"
          ],
          [
           "cachoeira de minas",
           "MG"
          ],
          [
           "cachoeira de pajeú",
           "MG"
          ],
          [
           "cachoeira do brumado",
           "MG"
          ],
          [
           "cachoeira do campo",
           "MG"
          ],
          [
           "cachoeira dourada",
           "MG"
          ],
          [
           "caetanopolis",
           "MG"
          ],
          [
           "caete",
           "MG"
          ],
          [
           "caiana",
           "MG"
          ],
          [
           "cajuri",
           "MG"
          ],
          [
           "caldas",
           "MG"
          ],
          [
           "camacho",
           "MG"
          ],
          [
           "camanducaia",
           "MG"
          ],
          [
           "cambui",
           "MG"
          ],
          [
           "cambuquira",
           "MG"
          ],
          [
           "campanario",
           "MG"
          ],
          [
           "campanha",
           "MG"
          ],
          [
           "campestre",
           "MG"
          ],
          [
           "campina verde",
           "MG"
          ],
          [
           "campo alegre de minas",
           "MG"
          ],
          [
           "campo azul",
           "MG"
          ],
          [
           "campo belo",
           "MG"
          ],
          [
           "campo do meio",
           "MG"
          ],
          [
           "campo florido",
           "MG"
          ],
          [
           "campos altos",
           "MG"
          ],
          [
           "campos gerais",
           "MG"
          ],
          [
           "canaa",
           "MG"
          ],
          [
           "canapolis",
           "MG"
          ],
          [
           "candeias",
           "MG"
          ],
          [
           "cantagalo",
           "MG"
          ],
          [
           "caparao",
           "MG"
          ],
          [
           "capela nova",
           "MG"
          ],
          [
           "capelinha",
           "MG"
          ],
          [
           "capetinga",
           "MG"
          ],
          [
           "capim branco",
           "MG"
          ],
          [
           "capinopolis",
           "MG"
          ],
          [
           "capitao eneas",
           "MG"
          ],
          [
           "capitolio",
           "MG"
          ],
          [
           "capitão andrade",
           "MG"
          ],
          [
           "caputira",
           "MG"
          ],
          [
           "carai",
           "MG"
          ],
          [
           "carandai",
           "MG"
          ],
          [
           "carangola",
           "MG"
          ],
          [
           "caratinga",
           "MG"
          ],
          [
           "carbonita",
           "MG"
          ],
          [
           "careacu",
           "MG"
          ],
          [
           "careaçu",
           "MG"
          ],
          [
           "carlos chagas",
           "MG"
          ],
          [
           "carmesia",
           "MG"
          ],
          [
           "carmo da cachoeira",
           "MG"
          ],
          [
           "carmo da mata",
           "MG"
          ],
          [
           "carmo de minas",
           "MG"
          ],
          [
           "carmo do cajuru",
           "MG"
          ],
          [
           "carmo do paranaíba",
           "MG"
          ],
          [
           "carmo do rio claro",
           "MG"
          ],
          [
           "carmopolis de minas",
           "MG"
          ],
          [
           "carneirinho",
           "MG"
          ],
          [
           "carrancas",
           "MG"
          ],
          [
           "carvalhopolis",
           "MG"
          ],
          [
           "cascalho rico",
           "MG"
          ],
          [
           "cassia",
           "MG"
          ],
          [
           "cataguases",
           "MG"
          ],
          [
           "catas altas",
           "MG"
          ],
          [
           "caxambu",
           "MG"
          ],
          [
           "cedro do abaete",
           "MG"
          ],
          [
           "central de santa helena",
           "MG"
          ],
          [
           "centralina",
           "MG"
          ],
          [
           "chalé",
           "MG"
          ],
          [
           "chapada do norte",
           "MG"
          ],
          [
           "chapada gaucha",
           "MG"
          ],
          [
           "chaveslandia",
           "MG"
          ],
          [
           "chácara",
           "MG"
          ],
          [
           "claraval",
           "MG"
          ],
          [
           "claro dos pocoes",
           "MG"
          ],
          [
           "claudio",
           "MG"
          ],
          [
           "cocais",
           "MG"
          ],
          [
           "coimbra",
           "MG"
          ],
          [
           "coluna",
           "MG"
          ],
          [
           "comercinho",
           "MG"
          ],
          [
           "conceicao da aparecida",
           "MG"
          ],
          [
           "conceicao da ibitipoca",
           "MG"
          ],
          [
           "conceicao das alagoas",
           "MG"
          ],
          [
           "conceicao das pedras",
           "MG"
          ],
          [
           "conceicao do mato dentro",
           "MG"
          ],
          [
           "conceicao do para",
           "MG"
          ],
          [
           "conceicao do rio verde",
           "MG"
          ],
          [
           "conceicao dos ouros",
           "MG"
          ],
          [
           "confins",
           "MG"
          ],
          [
           "congonhal",
           "MG"
          ],
          [
           "congonhas",
           "MG"
          ],
          [
           "conquista",
           "MG"
          ],
          [
           "conselheiro lafaiete",
           "MG"
          ],
          [
           "conselheiro pena",
           "MG"
          ],
          [
           "contagem",
           "MG"
          ],
          [
           "coracao de jesus",
           "MG"
          ],
          [
           "corinto",
           "MG"
          ],
          [
           "coroaci",
           "MG"
          ],
          [
           "coromandel",
           "MG"
          ],
          [
           "coronel fabriciano",
           "MG"
          ],
          [
           "coronel murta",
           "MG"
          ],
          [
           "coronel pacheco",
           "MG"
          ],
          [
           "corrego danta",
           "MG"
          ],
          [
           "corrego fundo",
           "MG"
          ],
          [
           "crisolita",
           "MG"
          ],
          [
           "cristais",
           "MG"
          ],
          [
           "cristalia",
           "MG"
          ],
          [
           "cristiano otoni",
           "MG"
          ],
          [
           "cristina",
           "MG"
          ],
          [
           "crucilandia",
           "MG"
          ],
          [
           "cruzeiro da fortaleza",
           "MG"
          ],
          [
           "cruzilia",
           "MG"
          ],
          [
           "curvelo",
           "MG"
          ],
          [
           "datas",
           "MG"
          ],
          [
           "delfim moreira",
           "MG"
          ],
          [
           "delfinopolis",
           "MG"
          ],
          [
           "descoberto",
           "MG"
          ],
          [
           "desembargador otoni",
           "MG"
          ],
          [
           "desterro de entre rios",
           "MG"
          ],
          [
           "desterro do melo",
           "MG"
          ],
          [
           "diamantina",
           "MG"
          ],
          [
           "diogo de vasconcelos",
           "MG"
          ],
          [
           "dionisio",
           "MG"
          ],
          [
           "divinesia",
           "MG"
          ],
          [
           "divino",
           "MG"
          ],
          [
           "divino das laranjeiras",
           "MG"
          ],
          [
           "divinolandia de minas",
           "MG"
          ],
          [
           "divinopolis",
           "MG"
          ],
          [
           "divisa alegre",
           "MG"
          ],
          [
           "divisa nova",
           "MG"
          ],
          [
           "dom cavati",
           "MG"
          ],
          [
           "dom joaquim",
           "MG"
          ],
          [
           "dom silverio",
           "MG"
          ],
          [
           "dom vicoso",
           "MG"
          ],
          [
           "dona euzebia",
           "MG"
          ],
          [
           "dores de campos",
           "MG"
          ],
          [
           "dores de guanhaes",
           "MG"
          ],
          [
           "dores do indaia",
           "MG"
          ],
          [
           "durande",
           "MG"
          ],
          [
           "eloi mendes",
           "MG"
          ],
          [
           "engenheiro navarro",
           "MG"
          ],
          [
           "entre folhas",
           "MG"
          ],
          [
           "entre rios de minas",
           "MG"
          ],
          [
           "ervalia",
           "MG"
          ],
          [
           "esmeraldas",
           "MG"
          ],
          [
           "espera feliz",
           "MG"
          ],
          [
           "espinosa",
           "MG"
          ],
          [
           "estiva",
           "MG"
          ],
          [
           "estrela do indaia",
           "MG"
          ],
          [
           "estrela do sul",
           "MG"
          ],
          [
           "eugenopolis",
           "MG"
          ],
          [
           "ewbank da camara",
           "MG"
          ],
          [
           "extrema",
           "MG"
          ],
          [
           "felicio dos santos",
           "MG"
          ],
          [
           "felisburgo",
           "MG"
          ],
          [
           "felixlandia",
           "MG"
          ],
          [
           "ferros",
           "MG"
          ],
          [
           "fervedouro",
           "MG"
          ],
          [
           "florestal",
           "MG"
          ],
          [
           "fonseca",
           "MG"
          ],
          [
           "formiga",
           "MG"
          ],
          [
           "formoso",
           "MG"
          ],
          [
           "francisco badaro",
           "MG"
          ],
          [
           "francisco dumont",
           "MG"
          ],
          [
           "francisco sa",
           "MG"
          ],
          [
           "frei gaspar",
           "MG"
          ],
          [
           "frei inocencio",
           "MG"
          ],
          [
           "frei lagonegro",
           "MG"
          ],
          [
           "fronteira",
           "MG"
          ],
          [
           "fruta de leite",
           "MG"
          ],
          [
           "frutal",
           "MG"
          ],
          [
           "gameleiras",
           "MG"
          ],
          [
           "goiabeira",
           "MG"
          ],
          [
           "goiana",
           "MG"
          ],
          [
           "goncalves",
           "MG"
          ],
          [
           "gouveia",
           "MG"
          ],
          [
           "governador valadares",
           "MG"
          ],
          [
           "grao mogol",
           "MG"
          ],
          [
           "grupiara",
           "MG"
          ],
          [
           "guanhaes",
           "MG"
          ],
          [
           "guape",
           "MG"
          ],
          [
           "guaraciaba",
           "MG"
          ],
          [
           "guaranesia",
           "MG"
          ],
          [
           "guarani",
           "MG"
          ],
          [
           "guarara",
           "MG"
          ],
          [
           "guarda-mor",
           "MG"
          ],
          [
           "guaxupe",
           "MG"
          ],
          [
           "guidoval",
           "MG"
          ],
          [
           "guimarania",
           "MG"
          ],
          [
           "guiricema",
           "MG"
          ],
          [
           "iapu",
           "MG"
          ],
          [
           "ibertioga",
           "MG"
          ],
          [
           "ibia",
           "MG"
          ],
          [
           "ibiaí",
           "MG"
          ],
          [
           "ibiracatu",
           "MG"
          ],
          [
           "ibiraci",
           "MG"
          ],
          [
           "ibirite",
           "MG"
          ],
          [
           "ibirité",
           "MG"
          ],
          [
           "icaraí de minas",
           "MG"
          ],
          [
           "igarape",
           "MG"
          ],
          [
           "igaratinga",
           "MG"
          ],
          [
           "iguatama",
           "MG"
          ],
          [
           "ilicinea",
           "MG"
          ],
          [
           "imbe de minas",
           "MG"
          ],
          [
           "inconfidentes",
           "MG"
          ],
          [
           "indianopolis",
           "MG"
          ],
          [
           "ingaí",
           "MG"
          ],
          [
           "inhapim",
           "MG"
          ],
          [
           "inhaúma",
           "MG"
          ],
          [
           "inimutaba",
           "MG"
          ],
          [
           "ipaba",
           "MG"
          ],
          [
           "ipanema",
           "MG"
          ],
          [
           "ipatinga",
           "MG"
          ],
          [
           "ipiacu",
           "MG"
          ],
          [
           "ipuiuna",
           "MG"
          ],
          [
           "irai de minas",
           "MG"
          ],
          [
           "itabira",
           "MG"
          ],
          [
           "itabirinha",
           "MG"
          ],
          [
           "itabirito",
           "MG"
          ],
          [
           "itacarambi",
           "MG"
          ],
          [
           "itaguara",
           "MG"
          ],
          [
           "itajuba",
           "MG"
          ],
          [
           "itajubá",
           "MG"
          ],
          [
           "itamarandiba",
           "MG"
          ],
          [
           "itambacuri",
           "MG"
          ],
          [
           "itamogi",
           "MG"
          ],
          [
           "itamonte",
           "MG"
          ],
          [
           "itanhandu",
           "MG"
          ],
          [
           "itanhomi",
           "MG"
          ],
          [
           "itaobim",
           "MG"
          ],
          [
           "itapagipe",
           "MG"
          ],
          [
           "itapecerica",
           "MG"
          ],
          [
           "itapeva",
           "MG"
          ],
          [
           "itatiaiucu",
           "MG"
          ],
          [
           "itau de minas",
           "MG"
          ],
          [
           "itauna",
           "MG"
          ],
          [
           "itinga",
           "MG"
          ],
          [
           "itueta",
           "MG"
          ],
          [
           "ituiutaba",
           "MG"
          ],
          [
           "iturama",
           "MG"
          ],
          [
           "itutinga",
           "MG"
          ],
          [
           "jaboticatubas",
           "MG"
          ],
          [
           "jacinto",
           "MG"
          ],
          [
           "jacui",
           "MG"
          ],
          [
           "jacutinga",
           "MG"
          ],
          [
           "jaguaracu",
           "MG"
          ],
          [
           "jaiba",
           "MG"
          ],
          [
           "jampruca",
           "MG"
          ],
          [
           "janauba",
           "MG"
          ],
          [
           "janaúba",
           "MG"
          ],
          [
           "januaria",
           "MG"
          ],
          [
           "japaraiba",
           "MG"
          ],
          [
           "jeceaba",
           "MG"
          ],
          [
           "jenipapo de minas",
           "MG"
          ],
          [
           "jequeri",
           "MG"
          ],
          [
           "jequitai",
           "MG"
          ],
          [
           "jequitibá",
           "MG"
          ],
          [
           "jequitinhonha",
           "MG"
          ],
          [
           "jesuania",
           "MG"
          ],
          [
           "joaima",
           "MG"
          ],
          [
           "joao monlevade",
           "MG"
          ],
          [
           "joao pinheiro",
           "MG"
          ],
          [
           "jordânia",
           "MG"
          ],
          [
           "juatuba",
           "MG"
          ],
          [
           "juiz de fora",
           "MG"
          ],
          [
           "juruaia",
           "MG"
          ],
          [
           "juvenília",
           "MG"
          ],
          [
           "ladainha",
           "MG"
          ],
          [
           "lagoa da prata",
           "MG"
          ],
          [
           "lagoa dos patos",
           "MG"
          ],
          [
           "lagoa dourada",
           "MG"
          ],
          [
           "lagoa formosa",
           "MG"
          ],
          [
           "lagoa grande",
           "MG"
          ],
          [
           "lagoa santa",
           "MG"
          ],
          [
           "lajinha",
           "MG"
          ],
          [
           "lambari",
           "MG"
          ],
          [
           "lamim",
           "MG"
          ],
          [
           "laranjal",
           "MG"
          ],
          [
           "lavras",
           "MG"
          ],
          [
           "leandro ferreira",
           "MG"
          ],
          [
           "leopoldina",
           "MG"
          ],
          [
           "liberdade",
           "MG"
          ],
          [
           "lima duarte",
           "MG"
          ],
          [
           "limeira do oeste",
           "MG"
          ],
          [
           "luisburgo",
           "MG"
          ],
          [
           "luizlandia do oeste",
           "MG"
          ],
          [
           "luminárias",
           "MG"
          ],
          [
           "luz",
           "MG"
          ],
          [
           "machacalis",
           "MG"
          ],
          [
           "machado",
           "MG"
          ],
          [
           "macuco de minas",
           "MG"
          ],
          [
           "madre de deus de minas",
           "MG"
          ],
          [
           "malacacheta",
           "MG"
          ],
          [
           "mamonas",
           "MG"
          ],
          [
           "manga",
           "MG"
          ],
          [
           "manhuacu",
           "MG"
          ],
          [
           "manhumirim",
           "MG"
          ],
          [
           "mantena",
           "MG"
          ],
          [
           "mar de espanha",
           "MG"
          ],
          [
           "maravilhas",
           "MG"
          ],
          [
           "maria da fe",
           "MG"
          ],
          [
           "mariana",
           "MG"
          ],
          [
           "marilac",
           "MG"
          ],
          [
           "mario campos",
           "MG"
          ],
          [
           "martinesia",
           "MG"
          ],
          [
           "martinho campos",
           "MG"
          ],
          [
           "martins soares",
           "MG"
          ],
          [
           "mata verde",
           "MG"
          ],
          [
           "materlandia",
           "MG"
          ],
          [
           "mateus leme",
           "MG"
          ],
          [
           "matias barbosa",
           "MG"
          ],
          [
           "matipo",
           "MG"
          ],
          [
           "mato verde",
           "MG"
          ],
          [
           "matozinhos",
           "MG"
          ],
          [
           "matutina",
           "MG"
          ],
          [
           "medeiros",
           "MG"
          ],
          [
           "medina",
           "MG"
          ],
          [
           "mendes pimentel",
           "MG"
          ],
          [
           "mendonca",
           "MG"
          ],
          [
           "merces",
           "MG"
          ],
          [
           "mesquita",
           "MG"
          ],
          [
           "minas novas",
           "MG"
          ],
          [
           "minduri",
           "MG"
          ],
          [
           "miradouro",
           "MG"
          ],
          [
           "mirai",
           "MG"
          ],
          [
           "miravania",
           "MG"
          ],
          [
           "moeda",
           "MG"
          ],
          [
           "moema",
           "MG"
          ],
          [
           "monsenhor paulo",
           "MG"
          ],
          [
           "montalvania",
           "MG"
          ],
          [
           "monte alegre de minas",
           "MG"
          ],
          [
           "monte azul",
           "MG"
          ],
          [
           "monte belo",
           "MG"
          ],
          [
           "monte carmelo",
           "MG"
          ],
          [
           "monte formoso",
           "MG"
          ],
          [
           "monte santo de minas",
           "MG"
          ],
          [
           "monte siao",
           "MG"
          ],
          [
           "monte verde",
           "MG"
          ],
          [
           "montes claros",
           "MG"
          ],
          [
           "montezuma",
           "MG"
          ],
          [
           "morada nova de minas",
           "MG"
          ],
          [
           "morro da garca",
           "MG"
          ],
          [
           "morro do ferro",
           "MG"
          ],
          [
           "morro do pilar",
           "MG"
          ],
          [
           "morro vermelho",
           "MG"
          ],
          [
           "munhoz",
           "MG"
          ],
          [
           "muriae",
           "MG"
          ],
          [
           "muriaé",
           "MG"
          ],
          [
           "mutum",
           "MG"
          ],
          [
           "muzambinho",
           "MG"
          ],
          [
           "nacip raydan",
           "MG"
          ],
          [
           "nanuque",
           "MG"
          ],
          [
           "natercia",
           "MG"
          ],
          [
           "nazareno",
           "MG"
          ],
          [
           "nepomuceno",
           "MG"
          ],
          [
           "nova era",
           "MG"
          ],
          [
           "nova lima",
           "MG"
          ],
          [
           "nova ponte",
           "MG"
          ],
          [
           "nova resende",
           "MG"
          ],
          [
           "nova serrana",
           "MG"
          ],
          [
           "novo cruzeiro",
           "MG"
          ],
          [
           "novo oriente de minas",
           "MG"
          ],
          [
           "olaria",
           "MG"
          ],
          [
           "olhos d'agua",
           "MG"
          ],
          [
           "oliveira",
           "MG"
          ],
          [
           "orizania",
           "MG"
          ],
          [
           "ouro branco",
           "MG"
          ],
          [
           "ouro fino",
           "MG"
          ],
          [
           "ouro preto",
           "MG"
          ],
          [
           "ouro verde de minas",
           "MG"
          ],
          [
           "padre carvalho",
           "MG"
          ],
          [
           "padre paraiso",
           "MG"
          ],
          [
           "paineiras",
           "MG"
          ],
          [
           "pains",
           "MG"
          ],
          [
           "paiva",
           "MG"
          ],
          [
           "palma",
           "MG"
          ],
          [
           "palmopolis",
           "MG"
          ],
          [
           "papagaios",
           "MG"
          ],
          [
           "para de minas",
           "MG"
          ],
          [
           "paracatu",
           "MG"
          ],
          [
           "paraguaçu",
           "MG"
          ],
          [
           "paraisópolis",
           "MG"
          ],
          [
           "paraopeba",
           "MG"
          ],
          [
           "pará de minas",
           "MG"
          ],
          [
           "passa quatro",
           "MG"
          ],
          [
           "passa tempo",
           "MG"
          ],
          [
           "passos",
           "MG"
          ],
          [
           "patis",
           "MG"
          ],
          [
           "patos de minas",
           "MG"
          ],
          [
           "patrocinio",
           "MG"
          ],
          [
           "patrocinio do muriae",
           "MG"
          ],
          [
           "paula candido",
           "MG"
          ],
          [
           "pavao",
           "MG"
          ],
          [
           "pecanha",
           "MG"
          ],
          [
           "pedra azul",
           "MG"
          ],
          [
           "pedra do indaia",
           "MG"
          ],
          [
           "pedra menina",
           "MG"
          ],
          [
           "pedralva",
           "MG"
          ],
          [
           "pedrinópolis",
           "MG"
          ],
          [
           "pedro leopoldo",
           "MG"
          ],
          [
           "pequi",
           "MG"
          ],
          [
           "perdigao",
           "MG"
          ],
          [
           "perdizes",
           "MG"
          ],
          [
           "perdoes",
           "MG"
          ],
          [
           "periquito",
           "MG"
          ],
          [
           "perpetuo socorro",
           "MG"
          ],
          [
           "pescador",
           "MG"
          ],
          [
           "piau",
           "MG"
          ],
          [
           "piedade de caratinga",
           "MG"
          ],
          [
           "piedade do rio grande",
           "MG"
          ],
          [
           "piedade dos gerais",
           "MG"
          ],
          [
           "pimenta",
           "MG"
          ],
          [
           "pingo-d agua",
           "MG"
          ],
          [
           "piracema",
           "MG"
          ],
          [
           "pirajuba",
           "MG"
          ],
          [
           "piranga",
           "MG"
          ],
          [
           "piranguinho",
           "MG"
          ],
          [
           "pirapetinga",
           "MG"
          ],
          [
           "pirapora",
           "MG"
          ],
          [
           "pirauba",
           "MG"
          ],
          [
           "pitangui",
           "MG"
          ],
          [
           "piumhi",
           "MG"
          ],
          [
           "planura",
           "MG"
          ],
          [
           "poco fundo",
           "MG"
          ],
          [
           "pocoes de paineiras",
           "MG"
          ],
          [
           "pocos de caldas",
           "MG"
          ],
          [
           "pocrane",
           "MG"
          ],
          [
           "pompeu",
           "MG"
          ],
          [
           "ponte nova",
           "MG"
          ],
          [
           "ponto do marambaia",
           "MG"
          ],
          [
           "ponto dos volantes",
           "MG"
          ],
          [
           "porteirinha",
           "MG"
          ],
          [
           "porto firme",
           "MG"
          ],
          [
           "pote",
           "MG"
          ],
          [
           "pouso alegre",
           "MG"
          ],
          [
           "pouso alto",
           "MG"
          ],
          [
           "prados",
           "MG"
          ],
          [
           "prata",
           "MG"
          ],
          [
           "pratápolis",
           "MG"
          ],
          [
           "presidente kubitschek",
           "MG"
          ],
          [
           "presidente olegario",
           "MG"
          ],
          [
           "prudente de morais",
           "MG"
          ],
          [
           "quatituba",
           "MG"
          ],
          [
           "queixada",
           "MG"
          ],
          [
           "raposos",
           "MG"
          ],
          [
           "raul soares",
           "MG"
          ],
          [
           "recreio",
           "MG"
          ],
          [
           "resende costa",
           "MG"
          ],
          [
           "resplendor",
           "MG"
          ],
          [
           "ressaquinha",
           "MG"
          ],
          [
           "riachinho",
           "MG"
          ],
          [
           "riacho dos machados",
           "MG"
          ],
          [
           "ribeirao das neves",
           "MG"
          ],
          [
           "ribeirao vermelho",
           "MG"
          ],
          [
           "ribeiro junqueira",
           "MG"
          ],
          [
           "ribeirão das neves",
           "MG"
          ],
          [
           "rio acima",
           "MG"
          ],
          [
           "rio casca",
           "MG"
          ],
          [
           "rio doce",
           "MG"
          ],
          [
           "rio espera",
           "MG"
          ],
          [
           "rio manso",
           "MG"
          ],
          [
           "rio novo",
           "MG"
          ],
          [
           "rio paranaiba",
           "MG"
          ],
          [
           "rio pardo de minas",
           "MG"
          ],
          [
           "rio piracicaba",
           "MG"
          ],
          [
           "rio pomba",
           "MG"
          ],
          [
           "rio preto",
           "MG"
          ],
          [
           "ritapolis",
           "MG"
          ],
          [
           "rodeiro",
           "MG"
          ],
          [
           "romaria",
           "MG"
          ],
          [
           "rubelita",
           "MG"
          ],
          [
           "rubim",
           "MG"
          ],
          [
           "sabara",
           "MG"
          ],
          [
           "sabará",
           "MG"
          ],
          [
           "sabinopolis",
           "MG"
          ],
          [
           "sacramento",
           "MG"
          ],
          [
           "salinas",
           "MG"
          ],
          [
           "salto da divisa",
           "MG"
          ],
          [
           "santa barbara",
           "MG"
          ],
          [
           "santa cruz de minas",
           "MG"
          ],
          [
           "santa cruz de salinas",
           "MG"
          ],
          [
           "santa cruz do prata",
           "MG"
          ],
          [
           "santa fe de minas",
           "MG"
          ],
          [
           "santa helena de minas",
           "MG"
          ],
          [
           "santa juliana",
           "MG"
          ],
          [
           "santa luzia",
           "MG"
          ],
          [
           "santa margarida",
           "MG"
          ],
          [
           "santa maria de itabira",
           "MG"
          ],
          [
           "santa maria do salto",
           "MG"
          ],
          [
           "santa maria do suacui",
           "MG"
          ],
          [
           "santa rita de caldas",
           "MG"
          ],
          [
           "santa rita de jacutinga",
           "MG"
          ],
          [
           "santa rita de minas",
           "MG"
          ],
          [
           "santa rita do ibitipoca",
           "MG"
          ],
          [
           "santa rita do itueto",
           "MG"
          ],
          [
           "santa rita do sapucaí",
           "MG"
          ],
          [
           "santa vitoria",
           "MG"
          ],
          [
           "santana da vargem",
           "MG"
          ],
          [
           "santana de pirapama",
           "MG"
          ],
          [
           "santana do capivari",
           "MG"
          ],
          [
           "santana do deserto",
           "MG"
          ],
          [
           "santana do jacare",
           "MG"
          ],
          [
           "santana do manhuacu",
           "MG"
          ],
          [
           "santana do paraiso",
           "MG"
          ],
          [
           "santana dos montes",
           "MG"
          ],
          [
           "santo antonio do amparo",
           "MG"
          ],
          [
           "santo antonio do aventureiro",
           "MG"
          ],
          [
           "santo antonio do itambe",
           "MG"
          ],
          [
           "santo antonio do jacinto",
           "MG"
          ],
          [
           "santo antonio do rio abaixo",
           "MG"
          ],
          [
           "santo antonio dos campos",
           "MG"
          ],
          [
           "santo antônio do grama",
           "MG"
          ],
          [
           "santo antônio do monte",
           "MG"
          ],
          [
           "santo hipólito",
           "MG"
          ],
          [
           "santos dumont",
           "MG"
          ],
          [
           "sao bento abade",
           "MG"
          ],
          [
           "sao bras do suacui",
           "MG"
          ],
          [
           "sao domingos",
           "MG"
          ],
          [
           "sao domingos das dores",
           "MG"
          ],
          [
           "sao domingos do prata",
           "MG"
          ],
          [
           "sao felix de minas",
           "MG"
          ],
          [
           "sao francisco",
           "MG"
          ],
          [
           "sao francisco de paula",
           "MG"
          ],
          [
           "sao francisco do gloria",
           "MG"
          ],
          [
           "sao geraldo da piedade",
           "MG"
          ],
          [
           "sao geraldo do baguari",
           "MG"
          ],
          [
           "sao goncalo do abaete",
           "MG"
          ],
          [
           "sao goncalo do para",
           "MG"
          ],
          [
           "sao goncalo do rio abaixo",
           "MG"
          ],
          [
           "sao goncalo do rio das pedras",
           "MG"
          ],
          [
           "sao goncalo do rio preto",
           "MG"
          ],
          [
           "sao goncalo do sapucai",
           "MG"
          ],
          [
           "sao gotardo",
           "MG"
          ],
          [
           "sao joao batista do gloria",
           "MG"
          ],
          [
           "sao joao da mata",
           "MG"
          ],
          [
           "sao joao da ponte",
           "MG"
          ],
          [
           "sao joao da serra negra",
           "MG"
          ],
          [
           "sao joao das missoes",
           "MG"
          ],
          [
           "sao joao del rei",
           "MG"
          ],
          [
           "sao joao do manhuacu",
           "MG"
          ],
          [
           "sao joao do oriente",
           "MG"
          ],
          [
           "sao joao do paraiso",
           "MG"
          ],
          [
           "sao joao evangelista",
           "MG"
          ],
          [
           "sao joao nepomuceno",
           "MG"
          ],
          [
           "sao joaquim de bicas",
           "MG"
          ],
          [
           "sao jose da barra",
           "MG"
          ],
          [
           "sao jose da lapa",
           "MG"
          ],
          [
           "sao jose do divino",
           "MG"
          ],
          [
           "sao jose do goiabal",
           "MG"
          ],
          [
           "sao lourenco",
           "MG"
          ],
          [
           "sao mateus de minas",
           "MG"
          ],
          [
           "sao miguel do anta",
           "MG"
          ],
          [
           "sao pedro da uniao",
           "MG"
          ],
          [
           "sao pedro dos ferros",
           "MG"
          ],
          [
           "sao romao",
           "MG"
          ],
          [
           "sao roque de minas",
           "MG"
          ],
          [
           "sao sebastiao do maranhao",
           "MG"
          ],
          [
           "sao sebastiao do paraiso",
           "MG"
          ],
          [
           "sao sebastiao do rio verde",
           "MG"
          ],
          [
           "sao thome das letras",
           "MG"
          ],
          [
           "sao tiago",
           "MG"
          ],
          [
           "sao tomas de aquino",
           "MG"
          ],
          [
           "sapucai-mirim",
           "MG"
          ],
          [
           "sapucaia",
           "MG"
          ],
          [
           "sardoa",
           "MG"
          ],
          [
           "sarzedo",
           "MG"
          ],
          [
           "senador amaral",
           "MG"
          ],
          [
           "senador cortes",
           "MG"
          ],
          [
           "senador firmino",
           "MG"
          ],
          [
           "senador modestino goncalves",
           "MG"
          ],
          [
           "senhora de oliveira",
           "MG"
          ],
          [
           "senhora dos remedios",
           "MG"
          ],
          [
           "sericita",
           "MG"
          ],
          [
           "serra azul de minas",
           "MG"
          ],
          [
           "serra bonita",
           "MG"
          ],
          [
           "serra do salitre",
           "MG"
          ],
          [
           "serra dos aimores",
           "MG"
          ],
          [
           "serrania",
           "MG"
          ],
          [
           "serranopolis de minas",
           "MG"
          ],
          [
           "serro",
           "MG"
          ],
          [
           "sete lagoas",
           "MG"
          ],
          [
           "setubinha",
           "MG"
          ],
          [
           "silveira carvalho",
           "MG"
          ],
          [
           "silvianopolis",
           "MG"
          ],
          [
           "simao pereira",
           "MG"
          ],
          [
           "simonésia",
           "MG"
          ],
          [
           "sobralia",
           "MG"
          ],
          [
           "soledade de minas",
           "MG"
          ],
          [
           "são geraldo",
           "MG"
          ],
          [
           "são joão del rei",
           "MG"
          ],
          [
           "são joão do manteninha",
           "MG"
          ],
          [
           "tabuleiro",
           "MG"
          ],
          [
           "taiobeiras",
           "MG"
          ],
          [
           "taparuba",
           "MG"
          ],
          [
           "taquaraçu de minas",
           "MG"
          ],
          [
           "tarumirim",
           "MG"
          ],
          [
           "teixeiras",
           "MG"
          ],
          [
           "teofilo otoni",
           "MG"
          ],
          [
           "teófilo otoni",
           "MG"
          ],
          [
           "timoteo",
           "MG"
          ],
          [
           "tiradentes",
           "MG"
          ],
          [
           "tiros",
           "MG"
          ],
          [
           "tocantins",
           "MG"
          ],
          [
           "tocos do moji",
           "MG"
          ],
          [
           "tombos",
           "MG"
          ],
          [
           "tres coracoes",
           "MG"
          ],
          [
           "tres pontas",
           "MG"
          ],
          [
           "três marias",
           "MG"
          ],
          [
           "tumiritinga",
           "MG"
          ],
          [
           "tupaciguara",
           "MG"
          ],
          [
           "tuparece",
           "MG"
          ],
          [
           "turmalina",
           "MG"
          ],
          [
           "turvolandia",
           "MG"
          ],
          [
           "uba",
           "MG"
          ],
          [
           "ubai",
           "MG"
          ],
          [
           "ubaporanga",
           "MG"
          ],
          [
           "uberaba",
           "MG"
          ],
          [
           "uberlandia",
           "MG"
          ],
          [
           "uberlândia",
           "MG"
          ],
          [
           "ubá",
           "MG"
          ],
          [
           "umburatiba",
           "MG"
          ],
          [
           "unai",
           "MG"
          ],
          [
           "uniao de minas",
           "MG"
          ],
          [
           "uruana de minas",
           "MG"
          ],
          [
           "urucania",
           "MG"
          ],
          [
           "urucuia",
           "MG"
          ],
          [
           "vargem alegre",
           "MG"
          ],
          [
           "vargem grande do rio pardo",
           "MG"
          ],
          [
           "varginha",
           "MG"
          ],
          [
           "varjao de minas",
           "MG"
          ],
          [
           "varzea da palma",
           "MG"
          ],
          [
           "varzelândia",
           "MG"
          ],
          [
           "vazante",
           "MG"
          ],
          [
           "verissimo",
           "MG"
          ],
          [
           "vermelho",
           "MG"
          ],
          [
           "vermelho novo",
           "MG"
          ],
          [
           "vespasiano",
           "MG"
          ],
          [
           "vicosa",
           "MG"
          ],
          [
           "vieiras",
           "MG"
          ],
          [
           "vila pereira",
           "MG"
          ],
          [
           "virgem da lapa",
           "MG"
          ],
          [
           "virginia",
           "MG"
          ],
          [
           "virginopolis",
           "MG"
          ],
          [
           "virgolandia",
           "MG"
          ],
          [
           "visconde do rio branco",
           "MG"
          ],
          [
           "vitorinos - alto rio doce",
           "MG"
          ],
          [
           "volta grande",
           "MG"
          ],
          [
           "águas formosas",
           "MG"
          ],
          [
           "agua clara",
           "MS"
          ],
          [
           "alcinopolis",
           "MS"
          ],
          [
           "amambai",
           "MS"
          ],
          [
           "anastacio",
           "MS"
          ],
          [
           "anaurilandia",
           "MS"
          ],
          [
           "angélica",
           "MS"
          ],
          [
           "anhandui",
           "MS"
          ],
          [
           "aparecida do taboado",
           "MS"
          ],
          [
           "aquidauana",
           "MS"
          ],
          [
           "bandeirantes",
           "MS"
          ],
          [
           "bataguassu",
           "MS"
          ],
          [
           "batayporã",
           "MS"
          ],
          [
           "bela vista",
           "MS"
          ],
          [
           "bodoquena",
           "MS"
          ],
          [
           "bonito",
           "MS"
          ],
          [
           "brasilandia",
           "MS"
          ],
          [
           "caarapo",
           "MS"
          ],
          [
           "camapua",
           "MS"
          ],
          [
           "campo grande",
           "MS"
          ],
          [
           "caracol",
           "MS"
          ],
          [
           "cassilandia",
           "MS"
          ],
          [
           "chapadao do sul",
           "MS"
          ],
          [
           "corguinho",
           "MS"
          ],
          [
           "coronel sapucaia",
           "MS"
          ],
          [
           "corumba",
           "MS"
          ],
          [
           "corumbá",
           "MS"
          ],
          [
           "costa rica",
           "MS"
          ],
          [
           "coxim",
           "MS"
          ],
          [
           "deodapolis",
           "MS"
          ],
          [
           "dois irmãos do buriti",
           "MS"
          ],
          [
           "dourados",
           "MS"
          ],
          [
           "eldorado",
           "MS"
          ],
          [
           "fatima do sul",
           "MS"
          ],
          [
           "glória de dourados",
           "MS"
          ],
          [
           "guia lopes da laguna",
           "MS"
          ],
          [
           "inocencia",
           "MS"
          ],
          [
           "itapora",
           "MS"
          ],
          [
           "itaquirai",
           "MS"
          ],
          [
           "ivinhema",
           "MS"
          ],
          [
           "jaraguari",
           "MS"
          ],
          [
           "jardim",
           "MS"
          ],
          [
           "jutí",
           "MS"
          ],
          [
           "ladario",
           "MS"
          ],
          [
           "maracaju",
           "MS"
          ],
          [
           "miranda",
           "MS"
          ],
          [
           "mundo novo",
           "MS"
          ],
          [
           "navirai",
           "MS"
          ],
          [
           "nova alvorada do sul",
           "MS"
          ],
          [
           "nova andradina",
           "MS"
          ],
          [
           "paraiso das aguas",
           "MS"
          ],
          [
           "paranaíba",
           "MS"
          ],
          [
           "paranhos",
           "MS"
          ],
          [
           "pedro gomes",
           "MS"
          ],
          [
           "ponta pora",
           "MS"
          ],
          [
           "ponta porã",
           "MS"
          ],
          [
           "porto murtinho",
           "MS"
          ],
          [
           "prudêncio thomaz",
           "MS"
          ],
          [
           "ribas do rio pardo",
           "MS"
          ],
          [
           "rio brilhante",
           "MS"
          ],
          [
           "rio negro",
           "MS"
          ],
          [
           "sanga puita",
           "MS"
          ],
          [
           "sao gabriel do oeste",
           "MS"
          ],
          [
           "sidrolandia",
           "MS"
          ],
          [
           "sonora",
           "MS"
          ],
          [
           "tacuru",
           "MS"
          ],
          [
           "terenos",
           "MS"
          ],
          [
           "tres lagoas",
           "MS"
          ],
          [
           "três lagoas",
           "MS"
          ],
          [
           "vicentina",
           "MS"
          ],
          [
           "alta floresta",
           "MT"
          ],
          [
           "alto araguaia",
           "MT"
          ],
          [
           "alto boa vista",
           "MT"
          ],
          [
           "alto garcas",
           "MT"
          ],
          [
           "alto taquari",
           "MT"
          ],
          [
           "apiacas",
           "MT"
          ],
          [
           "araputanga",
           "MT"
          ],
          [
           "arenapolis",
           "MT"
          ],
          [
           "aripuana",
           "MT"
          ],
          [
           "barra do bugres",
           "MT"
          ],
          [
           "barra do garcas",
           "MT"
          ],
          [
           "bom jesus do araguaia",
           "MT"
          ],
          [
           "caceres",
           "MT"
          ],
          [
           "campinapolis",
           "MT"
          ],
          [
           "campo novo do parecis",
           "MT"
          ],
          [
           "campo verde",
           "MT"
          ],
          [
           "campos de julio",
           "MT"
          ],
          [
           "canarana",
           "MT"
          ],
          [
           "carlinda",
           "MT"
          ],
          [
           "castanheira",
           "MT"
          ],
          [
           "chapada dos guimaraes",
           "MT"
          ],
          [
           "claudia",
           "MT"
          ],
          [
           "cocalinho",
           "MT"
          ],
          [
           "colniza",
           "MT"
          ],
          [
           "colíder",
           "MT"
          ],
          [
           "comodoro",
           "MT"
          ],
          [
           "confresa",
           "MT"
          ],
          [
           "conquista d'oeste",
           "MT"
          ],
          [
           "cotriguaçu",
           "MT"
          ],
          [
           "cuiaba",
           "MT"
          ],
          [
           "cuiabá",
           "MT"
          ],
          [
           "curvelandia",
           "MT"
          ],
          [
           "denise",
           "MT"
          ],
          [
           "diamantino",
           "MT"
          ],
          [
           "dom aquino",
           "MT"
          ],
          [
           "feliz natal",
           "MT"
          ],
          [
           "figueiropolis d'oeste",
           "MT"
          ],
          [
           "gaucha do norte",
           "MT"
          ],
          [
           "guaranta do norte",
           "MT"
          ],
          [
           "ipiranga do norte",
           "MT"
          ],
          [
           "itanhanga",
           "MT"
          ],
          [
           "itauba",
           "MT"
          ],
          [
           "itiquira",
           "MT"
          ],
          [
           "jaciara",
           "MT"
          ],
          [
           "jauru",
           "MT"
          ],
          [
           "juara",
           "MT"
          ],
          [
           "juina",
           "MT"
          ],
          [
           "juruena",
           "MT"
          ],
          [
           "juscimeira",
           "MT"
          ],
          [
           "lucas do rio verde",
           "MT"
          ],
          [
           "matupa",
           "MT"
          ],
          [
           "mirassol d'oeste",
           "MT"
          ],
          [
           "nobres",
           "MT"
          ],
          [
           "nortelandia",
           "MT"
          ],
          [
           "nova bandeirantes",
           "MT"
          ],
          [
           "nova canaa do norte",
           "MT"
          ],
          [
           "nova guarita",
           "MT"
          ],
          [
           "nova lacerda",
           "MT"
          ],
          [
           "nova monte verde",
           "MT"
          ],
          [
           "nova mutum",
           "MT"
          ],
          [
           "nova olimpia",
           "MT"
          ],
          [
           "nova ubirata",
           "MT"
          ],
          [
           "nova xavantina",
           "MT"
          ],
          [
           "novo mundo",
           "MT"
          ],
          [
           "novo são joaquim",
           "MT"
          ],
          [
           "paranaita",
           "MT"
          ],
          [
           "paranatinga",
           "MT"
          ],
          [
           "pedra preta",
           "MT"
          ],
          [
           "peixoto de azevedo",
           "MT"
          ],
          [
           "pontes e lacerda",
           "MT"
          ],
          [
           "porto alegre do norte",
           "MT"
          ],
          [
           "porto dos gauchos",
           "MT"
          ],
          [
           "porto esperidiao",
           "MT"
          ],
          [
           "porto estrela",
           "MT"
          ],
          [
           "poxoréu",
           "MT"
          ],
          [
           "primavera do leste",
           "MT"
          ],
          [
           "querencia",
           "MT"
          ],
          [
           "reserva do cabacal",
           "MT"
          ],
          [
           "ribeirao cascalheira",
           "MT"
          ],
          [
           "ribeiraozinho",
           "MT"
          ],
          [
           "rio branco",
           "MT"
          ],
          [
           "rondonopolis",
           "MT"
          ],
          [
           "rondonópolis",
           "MT"
          ],
          [
           "salto do ceu",
           "MT"
          ],
          [
           "santo antonio do leverger",
           "MT"
          ],
          [
           "santo antônio do leste",
           "MT"
          ],
          [
           "sao felix do araguaia",
           "MT"
          ],
          [
           "sao jose do xingu",
           "MT"
          ],
          [
           "sapezal",
           "MT"
          ],
          [
           "sinop",
           "MT"
          ],
          [
           "sorriso",
           "MT"
          ],
          [
           "são josé do rio claro",
           "MT"
          ],
          [
           "são josé dos quatro marcos",
           "MT"
          ],
          [
           "tabapora",
           "MT"
          ],
          [
           "tangara da serra",
           "MT"
          ],
          [
           "tapurah",
           "MT"
          ],
          [
           "terra nova do norte",
           "MT"
          ],
          [
           "uniao do sul",
           "MT"
          ],
          [
           "varzea grande",
           "MT"
          ],
          [
           "vera",
           "MT"
          ],
          [
           "vila bela da santíssima trindade",
           "MT"
          ],
          [
           "vila rica",
           "MT"
          ],
          [
           "várzea grande",
           "MT"
          ],
          [
           "água boa",
           "MT"
          ],
          [
           "abaetetuba",
           "PA"
          ],
          [
           "altamira",
           "PA"
          ],
          [
           "ananindeua",
           "PA"
          ],
          [
           "augusto corrêa",
           "PA"
          ],
          [
           "aurora do para",
           "PA"
          ],
          [
           "barcarena",
           "PA"
          ],
          [
           "belem",
           "PA"
          ],
          [
           "belém",
           "PA"
          ],
          [
           "benevides",
           "PA"
          ],
          [
           "bom jesus do tocantins",
           "PA"
          ],
          [
           "bonito",
           "PA"
          ],
          [
           "braganca",
           "PA"
          ],
          [
           "brasil novo",
           "PA"
          ],
          [
           "breu branco",
           "PA"
          ],
          [
           "breves",
           "PA"
          ],
          [
           "cameta",
           "PA"
          ],
          [
           "canaa dos carajas",
           "PA"
          ],
          [
           "capanema",
           "PA"
          ],
          [
           "capitao poco",
           "PA"
          ],
          [
           "carajas",
           "PA"
          ],
          [
           "castanhal",
           "PA"
          ],
          [
           "conceição do araguaia",
           "PA"
          ],
          [
           "concordia do para",
           "PA"
          ],
          [
           "curralinho",
           "PA"
          ],
          [
           "curuca",
           "PA"
          ],
          [
           "dom eliseu",
           "PA"
          ],
          [
           "floresta do araguaia",
           "PA"
          ],
          [
           "garrafao do norte",
           "PA"
          ],
          [
           "goianesia do para",
           "PA"
          ],
          [
           "hidreletrica tucurui",
           "PA"
          ],
          [
           "igarape-acu",
           "PA"
          ],
          [
           "igarape-miri",
           "PA"
          ],
          [
           "ipixuna do para",
           "PA"
          ],
          [
           "itaituba",
           "PA"
          ],
          [
           "itupiranga",
           "PA"
          ],
          [
           "jacareacanga",
           "PA"
          ],
          [
           "jacunda",
           "PA"
          ],
          [
           "juruti",
           "PA"
          ],
          [
           "mae do rio",
           "PA"
          ],
          [
           "maraba",
           "PA"
          ],
          [
           "marabá",
           "PA"
          ],
          [
           "marituba",
           "PA"
          ],
          [
           "medicilandia",
           "PA"
          ],
          [
           "mocajuba",
           "PA"
          ],
          [
           "moju",
           "PA"
          ],
          [
           "mojui dos campos",
           "PA"
          ],
          [
           "monte alegre",
           "PA"
          ],
          [
           "murucupi",
           "PA"
          ],
          [
           "nova esperanca do piria",
           "PA"
          ],
          [
           "nova ipixuna",
           "PA"
          ],
          [
           "nova timboteua",
           "PA"
          ],
          [
           "novo progresso",
           "PA"
          ],
          [
           "novo repartimento",
           "PA"
          ],
          [
           "oeiras do pará",
           "PA"
          ],
          [
           "ourem",
           "PA"
          ],
          [
           "ourilandia do norte",
           "PA"
          ],
          [
           "pacaja",
           "PA"
          ],
          [
           "paragominas",
           "PA"
          ],
          [
           "parauapebas",
           "PA"
          ],
          [
           "pau d'arco",
           "PA"
          ],
          [
           "picarra",
           "PA"
          ],
          [
           "placas",
           "PA"
          ],
          [
           "porto trombetas",
           "PA"
          ],
          [
           "quatro bocas",
           "PA"
          ],
          [
           "redencao",
           "PA"
          ],
          [
           "rio maria",
           "PA"
          ],
          [
           "rondon do para",
           "PA"
          ],
          [
           "santa barbara do para",
           "PA"
          ],
          [
           "santa isabel do para",
           "PA"
          ],
          [
           "santa maria do para",
           "PA"
          ],
          [
           "santana do araguaia",
           "PA"
          ],
          [
           "santarem",
           "PA"
          ],
          [
           "santarém",
           "PA"
          ],
          [
           "santo antonio do taua",
           "PA"
          ],
          [
           "sao domingos do araguaia",
           "PA"
          ],
          [
           "sao felix do xingu",
           "PA"
          ],
          [
           "sao joao de pirabas",
           "PA"
          ],
          [
           "sao sebastiao da boa vista",
           "PA"
          ],
          [
           "senador jose porfirio",
           "PA"
          ],
          [
           "são miguel do guamá",
           "PA"
          ],
          [
           "tailandia",
           "PA"
          ],
          [
           "tome-acu",
           "PA"
          ],
          [
           "tracuateua",
           "PA"
          ],
          [
           "tucuma",
           "PA"
          ],
          [
           "tucurui",
           "PA"
          ],
          [
           "tucuruí",
           "PA"
          ],
          [
           "ulianopolis",
           "PA"
          ],
          [
           "uruara",
           "PA"
          ],
          [
           "vigia",
           "PA"
          ],
          [
           "vila dos cabanos",
           "PA"
          ],
          [
           "viseu",
           "PA"
          ],
          [
           "xinguara",
           "PA"
          ],
          [
           "alagoa grande",
           "PB"
          ],
          [
           "alagoa nova",
           "PB"
          ],
          [
           "alagoinha",
           "PB"
          ],
          [
           "alhandra",
           "PB"
          ],
          [
           "arara",
           "PB"
          ],
          [
           "araruna",
           "PB"
          ],
          [
           "areia",
           "PB"
          ],
          [
           "areial",
           "PB"
          ],
          [
           "aroeiras",
           "PB"
          ],
          [
           "assuncao",
           "PB"
          ],
          [
           "bananeiras",
           "PB"
          ],
          [
           "barra de santa rosa",
           "PB"
          ],
          [
           "bayeux",
           "PB"
          ],
          [
           "belem",
           "PB"
          ],
          [
           "bonito de santa fe",
           "PB"
          ],
          [
           "brejo do cruz",
           "PB"
          ],
          [
           "brejo dos santos",
           "PB"
          ],
          [
           "cabedelo",
           "PB"
          ],
          [
           "cajazeiras",
           "PB"
          ],
          [
           "caldas brandao",
           "PB"
          ],
          [
           "campina grande",
           "PB"
          ],
          [
           "catole do rocha",
           "PB"
          ],
          [
           "conceicao",
           "PB"
          ],
          [
           "coremas",
           "PB"
          ],
          [
           "cubati",
           "PB"
          ],
          [
           "cuite",
           "PB"
          ],
          [
           "curral de cima",
           "PB"
          ],
          [
           "desterro",
           "PB"
          ],
          [
           "esperanca",
           "PB"
          ],
          [
           "fagundes",
           "PB"
          ],
          [
           "frei martinho",
           "PB"
          ],
          [
           "guarabira",
           "PB"
          ],
          [
           "ibiara",
           "PB"
          ],
          [
           "imaculada",
           "PB"
          ],
          [
           "inga",
           "PB"
          ],
          [
           "itaporanga",
           "PB"
          ],
          [
           "jacarau",
           "PB"
          ],
          [
           "jerico",
           "PB"
          ],
          [
           "joao pessoa",
           "PB"
          ],
          [
           "joão pessoa",
           "PB"
          ],
          [
           "junco do serido",
           "PB"
          ],
          [
           "juripiranga",
           "PB"
          ],
          [
           "juru",
           "PB"
          ],
          [
           "lagoa",
           "PB"
          ],
          [
           "livramento",
           "PB"
          ],
          [
           "lucena",
           "PB"
          ],
          [
           "mae d'agua",
           "PB"
          ],
          [
           "mamanguape",
           "PB"
          ],
          [
           "manaira",
           "PB"
          ],
          [
           "mari",
           "PB"
          ],
          [
           "montadas",
           "PB"
          ],
          [
           "nova floresta",
           "PB"
          ],
          [
           "patos",
           "PB"
          ],
          [
           "paulista",
           "PB"
          ],
          [
           "pedra branca",
           "PB"
          ],
          [
           "pedra lavrada",
           "PB"
          ],
          [
           "pedras de fogo",
           "PB"
          ],
          [
           "pianco",
           "PB"
          ],
          [
           "picuí",
           "PB"
          ],
          [
           "pilar",
           "PB"
          ],
          [
           "pirpirituba",
           "PB"
          ],
          [
           "pitimbu",
           "PB"
          ],
          [
           "pocinhos",
           "PB"
          ],
          [
           "pombal",
           "PB"
          ],
          [
           "prata",
           "PB"
          ],
          [
           "princesa isabel",
           "PB"
          ],
          [
           "puxinana",
           "PB"
          ],
          [
           "queimadas",
           "PB"
          ],
          [
           "remigio",
           "PB"
          ],
          [
           "riacho de santo antonio",
           "PB"
          ],
          [
           "rio tinto",
           "PB"
          ],
          [
           "santa cecília",
           "PB"
          ],
          [
           "santa luzia",
           "PB"
          ],
          [
           "santa rita",
           "PB"
          ],
          [
           "santo andre",
           "PB"
          ],
          [
           "sao bentinho",
           "PB"
          ],
          [
           "sao bento",
           "PB"
          ],
          [
           "sao francisco",
           "PB"
          ],
          [
           "sao jose dos cordeiros",
           "PB"
          ],
          [
           "sape",
           "PB"
          ],
          [
           "serra branca",
           "PB"
          ],
          [
           "solanea",
           "PB"
          ],
          [
           "soledade",
           "PB"
          ],
          [
           "sousa",
           "PB"
          ],
          [
           "sume",
           "PB"
          ],
          [
           "são mamede",
           "PB"
          ],
          [
           "teixeira",
           "PB"
          ],
          [
           "triunfo",
           "PB"
          ],
          [
           "uirauna",
           "PB"
          ],
          [
           "varzea",
           "PB"
          ],
          [
           "água branca",
           "PB"
          ],
          [
           "abreu e lima",
           "PE"
          ],
          [
           "afogados da ingazeira",
           "PE"
          ],
          [
           "afranio",
           "PE"
          ],
          [
           "agrestina",
           "PE"
          ],
          [
           "agua preta",
           "PE"
          ],
          [
           "aguas belas",
           "PE"
          ],
          [
           "alianca",
           "PE"
          ],
          [
           "altinho",
           "PE"
          ],
          [
           "amaraji",
           "PE"
          ],
          [
           "aracoiaba",
           "PE"
          ],
          [
           "araripina",
           "PE"
          ],
          [
           "arcoverde",
           "PE"
          ],
          [
           "barra de guabiraba",
           "PE"
          ],
          [
           "barreiros",
           "PE"
          ],
          [
           "belem de sao francisco",
           "PE"
          ],
          [
           "belo jardim",
           "PE"
          ],
          [
           "bezerros",
           "PE"
          ],
          [
           "bodoco",
           "PE"
          ],
          [
           "bom conselho",
           "PE"
          ],
          [
           "bom jardim",
           "PE"
          ],
          [
           "bonito",
           "PE"
          ],
          [
           "brejo da madre de deus",
           "PE"
          ],
          [
           "buenos aires",
           "PE"
          ],
          [
           "buique",
           "PE"
          ],
          [
           "cabo de santo agostinho",
           "PE"
          ],
          [
           "cabrobo",
           "PE"
          ],
          [
           "caetes",
           "PE"
          ],
          [
           "calcado",
           "PE"
          ],
          [
           "camaragibe",
           "PE"
          ],
          [
           "camocim de sao felix",
           "PE"
          ],
          [
           "camutanga",
           "PE"
          ],
          [
           "canhotinho",
           "PE"
          ],
          [
           "capoeiras",
           "PE"
          ],
          [
           "caraiba",
           "PE"
          ],
          [
           "carpina",
           "PE"
          ],
          [
           "caruaru",
           "PE"
          ],
          [
           "catende",
           "PE"
          ],
          [
           "chã de alegria",
           "PE"
          ],
          [
           "chã grande",
           "PE"
          ],
          [
           "condado",
           "PE"
          ],
          [
           "correntes",
           "PE"
          ],
          [
           "cortes",
           "PE"
          ],
          [
           "cumaru",
           "PE"
          ],
          [
           "cupira",
           "PE"
          ],
          [
           "custódia",
           "PE"
          ],
          [
           "dormentes",
           "PE"
          ],
          [
           "escada",
           "PE"
          ],
          [
           "feira nova",
           "PE"
          ],
          [
           "ferreiros",
           "PE"
          ],
          [
           "flores",
           "PE"
          ],
          [
           "floresta",
           "PE"
          ],
          [
           "gameleira",
           "PE"
          ],
          [
           "garanhuns",
           "PE"
          ],
          [
           "gloria do goita",
           "PE"
          ],
          [
           "goiana",
           "PE"
          ],
          [
           "gravata",
           "PE"
          ],
          [
           "gravatá",
           "PE"
          ],
          [
           "iati",
           "PE"
          ],
          [
           "ibimirim",
           "PE"
          ],
          [
           "igarassu",
           "PE"
          ],
          [
           "ilha de itamaracá",
           "PE"
          ],
          [
           "inajá",
           "PE"
          ],
          [
           "ipojuca",
           "PE"
          ],
          [
           "ipubi",
           "PE"
          ],
          [
           "itambe",
           "PE"
          ],
          [
           "itapetim",
           "PE"
          ],
          [
           "itapissuma",
           "PE"
          ],
          [
           "itaquitinga",
           "PE"
          ],
          [
           "jaboatao dos guararapes",
           "PE"
          ],
          [
           "jaboatão dos guararapes",
           "PE"
          ],
          [
           "jaqueira",
           "PE"
          ],
          [
           "jatauba",
           "PE"
          ],
          [
           "jatoba",
           "PE"
          ],
          [
           "joao alfredo",
           "PE"
          ],
          [
           "joaquim nabuco",
           "PE"
          ],
          [
           "jupi",
           "PE"
          ],
          [
           "jurema",
           "PE"
          ],
          [
           "lagoa do carro",
           "PE"
          ],
          [
           "lagoa do ouro",
           "PE"
          ],
          [
           "lagoa dos gatos",
           "PE"
          ],
          [
           "lagoa grande",
           "PE"
          ],
          [
           "lajedo",
           "PE"
          ],
          [
           "limoeiro",
           "PE"
          ],
          [
           "macaparana",
           "PE"
          ],
          [
           "machados",
           "PE"
          ],
          [
           "mirandiba",
           "PE"
          ],
          [
           "moreilandia",
           "PE"
          ],
          [
           "moreno",
           "PE"
          ],
          [
           "nazare da mata",
           "PE"
          ],
          [
           "nossa senhora do o",
           "PE"
          ],
          [
           "olinda",
           "PE"
          ],
          [
           "orobo",
           "PE"
          ],
          [
           "orocó",
           "PE"
          ],
          [
           "ouricuri",
           "PE"
          ],
          [
           "palmares",
           "PE"
          ],
          [
           "panelas",
           "PE"
          ],
          [
           "parnamirim",
           "PE"
          ],
          [
           "passira",
           "PE"
          ],
          [
           "paudalho",
           "PE"
          ],
          [
           "paulista",
           "PE"
          ],
          [
           "pedra",
           "PE"
          ],
          [
           "pesqueira",
           "PE"
          ],
          [
           "petrolandia",
           "PE"
          ],
          [
           "petrolina",
           "PE"
          ],
          [
           "pocao",
           "PE"
          ],
          [
           "pombos",
           "PE"
          ],
          [
           "quipapa",
           "PE"
          ],
          [
           "quixada",
           "PE"
          ],
          [
           "recife",
           "PE"
          ],
          [
           "riacho das almas",
           "PE"
          ],
          [
           "ribeirao",
           "PE"
          ],
          [
           "rio formoso",
           "PE"
          ],
          [
           "salgueiro",
           "PE"
          ],
          [
           "saloa",
           "PE"
          ],
          [
           "sanharo",
           "PE"
          ],
          [
           "santa cruz",
           "PE"
          ],
          [
           "santa cruz do capibaribe",
           "PE"
          ],
          [
           "santa filomena",
           "PE"
          ],
          [
           "santa maria da boa vista",
           "PE"
          ],
          [
           "santa terezinha",
           "PE"
          ],
          [
           "sao benedito do sul",
           "PE"
          ],
          [
           "sao bento do una",
           "PE"
          ],
          [
           "sao domingos",
           "PE"
          ],
          [
           "sao joao",
           "PE"
          ],
          [
           "sao joaquim do monte",
           "PE"
          ],
          [
           "sao jose da coroa grande",
           "PE"
          ],
          [
           "sao jose do belmonte",
           "PE"
          ],
          [
           "sao jose do egito",
           "PE"
          ],
          [
           "sao lourenco da mata",
           "PE"
          ],
          [
           "sao vicente ferrer",
           "PE"
          ],
          [
           "serra talhada",
           "PE"
          ],
          [
           "serrita",
           "PE"
          ],
          [
           "sertania",
           "PE"
          ],
          [
           "sirinhaem",
           "PE"
          ],
          [
           "surubim",
           "PE"
          ],
          [
           "são lourenço da mata",
           "PE"
          ],
          [
           "tabira",
           "PE"
          ],
          [
           "tacaratu",
           "PE"
          ],
          [
           "tamandare",
           "PE"
          ],
          [
           "taquaritinga do norte",
           "PE"
          ],
          [
           "terezinha",
           "PE"
          ],
          [
           "terra nova",
           "PE"
          ],
          [
           "timbauba",
           "PE"
          ],
          [
           "toritama",
           "PE"
          ],
          [
           "tracunhaem",
           "PE"
          ],
          [
           "trindade",
           "PE"
          ],
          [
           "triunfo",
           "PE"
          ],
          [
           "tuparetama",
           "PE"
          ],
          [
           "venturosa",
           "PE"
          ],
          [
           "vertentes",
           "PE"
          ],
          [
           "vicencia",
           "PE"
          ],
          [
           "vitoria de santo antao",
           "PE"
          ],
          [
           "vitória de santo antão",
           "PE"
          ],
          [
           "xexeu",
           "PE"
          ],
          [
           "agua branca",
           "PI"
          ],
          [
           "alegrete do piaui",
           "PI"
          ],
          [
           "altos",
           "PI"
          ],
          [
           "alvorada do gurgueia",
           "PI"
          ],
          [
           "amarante",
           "PI"
          ],
          [
           "angical do piauí",
           "PI"
          ],
          [
           "avelino lopes",
           "PI"
          ],
          [
           "baixa grande do ribeiro",
           "PI"
          ],
          [
           "barras",
           "PI"
          ],
          [
           "bertolínia",
           "PI"
          ],
          [
           "bocaina",
           "PI"
          ],
          [
           "bom jesus",
           "PI"
          ],
          [
           "buriti dos lopes",
           "PI"
          ],
          [
           "caldeirão grande do piauí",
           "PI"
          ],
          [
           "campo alegre do fidalgo",
           "PI"
          ],
          [
           "campo grande do piaui",
           "PI"
          ],
          [
           "campo maior",
           "PI"
          ],
          [
           "canto do buriti",
           "PI"
          ],
          [
           "castelo do piauí",
           "PI"
          ],
          [
           "caxingo",
           "PI"
          ],
          [
           "cocal",
           "PI"
          ],
          [
           "conceicao do caninde",
           "PI"
          ],
          [
           "corrente",
           "PI"
          ],
          [
           "demerval lobao",
           "PI"
          ],
          [
           "eliseu martins",
           "PI"
          ],
          [
           "esperantina",
           "PI"
          ],
          [
           "floriano",
           "PI"
          ],
          [
           "francisco santos",
           "PI"
          ],
          [
           "fronteiras",
           "PI"
          ],
          [
           "gilbues",
           "PI"
          ],
          [
           "guadalupe",
           "PI"
          ],
          [
           "ilha grande",
           "PI"
          ],
          [
           "inhuma",
           "PI"
          ],
          [
           "isaias coelho",
           "PI"
          ],
          [
           "itaueira",
           "PI"
          ],
          [
           "joaquim pires",
           "PI"
          ],
          [
           "josé de freitas",
           "PI"
          ],
          [
           "lagoa de sao francisco",
           "PI"
          ],
          [
           "lagoa do piaui",
           "PI"
          ],
          [
           "lagoinha do piaui",
           "PI"
          ],
          [
           "luis correia",
           "PI"
          ],
          [
           "luzilândia",
           "PI"
          ],
          [
           "marcos parente",
           "PI"
          ],
          [
           "matias olímpio",
           "PI"
          ],
          [
           "nova santa rita",
           "PI"
          ],
          [
           "novo oriente do piaui",
           "PI"
          ],
          [
           "oeiras",
           "PI"
          ],
          [
           "parnaiba",
           "PI"
          ],
          [
           "parnaíba",
           "PI"
          ],
          [
           "paulistana",
           "PI"
          ],
          [
           "pedro ii",
           "PI"
          ],
          [
           "picos",
           "PI"
          ],
          [
           "pimenteiras",
           "PI"
          ],
          [
           "pio ix",
           "PI"
          ],
          [
           "piracuruca",
           "PI"
          ],
          [
           "piripiri",
           "PI"
          ],
          [
           "redencao do gurgueia",
           "PI"
          ],
          [
           "regeneracao",
           "PI"
          ],
          [
           "rio grande do piauí",
           "PI"
          ],
          [
           "santa cruz do piaui",
           "PI"
          ],
          [
           "sao joao do piaui",
           "PI"
          ],
          [
           "sao jose do divino",
           "PI"
          ],
          [
           "sao jose do piaui",
           "PI"
          ],
          [
           "sao lourenco do piaui",
           "PI"
          ],
          [
           "sao miguel do tapuio",
           "PI"
          ],
          [
           "sao raimundo nonato",
           "PI"
          ],
          [
           "sebastiao leal",
           "PI"
          ],
          [
           "simplicio mendes",
           "PI"
          ],
          [
           "teresina",
           "PI"
          ],
          [
           "uniao",
           "PI"
          ],
          [
           "uruçuí",
           "PI"
          ],
          [
           "valença do piauí",
           "PI"
          ],
          [
           "varzea grande",
           "PI"
          ],
          [
           "abatia",
           "PR"
          ],
          [
           "adhemar de barros",
           "PR"
          ],
          [
           "adrianópolis",
           "PR"
          ],
          [
           "alexandra",
           "PR"
          ],
          [
           "almirante tamandare",
           "PR"
          ],
          [
           "altamira do parana",
           "PR"
          ],
          [
           "alto alegre",
           "PR"
          ],
          [
           "alto paraiso",
           "PR"
          ],
          [
           "alto parana",
           "PR"
          ],
          [
           "alto piquiri",
           "PR"
          ],
          [
           "altonia",
           "PR"
          ],
          [
           "amapora",
           "PR"
          ],
          [
           "ampere",
           "PR"
          ],
          [
           "andira",
           "PR"
          ],
          [
           "angulo",
           "PR"
          ],
          [
           "antonina",
           "PR"
          ],
          [
           "apucarana",
           "PR"
          ],
          [
           "arapongas",
           "PR"
          ],
          [
           "arapoti",
           "PR"
          ],
          [
           "araruna",
           "PR"
          ],
          [
           "araucaria",
           "PR"
          ],
          [
           "areia branca dos assis",
           "PR"
          ],
          [
           "assai",
           "PR"
          ],
          [
           "assis chateaubriand",
           "PR"
          ],
          [
           "astorga",
           "PR"
          ],
          [
           "balsa nova",
           "PR"
          ],
          [
           "bandeirantes",
           "PR"
          ],
          [
           "barbosa ferraz",
           "PR"
          ],
          [
           "barra do jacare",
           "PR"
          ],
          [
           "barracao",
           "PR"
          ],
          [
           "bela vista do paraiso",
           "PR"
          ],
          [
           "bituruna",
           "PR"
          ],
          [
           "boa esperanca",
           "PR"
          ],
          [
           "boa esperanca do iguacu",
           "PR"
          ],
          [
           "boa vista da aparecida",
           "PR"
          ],
          [
           "bocaiuva do sul",
           "PR"
          ],
          [
           "bom jesus do sul",
           "PR"
          ],
          [
           "bom sucesso",
           "PR"
          ],
          [
           "borrazópolis",
           "PR"
          ],
          [
           "cafeara",
           "PR"
          ],
          [
           "cafelândia",
           "PR"
          ],
          [
           "california",
           "PR"
          ],
          [
           "cambara",
           "PR"
          ],
          [
           "cambe",
           "PR"
          ],
          [
           "cambira",
           "PR"
          ],
          [
           "cambé",
           "PR"
          ],
          [
           "campina da lagoa",
           "PR"
          ],
          [
           "campina grande do sul",
           "PR"
          ],
          [
           "campo bonito",
           "PR"
          ],
          [
           "campo do tenente",
           "PR"
          ],
          [
           "campo largo",
           "PR"
          ],
          [
           "campo magro",
           "PR"
          ],
          [
           "campo mourao",
           "PR"
          ],
          [
           "campo mourão",
           "PR"
          ],
          [
           "candido de abreu",
           "PR"
          ],
          [
           "candoi",
           "PR"
          ],
          [
           "cantagalo",
           "PR"
          ],
          [
           "capanema",
           "PR"
          ],
          [
           "capitao leonidas marques",
           "PR"
          ],
          [
           "capitão leônidas marques",
           "PR"
          ],
          [
           "carambei",
           "PR"
          ],
          [
           "carlopolis",
           "PR"
          ],
          [
           "cascavel",
           "PR"
          ],
          [
           "castro",
           "PR"
          ],
          [
           "centenário do sul",
           "PR"
          ],
          [
           "cerro azul",
           "PR"
          ],
          [
           "ceu azul",
           "PR"
          ],
          [
           "chopinzinho",
           "PR"
          ],
          [
           "cianorte",
           "PR"
          ],
          [
           "cidade gaucha",
           "PR"
          ],
          [
           "clevelandia",
           "PR"
          ],
          [
           "colombo",
           "PR"
          ],
          [
           "colonia castrolanda",
           "PR"
          ],
          [
           "colorado",
           "PR"
          ],
          [
           "congonhinhas",
           "PR"
          ],
          [
           "conselheiro mairinck",
           "PR"
          ],
          [
           "contenda",
           "PR"
          ],
          [
           "corbelia",
           "PR"
          ],
          [
           "cornelio procopio",
           "PR"
          ],
          [
           "coronel domingos soares",
           "PR"
          ],
          [
           "coronel vivida",
           "PR"
          ],
          [
           "corumbatai do sul",
           "PR"
          ],
          [
           "cruz machado",
           "PR"
          ],
          [
           "cruzeiro do iguaçu",
           "PR"
          ],
          [
           "cruzeiro do oeste",
           "PR"
          ],
          [
           "curitiba",
           "PR"
          ],
          [
           "curiuva",
           "PR"
          ],
          [
           "diamante d'oeste",
           "PR"
          ],
          [
           "diamante do norte",
           "PR"
          ],
          [
           "dois vizinhos",
           "PR"
          ],
          [
           "douradina",
           "PR"
          ],
          [
           "doutor camargo",
           "PR"
          ],
          [
           "doutor ulysses",
           "PR"
          ],
          [
           "eneas marques",
           "PR"
          ],
          [
           "engenheiro beltrao",
           "PR"
          ],
          [
           "entre rios do oeste",
           "PR"
          ],
          [
           "espigão alto do iguaçu",
           "PR"
          ],
          [
           "farol",
           "PR"
          ],
          [
           "faxinal",
           "PR"
          ],
          [
           "fazenda rio grande",
           "PR"
          ],
          [
           "fenix",
           "PR"
          ],
          [
           "figueira",
           "PR"
          ],
          [
           "flor da serra do sul",
           "PR"
          ],
          [
           "florai",
           "PR"
          ],
          [
           "floresta",
           "PR"
          ],
          [
           "florestopolis",
           "PR"
          ],
          [
           "florida",
           "PR"
          ],
          [
           "formosa do oeste",
           "PR"
          ],
          [
           "foz do iguacu",
           "PR"
          ],
          [
           "foz do iguaçu",
           "PR"
          ],
          [
           "foz do jordão",
           "PR"
          ],
          [
           "francisco beltrao",
           "PR"
          ],
          [
           "general carneiro",
           "PR"
          ],
          [
           "godoy moreira",
           "PR"
          ],
          [
           "goioere",
           "PR"
          ],
          [
           "grandes rios",
           "PR"
          ],
          [
           "guaira",
           "PR"
          ],
          [
           "guairaca",
           "PR"
          ],
          [
           "guamiranga",
           "PR"
          ],
          [
           "guapirama",
           "PR"
          ],
          [
           "guaraci",
           "PR"
          ],
          [
           "guaraniacu",
           "PR"
          ],
          [
           "guarapuava",
           "PR"
          ],
          [
           "guaraqueçaba",
           "PR"
          ],
          [
           "guaratuba",
           "PR"
          ],
          [
           "ibaiti",
           "PR"
          ],
          [
           "ibema",
           "PR"
          ],
          [
           "ibipora",
           "PR"
          ],
          [
           "icaraíma",
           "PR"
          ],
          [
           "iguaracu",
           "PR"
          ],
          [
           "iguatu",
           "PR"
          ],
          [
           "ilha dos valadares",
           "PR"
          ],
          [
           "imbau",
           "PR"
          ],
          [
           "imbituva",
           "PR"
          ],
          [
           "inacio martins",
           "PR"
          ],
          [
           "inaja",
           "PR"
          ],
          [
           "indianopolis",
           "PR"
          ],
          [
           "ipiranga",
           "PR"
          ],
          [
           "ipora",
           "PR"
          ],
          [
           "irati",
           "PR"
          ],
          [
           "iretama",
           "PR"
          ],
          [
           "itaguajé",
           "PR"
          ],
          [
           "itaipulandia",
           "PR"
          ],
          [
           "itambaraca",
           "PR"
          ],
          [
           "itambé",
           "PR"
          ],
          [
           "itapejara d'oeste",
           "PR"
          ],
          [
           "itaperucu",
           "PR"
          ],
          [
           "ivaipora",
           "PR"
          ],
          [
           "ivate",
           "PR"
          ],
          [
           "ivaí",
           "PR"
          ],
          [
           "jaboti",
           "PR"
          ],
          [
           "jacarezinho",
           "PR"
          ],
          [
           "jaguapita",
           "PR"
          ],
          [
           "jaguariaíva",
           "PR"
          ],
          [
           "jandaia do sul",
           "PR"
          ],
          [
           "janiopolis",
           "PR"
          ],
          [
           "japira",
           "PR"
          ],
          [
           "japura",
           "PR"
          ],
          [
           "jardim alegre",
           "PR"
          ],
          [
           "jardim olinda",
           "PR"
          ],
          [
           "jataizinho",
           "PR"
          ],
          [
           "jesuitas",
           "PR"
          ],
          [
           "joaquim tavora",
           "PR"
          ],
          [
           "jundiai do sul",
           "PR"
          ],
          [
           "juranda",
           "PR"
          ],
          [
           "jussara",
           "PR"
          ],
          [
           "kaloré",
           "PR"
          ],
          [
           "lapa",
           "PR"
          ],
          [
           "laranjal",
           "PR"
          ],
          [
           "laranjeiras do sul",
           "PR"
          ],
          [
           "leopolis",
           "PR"
          ],
          [
           "lindoeste",
           "PR"
          ],
          [
           "loanda",
           "PR"
          ],
          [
           "lobato",
           "PR"
          ],
          [
           "londrina",
           "PR"
          ],
          [
           "luiziana",
           "PR"
          ],
          [
           "lunardelli",
           "PR"
          ],
          [
           "lupionopolis",
           "PR"
          ],
          [
           "mallet",
           "PR"
          ],
          [
           "mambore",
           "PR"
          ],
          [
           "mandaguacu",
           "PR"
          ],
          [
           "mandaguari",
           "PR"
          ],
          [
           "mandirituba",
           "PR"
          ],
          [
           "manfrinopolis",
           "PR"
          ],
          [
           "mangueirinha",
           "PR"
          ],
          [
           "manoel ribas",
           "PR"
          ],
          [
           "marechal candido rondon",
           "PR"
          ],
          [
           "marialva",
           "PR"
          ],
          [
           "mariental",
           "PR"
          ],
          [
           "marilandia do sul",
           "PR"
          ],
          [
           "marilena",
           "PR"
          ],
          [
           "mariluz",
           "PR"
          ],
          [
           "maringa",
           "PR"
          ],
          [
           "maringá",
           "PR"
          ],
          [
           "maripa",
           "PR"
          ],
          [
           "mariópolis",
           "PR"
          ],
          [
           "marmeleiro",
           "PR"
          ],
          [
           "matelandia",
           "PR"
          ],
          [
           "matinhos",
           "PR"
          ],
          [
           "mato rico",
           "PR"
          ],
          [
           "maua da serra",
           "PR"
          ],
          [
           "medianeira",
           "PR"
          ],
          [
           "mercedes",
           "PR"
          ],
          [
           "missal",
           "PR"
          ],
          [
           "moreira sales",
           "PR"
          ],
          [
           "morretes",
           "PR"
          ],
          [
           "munhoz de melo",
           "PR"
          ],
          [
           "nossa senhora das gracas",
           "PR"
          ],
          [
           "nova america da colina",
           "PR"
          ],
          [
           "nova aurora",
           "PR"
          ],
          [
           "nova cantu",
           "PR"
          ],
          [
           "nova esperanca",
           "PR"
          ],
          [
           "nova esperanca do sudoeste",
           "PR"
          ],
          [
           "nova fátima",
           "PR"
          ],
          [
           "nova laranjeiras",
           "PR"
          ],
          [
           "nova londrina",
           "PR"
          ],
          [
           "nova prata do iguacu",
           "PR"
          ],
          [
           "nova santa barbara",
           "PR"
          ],
          [
           "nova santa rosa",
           "PR"
          ],
          [
           "novo itacolomi",
           "PR"
          ],
          [
           "ortigueira",
           "PR"
          ],
          [
           "ourizona",
           "PR"
          ],
          [
           "ouro verde do oeste",
           "PR"
          ],
          [
           "paicandu",
           "PR"
          ],
          [
           "palmas",
           "PR"
          ],
          [
           "palmeira",
           "PR"
          ],
          [
           "palmital",
           "PR"
          ],
          [
           "palotina",
           "PR"
          ],
          [
           "paraiso do norte",
           "PR"
          ],
          [
           "paranacity",
           "PR"
          ],
          [
           "paranagua",
           "PR"
          ],
          [
           "paranaguá",
           "PR"
          ],
          [
           "paranapoema",
           "PR"
          ],
          [
           "paranavai",
           "PR"
          ],
          [
           "paranavaí",
           "PR"
          ],
          [
           "pato bragado",
           "PR"
          ],
          [
           "pato branco",
           "PR"
          ],
          [
           "paula freitas",
           "PR"
          ],
          [
           "paulo frontin",
           "PR"
          ],
          [
           "peabiru",
           "PR"
          ],
          [
           "perobal",
           "PR"
          ],
          [
           "perola",
           "PR"
          ],
          [
           "perola d'oeste",
           "PR"
          ],
          [
           "pien",
           "PR"
          ],
          [
           "pinhais",
           "PR"
          ],
          [
           "pinhalao",
           "PR"
          ],
          [
           "pinhao",
           "PR"
          ],
          [
           "pirai do sul",
           "PR"
          ],
          [
           "piraquara",
           "PR"
          ],
          [
           "pitanga",
           "PR"
          ],
          [
           "planaltina do parana",
           "PR"
          ],
          [
           "planalto",
           "PR"
          ],
          [
           "ponta grossa",
           "PR"
          ],
          [
           "pontal do parana",
           "PR"
          ],
          [
           "porecatu",
           "PR"
          ],
          [
           "porto amazonas",
           "PR"
          ],
          [
           "porto rico",
           "PR"
          ],
          [
           "pranchita",
           "PR"
          ],
          [
           "primeiro de maio",
           "PR"
          ],
          [
           "prudentopolis",
           "PR"
          ],
          [
           "quatigua",
           "PR"
          ],
          [
           "quatro barras",
           "PR"
          ],
          [
           "quatro pontes",
           "PR"
          ],
          [
           "quedas do iguacu",
           "PR"
          ],
          [
           "querência do norte",
           "PR"
          ],
          [
           "quinta do sol",
           "PR"
          ],
          [
           "quitandinha",
           "PR"
          ],
          [
           "rancho alegre",
           "PR"
          ],
          [
           "rancho alegre d'oeste",
           "PR"
          ],
          [
           "realeza",
           "PR"
          ],
          [
           "reboucas",
           "PR"
          ],
          [
           "renascenca",
           "PR"
          ],
          [
           "reserva",
           "PR"
          ],
          [
           "reserva do iguacu",
           "PR"
          ],
          [
           "ribeirao claro",
           "PR"
          ],
          [
           "ribeirao do pinhal",
           "PR"
          ],
          [
           "rio azul",
           "PR"
          ],
          [
           "rio bonito do iguacu",
           "PR"
          ],
          [
           "rio branco do sul",
           "PR"
          ],
          [
           "rio negro",
           "PR"
          ],
          [
           "rio verde",
           "PR"
          ],
          [
           "rolandia",
           "PR"
          ],
          [
           "rolândia",
           "PR"
          ],
          [
           "roncador",
           "PR"
          ],
          [
           "rondon",
           "PR"
          ],
          [
           "rosario do ivai",
           "PR"
          ],
          [
           "sabáudia",
           "PR"
          ],
          [
           "salgado filho",
           "PR"
          ],
          [
           "salto do itarare",
           "PR"
          ],
          [
           "salto do lontra",
           "PR"
          ],
          [
           "santa amelia",
           "PR"
          ],
          [
           "santa cecilia do pavao",
           "PR"
          ],
          [
           "santa cruz de monte castelo",
           "PR"
          ],
          [
           "santa fé",
           "PR"
          ],
          [
           "santa helena",
           "PR"
          ],
          [
           "santa isabel do ivai",
           "PR"
          ],
          [
           "santa izabel do oeste",
           "PR"
          ],
          [
           "santa lúcia",
           "PR"
          ],
          [
           "santa mariana",
           "PR"
          ],
          [
           "santa monica",
           "PR"
          ],
          [
           "santa tereza do oeste",
           "PR"
          ],
          [
           "santa terezinha de itaipu",
           "PR"
          ],
          [
           "santana do itarare",
           "PR"
          ],
          [
           "santo antonio da platina",
           "PR"
          ],
          [
           "santo antonio do caiua",
           "PR"
          ],
          [
           "santo antonio do sudoeste",
           "PR"
          ],
          [
           "santo inácio",
           "PR"
          ],
          [
           "sao carlos do ivai",
           "PR"
          ],
          [
           "sao joao do ivai",
           "PR"
          ],
          [
           "sao joao do triunfo",
           "PR"
          ],
          [
           "sao jorge d'oeste",
           "PR"
          ],
          [
           "sao jorge do ivai",
           "PR"
          ],
          [
           "sao jorge do patrocinio",
           "PR"
          ],
          [
           "sao jose dos pinhais",
           "PR"
          ],
          [
           "sao miguel do iguacu",
           "PR"
          ],
          [
           "sao pedro do iguacu",
           "PR"
          ],
          [
           "sao pedro do ivai",
           "PR"
          ],
          [
           "sao sebastiao da amoreira",
           "PR"
          ],
          [
           "sao tome",
           "PR"
          ],
          [
           "sapopema",
           "PR"
          ],
          [
           "sarandi",
           "PR"
          ],
          [
           "saudade do iguaçu",
           "PR"
          ],
          [
           "sede alvorada",
           "PR"
          ],
          [
           "senges",
           "PR"
          ],
          [
           "serra dos dourados",
           "PR"
          ],
          [
           "serranopolis do iguacu",
           "PR"
          ],
          [
           "sertanopolis",
           "PR"
          ],
          [
           "siqueira campos",
           "PR"
          ],
          [
           "sulina",
           "PR"
          ],
          [
           "são josé da boa vista",
           "PR"
          ],
          [
           "são josé dos pinhais",
           "PR"
          ],
          [
           "são joão",
           "PR"
          ],
          [
           "são mateus do sul",
           "PR"
          ],
          [
           "tamarana",
           "PR"
          ],
          [
           "tamboara",
           "PR"
          ],
          [
           "tapejara",
           "PR"
          ],
          [
           "teixeira soares",
           "PR"
          ],
          [
           "telemaco borba",
           "PR"
          ],
          [
           "telêmaco borba",
           "PR"
          ],
          [
           "terra boa",
           "PR"
          ],
          [
           "terra rica",
           "PR"
          ],
          [
           "terra roxa",
           "PR"
          ],
          [
           "tibagi",
           "PR"
          ],
          [
           "toledo",
           "PR"
          ],
          [
           "tomazina",
           "PR"
          ],
          [
           "tunas do paraná",
           "PR"
          ],
          [
           "tupassi",
           "PR"
          ],
          [
           "turvo",
           "PR"
          ],
          [
           "ubirata",
           "PR"
          ],
          [
           "umuarama",
           "PR"
          ],
          [
           "uniao da vitoria",
           "PR"
          ],
          [
           "união da vitória",
           "PR"
          ],
          [
           "urai",
           "PR"
          ],
          [
           "ventania",
           "PR"
          ],
          [
           "vera cruz do oeste",
           "PR"
          ],
          [
           "vere",
           "PR"
          ],
          [
           "vila nova",
           "PR"
          ],
          [
           "vitoria",
           "PR"
          ],
          [
           "vitorino",
           "PR"
          ],
          [
           "wenceslau braz",
           "PR"
          ],
          [
           "xambre",
           "PR"
          ],
          [
           "água boa",
           "PR"
          ],
          [
           "angra dos reis",
           "RJ"
          ],
          [
           "anta",
           "RJ"
          ],
          [
           "aperibe",
           "RJ"
          ],
          [
           "araruama",
           "RJ"
          ],
          [
           "areal",
           "RJ"
          ],
          [
           "armacao dos buzios",
           "RJ"
          ],
          [
           "arraial do cabo",
           "RJ"
          ],
          [
           "arrozal",
           "RJ"
          ],
          [
           "avelar",
           "RJ"
          ],
          [
           "bacaxa",
           "RJ"
          ],
          [
           "barao de juparana",
           "RJ"
          ],
          [
           "barra de são joão",
           "RJ"
          ],
          [
           "barra do pirai",
           "RJ"
          ],
          [
           "barra do piraí",
           "RJ"
          ],
          [
           "barra mansa",
           "RJ"
          ],
          [
           "belford roxo",
           "RJ"
          ],
          [
           "boa esperança",
           "RJ"
          ],
          [
           "boa ventura",
           "RJ"
          ],
          [
           "bom jardim",
           "RJ"
          ],
          [
           "bom jesus do itabapoana",
           "RJ"
          ],
          [
           "cabo frio",
           "RJ"
          ],
          [
           "cachoeiras de macacu",
           "RJ"
          ],
          [
           "california da barra",
           "RJ"
          ],
          [
           "cambiasca",
           "RJ"
          ],
          [
           "cambuci",
           "RJ"
          ],
          [
           "campos dos goytacazes",
           "RJ"
          ],
          [
           "cantagalo",
           "RJ"
          ],
          [
           "carapebus",
           "RJ"
          ],
          [
           "cardoso moreira",
           "RJ"
          ],
          [
           "carmo",
           "RJ"
          ],
          [
           "casimiro de abreu",
           "RJ"
          ],
          [
           "comendador levy gasparian",
           "RJ"
          ],
          [
           "conceicao de macabu",
           "RJ"
          ],
          [
           "conrado",
           "RJ"
          ],
          [
           "conservatória",
           "RJ"
          ],
          [
           "cordeiro",
           "RJ"
          ],
          [
           "duas barras",
           "RJ"
          ],
          [
           "duque de caxias",
           "RJ"
          ],
          [
           "engenheiro passos",
           "RJ"
          ],
          [
           "engenheiro paulo de frontin",
           "RJ"
          ],
          [
           "glicerio",
           "RJ"
          ],
          [
           "goitacazes",
           "RJ"
          ],
          [
           "governador portela",
           "RJ"
          ],
          [
           "guapimirim",
           "RJ"
          ],
          [
           "iguaba grande",
           "RJ"
          ],
          [
           "ipiabas",
           "RJ"
          ],
          [
           "itaborai",
           "RJ"
          ],
          [
           "itaboraí",
           "RJ"
          ],
          [
           "itacurussa",
           "RJ"
          ],
          [
           "itaguai",
           "RJ"
          ],
          [
           "itaguaí",
           "RJ"
          ],
          [
           "italva",
           "RJ"
          ],
          [
           "itaocara",
           "RJ"
          ],
          [
           "itaperuna",
           "RJ"
          ],
          [
           "itatiaia",
           "RJ"
          ],
          [
           "jamapara",
           "RJ"
          ],
          [
           "japeri",
           "RJ"
          ],
          [
           "japuiba",
           "RJ"
          ],
          [
           "laje do muriae",
           "RJ"
          ],
          [
           "lidice",
           "RJ"
          ],
          [
           "macae",
           "RJ"
          ],
          [
           "macaé",
           "RJ"
          ],
          [
           "macuco",
           "RJ"
          ],
          [
           "mage",
           "RJ"
          ],
          [
           "magé",
           "RJ"
          ],
          [
           "mangaratiba",
           "RJ"
          ],
          [
           "marica",
           "RJ"
          ],
          [
           "maricá",
           "RJ"
          ],
          [
           "mendes",
           "RJ"
          ],
          [
           "mesquita",
           "RJ"
          ],
          [
           "miguel pereira",
           "RJ"
          ],
          [
           "miracema",
           "RJ"
          ],
          [
           "natividade",
           "RJ"
          ],
          [
           "nilopolis",
           "RJ"
          ],
          [
           "nilópolis",
           "RJ"
          ],
          [
           "niteroi",
           "RJ"
          ],
          [
           "niterói",
           "RJ"
          ],
          [
           "nova friburgo",
           "RJ"
          ],
          [
           "nova iguacu",
           "RJ"
          ],
          [
           "nova iguaçu",
           "RJ"
          ],
          [
           "papucaia",
           "RJ"
          ],
          [
           "paracambi",
           "RJ"
          ],
          [
           "paraiba do sul",
           "RJ"
          ],
          [
           "parati",
           "RJ"
          ],
          [
           "passa tres",
           "RJ"
          ],
          [
           "paty do alferes",
           "RJ"
          ],
          [
           "penedo",
           "RJ"
          ],
          [
           "petropolis",
           "RJ"
          ],
          [
           "petrópolis",
           "RJ"
          ],
          [
           "piao",
           "RJ"
          ],
          [
           "pinheiral",
           "RJ"
          ],
          [
           "pirai",
           "RJ"
          ],
          [
           "porciuncula",
           "RJ"
          ],
          [
           "porto real",
           "RJ"
          ],
          [
           "pureza",
           "RJ"
          ],
          [
           "purilandia",
           "RJ"
          ],
          [
           "quatis",
           "RJ"
          ],
          [
           "queimados",
           "RJ"
          ],
          [
           "quissama",
           "RJ"
          ],
          [
           "raposo",
           "RJ"
          ],
          [
           "resende",
           "RJ"
          ],
          [
           "rio bonito",
           "RJ"
          ],
          [
           "rio claro",
           "RJ"
          ],
          [
           "rio das flores",
           "RJ"
          ],
          [
           "rio das ostras",
           "RJ"
          ],
          [
           "rio de janeiro",
           "RJ"
          ],
          [
           "sacra familia do tingua",
           "RJ"
          ],
          [
           "sampaio correia",
           "RJ"
          ],
          [
           "santa isabel do rio preto",
           "RJ"
          ],
          [
           "santa maria",
           "RJ"
          ],
          [
           "santa maria madalena",
           "RJ"
          ],
          [
           "santa rita da floresta",
           "RJ"
          ],
          [
           "santanesia",
           "RJ"
          ],
          [
           "santo amaro de campos",
           "RJ"
          ],
          [
           "santo antônio de pádua",
           "RJ"
          ],
          [
           "sao fidelis",
           "RJ"
          ],
          [
           "sao francisco de itabapoana",
           "RJ"
          ],
          [
           "sao goncalo",
           "RJ"
          ],
          [
           "sao joao da barra",
           "RJ"
          ],
          [
           "sao joao de meriti",
           "RJ"
          ],
          [
           "sao jose de uba",
           "RJ"
          ],
          [
           "sao jose do ribeirao",
           "RJ"
          ],
          [
           "sao jose do vale do rio preto",
           "RJ"
          ],
          [
           "sao pedro da aldeia",
           "RJ"
          ],
          [
           "sao sebastiao de campos",
           "RJ"
          ],
          [
           "sao sebastiao do alto",
           "RJ"
          ],
          [
           "sapucaia",
           "RJ"
          ],
          [
           "saquarema",
           "RJ"
          ],
          [
           "seropedica",
           "RJ"
          ],
          [
           "seropédica",
           "RJ"
          ],
          [
           "silva jardim",
           "RJ"
          ],
          [
           "sumidouro",
           "RJ"
          ],
          [
           "são gonçalo",
           "RJ"
          ],
          [
           "são joão de meriti",
           "RJ"
          ],
          [
           "são joão do paraíso",
           "RJ"
          ],
          [
           "tangua",
           "RJ"
          ],
          [
           "teresopolis",
           "RJ"
          ],
          [
           "teresópolis",
           "RJ"
          ],
          [
           "tocos",
           "RJ"
          ],
          [
           "trajano de moraes",
           "RJ"
          ],
          [
           "tres irmaos",
           "RJ"
          ],
          [
           "tres rios",
           "RJ"
          ],
          [
           "três rios",
           "RJ"
          ],
          [
           "valao do barro",
           "RJ"
          ],
          [
           "valenca",
           "RJ"
          ],
          [
           "varre-sai",
           "RJ"
          ],
          [
           "vassouras",
           "RJ"
          ],
          [
           "vila muriqui",
           "RJ"
          ],
          [
           "visconde de maua",
           "RJ"
          ],
          [
           "volta redonda",
           "RJ"
          ],
          [
           "werneck",
           "RJ"
          ],
          [
           "acari",
           "RN"
          ],
          [
           "acu",
           "RN"
          ],
          [
           "agua nova",
           "RN"
          ],
          [
           "alexandria",
           "RN"
          ],
          [
           "almino afonso",
           "RN"
          ],
          [
           "alto do rodrigues",
           "RN"
          ],
          [
           "angicos",
           "RN"
          ],
          [
           "antônio martins",
           "RN"
          ],
          [
           "apodi",
           "RN"
          ],
          [
           "areia branca",
           "RN"
          ],
          [
           "baraúna",
           "RN"
          ],
          [
           "bodo",
           "RN"
          ],
          [
           "caicara do norte",
           "RN"
          ],
          [
           "caico",
           "RN"
          ],
          [
           "caraubas",
           "RN"
          ],
          [
           "carnauba dos dantas",
           "RN"
          ],
          [
           "carnaubais",
           "RN"
          ],
          [
           "ceara-mirim",
           "RN"
          ],
          [
           "coronel joao pessoa",
           "RN"
          ],
          [
           "currais novos",
           "RN"
          ],
          [
           "extremoz",
           "RN"
          ],
          [
           "felipe guerra",
           "RN"
          ],
          [
           "florania",
           "RN"
          ],
          [
           "francisco dantas",
           "RN"
          ],
          [
           "frutuoso gomes",
           "RN"
          ],
          [
           "galinhos",
           "RN"
          ],
          [
           "goianinha",
           "RN"
          ],
          [
           "governador dix-sept rosado",
           "RN"
          ],
          [
           "guamare",
           "RN"
          ],
          [
           "ielmo marinho",
           "RN"
          ],
          [
           "ipueira",
           "RN"
          ],
          [
           "itau",
           "RN"
          ],
          [
           "jandaira",
           "RN"
          ],
          [
           "janduís",
           "RN"
          ],
          [
           "japi",
           "RN"
          ],
          [
           "jardim de piranhas",
           "RN"
          ],
          [
           "jardim do serido",
           "RN"
          ],
          [
           "joao camara",
           "RN"
          ],
          [
           "josé da penha",
           "RN"
          ],
          [
           "jucurutu",
           "RN"
          ],
          [
           "lagoa d'anta",
           "RN"
          ],
          [
           "lagoa de velhos",
           "RN"
          ],
          [
           "lagoa nova",
           "RN"
          ],
          [
           "lagoa salgada",
           "RN"
          ],
          [
           "macau",
           "RN"
          ],
          [
           "macaíba",
           "RN"
          ],
          [
           "marcelino vieira",
           "RN"
          ],
          [
           "martins",
           "RN"
          ],
          [
           "messias targino",
           "RN"
          ],
          [
           "montanhas",
           "RN"
          ],
          [
           "monte alegre",
           "RN"
          ],
          [
           "mossoro",
           "RN"
          ],
          [
           "mossoró",
           "RN"
          ],
          [
           "natal",
           "RN"
          ],
          [
           "nova cruz",
           "RN"
          ],
          [
           "parelhas",
           "RN"
          ],
          [
           "parnamirim",
           "RN"
          ],
          [
           "patu",
           "RN"
          ],
          [
           "pau dos ferros",
           "RN"
          ],
          [
           "pedro velho",
           "RN"
          ],
          [
           "pendencias",
           "RN"
          ],
          [
           "portalegre",
           "RN"
          ],
          [
           "riacho da cruz",
           "RN"
          ],
          [
           "rodolfo fernandes",
           "RN"
          ],
          [
           "santa cruz",
           "RN"
          ],
          [
           "santa maria",
           "RN"
          ],
          [
           "santana do serido",
           "RN"
          ],
          [
           "santo antônio",
           "RN"
          ],
          [
           "sao fernando",
           "RN"
          ],
          [
           "sao goncalo do amarante",
           "RN"
          ],
          [
           "sao joao do sabugi",
           "RN"
          ],
          [
           "sao jose de mipibu",
           "RN"
          ],
          [
           "sao jose do campestre",
           "RN"
          ],
          [
           "sao jose do serido",
           "RN"
          ],
          [
           "sao miguel",
           "RN"
          ],
          [
           "sao miguel de touros",
           "RN"
          ],
          [
           "sao paulo do potengi",
           "RN"
          ],
          [
           "sao rafael",
           "RN"
          ],
          [
           "sao tome",
           "RN"
          ],
          [
           "serra de sao bento",
           "RN"
          ],
          [
           "severiano melo",
           "RN"
          ],
          [
           "sitio novo",
           "RN"
          ],
          [
           "são gonçalo do amarante",
           "RN"
          ],
          [
           "são vicente",
           "RN"
          ],
          [
           "tenente ananias",
           "RN"
          ],
          [
           "tibau do sul",
           "RN"
          ],
          [
           "upanema",
           "RN"
          ],
          [
           "vera cruz",
           "RN"
          ],
          [
           "vicosa",
           "RN"
          ],
          [
           "vila flor",
           "RN"
          ],
          [
           "alta floresta d'oeste",
           "RO"
          ],
          [
           "alto paraiso",
           "RO"
          ],
          [
           "alvorada d'oeste",
           "RO"
          ],
          [
           "ariquemes",
           "RO"
          ],
          [
           "buritis",
           "RO"
          ],
          [
           "cabixi",
           "RO"
          ],
          [
           "cacaulandia",
           "RO"
          ],
          [
           "cacoal",
           "RO"
          ],
          [
           "candeias do jamari",
           "RO"
          ],
          [
           "castanheiras",
           "RO"
          ],
          [
           "cerejeiras",
           "RO"
          ],
          [
           "colorado do oeste",
           "RO"
          ],
          [
           "costa marques",
           "RO"
          ],
          [
           "cujubim",
           "RO"
          ],
          [
           "espigao do oeste",
           "RO"
          ],
          [
           "guajara-mirim",
           "RO"
          ],
          [
           "jaru",
           "RO"
          ],
          [
           "ji-parana",
           "RO"
          ],
          [
           "ji-paraná",
           "RO"
          ],
          [
           "machadinho d'oeste",
           "RO"
          ],
          [
           "ministro andreazza",
           "RO"
          ],
          [
           "mirante da serra",
           "RO"
          ],
          [
           "mutum parana",
           "RO"
          ],
          [
           "nova brasilandia d'oeste",
           "RO"
          ],
          [
           "nova mamore",
           "RO"
          ],
          [
           "ouro preto do oeste",
           "RO"
          ],
          [
           "pimenta bueno",
           "RO"
          ],
          [
           "porto velho",
           "RO"
          ],
          [
           "presidente medici",
           "RO"
          ],
          [
           "rolim de moura",
           "RO"
          ],
          [
           "sao francisco do guapore",
           "RO"
          ],
          [
           "sao miguel do guapore",
           "RO"
          ],
          [
           "seringueiras",
           "RO"
          ],
          [
           "urupa",
           "RO"
          ],
          [
           "vilhena",
           "RO"
          ],
          [
           "boa vista",
           "RR"
          ],
          [
           "bonfim",
           "RR"
          ],
          [
           "acegua",
           "RS"
          ],
          [
           "agua santa",
           "RS"
          ],
          [
           "aguas claras",
           "RS"
          ],
          [
           "agudo",
           "RS"
          ],
          [
           "ajuricaba",
           "RS"
          ],
          [
           "alegrete",
           "RS"
          ],
          [
           "alegria",
           "RS"
          ],
          [
           "almirante tamandare do sul",
           "RS"
          ],
          [
           "alpestre",
           "RS"
          ],
          [
           "alto alegre",
           "RS"
          ],
          [
           "alvorada",
           "RS"
          ],
          [
           "ametista do sul",
           "RS"
          ],
          [
           "andré da rocha",
           "RS"
          ],
          [
           "anta gorda",
           "RS"
          ],
          [
           "antonio prado",
           "RS"
          ],
          [
           "araricá",
           "RS"
          ],
          [
           "aratiba",
           "RS"
          ],
          [
           "arroio do meio",
           "RS"
          ],
          [
           "arroio do sal",
           "RS"
          ],
          [
           "arroio do tigre",
           "RS"
          ],
          [
           "arroio dos ratos",
           "RS"
          ],
          [
           "arroio grande",
           "RS"
          ],
          [
           "arvorezinha",
           "RS"
          ],
          [
           "augusto pestana",
           "RS"
          ],
          [
           "bage",
           "RS"
          ],
          [
           "bagé",
           "RS"
          ],
          [
           "balneario pinhal",
           "RS"
          ],
          [
           "barao",
           "RS"
          ],
          [
           "barao de cotegipe",
           "RS"
          ],
          [
           "barao do triunfo",
           "RS"
          ],
          [
           "barra do ribeiro",
           "RS"
          ],
          [
           "barra do rio azul",
           "RS"
          ],
          [
           "barracao",
           "RS"
          ],
          [
           "barros cassal",
           "RS"
          ],
          [
           "bento goncalves",
           "RS"
          ],
          [
           "bento gonçalves",
           "RS"
          ],
          [
           "boa vista das missoes",
           "RS"
          ],
          [
           "boa vista do burica",
           "RS"
          ],
          [
           "boa vista do cadeado",
           "RS"
          ],
          [
           "boa vista do sul",
           "RS"
          ],
          [
           "bom principio",
           "RS"
          ],
          [
           "bom retiro do sul",
           "RS"
          ],
          [
           "boqueirao do leao",
           "RS"
          ],
          [
           "bossoroca",
           "RS"
          ],
          [
           "butiá",
           "RS"
          ],
          [
           "cacequi",
           "RS"
          ],
          [
           "cachoeira do sul",
           "RS"
          ],
          [
           "cachoeirinha",
           "RS"
          ],
          [
           "caibate",
           "RS"
          ],
          [
           "camaqua",
           "RS"
          ],
          [
           "cambara do sul",
           "RS"
          ],
          [
           "campestre da serra",
           "RS"
          ],
          [
           "campina das missoes",
           "RS"
          ],
          [
           "campinas do sul",
           "RS"
          ],
          [
           "campo bom",
           "RS"
          ],
          [
           "campo novo",
           "RS"
          ],
          [
           "campos borges",
           "RS"
          ],
          [
           "candelaria",
           "RS"
          ],
          [
           "candiota",
           "RS"
          ],
          [
           "canela",
           "RS"
          ],
          [
           "cangucu",
           "RS"
          ],
          [
           "canoas",
           "RS"
          ],
          [
           "capao da canoa",
           "RS"
          ],
          [
           "capao da porteira",
           "RS"
          ],
          [
           "capao do cipo",
           "RS"
          ],
          [
           "capela de santana",
           "RS"
          ],
          [
           "capitao",
           "RS"
          ],
          [
           "capivari do sul",
           "RS"
          ],
          [
           "capão do leão",
           "RS"
          ],
          [
           "carazinho",
           "RS"
          ],
          [
           "carlos barbosa",
           "RS"
          ],
          [
           "casca",
           "RS"
          ],
          [
           "caseiros",
           "RS"
          ],
          [
           "catuipe",
           "RS"
          ],
          [
           "caxias do sul",
           "RS"
          ],
          [
           "caçapava do sul",
           "RS"
          ],
          [
           "cerrito",
           "RS"
          ],
          [
           "cerro grande",
           "RS"
          ],
          [
           "cerro grande do sul",
           "RS"
          ],
          [
           "cerro largo",
           "RS"
          ],
          [
           "chapada",
           "RS"
          ],
          [
           "charqueadas",
           "RS"
          ],
          [
           "charrua",
           "RS"
          ],
          [
           "chiapetta",
           "RS"
          ],
          [
           "chuí",
           "RS"
          ],
          [
           "cidreira",
           "RS"
          ],
          [
           "ciriaco",
           "RS"
          ],
          [
           "colinas",
           "RS"
          ],
          [
           "colorado",
           "RS"
          ],
          [
           "condor",
           "RS"
          ],
          [
           "constantina",
           "RS"
          ],
          [
           "coqueiro baixo",
           "RS"
          ],
          [
           "coqueiros do sul",
           "RS"
          ],
          [
           "cotipora",
           "RS"
          ],
          [
           "coxilha",
           "RS"
          ],
          [
           "crissiumal",
           "RS"
          ],
          [
           "cristal",
           "RS"
          ],
          [
           "cruz alta",
           "RS"
          ],
          [
           "cruzeiro do sul",
           "RS"
          ],
          [
           "cândido godói",
           "RS"
          ],
          [
           "david canabarro",
           "RS"
          ],
          [
           "dezesseis de novembro",
           "RS"
          ],
          [
           "dois irmaos",
           "RS"
          ],
          [
           "dom feliciano",
           "RS"
          ],
          [
           "dom pedrito",
           "RS"
          ],
          [
           "dona francisca",
           "RS"
          ],
          [
           "doutor mauricio cardoso",
           "RS"
          ],
          [
           "eldorado do sul",
           "RS"
          ],
          [
           "encantado",
           "RS"
          ],
          [
           "encruzilhada do sul",
           "RS"
          ],
          [
           "entre-ijuis",
           "RS"
          ],
          [
           "erebango",
           "RS"
          ],
          [
           "erechim",
           "RS"
          ],
          [
           "erval grande",
           "RS"
          ],
          [
           "esmeralda",
           "RS"
          ],
          [
           "espumoso",
           "RS"
          ],
          [
           "estacao",
           "RS"
          ],
          [
           "estancia velha",
           "RS"
          ],
          [
           "esteio",
           "RS"
          ],
          [
           "estrela",
           "RS"
          ],
          [
           "estrela velha",
           "RS"
          ],
          [
           "estância velha",
           "RS"
          ],
          [
           "eugenio de castro",
           "RS"
          ],
          [
           "farroupilha",
           "RS"
          ],
          [
           "faxinalzinho",
           "RS"
          ],
          [
           "fazenda vilanova",
           "RS"
          ],
          [
           "feliz",
           "RS"
          ],
          [
           "flores da cunha",
           "RS"
          ],
          [
           "fontoura xavier",
           "RS"
          ],
          [
           "formigueiro",
           "RS"
          ],
          [
           "fortaleza dos valos",
           "RS"
          ],
          [
           "frederico westphalen",
           "RS"
          ],
          [
           "garibaldi",
           "RS"
          ],
          [
           "garruchos",
           "RS"
          ],
          [
           "gaurama",
           "RS"
          ],
          [
           "general camara",
           "RS"
          ],
          [
           "getulio vargas",
           "RS"
          ],
          [
           "giruá",
           "RS"
          ],
          [
           "glorinha",
           "RS"
          ],
          [
           "gramado",
           "RS"
          ],
          [
           "gramado dos loureiros",
           "RS"
          ],
          [
           "gramado xavier",
           "RS"
          ],
          [
           "gravatai",
           "RS"
          ],
          [
           "gravataí",
           "RS"
          ],
          [
           "guabiju",
           "RS"
          ],
          [
           "guaiba",
           "RS"
          ],
          [
           "guaporé",
           "RS"
          ],
          [
           "guarani das missoes",
           "RS"
          ],
          [
           "herval",
           "RS"
          ],
          [
           "herveiras",
           "RS"
          ],
          [
           "horizontina",
           "RS"
          ],
          [
           "hulha negra",
           "RS"
          ],
          [
           "ibarama",
           "RS"
          ],
          [
           "ibiaca",
           "RS"
          ],
          [
           "ibiraiaras",
           "RS"
          ],
          [
           "ibiruba",
           "RS"
          ],
          [
           "igrejinha",
           "RS"
          ],
          [
           "ijui",
           "RS"
          ],
          [
           "ilopolis",
           "RS"
          ],
          [
           "imbe",
           "RS"
          ],
          [
           "imigrante",
           "RS"
          ],
          [
           "ipe",
           "RS"
          ],
          [
           "ipiranga do sul",
           "RS"
          ],
          [
           "iraí",
           "RS"
          ],
          [
           "itaara",
           "RS"
          ],
          [
           "itaqui",
           "RS"
          ],
          [
           "itatiba do sul",
           "RS"
          ],
          [
           "ivora",
           "RS"
          ],
          [
           "ivoti",
           "RS"
          ],
          [
           "jacuizinho",
           "RS"
          ],
          [
           "jacutinga",
           "RS"
          ],
          [
           "jaguarao",
           "RS"
          ],
          [
           "jaguari",
           "RS"
          ],
          [
           "jaquirana",
           "RS"
          ],
          [
           "jari",
           "RS"
          ],
          [
           "júlio de castilhos",
           "RS"
          ],
          [
           "lagoa dos tres cantos",
           "RS"
          ],
          [
           "lagoa vermelha",
           "RS"
          ],
          [
           "lagoão",
           "RS"
          ],
          [
           "lajeado",
           "RS"
          ],
          [
           "lavras do sul",
           "RS"
          ],
          [
           "liberato salzano",
           "RS"
          ],
          [
           "lindolfo collor",
           "RS"
          ],
          [
           "macambara",
           "RS"
          ],
          [
           "machadinho",
           "RS"
          ],
          [
           "manoel viana",
           "RS"
          ],
          [
           "maquine",
           "RS"
          ],
          [
           "marau",
           "RS"
          ],
          [
           "mariano moro",
           "RS"
          ],
          [
           "marques de souza",
           "RS"
          ],
          [
           "mata",
           "RS"
          ],
          [
           "mato leitao",
           "RS"
          ],
          [
           "maximiliano de almeida",
           "RS"
          ],
          [
           "minas do leao",
           "RS"
          ],
          [
           "miraguai",
           "RS"
          ],
          [
           "montauri",
           "RS"
          ],
          [
           "monte belo do sul",
           "RS"
          ],
          [
           "monte bonito",
           "RS"
          ],
          [
           "montenegro",
           "RS"
          ],
          [
           "morro redondo",
           "RS"
          ],
          [
           "morro reuter",
           "RS"
          ],
          [
           "mostardas",
           "RS"
          ],
          [
           "muliterno",
           "RS"
          ],
          [
           "nao-me-toque",
           "RS"
          ],
          [
           "nonoai",
           "RS"
          ],
          [
           "nova alvorada",
           "RS"
          ],
          [
           "nova araca",
           "RS"
          ],
          [
           "nova bassano",
           "RS"
          ],
          [
           "nova boa vista",
           "RS"
          ],
          [
           "nova bréscia",
           "RS"
          ],
          [
           "nova esperanca do sul",
           "RS"
          ],
          [
           "nova hartz",
           "RS"
          ],
          [
           "nova palma",
           "RS"
          ],
          [
           "nova petropolis",
           "RS"
          ],
          [
           "nova prata",
           "RS"
          ],
          [
           "nova pádua",
           "RS"
          ],
          [
           "nova roma do sul",
           "RS"
          ],
          [
           "nova santa rita",
           "RS"
          ],
          [
           "novo barreiro",
           "RS"
          ],
          [
           "novo cabrais",
           "RS"
          ],
          [
           "novo hamburgo",
           "RS"
          ],
          [
           "novo machado",
           "RS"
          ],
          [
           "osorio",
           "RS"
          ],
          [
           "osvaldo kroeff",
           "RS"
          ],
          [
           "padre gonzales",
           "RS"
          ],
          [
           "palmares do sul",
           "RS"
          ],
          [
           "palmeira das missoes",
           "RS"
          ],
          [
           "palmitinho",
           "RS"
          ],
          [
           "panambi",
           "RS"
          ],
          [
           "pantano grande",
           "RS"
          ],
          [
           "parai",
           "RS"
          ],
          [
           "paraíso do sul",
           "RS"
          ],
          [
           "pareci novo",
           "RS"
          ],
          [
           "parobe",
           "RS"
          ],
          [
           "passo fundo",
           "RS"
          ],
          [
           "pedras altas",
           "RS"
          ],
          [
           "pedro osorio",
           "RS"
          ],
          [
           "pejucara",
           "RS"
          ],
          [
           "pelotas",
           "RS"
          ],
          [
           "picada cafe",
           "RS"
          ],
          [
           "pinhal da serra",
           "RS"
          ],
          [
           "pinheiro machado",
           "RS"
          ],
          [
           "pinto bandeira",
           "RS"
          ],
          [
           "piratini",
           "RS"
          ],
          [
           "planalto",
           "RS"
          ],
          [
           "pontão",
           "RS"
          ],
          [
           "portao",
           "RS"
          ],
          [
           "porto alegre",
           "RS"
          ],
          [
           "porto lucena",
           "RS"
          ],
          [
           "porto xavier",
           "RS"
          ],
          [
           "pouso novo",
           "RS"
          ],
          [
           "presidente lucena",
           "RS"
          ],
          [
           "progresso",
           "RS"
          ],
          [
           "protasio alves",
           "RS"
          ],
          [
           "putinga",
           "RS"
          ],
          [
           "quaraí",
           "RS"
          ],
          [
           "quevedos",
           "RS"
          ],
          [
           "rainha do mar",
           "RS"
          ],
          [
           "redentora",
           "RS"
          ],
          [
           "restinga seca",
           "RS"
          ],
          [
           "rio dos indios",
           "RS"
          ],
          [
           "rio grande",
           "RS"
          ],
          [
           "rio pardo",
           "RS"
          ],
          [
           "roca sales",
           "RS"
          ],
          [
           "rodeio bonito",
           "RS"
          ],
          [
           "rolante",
           "RS"
          ],
          [
           "ronda alta",
           "RS"
          ],
          [
           "roque gonzales",
           "RS"
          ],
          [
           "rosario do sul",
           "RS"
          ],
          [
           "salto do jacui",
           "RS"
          ],
          [
           "salvador do sul",
           "RS"
          ],
          [
           "sananduva",
           "RS"
          ],
          [
           "sant'ana do livramento",
           "RS"
          ],
          [
           "santa barbara do sul",
           "RS"
          ],
          [
           "santa clara do sul",
           "RS"
          ],
          [
           "santa cruz do sul",
           "RS"
          ],
          [
           "santa maria",
           "RS"
          ],
          [
           "santa maria do herval",
           "RS"
          ],
          [
           "santa rosa",
           "RS"
          ],
          [
           "santa vitoria do palmar",
           "RS"
          ],
          [
           "santana da boa vista",
           "RS"
          ],
          [
           "santana do livramento",
           "RS"
          ],
          [
           "santiago",
           "RS"
          ],
          [
           "santo angelo",
           "RS"
          ],
          [
           "santo antonio da patrulha",
           "RS"
          ],
          [
           "santo antonio do palma",
           "RS"
          ],
          [
           "santo antônio das missões",
           "RS"
          ],
          [
           "santo antônio do planalto",
           "RS"
          ],
          [
           "santo augusto",
           "RS"
          ],
          [
           "santo cristo",
           "RS"
          ],
          [
           "santo expedito do sul",
           "RS"
          ],
          [
           "sao borja",
           "RS"
          ],
          [
           "sao domingos do sul",
           "RS"
          ],
          [
           "sao francisco de assis",
           "RS"
          ],
          [
           "sao francisco de paula",
           "RS"
          ],
          [
           "sao gabriel",
           "RS"
          ],
          [
           "sao jeronimo",
           "RS"
          ],
          [
           "sao jorge",
           "RS"
          ],
          [
           "sao jose do inhacora",
           "RS"
          ],
          [
           "sao jose do norte",
           "RS"
          ],
          [
           "sao leopoldo",
           "RS"
          ],
          [
           "sao lourenco do sul",
           "RS"
          ],
          [
           "sao marcos",
           "RS"
          ],
          [
           "sao martinho",
           "RS"
          ],
          [
           "sao paulo das missoes",
           "RS"
          ],
          [
           "sao pedro do butia",
           "RS"
          ],
          [
           "sao pedro do sul",
           "RS"
          ],
          [
           "sao sebastiao do cai",
           "RS"
          ],
          [
           "sao sepe",
           "RS"
          ],
          [
           "sao valentim",
           "RS"
          ],
          [
           "sao vendelino",
           "RS"
          ],
          [
           "sapiranga",
           "RS"
          ],
          [
           "sapucaia do sul",
           "RS"
          ],
          [
           "sarandi",
           "RS"
          ],
          [
           "seberi",
           "RS"
          ],
          [
           "segredo",
           "RS"
          ],
          [
           "selbach",
           "RS"
          ],
          [
           "senador salgado filho",
           "RS"
          ],
          [
           "serafina corrêa",
           "RS"
          ],
          [
           "serio",
           "RS"
          ],
          [
           "sertao",
           "RS"
          ],
          [
           "sertao santana",
           "RS"
          ],
          [
           "sete de setembro",
           "RS"
          ],
          [
           "silveira martins",
           "RS"
          ],
          [
           "sinimbu",
           "RS"
          ],
          [
           "sobradinho",
           "RS"
          ],
          [
           "soledade",
           "RS"
          ],
          [
           "são josé do hortêncio",
           "RS"
          ],
          [
           "são josé do ouro",
           "RS"
          ],
          [
           "são joão da urtiga",
           "RS"
          ],
          [
           "são leopoldo",
           "RS"
          ],
          [
           "são luiz gonzaga",
           "RS"
          ],
          [
           "são nicolau",
           "RS"
          ],
          [
           "tapejara",
           "RS"
          ],
          [
           "tapera",
           "RS"
          ],
          [
           "tapes",
           "RS"
          ],
          [
           "taquara",
           "RS"
          ],
          [
           "taquari",
           "RS"
          ],
          [
           "taquarucu do sul",
           "RS"
          ],
          [
           "tavares",
           "RS"
          ],
          [
           "tenente portela",
           "RS"
          ],
          [
           "terra de areia",
           "RS"
          ],
          [
           "teutonia",
           "RS"
          ],
          [
           "tiradentes do sul",
           "RS"
          ],
          [
           "toropi",
           "RS"
          ],
          [
           "torres",
           "RS"
          ],
          [
           "tramandaí",
           "RS"
          ],
          [
           "travesseiro",
           "RS"
          ],
          [
           "tres arroios",
           "RS"
          ],
          [
           "tres cachoeiras",
           "RS"
          ],
          [
           "tres coroas",
           "RS"
          ],
          [
           "tres de maio",
           "RS"
          ],
          [
           "tres forquilhas",
           "RS"
          ],
          [
           "tres passos",
           "RS"
          ],
          [
           "trindade do sul",
           "RS"
          ],
          [
           "triunfo",
           "RS"
          ],
          [
           "tucunduva",
           "RS"
          ],
          [
           "tupancireta",
           "RS"
          ],
          [
           "tupandi",
           "RS"
          ],
          [
           "tuparendi",
           "RS"
          ],
          [
           "uniao da serra",
           "RS"
          ],
          [
           "unistalda",
           "RS"
          ],
          [
           "uruguaiana",
           "RS"
          ],
          [
           "vacaria",
           "RS"
          ],
          [
           "vale do sol",
           "RS"
          ],
          [
           "vale real",
           "RS"
          ],
          [
           "vanini",
           "RS"
          ],
          [
           "venancio aires",
           "RS"
          ],
          [
           "vera cruz",
           "RS"
          ],
          [
           "veranopolis",
           "RS"
          ],
          [
           "vespasiano correa",
           "RS"
          ],
          [
           "viamao",
           "RS"
          ],
          [
           "viamão",
           "RS"
          ],
          [
           "vicente dutra",
           "RS"
          ],
          [
           "victor graeff",
           "RS"
          ],
          [
           "vila flores",
           "RS"
          ],
          [
           "vila langaro",
           "RS"
          ],
          [
           "vila nova do sul",
           "RS"
          ],
          [
           "vista alegre",
           "RS"
          ],
          [
           "vitoria das missoes",
           "RS"
          ],
          [
           "xangri-la",
           "RS"
          ],
          [
           "áurea",
           "RS"
          ],
          [
           "abdon batista",
           "SC"
          ],
          [
           "abelardo luz",
           "SC"
          ],
          [
           "agrolandia",
           "SC"
          ],
          [
           "agronomica",
           "SC"
          ],
          [
           "agua doce",
           "SC"
          ],
          [
           "aguas frias",
           "SC"
          ],
          [
           "aguas mornas",
           "SC"
          ],
          [
           "alfredo wagner",
           "SC"
          ],
          [
           "alto bela vista",
           "SC"
          ],
          [
           "anchieta",
           "SC"
          ],
          [
           "angelina",
           "SC"
          ],
          [
           "anita garibaldi",
           "SC"
          ],
          [
           "anitapolis",
           "SC"
          ],
          [
           "antonio carlos",
           "SC"
          ],
          [
           "apiuna",
           "SC"
          ],
          [
           "araquari",
           "SC"
          ],
          [
           "ararangua",
           "SC"
          ],
          [
           "araranguá",
           "SC"
          ],
          [
           "armazem",
           "SC"
          ],
          [
           "arroio trinta",
           "SC"
          ],
          [
           "arvoredo",
           "SC"
          ],
          [
           "ascurra",
           "SC"
          ],
          [
           "atalanta",
           "SC"
          ],
          [
           "aurora",
           "SC"
          ],
          [
           "balneario arroio do silva",
           "SC"
          ],
          [
           "balneario barra do sul",
           "SC"
          ],
          [
           "balneario camboriu",
           "SC"
          ],
          [
           "balneario gaivota",
           "SC"
          ],
          [
           "balneario picarras",
           "SC"
          ],
          [
           "balneario rincao",
           "SC"
          ],
          [
           "balneário camboriú",
           "SC"
          ],
          [
           "barra velha",
           "SC"
          ],
          [
           "belmonte",
           "SC"
          ],
          [
           "benedito novo",
           "SC"
          ],
          [
           "biguacu",
           "SC"
          ],
          [
           "biguaçu",
           "SC"
          ],
          [
           "blumenau",
           "SC"
          ],
          [
           "bom jesus",
           "SC"
          ],
          [
           "bom retiro",
           "SC"
          ],
          [
           "bombinhas",
           "SC"
          ],
          [
           "botuvera",
           "SC"
          ],
          [
           "braco do norte",
           "SC"
          ],
          [
           "brusque",
           "SC"
          ],
          [
           "cacador",
           "SC"
          ],
          [
           "caibi",
           "SC"
          ],
          [
           "calmon",
           "SC"
          ],
          [
           "camboriu",
           "SC"
          ],
          [
           "camboriú",
           "SC"
          ],
          [
           "campo alegre",
           "SC"
          ],
          [
           "campo ere",
           "SC"
          ],
          [
           "campos novos",
           "SC"
          ],
          [
           "canelinha",
           "SC"
          ],
          [
           "canoinhas",
           "SC"
          ],
          [
           "capinzal",
           "SC"
          ],
          [
           "capivari de baixo",
           "SC"
          ],
          [
           "catanduvas",
           "SC"
          ],
          [
           "caxambu do sul",
           "SC"
          ],
          [
           "caçador",
           "SC"
          ],
          [
           "celso ramos",
           "SC"
          ],
          [
           "cerro negro",
           "SC"
          ],
          [
           "chapadao do lageado",
           "SC"
          ],
          [
           "chapeco",
           "SC"
          ],
          [
           "chapecó",
           "SC"
          ],
          [
           "cocal do sul",
           "SC"
          ],
          [
           "concordia",
           "SC"
          ],
          [
           "concórdia",
           "SC"
          ],
          [
           "coronel freitas",
           "SC"
          ],
          [
           "coronel martins",
           "SC"
          ],
          [
           "correia pinto",
           "SC"
          ],
          [
           "corupa",
           "SC"
          ],
          [
           "criciuma",
           "SC"
          ],
          [
           "criciúma",
           "SC"
          ],
          [
           "cunha pora",
           "SC"
          ],
          [
           "curitibanos",
           "SC"
          ],
          [
           "dionísio cerqueira",
           "SC"
          ],
          [
           "dona emma",
           "SC"
          ],
          [
           "faxinal dos guedes",
           "SC"
          ],
          [
           "florianopolis",
           "SC"
          ],
          [
           "florianópolis",
           "SC"
          ],
          [
           "forquilhinha",
           "SC"
          ],
          [
           "fraiburgo",
           "SC"
          ],
          [
           "frei rogerio",
           "SC"
          ],
          [
           "galvao",
           "SC"
          ],
          [
           "garopaba",
           "SC"
          ],
          [
           "garuva",
           "SC"
          ],
          [
           "gaspar",
           "SC"
          ],
          [
           "governador celso ramos",
           "SC"
          ],
          [
           "grao para",
           "SC"
          ],
          [
           "gravatal",
           "SC"
          ],
          [
           "guabiruba",
           "SC"
          ],
          [
           "guaporanga",
           "SC"
          ],
          [
           "guaraciaba",
           "SC"
          ],
          [
           "guaramirim",
           "SC"
          ],
          [
           "guaruja do sul",
           "SC"
          ],
          [
           "herval d'oeste",
           "SC"
          ],
          [
           "ibiam",
           "SC"
          ],
          [
           "ibicare",
           "SC"
          ],
          [
           "ibirama",
           "SC"
          ],
          [
           "icara",
           "SC"
          ],
          [
           "ilhota",
           "SC"
          ],
          [
           "imbituba",
           "SC"
          ],
          [
           "imbuia",
           "SC"
          ],
          [
           "indaial",
           "SC"
          ],
          [
           "iomerê",
           "SC"
          ],
          [
           "ipira",
           "SC"
          ],
          [
           "ipora do oeste",
           "SC"
          ],
          [
           "ipumirim",
           "SC"
          ],
          [
           "irani",
           "SC"
          ],
          [
           "irineopolis",
           "SC"
          ],
          [
           "ita",
           "SC"
          ],
          [
           "itaiopolis",
           "SC"
          ],
          [
           "itajai",
           "SC"
          ],
          [
           "itajaí",
           "SC"
          ],
          [
           "itapema",
           "SC"
          ],
          [
           "itapiranga",
           "SC"
          ],
          [
           "itapoa",
           "SC"
          ],
          [
           "ituporanga",
           "SC"
          ],
          [
           "jabora",
           "SC"
          ],
          [
           "jacinto machado",
           "SC"
          ],
          [
           "jaguaruna",
           "SC"
          ],
          [
           "jaragua do sul",
           "SC"
          ],
          [
           "jaraguá do sul",
           "SC"
          ],
          [
           "joacaba",
           "SC"
          ],
          [
           "joinville",
           "SC"
          ],
          [
           "jose boiteux",
           "SC"
          ],
          [
           "lages",
           "SC"
          ],
          [
           "laguna",
           "SC"
          ],
          [
           "lajeado grande",
           "SC"
          ],
          [
           "laurentino",
           "SC"
          ],
          [
           "lauro muller",
           "SC"
          ],
          [
           "lebon regis",
           "SC"
          ],
          [
           "leoberto leal",
           "SC"
          ],
          [
           "lindoia do sul",
           "SC"
          ],
          [
           "lontras",
           "SC"
          ],
          [
           "luiz alves",
           "SC"
          ],
          [
           "macieira",
           "SC"
          ],
          [
           "mafra",
           "SC"
          ],
          [
           "major vieira",
           "SC"
          ],
          [
           "maracaja",
           "SC"
          ],
          [
           "maravilha",
           "SC"
          ],
          [
           "massaranduba",
           "SC"
          ],
          [
           "meleiro",
           "SC"
          ],
          [
           "mondai",
           "SC"
          ],
          [
           "monte carlo",
           "SC"
          ],
          [
           "monte castelo",
           "SC"
          ],
          [
           "morro da fumaça",
           "SC"
          ],
          [
           "morro grande",
           "SC"
          ],
          [
           "navegantes",
           "SC"
          ],
          [
           "nossa senhora de caravaggio",
           "SC"
          ],
          [
           "nova erechim",
           "SC"
          ],
          [
           "nova itaberaba",
           "SC"
          ],
          [
           "nova trento",
           "SC"
          ],
          [
           "nova veneza",
           "SC"
          ],
          [
           "novo horizonte",
           "SC"
          ],
          [
           "orleans",
           "SC"
          ],
          [
           "otacílio costa",
           "SC"
          ],
          [
           "ouro",
           "SC"
          ],
          [
           "paial",
           "SC"
          ],
          [
           "palhoca",
           "SC"
          ],
          [
           "palhoça",
           "SC"
          ],
          [
           "palma sola",
           "SC"
          ],
          [
           "palmeira",
           "SC"
          ],
          [
           "palmitos",
           "SC"
          ],
          [
           "papanduva",
           "SC"
          ],
          [
           "paraiso",
           "SC"
          ],
          [
           "passo de torres",
           "SC"
          ],
          [
           "passos maia",
           "SC"
          ],
          [
           "paulo lopes",
           "SC"
          ],
          [
           "penha",
           "SC"
          ],
          [
           "peritiba",
           "SC"
          ],
          [
           "petrolandia",
           "SC"
          ],
          [
           "pinhalzinho",
           "SC"
          ],
          [
           "piratuba",
           "SC"
          ],
          [
           "pomerode",
           "SC"
          ],
          [
           "ponte alta do norte",
           "SC"
          ],
          [
           "ponte serrada",
           "SC"
          ],
          [
           "porto belo",
           "SC"
          ],
          [
           "porto uniao",
           "SC"
          ],
          [
           "pouso redondo",
           "SC"
          ],
          [
           "praia grande",
           "SC"
          ],
          [
           "presidente castello branco",
           "SC"
          ],
          [
           "presidente getulio",
           "SC"
          ],
          [
           "presidente nereu",
           "SC"
          ],
          [
           "quilombo",
           "SC"
          ],
          [
           "rancho queimado",
           "SC"
          ],
          [
           "rio das antas",
           "SC"
          ],
          [
           "rio do campo",
           "SC"
          ],
          [
           "rio do oeste",
           "SC"
          ],
          [
           "rio do sul",
           "SC"
          ],
          [
           "rio dos cedros",
           "SC"
          ],
          [
           "rio fortuna",
           "SC"
          ],
          [
           "rio negrinho",
           "SC"
          ],
          [
           "rio rufino",
           "SC"
          ],
          [
           "riqueza",
           "SC"
          ],
          [
           "rodeio",
           "SC"
          ],
          [
           "romelandia",
           "SC"
          ],
          [
           "salto veloso",
           "SC"
          ],
          [
           "sangao",
           "SC"
          ],
          [
           "santa cecilia",
           "SC"
          ],
          [
           "santa cruz do timbo",
           "SC"
          ],
          [
           "santa rosa de lima",
           "SC"
          ],
          [
           "santa rosa do sul",
           "SC"
          ],
          [
           "santa terezinha",
           "SC"
          ],
          [
           "santo amaro da imperatriz",
           "SC"
          ],
          [
           "sao bento do sul",
           "SC"
          ],
          [
           "sao bernardino",
           "SC"
          ],
          [
           "sao bonifacio",
           "SC"
          ],
          [
           "sao carlos",
           "SC"
          ],
          [
           "sao cristovao do sul",
           "SC"
          ],
          [
           "sao domingos",
           "SC"
          ],
          [
           "sao joao batista",
           "SC"
          ],
          [
           "sao joao do itaperiu",
           "SC"
          ],
          [
           "sao joao do sul",
           "SC"
          ],
          [
           "sao joaquim",
           "SC"
          ],
          [
           "sao jose",
           "SC"
          ],
          [
           "sao jose do cedro",
           "SC"
          ],
          [
           "sao jose do cerrito",
           "SC"
          ],
          [
           "sao lourenco do oeste",
           "SC"
          ],
          [
           "sao martinho",
           "SC"
          ],
          [
           "sao miguel do oeste",
           "SC"
          ],
          [
           "sao pedro de alcantara",
           "SC"
          ],
          [
           "saudades",
           "SC"
          ],
          [
           "schroeder",
           "SC"
          ],
          [
           "seara",
           "SC"
          ],
          [
           "sideropolis",
           "SC"
          ],
          [
           "sombrio",
           "SC"
          ],
          [
           "são bento do sul",
           "SC"
          ],
          [
           "são francisco do sul",
           "SC"
          ],
          [
           "são josé",
           "SC"
          ],
          [
           "são ludgero",
           "SC"
          ],
          [
           "taió",
           "SC"
          ],
          [
           "tangara",
           "SC"
          ],
          [
           "tijucas",
           "SC"
          ],
          [
           "timbe do sul",
           "SC"
          ],
          [
           "timbo",
           "SC"
          ],
          [
           "treviso",
           "SC"
          ],
          [
           "treze tilias",
           "SC"
          ],
          [
           "trombudo central",
           "SC"
          ],
          [
           "três barras",
           "SC"
          ],
          [
           "tubarao",
           "SC"
          ],
          [
           "tubarão",
           "SC"
          ],
          [
           "tunapolis",
           "SC"
          ],
          [
           "turvo",
           "SC"
          ],
          [
           "união do oeste",
           "SC"
          ],
          [
           "urubici",
           "SC"
          ],
          [
           "urussanga",
           "SC"
          ],
          [
           "vargeao",
           "SC"
          ],
          [
           "vargem bonita",
           "SC"
          ],
          [
           "videira",
           "SC"
          ],
          [
           "witmarsum",
           "SC"
          ],
          [
           "xanxere",
           "SC"
          ],
          [
           "xavantina",
           "SC"
          ],
          [
           "xaxim",
           "SC"
          ],
          [
           "zortea",
           "SC"
          ],
          [
           "aquidaba",
           "SE"
          ],
          [
           "aracaju",
           "SE"
          ],
          [
           "barra dos coqueiros",
           "SE"
          ],
          [
           "boquim",
           "SE"
          ],
          [
           "brejo grande",
           "SE"
          ],
          [
           "campo do brito",
           "SE"
          ],
          [
           "caninde de sao francisco",
           "SE"
          ],
          [
           "capela",
           "SE"
          ],
          [
           "carmopolis",
           "SE"
          ],
          [
           "cedro de sao joao",
           "SE"
          ],
          [
           "cristinapolis",
           "SE"
          ],
          [
           "estancia",
           "SE"
          ],
          [
           "general maynard",
           "SE"
          ],
          [
           "graccho cardoso",
           "SE"
          ],
          [
           "indiaroba",
           "SE"
          ],
          [
           "itabaiana",
           "SE"
          ],
          [
           "itabaianinha",
           "SE"
          ],
          [
           "itaporanga d'ajuda",
           "SE"
          ],
          [
           "japaratuba",
           "SE"
          ],
          [
           "japoata",
           "SE"
          ],
          [
           "lagarto",
           "SE"
          ],
          [
           "macambira",
           "SE"
          ],
          [
           "malhador",
           "SE"
          ],
          [
           "monte alegre de sergipe",
           "SE"
          ],
          [
           "neopolis",
           "SE"
          ],
          [
           "nossa senhora da gloria",
           "SE"
          ],
          [
           "nossa senhora das dores",
           "SE"
          ],
          [
           "nossa senhora de lourdes",
           "SE"
          ],
          [
           "nossa senhora do socorro",
           "SE"
          ],
          [
           "pinhao",
           "SE"
          ],
          [
           "pirambu",
           "SE"
          ],
          [
           "poco redondo",
           "SE"
          ],
          [
           "poco verde",
           "SE"
          ],
          [
           "propria",
           "SE"
          ],
          [
           "riachuelo",
           "SE"
          ],
          [
           "ribeiropolis",
           "SE"
          ],
          [
           "santo amaro das brotas",
           "SE"
          ],
          [
           "sao cristovao",
           "SE"
          ],
          [
           "sao francisco",
           "SE"
          ],
          [
           "sao miguel do aleixo",
           "SE"
          ],
          [
           "simao dias",
           "SE"
          ],
          [
           "telha",
           "SE"
          ],
          [
           "tobias barreto",
           "SE"
          ],
          [
           "tomar do geru",
           "SE"
          ],
          [
           "umbauba",
           "SE"
          ],
          [
           "adamantina",
           "SP"
          ],
          [
           "adolfo",
           "SP"
          ],
          [
           "agisse",
           "SP"
          ],
          [
           "aguai",
           "SP"
          ],
          [
           "aguas da prata",
           "SP"
          ],
          [
           "aguas de lindoia",
           "SP"
          ],
          [
           "aguas de santa barbara",
           "SP"
          ],
          [
           "agudos",
           "SP"
          ],
          [
           "alambari",
           "SP"
          ],
          [
           "alfredo marcondes",
           "SP"
          ],
          [
           "altinopolis",
           "SP"
          ],
          [
           "aluminio",
           "SP"
          ],
          [
           "alvares florence",
           "SP"
          ],
          [
           "alvares machado",
           "SP"
          ],
          [
           "alvaro de carvalho",
           "SP"
          ],
          [
           "americana",
           "SP"
          ],
          [
           "americo brasiliense",
           "SP"
          ],
          [
           "americo de campos",
           "SP"
          ],
          [
           "amparo",
           "SP"
          ],
          [
           "analandia",
           "SP"
          ],
          [
           "andradina",
           "SP"
          ],
          [
           "angatuba",
           "SP"
          ],
          [
           "anhembi",
           "SP"
          ],
          [
           "anhumas",
           "SP"
          ],
          [
           "aparecida",
           "SP"
          ],
          [
           "aparecida d'oeste",
           "SP"
          ],
          [
           "aparecida de monte alto",
           "SP"
          ],
          [
           "aparecida de sao manuel",
           "SP"
          ],
          [
           "apiai",
           "SP"
          ],
          [
           "aracariguama",
           "SP"
          ],
          [
           "aracatuba",
           "SP"
          ],
          [
           "aracoiaba da serra",
           "SP"
          ],
          [
           "aramina",
           "SP"
          ],
          [
           "arandu",
           "SP"
          ],
          [
           "arapei",
           "SP"
          ],
          [
           "araraquara",
           "SP"
          ],
          [
           "araras",
           "SP"
          ],
          [
           "araçatuba",
           "SP"
          ],
          [
           "arealva",
           "SP"
          ],
          [
           "areias",
           "SP"
          ],
          [
           "areiópolis",
           "SP"
          ],
          [
           "ariranha",
           "SP"
          ],
          [
           "artur nogueira",
           "SP"
          ],
          [
           "aruja",
           "SP"
          ],
          [
           "arujá",
           "SP"
          ],
          [
           "assis",
           "SP"
          ],
          [
           "atibaia",
           "SP"
          ],
          [
           "auriflama",
           "SP"
          ],
          [
           "avanhandava",
           "SP"
          ],
          [
           "avare",
           "SP"
          ],
          [
           "avaré",
           "SP"
          ],
          [
           "avaí",
           "SP"
          ],
          [
           "bady bassitt",
           "SP"
          ],
          [
           "balbinos",
           "SP"
          ],
          [
           "balsamo",
           "SP"
          ],
          [
           "bananal",
           "SP"
          ],
          [
           "bandeirantes d'oeste",
           "SP"
          ],
          [
           "bariri",
           "SP"
          ],
          [
           "barra bonita",
           "SP"
          ],
          [
           "barra do turvo",
           "SP"
          ],
          [
           "barretos",
           "SP"
          ],
          [
           "barrinha",
           "SP"
          ],
          [
           "barueri",
           "SP"
          ],
          [
           "barão ataliba nogueira",
           "SP"
          ],
          [
           "bastos",
           "SP"
          ],
          [
           "batatais",
           "SP"
          ],
          [
           "bauru",
           "SP"
          ],
          [
           "bebedouro",
           "SP"
          ],
          [
           "bento de abreu",
           "SP"
          ],
          [
           "bernardino de campos",
           "SP"
          ],
          [
           "bertioga",
           "SP"
          ],
          [
           "bilac",
           "SP"
          ],
          [
           "birigui",
           "SP"
          ],
          [
           "biritiba-mirim",
           "SP"
          ],
          [
           "boa esperanca do sul",
           "SP"
          ],
          [
           "bocaina",
           "SP"
          ],
          [
           "bofete",
           "SP"
          ],
          [
           "boituva",
           "SP"
          ],
          [
           "bom jesus dos perdoes",
           "SP"
          ],
          [
           "bonfim paulista",
           "SP"
          ],
          [
           "boracéia",
           "SP"
          ],
          [
           "borborema",
           "SP"
          ],
          [
           "botelho",
           "SP"
          ],
          [
           "botucatu",
           "SP"
          ],
          [
           "braganca paulista",
           "SP"
          ],
          [
           "bragança paulista",
           "SP"
          ],
          [
           "brauna",
           "SP"
          ],
          [
           "brodowski",
           "SP"
          ],
          [
           "brotas",
           "SP"
          ],
          [
           "buri",
           "SP"
          ],
          [
           "buritama",
           "SP"
          ],
          [
           "buritizal",
           "SP"
          ],
          [
           "cabreuva",
           "SP"
          ],
          [
           "cabrália paulista",
           "SP"
          ],
          [
           "cacapava",
           "SP"
          ],
          [
           "cachoeira paulista",
           "SP"
          ],
          [
           "caconde",
           "SP"
          ],
          [
           "cafelandia",
           "SP"
          ],
          [
           "caieiras",
           "SP"
          ],
          [
           "caiua",
           "SP"
          ],
          [
           "cajamar",
           "SP"
          ],
          [
           "cajati",
           "SP"
          ],
          [
           "cajobi",
           "SP"
          ],
          [
           "cajuru",
           "SP"
          ],
          [
           "campina do monte alegre",
           "SP"
          ],
          [
           "campinas",
           "SP"
          ],
          [
           "campo limpo paulista",
           "SP"
          ],
          [
           "campos do jordao",
           "SP"
          ],
          [
           "cananeia",
           "SP"
          ],
          [
           "candido mota",
           "SP"
          ],
          [
           "candido rodrigues",
           "SP"
          ],
          [
           "canitar",
           "SP"
          ],
          [
           "capao bonito",
           "SP"
          ],
          [
           "capela do alto",
           "SP"
          ],
          [
           "capivari",
           "SP"
          ],
          [
           "capão bonito",
           "SP"
          ],
          [
           "caraguatatuba",
           "SP"
          ],
          [
           "carapicuiba",
           "SP"
          ],
          [
           "carapicuíba",
           "SP"
          ],
          [
           "cardoso",
           "SP"
          ],
          [
           "casa branca",
           "SP"
          ],
          [
           "castilho",
           "SP"
          ],
          [
           "catanduva",
           "SP"
          ],
          [
           "catigua",
           "SP"
          ],
          [
           "caçapava",
           "SP"
          ],
          [
           "cedral",
           "SP"
          ],
          [
           "cerqueira césar",
           "SP"
          ],
          [
           "cerquilho",
           "SP"
          ],
          [
           "cesario lange",
           "SP"
          ],
          [
           "charqueada",
           "SP"
          ],
          [
           "chavantes",
           "SP"
          ],
          [
           "clementina",
           "SP"
          ],
          [
           "colina",
           "SP"
          ],
          [
           "colombia",
           "SP"
          ],
          [
           "conchal",
           "SP"
          ],
          [
           "conchas",
           "SP"
          ],
          [
           "cordeiropolis",
           "SP"
          ],
          [
           "coroados",
           "SP"
          ],
          [
           "coronel macedo",
           "SP"
          ],
          [
           "corumbataí",
           "SP"
          ],
          [
           "cosmopolis",
           "SP"
          ],
          [
           "cosmorama",
           "SP"
          ],
          [
           "cosmópolis",
           "SP"
          ],
          [
           "cotia",
           "SP"
          ],
          [
           "cravinhos",
           "SP"
          ],
          [
           "cristais paulista",
           "SP"
          ],
          [
           "cruzalia",
           "SP"
          ],
          [
           "cruzeiro",
           "SP"
          ],
          [
           "cubatao",
           "SP"
          ],
          [
           "cubatão",
           "SP"
          ],
          [
           "cunha",
           "SP"
          ],
          [
           "cássia dos coqueiros",
           "SP"
          ],
          [
           "descalvado",
           "SP"
          ],
          [
           "diadema",
           "SP"
          ],
          [
           "divinolandia",
           "SP"
          ],
          [
           "dobrada",
           "SP"
          ],
          [
           "dois corregos",
           "SP"
          ],
          [
           "dourado",
           "SP"
          ],
          [
           "dracena",
           "SP"
          ],
          [
           "duartina",
           "SP"
          ],
          [
           "dumont",
           "SP"
          ],
          [
           "echapora",
           "SP"
          ],
          [
           "eldorado",
           "SP"
          ],
          [
           "elias fausto",
           "SP"
          ],
          [
           "elisiario",
           "SP"
          ],
          [
           "embauba",
           "SP"
          ],
          [
           "embu",
           "SP"
          ],
          [
           "embu das artes",
           "SP"
          ],
          [
           "embu-guacu",
           "SP"
          ],
          [
           "emilianopolis",
           "SP"
          ],
          [
           "engenheiro balduino",
           "SP"
          ],
          [
           "engenheiro coelho",
           "SP"
          ],
          [
           "espigao",
           "SP"
          ],
          [
           "espirito santo do pinhal",
           "SP"
          ],
          [
           "espirito santo do turvo",
           "SP"
          ],
          [
           "estiva gerbi",
           "SP"
          ],
          [
           "estrela d oeste",
           "SP"
          ],
          [
           "estrela do norte",
           "SP"
          ],
          [
           "euclides da cunha paulista",
           "SP"
          ],
          [
           "fartura",
           "SP"
          ],
          [
           "fernando prestes",
           "SP"
          ],
          [
           "fernandopolis",
           "SP"
          ],
          [
           "fernao",
           "SP"
          ],
          [
           "ferraz de vasconcelos",
           "SP"
          ],
          [
           "flora rica",
           "SP"
          ],
          [
           "floreal",
           "SP"
          ],
          [
           "florida paulista",
           "SP"
          ],
          [
           "florínia",
           "SP"
          ],
          [
           "franca",
           "SP"
          ],
          [
           "francisco morato",
           "SP"
          ],
          [
           "franco da rocha",
           "SP"
          ],
          [
           "gabriel monteiro",
           "SP"
          ],
          [
           "galia",
           "SP"
          ],
          [
           "garca",
           "SP"
          ],
          [
           "gastao vidigal",
           "SP"
          ],
          [
           "gaviao peixoto",
           "SP"
          ],
          [
           "general salgado",
           "SP"
          ],
          [
           "getulina",
           "SP"
          ],
          [
           "glicério",
           "SP"
          ],
          [
           "guaira",
           "SP"
          ],
          [
           "guaiçara",
           "SP"
          ],
          [
           "guapiacu",
           "SP"
          ],
          [
           "guapiara",
           "SP"
          ],
          [
           "guara",
           "SP"
          ],
          [
           "guaracai",
           "SP"
          ],
          [
           "guaraci",
           "SP"
          ],
          [
           "guaranta",
           "SP"
          ],
          [
           "guarapua",
           "SP"
          ],
          [
           "guararapes",
           "SP"
          ],
          [
           "guararema",
           "SP"
          ],
          [
           "guaratingueta",
           "SP"
          ],
          [
           "guaratinguetá",
           "SP"
          ],
          [
           "guarei",
           "SP"
          ],
          [
           "guariba",
           "SP"
          ],
          [
           "guaruja",
           "SP"
          ],
          [
           "guarujá",
           "SP"
          ],
          [
           "guarulhos",
           "SP"
          ],
          [
           "guatapara",
           "SP"
          ],
          [
           "guzolandia",
           "SP"
          ],
          [
           "herculandia",
           "SP"
          ],
          [
           "holambra",
           "SP"
          ],
          [
           "hortolandia",
           "SP"
          ],
          [
           "hortolândia",
           "SP"
          ],
          [
           "iacanga",
           "SP"
          ],
          [
           "iacri",
           "SP"
          ],
          [
           "iaras",
           "SP"
          ],
          [
           "ibaté",
           "SP"
          ],
          [
           "ibira",
           "SP"
          ],
          [
           "ibirarema",
           "SP"
          ],
          [
           "ibitinga",
           "SP"
          ],
          [
           "ibitiuva",
           "SP"
          ],
          [
           "ibiúna",
           "SP"
          ],
          [
           "icem",
           "SP"
          ],
          [
           "iepe",
           "SP"
          ],
          [
           "igaracu do tiete",
           "SP"
          ],
          [
           "igarapava",
           "SP"
          ],
          [
           "igarata",
           "SP"
          ],
          [
           "iguape",
           "SP"
          ],
          [
           "ilha comprida",
           "SP"
          ],
          [
           "ilha solteira",
           "SP"
          ],
          [
           "ilhabela",
           "SP"
          ],
          [
           "indaiatuba",
           "SP"
          ],
          [
           "indiana",
           "SP"
          ],
          [
           "indiapora",
           "SP"
          ],
          [
           "inubia paulista",
           "SP"
          ],
          [
           "ipaussu",
           "SP"
          ],
          [
           "ipero",
           "SP"
          ],
          [
           "ipigua",
           "SP"
          ],
          [
           "ipua",
           "SP"
          ],
          [
           "iracemapolis",
           "SP"
          ],
          [
           "irape",
           "SP"
          ],
          [
           "irapua",
           "SP"
          ],
          [
           "irapuru",
           "SP"
          ],
          [
           "itabera",
           "SP"
          ],
          [
           "itai",
           "SP"
          ],
          [
           "itajobi",
           "SP"
          ],
          [
           "itaju",
           "SP"
          ],
          [
           "itanhaem",
           "SP"
          ],
          [
           "itapecerica da serra",
           "SP"
          ],
          [
           "itapetininga",
           "SP"
          ],
          [
           "itapeva",
           "SP"
          ],
          [
           "itapevi",
           "SP"
          ],
          [
           "itapira",
           "SP"
          ],
          [
           "itapirapua paulista",
           "SP"
          ],
          [
           "itapolis",
           "SP"
          ],
          [
           "itaporanga",
           "SP"
          ],
          [
           "itapura",
           "SP"
          ],
          [
           "itapuí",
           "SP"
          ],
          [
           "itaquaquecetuba",
           "SP"
          ],
          [
           "itarare",
           "SP"
          ],
          [
           "itariri",
           "SP"
          ],
          [
           "itatiba",
           "SP"
          ],
          [
           "itatinga",
           "SP"
          ],
          [
           "itaóca",
           "SP"
          ],
          [
           "itirapina",
           "SP"
          ],
          [
           "itobi",
           "SP"
          ],
          [
           "itu",
           "SP"
          ],
          [
           "itupeva",
           "SP"
          ],
          [
           "ituverava",
           "SP"
          ],
          [
           "jaborandi",
           "SP"
          ],
          [
           "jaboticabal",
           "SP"
          ],
          [
           "jacare",
           "SP"
          ],
          [
           "jacarei",
           "SP"
          ],
          [
           "jacareí",
           "SP"
          ],
          [
           "jaci",
           "SP"
          ],
          [
           "jacupiranga",
           "SP"
          ],
          [
           "jaguariuna",
           "SP"
          ],
          [
           "jaguariúna",
           "SP"
          ],
          [
           "jales",
           "SP"
          ],
          [
           "jamaica",
           "SP"
          ],
          [
           "jambeiro",
           "SP"
          ],
          [
           "jandira",
           "SP"
          ],
          [
           "jardinopolis",
           "SP"
          ],
          [
           "jarinu",
           "SP"
          ],
          [
           "jau",
           "SP"
          ],
          [
           "jaú",
           "SP"
          ],
          [
           "jeriquara",
           "SP"
          ],
          [
           "joanopolis",
           "SP"
          ],
          [
           "joao ramalho",
           "SP"
          ],
          [
           "jose bonifacio",
           "SP"
          ],
          [
           "julio mesquita",
           "SP"
          ],
          [
           "jumirim",
           "SP"
          ],
          [
           "jundiai",
           "SP"
          ],
          [
           "jundiaí",
           "SP"
          ],
          [
           "junqueiropolis",
           "SP"
          ],
          [
           "juquia",
           "SP"
          ],
          [
           "juquitiba",
           "SP"
          ],
          [
           "lagoinha",
           "SP"
          ],
          [
           "laranjal paulista",
           "SP"
          ],
          [
           "lavinia",
           "SP"
          ],
          [
           "lavrinhas",
           "SP"
          ],
          [
           "leme",
           "SP"
          ],
          [
           "lencois paulista",
           "SP"
          ],
          [
           "lençóis paulista",
           "SP"
          ],
          [
           "limeira",
           "SP"
          ],
          [
           "lindoia",
           "SP"
          ],
          [
           "lins",
           "SP"
          ],
          [
           "lorena",
           "SP"
          ],
          [
           "lourdes",
           "SP"
          ],
          [
           "louveira",
           "SP"
          ],
          [
           "lucelia",
           "SP"
          ],
          [
           "lucianopolis",
           "SP"
          ],
          [
           "luis antonio",
           "SP"
          ],
          [
           "luiziania",
           "SP"
          ],
          [
           "lupercio",
           "SP"
          ],
          [
           "lutecia",
           "SP"
          ],
          [
           "macatuba",
           "SP"
          ],
          [
           "macaubal",
           "SP"
          ],
          [
           "macedonia",
           "SP"
          ],
          [
           "magda",
           "SP"
          ],
          [
           "mairinque",
           "SP"
          ],
          [
           "mairipora",
           "SP"
          ],
          [
           "manduri",
           "SP"
          ],
          [
           "maracai",
           "SP"
          ],
          [
           "maresias",
           "SP"
          ],
          [
           "mariapolis",
           "SP"
          ],
          [
           "marilia",
           "SP"
          ],
          [
           "marinópolis",
           "SP"
          ],
          [
           "maristela",
           "SP"
          ],
          [
           "martinopolis",
           "SP"
          ],
          [
           "marília",
           "SP"
          ],
          [
           "matao",
           "SP"
          ],
          [
           "maua",
           "SP"
          ],
          [
           "mauá",
           "SP"
          ],
          [
           "mendonca",
           "SP"
          ],
          [
           "meridiano",
           "SP"
          ],
          [
           "miguelopolis",
           "SP"
          ],
          [
           "mineiros do tiete",
           "SP"
          ],
          [
           "mira estrela",
           "SP"
          ],
          [
           "miracatu",
           "SP"
          ],
          [
           "mirandopolis",
           "SP"
          ],
          [
           "mirante do paranapanema",
           "SP"
          ],
          [
           "mirassol",
           "SP"
          ],
          [
           "mococa",
           "SP"
          ],
          [
           "mogi das cruzes",
           "SP"
          ],
          [
           "mogi guacu",
           "SP"
          ],
          [
           "mogi guaçu",
           "SP"
          ],
          [
           "mogi mirim",
           "SP"
          ],
          [
           "mogi-guacu",
           "SP"
          ],
          [
           "mogi-mirim",
           "SP"
          ],
          [
           "mombuca",
           "SP"
          ],
          [
           "moncoes",
           "SP"
          ],
          [
           "mongaguá",
           "SP"
          ],
          [
           "monte alto",
           "SP"
          ],
          [
           "monte aprazivel",
           "SP"
          ],
          [
           "monte azul paulista",
           "SP"
          ],
          [
           "monte castelo",
           "SP"
          ],
          [
           "monte mor",
           "SP"
          ],
          [
           "monteiro lobato",
           "SP"
          ],
          [
           "morro agudo",
           "SP"
          ],
          [
           "morungaba",
           "SP"
          ],
          [
           "motuca",
           "SP"
          ],
          [
           "murutinga do sul",
           "SP"
          ],
          [
           "nantes",
           "SP"
          ],
          [
           "narandiba",
           "SP"
          ],
          [
           "natividade da serra",
           "SP"
          ],
          [
           "nazare paulista",
           "SP"
          ],
          [
           "neves paulista",
           "SP"
          ],
          [
           "nhandeara",
           "SP"
          ],
          [
           "nipoa",
           "SP"
          ],
          [
           "nova campina",
           "SP"
          ],
          [
           "nova canaa paulista",
           "SP"
          ],
          [
           "nova europa",
           "SP"
          ],
          [
           "nova granada",
           "SP"
          ],
          [
           "nova guataporanga",
           "SP"
          ],
          [
           "nova independencia",
           "SP"
          ],
          [
           "nova luzitania",
           "SP"
          ],
          [
           "nova odessa",
           "SP"
          ],
          [
           "novais",
           "SP"
          ],
          [
           "novo horizonte",
           "SP"
          ],
          [
           "nuporanga",
           "SP"
          ],
          [
           "ocauçu",
           "SP"
          ],
          [
           "olimpia",
           "SP"
          ],
          [
           "onda verde",
           "SP"
          ],
          [
           "oriente",
           "SP"
          ],
          [
           "orindiuva",
           "SP"
          ],
          [
           "orlandia",
           "SP"
          ],
          [
           "osasco",
           "SP"
          ],
          [
           "oscar bressane",
           "SP"
          ],
          [
           "osvaldo cruz",
           "SP"
          ],
          [
           "ourinhos",
           "SP"
          ],
          [
           "ouro verde",
           "SP"
          ],
          [
           "ouroeste",
           "SP"
          ],
          [
           "pacaembu",
           "SP"
          ],
          [
           "palestina",
           "SP"
          ],
          [
           "palmares paulista",
           "SP"
          ],
          [
           "palmeira d'oeste",
           "SP"
          ],
          [
           "palmital",
           "SP"
          ],
          [
           "panorama",
           "SP"
          ],
          [
           "paraguaçu paulista",
           "SP"
          ],
          [
           "paraibuna",
           "SP"
          ],
          [
           "paranapanema",
           "SP"
          ],
          [
           "paranapua",
           "SP"
          ],
          [
           "parapuã",
           "SP"
          ],
          [
           "paraíso",
           "SP"
          ],
          [
           "pardinho",
           "SP"
          ],
          [
           "pariquera-acu",
           "SP"
          ],
          [
           "parisi",
           "SP"
          ],
          [
           "patrocinio paulista",
           "SP"
          ],
          [
           "pauliceia",
           "SP"
          ],
          [
           "paulinia",
           "SP"
          ],
          [
           "paulistania",
           "SP"
          ],
          [
           "paulo de faria",
           "SP"
          ],
          [
           "paulínia",
           "SP"
          ],
          [
           "pederneiras",
           "SP"
          ],
          [
           "pedra bela",
           "SP"
          ],
          [
           "pedranopolis",
           "SP"
          ],
          [
           "pedregulho",
           "SP"
          ],
          [
           "pedreira",
           "SP"
          ],
          [
           "pedrinhas paulista",
           "SP"
          ],
          [
           "pedro de toledo",
           "SP"
          ],
          [
           "penapolis",
           "SP"
          ],
          [
           "penápolis",
           "SP"
          ],
          [
           "pereira barreto",
           "SP"
          ],
          [
           "pereiras",
           "SP"
          ],
          [
           "peruibe",
           "SP"
          ],
          [
           "piacatu",
           "SP"
          ],
          [
           "piedade",
           "SP"
          ],
          [
           "pilar do sul",
           "SP"
          ],
          [
           "pindamonhangaba",
           "SP"
          ],
          [
           "pindorama",
           "SP"
          ],
          [
           "pinhalzinho",
           "SP"
          ],
          [
           "piquerobi",
           "SP"
          ],
          [
           "piquete",
           "SP"
          ],
          [
           "piracaia",
           "SP"
          ],
          [
           "piracicaba",
           "SP"
          ],
          [
           "piraju",
           "SP"
          ],
          [
           "pirajui",
           "SP"
          ],
          [
           "pirangi",
           "SP"
          ],
          [
           "pirapora do bom jesus",
           "SP"
          ],
          [
           "pirapozinho",
           "SP"
          ],
          [
           "pirassununga",
           "SP"
          ],
          [
           "piratininga",
           "SP"
          ],
          [
           "pitangueiras",
           "SP"
          ],
          [
           "planalto",
           "SP"
          ],
          [
           "poa",
           "SP"
          ],
          [
           "poloni",
           "SP"
          ],
          [
           "pompéia",
           "SP"
          ],
          [
           "pongai",
           "SP"
          ],
          [
           "pontal",
           "SP"
          ],
          [
           "pontalinda",
           "SP"
          ],
          [
           "pontes gestal",
           "SP"
          ],
          [
           "populina",
           "SP"
          ],
          [
           "porangaba",
           "SP"
          ],
          [
           "porto feliz",
           "SP"
          ],
          [
           "porto ferreira",
           "SP"
          ],
          [
           "potim",
           "SP"
          ],
          [
           "potirendaba",
           "SP"
          ],
          [
           "poá",
           "SP"
          ],
          [
           "pradopolis",
           "SP"
          ],
          [
           "praia grande",
           "SP"
          ],
          [
           "presidente alves",
           "SP"
          ],
          [
           "presidente bernardes",
           "SP"
          ],
          [
           "presidente epitacio",
           "SP"
          ],
          [
           "presidente prudente",
           "SP"
          ],
          [
           "presidente venceslau",
           "SP"
          ],
          [
           "primavera",
           "SP"
          ],
          [
           "promissao",
           "SP"
          ],
          [
           "quadra",
           "SP"
          ],
          [
           "quata",
           "SP"
          ],
          [
           "queiroz",
           "SP"
          ],
          [
           "queluz",
           "SP"
          ],
          [
           "quintana",
           "SP"
          ],
          [
           "rafard",
           "SP"
          ],
          [
           "rancharia",
           "SP"
          ],
          [
           "rechan",
           "SP"
          ],
          [
           "redencao da serra",
           "SP"
          ],
          [
           "regente feijo",
           "SP"
          ],
          [
           "reginópolis",
           "SP"
          ],
          [
           "registro",
           "SP"
          ],
          [
           "ribeira",
           "SP"
          ],
          [
           "ribeirao bonito",
           "SP"
          ],
          [
           "ribeirao branco",
           "SP"
          ],
          [
           "ribeirao do sul",
           "SP"
          ],
          [
           "ribeirao pires",
           "SP"
          ],
          [
           "ribeirao preto",
           "SP"
          ],
          [
           "ribeirão pires",
           "SP"
          ],
          [
           "ribeirão preto",
           "SP"
          ],
          [
           "rifaina",
           "SP"
          ],
          [
           "rincao",
           "SP"
          ],
          [
           "rinopolis",
           "SP"
          ],
          [
           "rio claro",
           "SP"
          ],
          [
           "rio das pedras",
           "SP"
          ],
          [
           "rio grande da serra",
           "SP"
          ],
          [
           "riolandia",
           "SP"
          ],
          [
           "riversul",
           "SP"
          ],
          [
           "rosana",
           "SP"
          ],
          [
           "roseira",
           "SP"
          ],
          [
           "rubiacea",
           "SP"
          ],
          [
           "rubineia",
           "SP"
          ],
          [
           "sabino",
           "SP"
          ],
          [
           "sales",
           "SP"
          ],
          [
           "sales oliveira",
           "SP"
          ],
          [
           "salesopolis",
           "SP"
          ],
          [
           "salmourao",
           "SP"
          ],
          [
           "saltinho",
           "SP"
          ],
          [
           "salto",
           "SP"
          ],
          [
           "salto de pirapora",
           "SP"
          ],
          [
           "salto grande",
           "SP"
          ],
          [
           "santa adélia",
           "SP"
          ],
          [
           "santa albertina",
           "SP"
          ],
          [
           "santa barbara d oeste",
           "SP"
          ],
          [
           "santa barbara d'oeste",
           "SP"
          ],
          [
           "santa branca",
           "SP"
          ],
          [
           "santa bárbara d'oeste",
           "SP"
          ],
          [
           "santa clara d oeste",
           "SP"
          ],
          [
           "santa cruz da conceicao",
           "SP"
          ],
          [
           "santa cruz das palmeiras",
           "SP"
          ],
          [
           "santa cruz do rio pardo",
           "SP"
          ],
          [
           "santa ernestina",
           "SP"
          ],
          [
           "santa fe do sul",
           "SP"
          ],
          [
           "santa gertrudes",
           "SP"
          ],
          [
           "santa isabel",
           "SP"
          ],
          [
           "santa lucia",
           "SP"
          ],
          [
           "santa maria da serra",
           "SP"
          ],
          [
           "santa mercedes",
           "SP"
          ],
          [
           "santa rita d'oeste",
           "SP"
          ],
          [
           "santa rita do passa quatro",
           "SP"
          ],
          [
           "santa rosa de viterbo",
           "SP"
          ],
          [
           "santa salete",
           "SP"
          ],
          [
           "santana de parnaiba",
           "SP"
          ],
          [
           "santana de parnaíba",
           "SP"
          ],
          [
           "santo anastacio",
           "SP"
          ],
          [
           "santo andre",
           "SP"
          ],
          [
           "santo andré",
           "SP"
          ],
          [
           "santo antonio da alegria",
           "SP"
          ],
          [
           "santo antonio de posse",
           "SP"
          ],
          [
           "santo antonio do aracangua",
           "SP"
          ],
          [
           "santo antonio do jardim",
           "SP"
          ],
          [
           "santo antônio do pinhal",
           "SP"
          ],
          [
           "santo expedito",
           "SP"
          ],
          [
           "santos",
           "SP"
          ],
          [
           "sao bento do sapucai",
           "SP"
          ],
          [
           "sao bernardo do campo",
           "SP"
          ],
          [
           "sao caetano do sul",
           "SP"
          ],
          [
           "sao carlos",
           "SP"
          ],
          [
           "sao joao da boa vista",
           "SP"
          ],
          [
           "sao joao de iracema",
           "SP"
          ],
          [
           "sao joaquim da barra",
           "SP"
          ],
          [
           "sao jose do barreiro",
           "SP"
          ],
          [
           "sao jose do rio pardo",
           "SP"
          ],
          [
           "sao jose do rio preto",
           "SP"
          ],
          [
           "sao jose dos campos",
           "SP"
          ],
          [
           "sao lourenco da serra",
           "SP"
          ],
          [
           "sao luis do paraitinga",
           "SP"
          ],
          [
           "sao manuel",
           "SP"
          ],
          [
           "sao miguel arcanjo",
           "SP"
          ],
          [
           "sao paulo",
           "SP"
          ],
          [
           "sao pedro do turvo",
           "SP"
          ],
          [
           "sao roque",
           "SP"
          ],
          [
           "sao sebastiao",
           "SP"
          ],
          [
           "sao sebastiao da grama",
           "SP"
          ],
          [
           "sao simao",
           "SP"
          ],
          [
           "sao vicente",
           "SP"
          ],
          [
           "sarapui",
           "SP"
          ],
          [
           "sarutaia",
           "SP"
          ],
          [
           "serra azul",
           "SP"
          ],
          [
           "serra negra",
           "SP"
          ],
          [
           "serrana",
           "SP"
          ],
          [
           "sertaozinho",
           "SP"
          ],
          [
           "sertãozinho",
           "SP"
          ],
          [
           "sete barras",
           "SP"
          ],
          [
           "severinia",
           "SP"
          ],
          [
           "silveiras",
           "SP"
          ],
          [
           "socorro",
           "SP"
          ],
          [
           "sorocaba",
           "SP"
          ],
          [
           "sud mennucci",
           "SP"
          ],
          [
           "sumare",
           "SP"
          ],
          [
           "sumaré",
           "SP"
          ],
          [
           "suzanapolis",
           "SP"
          ],
          [
           "suzano",
           "SP"
          ],
          [
           "são bernardo do campo",
           "SP"
          ],
          [
           "são caetano do sul",
           "SP"
          ],
          [
           "são carlos",
           "SP"
          ],
          [
           "são francisco",
           "SP"
          ],
          [
           "são josé da bela vista",
           "SP"
          ],
          [
           "são josé do rio preto",
           "SP"
          ],
          [
           "são josé dos campos",
           "SP"
          ],
          [
           "são joão da boa vista",
           "SP"
          ],
          [
           "são paulo",
           "SP"
          ],
          [
           "são pedro",
           "SP"
          ],
          [
           "são roque",
           "SP"
          ],
          [
           "são sebastião",
           "SP"
          ],
          [
           "são vicente",
           "SP"
          ],
          [
           "tabapuã",
           "SP"
          ],
          [
           "tabatinga",
           "SP"
          ],
          [
           "taboao da serra",
           "SP"
          ],
          [
           "taboão da serra",
           "SP"
          ],
          [
           "taciba",
           "SP"
          ],
          [
           "taguai",
           "SP"
          ],
          [
           "taiacu",
           "SP"
          ],
          [
           "taiuva",
           "SP"
          ],
          [
           "tambaú",
           "SP"
          ],
          [
           "tanabi",
           "SP"
          ],
          [
           "tapinas",
           "SP"
          ],
          [
           "tapirai",
           "SP"
          ],
          [
           "tapiratiba",
           "SP"
          ],
          [
           "taquaritinga",
           "SP"
          ],
          [
           "taquarituba",
           "SP"
          ],
          [
           "taquarivai",
           "SP"
          ],
          [
           "tarabai",
           "SP"
          ],
          [
           "taruma",
           "SP"
          ],
          [
           "tatui",
           "SP"
          ],
          [
           "taubate",
           "SP"
          ],
          [
           "taubaté",
           "SP"
          ],
          [
           "tecainda",
           "SP"
          ],
          [
           "tejupa",
           "SP"
          ],
          [
           "teodoro sampaio",
           "SP"
          ],
          [
           "termas de ibira",
           "SP"
          ],
          [
           "terra roxa",
           "SP"
          ],
          [
           "tiete",
           "SP"
          ],
          [
           "timburi",
           "SP"
          ],
          [
           "torrinha",
           "SP"
          ],
          [
           "trabiju",
           "SP"
          ],
          [
           "tremembe",
           "SP"
          ],
          [
           "tres fronteiras",
           "SP"
          ],
          [
           "tuiuti",
           "SP"
          ],
          [
           "tupa",
           "SP"
          ],
          [
           "tupi paulista",
           "SP"
          ],
          [
           "tupã",
           "SP"
          ],
          [
           "turmalina",
           "SP"
          ],
          [
           "ubatuba",
           "SP"
          ],
          [
           "ubirajara",
           "SP"
          ],
          [
           "uchoa",
           "SP"
          ],
          [
           "urania",
           "SP"
          ],
          [
           "urupes",
           "SP"
          ],
          [
           "valentim gentil",
           "SP"
          ],
          [
           "valinhos",
           "SP"
          ],
          [
           "valparaiso",
           "SP"
          ],
          [
           "vargem",
           "SP"
          ],
          [
           "vargem grande do sul",
           "SP"
          ],
          [
           "vargem grande paulista",
           "SP"
          ],
          [
           "varzea paulista",
           "SP"
          ],
          [
           "venda branca",
           "SP"
          ],
          [
           "vera cruz",
           "SP"
          ],
          [
           "vinhedo",
           "SP"
          ],
          [
           "viradouro",
           "SP"
          ],
          [
           "vista alegre do alto",
           "SP"
          ],
          [
           "votorantim",
           "SP"
          ],
          [
           "votuporanga",
           "SP"
          ],
          [
           "várzea paulista",
           "SP"
          ],
          [
           "zacarias",
           "SP"
          ],
          [
           "águas de são pedro",
           "SP"
          ],
          [
           "óleo",
           "SP"
          ],
          [
           "alianca do tocantins",
           "TO"
          ],
          [
           "almas",
           "TO"
          ],
          [
           "alvorada",
           "TO"
          ],
          [
           "ananas",
           "TO"
          ],
          [
           "aparecida do rio negro",
           "TO"
          ],
          [
           "araguacu",
           "TO"
          ],
          [
           "araguaina",
           "TO"
          ],
          [
           "araguatins",
           "TO"
          ],
          [
           "araguaína",
           "TO"
          ],
          [
           "arapoema",
           "TO"
          ],
          [
           "arraias",
           "TO"
          ],
          [
           "augustinopolis",
           "TO"
          ],
          [
           "bandeirantes do tocantins",
           "TO"
          ],
          [
           "barrolandia",
           "TO"
          ],
          [
           "buriti do tocantins",
           "TO"
          ],
          [
           "cariri do tocantins",
           "TO"
          ],
          [
           "carmolandia",
           "TO"
          ],
          [
           "centenario",
           "TO"
          ],
          [
           "colinas do tocantins",
           "TO"
          ],
          [
           "colmeia",
           "TO"
          ],
          [
           "combinado",
           "TO"
          ],
          [
           "conceicao do tocantins",
           "TO"
          ],
          [
           "couto de magalhaes",
           "TO"
          ],
          [
           "cristalandia",
           "TO"
          ],
          [
           "dianopolis",
           "TO"
          ],
          [
           "divinópolis do tocantins",
           "TO"
          ],
          [
           "duere",
           "TO"
          ],
          [
           "esperantina",
           "TO"
          ],
          [
           "fatima",
           "TO"
          ],
          [
           "formoso do araguaia",
           "TO"
          ],
          [
           "goianorte",
           "TO"
          ],
          [
           "guarai",
           "TO"
          ],
          [
           "gurupi",
           "TO"
          ],
          [
           "lagoa da confusao",
           "TO"
          ],
          [
           "lajeado",
           "TO"
          ],
          [
           "miranorte",
           "TO"
          ],
          [
           "natividade",
           "TO"
          ],
          [
           "nova olinda",
           "TO"
          ],
          [
           "novo alegre",
           "TO"
          ],
          [
           "novo jardim",
           "TO"
          ],
          [
           "palmas",
           "TO"
          ],
          [
           "paraiso do tocantins",
           "TO"
          ],
          [
           "parana",
           "TO"
          ],
          [
           "pedro afonso",
           "TO"
          ],
          [
           "peixe",
           "TO"
          ],
          [
           "pequizeiro",
           "TO"
          ],
          [
           "pindorama do tocantins",
           "TO"
          ],
          [
           "pium",
           "TO"
          ],
          [
           "porto nacional",
           "TO"
          ],
          [
           "praia norte",
           "TO"
          ],
          [
           "pugmil",
           "TO"
          ],
          [
           "sandolândia",
           "TO"
          ],
          [
           "silvanopolis",
           "TO"
          ],
          [
           "sitio novo do tocantins",
           "TO"
          ],
          [
           "taguatinga",
           "TO"
          ],
          [
           "tocantinopolis",
           "TO"
          ],
          [
           "xambioa",
           "TO"
          ]
         ],
         "hovertemplate": "City: %{customdata[0]} <br>State: %{customdata[1]} <br>Number of Customers: %{z:,}",
         "lat": [
          -11.005940733106021,
          -7.626199615821539,
          -11.020952868213916,
          -8.838577670536376,
          -9.595140028479923,
          -9.96621427193253,
          -10.153304051241047,
          -10.652226188202285,
          -9.262055423096342,
          -9.684047221479462,
          -9.75088947728531,
          -9.506693572289144,
          -9.408516706471508,
          -9.83863907011189,
          -9.674351094872717,
          -9.583374640108921,
          -9.644246828974058,
          -9.401185056413858,
          -9.398762700999793,
          -9.778714681559102,
          -9.115906531545123,
          -9.636905726170337,
          -8.918939545163434,
          -10.12551530808525,
          -9.382493141218601,
          -9.387081056889096,
          -10.294195260579944,
          -9.884218075749796,
          -8.968582603504943,
          -9.538272597390494,
          -10.127806364224021,
          -9.222300970685877,
          -13.968997360514717,
          -9.888675029135362,
          -9.827487317738328,
          -9.629984423955989,
          -9.62348189023309,
          -9.451208581887236,
          -9.007675987232085,
          -9.233525306895219,
          -9.731920433403758,
          -9.575858848762762,
          -9.117820475748035,
          -9.156550877434656,
          -9.603077766424372,
          -9.31049621523562,
          -8.941920209972302,
          -9.533953252639773,
          -9.413877638566666,
          -9.462653803070658,
          -9.250591921209962,
          -0.48350469590587863,
          -9.36857180165382,
          -10.286413219075994,
          -10.40198438356759,
          -9.599890845411252,
          -9.475011165772862,
          -9.053688837131517,
          -9.156245682424096,
          -9.497191293262231,
          -9.601084296363338,
          -9.373149147436541,
          -9.166493174421886,
          -9.007625823834184,
          -9.559173826522185,
          -9.796534455744277,
          -9.569708628845596,
          -10.126440337605306,
          -9.313365468898668,
          -9.783183216243991,
          -9.938980157317406,
          -9.534569468663042,
          -9.647419962029984,
          -9.91132355428027,
          -9.96793244548259,
          -9.157218563819532,
          -9.373296142405742,
          -4.09374263540589,
          -7.515035839188224,
          -3.1385616883287857,
          -3.0795783434247967,
          -3.055411886272194,
          -0.46790722755920855,
          0.04248612053195577,
          0.024542955731359048,
          3.842508276217248,
          0.7076814373174959,
          -0.04107071705408542,
          -0.9100904956856667,
          -13.25061237162442,
          -8.695825761079504,
          -12.829740573799095,
          -11.663495576693935,
          -10.536616901316743,
          -12.136744532665942,
          -17.49780399812736,
          -13.027915958035509,
          -12.401074390408349,
          -11.45534706517941,
          -14.611360791492,
          -12.787871113669794,
          -10.344702161161972,
          -12.006384427285656,
          -12.150285458856343,
          -12.437692684045293,
          -10.572745326309084,
          -13.856428388404744,
          -14.417742491973552,
          -11.335260862257696,
          -12.091330630741258,
          -15.261549087667621,
          -16.400187212609048,
          -12.305739641294254,
          -11.96147261711341,
          -10.585166781112665,
          -11.091426618171694,
          -13.627303617775587,
          -14.79282531410588,
          -11.81567580101508,
          -13.00910117780522,
          -12.148291440071393,
          -11.76948844484253,
          -14.808885344555364,
          -11.531422232554455,
          -15.861264621846493,
          -15.03719803840138,
          -11.621067370397462,
          -13.256014019878709,
          -14.373890293319775,
          -12.709313125048306,
          -11.968975435554178,
          -12.796852188705783,
          -13.379246877494014,
          -13.100003439556863,
          -12.484797099889365,
          -12.007079224288079,
          -14.205460464439602,
          -14.95780133672066,
          -10.715085941727198,
          -12.5618254818023,
          -12.596261024659881,
          -14.501217587397077,
          -11.115152636765668,
          -14.340477197018577,
          -14.064001196267634,
          -13.484783183416193,
          -11.107533220644429,
          -15.414350130540774,
          -12.701826283191002,
          -13.949892230855664,
          -12.7032569529374,
          -9.512360481214106,
          -10.504091563927071,
          -11.716138289868587,
          -15.673596172003467,
          -11.807405855467286,
          -12.720320690985957,
          -15.477954485009848,
          -10.669392366727326,
          -9.899970940826488,
          -13.07598150697971,
          -11.671553500430177,
          -11.378158125172405,
          -14.697586059449323,
          -17.70676566862526,
          -14.29469780358296,
          -9.589271582271095,
          -9.177388079834074,
          -12.76647898695337,
          -12.363840993783475,
          -12.84995914015199,
          -13.33127591278641,
          -11.136698466979883,
          -8.952778233808264,
          -10.593072091897264,
          -11.100453613828883,
          -14.635923437679327,
          -14.180373776936616,
          -12.488128486464861,
          -11.570269199721736,
          -12.778657206588948,
          -12.319657049080448,
          -11.815526915377394,
          -14.89994608455309,
          -12.229142870679011,
          -15.039252005168535,
          -13.825204329206679,
          -10.286244573272963,
          -13.350611559127506,
          -11.986619531975505,
          -13.3584118622779,
          -11.510350367865279,
          -12.23446807165592,
          -12.670246382541524,
          -8.973255974200578,
          -14.432570124936387,
          -12.613381623293343,
          -13.776497629443725,
          -12.906137934124084,
          -12.945754382865934,
          -11.945978977641902,
          -13.41924902264324,
          -11.797063477493758,
          -10.506647781847288,
          -16.369117016592682,
          -12.250012686237463,
          -10.742273218498525,
          -11.017033236590091,
          -10.595309591903002,
          -13.744780130603793,
          -11.430397447067516,
          -14.324173723619397,
          -12.601161055340533,
          -14.223207197286886,
          -16.583956840301944,
          -10.678041392087644,
          -12.771217629932794,
          13.001420173555276,
          -14.271363104530465,
          -14.864971995351361,
          -13.387054558687607,
          -11.615597324539957,
          -12.880391836349748,
          -17.17175475870765,
          -17.686704049320333,
          -14.067913952984231,
          -12.620603869118954,
          -14.205943535785892,
          -11.543743190919164,
          -12.173954820936972,
          -11.747866378230363,
          -13.775638024760488,
          -13.822787464806243,
          -14.753643482048275,
          -14.802256101047456,
          -11.788063884310118,
          -12.311407125375581,
          -14.134256363320024,
          -12.154533930203856,
          -11.819679206712275,
          -13.2937085863723,
          -12.246594899548208,
          -12.04412989993678,
          -11.304164446373443,
          -16.576892351011832,
          -12.526110203660092,
          -14.795188363790583,
          -14.277952102631142,
          -14.279696054580537,
          -14.16399588301195,
          -14.264154547885603,
          -16.088461861107803,
          -11.009287926007138,
          -15.150717043705992,
          -14.674935106787432,
          -17.036945722043964,
          -13.779543183726712,
          -15.245677323447492,
          -13.4688355351923,
          -17.153107268963442,
          -12.898324480246515,
          -14.895676991964441,
          -15.25087590485796,
          -11.309948380095937,
          -14.426904795595107,
          -15.65454482787812,
          -12.709999177087571,
          -13.533125538014842,
          -10.692505914399304,
          -15.110414504915589,
          -13.815446239017097,
          -13.735024983509335,
          -14.843344706955753,
          -11.185948677999658,
          -13.528891311211662,
          -10.266640044957128,
          -11.56405313425723,
          -13.86172755357708,
          -9.953805521582453,
          -13.25683774423046,
          -11.347191540856294,
          -9.424867585551823,
          -16.84106075344821,
          -14.844735491961492,
          -13.514781739067578,
          -14.036242095465619,
          -11.795649902432892,
          -12.884900331298656,
          -12.549771376744802,
          -13.670531405245123,
          -12.092512976501046,
          -13.020323700819894,
          -12.741679313725754,
          -15.62552359210591,
          -11.710510369249565,
          -10.719509150237368,
          -13.439365307409346,
          -12.781836602100842,
          -15.588427783636105,
          -12.527383306187804,
          -17.375406123452056,
          -11.430232476786514,
          -12.870182039732622,
          -12.625605667070458,
          -10.438905632289902,
          -11.564151518259994,
          -16.746867739073753,
          -11.548025813188566,
          -13.008789697437837,
          -16.96567343571629,
          -11.872145244234288,
          -12.114785602659982,
          -12.622423750740422,
          -13.228299940041628,
          -13.024718668171314,
          -14.669574171941456,
          -11.608126706996915,
          -12.8161305099824,
          -11.24056027473802,
          -17.898358182362454,
          -11.36300217337656,
          -12.315531502909078,
          -12.51688809101802,
          -13.45331780953808,
          -10.68050249649417,
          -15.464697689957577,
          -9.406979889486355,
          -12.146156745779068,
          -13.11064956773182,
          -9.996898033622134,
          -14.488150497918747,
          -10.740203324663495,
          -11.812466362034584,
          -13.765552472473683,
          -14.943191650637957,
          -11.73075405938191,
          -13.388773703858275,
          -14.670952825259961,
          -14.52830483612981,
          -12.425449890980156,
          -10.875984806034019,
          -16.432027097855745,
          -17.88644999936857,
          -15.62923116778944,
          -17.328471244047822,
          -11.296340431489769,
          -14.685748936568974,
          -13.446819962486437,
          -10.977524383139036,
          -10.753286846409909,
          -11.418441272898717,
          -9.620891468311969,
          -11.493520707645892,
          -11.749759183121165,
          -11.807900364528223,
          -13.611642226714537,
          -10.998030196324375,
          -10.855588015152298,
          -13.57007856069092,
          -14.404103359723551,
          -13.12472173002355,
          -11.486452509291919,
          -8.859703814217283,
          -12.283351491742769,
          -12.874081355187327,
          -11.860459652819213,
          -12.96265670995726,
          -9.734568624994122,
          -16.250370224211835,
          -13.292728247904376,
          -13.389063238712454,
          -12.745712645503335,
          -11.25353298652731,
          -12.980768952162558,
          -2.5581064373865994,
          -12.550877110661533,
          -12.960412541573335,
          -12.434211527953881,
          -12.400573739228395,
          -11.463225794090727,
          -12.846031252009011,
          -12.606968335371109,
          -13.403164233375415,
          -15.084010748744637,
          -13.047656931762493,
          -12.499831163064316,
          -12.731409494242664,
          -12.743405333736474,
          -10.939838614530316,
          -12.419056280766661,
          -10.462341603580397,
          -9.743372912976032,
          -13.524336387693962,
          -12.759336072245091,
          -11.661759736331563,
          -11.41871333058074,
          -12.792102385300257,
          -9.470699499739322,
          -11.605014606657434,
          -12.623600946538469,
          -10.359784781277792,
          -12.6235237803351,
          -14.059502295365316,
          -13.548673267223352,
          -11.847671465060738,
          -17.533757632694805,
          -12.304098701403808,
          -11.4870493414391,
          -13.247298926941468,
          -16.58182674915274,
          -10.97140916496573,
          -9.841477415983517,
          -13.26683726311938,
          -14.31160550780154,
          -14.21362506012072,
          -11.32715558541232,
          -10.731455413955146,
          -15.288028397291363,
          -14.768415571576352,
          -14.590520575188583,
          -12.080262780117183,
          -13.367204191409803,
          -11.410907884755225,
          -11.527258591060656,
          -11.257277417899767,
          -12.97589256977562,
          -12.985503950452635,
          -17.256416719034622,
          -14.860758503697877,
          -14.855737032135135,
          -12.28286253938085,
          -12.121378047809058,
          -13.670820183267251,
          -10.823373418772064,
          -7.358247021378397,
          -2.8902381436643245,
          -6.094117746073023,
          -6.583338622041794,
          -6.999919634947142,
          -5.519712483344855,
          -3.504514941264218,
          -3.3654681773745936,
          -6.775232323102792,
          -3.9469180609449297,
          -3.912322652354214,
          -4.566714237937559,
          -4.398558702292383,
          -7.198190230663674,
          -4.419358212248046,
          -6.325943690618894,
          -6.874763274275399,
          -6.944245619931199,
          -5.305421492508686,
          -7.310555661406291,
          -4.291176025645771,
          -7.1739467925333615,
          -4.333220344027544,
          -4.1840316734497085,
          -3.056024276098674,
          -5.124593099187569,
          -7.48940318775888,
          -2.9042495798412467,
          -7.07508607869851,
          -4.3559287899539,
          -4.467730528888049,
          -4.233341263085579,
          -3.9489521807486305,
          -7.040575407082821,
          -6.536160491677898,
          -4.16476401942149,
          -4.12875548965656,
          -6.13321403407986,
          -3.737584371922989,
          -6.6046656923026275,
          -3.036271797499818,
          -4.30979584870399,
          -3.565085492206122,
          -5.178977553905794,
          -7.2351456164340675,
          -4.406674141230664,
          -2.910768029629216,
          -5.879736632121809,
          -6.031735490122187,
          -3.8780846128375694,
          -5.990887409315429,
          -3.8015512539711955,
          -3.763107946625493,
          -4.454570033119691,
          -3.7589905989603696,
          -3.1306389318396124,
          -3.916800670844612,
          -4.044251951370843,
          -4.168617502766975,
          -6.245078288454222,
          -4.4087870127259015,
          -4.099797197975554,
          -3.924749169815321,
          -4.968975917103503,
          -4.702908441503046,
          -6.400125364972757,
          -6.361824489264733,
          -5.395710522347874,
          -4.908117299278558,
          -6.790161423693346,
          -4.327048757984197,
          -4.543939654370731,
          -5.812281338381306,
          -3.7361797103332517,
          -4.686481431712241,
          -3.9520219880929917,
          -3.6873325423106107,
          -3.496471725119123,
          -4.561920902281472,
          -2.9317494177419348,
          -5.455589582541656,
          -5.900561085325373,
          -4.840907944503906,
          -7.586145933882586,
          -2.8629997768294237,
          -7.222549481274524,
          -6.522041472264161,
          -3.9532422291143487,
          -4.2386007227785445,
          -6.753572603131509,
          -5.1634832018087975,
          -4.842097370780366,
          -3.868764924381075,
          -3.861147544296164,
          -3.890680939185118,
          -3.123797441185686,
          -3.5225907610052434,
          -7.387434699017797,
          -3.544255119013516,
          -7.31229126770766,
          -5.676691722902132,
          -3.5669148176495655,
          -7.248568633878562,
          -5.745164121760787,
          -4.811069197938342,
          -5.095938435414265,
          -3.241045739308473,
          -3.905726996478778,
          -7.097252821632011,
          -4.7085259993750315,
          -5.536525052704697,
          -4.487947696050415,
          -6.244549790818907,
          -4.175669333979667,
          -3.926842620267336,
          -4.225633003744864,
          -3.979862753185089,
          -4.7456620869071395,
          -3.4207176307291225,
          -3.436832300222164,
          -6.2102878470152,
          -5.45697491231725,
          -7.8295250168819885,
          -3.7957425830621236,
          -6.0464780492466845,
          -4.032750767689878,
          -4.25175167620517,
          -7.533616259304609,
          -7.079038398020903,
          -4.969709415479479,
          -6.241155539473785,
          -5.198700104551449,
          -5.071963778883321,
          -4.230045613748753,
          -4.142405504800178,
          -4.938637830671736,
          -6.534401614498916,
          -4.3343298086532185,
          -3.461160162149771,
          -7.186810954798932,
          -4.045776495038852,
          -3.6004557855038715,
          -3.670938815642368,
          -5.58787718938735,
          -3.6865664243278786,
          -5.736313443655067,
          -4.942380930005896,
          -5.249525498974742,
          -4.080853105930747,
          -6.001905413296545,
          -3.725711352106951,
          -3.2630923212212033,
          -3.598104898072363,
          -3.849478645520175,
          -3.622250892797858,
          -3.3207038949212935,
          -4.180568412190747,
          -3.562276589200506,
          -6.792557339326901,
          -15.809228063592744,
          -15.822237248199658,
          -15.684001063028054,
          -15.856209449034804,
          -15.851079643475996,
          -15.842721537619893,
          -15.795985433861782,
          -15.802601372530393,
          -15.744120683997922,
          -15.875568170232778,
          -16.0281833958187,
          -15.654773951863252,
          -15.820518940240012,
          -20.076844770408805,
          -20.760206303395872,
          -20.627031870241968,
          -19.05822235499108,
          -20.800378086859887,
          -21.153323461585163,
          -20.010857207379935,
          -19.84769042963587,
          -20.41550908384522,
          -20.92514780451319,
          -19.512568777088724,
          -18.748313722680667,
          -18.53583690499467,
          -21.126567901967178,
          -20.14768728208619,
          -20.8465038277315,
          -20.33027859704238,
          -20.6053563781088,
          -19.851581656301253,
          -19.52984427509196,
          -19.24593411404079,
          -20.361225210844665,
          -18.576966446050704,
          -20.611673656847113,
          -20.35383799330783,
          -20.68276666465529,
          -18.36881608995012,
          -19.944160220015554,
          -19.252721480274865,
          -20.772595022149183,
          -20.661403449885107,
          -20.233854705661063,
          -19.8315934465165,
          -20.78929879189499,
          -20.345803660646123,
          -19.792991958104,
          -20.89832394853286,
          -20.72583088209348,
          -20.94924974603446,
          -19.87731798944995,
          -20.349111920880414,
          -20.706822352054118,
          -18.908355105069518,
          -20.791387301827758,
          -19.7510070097032,
          -19.890320604855525,
          -19.3834616089795,
          -18.86369285485961,
          -21.0323181161207,
          -20.415508811333915,
          -19.412026310370646,
          -21.061570668726116,
          -18.13113299686834,
          -18.08497000761245,
          -20.45712412947493,
          -20.95206473566138,
          -18.70658082589379,
          -19.249396534825074,
          -20.762729094305136,
          -19.195901004272244,
          -18.293163679149735,
          -18.410899011847384,
          -20.839948654995545,
          -18.129889045356208,
          -20.039269371332946,
          -21.122930576727104,
          -19.39858970116328,
          -19.262419468912956,
          -20.860485103348744,
          -20.100361493805377,
          -20.031391098604573,
          -19.941560876602846,
          2.8545299564090527,
          -19.138753324097504,
          -18.32097783533344,
          -21.02027868005079,
          -18.724933191896493,
          -19.73930434519547,
          -20.177553426226176,
          -19.189127770488813,
          -19.01753886918101,
          -18.718116810064046,
          -20.644842999268594,
          -20.988488233934397,
          -20.33885295949204,
          -20.361682395783628,
          -18.476713762810867,
          -18.994923624409637,
          -20.359641371522812,
          -20.288520696154244,
          -20.286222342231266,
          -18.543085190055944,
          -18.985716113277793,
          -16.193742416316265,
          -17.398332393161862,
          -14.974495376227203,
          -18.076322394559124,
          -15.695260628820636,
          -16.08407742651032,
          -14.194380211559102,
          -14.139317335379074,
          -14.485339149785249,
          -16.25358822328803,
          -16.327353964932357,
          -16.459840612028362,
          -16.32161300069516,
          -16.78072302739846,
          -16.7623035482495,
          -18.962628411703154,
          -15.91083602415266,
          -16.911487435484606,
          -15.098425662944779,
          -16.385489638361854,
          -14.925081878468896,
          -16.6800504509085,
          -14.965873629628225,
          -16.97074863211508,
          -16.20174282856144,
          -18.21596364273308,
          -16.61353756300374,
          -16.43241381438336,
          -15.243476632392776,
          -18.13450400303502,
          -15.80524926175744,
          -18.73111677835222,
          -18.493615761637802,
          -18.56640709989252,
          -16.956804802062678,
          -17.73942377072625,
          -13.805494461607296,
          -14.312747501518935,
          -17.63440177971588,
          -13.03716354927162,
          -14.261393536187512,
          -15.356895077264507,
          -18.08907764015331,
          -18.167645727186095,
          -18.166199359198362,
          -13.794652877169758,
          -15.303639303509014,
          -16.979258470150114,
          -18.39733282966265,
          -16.096685465717755,
          -15.763160003628366,
          -15.925016419272495,
          -18.142259580605526,
          -16.769915526637476,
          -14.540576551279157,
          -17.28903223581148,
          -18.26475442537532,
          -14.558825045092368,
          -16.234017407589523,
          -13.286608875471481,
          -16.727849161235895,
          -17.339193802235137,
          -16.181703209247857,
          -16.579554212323874,
          -14.489043559652542,
          -15.544024654910425,
          -13.658155911030814,
          -16.506991076108925,
          -18.134085496238615,
          -15.30894231731639,
          -16.684699466259676,
          -16.51328325061693,
          -15.487464250363747,
          -15.938605999778817,
          -18.010414587983583,
          -16.683246551674088,
          -16.836710815613895,
          -16.96259552661788,
          -14.72203312995615,
          -14.100739692965762,
          -18.48685825006419,
          -17.14472752992358,
          -16.361253921121996,
          -17.708782130349086,
          -15.1730986160153,
          -16.439020898982182,
          -16.023821140278326,
          -17.922965165021004,
          -15.920650920587102,
          -15.761628318995127,
          -19.065246951329033,
          -14.958343749279683,
          -15.818486836263315,
          -15.560605178412759,
          -18.412530105052873,
          -17.079845152602317,
          -15.7491870749417,
          -21.46782908813674,
          -17.88222011623642,
          -17.886310975961546,
          -16.18353920367387,
          -15.954504603802935,
          -17.80579849882583,
          -15.86533062010455,
          -19.182993807872656,
          -16.619398610966368,
          -16.22448456894426,
          -16.23408234585953,
          -17.297301426609756,
          -14.494591086288205,
          -14.018136979135805,
          -15.444496329541428,
          -17.97857682219264,
          -15.058480568297375,
          -13.52855704116866,
          -17.55680902005028,
          -13.352843374404667,
          -17.733896355961825,
          -15.315496976111609,
          -16.124703093317933,
          -14.75127393843723,
          -13.773088398359624,
          -13.728156076776243,
          -16.580899236343214,
          -16.405922323480205,
          -14.469844694917848,
          -15.02206686103527,
          -18.058583667460102,
          -14.094530496663717,
          -13.741770516069945,
          -16.3728020737293,
          -16.061841689635166,
          -13.240724859882576,
          -17.032172054328477,
          -16.2184895491168,
          -18.232893885782634,
          -15.173405629090755,
          -16.80658045924258,
          -16.79339818324716,
          -18.903257418828375,
          -16.966459120735912,
          -17.30349906583519,
          -16.43263532663801,
          -15.861728144235814,
          -17.305108052105656,
          -15.452005392743093,
          -17.518138770022407,
          -13.438920474296195,
          -17.354908914001747,
          -14.086973323425672,
          -18.446014425685497,
          -15.348344768459068,
          -17.798027631733316,
          -15.163985855096604,
          -16.20141594759011,
          -17.30608267043897,
          -15.769411318200595,
          -17.813130272653,
          -17.31931964620719,
          -16.49353235933702,
          -15.992699969954911,
          -14.706666711511849,
          -16.81907336616139,
          -14.86324516749846,
          -13.256779394108104,
          -15.350684947467316,
          -18.99978193211773,
          -16.68882074984788,
          -18.306989983868146,
          -16.664838379896693,
          -14.467797331163872,
          -16.512880224214197,
          -13.764676069232092,
          -16.64703839143081,
          -13.51023766630793,
          -16.608937369210462,
          -17.852312315959438,
          -14.518474806651268,
          -15.514912961998895,
          -17.464961711925778,
          -16.070138292854566,
          -16.739112472613463,
          -17.73327729043038,
          -15.740809877205038,
          -4.945933764432744,
          -2.392514845980913,
          -4.214134911794691,
          -3.724104406992829,
          -9.123470479520625,
          -1.6740152531915955,
          -2.9505096665532773,
          -4.8897314492920385,
          -3.450955216573816,
          -4.226384665835355,
          -1.7280569130405292,
          -7.5314749353251536,
          -5.504495037749826,
          -2.7572296690037668,
          -3.7449621799685744,
          -7.2185315166586035,
          -2.4510717579240366,
          -1.7953126147499632,
          -3.5436895442774707,
          -4.502895843702964,
          -3.6796750053374514,
          -3.944243935492534,
          -4.316757277478371,
          -2.8762657761064014,
          -3.321816931557347,
          -6.207448028884075,
          -1.488876071178884,
          -3.635163252640832,
          -4.717117343720794,
          -7.331741136185456,
          -1.204072657270092,
          -4.865914904365274,
          -1.999265836243856,
          -2.1758484000120535,
          -3.7407619665087135,
          -5.173429220943391,
          -4.461757206996403,
          -4.254609679921668,
          -6.030384554755735,
          -4.129401649445521,
          -1.8274935813426987,
          -5.03688290010167,
          -4.8785892070831185,
          -6.559559478054802,
          -6.440041398536376,
          -5.73270945714518,
          -5.155080975711676,
          -5.325737636004153,
          -5.817305107497372,
          -2.1312850313634097,
          -2.6262256796164127,
          -2.775034274041348,
          -5.519378116377782,
          -3.3903296903605975,
          -5.8180833730979895,
          -5.446864870927711,
          -4.981589066943498,
          -4.565356629061708,
          -4.041771813184939,
          -7.087963525171027,
          -3.3949528767013546,
          -2.0475975239584945,
          -2.2444368174490115,
          -3.624041087270268,
          -5.521318854487161,
          -3.6283011943315135,
          -3.563524483801414,
          -2.0668738085740657,
          -3.4952781661019174,
          -2.806361803992104,
          -4.141830301699068,
          -2.532493843274056,
          -6.431676477848956,
          -5.681526563363478,
          -6.1798968851136795,
          -6.599689696480659,
          -2.7469312348327235,
          -4.572865408732536,
          -2.5778026730853143,
          -3.619697420144632,
          -2.523977179331303,
          -3.8894224919585265,
          -3.72727387413169,
          -4.753592281421204,
          -6.344079329673677,
          -5.293304861195717,
          -2.92319248655288,
          -2.3801968556878568,
          -2.9402330356569957,
          -2.2439481330365108,
          -3.662967448556149,
          -3.6616241546510273,
          -3.9891934418798836,
          -2.545479009345607,
          -3.4857516742191215,
          -3.1354042750710693,
          -3.3312850498501794,
          -2.701048477960627,
          -3.3507915241989776,
          -5.5822651212599395,
          -5.125625029862735,
          -2.9659182540693436,
          -6.465308612680925,
          -6.497455089795662,
          -2.551847789349706,
          -2.52997736406047,
          -4.032419259620942,
          -5.076683891323354,
          -2.8962932187548134,
          -4.038562291788479,
          -5.482464652508486,
          -5.8775143967415096,
          -6.4778232161363025,
          -2.538019246951722,
          -5.102446021570266,
          -2.77093891489611,
          -3.2083187108705644,
          -3.544078339355614,
          -3.211628210130476,
          -4.286865848531589,
          -3.484247762721612,
          -3.2762848140617855,
          -18.474476487136112,
          -19.158206495625077,
          -20.294280906968602,
          -20.36291378049634,
          -20.057791817035962,
          -15.653224484990904,
          -19.500415267687412,
          -21.978848424131765,
          -22.171830593467934,
          -21.87263312640806,
          -19.70290819846817,
          -21.424588981834425,
          -21.149443547778596,
          -16.176287602159036,
          -18.978826415455085,
          -20.858669988986815,
          -21.255833645504303,
          -20.444053497570113,
          -20.426509214614725,
          -21.023159198844187,
          -19.417557882438132,
          -20.10947269579902,
          -20.50873879690439,
          -22.07047143353818,
          -21.739749890361267,
          -18.25622999999996,
          -21.868313548258158,
          -21.321140140855793,
          -20.28758954681794,
          -21.013832282687016,
          -19.919078673746107,
          -21.341162438544124,
          -16.883929364182464,
          -18.64778819488765,
          -21.91515898275318,
          -20.6671706287898,
          -18.433456885403785,
          -19.03641623988676,
          -19.94457443092869,
          -19.58983075955769,
          -19.605227525304734,
          -21.364132750962657,
          -20.288301513728257,
          -21.35871206261818,
          -15.920350682439093,
          -21.314030738133884,
          -18.05755085116548,
          -20.007877399332763,
          -19.131911960585803,
          -21.961660896718744,
          -18.871945482069957,
          -19.35343986807516,
          -20.01516131652096,
          -15.885797701961174,
          -21.730125416985874,
          -19.934737596235344,
          -21.219352072707792,
          -20.28331413855323,
          -21.191206592695412,
          -19.8280287267131,
          -19.908765632662902,
          -19.234384415578205,
          -20.410874626609804,
          -16.9227674102542,
          -15.620342230243962,
          -17.027409747481066,
          -19.954066182129804,
          -21.607145357582965,
          -21.718907282263547,
          -21.095129514404864,
          -17.11521217243906,
          -19.740337139221076,
          -21.94855498599183,
          -21.018142161416034,
          -19.70770771675895,
          -19.723406801685012,
          -22.470052425523427,
          -21.032900753434287,
          -20.307454205352247,
          -16.562527667206663,
          -15.323332390913766,
          -22.26258413023529,
          -21.645500953931425,
          -20.853478504143315,
          -17.00502700552426,
          -16.215706428560953,
          -22.478535643061456,
          -19.20869666709772,
          -21.8513394321701,
          -20.13944080447951,
          -22.44265419909015,
          -17.874671637787852,
          -19.429537697924797,
          -15.62721446009139,
          -17.364555680535215,
          -16.055668176736315,
          -21.47382328040176,
          -19.52424896323175,
          -22.355813970805112,
          -15.962509184455818,
          -20.39476345719793,
          -20.339073957512912,
          -18.531781647695585,
          -19.303656393400818,
          -19.8849004292492,
          -20.69789948474924,
          -20.788628855033426,
          -21.91385284576575,
          -20.62674426960462,
          -22.75549974414299,
          -22.61187390884463,
          -21.85432094379683,
          -18.24000322829645,
          -21.834793738633515,
          -21.71111120484129,
          -19.53430181412056,
          -19.099162775692967,
          -16.505728294096443,
          -20.893764714167883,
          -21.109499455456902,
          -19.76253702549459,
          -19.69675757095511,
          -21.23678866810368,
          -20.687087445335333,
          -18.72350346707715,
          -20.771279225466223,
          -18.53054293112112,
          -20.52392468730391,
          -20.925626456194642,
          -17.696081081658534,
          -20.621099796616186,
          -19.55004677480242,
          -18.683263859461753,
          -16.543430516882903,
          -20.61655651835597,
          -19.071183051265177,
          -20.172671360072147,
          -17.18743056986159,
          -20.949993970927927,
          -20.73251603191775,
          -19.785631048020417,
          -17.535583399039044,
          -22.209160354419872,
          -21.879894097287,
          -17.656998028766992,
          -19.086575734805603,
          -21.461008557533102,
          -20.55966811821635,
          -22.12124328966364,
          -20.2690173748538,
          -18.99834541822861,
          -20.971610978511645,
          -20.539189819213494,
          -19.71155629339138,
          -21.489134819324796,
          -21.77850220955143,
          -18.605312312450106,
          -20.582930704896818,
          -21.387342415899255,
          -20.07559272673594,
          -21.98080481713224,
          -19.147111404098304,
          -18.276242309677663,
          -18.585274922169962,
          -20.044837844618513,
          -17.095485036819124,
          -15.308802441202978,
          -19.04329047203457,
          -21.677323573632474,
          -20.401546767101205,
          -17.04383628389522,
          -20.437204870235007,
          -19.859866222327437,
          -20.858008685826494,
          -18.232094722880394,
          -16.29716678761857,
          -21.09647363693938,
          -16.975562820475375,
          -19.921240470897423,
          -22.157943002604156,
          -19.02370672710774,
          -19.750693613679953,
          -21.88247079465772,
          -22.413907561211314,
          -19.63356602459755,
          -21.865404185877193,
          -20.50992275165819,
          -19.932894734007487,
          -20.658076729054834,
          -19.167555289682102,
          -19.919039515683153,
          -16.660334572677282,
          -18.365786615134013,
          -18.62002742371327,
          -18.47627421500296,
          -19.509009469549564,
          -16.61347117209926,
          -21.593698960032746,
          -19.82452943769596,
          -20.449132368853075,
          -17.260138977246726,
          -20.875296630804296,
          -16.719068093902173,
          -20.827198141281883,
          -22.21042987201982,
          -20.393971148465702,
          -18.95333412728917,
          -21.839318825546265,
          -18.76341842229983,
          -18.44727257487323,
          -22.506465902168443,
          -20.35314672721178,
          -21.460459659501712,
          -17.69660993683053,
          -20.658745791585076,
          -21.148926512528384,
          -18.240347942725787,
          -20.486371372252332,
          -19.837960160174493,
          -20.989541350921062,
          -20.610108566038743,
          -18.862878662368132,
          -18.79752831788695,
          -20.144261597007578,
          -15.725920378278673,
          -21.509803394507347,
          -19.378011858969515,
          -18.95971600067106,
          -20.16425237315996,
          -22.25087122494672,
          -21.316713780337267,
          -21.109897644968864,
          -19.05428144842279,
          -19.466534517809865,
          -20.20171885054973,
          -21.608502670027345,
          -17.285046057703397,
          -19.624980498566174,
          -20.67110481067536,
          -20.84059414010997,
          -19.78192824681679,
          -20.64823472332548,
          -14.923654164790463,
          -22.463444083564244,
          -19.532003193597255,
          -18.741282890204708,
          -21.097884822557152,
          -21.551070403785488,
          -22.855478223289115,
          -18.078679395852483,
          -16.6419634086352,
          -18.832525341745335,
          -19.247823639092896,
          -20.72487631162102,
          -19.890081655281833,
          -20.16159337477424,
          -20.46253562176835,
          -14.957216746740068,
          -17.01008125423929,
          -17.313346146163163,
          -16.487764046795366,
          -18.072821160182723,
          -18.557139693388137,
          -18.168896360988477,
          -20.279454990887864,
          -16.116153206536715,
          -20.02737817547669,
          -15.082894964401873,
          -18.982839765221968,
          -21.53583504095354,
          -22.6596882553007,
          -18.47081366941407,
          -18.86415130365667,
          -16.515562006115424,
          -18.497290375148705,
          -18.775765183946625,
          -20.761896064993767,
          -20.57178137070997,
          -21.301969203940768,
          -21.35615246227957,
          -21.728990777739167,
          -17.769317756643446,
          -21.305958369618207,
          -21.151155225515186,
          -18.84499471897389,
          -21.00463525274551,
          -19.437654649170216,
          -21.433481249136186,
          -19.515039180739823,
          -16.86254234593388,
          -15.658948927022415,
          -20.46391948054387,
          -20.01354969264759,
          -20.02201294707018,
          -16.215190864060187,
          -20.066757396501128,
          -19.95489936249545,
          -20.172208868562752,
          -20.940577532886604,
          -19.60572642689479,
          -22.319460242978675,
          -19.036754375909265,
          -21.40247034075929,
          -19.546635831295774,
          -19.49258174354208,
          -18.731612623128893,
          -19.415825523070794,
          -19.800222704580385,
          -19.469778652462953,
          -18.692740606266046,
          -22.01650880123292,
          -18.986054664753812,
          -19.634178862962685,
          -18.565779951585817,
          -20.25306174547873,
          -15.096620601254603,
          -20.36573224413548,
          -22.42661624598562,
          -22.440063906975933,
          -17.860280171639676,
          -18.037609416886355,
          -20.882725764022158,
          -22.285425563590607,
          -22.296792750248095,
          -19.17032006670954,
          -16.558301879745645,
          -19.901026410081517,
          -20.469754462066163,
          -22.768385385405164,
          -20.19934547890525,
          -20.74428836520151,
          -20.07831096929482,
          -16.607515379286834,
          -19.398247971815298,
          -18.976155023374965,
          -19.729365350880276,
          -21.297685556078413,
          -19.50166679561941,
          -16.156206939181896,
          -21.018174639032726,
          -22.288146664323694,
          -19.629369288110347,
          -15.340799938290758,
          -18.47792820199582,
          -15.807096679447229,
          -15.841993705015533,
          -15.483420529424647,
          -20.140374169496198,
          -20.537866120241542,
          -17.09007626642221,
          -20.457497164435612,
          -17.228786404946344,
          -19.232471283527982,
          -16.440336187363684,
          -22.00120050686708,
          -16.66919901915369,
          -19.8209140062623,
          -17.726614794336776,
          -15.89509051958135,
          -19.95920800201224,
          -21.754106779516853,
          -21.252993786542923,
          -14.297104193420415,
          -17.631604123802298,
          -20.024064772425362,
          -16.985899346747413,
          -20.919287654113624,
          -18.77618044480129,
          -17.83903600481589,
          -19.636520104484408,
          -20.143957169397375,
          -21.974223701500048,
          -20.7880292437573,
          -21.360767410544305,
          -21.244708636505745,
          -19.717601976039926,
          -21.530164261618392,
          -22.026227116647096,
          -21.841835048420986,
          -19.54562243892238,
          -20.439607604112577,
          -17.205405409115443,
          -21.511614236520643,
          -19.79398058295839,
          -17.076857047076594,
          -21.680408948048516,
          -21.062990905913566,
          -21.48431219238059,
          -17.847697697027982,
          -15.047725331864479,
          -14.753638660717579,
          -20.25268829369247,
          -20.35584130637538,
          -18.777954733022707,
          -21.86580880333746,
          -19.515017571479863,
          -22.30891409822217,
          -20.37497229153692,
          -18.508114563074084,
          -20.058159043126047,
          -18.947673738116595,
          -19.338557253719472,
          -20.25731159513661,
          -15.690291833040085,
          -18.472854246322914,
          -19.99123842180006,
          -21.869485342722417,
          -20.29523058250375,
          -15.39316055412574,
          -19.56083264961986,
          -19.22229992242833,
          -19.996631243192493,
          -16.227412654546985,
          -18.659970826739325,
          -21.77059918122806,
          -21.197009034368783,
          -19.903270682184683,
          -17.22409325173999,
          -21.681808590818736,
          -20.890677076161335,
          -21.193427607018222,
          -14.749084707595326,
          -20.33159553899561,
          -19.842861578463324,
          -21.75692776880969,
          -14.416785953121789,
          -18.868850378645835,
          -15.152585076654928,
          -21.325337015065983,
          -18.73255318535424,
          -16.8633370066028,
          -21.048526156050805,
          -22.430217898121075,
          -22.860174010216742,
          -16.741643358761603,
          -15.171322156662706,
          -18.60522950472143,
          -18.543120097344577,
          -20.768046872119893,
          -19.219598574626463,
          -19.95826027121757,
          -22.61384923072915,
          -21.13196684929352,
          -21.129848142234017,
          -19.826182498347983,
          -21.368981491695624,
          -18.455770957857247,
          -17.844081255954336,
          -22.11828175878632,
          -21.218426460567624,
          -21.236352172815856,
          -19.764914311361164,
          -20.007035015080383,
          -19.3364369651837,
          -21.11141078117889,
          -19.874060044307274,
          -17.460076462397126,
          -17.412728542262887,
          -21.86084295267034,
          -17.401603862301886,
          -20.698563939792177,
          -20.506175664051682,
          -20.520692144641046,
          -22.278485305030316,
          -20.389307949267987,
          -18.06957244803235,
          -16.347208540874067,
          -17.074140117786982,
          -18.90455108362535,
          -20.37057964180463,
          -21.290953944399842,
          -21.37586629145424,
          -16.74456482624012,
          -19.446963600345548,
          -19.870076706053485,
          -17.231033826404794,
          -21.55014754152817,
          -22.551533713566133,
          -19.27857905090132,
          -19.853541121211897,
          -22.387188678365757,
          -20.652362406747603,
          -20.722383701952456,
          -16.734210621913935,
          -18.588562538569054,
          -18.94380031601204,
          -21.151981730077477,
          -20.873017430242566,
          -17.429588073089196,
          -18.545586065437625,
          -15.994741731063716,
          -20.260530272029385,
          -21.358676506270264,
          -22.24588527451921,
          -19.22838556931582,
          -19.613117562252093,
          -19.63002318390696,
          -20.02858334386774,
          -19.360654988886733,
          -21.096165638552552,
          -19.289634633904974,
          -19.312148417523655,
          -18.35655666791846,
          -21.5071675989488,
          -19.760164772344595,
          -21.470429487492787,
          -20.467082646872477,
          -20.481597211404083,
          -19.7269865253272,
          -20.50986040765885,
          -19.907590492605774,
          -20.660884190790604,
          -22.39447928412845,
          -21.661382378379866,
          -17.340845395897375,
          -21.273008835958645,
          -19.684235018418942,
          -20.46910716689903,
          -20.137976352535798,
          -21.780150901757477,
          -18.877925536018072,
          -21.797080763874256,
          -19.618046015916363,
          -19.224024396093256,
          -20.41011057281399,
          -9.290888362386307,
          -16.75951876773973,
          -15.742828130781307,
          -20.626593709103236,
          -17.80501033478597,
          -22.23472849460431,
          -22.184387021366316,
          -21.059067150905058,
          -19.306826568443398,
          -20.74438717274225,
          -18.618915222252564,
          -18.41249436044673,
          -19.47905057961893,
          -19.413304362076545,
          -17.275828583692395,
          -19.966156003176412,
          -20.095874844538972,
          -21.524158484055874,
          -20.9164457338286,
          -19.32488535792776,
          -21.063551447155064,
          -16.23017177235179,
          -16.003404344884267,
          -19.782990616789203,
          -21.185458382865324,
          -19.82190436837232,
          -19.771041712007282,
          -20.089910650795822,
          -20.222521274073973,
          -20.245228686986213,
          -20.856315961070795,
          -20.400616355796622,
          -21.47509780281503,
          -19.206056562217007,
          -15.617834332075331,
          -19.92842416811709,
          -21.27141666979365,
          -22.08542181656574,
          -21.02609751967129,
          -21.200183156552292,
          -18.884956484882785,
          -16.405581873611123,
          -16.38387099569079,
          -19.883361990471105,
          -19.871900034942907,
          -18.667247149650564,
          -19.87001133113846,
          -16.164330348585707,
          -16.005448054214195,
          -19.961677660888395,
          -21.1332804482856,
          -16.088599288695637,
          -19.321724888523093,
          -16.945433238326146,
          -16.937623665018553,
          -19.31600396028638,
          -19.784281528353937,
          -20.384203986230627,
          -19.41096916771877,
          -16.25095463688231,
          -18.19089686095352,
          -22.049997436853925,
          -22.149054319383264,
          -19.872948037572645,
          -21.56274431201322,
          -19.360651145284034,
          -22.247210939506797,
          -18.8516272227244,
          -21.2505629401762,
          -19.1335158187054,
          -22.248038523732454,
          -21.950323027583693,
          -20.9328623601754,
          -20.095530056421616,
          -18.084549040025585,
          -20.787873841819202,
          -20.902677288193253,
          -21.35522180910734,
          -18.462898618489323,
          -16.534602275326026,
          -19.22842042560834,
          -20.100346281135103,
          -20.316764401850133,
          -20.071522369183732,
          -18.29686427547553,
          -21.459831186137794,
          -21.584694919516924,
          -20.625968688745598,
          -21.227570896101504,
          -19.540845400652575,
          -19.870437642670908,
          -18.59101354127925,
          -15.967607197545203,
          -20.469962667733963,
          -20.784948450006574,
          -19.161633524255002,
          -20.074379775574123,
          -18.325070936120266,
          -19.98491644809108,
          -19.80511275589166,
          -18.41947377280205,
          -18.003783893118683,
          -21.812595997261347,
          -19.317869160982113,
          -20.554439145673697,
          -21.933973025922253,
          -15.933809901772333,
          -18.83912726781643,
          -14.881678492911123,
          -21.134252707625603,
          -20.392417454010374,
          -19.344356841516987,
          -15.31592844014999,
          -18.546168147952585,
          -21.58787671495961,
          -20.053365700179633,
          -20.7155295833812,
          -19.707822627527648,
          -18.480148629594563,
          -19.925388311776864,
          -22.118180246849835,
          -22.707410124912013,
          -20.719422355699994,
          -21.126744426611907,
          -20.17109457367032,
          -16.366192832134864,
          -20.24055665252988,
          -18.088879559908012,
          -20.91395197058557,
          -22.218792498885527,
          -21.72237309802643,
          -20.91317647176355,
          -20.780638131243403,
          -22.75024157015651,
          -19.85215603337821,
          -18.781920225896094,
          -20.038320832591328,
          -22.587244561876126,
          -21.804296451189625,
          -20.913864974146126,
          -17.948626059192208,
          -20.795372403796655,
          -21.0303632235979,
          -20.473672496708872,
          -18.36254674549674,
          -15.214249489419505,
          -19.111238303576517,
          -17.78190690626713,
          -21.53164203269479,
          -15.80955459225718,
          -18.598363772688757,
          -19.45692266227589,
          -17.601561993385634,
          -23.543365499999997,
          -21.09488085123598,
          -21.96345207172735,
          -20.110674250821898,
          -19.229637667755448,
          -22.056337273273794,
          -20.923194199099704,
          -21.10642220673396,
          -18.714277600364483,
          -21.360075006082585,
          -15.812215251340339,
          -19.76348777029724,
          -19.662558537727836,
          -19.285073278116073,
          -20.653805126045775,
          -17.86605698610435,
          -17.85441483001937,
          -19.55383879466229,
          -21.10980791604441,
          -18.985909056795904,
          -21.1726252218232,
          -22.3697541179653,
          -20.909663465390214,
          -21.69322041636581,
          -21.3705596396296,
          -18.208163703175405,
          -19.00484554584605,
          -18.597147554238756,
          -19.89323733483254,
          -17.299749885046513,
          -21.87562673494912,
          -21.115047074811592,
          -16.289824395963613,
          -19.634172866387665,
          -19.752824783115035,
          -18.924819084521808,
          -18.90625797837352,
          -21.109712694082585,
          -17.261703202767414,
          -16.36381396260518,
          -19.521034013516033,
          -16.059718645669523,
          -20.352192156094755,
          -16.058740765949942,
          -19.605031024290255,
          -15.398262506297819,
          -21.561327093604785,
          -18.383282313003246,
          -17.59807078708512,
          -15.703376381652864,
          -17.987237146966546,
          -19.668568092020713,
          -19.955069241247276,
          -20.036726729362115,
          -19.731097253636868,
          -20.751919937681883,
          -20.864866568178655,
          -18.18035004901784,
          -16.79875682204193,
          -22.332030611976098,
          -18.813867941106725,
          -18.474654197875093,
          -21.010359270172877,
          -19.638548379227394,
          -21.77253289303408,
          -17.082201270979507,
          -20.441149398605198,
          -18.325810509057312,
          -23.091896511618213,
          -20.492942856955928,
          -22.183762002558534,
          -22.155563376147217,
          -20.981461451885522,
          -20.080651275371537,
          -20.467619302049197,
          -19.909944722599914,
          -21.7156472573933,
          -22.296779477943833,
          -22.10100954188988,
          -20.55050575634081,
          -21.126740609138764,
          -21.26624262335363,
          -22.63266113161192,
          -19.534726911066016,
          -20.470062576972285,
          -21.989173413934324,
          -19.10865503041217,
          -18.798215592177247,
          -19.816403912349053,
          -23.271444714392516,
          -19.013195938268176,
          -19.006616197216506,
          -18.540974232449358,
          -18.50726515886232,
          -22.251682541511787,
          -20.684669625806336,
          -22.22762189263844,
          -23.783778881693415,
          -22.378064313728373,
          -22.41768630779438,
          -21.465810035141246,
          -19.74093790490921,
          -22.0757729596108,
          -23.47461326906396,
          -22.305823833391933,
          -20.100770545040934,
          -21.48088262281061,
          -22.85947088281792,
          -19.00927433638438,
          -21.622807014494487,
          -20.238080566923223,
          -23.93812183536004,
          -23.06107639693415,
          -21.45877491165093,
          -22.247795402944273,
          -19.029384395433585,
          -19.67394902539021,
          -23.892317950135578,
          -18.10000654047169,
          -22.53330000847366,
          -22.532996543907494,
          -21.686269276680253,
          -21.65447886454879,
          -20.45545958584479,
          -21.79842220216582,
          -19.43299954589704,
          -22.620252432503314,
          -19.384053013667476,
          -20.935281510237846,
          -17.583081258667853,
          -23.63513947116163,
          -20.440202905332107,
          -20.78591940998321,
          -20.794196614634053,
          -22.40970208156436,
          -9.90209628377088,
          -17.31726008132973,
          -11.679428518842508,
          -16.946129151708696,
          -17.831339487997212,
          -9.556751115440266,
          -15.46944533964881,
          -14.460089676675953,
          -10.185039835290205,
          -15.069536524574868,
          -15.878862656849224,
          -12.24335622327465,
          -16.06438232943728,
          -14.443594117719892,
          -13.72672691576459,
          -15.55075630136651,
          -13.723170179440894,
          -13.542298711925335,
          -9.966516824949288,
          -11.137907474880812,
          -15.419296978383095,
          -11.504137772643933,
          -14.39272352478302,
          -9.447975813043975,
          -10.804773825870669,
          -13.658483691777999,
          -10.63429415830214,
          -14.551121886390101,
          -9.895299564591497,
          -15.598283107343114,
          -15.597682408272872,
          -15.612737718346427,
          -14.728321754761755,
          -14.377597702807694,
          -15.809248226897083,
          -12.375897314455678,
          -15.45059207987621,
          -13.18276206702451,
          -9.948276680421024,
          -12.209356507067444,
          -12.230122745140665,
          -11.008064132928315,
          -17.20584411495066,
          -15.95127425196516,
          -15.339703372981825,
          -11.238039550036406,
          -11.422656268105673,
          -10.329327529090403,
          -16.053197790277082,
          -13.066932709409706,
          -10.144574145793701,
          -15.67549165472028,
          -14.712726951281516,
          -14.45246234638014,
          -9.850183497966546,
          -10.616297326127215,
          -10.310601820328687,
          -14.474447766348016,
          -9.979483347743496,
          -13.81190941318278,
          -14.779770956593296,
          -13.016623505122645,
          -14.66646434914308,
          -9.97568264413675,
          -14.912518702749331,
          -9.696548460783545,
          -14.379562568914999,
          -16.635911309973924,
          -10.24891506350181,
          -15.235746482425006,
          -10.872716557873717,
          -11.55865378828585,
          -15.837942412592737,
          -15.330308584541646,
          -15.828608569281172,
          -15.542518572911545,
          -12.569805405342088,
          -15.120726622753033,
          -12.918450883311415,
          -16.48808199266851,
          -15.240463949187793,
          -16.462886356870474,
          -16.44577478350991,
          -15.128912233483794,
          -15.903546339002347,
          -14.80017307791715,
          -11.609239495740091,
          -10.797265494155289,
          -13.543400052390023,
          -11.858358280599054,
          -12.572133957590658,
          -13.513293550631632,
          -15.626527311282217,
          -11.299600093479508,
          -14.615108078258483,
          -12.730236325949065,
          -10.586222381299807,
          -11.531251108353345,
          -15.456640574477365,
          -12.288099376976312,
          -15.050127840400785,
          -10.013326929561156,
          -15.651634192726933,
          -14.062202729797056,
          -1.7230241817101852,
          -3.2066377414917944,
          -1.3664682374065154,
          -1.0290114158609165,
          -2.1350551769507287,
          -1.5102279770314466,
          -1.4174511864797983,
          -1.434577211791421,
          -1.3504592633478254,
          -5.046901966109477,
          -1.3638164086206872,
          -1.0591690163111305,
          -3.3029288946406257,
          -3.7749690156536695,
          -1.6827641076623434,
          -2.2506345490931,
          -6.525210475145853,
          -1.1953684358003154,
          -1.7539664397020396,
          -12.521263887473877,
          -1.2920186637442295,
          -8.258828967969176,
          -1.9960058047852822,
          -1.813813529228985,
          -0.7338251857113621,
          -4.289137525194669,
          -7.5595401444756405,
          -1.9343796360836623,
          -3.858681285940547,
          -3.765915836004837,
          -1.1279582637701353,
          -1.9798988374210003,
          -2.68947644474244,
          -4.265027626664118,
          -5.135283145567654,
          -6.222311870391277,
          -4.450475687361891,
          -2.159039051529266,
          -2.0460236412841692,
          -5.366488733057203,
          -5.355627461383321,
          -1.3669818638394693,
          -3.4509323381238595,
          -2.5816048419757904,
          -1.8897855716183642,
          -2.6832381040406053,
          -1.9969953841766244,
          -1.5650067328210797,
          -2.25722575385321,
          -4.9214714305945515,
          -1.1827933479544828,
          -7.093480792948906,
          -4.258293108188548,
          -2.0050840872794637,
          -1.5484759472986485,
          -6.783329340091706,
          -3.815264666681339,
          -2.9949863158241126,
          -6.074386550627748,
          -7.833845096031688,
          -6.4496616307787376,
          -3.866943073901409,
          22.56795175383837,
          -2.584963132258858,
          -8.035614751425118,
          -7.313044233417596,
          -4.772530697506351,
          -1.231835637406864,
          -1.301336220700896,
          -1.3486174758415077,
          -9.33526281720112,
          -2.4399333810779944,
          -2.428568126314765,
          -1.1451505343640027,
          -5.545977538844235,
          -6.693010896081553,
          -0.7789257010329751,
          -1.68131502084473,
          -2.615753501785348,
          -1.6121134438487106,
          -2.940026352505239,
          -2.402479051609744,
          -1.077780067763653,
          -6.753170427393504,
          -3.7847002001330345,
          -3.779341420956579,
          -3.749900885014324,
          -3.7202778344734795,
          -0.8627413903500442,
          7.271649375032848,
          -1.2021836317837071,
          -7.0870930775595875,
          -7.041755696576409,
          -7.06196902730586,
          -6.949275120162892,
          -7.433968779567003,
          -6.8277176355033395,
          -6.534118134203998,
          -6.96672904710812,
          -7.048617955582523,
          -7.546247807895233,
          -7.077091335231696,
          -6.748088778361755,
          -6.722975852710321,
          -7.130429616156728,
          -6.698070710608819,
          -7.313342946555163,
          -6.347542647198111,
          -6.376879978247281,
          -7.019370272197665,
          -6.887745156328404,
          -7.161965454299922,
          -7.175882589726607,
          -6.354803150332728,
          -7.557047449051584,
          -7.01825757043902,
          -6.863480404602719,
          -6.484892406850372,
          -6.718979212776461,
          -7.289328572200058,
          -7.018672399492173,
          -7.358715893295886,
          -6.402787305631923,
          -6.85209256062919,
          -7.503534731556231,
          -7.387134648529148,
          -7.290068210889992,
          -7.305695022980931,
          -6.61327368258457,
          -6.553129279184607,
          -7.131450657286114,
          -7.151518710918216,
          -6.994437727527543,
          -7.373340132679288,
          -7.5370001945181935,
          -6.5904930396973835,
          -7.378040273869977,
          -6.932743709596139,
          -7.244857649640924,
          -6.837168594957803,
          -7.724392467414579,
          -7.058829894333504,
          -7.08689252783847,
          -6.455501841703926,
          -7.0284205888518185,
          -6.5983787544880474,
          -7.428534985166792,
          -6.7576486810483125,
          -7.40198929384412,
          -7.198683515770482,
          -6.506546016675193,
          -7.262389717269751,
          -6.779830500449045,
          -7.490764881771025,
          -7.07871104426015,
          -6.7675469145337415,
          -7.695257989962354,
          -7.736299776026694,
          -7.147147254820864,
          -7.361945970086667,
          -6.9651128840185805,
          -7.696598290303212,
          -6.80338209469453,
          -7.7441464600968,
          -6.8722119828591275,
          -7.14033273212507,
          -7.221183860031728,
          -6.891252231974976,
          -6.491794555348289,
          -6.6181673112694925,
          -7.40166930885011,
          -7.092610293602238,
          -7.494554491157478,
          -6.759474884371158,
          -7.058849598067856,
          -6.7640378841852185,
          -7.670534219460012,
          -6.927411061854054,
          -7.223482249942097,
          -6.579596769611026,
          -6.518964635954034,
          -6.770782617665108,
          -7.515394976776802,
          -7.911567810572414,
          -7.759829833939791,
          -8.527649408089497,
          -8.45504693653698,
          -8.7061366938173,
          -9.108812539014634,
          -7.595135239949158,
          -8.488189811112091,
          -8.376909914843816,
          -7.788981425274833,
          -7.577678685814366,
          -8.418945170759907,
          -8.420432402918046,
          -8.814489427567528,
          -8.734363100978964,
          -8.46834442198707,
          -8.236645735574934,
          -7.778681519270723,
          -9.176329291731035,
          -7.274177540217186,
          -8.47190791671445,
          -8.11975896574784,
          -7.7244413749003495,
          -8.62060978721165,
          -8.275847995922858,
          -8.506721376676866,
          -8.774425478355141,
          -8.74221182227642,
          -8.009755163207394,
          -8.35995575158674,
          -7.408333948577803,
          -8.878666516371505,
          -8.73865456084915,
          -7.805111757090515,
          -7.845769238796547,
          -8.280838827967246,
          -8.66542534670664,
          -7.997070277791265,
          -8.240181645927851,
          -7.587710043104442,
          -9.130222956872599,
          -8.473513304864595,
          -8.010752115238366,
          -8.610039861901058,
          -8.089040071950775,
          -8.44617819121274,
          -8.366340905422762,
          -7.949392726165966,
          -7.448871730182632,
          -7.891366668750168,
          -8.597804297170457,
          -8.584196684643691,
          -8.888521526196081,
          -8.000526578283457,
          -7.562444861993702,
          -8.205164995177244,
          -8.197693541364536,
          -9.055876450755328,
          -8.541240664805636,
          -7.848283252859435,
          -7.757660338211557,
          -8.902054497556339,
          -8.441865196198224,
          -7.6474488035825425,
          -7.409554108222992,
          -7.378575294274628,
          -7.775111004572887,
          -7.666740539884647,
          -8.156998704795782,
          -8.144924214641287,
          -8.72916939069182,
          -7.987393662317679,
          -9.179905003939286,
          -7.858126434572005,
          -8.62415102224325,
          -8.711963126912739,
          -9.810190286217354,
          -7.8427401417238904,
          -9.125033717775127,
          -8.657245477403077,
          -9.000529077860106,
          -8.661327866132831,
          -7.8777112262366735,
          -7.553526582008524,
          -7.68635723406433,
          -8.12563596318617,
          -7.61803954616468,
          -8.117514384880712,
          -7.743509777420115,
          -8.36072323908884,
          -7.990892083321367,
          -7.749149101441677,
          -8.617094295363048,
          -7.887590132628159,
          -8.68031200519373,
          -8.666594276232464,
          -8.091550631758572,
          -7.98068080703048,
          -7.8943420623158795,
          -7.931923332078027,
          -8.51517030806794,
          -8.36168493950807,
          -8.977994568290818,
          -9.384439018067077,
          -8.185397109329609,
          -8.140531792080113,
          -8.827202845127042,
          -7.718336395521887,
          -8.068123379304994,
          -8.119032745627358,
          -8.514986468149445,
          -8.66225420822748,
          -8.070960881795754,
          -8.975025060811662,
          -8.362510890192013,
          -8.23978100561085,
          -7.9494377848089295,
          -8.188723793065892,
          -8.792604800627378,
          -7.376063882701238,
          -8.806332139929227,
          -8.522807356177072,
          -18.240045143725364,
          -8.875087087655608,
          -8.434448652367916,
          -8.894515567314306,
          -7.865781662087839,
          -7.58660639733172,
          -8.001516394782307,
          -7.594753577949214,
          -7.988210284936521,
          -7.945676919846612,
          -8.076095735202673,
          -8.59544613525137,
          -7.841478546195655,
          -7.992376813165337,
          -7.590727896323007,
          -9.104113252980355,
          -8.753783812248033,
          -7.910858713164717,
          -9.056296752793855,
          -8.228592955312184,
          -7.511929938098343,
          -8.005955191855476,
          -7.802056206299442,
          -7.760725407909577,
          -7.836609084788397,
          -7.605668098999785,
          -8.577258452434604,
          -7.9063776539818935,
          -7.6574956697524215,
          -8.11598411342617,
          -8.121635838195152,
          -8.806613598022468,
          -5.892094582220355,
          -7.241636248140669,
          -5.037933605097157,
          -8.45259799999995,
          -6.242804734400218,
          -6.079023820168208,
          -10.141657474791316,
          -7.9084243651879484,
          -4.243269940730288,
          -7.639713116099053,
          -6.9457647483091405,
          -9.074950129235898,
          -3.1774929264642595,
          -7.33222919962967,
          -8.377891550634898,
          -7.147809345645576,
          -4.830288661012602,
          -8.110065701117279,
          -5.319299883533075,
          -3.42026003871809,
          -3.4703792660724604,
          -7.903116545431383,
          -10.423992727693284,
          -5.358004775824459,
          -8.098802867760481,
          -3.892214362211174,
          -6.772657759164274,
          -6.99478880729175,
          -7.086001621601333,
          -9.831010545327752,
          -6.795479563943147,
          -2.852174529633772,
          -6.666772166285078,
          -7.738536137932019,
          -7.600380663829013,
          -3.505859167072549,
          -4.755900812795437,
          -4.392026961078054,
          -5.409658556365997,
          -5.83736152435818,
          -2.88559212354207,
          -3.461297918880696,
          -7.120923086505935,
          -3.7160767249664968,
          -8.074450129153925,
          -6.45634291116789,
          -7.015859272902651,
          -2.9145154077033473,
          -2.9166442692182715,
          -8.135320340886297,
          -4.429295476576521,
          -7.082489784751519,
          -6.235368577666913,
          -6.834909907295532,
          -3.9289602259519874,
          -4.276353324093241,
          -9.4865746477432,
          -6.228167487451328,
          -7.775791129733579,
          -7.181333838873075,
          -8.230289599585232,
          -3.811342009204952,
          -6.863954787217288,
          -9.169084034367527,
          -5.503124691594767,
          -9.014476907770096,
          -7.570047212577284,
          -7.85992109336715,
          -5.082661896995924,
          -4.586113179491656,
          -7.237545620600256,
          -6.403095909924984,
          -6.547697538758055,
          -23.30452269862072,
          -22.694008556222283,
          -24.666145933248302,
          -25.5534229350904,
          -25.333129745030142,
          -24.799390826555005,
          -22.89738838719939,
          -23.506786676066692,
          -23.130349004567282,
          -24.032267622640834,
          -23.872113354531503,
          -23.094997161855197,
          -25.91985831671865,
          -23.04826806621512,
          -23.193778863496295,
          -25.43470443919635,
          -23.55524538152002,
          -23.40888332472146,
          -24.142597510300845,
          -23.929495728966735,
          -25.58136622156955,
          -10.47824576489704,
          -23.375451280881514,
          -24.402021416487024,
          -23.236673429298893,
          -25.57349560568768,
          -23.111896862925292,
          -24.027435144481696,
          -23.112718429096926,
          -26.253823547714124,
          -22.99362341917972,
          -26.159429770563207,
          -24.2430491897492,
          -25.63581904690653,
          -25.437885479760887,
          -25.21080605480616,
          -26.194806599274045,
          -23.709291485041188,
          -23.940317748786466,
          -22.790333812014378,
          -24.622059600596177,
          -23.665523235370998,
          -23.041547067984553,
          -23.28578748927598,
          -23.60488886544814,
          -23.300239620090966,
          -24.59241160657905,
          -25.342398065900387,
          -25.03348379417203,
          -25.98558970418453,
          -25.45952017783654,
          -25.375606922660335,
          -24.03653918179025,
          -24.04942753807217,
          -24.575841758798763,
          -25.560542872996994,
          -25.37598783146171,
          -25.668572737132873,
          -25.486282685599935,
          -23.542811279858867,
          -24.947470174914745,
          -23.427714647791582,
          -24.95595615069685,
          -24.794469907209375,
          -22.82140872173288,
          -24.828137537248153,
          -25.147087829716437,
          -25.854746637852458,
          -23.661703591075035,
          -23.382615855671663,
          -26.407480196966088,
          -25.351426853426876,
          -23.702852723394397,
          -22.837653869064955,
          -23.553522043896585,
          -23.623575885991006,
          -25.679134708289812,
          -24.79557436269287,
          -23.181161077296654,
          -26.22369095050902,
          -25.984865711694923,
          -24.101029121105753,
          -26.016487433661432,
          -25.600927226899742,
          -23.802145643807762,
          -25.45314573672775,
          -24.038144994253823,
          -24.942648190021544,
          -22.65891497732938,
          -25.748854265422125,
          -23.38303233769734,
          -23.554679682240632,
          -24.57013737226684,
          -25.945284246218932,
          -23.7986992352732,
          -24.702966464945906,
          -25.42405400767098,
          -24.095231428626477,
          -23.99871143453599,
          -25.655911775273868,
          -23.91581721419887,
          -23.850046221901376,
          -26.255804307987933,
          -23.318809614427238,
          -23.614374068425708,
          -22.86657256320263,
          -23.088223660237787,
          -24.296024477069246,
          -25.52967023016546,
          -25.481321343630313,
          -25.736009395185206,
          -26.070961876714943,
          -26.421195638867772,
          -24.194417006485597,
          -24.185936255296784,
          -24.15085116275822,
          -24.08674452889675,
          -22.938666076014126,
          -25.190694754814267,
          -23.51568493781539,
          -22.969028373257917,
          -25.100336231545356,
          -25.39015019812817,
          -25.29716208409316,
          -25.887866961664873,
          -23.84097490641716,
          -25.11697346722494,
          -23.269435103279353,
          -23.39316294263535,
          -23.2009320730757,
          -24.713108555774742,
          42.18400274298598,
          -24.448271673804697,
          -25.229677010502076,
          -25.57805435780927,
          -22.751208440069732,
          -23.47947833132236,
          -25.022628757610597,
          -24.004540233236433,
          -25.474093335032038,
          -24.40993758440824,
          -22.617406657292012,
          -25.147980629391814,
          -23.01751924067968,
          -23.658660754264183,
          -25.96607749114488,
          -25.213256266447722,
          -24.246396881737038,
          -23.407196286179886,
          -25.007481907240674,
          -23.7434134364928,
          -23.15836742843691,
          -23.11344954140404,
          -24.257703279680833,
          -23.60223508623895,
          -24.137654185687932,
          -23.8119965425153,
          -23.471936210301262,
          -24.18024862842608,
          -22.55257661345575,
          -23.25723466803322,
          -24.384143220079455,
          -23.500212595792938,
          -23.43804960863323,
          -24.419267773158033,
          -23.622748095003274,
          -23.82866130235269,
          -25.76430781439902,
          -24.89180012781679,
          -25.404934780834598,
          -23.079269903595492,
          -25.267636611456673,
          -22.929383785209307,
          -23.00997795869719,
          -23.314415889539116,
          -24.284288514974495,
          -24.07832279883549,
          -22.75487328866302,
          -25.883903118459568,
          -24.314251507368123,
          -23.34495591219923,
          -23.522116589381856,
          -25.770383610713115,
          -26.14422230537972,
          -25.940474358861895,
          -24.51763874503543,
          -24.554525017898506,
          -23.48392434035238,
          -25.50943247821568,
          -23.748005928972272,
          -22.73724580824453,
          -24.009964476201365,
          -23.41651909835835,
          -23.43245273797492,
          -24.42291996257754,
          -26.354778741435545,
          -26.14973579423784,
          -25.197781812101827,
          -25.813132721140203,
          -24.702111221053855,
          -23.89965920315964,
          -25.29320167334103,
          -24.452002184845046,
          -25.09228097759096,
          -24.051547975700355,
          -25.482183572886715,
          -23.148268304523533,
          -22.914073517756407,
          -23.33126668325342,
          -24.527179594929716,
          -24.67235812364705,
          -23.18538719138743,
          -25.899983729717466,
          -23.433905336392048,
          -25.305346043348553,
          -22.763496600457717,
          -25.635752110869912,
          -23.588055104023535,
          -24.462380148280616,
          -23.765090555947094,
          -24.205572115297535,
          -23.40463243548767,
          -24.773798104953304,
          -23.45682094005969,
          -26.485010427834762,
          -25.42373221861194,
          -24.88563458678617,
          -24.28579720485287,
          -23.283475744802093,
          -22.93104424363278,
          -25.529359053807397,
          -25.567266599388308,
          -22.656836069117308,
          -23.080340450539083,
          -23.086456324962484,
          -24.625809140863744,
          -26.229265318331908,
          -26.205468507303863,
          -26.047812754242287,
          -23.91624467444983,
          -23.89484680955963,
          -23.803095878753485,
          -25.827583060430136,
          -26.097239791026904,
          -25.430260607564257,
          -23.78967571984096,
          -25.696207537162962,
          -24.53385608366247,
          -25.449537574691174,
          -24.75784641485761,
          -23.022127106102264,
          -25.72122317623509,
          -25.093201294628823,
          -25.640064483362185,
          -22.752396036051785,
          -25.548289202306858,
          -22.775071075607276,
          -26.018156944432977,
          -22.85364693155448,
          -25.215139810499565,
          -23.567443775857694,
          -25.37140360277309,
          -24.57158708173242,
          -25.45540767476729,
          -23.08484822172952,
          -23.850051837280752,
          -25.87255545133925,
          -23.071765486986397,
          -24.30523188051001,
          -25.76961904751624,
          -25.623229798531646,
          -26.157884258484824,
          -24.652635118291556,
          -25.81880915642345,
          -23.196538915281,
          -23.40951041754561,
          -25.72663590916727,
          -25.499282631757886,
          -25.180768393805685,
          -26.095452253608567,
          -24.474612953774336,
          -23.315062766592554,
          -23.31814778205777,
          -24.59386743208296,
          -23.41747190845969,
          -24.25491202256432,
          -23.321110220245096,
          -26.174248880846978,
          -23.605268403449074,
          -25.78387783269524,
          -23.26758773800529,
          -23.518440085658284,
          -22.95814977271702,
          -23.039628461153626,
          -24.86740625895645,
          -23.005187430644458,
          -25.81371424107947,
          -25.405714654907555,
          -23.147377768567665,
          -23.137676538673556,
          -25.053435715396272,
          -25.442862117746696,
          -23.75543197589036,
          -23.295140000273477,
          -22.73909644362374,
          -26.03664521133411,
          -22.69356461962243,
          -23.316737345865434,
          -23.993105206444497,
          -25.685121229247173,
          -25.705029613115034,
          -23.434254875144813,
          -23.763888461827847,
          -25.52933440842274,
          -25.353606599246387,
          -24.91407193493534,
          -23.892705499636172,
          -23.465016816917828,
          -23.535477037314056,
          -23.910420662200718,
          -23.442024635170934,
          -25.69432331065044,
          -24.82693999999998,
          -24.113671239664153,
          -23.619535425600905,
          -25.414255032786436,
          -23.059061150910853,
          -23.682446503474555,
          -25.699912147716937,
          -23.928615454824847,
          -25.54055891482209,
          -25.826484009808258,
          -25.869884382311,
          -23.724770743785037,
          -23.19956290910682,
          -23.734126846454718,
          -25.371975656252413,
          -24.32943702746136,
          -24.326130719639064,
          -23.77185835065084,
          -22.72482408621595,
          -24.168029447213705,
          -24.515312452238586,
          -24.728849877646496,
          -23.777624284233013,
          -24.972411402943333,
          -24.599052935525002,
          -25.037353612646363,
          -24.542415289355326,
          -23.76369629845646,
          -26.229776246788475,
          -26.230607263452274,
          -23.202538129488083,
          -24.228020510121077,
          -25.06133234279125,
          -25.878242728454026,
          -24.576397290342136,
          -25.320470701691978,
          -26.266191153756715,
          -23.876226772516343,
          -23.733224676530188,
          -23.50180568783496,
          -22.99495173147964,
          -22.18444537327552,
          -21.62582998898821,
          -22.86965694518422,
          -22.243707999292415,
          -22.766572484803717,
          -22.96356603137059,
          -22.594589669312334,
          -22.328393555627752,
          -22.893316085785226,
          -22.344358414159082,
          -22.575959641973594,
          -22.475857280824933,
          -22.19812237482905,
          -22.541153347532763,
          -22.73723765866893,
          -22.751923494229857,
          -21.207949118544864,
          -22.15968821079869,
          -21.134261478552066,
          -22.854824166700368,
          -22.470849051492323,
          -21.51765512409707,
          -21.714719999999943,
          -21.574416861817856,
          -21.76166917716252,
          -21.974364253989346,
          -22.19068358078699,
          -21.492932392812843,
          -21.932343210229536,
          -22.486125097013733,
          -22.03394176340095,
          -22.088070810882773,
          -22.546568160435157,
          -22.28640235708559,
          -22.027256822202872,
          -22.05306144446236,
          -22.71473796323484,
          -22.056619499199538,
          -22.537265002139407,
          -22.23692886617169,
          -21.96780564645769,
          -22.476992225389477,
          -22.54609328957066,
          -22.839226507396567,
          -22.37702555839219,
          -22.752418963886146,
          -22.752960860630623,
          -22.875964115125615,
          -22.869057654239548,
          -22.87752133989394,
          -21.423866388317172,
          -21.324830908640987,
          -21.20342798651726,
          -22.47929703113676,
          -22.20967741639542,
          -22.667961804174872,
          -22.562825250146346,
          -21.2108929815207,
          -22.829787268544855,
          -22.38092741884204,
          -22.374852105840308,
          -21.98476686864408,
          -22.650759202815063,
          -22.61089213806338,
          -22.947798006321072,
          -22.93012256547856,
          -22.915169098719872,
          -22.526046307478865,
          -22.78350564873647,
          -22.455516587510118,
          -21.41145054043178,
          -21.044518401659875,
          -22.810959575812085,
          -22.80234437159968,
          -22.895758043551997,
          -22.89019352173219,
          -22.2798798190238,
          -22.74371628042343,
          -22.738107467216373,
          -22.602306948260036,
          -22.61483382699214,
          -22.16428987434635,
          -23.212886071407144,
          -22.69580382907742,
          -22.420957055962976,
          -22.43448727902013,
          -22.484501767783026,
          -22.453537932568928,
          -22.402149492107974,
          -22.51199207678125,
          -22.625000967990932,
          -20.966705988175868,
          -22.427801854013033,
          -21.58966622636175,
          -20.930128687294484,
          -22.41120707106409,
          -22.71467796764372,
          -22.10915697043683,
          -12.602148394234604,
          -22.470728000495303,
          -22.711927870432564,
          -22.730729475261874,
          -22.167450983183613,
          -22.514026323926547,
          -22.914912500719826,
          -22.48439489419429,
          -22.859910499727818,
          -22.228423218563268,
          -11.314698067779764,
          -21.959392521262536,
          -15.632864242164501,
          -22.525616484184155,
          -18.12605887357611,
          -21.552859881634557,
          -21.646291351876275,
          -21.5419754708278,
          -22.82738328272524,
          -21.670060626559785,
          -22.784452445569862,
          -21.360193619062326,
          -22.204999999999927,
          -22.173973537015836,
          -22.82073826327908,
          -20.757345182143844,
          -21.95150304851164,
          -21.991298401698998,
          -22.9110480515675,
          -22.768424933565182,
          -22.746274001626645,
          -22.643049932211905,
          -22.055331228832138,
          -22.83309074685317,
          -22.796894240900844,
          -22.28155598332901,
          -22.73521870942802,
          -22.419234195098664,
          -22.407395527061738,
          -22.903460323145516,
          -22.065707657624642,
          -21.625645496895352,
          -22.11066977949884,
          -22.117255910009234,
          -22.345766968364543,
          -22.245413435244604,
          -20.928432538186993,
          -22.40767287308994,
          -22.921319784263673,
          -22.33080055859467,
          -22.50866919780627,
          -22.217047735465396,
          -6.436124915575116,
          -5.578677546417205,
          -6.205206243591784,
          -6.413355657069214,
          -6.155247530745038,
          -5.294882466955311,
          -5.66603171630403,
          -6.2142660577689,
          -5.6608569705782,
          -4.956031992866762,
          -5.080090580762593,
          -5.988987926410246,
          -5.063372966196423,
          -6.4641497837997495,
          -5.789537103693543,
          -6.556878225755052,
          -5.337733879077279,
          -5.637682235371914,
          -6.265689093152236,
          -6.259324714082862,
          -5.6962590285086545,
          -5.582167743425332,
          -6.1248317743116285,
          -6.088209887664519,
          -6.160260776209854,
          -5.098020278737214,
          -6.268847246693896,
          -5.450871034590359,
          -5.114496526784273,
          -5.823806150301517,
          -6.815904085880835,
          -5.840833708021792,
          -5.356608970361842,
          -6.0178115229838305,
          -6.466574062489451,
          -6.379302647549049,
          -6.587777586515777,
          -5.539423577720683,
          -6.318504058090043,
          -6.038655949071193,
          -6.390625125871321,
          -6.000320081801697,
          -6.095123665223916,
          -6.122106000000002,
          -5.114363937006375,
          -5.856764960499751,
          -6.290720653421996,
          -6.089642364788444,
          -6.079137345909716,
          -6.4885010935799885,
          -6.070730665880155,
          -5.188764240471723,
          -5.19604675210314,
          -5.812242777634381,
          -6.4801497212964305,
          -6.689736437594984,
          -5.900784348278868,
          -6.10372927485607,
          -6.11306189477227,
          -6.43572967465714,
          -5.259305875315556,
          -6.025217180076264,
          -5.93630049149536,
          -5.7891534098677715,
          -6.227792244781999,
          -5.84076151578525,
          -6.772283080600958,
          -6.312023779444396,
          -6.377383776920043,
          -5.781251343842251,
          -6.716532481550868,
          -6.0692828801030085,
          -6.319450820178444,
          -6.44890279153824,
          -6.211259206195411,
          -5.133104230167722,
          -5.896610226629294,
          -5.803201126604432,
          -5.974232459053326,
          -6.417963758748006,
          -5.787331662729001,
          -6.10752907461681,
          -5.771834585690067,
          -6.218327645016981,
          -6.464288727567204,
          -6.199487414907413,
          -5.642927647264124,
          -6.049652331788173,
          -5.992472687151516,
          -6.316724967748591,
          -11.944583970748216,
          -9.718738593907439,
          -11.349470744463781,
          -9.910527745214482,
          -10.207044126109722,
          -13.486852444177552,
          -10.33854518042262,
          -11.432191449055304,
          -8.822748971584446,
          -11.428080744522138,
          -13.19266482518763,
          -13.12224107650638,
          -12.350703254975741,
          -9.361950110987792,
          -11.52662041605006,
          -10.777060832690173,
          -10.436959998460997,
          -10.883748249632571,
          -10.87874912180055,
          -9.420985153171674,
          -11.189419682393686,
          -11.029251140290844,
          -9.295284884215345,
          -11.72587550968041,
          -10.401331772538782,
          -10.715751177252601,
          -11.687572920711828,
          -8.790724797238356,
          -11.17045722924229,
          -11.722454098877984,
          -12.064562211825294,
          -11.695517911441868,
          -11.778978995181951,
          -11.129970874569798,
          -12.73407594777417,
          2.825210967747904,
          3.3621150581128316,
          -31.764360480159297,
          -28.183372036296035,
          -28.00030351378292,
          -29.643273595312962,
          -28.23771966641463,
          -29.78957258497392,
          -27.80837589440083,
          -28.11563383443064,
          -27.25035234287266,
          -28.780864912250042,
          -30.008429725047467,
          -27.365846704987625,
          -28.632841075906104,
          -28.9720990314305,
          -28.856785799862664,
          -29.62040581051365,
          -27.393878979446516,
          -29.394875869959982,
          -29.5409423986955,
          -29.333450448380372,
          -30.089920662146096,
          -32.23566062512626,
          -28.87190543829348,
          -28.51518329915839,
          -31.32327563632079,
          -31.32682744485877,
          -30.243801490942474,
          -29.376412430019997,
          -27.61701405791804,
          -30.397890461023405,
          -30.29829374043067,
          -27.410053168682186,
          -27.677505971326728,
          -29.092217224881846,
          -29.161588722863655,
          -29.17356654144831,
          -27.66147676285342,
          -27.668677415966574,
          -28.57759560610713,
          -29.34647313882286,
          -29.480629177232068,
          -29.60072374263251,
          -29.302432809389433,
          -28.727270770936784,
          -30.11987672785401,
          -29.883498364402605,
          -30.033962971128897,
          -29.92583764692,
          -28.29002552855853,
          -30.85406360352143,
          -29.053500891544406,
          -28.78856158381966,
          -27.986799762328445,
          -27.71786642064481,
          -29.67704500881413,
          -27.677040247147954,
          -28.886237588991257,
          -29.67044597567735,
          -31.50150939820098,
          -29.36052251726866,
          -31.395632570425594,
          -29.92165587909877,
          -29.7331750608532,
          -30.092809899462708,
          -28.94347136908528,
          -29.681261639690145,
          -29.270551732285227,
          -30.143817941020927,
          -31.766412277634785,
          -28.29124464593789,
          -29.298071742278164,
          -28.56573083286525,
          -28.270965774313773,
          -28.252632357679378,
          -29.163658257979236,
          -30.513795368962732,
          -31.851459616119794,
          -27.608345624559224,
          -30.5950876526286,
          -28.146638263140144,
          -28.061001781776675,
          -29.96270532877309,
          -27.95372179010726,
          -27.91880318858005,
          -33.68994828174511,
          -30.181172662096813,
          -28.343766191334545,
          -29.388253629228064,
          -28.521722576479718,
          -28.20732212632177,
          -27.73224275334704,
          -29.18047999999994,
          -28.118553226627522,
          -28.992884100689835,
          -28.126926574906292,
          -27.497914952684063,
          -31.001294698133822,
          -28.64357744788327,
          -29.512296357983153,
          -27.949297688349883,
          -28.38912938983304,
          -28.224737142759942,
          -29.587186092324195,
          -30.70391254628606,
          -30.979123341411878,
          -29.62388934309431,
          -27.5070096083414,
          -30.015733809082768,
          -29.236104755527442,
          -30.544711212440724,
          -28.363965983081393,
          -27.85525362750013,
          -27.639169118303382,
          -27.39264336017934,
          -28.056984961059428,
          -28.730670471052086,
          -27.914101841408094,
          -29.107664561153044,
          -29.85123089043481,
          -29.497658970479993,
          -29.18289731306814,
          -29.53019993208299,
          -28.52758954977506,
          -29.267688717622974,
          -27.42176863536326,
          -29.58577995078552,
          -29.452704570692116,
          -29.035257065411393,
          -28.982392689696933,
          -29.9992301981563,
          -28.79633961671801,
          -27.356191058812172,
          -29.253901645512006,
          -28.185559646953863,
          -27.587028598939828,
          -29.907748233916898,
          -27.88662962008021,
          -28.029701451024163,
          -29.881225047560317,
          -29.38173761566205,
          -27.441895840657565,
          -29.26947082814445,
          -29.933196998665316,
          -29.93068642386581,
          -28.542458167831455,
          -30.121449870629622,
          -28.847955903125886,
          -28.143666211720422,
          -32.024862536109026,
          -29.455769003570744,
          -27.627277989445282,
          -31.401705514245453,
          -29.42229433913953,
          -28.057224427694077,
          -28.371375016977016,
          -28.62920471972509,
          -29.571977530057968,
          -28.38782850412007,
          -28.927862090986636,
          -29.949823496703946,
          -29.345230455593615,
          -28.8019037608538,
          -27.936725922298304,
          -27.195549163878507,
          -29.5968016501597,
          -29.132686047022418,
          -27.38373094718698,
          -29.520498712729548,
          -29.605286893562898,
          -29.03585279015905,
          -27.728956133348813,
          -32.56105729568267,
          -29.4961409122547,
          -28.883974422816035,
          -29.289626980750832,
          -29.231046769171375,
          -28.56831640537261,
          -28.21190081909876,
          -29.22607242963758,
          -29.45567909496981,
          -30.811113686504893,
          -27.60021804678033,
          -29.597265377771162,
          -29.1477104591275,
          -27.567860111684137,
          -29.573581139077255,
          -29.657982816170207,
          -28.445913394643156,
          -27.351152029483522,
          -29.31989803725467,
          -29.56152930010417,
          -29.52488661228705,
          -27.631778380283844,
          -30.13951748189073,
          -27.491427495073015,
          -28.65338084251949,
          -29.16319437700109,
          -31.63880715441437,
          -29.68780422662315,
          -31.59224096153106,
          -29.539460510721494,
          -31.102961069926018,
          -28.329594975628552,
          -28.46111701460003,
          -27.368607339813273,
          -28.67701523953113,
          -28.659589690065662,
          -28.73275657187561,
          -27.992458122241498,
          -29.214818384069204,
          -29.420808676228408,
          -29.588354352147714,
          -29.46857622844848,
          -29.375117732594422,
          -28.78225459518229,
          -29.027600933861294,
          -28.987234388238626,
          -29.86087323102249,
          -27.91177282672538,
          -29.73735462458039,
          -29.690185125405122,
          -27.561450348196107,
          -29.89559160193635,
          -28.976685770130608,
          -27.4340091145216,
          -30.270760902030478,
          -27.89852791719222,
          -27.353301619777028,
          -28.293540609837006,
          -30.194715607982822,
          -28.596703774432147,
          -29.723802873745612,
          -29.63739644121202,
          -29.631686469472015,
          -28.263963126028298,
          -31.73356683118392,
          -31.86679866455726,
          -28.41944855924533,
          -31.75126875864103,
          -29.449166556538646,
          -30.233660772021317,
          -31.578575056364723,
          -29.106822499999964,
          -31.437823478808454,
          -27.33216878232534,
          -28.061294244860377,
          -29.694204375791138,
          -30.049248315917616,
          -27.855939045426794,
          -27.90680205449298,
          -29.157172911769422,
          -29.518286363401156,
          -29.241307490689486,
          -28.759235137089306,
          -29.001382772410064,
          -30.38327593084103,
          -29.34842566587726,
          -29.85199246917771,
          -27.651465879079893,
          -29.812973118499624,
          -27.30519345806183,
          -32.070940240601104,
          -29.979842964719428,
          -29.28655913641843,
          -27.47330447119546,
          -29.64963363646582,
          -27.78222223380718,
          -28.130287791467037,
          -30.254941083139382,
          -29.089435463724918,
          -29.44141212383164,
          -27.950143156090746,
          -30.887786395003857,
          -28.367888099367914,
          -29.467470043267866,
          -29.718987587565096,
          -29.69474002388504,
          -29.494150859331633,
          -27.921370559268944,
          -33.512965721569394,
          -30.87311446455589,
          -30.88472341582988,
          -29.186543626128145,
          -28.299550156174373,
          -29.833102764742073,
          -28.49940487460945,
          -28.507734250458203,
          -28.39874870582446,
          -27.85304797287884,
          -27.82626472010779,
          -27.930038590396002,
          -28.654368454743132,
          -28.539455616164148,
          -29.55098077189185,
          -29.440045725550476,
          -30.336124944996957,
          -29.963285193390462,
          -28.502204381495208,
          -28.12096312877113,
          -31.964754042722465,
          -29.766880912678886,
          -31.36440027763601,
          -28.968928433226377,
          -27.709262466365587,
          -28.021510981557213,
          -28.12459813786746,
          -29.554610604083763,
          -29.587807418100702,
          -30.164971760723827,
          -27.55922301847204,
          -29.37382861712204,
          -29.639257291805553,
          -29.828262044389618,
          -27.939046257504383,
          -27.48204459903416,
          -29.334054626519027,
          -28.630116022225685,
          -28.0257982976049,
          -28.7127705935721,
          -29.384209931797926,
          -27.983860199448262,
          -30.46095323367513,
          -28.12866725720165,
          -29.64531693920428,
          -29.530501568712488,
          -29.41678369308112,
          -28.827449667113736,
          -29.540671670992346,
          -27.84465049601447,
          -27.932156161032005,
          -29.759875183660156,
          -28.405745014830895,
          -28.185019434747986,
          -28.06895869493593,
          -28.627901293386625,
          -30.67407284892654,
          -29.651763839051508,
          -29.79261154979131,
          -27.39956191046567,
          -31.284256536049984,
          -27.37105304978636,
          -29.579703310597797,
          -29.4812253044076,
          -27.39309950021365,
          -29.471457592362487,
          -29.34114246818455,
          -30.005360772726835,
          -29.31163965288243,
          -27.4995642240208,
          -29.45367401984629,
          -29.511355583933103,
          -27.77657590438832,
          -29.535642041896942,
          -27.45450086247899,
          -27.52481394969961,
          -29.930632716179662,
          -27.65811716101717,
          -29.081334764866796,
          -29.485468018400336,
          -27.750496999928444,
          -28.758904580489418,
          -29.047378076761216,
          -29.765154720951514,
          -28.505974693406692,
          -29.607198255806324,
          -29.390307384303618,
          -28.4754788805008,
          -29.61111067145766,
          -29.716184766287313,
          -28.936707913282813,
          -29.06861523100013,
          -30.0763683349751,
          -30.079507873629012,
          -27.16752809399503,
          -28.56183322076022,
          -28.86023888910916,
          -28.11334130629534,
          -30.204742942373727,
          -27.369685778025175,
          -28.352389419884847,
          -29.80369320644545,
          -27.695424021485227,
          -27.608818306014133,
          -26.565375356044346,
          -27.408262067680948,
          -27.268552042340637,
          -26.997866134854164,
          -26.88121528807032,
          -27.70103345965437,
          -27.70013863320932,
          -27.431744031945787,
          -26.53662393358684,
          -27.58206007230407,
          -27.687250757458745,
          -27.904106011201225,
          -27.516649881170018,
          -27.03913714021548,
          -26.407378348238257,
          -28.943993806506032,
          -28.939009074598115,
          -28.259765661012782,
          -26.928511307806666,
          -27.078409010542018,
          -26.95718708184798,
          -27.421321255507692,
          -27.314662192631335,
          -28.987417284967577,
          -26.457623308124248,
          -26.99050103828521,
          -29.16236308526977,
          -26.760771390660455,
          -28.827613789684147,
          -28.081186373860085,
          -26.660970150266756,
          -26.84354627234118,
          -26.78186783336413,
          -27.507270101798706,
          -27.50269808656931,
          -26.899545050254957,
          -26.734159431290017,
          -27.79835761038368,
          -27.15657253033492,
          -27.200822028030466,
          -28.274304945434466,
          -27.100857082718758,
          -26.778905135291758,
          -27.074346228038745,
          -26.602931196443897,
          -27.02671472916707,
          -27.00850031880087,
          -26.172144046688267,
          -26.39536028245974,
          -27.399055235300438,
          -27.265701646122324,
          -26.17842967715644,
          -27.3518641191639,
          -28.443636588435936,
          -27.07029248252711,
          -27.157052787302774,
          -26.780841247544288,
          -27.63320205167086,
          -27.796757499873838,
          -27.589692033684216,
          -27.0961949533651,
          -27.09704508273053,
          -28.59886945254106,
          -27.231909087317668,
          -27.228861382476936,
          -26.906928051000563,
          -26.51197406846876,
          -27.584160958831593,
          -26.431977472068905,
          -28.683824551422386,
          -28.688442024208488,
          -26.891057004363645,
          -27.290948728745207,
          -26.258502080968704,
          -26.98701260775066,
          -26.850256635317304,
          -27.576338944123886,
          -27.574267966497086,
          -28.753138688345132,
          -27.029807812153095,
          -27.176183584357766,
          -26.45540159147402,
          -28.038737678812907,
          -26.034602380283914,
          -26.91708268415727,
          -27.34336738228262,
          -28.184383685539295,
          -28.328525261018964,
          -27.08859875159925,
          -27.475471387782513,
          -26.599020645880792,
          -26.473533296244547,
          -26.38789923557979,
          -27.173580626008164,
          -27.180929526447667,
          -27.090856611213432,
          -27.055901611745327,
          -28.715980124328123,
          -26.90254914135655,
          -28.231882617674767,
          -27.488732698081158,
          -26.89651021522555,
          -27.00190811571919,
          -27.40628125772513,
          -26.987999188007993,
          -27.075329065215705,
          -27.023931839576488,
          -26.2438077869753,
          -27.269215487652453,
          -26.34568104118662,
          -26.909543612644995,
          -26.906705616867296,
          -27.104775732474042,
          -27.17141341711411,
          -26.07645076671277,
          -27.4172065261721,
          -27.172887867527518,
          -28.99908496571671,
          -28.633920987357754,
          -26.486052416598184,
          -26.47406695067837,
          -27.172115507742987,
          -26.296137780383066,
          -26.95440887163616,
          -27.813280061035268,
          -28.47572857600972,
          -26.85762444633593,
          -27.221224290121654,
          -28.38824435989875,
          -26.933799051306796,
          -27.508298192526862,
          -27.048556328531877,
          -27.16868843172061,
          -26.77622549900964,
          -26.855407180080487,
          -26.12585603089477,
          -26.365762018968656,
          -28.85999261061286,
          -26.76740365829759,
          -26.610216926670343,
          -28.834639881806513,
          -27.101575115595427,
          -27.210942777159808,
          -26.460947401412344,
          -28.651461411045457,
          -28.803420626886183,
          -26.875806870860107,
          -25.779146417776126,
          -26.90380516299316,
          -26.94061305970668,
          -27.28299944363184,
          -28.653457526883095,
          -26.45080476069953,
          -28.357506793762706,
          -27.498995619501198,
          -27.333700204666858,
          -27.254960532992147,
          -27.651871265979267,
          -27.819735050845207,
          -26.348449405272163,
          -27.573569045013784,
          -27.071407007773114,
          -26.40493104975987,
          -26.622474945538524,
          -29.315305255958787,
          -26.780719237820662,
          -27.978665492288254,
          -26.79083266065954,
          -27.37274382176564,
          -27.523330283710887,
          -26.847939738284047,
          -27.420999300127587,
          -26.732885867295668,
          -27.164118597254408,
          -26.872459601864854,
          -27.15728166876613,
          -26.247995485947694,
          -27.257781334858,
          -29.19597250638167,
          -27.222405045611026,
          -27.050238879786896,
          -27.279805250975247,
          -26.728353256530664,
          -27.672653628949206,
          -26.895767378942082,
          -26.94596085982091,
          -27.19614273379346,
          -27.21454204086186,
          -26.742551405132584,
          -28.135229936969033,
          -26.25613891864582,
          -27.863294100965383,
          -27.059609588126293,
          -26.88932240353919,
          -26.676332683605008,
          -26.906689238975716,
          -28.659567394203453,
          -26.960282815228826,
          -26.52900554582622,
          -28.037899655840793,
          -29.136415039886842,
          -26.77229470653246,
          -27.687414607255857,
          -26.243480944602062,
          -26.47325807037375,
          -27.895615849893577,
          -27.080772683210398,
          -27.2401232242008,
          -26.559935658120672,
          -27.278849823135882,
          -26.60213988144281,
          -29.209631517032882,
          -28.289186687862205,
          -27.586654716879675,
          -26.454414197309003,
          -27.65910886422889,
          -26.363163265599333,
          -28.166015202653163,
          -26.73341376125163,
          -27.56805873603553,
          -26.925367596689007,
          -26.405445142724908,
          -27.160802125766637,
          -28.600104015630222,
          -29.108465252964574,
          -26.25707142035114,
          -26.24556370537883,
          -27.577896878814723,
          -28.32938171277176,
          -27.118392469189253,
          -27.101525346173663,
          -27.23924890910297,
          -28.83206571646813,
          -26.827603296905576,
          -28.50756362241944,
          -26.998521324070396,
          -27.304425502499523,
          -26.123049389364333,
          -28.480718124475317,
          -28.48282392637817,
          -26.971256657277877,
          -28.927439307783388,
          -26.773887306606184,
          -28.002167074021926,
          -28.523681116023674,
          -26.855482547891192,
          -26.986916454627178,
          -27.00447650803858,
          -26.92213322548382,
          -26.876415100422566,
          -27.03885879445281,
          -26.959436655053853,
          -27.45577776291212,
          -10.284765595865087,
          -10.941346378601748,
          -10.910546001317837,
          -11.147501176858324,
          -10.43007145626256,
          -10.750394350095682,
          -9.673731489227313,
          -10.504290565975927,
          -10.648336110402456,
          -10.25140701608446,
          -11.477031075456559,
          -11.259774886615524,
          -10.685271419019744,
          -10.22917261887537,
          -11.522596449776403,
          -10.687843007885258,
          -11.274805025431899,
          -11.021379321312708,
          -10.591401022142428,
          -10.349228947808689,
          -10.916178696284797,
          -10.665217872914651,
          -10.658574370171172,
          -10.028089695011241,
          -10.32593083501133,
          -10.231930446072239,
          -10.464356642872392,
          -10.078082211566453,
          -10.864589292249612,
          -10.56830774713608,
          -10.738915617987436,
          -9.81875967097764,
          -10.715133690394454,
          -10.214470777179054,
          -10.731420744931947,
          -10.538054348005303,
          -10.787406982793302,
          -10.95947856556054,
          -10.349199337792495,
          -10.386074758058108,
          -10.740552873132728,
          -10.206161545362404,
          -11.184611010697319,
          -11.374591455564959,
          -11.381418773934897,
          -21.684238907966446,
          -21.234456456293216,
          -23.537328737497397,
          -22.056968661722404,
          -21.94008777133928,
          -22.477153463969263,
          -22.87741215304781,
          -22.470919144051113,
          -23.56157106605844,
          -21.954288886597627,
          -21.02118500746342,
          -23.523865508829502,
          -20.32133154751638,
          -22.07699368740586,
          -22.082489832465455,
          -22.737256111041713,
          -21.733215089379517,
          -20.299358944929477,
          -22.708334832836332,
          -22.12448307795461,
          -20.89921803197381,
          -23.495630988076112,
          -22.79055313296728,
          -22.29612614613957,
          -22.851231225609038,
          -20.453716066262192,
          -21.59533285617727,
          -22.731143832409984,
          -24.5103902774688,
          -23.434370516019598,
          -21.205464398963223,
          -23.515283983306002,
          -20.092201099659754,
          -23.136564843736068,
          -22.67367247295803,
          -21.782712943567855,
          -22.357745988322282,
          -21.20515308100005,
          -22.02950145575722,
          -22.582287289027455,
          -22.673653276922302,
          -21.189588340616634,
          -22.571207861628345,
          -23.39973180960107,
          -23.40669015411447,
          -22.65849706222492,
          -23.123134519244505,
          -20.685083174259976,
          -21.460710063924196,
          -23.10090897853093,
          -23.115200266570508,
          -22.157831912864715,
          -20.91711533777068,
          -21.901262418619652,
          -20.73716391788846,
          -22.68345055122797,
          -23.106241494540207,
          -22.074022270567585,
          -22.48619767441374,
          -24.778404880119687,
          -20.559626185890163,
          -21.190885638654144,
          -23.50591265074973,
          -22.385054284853233,
          -21.921257645470455,
          -20.89297727758808,
          -22.32668283930309,
          -20.943887781782358,
          -21.273504073780863,
          -23.01553540122101,
          -23.818390396829994,
          -21.40261065132153,
          -21.29125848579632,
          -23.5745010796069,
          -21.993673857269386,
          -22.141866295406963,
          -23.110602286087335,
          -23.287426948305722,
          -23.138276989175566,
          -21.254547608936228,
          -22.196133797116712,
          -21.620786398855515,
          -21.975891484603352,
          -22.88213183329501,
          -22.953511803384266,
          -22.939286825031104,
          -21.504276023714116,
          -20.988926911431513,
          -22.282154968038324,
          -23.799252900703568,
          -21.067287508771535,
          -20.19351660532341,
          -23.272925280139958,
          -22.456542606976473,
          -23.105620572987185,
          -22.665773825235462,
          -21.528683722343338,
          -21.80320059939524,
          -23.36933536039048,
          -21.831717676862205,
          -23.361582097869213,
          -24.72819885032075,
          -20.877875377557153,
          -21.27443256482517,
          -23.57677904095924,
          -22.900868230378116,
          -23.21221676734244,
          -22.736719290555136,
          -25.009292746688903,
          -22.751128893730357,
          -21.324486290283634,
          -23.00534114145481,
          -24.006446037027153,
          -23.477943216104887,
          -22.997483794858958,
          -23.98696239849589,
          -23.637327711077514,
          -23.54637568701664,
          -23.53876222182434,
          -20.080941806166795,
          -21.789190389997472,
          -20.866847159290902,
          -21.136969013718122,
          -21.05239268704112,
          -23.08120312321076,
          -20.904113556822836,
          -23.034100418770535,
          -23.166261903785394,
          -23.22615684992226,
          -22.511338452260038,
          -23.03943812541669,
          -21.56018491317655,
          -20.71615282762481,
          -20.180862628870056,
          -22.338398569332117,
          -23.019107243424635,
          -22.481763564480133,
          -21.355518005626834,
          -23.630610844696953,
          -22.228275512140172,
          -22.64041213430548,
          -20.480037106637017,
          -22.636759627776613,
          -23.610952128091473,
          -21.339337940660595,
          -20.40795415206762,
          -22.743475625478546,
          -22.572679309827887,
          -23.905993314147555,
          -23.894279933627963,
          -23.07086402487931,
          -21.281131700398976,
          -21.908634153727803,
          -23.68976841618049,
          -21.661406822890473,
          -21.518612546651045,
          -22.368024597233408,
          -22.111603906846536,
          -21.48639335970809,
          -22.415172081968173,
          -21.23981310767113,
          -22.4299509636415,
          -24.52279882421583,
          -23.040633329662644,
          -21.169210700818567,
          -20.981733364876824,
          -23.654138575751002,
          -23.654222397178394,
          -23.8351268270498,
          -21.830441063754055,
          -20.68326474868028,
          -22.487817723352375,
          -22.19552228481866,
          -22.193296313700355,
          -22.69511222848384,
          -22.274617698782976,
          -20.285484534887296,
          -22.489146886502585,
          -22.570621771379255,
          -23.388650818146584,
          -21.267134804144064,
          -20.284193091749795,
          -22.360283995020488,
          -23.541294272040886,
          -21.67684997043302,
          -20.676786336562632,
          -21.614401792889335,
          -22.90210659815283,
          -20.534039232025886,
          -23.280906795824283,
          -23.316172347791127,
          -21.530165206856104,
          -22.29283798246839,
          -22.211471483564306,
          -20.797750145016238,
          -21.838425033908386,
          -20.64696405474457,
          -21.799746647397733,
          -21.382222144227807,
          -20.3249901235719,
          -21.62209955605368,
          -20.79454306878388,
          -24.187719198391974,
          -20.43217689916522,
          -21.03322283931103,
          -20.49622493354951,
          -21.894657525052196,
          -22.250351684575868,
          -21.250586660628578,
          -23.404915542335686,
          -22.80010889745486,
          -22.794109008810615,
          -23.37043312563561,
          -21.36350170979939,
          -23.978832367775745,
          -23.979963039269553,
          -23.446399588378316,
          -21.49647901357738,
          -20.648744141754808,
          -22.003494865301867,
          -22.633046009436132,
          -22.887001515875895,
          -22.87028331384691,
          -21.89216326340061,
          -21.858044927179165,
          -22.871975474331105,
          -21.95050313682301,
          -21.08270714593196,
          -22.81366708036613,
          -21.75732063771276,
          -19.886870655426726,
          -23.66029740274755,
          -20.34044521838111,
          -22.660352151128926,
          -22.516187213174263,
          -20.04272970102337,
          -23.20504089340484,
          -24.704619558438885,
          -24.747920440490358,
          -20.42888720023577,
          -23.814526222798346,
          -23.095823068459914,
          -22.174900699885658,
          -19.979386646547788,
          -21.769363742814342,
          -23.055151680595838,
          -23.36601727317898,
          -20.659883297455895,
          -20.445531132262545,
          -22.586590147687158,
          -23.05780264486127,
          -21.279643359261573,
          -21.567726660682457,
          -23.86523119516947,
          -23.418046558743534,
          -21.31499774715289,
          -21.98168379553046,
          -24.18271029899566,
          -23.718320952615475,
          -23.587600964830155,
          -23.984094196541136,
          -23.5486294338563,
          -22.434616528022946,
          -24.566684155812514,
          -21.59434057175033,
          -23.705464946211745,
          -20.643017768942407,
          -22.23455857964727,
          -23.470259427376792,
          -24.11150288205772,
          -24.290642394425944,
          -23.010064480685884,
          -23.103265363450834,
          -24.64010128808035,
          -22.252002596014556,
          -21.73310246168377,
          -23.286022429648437,
          -23.15730622830591,
          -20.33141443592605,
          -20.69071637638149,
          -21.256827223670943,
          -23.2831637647373,
          -23.296706427693273,
          -23.298643615846707,
          -20.884709308834225,
          -24.701831240017185,
          -22.693758330608247,
          -22.68889567337748,
          -20.270890432738017,
          -24.228585747957283,
          -23.26168303044727,
          -23.54106085835373,
          -21.025578170979756,
          -23.096492254601632,
          -22.29089809044845,
          -22.295943935787694,
          -20.30830740964237,
          -22.930894216921274,
          -22.249435727092425,
          -21.057798257411232,
          -22.01093462817097,
          -23.08189502948993,
          -23.18416150077504,
          -23.220872853278074,
          -21.511446904180833,
          -24.316625385471756,
          -23.9418730533523,
          -23.088728617085085,
          -23.04955173261455,
          -21.167407474211537,
          -22.560121483523087,
          -22.185288219344287,
          -22.60015299912251,
          -22.598195759105366,
          -22.573478963977,
          -22.52341229265341,
          -21.67607880099038,
          -22.737200126738085,
          -20.96536801986327,
          -23.08550507419915,
          -21.72362473845401,
          -22.430820013229603,
          -21.55425425078896,
          -21.67549309780371,
          -22.414984762262275,
          -22.339451604392778,
          -22.514093447641567,
          -20.80439845928851,
          -20.146392423216888,
          -20.645652476968717,
          -23.53650295835299,
          -23.329721686232084,
          -23.006344507717284,
          -22.615059082577268,
          -23.764328693195353,
          -21.796085690866683,
          -22.21499784046301,
          -20.441329545770056,
          -23.03876670092714,
          -22.148084858468284,
          -22.18301719688217,
          -21.60679626919636,
          -23.669940629866247,
          -23.671594796358637,
          -21.18468406109974,
          -20.358241234875713,
          -20.182732189905014,
          -22.41339600173933,
          -19.9756132774764,
          -24.27876853096373,
          -21.132503677693613,
          -22.29515174281066,
          -20.814577890354094,
          -21.46874145307076,
          -23.53040121214045,
          -22.33680961368371,
          -22.341624557870556,
          -22.43195176725281,
          -22.36711885976565,
          -22.438153710733978,
          -22.59885254136169,
          -20.852480515464546,
          -24.11189555747921,
          -21.263459220114285,
          -20.770002235308883,
          -20.906490353999036,
          -21.299468617508854,
          -22.944389409694327,
          -22.95371488210672,
          -20.72828330325555,
          -22.875938478414557,
          -21.50979127631984,
          -20.99263572309109,
          -22.619609862785907,
          -22.40647530951502,
          -23.377650255194677,
          -23.17365980834384,
          -20.843958221870825,
          -20.6934599976426,
          -20.913083868087895,
          -24.121789977420086,
          -20.38262457034294,
          -21.780472771981888,
          -20.536387134122258,
          -21.332455863200394,
          -21.107561050741538,
          -20.856451163027177,
          -22.787374835233962,
          -20.99543528043601,
          -21.4696009553403,
          -20.72929875103183,
          -22.43978584339526,
          -20.73752999199967,
          -20.608164456239606,
          -22.153846197462396,
          -20.185267431091138,
          -20.716823599737285,
          -23.536564187317172,
          -22.314424455023925,
          -21.795711019289442,
          -22.978922384368094,
          -21.489809661372444,
          -20.00168960671946,
          -21.56305953664043,
          -20.38969210204517,
          -21.086251669471906,
          -20.415904962736956,
          -22.786532737910925,
          -21.36187313887081,
          -22.42125482604227,
          -23.39314863042592,
          -23.319364811826752,
          -20.10058497472937,
          -21.78166536507636,
          -21.01941408788335,
          -23.08998348577017,
          -24.715275336616124,
          -20.305991533548113,
          -20.644424619529307,
          -21.311172478188915,
          -22.759991325136166,
          -22.57807210421951,
          -20.031912284089135,
          -22.76992082269883,
          -22.348013116995098,
          -22.795078505153498,
          -20.249109437731097,
          -20.248446312480418,
          -22.74032548616481,
          -22.815272553334733,
          -24.279033957085804,
          -21.421665072340932,
          -21.427002247037205,
          -20.642057869063198,
          -23.07451956740896,
          -24.30309880267998,
          -21.592648210982134,
          -23.715944600804164,
          -23.81197455444591,
          -22.929384305325573,
          -21.184170397432016,
          -22.780736129682907,
          -21.876429667589164,
          -22.60890713530282,
          -23.0558608520058,
          -22.725841079430882,
          -23.19820343035484,
          -21.996311034143513,
          -21.095628417437535,
          -23.4030477324338,
          -22.275856087480665,
          -21.9966717365306,
          -22.414664184760245,
          -21.00987455542997,
          -21.032862305116268,
          -23.52683203684177,
          -20.784966444923445,
          -22.10367343012363,
          -21.737106980100833,
          -21.0264930112105,
          -20.440257815245186,
          -20.184430743008765,
          -19.94298711402836,
          -23.180441288501907,
          -23.21199047441578,
          -21.866032425983516,
          -22.837559354084885,
          -21.045033707741553,
          -23.522367168655204,
          -21.35993680296325,
          -24.02142365584944,
          -22.097935903964224,
          -22.00850814387055,
          -21.773562635668824,
          -22.1215822619376,
          -21.8742882795038,
          -21.646334449010983,
          -21.540999972045167,
          -23.293914797337056,
          -22.247296826398753,
          -21.79887288355797,
          -22.538991613960807,
          -22.069566562620427,
          -23.017863885236956,
          -22.229310649130582,
          -23.599153923116557,
          -23.27663032336227,
          -22.22194575701773,
          -21.88149253433849,
          -24.498837779550897,
          -24.657729784002104,
          -22.081623849526718,
          -24.190933403133126,
          -22.78186968966466,
          -23.70304136632647,
          -21.18253985200731,
          -23.712533114311192,
          -21.169768610108182,
          -20.079712422710767,
          -21.586649473204947,
          -21.725410518910465,
          -22.40538785404829,
          -22.842321876787764,
          -23.745624893916588,
          -19.981666664950833,
          -23.82901502757101,
          -22.573882492272183,
          -22.898929252238354,
          -21.302002224966596,
          -20.17231754158079,
          -21.46026294096197,
          -21.342211165541023,
          -20.767627103434553,
          -23.531454479508646,
          -21.62426880750176,
          -22.84516995720277,
          -23.19676253260492,
          -23.650084860226972,
          -22.88681393225493,
          -21.243499488094187,
          -20.030298091246614,
          -22.77339791492674,
          -22.748331241088955,
          -23.39928048418671,
          -22.740529562708684,
          -20.092526859081097,
          -22.138587299018713,
          -21.82656001816575,
          -22.896328480532986,
          -21.461124741004756,
          -20.22052678746204,
          -22.453204812282447,
          -23.318322777448078,
          -21.686660044231303,
          -22.569639672881543,
          -21.352006028898867,
          -20.144650964683773,
          -21.703553428587647,
          -21.48348869998301,
          -20.245550338689522,
          -23.444984900286805,
          -23.469332993120062,
          -21.97692007478666,
          -23.660602376633854,
          -23.657550418594003,
          -21.24732242379185,
          -22.60561843199777,
          -21.078032500350165,
          -22.116303660811024,
          -22.810029546164678,
          -21.85186391776178,
          -23.96252319074522,
          -22.691052549132618,
          -23.708126268313464,
          -23.629503634159633,
          -22.01488488895912,
          -21.975462039033925,
          -20.514002290391613,
          -20.585751390105457,
          -22.649594093894706,
          -21.582987429934313,
          -20.809333650181667,
          -23.209735311571148,
          -23.85572163274727,
          -23.22402943032572,
          -22.74026492614537,
          -23.878443429622713,
          -23.57030557745358,
          -22.735077769525812,
          -23.533746462047183,
          -23.78058739252956,
          -21.710870954893334,
          -21.47477575872919,
          -23.96548068964202,
          -23.637789964373795,
          -23.274627877633094,
          -21.311947524606836,
          -22.614621137795265,
          -21.20810212661793,
          -21.130872450056508,
          -21.136388199165083,
          -24.385497130331405,
          -20.80877790459578,
          -22.667095203838738,
          -22.596373040143575,
          -23.4853450343409,
          -20.689439238370312,
          -22.819908185531162,
          -22.823918259146115,
          -20.5008102090912,
          -23.549529536840787,
          -23.703485160391505,
          -23.620636786241842,
          -21.995857941679077,
          -20.361210890561235,
          -20.593546852706787,
          -20.81300026983835,
          -23.22163639535284,
          -21.980448072368873,
          -23.576380365185937,
          -22.55124525869923,
          -23.537270771937166,
          -23.78195819330733,
          -23.95965213071715,
          -20.963703917030344,
          -21.73706314242179,
          -23.620998620445693,
          -23.619902914955265,
          -22.389796019403477,
          -23.45353468486184,
          -21.143847427879898,
          -21.12467337567158,
          -21.703495030535553,
          -20.623521591055777,
          -21.446557199012133,
          -23.963910485651006,
          -21.472495940036872,
          -21.40553874898688,
          -23.532344407408793,
          -23.925760560300045,
          -22.30449012443575,
          -22.7489466206339,
          -23.350914298763577,
          -23.026988893535137,
          -23.017069291228218,
          -22.002037882381078,
          -23.37543665012392,
          -22.529727340269105,
          -21.081026351979624,
          -20.788691699998115,
          -23.101621006440027,
          -23.20648945739114,
          -22.43145412941161,
          -22.039168711574966,
          -22.97498488374376,
          -20.235805436783547,
          -22.81419262248133,
          -21.933336747303674,
          -21.385866861981842,
          -21.928465491539185,
          -20.053648674765086,
          -23.452929299956928,
          -22.527613435195004,
          -20.954053066740023,
          -20.24649225322917,
          -21.204038586521552,
          -20.42179235965573,
          -22.97089118044588,
          -21.225948248423403,
          -22.894549657811083,
          -21.834918641034367,
          -23.622633411415162,
          -23.215595945942848,
          -21.94854676332669,
          -22.22217393101984,
          -23.038252646431925,
          -20.86821386988414,
          -21.172081008607666,
          -23.547265880122136,
          -20.418313494479584,
          -23.207385158439223,
          -21.050431326479043,
          -22.60248155257249,
          -22.940462126440508,
          -11.305018450553813,
          -11.567892561876574,
          -12.478669410006965,
          -6.3691057628978305,
          -9.950409822060305,
          -12.927970803068616,
          -7.196791832640471,
          -5.650280663884922,
          -7.190106010676222,
          -7.656670780626437,
          -12.92069951964487,
          -5.468343671814179,
          -7.759597790519602,
          -9.835547680795925,
          -5.321205248711932,
          -11.905019372781869,
          -7.035135193916087,
          -8.958467204057293,
          -8.057911121232678,
          -8.741731814113678,
          -12.81540480809511,
          -12.207735128344126,
          -8.365862033997303,
          -10.602957751524896,
          -11.627033763785315,
          -9.800885904257983,
          -11.341387440445823,
          -5.363920522149012,
          -10.758321970842102,
          -11.812224723860362,
          -8.77403362277547,
          -8.839751857914735,
          -11.728927631186146,
          -10.795330297168547,
          -9.753702991664655,
          -9.534960573689403,
          -11.713284776645507,
          -7.630078590577124,
          -12.914308930078104,
          -11.819560788904193,
          -10.215255592679844,
          -10.174506533679002,
          -12.616803753950634,
          -9.008680982153361,
          -12.032918171228046,
          -8.596253471656617,
          -11.143886531031116,
          -10.441796768345636,
          -10.705425521877858,
          -5.4227037707870105,
          -10.421498999999947,
          -12.53921973679262,
          -11.162527976751385,
          -5.607352810437594,
          -12.398604932189372,
          -6.325757558052025,
          -6.418047623278498
         ],
         "lon": [
          -68.74917530692646,
          -72.6688805413531,
          -68.72939233608,
          -69.2613848114748,
          -67.54296064346511,
          -67.82662567759225,
          -67.73425773430944,
          -68.50293467826819,
          -37.9351265832074,
          -36.30329345457926,
          -36.65688381187583,
          -36.01488129857166,
          -35.50889634074188,
          -35.89620514866875,
          -37.12751526212655,
          -36.47019908728879,
          -36.21371252866984,
          -36.982709039077335,
          -36.146956946374715,
          -36.3269409723648,
          -37.60678416721471,
          -36.579648529187374,
          -35.72990569030661,
          -36.174913695847614,
          -38.01055015095292,
          -37.08918597630651,
          -36.3085517531178,
          -36.82478093494157,
          -35.92588221696495,
          -36.63124087632698,
          -36.656142812793526,
          -37.74833004472581,
          -39.19323994249441,
          -36.46836013110915,
          -36.7417918595071,
          -35.72929788252123,
          -35.741271426962456,
          -36.387711825813625,
          -35.220048242659786,
          -37.35892521057616,
          -35.85914026286754,
          -36.30347185082699,
          -37.74224490331262,
          -35.53292851997611,
          -37.24771684332587,
          -35.94520587502116,
          -35.6635919416324,
          -37.294750505356646,
          -36.63346688313429,
          -35.546981410965365,
          -35.48615736906864,
          -28.424444123004108,
          -36.37146069359348,
          -36.568256813115546,
          -36.419966170263685,
          -35.95674769602995,
          -36.288993222832076,
          -35.39820163988539,
          -35.30990791947603,
          -35.83329662981412,
          -35.823857108129,
          -37.24630827396773,
          -36.21850219952145,
          -36.05768481521994,
          -37.382001566455756,
          -36.08355510241545,
          -35.82583626195491,
          -36.898839497412084,
          -35.56758966152875,
          -36.09611904805605,
          -36.55104362776034,
          -36.433853041307216,
          -36.49400160914397,
          -36.35627070556906,
          -37.00287410022483,
          -36.026978717089335,
          -36.24547978378628,
          -63.14117324221792,
          -63.020308663627866,
          -58.4409695001454,
          -60.007107446741344,
          -58.076888115600596,
          -52.6153135483813,
          -51.06734061973267,
          -51.07229306925819,
          -51.833958416345595,
          -51.409521108823526,
          -51.169160177035366,
          -52.42107094316748,
          -41.66388175580626,
          -39.1555267107371,
          -38.2649856931729,
          -38.023852706144226,
          -38.11492053385937,
          -38.42344400813099,
          -39.26235288962636,
          -39.60169104219675,
          -38.75449544203782,
          -41.45792194795551,
          -41.13638283709852,
          -41.291232096591294,
          -39.83061876266924,
          -44.698162626990054,
          -39.245960093032245,
          -39.12045661530482,
          -40.27582593792593,
          -39.744409767080825,
          -41.44989365700188,
          -38.96194718415279,
          -38.5003316145126,
          -39.416715230662405,
          -39.26274691403601,
          -44.5388124087167,
          -40.16778905956732,
          -38.61846189558877,
          -43.14545144223989,
          -41.32764243619517,
          -40.625292624565986,
          -42.059525987376695,
          -38.525978987269255,
          -44.96726006078333,
          -41.90185348124609,
          -39.47327128746456,
          -39.07759493501058,
          -38.87879318176837,
          -41.26055350504629,
          -38.80797809110514,
          -43.409875811549746,
          -40.50720409145588,
          -41.830256238939036,
          -41.2665485580868,
          -42.71130889843319,
          -42.52231109875634,
          -39.80915359448122,
          -43.961172580152045,
          -42.6197670573623,
          -41.671112056820846,
          -39.30342647544837,
          -43.6342828669913,
          -39.18153999621979,
          -38.96863572581739,
          -42.22314067996513,
          -40.39174854621037,
          -40.907727152167915,
          -42.4875876306961,
          -39.02506035910309,
          -40.0704726890732,
          -39.49559371209775,
          -38.3237293046673,
          -39.11166935758069,
          -38.333687001410524,
          -43.023321604946226,
          -40.32610420270958,
          -41.76715907046423,
          -38.949304954144246,
          -39.11979421469924,
          -38.58862076360857,
          -41.24571428220992,
          -39.49764755503931,
          -39.03349393874104,
          -44.2019611327694,
          -39.835957422492854,
          -40.011743516584225,
          -41.26588690904662,
          -39.310128808959114,
          -43.770479430033916,
          -40.425445511064936,
          -40.98130297583368,
          -39.42239071000821,
          -38.38186888846312,
          -38.27847949097082,
          -42.293528970394576,
          -42.106664284671474,
          -39.08019965983603,
          -38.384992888434375,
          -38.51620756277988,
          -39.55472475607647,
          -44.535339897426226,
          -38.993034165846794,
          -39.279427445135184,
          -39.167317707766905,
          -38.77452250724569,
          -37.61785465375689,
          -41.96984407904907,
          -38.75779408975453,
          -41.93432529834638,
          -44.453887836460595,
          -37.9266780366109,
          -44.64903451731074,
          -44.25769307175943,
          -39.81355286628127,
          -38.15147738090929,
          -44.4100200325766,
          -39.10327746739888,
          -39.8851449228775,
          -39.904578538190265,
          -38.30107302440003,
          -41.76903531040035,
          -39.192076256892555,
          -39.52141988424625,
          -38.0822356466142,
          -42.12973839960764,
          -37.947646687658995,
          -39.01178236135266,
          -39.58383485681395,
          -38.956961887200904,
          -40.133475407993544,
          -45.25825023892409,
          -38.213006207598376,
          -39.4866156520601,
          -42.505532819090526,
          -39.46617528490307,
          -39.04582470442742,
          -42.78339770003472,
          -39.781496934200064,
          -38.2827742057925,
          -40.2098717811214,
          -23.583939075194326,
          -42.257055285315005,
          -39.59078746382383,
          -41.317665709056534,
          -42.05524258283478,
          -42.487106973852654,
          -40.25369276291474,
          -40.10830512640589,
          -39.63991258475436,
          -42.23648302399432,
          -42.11626073203683,
          -41.9756783146835,
          -43.21478059581289,
          -39.192356475836924,
          -42.71408353477745,
          -39.14218825449215,
          -40.08891456033339,
          -39.03993394153876,
          -38.35536601172614,
          -39.30950897255724,
          -39.73628797573608,
          -39.74046054005801,
          -42.615964859907514,
          -40.957560340136084,
          -41.60307066374758,
          -38.765646816856666,
          -41.855805030013435,
          -39.56007581891997,
          -40.30795839512631,
          -39.27648684317404,
          -38.995374147173415,
          -38.993800020520396,
          -40.005566423648034,
          -39.83383038322049,
          -39.614366066579244,
          -42.398968396755905,
          -39.68290974393466,
          -39.37634349522606,
          -39.53454174478864,
          -39.6848542743481,
          -40.62366862989962,
          -39.240259895855324,
          -40.33242118872314,
          -38.66868381743051,
          -39.42531918821103,
          -40.24424010376959,
          -38.21951612249751,
          -39.565674124064856,
          -40.06355057608777,
          -39.69835905043796,
          -40.15123838914271,
          -39.853031386308174,
          -40.06707076332642,
          -41.29884899114512,
          -39.14691658399038,
          -42.424918957057876,
          -40.50983477395643,
          -39.97731887865848,
          -40.189824097557036,
          -37.782920051485746,
          -40.08143123974759,
          -38.671436551420435,
          -39.571749613751855,
          -41.66100100991128,
          -40.50167448540271,
          -40.14434728637776,
          -39.700733400867016,
          -41.59315952462811,
          -42.141503947059995,
          -38.88365094145973,
          -38.31467051487966,
          -41.384177801870244,
          -41.871127644748356,
          -45.80692672676449,
          -42.69286729718252,
          -38.613481836600386,
          -40.26376458018532,
          -40.14950442693872,
          -44.034708491994536,
          -40.43331071784074,
          -38.91586725355916,
          -39.37293085727166,
          -38.26022655860529,
          -40.22236401991968,
          -40.59743564218764,
          -39.85502158056103,
          -38.074572836797316,
          -39.33166015708399,
          -43.27671953865007,
          -41.47408760772705,
          -41.15916631362808,
          -41.37410859508287,
          -39.4587222125986,
          -40.48244632951041,
          -43.5530546987918,
          -38.98946847054154,
          -39.506295861448365,
          -39.00732926130363,
          -40.122280444625304,
          -39.630423046437684,
          -41.069748002827914,
          -38.48111201874123,
          -39.37363049842613,
          -38.32943880702623,
          -42.88346083742181,
          -41.57768001723085,
          -42.23950486413497,
          -37.86599600865977,
          -39.65303845786902,
          -38.22268948320069,
          -38.64382697435264,
          -41.68870144744786,
          -42.48536810560051,
          -42.68510770141822,
          -40.37833401958889,
          -39.90706127081498,
          -39.37731108822477,
          -41.717850447763524,
          -40.55525167902206,
          -40.37881622437182,
          -40.479648946440946,
          -40.367157245915756,
          -38.32736451308023,
          -40.12802187077235,
          -39.07562867228171,
          -39.86169810856465,
          -39.79596981356357,
          -39.22480143405699,
          -41.98876434561059,
          -41.680429120047435,
          -39.42750988352717,
          -39.62718302170117,
          -39.20884621512925,
          -40.12357228292272,
          -42.08147291322284,
          -39.42367401678584,
          -44.90972215555026,
          -39.38316511392188,
          -42.93675297616304,
          -38.403300508482964,
          -38.53647669595227,
          -41.80581449304111,
          -42.07762183922079,
          -42.28653018971424,
          -37.932043105050006,
          -38.762902411426076,
          -40.498588898312164,
          -38.760463746164696,
          -41.75396975925798,
          -38.4616867553148,
          -38.126960589140715,
          -39.04155025154749,
          -39.818933548001695,
          -44.200557404969516,
          -39.52031551503086,
          -39.37766198254969,
          -44.04974392989726,
          -35.15902752271931,
          -38.70647865137772,
          -39.25368499032616,
          -39.25306257497131,
          -45.016581654847485,
          -39.52656645345287,
          -39.089897171567735,
          -38.969289364592754,
          -44.19472127578593,
          -39.33956120312214,
          -39.45439400184948,
          -38.752984111986265,
          -39.18745335471256,
          -38.76874492304449,
          -40.420611459202846,
          -41.77211221180393,
          -40.183766986895854,
          -41.86929985961934,
          -43.607441325570896,
          -43.94693060512876,
          -39.00523646386242,
          -40.2923760727682,
          -38.39277244867185,
          -40.81221695121534,
          -38.5830938190747,
          -38.67296877293478,
          -38.17889441856951,
          -44.06177476053478,
          -41.23499741666952,
          -42.494980485923726,
          -40.79251913126304,
          -39.74413839259595,
          -38.64073809086561,
          -38.99528940774508,
          -39.40719948923639,
          -39.136344626899096,
          -38.78911947547773,
          -39.479159392546165,
          -39.667643041727764,
          -39.31843790091815,
          -39.522954871573475,
          -42.134607999604725,
          -41.32330803113113,
          -39.0791589222631,
          -42.65584924472297,
          -39.285934813859086,
          -41.09561826538264,
          -39.0719662526638,
          -39.462797775734366,
          -40.316614860849334,
          -40.943926853314416,
          -39.3952733205886,
          -38.64129637476195,
          -40.02070527103256,
          -40.84160092751678,
          -40.84272226189781,
          -41.16769859070942,
          -43.88953821717171,
          -39.499190058068464,
          -42.727129759767635,
          -39.04581684412134,
          -40.110782071834926,
          -39.44897848740864,
          -40.13887446818398,
          -39.739299453186206,
          -38.26737385532684,
          -39.57289793990247,
          -39.83000034505478,
          -39.98814021289837,
          -39.43145217180362,
          -38.376434985468876,
          -37.76420388407891,
          -38.76904696367999,
          -40.141118021081645,
          -39.04633611936836,
          -40.15613983579525,
          -39.871397278605194,
          -38.965894156976866,
          -38.91961635134182,
          -39.30173021019368,
          -38.6417165334928,
          -38.778493096718,
          -38.8785689916331,
          -38.12315905366045,
          -40.171418039839054,
          -39.731296654198324,
          -38.98429194756268,
          -40.846325303002686,
          -40.37356961584002,
          -39.314376212285076,
          -38.90132461090233,
          -39.199808064870076,
          -40.4753495714187,
          -39.28804882710206,
          -39.496274061135104,
          -40.938723359086154,
          -38.239307455750506,
          -39.87786568296309,
          -38.65032917297563,
          -39.06183259002377,
          -41.2425001741348,
          -38.492865173226576,
          -40.66259663868692,
          -40.6676722014273,
          -39.41256108623945,
          -40.90113462857332,
          -40.19592023640867,
          -39.25783253964072,
          -38.34898110650219,
          -38.4586571230597,
          -38.359393664026335,
          -40.26303084530192,
          -38.532429724974165,
          -37.805706528898135,
          -40.816151637596896,
          -40.84321613776741,
          -40.38577720902622,
          -38.64285520147742,
          -40.767751448918865,
          -38.91514533294594,
          -40.403597696310186,
          -38.493457733613674,
          -40.893261936065585,
          -38.63460467283003,
          -37.374120813391684,
          -38.86025558900954,
          -39.297643440072115,
          -40.30955064934924,
          -40.7625212685025,
          -38.71890820584663,
          -40.71134544089484,
          -40.71363226856552,
          -38.31250474551004,
          -39.78688653998331,
          -37.83091907935628,
          -38.52314840183595,
          -39.58357917958479,
          -39.58012653213845,
          -38.9208509076592,
          -39.90751859461361,
          -38.46247635948483,
          -38.63736600115672,
          -37.781214193406534,
          -39.27296868456545,
          -40.47832447728354,
          -39.3161107413191,
          -39.524344660950156,
          -38.69394848431213,
          -39.06652089566502,
          -38.99100741638856,
          -38.10503994263532,
          -39.56462337909636,
          -38.61291697736738,
          -38.58895596114378,
          -38.67884839970962,
          -40.15414598800406,
          -40.34841900899414,
          -38.7722394063261,
          -40.46178684697543,
          -38.94493412071386,
          -39.19451500469474,
          -39.93850253170076,
          -39.14556286279263,
          -39.628785542900346,
          -40.066456844180365,
          -38.37670740596278,
          -40.1072066202293,
          -40.74612755881526,
          -39.67537189924241,
          -40.5573026886814,
          -40.77414915894402,
          -38.59237493596233,
          -38.91497112899601,
          -38.46376761942315,
          -38.60859603224847,
          -38.91830464970819,
          -40.696004315252104,
          -37.96176139959635,
          -39.0353693374114,
          -39.149632430369145,
          -40.696809343504476,
          -39.7144967300376,
          -39.075499485055396,
          -39.27256514944034,
          -38.46068961238022,
          -38.305221614936656,
          -40.62503550778546,
          -39.11451825223131,
          -40.05641516159247,
          -39.01555027284506,
          -39.19200029464084,
          -39.29377385907465,
          -37.985429156584956,
          -38.72918190103788,
          -40.58204225534575,
          -37.97382628884966,
          -39.87353306485165,
          -40.15409036221202,
          -40.20423070012124,
          -39.73609068016859,
          -40.86525394526346,
          -38.9697272016546,
          -39.24010230667919,
          -39.3747408815969,
          -40.35311175605496,
          -39.017749209463766,
          -40.53798304931322,
          -38.12931202446786,
          -39.94746353873209,
          -40.29321156760679,
          -40.991608750382554,
          -39.26798567961338,
          -39.43614668673904,
          -40.917844885369476,
          -39.50804077887797,
          -40.58027403996299,
          -40.42480973254835,
          -41.097006548348354,
          -39.29859640215861,
          -47.96886647598218,
          -47.973739516250774,
          -48.194708390880876,
          -47.95086571486819,
          -47.9510941387653,
          -48.124840617152564,
          -47.93146247576337,
          -47.95942805322606,
          -47.84540335166106,
          -48.08530425401524,
          -48.02681818504105,
          -47.81211725914856,
          -48.02144634155541,
          -41.12371778471333,
          -41.53516276114848,
          -40.74931056937235,
          -41.01879814974316,
          -40.648849815509344,
          -41.56743108039142,
          -40.79846476486159,
          -40.22863699645417,
          -40.64411836054274,
          -41.19649395129351,
          -41.012926255435566,
          -40.885885898230484,
          -40.3013125200212,
          -41.67280614857445,
          -41.29158581823656,
          -41.12620227324465,
          -40.38342691295592,
          -41.20519636049413,
          -40.57072169300674,
          -40.63956105804319,
          -40.091152596757134,
          -41.24983376040059,
          -39.73757518671529,
          -41.69466502754654,
          -40.704032491724895,
          -41.842745745044915,
          -40.82597415326898,
          -40.38449895378412,
          -40.46099131352969,
          -41.67503440435154,
          -40.49639734089813,
          -41.506817883423714,
          -40.37012574335158,
          -40.813398471593935,
          -41.64094155038808,
          -40.85391940789055,
          -40.780249109800266,
          -41.134004948888325,
          -40.807786824486705,
          -40.8742054444434,
          -41.53373039669444,
          -41.01712786426433,
          -40.07586676010297,
          -41.392078937948796,
          -40.38667300846462,
          -41.06009899610181,
          -40.059841655671825,
          -41.11875851381642,
          -40.82269689695655,
          -40.689012695583465,
          -40.54293876855565,
          -41.36296449402211,
          -40.35711188194904,
          -40.521050875979604,
          -41.41365667261635,
          -41.342187048258076,
          -40.406383792282284,
          -40.518293109768535,
          -41.271606233951005,
          -40.84616628146892,
          -39.95858510869711,
          -40.219401752231356,
          -40.73441103540229,
          -40.53833069801776,
          -40.18713745738928,
          -41.04061029119547,
          -40.905290937201045,
          -40.325324580425026,
          -40.93526011608743,
          -40.53208940796703,
          -40.75116929156471,
          -40.60685938827466,
          -70.31520024946744,
          -40.615545044821154,
          -40.40572143357216,
          -41.65312810451595,
          -39.83868226237515,
          -40.66322894308199,
          -40.24827651942884,
          -40.10086124895696,
          -40.537255419877596,
          -39.85908702343124,
          -41.00717001967552,
          -42.23727344129296,
          -41.132931135779735,
          -40.434973177371816,
          -41.01877846394589,
          -40.383087196982125,
          -40.310135643738555,
          -40.29780285323718,
          -40.32675435497563,
          -40.98497675246625,
          -40.74227057364542,
          -48.70952130337259,
          -50.373014769571675,
          -47.784387063729895,
          -48.76160432422692,
          -48.26186025104023,
          -48.506772764634135,
          -49.34015563206796,
          -47.51689810696474,
          -46.506223797764335,
          -49.981568965848076,
          -48.94870607519878,
          -49.96081462896285,
          -48.949512570169226,
          -49.27456941298342,
          -49.28102594348018,
          -51.92694163039694,
          -52.232512027994474,
          -49.44975502260816,
          -50.617515281317765,
          -51.55956684307419,
          -51.07954333755951,
          -50.46526066427959,
          -48.919185735793526,
          -48.95099744570015,
          -52.17455481299575,
          -49.738250572652625,
          -48.96374046581481,
          -49.387132091166634,
          -51.164330801417705,
          -49.04126187425261,
          -46.93058467081313,
          -50.95508760157414,
          -49.49093381055509,
          -51.13501683586139,
          -51.8135556258415,
          -48.6198526311481,
          -48.56666977907482,
          -49.15368762101759,
          -47.77658894586532,
          -46.769693978198795,
          -49.656981872122394,
          -49.70235518936493,
          -50.2215933853613,
          -47.94255518885858,
          -47.957131212812214,
          -47.45838362864478,
          -49.60722003897494,
          -49.77081598750628,
          -52.662564788057274,
          -47.9228136076309,
          -48.74471250222526,
          -48.80934800591796,
          -48.563532333024504,
          -47.6107232623567,
          -49.96901725828049,
          -49.37533402471243,
          -48.149793546319394,
          -46.175249736965654,
          -51.25809525639148,
          -46.41396413522938,
          -52.32081038589062,
          -49.92900396484839,
          -50.78892030375633,
          -50.30572061487165,
          -46.989502830620346,
          -47.33225743558541,
          -48.87750736776402,
          -49.01955109427933,
          -48.08697191028651,
          -49.129692498572666,
          -49.27742722317797,
          -49.420950494453805,
          -49.14595624450058,
          -50.142780792093696,
          -49.379212135853756,
          -49.26206115063998,
          -49.53609910657,
          -49.229260118829394,
          -49.46887210409343,
          -46.634243522419354,
          -49.992163905602446,
          -49.99164121081042,
          -49.497142785853114,
          -48.15033976578793,
          -49.67208721976931,
          -51.116655962451055,
          -49.800356385179654,
          -49.95845944134867,
          -49.60473019195852,
          -49.63356589227914,
          -51.54855007399907,
          -49.54887228214086,
          -50.61773518037836,
          -49.94714060919716,
          -49.22263253770043,
          -50.16028755276675,
          -49.332105332149894,
          -56.171869203037616,
          -51.721158853352875,
          -51.73100290391076,
          -50.95324986097566,
          -49.38572384624183,
          -49.62161283369103,
          -50.87329089192938,
          -51.39898267475399,
          -48.7517449118924,
          -47.943599688145746,
          -47.94693859382523,
          -49.492303397075744,
          -46.11153305218248,
          -49.17836381667351,
          -50.72338918548001,
          -50.340164438186015,
          -48.16143213393636,
          -48.221095879632536,
          -52.54981156302431,
          -48.690562356137626,
          -49.11590889021752,
          -50.05803955934807,
          -50.21340932752605,
          -50.56816461230508,
          -50.27830982382427,
          -49.28255872909269,
          -49.88292119198271,
          -49.221319687063634,
          -48.4569498848423,
          -49.893398070713395,
          -48.255939560009146,
          -50.3435023323089,
          -46.88151285654092,
          -49.31666655626662,
          -48.040852132268896,
          -49.50851878407679,
          -48.30001770873917,
          -49.196335588450886,
          -47.83426376593868,
          -48.283736974882885,
          -49.92213743295041,
          -50.16222221242237,
          -50.649640624584805,
          -50.461019041009045,
          -49.02636879088997,
          -51.81759945569071,
          -48.968851608331036,
          -48.28212587529559,
          -47.604136014645846,
          -49.45041060514923,
          -49.14655847853908,
          -52.67914323975207,
          -46.361570335997754,
          -50.451540714418265,
          -49.56412945414234,
          -50.92189186283831,
          -49.80376085496956,
          -50.311994779934984,
          -48.50168912522954,
          -51.10257439069469,
          -50.59644488893644,
          -53.193994250646135,
          -49.31198388462125,
          -48.2828241103559,
          -47.52309920926434,
          -50.40796955487757,
          -49.32859487672178,
          -50.16379772927348,
          -49.81923618621308,
          -50.550461777298246,
          -49.12017949121719,
          -51.95823480803507,
          -48.61117277481365,
          -46.482637767423135,
          -50.37494301100561,
          -47.26343592050128,
          -49.46226534988664,
          -48.74303416095664,
          -50.13409465060814,
          -50.305787376690915,
          -49.14209708875239,
          -49.6794224503755,
          -48.20214427718953,
          -47.987530361068416,
          -48.583766234190726,
          -49.80489256686138,
          -48.27602903712827,
          -47.48449633404995,
          -44.45394150447368,
          -44.44951278413494,
          -45.8639974185921,
          -45.94508688654757,
          -46.01075156612798,
          -45.66542619168681,
          -46.00677976876072,
          -44.77844191510273,
          -44.78906394035817,
          -45.14182897643022,
          -46.04310515312331,
          -45.24672365808475,
          -42.83179515539183,
          -45.26018199694684,
          -44.55507182209266,
          -44.78726254955132,
          -46.291986642937815,
          -45.60876343075263,
          -46.85549096141207,
          -42.753229897613146,
          -42.914429901916115,
          -46.45803913868449,
          -44.672934084080396,
          -45.01488892761193,
          -47.304531237876944,
          -45.73064413627023,
          -44.37799275723666,
          -44.32668695525109,
          -47.46865088345743,
          -46.02104434904004,
          -43.35559678001898,
          -44.53586993015966,
          -46.1677816777443,
          -43.36051089473439,
          -47.78618987724099,
          -43.8915996078408,
          -43.01504612856668,
          -44.24723556894166,
          -44.12654958605843,
          -44.8703003618969,
          -44.43795301877852,
          -44.88337792727722,
          -47.444238726302686,
          -46.18858062799542,
          -44.15547422094826,
          -44.2998806578677,
          -44.23392915467154,
          -46.145619493592214,
          -44.61132294153788,
          -43.483555877271336,
          -44.05948689662217,
          -47.47729115068582,
          -44.36667194900004,
          -44.225212658855405,
          -47.4051889210353,
          -44.6994777972306,
          -45.12939734093834,
          -44.93624756781053,
          -45.13612710992875,
          -42.2053222182116,
          -45.9576785250743,
          -45.858553645784795,
          -43.114992633354376,
          -43.203509560192636,
          -44.55683603279019,
          -44.58210331397584,
          -44.785179947070084,
          -45.24770532027483,
          -45.70419740771682,
          -45.11597018322988,
          -44.16157841476527,
          -43.987968021822276,
          -43.09391386530676,
          -43.77918230870625,
          -44.08440457193341,
          -42.54776782995191,
          -44.59883125646943,
          -44.85721804208877,
          -45.349365699330235,
          -45.08620291497239,
          -45.17044471626072,
          -44.22742132987031,
          -44.94242988623388,
          -47.393865386583194,
          -44.491505261222876,
          -44.06273521723484,
          -45.82428533682955,
          -44.249544171962235,
          -45.296760493004285,
          -45.37600267407557,
          -45.37997306071832,
          -45.67119000317452,
          -45.775243833212755,
          -42.58617862223904,
          -44.320878493885935,
          -43.52926992421663,
          -44.83355009905116,
          -42.42234201458312,
          -44.38091613660304,
          -47.3855129108041,
          -44.81225037296473,
          -47.05431224645511,
          -43.701512508828564,
          -44.13900201110609,
          -44.25328766057483,
          -44.46584504982399,
          -48.41881401577945,
          -44.88256672533718,
          -45.23737623167276,
          -47.22083130578991,
          -46.70246440691378,
          -44.191216518945964,
          -44.28752396065568,
          -42.83396103652862,
          -42.277150306483854,
          -43.403096500833485,
          -43.91826140002698,
          -45.001725340475865,
          -45.2474191123861,
          -44.88048988234321,
          -45.65490543154854,
          -47.4078365252738,
          -45.4463002987293,
          -42.47372065361559,
          -43.14402222191236,
          -48.10811794228084,
          -41.481610141799415,
          -41.07286145044401,
          -44.60576945448214,
          -44.642598725792546,
          -42.693568480754685,
          -50.41424707469225,
          -45.95181438502002,
          -43.767193356103036,
          -40.69302960684199,
          -41.97968305588025,
          -46.3868959952482,
          -46.14487857042153,
          -41.870324125615916,
          -41.96422219554987,
          -43.41263491879728,
          -41.72756415518321,
          -43.06361511147883,
          -42.80091590525793,
          -46.57354819165932,
          -44.31003568552107,
          -45.06661999999994,
          -42.698740442406134,
          -43.75206467047847,
          -43.48123170237622,
          -42.119718442402366,
          -44.70012328311897,
          -43.37755847112716,
          -42.08973450013158,
          -48.19413419921396,
          -44.25360039856993,
          -42.52110705532634,
          -49.1853363722368,
          -46.1522510525546,
          -45.16634204091043,
          -46.94142956405851,
          -46.92587490743116,
          -46.93989548487439,
          -45.541300693446196,
          -46.1449665979704,
          -46.10773503284158,
          -42.864233964033346,
          -41.13523097260995,
          -44.471417089490245,
          -42.61451567415954,
          -44.88903628055419,
          -41.963082328814274,
          -43.95976260855736,
          -45.97684756408032,
          -40.5622830184042,
          -46.3864678018016,
          -43.48055574244055,
          -43.771457365243094,
          -43.03934543153543,
          -43.97510580556287,
          -43.09062549172086,
          -43.95755214150804,
          -42.47992168232194,
          -44.0257580869963,
          -42.478475011191115,
          -41.74589223879504,
          -40.55576147146938,
          -44.166961626958226,
          -43.75713266137063,
          -43.065123888195494,
          -45.56150526453079,
          -43.81287036265137,
          -45.25863430864746,
          -44.186545939437465,
          -46.518655621662255,
          -43.475249717636665,
          -42.523411634632275,
          -46.14709172537161,
          -44.756859464215616,
          -44.07245594544801,
          -45.9986358674731,
          -44.75789991476468,
          -46.1711239405763,
          -46.395962741967246,
          -43.24239766289435,
          -46.0061646639406,
          -44.433944447941585,
          -45.6179413188178,
          -42.97641519891935,
          -50.71456121963189,
          -44.17686088474677,
          -46.34877574535731,
          -44.170437276665034,
          -42.25735678929433,
          -46.42632889398506,
          -44.984647236468014,
          -47.143652358670614,
          -46.39609170165559,
          -44.4518578727129,
          -45.78233456696949,
          -41.488403233691365,
          -43.27792861411475,
          -43.681674337912284,
          -49.49432301857276,
          -44.40952697159709,
          -43.66495294562986,
          -41.922451276616826,
          -42.79602770750053,
          -46.39241187788379,
          -45.15581132546862,
          -46.14001332890425,
          -46.058156568941314,
          -45.29722726782118,
          -41.72805532246127,
          -45.40188042460609,
          -46.24660902434687,
          -49.50209456509559,
          -41.03380534053093,
          -44.811677797827386,
          -45.27561311477834,
          -45.8298343383836,
          -48.574697713634805,
          -46.169855128235056,
          -45.75998487562615,
          -42.62021405801984,
          -49.199277900732596,
          -45.27427943740059,
          -42.622874862626375,
          -41.90630806664008,
          -43.620797706959266,
          -42.51645734650035,
          -47.05516573685892,
          -44.13373619864855,
          -49.5699386935884,
          -43.74625376661165,
          -46.04625014233613,
          -41.8632453890104,
          -42.271083557003195,
          -41.697403090797735,
          -43.804410139087594,
          -42.029943765152545,
          -42.15296352209461,
          -43.01602044169739,
          -45.855143653163026,
          -45.85647968875423,
          -40.871312653284875,
          -43.140982703708296,
          -45.22054433595689,
          -44.86917286484877,
          -45.124733823993424,
          -44.822366699776936,
          -46.30935828069332,
          -46.12132992617943,
          -44.636222574200794,
          -50.721427419246695,
          -44.642577579390846,
          -45.8428254252045,
          -47.88337089557223,
          -46.9221356375289,
          -42.69449766632387,
          -43.4075666503638,
          -44.93169566840273,
          -45.714540087226354,
          -42.997849388042006,
          -49.20061955483061,
          -41.69154550334606,
          -42.53427732623978,
          -45.61558217278183,
          -50.48805214021181,
          -43.22019644542632,
          -47.28560867100957,
          -44.206084191117945,
          -44.76203405975947,
          -43.45074764371449,
          -42.801683564272906,
          -42.839864768666565,
          -41.79417306527858,
          -46.20443258590877,
          -41.42995619322306,
          -48.37549416612301,
          -45.45206425290832,
          -43.423730654730775,
          -44.89692898215243,
          -45.08737826639442,
          -45.79647035713199,
          -43.985429700271446,
          -45.65082349975035,
          -43.86153972516934,
          -47.55206053235132,
          -43.78017241246155,
          -41.47180218430566,
          -44.05785207133867,
          -44.34611615056336,
          -44.454401934788834,
          -42.28266785890231,
          -47.19682128916466,
          -42.62025165998482,
          -42.182577574266176,
          -43.27374596923992,
          -45.90600533483145,
          -45.55511414351627,
          -41.00688275905593,
          -45.51623716422217,
          -42.865027431634786,
          -43.80888135798147,
          -45.2646508788708,
          -44.33858908383825,
          -46.67378428948234,
          -44.81059555541973,
          -44.433156771319794,
          -43.6588713705723,
          -45.27704785019872,
          -46.84294115960025,
          -42.96366943556601,
          -43.33178079572376,
          -44.32897013371234,
          -43.51364099878391,
          -43.6005078626568,
          -43.19857046850785,
          -42.76514775422936,
          -43.005234673615774,
          -42.146371443505956,
          -41.516575297356084,
          -42.606563575139056,
          -44.889300785600845,
          -41.3414846034514,
          -46.196159335177065,
          -42.10845895356205,
          -43.25516285495802,
          -42.968428198957966,
          -45.1572687540962,
          -42.813063003025135,
          -44.02336767935939,
          -42.92455109127554,
          -45.6005195139431,
          -41.79970423914201,
          -45.566466693470225,
          -43.94997150256938,
          -42.230217164314936,
          -44.06587180143238,
          -42.655599256881075,
          -44.26061412354286,
          -41.90925009163093,
          -42.81309249025588,
          -46.017184408328234,
          -45.78781267387939,
          -47.70192478146414,
          -42.18385185406441,
          -43.51210116740571,
          -46.31950127100401,
          -43.24697607970553,
          -40.76032202381983,
          -44.87130296243424,
          -42.957790689221746,
          -42.305273280395866,
          -44.43118104474469,
          -43.300652944075374,
          -45.433058998165116,
          -46.229815235894776,
          -42.349958515266074,
          -44.23241696253605,
          -43.417499612139615,
          -41.48887756040024,
          -41.90865871570033,
          -42.76707455699983,
          -49.2025514813791,
          -42.53032980281246,
          -48.93350958851245,
          -43.11934976595887,
          -41.22390299072754,
          -43.19894233348569,
          -45.854588132508816,
          -43.76101364847365,
          -41.95359124345288,
          -42.860265721681465,
          -47.722931665761166,
          -42.93166199720478,
          -45.92560939533259,
          -43.009719663080894,
          -46.79344313786243,
          -43.04869152191265,
          -43.041786807641536,
          -47.09820110670162,
          -46.71407789047773,
          -42.79789725788338,
          -46.79528213304472,
          -42.72034572426051,
          -42.21351665424961,
          -43.96320596072962,
          -46.56160823512746,
          -44.882300942726836,
          -44.15802205204321,
          -47.12569004208968,
          -44.06810480896789,
          -44.060147479898326,
          -44.908151853991136,
          -44.306195752963056,
          -44.70769798991146,
          -45.71208159060175,
          -45.82723735222764,
          -41.96759179041304,
          -46.325909545234715,
          -47.91834736041107,
          -44.92081235917165,
          -42.112670848873115,
          -44.38846225483841,
          -44.36174448647698,
          -42.41082528054917,
          -41.71530616082554,
          -42.55329183239247,
          -49.94357653927753,
          -46.10569097625455,
          -47.4632510481309,
          -43.22410877692911,
          -41.23564099878552,
          -43.8009689283785,
          -44.10259566286277,
          -44.43545272242804,
          -45.45529721908481,
          -45.471425359123955,
          -42.86198587095291,
          -41.68236820339726,
          -46.84170533402137,
          -44.86708746307188,
          -44.93676307851959,
          -41.86159132325711,
          -41.503188943156474,
          -49.36882034374337,
          -45.12324240731254,
          -46.222570842616626,
          -44.42672589753471,
          -46.75138057010448,
          -44.580855025614476,
          -41.77097185630254,
          -41.22747554406977,
          -49.46335244818038,
          -50.19956607813188,
          -44.657642494807234,
          -43.76724693633195,
          -40.29470991190349,
          -46.74320895758398,
          -46.61190091318773,
          -42.74405406223332,
          -43.672332137952324,
          -41.78336364970252,
          -43.30937886928544,
          -43.32910767150779,
          -44.379894155549685,
          -45.50625738939019,
          -43.98279310089686,
          -42.25089176360698,
          -42.660050901275355,
          -44.4325203984316,
          -44.0238313224809,
          -41.009185123828935,
          -45.288464368178694,
          -41.025485685035314,
          -43.17287104423471,
          -46.1605205461504,
          -40.18811177569545,
          -44.338249885804046,
          -43.36263825472674,
          -46.578964851582064,
          -44.16764168518628,
          -41.746840513326276,
          -45.537189813602396,
          -44.589809914457916,
          -44.06779162363379,
          -46.404217247384295,
          -46.51824250769678,
          -43.89965142692265,
          -41.61169776943603,
          -45.349168217053055,
          -43.47340340801194,
          -42.47567237576673,
          -44.999201639430474,
          -45.02483772207438,
          -42.640898618181694,
          -44.32000869338344,
          -43.80181626080042,
          -50.582284329250925,
          -42.10392303953498,
          -47.80184065969742,
          -44.90297474138901,
          -45.681715829573186,
          -40.71818088940351,
          -45.92052993201528,
          -44.6335216202426,
          -44.33164289536491,
          -42.0808485867346,
          -42.951985807529596,
          -43.93965471559108,
          -42.040598534498436,
          -41.956169737677804,
          -40.98336116136959,
          -43.00740468490523,
          -44.67673891755669,
          -45.37334742476387,
          -43.418085248936116,
          -42.08210977053469,
          -44.178587125845986,
          -48.17591170124266,
          -45.22748738163027,
          -41.87310733510026,
          -40.73844595333425,
          -43.059486696118356,
          -44.42872947177971,
          -43.31977116023607,
          -42.344496728529315,
          -42.86084368198853,
          -44.075581349214794,
          -45.96985523856589,
          -46.21976153825772,
          -41.47835277276773,
          -41.40437128121699,
          -43.35523022384441,
          -43.343187965687314,
          -42.7658420897665,
          -42.585292129283744,
          -44.6011619309737,
          -42.34391248509654,
          -42.614449696492215,
          -44.410436840678585,
          -44.05135830727897,
          -45.41231213762334,
          -45.54211959977871,
          -44.38216215825128,
          -48.878725078377336,
          -42.87098092596081,
          -46.36803921930899,
          -47.49636761511996,
          -41.254925476729326,
          -46.846731600001775,
          -46.57340512991158,
          -46.03257024981759,
          -43.86499987886642,
          -42.500336051042744,
          -45.353299377474784,
          -44.6020275424956,
          -44.57978038279778,
          -43.38193923972434,
          -43.69681781577193,
          -46.3625578974145,
          -42.37049984884314,
          -42.372456948190944,
          -41.43855366446426,
          -46.523156559190284,
          -42.249104419606944,
          -40.34915577347187,
          -45.51156447559829,
          -44.615820980959015,
          -45.23626913181331,
          -43.02993999536734,
          -43.90569776372654,
          -47.113221804399366,
          -46.420562692445976,
          -44.98701334631972,
          -41.88544113747723,
          -41.21959275652008,
          -43.93540762223418,
          -43.571005447498884,
          -44.82676038665832,
          -42.20584853608781,
          -43.704435469350024,
          -46.37130155156736,
          -43.51198972159075,
          -41.27328437311341,
          -42.531075839373294,
          -41.48690537761204,
          -45.53364907227385,
          -45.66311955597219,
          -43.41847642583561,
          -42.31567440074626,
          -40.41430611310587,
          -44.747435062312555,
          -44.595141292866465,
          -46.86896623592594,
          -45.73500868719834,
          -45.77857277716529,
          -44.40088546208934,
          -44.60882226071132,
          -44.96728626925755,
          -44.49185581676562,
          -46.60862610499827,
          -44.070329078890154,
          -46.51218847404726,
          -46.99080283853552,
          -42.210901163695674,
          -42.98126645882965,
          -41.000179991325815,
          -42.56117021133504,
          -41.27255704695075,
          -45.20927693273886,
          -46.150542635850535,
          -45.4658149248674,
          -47.46448927176541,
          -44.03989226354459,
          -44.66083922666543,
          -45.027638405350956,
          -47.28562643685491,
          -45.08823599152949,
          -42.275688721786594,
          -42.37318971562277,
          -41.59649748734009,
          -43.321559205639325,
          -42.07556527702556,
          -44.19240555850847,
          -44.323590282020604,
          -45.80293182841383,
          -42.412160219061974,
          -44.47612953751707,
          -48.7020297102952,
          -43.299138795963444,
          -45.54133645163208,
          -42.349693185518994,
          -44.933534144970096,
          -43.0283534011806,
          -44.89175789294177,
          -45.96079974138365,
          -48.70215937495428,
          -45.967467696634145,
          -45.41273035413269,
          -46.56466174523613,
          -41.62973553584847,
          -45.0002372431444,
          -42.89889898447688,
          -44.95442285575326,
          -41.49681223856985,
          -43.028069642155806,
          -43.138124032298045,
          -41.787552858707784,
          -45.93340351615673,
          -44.97127698904319,
          -44.083411637917365,
          -48.922800961201254,
          -46.86121274516443,
          -43.57392768060846,
          -46.416960003175426,
          -44.15769125855852,
          -41.24778556412989,
          -42.014991706917755,
          -43.80531972631105,
          -42.44291346825205,
          -42.46412505259726,
          -44.24196451981968,
          -41.249234673200206,
          -43.76327370155431,
          -45.99141725875838,
          -43.04653081169028,
          -44.056231480685,
          -45.059928919233364,
          -44.00995343801027,
          -44.08767273206088,
          -43.789123418882596,
          -42.649171158676076,
          -42.897278593634475,
          -43.48265709146685,
          -44.422599955840866,
          -43.12725299298362,
          -46.311909506779536,
          -42.54211546980239,
          -43.16354084502181,
          -43.17867116209081,
          -43.827167953830475,
          -44.323586479323815,
          -42.866033086810205,
          -47.585863571648034,
          -42.26188343737363,
          -40.53588546993864,
          -43.84548260295956,
          -43.864213296349156,
          -43.08180257232812,
          -47.44411447792482,
          -42.293253501472705,
          -39.95457984625883,
          -43.41034926077617,
          -44.208080359340826,
          -41.75165574229896,
          -48.92200810636418,
          -45.32339298714918,
          -40.68427534408377,
          -47.52829292656992,
          -43.90492268544719,
          -42.25106439522343,
          -43.651694305007716,
          -40.14959666472865,
          -42.41148579820841,
          -46.329107255186784,
          -44.094119233185026,
          -42.13258772945871,
          -43.91601943031522,
          -41.38374849184643,
          -45.70752067761215,
          -50.14079055085752,
          -45.5062556560422,
          -44.11198717407156,
          -44.93489776223904,
          -43.16676350069787,
          -45.143014162972825,
          -41.921652618007535,
          -44.70294278436008,
          -43.685650919786305,
          -44.896898845477345,
          -43.03374971466126,
          -43.3026066611305,
          -40.19046460759673,
          -43.25321053389983,
          -44.97276022033627,
          -42.60872506408533,
          -45.287149879479394,
          -44.22117018630988,
          -43.552261428745815,
          -45.071542777131924,
          -43.94993528853278,
          -42.82682529318478,
          -42.04541052162104,
          -42.96347676200369,
          -41.48801746924841,
          -44.86176495316572,
          -44.97980791860478,
          -42.498123195396545,
          -42.504298516031795,
          -42.82067382028981,
          -45.799697934947936,
          -44.854652553802396,
          -43.4412431614133,
          -43.49541874314224,
          -43.37812589823714,
          -45.54772708041925,
          -46.05225400628061,
          -46.54819356385086,
          -45.924143726736304,
          -44.00241608987296,
          -46.94672164246674,
          -44.08692784326681,
          -44.2530182811765,
          -42.15224431446115,
          -42.15909009576291,
          -42.01834162897422,
          -42.76559239874277,
          -43.060185425597815,
          -44.26097711552808,
          -46.31660004625635,
          -43.97312654875095,
          -41.38717529945754,
          -42.709204861462965,
          -45.05459488787902,
          -46.03526215592884,
          -42.7157808218408,
          -46.62716220313882,
          -42.524746122470695,
          -45.07195302725983,
          -46.382097099980314,
          -42.570034463837445,
          -46.98629619076701,
          -44.97777633323917,
          -44.9835636664046,
          -44.511150895897885,
          -47.098617105235014,
          -45.74792117387559,
          -42.207170118225434,
          -42.36724227806817,
          -44.13891959658021,
          -46.177097296979696,
          -42.945876656304065,
          -43.10099606849122,
          -43.22280023802128,
          -43.34489973497506,
          -43.58426088487572,
          -42.48349775921559,
          -43.17113698108101,
          -46.81573874501741,
          -46.68169552127703,
          -40.244847239146296,
          -46.119510176159764,
          -42.87138430389349,
          -43.38864460857634,
          -44.23993688925752,
          -42.14904598152063,
          -46.889442,
          -45.83197557192549,
          -43.31445287096894,
          -41.999729713013636,
          -42.10188722081008,
          -45.04408568268843,
          -42.83319271427838,
          -44.22890366810376,
          -41.170762527783666,
          -43.24784350673851,
          -42.22709529057218,
          -41.613996982306276,
          -43.68930056578074,
          -42.00388859625823,
          -42.85515453493235,
          -41.50507728036173,
          -41.508669774560204,
          -42.63881915971747,
          -44.17477905963709,
          -45.95200911439447,
          -43.0219328222331,
          -46.096743733276305,
          -42.03518100397372,
          -45.259773026737165,
          -45.51293043502694,
          -45.226496670959094,
          -41.65183983345179,
          -48.69718085755292,
          -43.9863046834627,
          -42.73241020739489,
          -45.78858588522878,
          -42.94377427895534,
          -44.782768172251146,
          -42.103493788696234,
          -47.93581889415799,
          -48.277582044762305,
          -48.268999388934326,
          -42.95625119766646,
          -40.59270094037252,
          -46.89530822527895,
          -50.33423137876905,
          -46.255281956297424,
          -42.747352187448826,
          -45.46035049108837,
          -42.29861455152771,
          -42.308415559771454,
          -45.43651868660234,
          -46.03463733806014,
          -44.74865349171068,
          -44.022668772749995,
          -46.90380757456198,
          -48.30939854203838,
          -43.943871774301655,
          -42.26711555969371,
          -43.94146568879755,
          -42.88446217727082,
          -42.24450947252899,
          -40.91364335812698,
          -42.33631362538483,
          -45.092255326082764,
          -42.70136228778343,
          -42.30954775934129,
          -42.838483757125445,
          -43.75965150050012,
          -42.53759758914453,
          -40.93919981216429,
          -52.87735307459614,
          -53.71035488253891,
          -55.22776222689038,
          -55.8021613612429,
          -52.71823908697343,
          -53.77800467267233,
          -54.503718322956225,
          -51.10642297448527,
          -55.783090950473536,
          -54.36436481330819,
          -52.42268536682221,
          -53.26952143643572,
          -56.53751823538703,
          -56.67835671179238,
          -56.48694326023459,
          -52.06609443412147,
          -54.82403489196627,
          -54.0424060575388,
          -54.61578488356733,
          -57.01148678614192,
          -51.75750386596614,
          -52.62904866109048,
          -54.884712080029566,
          -55.530243298699155,
          -57.65104979407551,
          -57.646927228049925,
          -53.13274009236252,
          -54.74875310212911,
          -54.16017129885406,
          -55.28103656834089,
          -54.80598554354421,
          -54.28119913569414,
          -54.50924004692693,
          -54.229973123351876,
          -56.100716453723635,
          -51.92984405697555,
          -54.788126738997065,
          -54.17928152488341,
          -53.82494463283858,
          -54.43548223739682,
          -56.148841171735924,
          -54.60402933559914,
          -57.60379480051541,
          -55.16419800267772,
          -56.39545861043507,
          -54.288775419299284,
          -54.20037679183215,
          -54.365640213038574,
          -53.34735455657627,
          -53.01467279197081,
          -51.19287959241918,
          -55.42947870233529,
          -54.5517524207499,
          -55.71262925080456,
          -55.724127515522646,
          -57.86521030449083,
          -54.431618536132724,
          -53.75418231636182,
          -54.54346342674206,
          -54.987603642818456,
          -55.62833176241239,
          -54.57840194258982,
          -54.963196579894685,
          -54.754409378924095,
          -55.017107463670186,
          -54.86445992626629,
          -51.704162976627174,
          -51.686421107167924,
          -54.44501732191913,
          -56.14798246464171,
          -53.223327746417894,
          -51.37675429719136,
          -53.53109550892496,
          -53.28242914765827,
          -57.39249942723962,
          -58.34773170554173,
          -56.84269476021982,
          -59.460581802148454,
          -57.187765718121476,
          -52.27357365971645,
          -51.59296235351379,
          -57.68804700926159,
          -52.832899541395136,
          -57.90834821580805,
          -55.17606019140091,
          -59.25834528253074,
          -52.27151765494582,
          -55.82367240407808,
          -58.61019611625611,
          -55.72530668635377,
          -54.87562640424402,
          -51.002328273511665,
          -59.269433561058136,
          -55.45771049615255,
          -59.78450051842194,
          -51.576750870961995,
          -59.53240343967293,
          -58.566910518143544,
          -56.07178072169877,
          -56.07368988947786,
          -57.91708197566089,
          -57.04935061906149,
          -56.458624453656256,
          -54.92192291932214,
          -54.92875189573693,
          -58.737465392678395,
          -53.26554597388054,
          -54.9012704789378,
          -56.139264782373736,
          -56.6483329182714,
          -55.24365918960272,
          -54.14593314010621,
          -54.98521595207802,
          -58.87232583331276,
          -57.516881461660994,
          -58.779227239204424,
          -58.49680785981626,
          -54.88853844051774,
          -55.932542791808785,
          -54.8697929592983,
          -58.091327449650315,
          -56.31519130999977,
          -56.80464529140043,
          -57.82294898680789,
          -55.81061910383138,
          -55.404855127740255,
          -59.58685492554173,
          -57.449932389721454,
          -56.08321769268831,
          -57.29385453891894,
          -55.17194331679937,
          -52.353931091841375,
          -55.17406986024913,
          -53.0196461246,
          -56.60884628098378,
          -54.05867213555142,
          -54.45664136017813,
          -54.9093311180316,
          -59.333280230440195,
          -51.63671620309029,
          -57.34977610720992,
          -58.506438270261576,
          -57.20108733020316,
          -54.39147747426826,
          -54.29976942741652,
          -52.249778856281836,
          -58.38548480831002,
          -51.79902937542777,
          -52.69858627244756,
          -58.113137640207725,
          -54.62903267525723,
          -54.61371765894354,
          -58.130838904031144,
          -56.034917525987744,
          -53.611985646481685,
          -50.81710150700641,
          -52.7342246444891,
          -58.80819185176762,
          -55.50845471568516,
          -55.7145156875479,
          -56.7233867932055,
          -58.18328491723091,
          -56.79221455382542,
          -57.51478343819719,
          -56.51946937964815,
          -55.1142967936414,
          -54.36837305374468,
          -55.964274559926025,
          -55.29699062887609,
          -59.95608163633357,
          -51.1199427583956,
          -56.13768053994332,
          -52.20445915381337,
          -48.88106537387817,
          -52.21607476388613,
          -48.40141600314848,
          -46.63185977164168,
          -47.55795963271966,
          -48.62740618997888,
          -48.46871608692033,
          -48.483414341130576,
          -48.25553277806337,
          -48.59968051294414,
          -47.307780092892294,
          -46.7684589300373,
          -52.53943255841229,
          -49.564171450996284,
          -50.47971983783625,
          -49.49773502092509,
          -49.872794593454344,
          -47.17976923617126,
          -47.06706007654771,
          -48.4034936003218,
          -47.92688708882183,
          -49.29806443493768,
          -47.944717019838095,
          -49.79649724588802,
          -47.853523548405455,
          -47.568081009372996,
          -49.697682354193695,
          -47.050272013776514,
          -49.07671060370593,
          -49.67587690467607,
          -47.61973920741049,
          -48.959710972774644,
          -47.63510776159873,
          -55.98716636159787,
          -49.356353172885186,
          -57.75944387571974,
          -49.11559572959484,
          -56.08520031207944,
          -47.556156174149216,
          -49.12145402462746,
          -49.10450303092855,
          -48.33763710174524,
          -52.890698787639884,
          -49.50640761955974,
          -48.76695377709679,
          -54.63846808173611,
          -54.07097385279389,
          -48.761537583255155,
          -46.95885788805854,
          -49.07880708174833,
          -47.38893559148273,
          -55.40306116634601,
          -49.97543464497394,
          -49.85879971902692,
          -47.11441508631301,
          -51.08162715259289,
          -50.61876737410132,
          -47.35755451491292,
          -49.90637044692308,
          -50.04147561161541,
          -48.867987802707056,
          -54.217563134175556,
          -27.69808676596982,
          -49.12518472623518,
          -50.033196607454855,
          -50.0472359299627,
          -48.072662966501575,
          -48.28934576325983,
          -48.15137958248648,
          -47.572776415964924,
          -50.34945753339123,
          -54.715322365363754,
          -54.72906140072297,
          -48.127608860891314,
          -48.72407731874157,
          -51.980997450589435,
          -47.18353446170787,
          -49.55046882975536,
          -51.936138246790165,
          -47.48467203035956,
          -48.94519285295624,
          -48.14534568284274,
          -46.90300475031508,
          -51.15678991508582,
          -49.67408764094628,
          -49.6726041939684,
          -47.499745776486165,
          -53.73974164226498,
          -48.13587257715793,
          -40.315884016386505,
          -46.13899904732771,
          -49.92503542352296,
          -35.63219332049747,
          -35.76440866320551,
          -35.54543763599661,
          -34.910447698646784,
          -35.76039334973399,
          -35.743283898915735,
          -35.70250563207212,
          -35.92421174107332,
          -35.70730669344224,
          -36.732248704492505,
          -35.63143101928754,
          -36.05636685098978,
          -34.92421245463332,
          -35.53696266024417,
          -38.51421804158558,
          -37.4999982744409,
          -37.825443446792654,
          -34.849150870237715,
          -38.55894250887899,
          -35.34996167963895,
          -35.862096832860594,
          -37.721572491346556,
          -38.50657896460069,
          -37.944255498102386,
          -36.354930085119705,
          -36.151772926378925,
          -35.26602567205188,
          -37.08906656945403,
          -35.859303897935085,
          -35.785397336554574,
          -36.451641065455775,
          -35.4909215116945,
          -38.40753533783616,
          -37.508443536306565,
          -35.606067849889854,
          -38.15173654384906,
          -35.29173111290215,
          -37.8057202178639,
          -34.85072907961591,
          -34.86701877735653,
          -36.71347392610991,
          -35.23853209938073,
          -37.818491479962844,
          -37.91558188547208,
          -36.944452261478524,
          -34.864933626529265,
          -37.41807066724696,
          -35.12688719306731,
          -38.18546713690376,
          -35.316723123710524,
          -35.95922466090243,
          -36.20590796891664,
          -37.28091407836807,
          -37.62309129188835,
          -38.070508598916206,
          -36.467601490733436,
          -35.11521553577262,
          -37.92494830350167,
          -36.34468987915423,
          -35.26037387251013,
          -35.49712702239184,
          -34.812920718377214,
          -36.05967093459546,
          -37.79582970815996,
          -37.08341261588617,
          -37.98999119518355,
          -35.9613676216698,
          -35.899161236150825,
          -35.79513566840519,
          -36.147249471640464,
          -35.07673804443287,
          -35.8834014481812,
          -36.917456203062436,
          -34.97442519879807,
          -36.63355991201459,
          -37.725352992323664,
          -37.45186210632904,
          -38.09634112809656,
          -36.816975847308434,
          -35.23149849004836,
          -36.67626659145202,
          -35.657541623169536,
          -36.36348348927906,
          -38.2304883358396,
          -36.88087385765067,
          -37.096777820433296,
          -37.25336131178926,
          -38.59734519989374,
          -38.41206511274139,
          -36.99130513228417,
          -37.6398493782455,
          -34.91298599014977,
          -37.560205074371495,
          -41.02060110035674,
          -35.94651434518298,
          -35.5172329639589,
          -37.117020266836576,
          -35.22282840826383,
          -36.06023398040497,
          -35.451891714402564,
          -35.088852685542996,
          -40.501362066517,
          -37.059362484446474,
          -35.661620866823256,
          -35.196763396960684,
          -38.960761918922394,
          -36.62115667954435,
          -35.754820871795225,
          -39.936950121111394,
          -36.68004491131996,
          -36.797146102200344,
          -35.73274106642819,
          -36.34744143794997,
          -35.327301071340315,
          -37.14944718709074,
          -35.018220517202224,
          -39.309094429333996,
          -36.62489739458794,
          -36.33608799281209,
          -34.989413061238125,
          -35.76212882375621,
          -35.27303670858118,
          -36.197745294632774,
          -36.627217324784084,
          -37.793539344355686,
          -35.25337412701015,
          -35.97142784180055,
          -35.726036765833456,
          -35.21069703695403,
          -35.4616923663824,
          -35.10230029118218,
          -36.328720148830016,
          -35.543168848857185,
          -35.6985165051966,
          -35.95290294383694,
          -37.64423184729449,
          -40.76792402168036,
          -35.24120297027231,
          -35.38525575171721,
          -35.2428143293147,
          -37.93022417655467,
          -38.56979971118692,
          -35.38563892012263,
          -36.48535028958122,
          -35.29501287596602,
          -34.99937528806026,
          -35.57107531179607,
          -35.55824465353485,
          -36.85541970739244,
          -37.69097342318878,
          -34.90988009386023,
          -34.833207630287696,
          -37.82535105410673,
          -35.031331015635566,
          -40.15244315280836,
          -35.114812943196775,
          -37.191770872746766,
          -34.897548064128834,
          -35.10280339470675,
          -34.94935430518074,
          -34.948736147484446,
          -35.79556236612202,
          -36.496402368672854,
          -38.25536722266346,
          -35.592361972035725,
          -35.526080456068776,
          -36.41573761536963,
          -36.82976805464852,
          -35.31142137571598,
          -36.4592499983351,
          -35.90403907912423,
          -40.26335980543693,
          -36.32293402454861,
          -35.44809501145188,
          -35.45050466581066,
          -35.51526769658776,
          -38.729259157399184,
          -39.543021952508624,
          -35.110601358453785,
          -35.22705300810346,
          -34.98625112512223,
          -34.85730636045928,
          -35.60411555603403,
          -39.60183695539925,
          -40.08427106445938,
          -35.58892050493797,
          -36.023923038948816,
          -39.58027764245357,
          -35.581976980508955,
          -35.178641709843,
          -34.858378328399,
          -36.93883612607134,
          -36.69857349963936,
          -38.22122765434695,
          -40.50488990286944,
          -36.70560146960363,
          -35.390746668788175,
          -36.01204257471591,
          -37.850028489304165,
          -34.913631625683124,
          -35.8554051863047,
          -35.377400936216844,
          -35.15271246410155,
          -39.123477300472686,
          -36.688225648641854,
          -36.56234313813534,
          -40.332570820406936,
          -36.20948977742265,
          -40.66000827563244,
          -39.826702832294416,
          -37.4790844995268,
          -35.91166911816631,
          -36.44538808628628,
          -43.04319484534915,
          -36.367342051246354,
          -35.81065877344816,
          -35.15233685491259,
          -38.75903891430712,
          -37.46428191716004,
          -35.03375817443584,
          -35.48780796387688,
          -38.2940628925444,
          -39.296455761113656,
          -37.27177644815795,
          -35.11252611313764,
          -35.75945003965524,
          -35.0392435759513,
          -37.53988021706025,
          -38.128680389513896,
          -35.111756344228056,
          -36.07161879922118,
          -36.624215131826155,
          -39.3767517175978,
          -35.31684951447656,
          -36.0586790310908,
          -35.23636556057312,
          -40.268337322077066,
          -38.102317110475106,
          -37.31458241152749,
          -36.87303335441732,
          -35.98913305346116,
          -35.32130610028149,
          -35.29381202393832,
          -35.30283048623591,
          -35.627343390615266,
          -42.63402816965759,
          -40.84802329456374,
          -42.45957464672137,
          -43.94154833333329,
          -42.853531041069,
          -42.736124286027476,
          -43.94873133203079,
          -45.21088308989325,
          -42.29404262878172,
          -43.95252058670906,
          -41.322247410794844,
          -44.36431355870326,
          -41.869414966186056,
          -40.63667015643963,
          -41.835686326509794,
          -41.04434498937297,
          -42.16987422607917,
          -42.94675725045038,
          -41.5509639057129,
          -41.89405656910353,
          -41.55482822863676,
          -41.56501653036158,
          -45.16533523829482,
          -42.676658416077125,
          -43.660468421909414,
          -42.23397063735173,
          -43.02137774543599,
          -41.1348528014581,
          -40.615364575877656,
          -45.339144412421106,
          -43.58669258623527,
          -41.81217651338669,
          -41.70839353165396,
          -41.67869040245638,
          -43.02652262908984,
          -42.178031059879274,
          -42.576211648165696,
          -41.59335864969289,
          -42.64681246377987,
          -42.6280274290776,
          -41.652642231169615,
          -42.369977997202945,
          -43.889738276564074,
          -42.55389066321159,
          -42.04957577845157,
          -41.93335362072891,
          -42.1265255109234,
          -41.76275540718505,
          -41.76032102941692,
          -41.14407279754487,
          -41.45392129985152,
          -41.462179116198236,
          -41.420549314374846,
          -40.613488499166415,
          -41.709687435604465,
          -41.778085846855895,
          -44.5851404257246,
          -42.689498240483935,
          -43.13724312257374,
          -41.7653746080134,
          -42.25228928955357,
          -41.8317265701314,
          -41.47791545632816,
          -42.544389853520286,
          -41.32302819869242,
          -42.69139823837441,
          -44.063227109671274,
          -41.91030957747023,
          -42.79056879008656,
          -42.86238155580789,
          -44.55511245657041,
          -41.738497350008885,
          -42.25046262070475,
          -50.31097243334825,
          -52.7197073050395,
          -48.97991927475517,
          -48.62752422974045,
          -49.28481718046522,
          -52.71544878175329,
          -51.888509653563055,
          -53.72913819903985,
          -52.32030487158121,
          -53.43985746757152,
          -53.89365493932053,
          -52.78673515900602,
          -53.47434392960834,
          -50.2306200176987,
          -51.916279963471986,
          -48.712753541824284,
          -51.45725414424617,
          -51.434763168422826,
          -49.82236722660047,
          -52.50064919097112,
          -49.38812403801107,
          -41.01273995996873,
          -50.84580510209072,
          -53.51740411970834,
          -51.667933872284294,
          -49.62757015584016,
          -50.37155139815296,
          -52.009024023193035,
          -50.175860427059064,
          -53.63388338074033,
          -51.19757667992749,
          -51.54775703701614,
          -52.78696006159577,
          -53.21447534566015,
          -53.40870273133838,
          -49.111757263590974,
          -53.598674520490796,
          -51.76783096410405,
          -51.58518050497007,
          -51.71560039329486,
          -53.32239831564487,
          -51.35659668422704,
          -50.07527867843522,
          -51.25968653739668,
          -51.57907045278063,
          -51.24032629256072,
          -52.80415320094136,
          -49.086042958361304,
          -52.99204548871616,
          -49.67827341565766,
          -49.52544188896422,
          -49.38601129666979,
          -52.37760566240605,
          -52.37656854858303,
          -51.332828082493094,
          -52.03598040524518,
          -52.123015917383825,
          -53.80378605276697,
          -53.60248109064926,
          -52.28910357547104,
          -50.119247011504996,
          -49.71815635045273,
          -53.46087017667774,
          -50.000403661641826,
          -51.59497707396103,
          -49.263724610399606,
          -53.85009652876607,
          -52.52992836467901,
          -52.611260433642045,
          -52.94086174613472,
          -52.356924498560545,
          -49.18945052634131,
          -46.401558774842776,
          -51.973422045406195,
          -50.54992367333536,
          -50.1692756320779,
          -49.53535670561776,
          -53.29792404486486,
          -50.64960783251922,
          -52.0300007182353,
          -52.567600711297544,
          -52.11709725331264,
          -51.34558778466129,
          -53.12348312867223,
          -53.029694743706514,
          -49.27496804313667,
          -50.45694394555731,
          -54.103996701861185,
          -52.86448993041049,
          -53.06008829226007,
          -53.2914549929298,
          -52.21848836159882,
          -49.41848964973485,
          -53.16149692183006,
          -52.263423500835366,
          -54.23744799743772,
          -52.83424961394049,
          -52.62324187707923,
          -51.323611356091064,
          -49.31010070422007,
          -51.97921936801934,
          -50.403015864184475,
          -53.30585264793609,
          -52.30525570332454,
          -52.082794433928086,
          -51.39054299723058,
          -51.955043357091284,
          -53.3145970174448,
          -54.56761201057936,
          -54.548582768624044,
          -52.11824339750997,
          -53.05267653634423,
          -51.315016315456724,
          -51.92476732459786,
          -53.02562860417749,
          -51.496235514159395,
          -54.25118501409774,
          -52.68734913823053,
          -50.80936362188927,
          -50.04347664703914,
          -51.64818265462178,
          -52.868746178176,
          -51.47150836263734,
          -48.324484470429816,
          -48.58448614693002,
          -50.19419124100193,
          -53.01516267584668,
          -51.05294039540039,
          -53.61950269661658,
          -51.829492726307095,
          -53.08699618874637,
          -8.723762147513938,
          -50.755240734688414,
          -50.603896895070974,
          -51.08117606039539,
          -52.19832380000003,
          -52.697441776738174,
          -50.58376883432753,
          -53.70900674902374,
          -50.65035940195514,
          -52.10075796373303,
          -51.96695092984485,
          -54.30365145115528,
          -50.40658794575256,
          -51.991129290623206,
          -52.82023637693803,
          -49.35231918774444,
          -51.67066762921262,
          -53.36950078552628,
          -50.855188365256616,
          -50.073356343680295,
          -49.976621305259265,
          -51.533135389351266,
          -49.7164234007889,
          -51.644072483794396,
          -52.783200444253055,
          -50.14014250820877,
          -52.55552269435194,
          -51.69007246669605,
          -52.037545966940456,
          -50.970857891185155,
          -53.38803561842464,
          -49.92180170266129,
          -50.247436380002604,
          -52.8454951753832,
          -52.4701183751283,
          -51.67231734102463,
          -49.720376165993414,
          -52.477585702576036,
          -52.41067888534097,
          -50.75015201417223,
          -53.57285653285032,
          -53.13587259427024,
          -51.951972253624994,
          -51.16549611994071,
          -52.2767681817877,
          -51.74315889843617,
          -51.6583038871947,
          -50.82702616356368,
          -52.52911313719751,
          -52.09904825765634,
          -51.6776633579356,
          -49.32480184605346,
          -53.30975982980494,
          -52.17787723251204,
          -51.67440944339136,
          -54.05852495786673,
          -51.79990910433005,
          -49.298553,
          -51.30400991404446,
          -53.03334337675801,
          -53.15131914175904,
          -51.933278669808296,
          -51.929362270354474,
          -53.82758887973321,
          -52.554335786909114,
          -53.02966720898468,
          -53.907610151341544,
          -48.5363046397346,
          -52.159168671726796,
          -51.227297658218994,
          -54.095134218967516,
          -54.167799767946796,
          -54.24220554511303,
          -53.00637296762316,
          -48.82919131856336,
          -51.774096846514354,
          -51.797181091346296,
          -50.71854215134922,
          -53.25915099741323,
          -52.57056261357077,
          -52.20422371871447,
          -53.26151800839115,
          -50.56156092080512,
          -52.53942861117956,
          -52.98829848487106,
          -53.3472924775523,
          -50.76292673504195,
          -53.95650432324312,
          -51.50670423186026,
          -50.933840621265624,
          -52.19355180319951,
          -53.90499628743192,
          -52.03990549710547,
          -51.99006235031654,
          -49.996474544439145,
          -52.21014090533628,
          -53.837677556703355,
          -52.604001028395885,
          -52.15366065320437,
          -48.52807427951693,
          -48.565075878874005,
          -52.083648676568565,
          -52.4551514398139,
          -52.466098370858454,
          -54.22673085775215,
          -52.6752472258087,
          -50.93207217140116,
          -50.81148910425042,
          -52.34483820131129,
          -53.40752932108066,
          -53.68155087435691,
          -53.740672010897434,
          -49.42823343997141,
          -49.1785353243731,
          -50.058695203268186,
          -51.657107558032365,
          -49.939370262890066,
          -49.08372987020717,
          -51.76595818161726,
          -52.92013456180749,
          -53.763827164876965,
          -50.15705455405596,
          -48.42767049926185,
          -51.379434799393636,
          -49.89341320142013,
          -53.2678403728461,
          -53.73951203257938,
          -51.027312904521914,
          -50.98763401109218,
          -49.91405971164784,
          -49.07690711776502,
          -53.97646971948627,
          -52.91314803872301,
          -53.484538814859334,
          -52.132124862539804,
          -49.49980722243734,
          -50.91397510629001,
          -52.95708809108518,
          -53.53398372267607,
          -50.69335042293026,
          -52.970267920680804,
          -50.849703230608476,
          -52.05039747294245,
          -49.757928908051824,
          -50.35787677226499,
          -50.7900497215227,
          -52.52485641291198,
          -49.31657303541073,
          -49.788178088876286,
          -52.87775898122082,
          -51.37055696358404,
          -51.39161964122817,
          -52.2779908643927,
          -52.77267615047669,
          -51.2514627519999,
          -51.55520232201964,
          -53.359741342675356,
          -49.62747582545455,
          -53.30796526352506,
          -50.42845018671307,
          -50.78419091436513,
          -53.29485095700366,
          -51.81076125677054,
          -54.33001889472077,
          -53.194501670104515,
          -53.4740523651229,
          -53.56701386489992,
          -50.51898205113304,
          -53.104588561395126,
          -53.61961343574277,
          -54.402764727764094,
          -49.62778509649632,
          -50.07564324560215,
          -52.34601892264982,
          -53.67991947578013,
          -51.78896214075949,
          -52.47715030617736,
          -51.81946543078687,
          -50.29866134590096,
          -52.918740393872646,
          -52.292262199243936,
          -53.87916854204343,
          -49.17697817245352,
          -54.22950599854947,
          -53.88664990907251,
          -51.81481590141829,
          -50.76104049163858,
          -52.58933520827306,
          -50.57946136072558,
          -51.87179484496577,
          -52.61883750606225,
          -53.646109999999965,
          -49.4639594393949,
          -53.38212068195976,
          -54.04109955262888,
          -51.037541668178726,
          -49.82328699148567,
          -52.72068813344798,
          -49.66116447697119,
          -49.16623280064457,
          -52.728354933045814,
          -50.388173075499395,
          -51.096055257485524,
          -52.499539370185424,
          -52.866134138670226,
          -50.462083835822334,
          -50.62839353622453,
          -50.630900358770496,
          -52.44832800271509,
          -52.62259347387968,
          -54.09723231188331,
          -50.41241255186943,
          -53.73948376398968,
          -49.95477557367965,
          -49.06251849434402,
          -53.508766620135376,
          -51.528090778212245,
          -52.98976116432448,
          -53.30627709706737,
          -51.08495246474599,
          -51.06218784741187,
          -50.793652185665835,
          -50.25638813396349,
          -53.877799815035104,
          -52.9125189764566,
          -53.80082355626951,
          -50.3312279243242,
          -52.780834151474565,
          -49.80225246519825,
          -53.501892556231574,
          -52.15092591967641,
          -44.35337369206609,
          -43.024487689835446,
          -42.10489089799902,
          -42.321414936246086,
          -43.09854917159979,
          -41.908675205986285,
          -42.0506509016767,
          -44.0307961050585,
          -43.412791880163304,
          -42.47000671301413,
          -43.68163917845686,
          -41.98864949398983,
          -43.823064303764404,
          -44.07475105543459,
          -44.171692237730994,
          -43.384292462811366,
          -42.53355679259949,
          -41.88977443369495,
          -42.41686495479445,
          -41.67656312342376,
          -42.02615531808622,
          -42.657121037845286,
          -43.85246285090664,
          -41.92499999999996,
          -41.911663806863615,
          -41.322639047475214,
          -42.354217759630906,
          -41.65744656238283,
          -41.615142419292205,
          -42.607432292496306,
          -42.19317094379996,
          -43.212766283950224,
          -41.86732114889866,
          -43.57884543837606,
          -43.92036819601698,
          -42.36626102797319,
          -42.51879810630607,
          -43.28943011353076,
          -44.99224961571747,
          -43.66579922342443,
          -42.062326781962895,
          -41.54848866875676,
          -43.499274199645704,
          -42.98404108001001,
          -42.22206859801616,
          -43.86829218461353,
          -42.87440162688028,
          -42.89160982209523,
          -43.83793867127654,
          -43.78282232362732,
          -43.80822806081521,
          -41.6919526852605,
          -41.906016251063534,
          -41.89346823832069,
          -44.55714132223876,
          -42.79476652613331,
          -43.62558741199659,
          -42.694574068113525,
          -42.1185407791096,
          -44.196809147471676,
          -41.78750292962273,
          -41.78330744804508,
          -42.25244838242634,
          -43.110864916246456,
          -43.16136199863276,
          -44.01477821887254,
          -42.868442799344415,
          -42.86248136683131,
          -43.73322381234702,
          -43.42440928433377,
          -43.47008296388347,
          -42.19638618566784,
          -41.975047892864765,
          -43.41855517255842,
          -43.41631837997989,
          -43.087327511993124,
          -43.08328707923704,
          -42.526566029706544,
          -43.47041685619956,
          -43.48736061038535,
          -42.76142622840878,
          -43.705683375748585,
          -43.29222008230457,
          -44.70778007705104,
          -44.00290735476933,
          -43.421068368395325,
          -44.53201065722094,
          -43.173933473772166,
          -43.16277872389329,
          -43.19183375236307,
          -44.00681729463327,
          -43.89666343676933,
          -42.04149743158904,
          -44.30627265296701,
          -41.84131123934596,
          -41.955755421859884,
          -44.26164195007422,
          -43.56344900678065,
          -41.470023578847695,
          -37.00085386979229,
          -44.46159884227604,
          -42.63004113951235,
          -44.13045433056481,
          -43.58379149561636,
          -41.938722445730065,
          -43.312870653667105,
          -43.602306127871884,
          -42.596001062384424,
          -44.06655708806323,
          -34.725129839453665,
          -42.0000614631206,
          -43.072635886699686,
          -43.815590668082855,
          -42.98823047403888,
          -42.19618878044136,
          -41.75133524307317,
          -41.17599626646001,
          -43.02941533235643,
          -41.05687237302475,
          -43.36728421381585,
          -41.93993508938902,
          -42.39805999999993,
          -42.9367890469947,
          -42.13330080020418,
          -49.88184551275958,
          -42.13203809880536,
          -42.907704214292544,
          -42.494318781827225,
          -43.67211071451278,
          -43.708503424610186,
          -42.40944446257947,
          -42.673564014326516,
          -43.01464825043669,
          -43.3805314137531,
          -45.10349325300495,
          -42.727847609078914,
          -42.96721254331906,
          -42.9628588970495,
          -43.787664058741406,
          -42.06975873031077,
          -41.98519583710767,
          -43.20395774830091,
          -43.20586042115693,
          -41.75767926461165,
          -43.70746998102363,
          -41.86768974778266,
          -43.667689767440216,
          -43.92075713526868,
          -44.52822701016756,
          -44.09717153758818,
          -43.315218158916544,
          -36.640335529330684,
          -36.91480507328552,
          -38.291460507110884,
          -38.013967260122904,
          -37.76818300221504,
          -36.75812276543539,
          -36.60327364407801,
          -37.896717122442595,
          -37.797452609510444,
          -37.12783949027907,
          -37.61646139949968,
          -36.41243181692128,
          -36.05112829734299,
          -37.093593888778884,
          -37.558568833481395,
          -36.59251248151928,
          -36.83630689504175,
          -35.42298981325486,
          -38.44126594152204,
          -36.518752632087725,
          -35.281779332893365,
          -37.70055965400177,
          -36.81401045099459,
          -38.12419122933705,
          -37.84142954570843,
          -36.2418210711995,
          -35.20896179362485,
          -37.524499346387095,
          -36.32302709972073,
          -35.552830968995934,
          -37.19881332377273,
          -37.99304778263783,
          -36.12544395225942,
          -37.407124140326125,
          -35.94618002002062,
          -37.34972885146611,
          -36.77417649588248,
          -35.81768496285475,
          -38.28506234932829,
          -37.021917390647346,
          -35.59786898939086,
          -35.869540046256034,
          -36.46851727046746,
          -35.475278930623794,
          -36.631856050797694,
          -35.3510243299243,
          -38.16257764200831,
          -37.91213084551946,
          -37.51443645815574,
          -35.28736471075277,
          -35.335571173526176,
          -37.34920822311523,
          -37.33450364263184,
          -35.22146264615494,
          -35.432799303715115,
          -36.66057082946716,
          -35.23134758749348,
          -37.639415885109074,
          -38.20667004551809,
          -35.21941217608294,
          -36.718540718094914,
          -37.98828381697318,
          -37.948726332901956,
          -38.06065263299912,
          -36.02104583129707,
          -35.692963484542844,
          -36.73588506155609,
          -35.48054643351865,
          -37.18624897387134,
          -35.30513509247965,
          -37.20194350410655,
          -35.24639670394863,
          -35.71115049051256,
          -36.87879880847374,
          -38.49626229332373,
          -35.661678499379015,
          -35.762880639741496,
          -36.8862373339404,
          -36.075158879164356,
          -35.708585301965435,
          -37.96391463750967,
          -35.91378340816983,
          -35.273575763647344,
          -36.68257322080736,
          -38.18007764745476,
          -35.072042837167956,
          -37.259991960665666,
          -35.43237540007776,
          -37.944090322271194,
          -35.077224421061395,
          -61.998825362568496,
          -63.32493531852187,
          -62.2869731930518,
          -63.03555499768102,
          -63.831088871403665,
          -60.53788286186566,
          -62.907643074084675,
          -61.45063991781244,
          -63.64934899789282,
          -61.95102518259382,
          -60.823111122927415,
          -60.54217610290954,
          -64.20543446596382,
          -62.58354994761002,
          -61.014742629135874,
          -65.32207707200787,
          -62.473249705160875,
          -61.92782754664905,
          -61.942612829458746,
          -62.012429194152276,
          -61.52464349969754,
          -62.669725996167365,
          -64.54803083490056,
          -62.31699294184998,
          -65.2672107239507,
          -62.25613931045199,
          -61.17124596903098,
          -63.887522714632496,
          -61.9058322401228,
          -61.77703628883976,
          -63.57426861370948,
          -62.717504144685776,
          -63.03955975028363,
          -62.36961207720059,
          -60.14347892606906,
          -60.69812038919219,
          -59.83322248785685,
          -54.148548714573295,
          -52.03985047911124,
          -49.17546213298624,
          -53.2459255611156,
          -53.76337497269791,
          -55.79128645489499,
          -54.04533603585983,
          -52.91491693557196,
          -53.03555485473069,
          -52.989186791718815,
          -51.06694091984415,
          -53.178636499482884,
          -51.57346986434233,
          -52.00750426344917,
          -51.28407511043693,
          -50.92767520814332,
          -52.30079208837952,
          -51.945171165133004,
          -49.88526690603356,
          -52.995051771964,
          -51.73152450330508,
          -53.078851281770035,
          -52.180111441190874,
          -53.994146190298764,
          -54.100286852011635,
          -54.10710698002473,
          -50.26317884150175,
          -51.499123783250354,
          -52.38039524446383,
          -51.74683334081304,
          -51.308982963290255,
          -52.41363609091986,
          -51.45766438683285,
          -52.58608560249378,
          -51.516969774464734,
          -51.507107523878425,
          -53.31677388833162,
          -54.11113064990074,
          -53.813659189325975,
          -51.67305377843535,
          -51.35923183710607,
          -51.93419702846099,
          -52.42974132558072,
          -54.9107887611147,
          -51.96254104620899,
          -54.82633070054312,
          -52.9001114044151,
          -51.08405863874132,
          -54.63990114817956,
          -51.8085350874549,
          -50.14571173383808,
          -51.09526360192388,
          -54.84099998542986,
          -52.62398227507844,
          -51.060403440177396,
          -53.80714061237942,
          -53.00127999192428,
          -52.78911852703207,
          -53.69073915188292,
          -50.81028933199042,
          -52.67708329253571,
          -51.174495237165495,
          -50.007224042358075,
          -50.694388328298245,
          -54.5633241554672,
          -51.3212336075838,
          -51.98834367295233,
          -50.51140179879618,
          -52.46130780177023,
          -52.79025576343903,
          -51.50260091138184,
          -51.974619453032226,
          -51.69684129876076,
          -54.013478403772936,
          -51.17937527854719,
          -53.48920920234293,
          -52.809165309348714,
          -53.166188436745145,
          -51.75234557238621,
          -54.737891661226996,
          -53.06614906485781,
          -51.618642688658596,
          -52.02551148985606,
          -53.940581538542354,
          -53.46018295240874,
          -50.21367392192425,
          -51.874689271327355,
          -51.86899308717813,
          -52.99280330386694,
          -53.484839056818565,
          -52.995015986814785,
          -52.089344249999954,
          -52.78245270110114,
          -51.697536286334795,
          -52.29683663059865,
          -54.09978360464795,
          -52.0480061154984,
          -53.603896293379194,
          -51.99220089198725,
          -54.75222141272683,
          -51.84383599037798,
          -55.050531492753265,
          -51.091214293917815,
          -52.10802162884412,
          -54.66997677388248,
          -53.35653800003954,
          -54.36392860570992,
          -51.32857728642114,
          -51.8751846997003,
          -52.52372179022532,
          -54.268215599799426,
          -52.30090590669332,
          -52.27064372191643,
          -52.56908602358116,
          -51.189563260380716,
          -52.844475193036104,
          -52.258782068812856,
          -50.76386215075805,
          -51.16255539912983,
          -51.95838431142123,
          -53.15935202877898,
          -51.07027218186224,
          -54.145959600405654,
          -51.3466939212746,
          -52.67502180601173,
          -51.829061985160564,
          -51.30223268988188,
          -51.183154546287696,
          -52.35025217861466,
          -53.50054936444503,
          -53.228372219872426,
          -53.395979139962776,
          -51.52820815176132,
          -55.63986294958386,
          -52.09273969043397,
          -51.77219644575039,
          -52.22847844606442,
          -54.34991721201693,
          -50.7835262916663,
          -50.87401159925631,
          -52.91480070999014,
          -52.57834116709621,
          -51.02305254340534,
          -51.00619131522518,
          -51.691383578716206,
          -51.336325678972145,
          -51.8917464129751,
          -54.55843651763893,
          -53.39285976614134,
          -52.64869035735666,
          -54.31036031755507,
          -53.87636237472542,
          -53.12734721645147,
          -51.8561238492932,
          -51.6369959466755,
          -53.098996288532234,
          -50.79472976396335,
          -53.91593589989315,
          -52.126594374816946,
          -50.11914007834461,
          -51.76658692040368,
          -51.28985837084383,
          -52.42664404208648,
          -53.255200432922415,
          -53.76801100248575,
          -56.55202563098084,
          -52.45613166957615,
          -53.5778998785527,
          -51.16427789211877,
          -53.041768974762675,
          -52.536535128236906,
          -53.378113690387714,
          -54.68679749787493,
          -50.35783289190218,
          -54.21943137477474,
          -53.67851335397243,
          -52.8534827272249,
          -51.525184742562196,
          -52.77555969880768,
          -51.97037536984715,
          -53.9007424217773,
          -53.07488226167071,
          -51.209442776110954,
          -56.06613041140988,
          -51.668006307550215,
          -55.48382309408964,
          -50.210125920847354,
          -52.20283767459886,
          -52.144949415883694,
          -52.101715835577885,
          -54.45662672556166,
          -52.12811749982887,
          -51.804719613244764,
          -52.044881306470145,
          -53.68604465670731,
          -52.075866110814346,
          -51.63695370139826,
          -52.41553423919472,
          -51.467963988245124,
          -52.624349365652066,
          -51.08264807709507,
          -50.91340742099437,
          -51.76936175492407,
          -52.81932731120382,
          -52.77330694615436,
          -52.164869686533066,
          -51.74863202315353,
          -51.704570818803276,
          -52.980951758737106,
          -52.0256512681145,
          -54.90616870311035,
          -50.9006766106218,
          -53.45869367289793,
          -51.10823005629176,
          -51.60921296756925,
          -51.30913401762652,
          -51.40785295265843,
          -51.27283476987696,
          -53.114835359549815,
          -52.95390846390036,
          -51.12251257508265,
          -54.50039835905089,
          -50.25566064711838,
          -50.06326295388895,
          -53.96116798493659,
          -50.49760468288321,
          -53.31111050685997,
          -53.55804287681173,
          -53.5022378421305,
          -52.36693198827829,
          -51.786946085315805,
          -53.17918716660632,
          -51.40402786525684,
          -50.834573957474056,
          -52.45451414043176,
          -53.586333437758334,
          -52.82170088352622,
          -53.654098747811844,
          -52.33736241072302,
          -51.13535914778083,
          -50.23357365986018,
          -53.38246136866199,
          -51.4598955833333,
          -53.10346643852284,
          -53.058859552370144,
          -52.67703001667451,
          -51.23318877432421,
          -51.18857712942569,
          -55.01651508946106,
          -55.1390737732943,
          -52.22293426249438,
          -51.17970480071749,
          -52.318819283381295,
          -51.475095077519605,
          -52.15716982762596,
          -56.45186170954983,
          -54.073151420133065,
          -50.06690688738297,
          -53.63921590998839,
          -53.37564493927577,
          -52.842023145525545,
          -52.130763948585496,
          -52.37472734544019,
          -51.872455322911655,
          -53.17050386349097,
          -50.572926219838166,
          -52.806500480230916,
          -55.02161225501352,
          -54.920334249156326,
          -53.21596164133482,
          -51.51055666604566,
          -51.80988631728817,
          -55.537168260597156,
          -53.25278666124056,
          -52.08774923081315,
          -52.426570859496415,
          -53.80206641933696,
          -50.97731187385151,
          -54.44175613309931,
          -53.349821872234386,
          -53.114483667770756,
          -55.515852071000374,
          -54.867516055696015,
          -54.262621227827275,
          -50.52008406269422,
          -52.54794043759654,
          -55.231598780198624,
          -52.69285295823438,
          -53.777970149174564,
          -54.66498504924796,
          -51.65968008202175,
          -56.005437023988705,
          -51.87743619825896,
          -55.1267045266554,
          -50.58153773073433,
          -54.3235184504575,
          -51.71984109992491,
          -51.70498151933312,
          -54.049455762915116,
          -52.007117929659,
          -51.13727189660359,
          -51.97864734895337,
          -51.06874599856591,
          -53.96379869489512,
          -54.9380392774257,
          -54.89342720738442,
          -54.21123284419048,
          -51.36190308319204,
          -53.57036133724414,
          -52.524465471801356,
          -51.37282573866924,
          -51.00307811090833,
          -51.14618705557027,
          -52.9263631143591,
          -53.4014350145469,
          -52.97154232089777,
          -52.954191678007035,
          -54.54445219094282,
          -51.93407780760516,
          -52.270944085626844,
          -52.25852175508238,
          -51.60202109475423,
          -54.45910180238341,
          -53.58382548577273,
          -52.52211472129332,
          -53.026586319295326,
          -52.50925488808854,
          -51.25326614022426,
          -51.57643492457602,
          -52.08508288336865,
          -51.14558544250159,
          -54.95736550862166,
          -55.26145184364718,
          -52.01206796080064,
          -52.86988286131272,
          -51.39790575071823,
          -50.78008597988864,
          -51.86124955771729,
          -53.466850054192726,
          -51.08718013091004,
          -53.75858565720006,
          -50.06461094862101,
          -51.808172808597945,
          -54.08802409490898,
          -54.227555204448144,
          -49.74491959115231,
          -50.14976807414613,
          -52.06285592271061,
          -52.15016574213005,
          -49.92164780810167,
          -50.78115073787274,
          -54.23551840843681,
          -50.03682589416116,
          -53.933746248058455,
          -52.896760672083246,
          -51.70738486119434,
          -54.43981167345725,
          -53.837070833138384,
          -51.41727029010238,
          -54.48986302904244,
          -52.01163548343003,
          -55.153083990286035,
          -57.08086720910939,
          -50.93824129882797,
          -52.68086189266144,
          -51.24721167056778,
          -51.844427950983686,
          -52.193313555031075,
          -52.50603847584622,
          -51.54955095023769,
          -51.861191748420104,
          -51.061272502949826,
          -51.085252446477426,
          -53.402467717729735,
          -52.73980049880446,
          -51.552607108079904,
          -52.143843160296505,
          -53.34095123552069,
          -53.49268397185775,
          -54.50126603534196,
          -50.04659871806158,
          -52.05365156194243,
          -51.02488531826943,
          -52.32532803924757,
          -49.83008266701338,
          -49.71196936466438,
          -51.555019682742255,
          -52.86017603229269,
          -48.83820955993601,
          -49.33157442341497,
          -51.906781127304434,
          -53.33140901036454,
          -48.98438664013937,
          -51.12836796676873,
          -49.12855017806725,
          -48.76884943896694,
          -49.387627154204594,
          -48.75811272641001,
          -49.48892070353465,
          -49.46717344799409,
          -49.017760094190386,
          -51.335122525174846,
          -52.45510633727941,
          -49.37627016510524,
          -49.782950034762216,
          -49.636809990266705,
          -49.41824148200645,
          -48.617052626479015,
          -48.63305320890661,
          -49.59324966442112,
          -48.681909781747734,
          -49.23380837183449,
          -49.08096888267531,
          -48.691953317317825,
          -53.58044131414608,
          -49.377719976799675,
          -48.64725243853683,
          -48.65826522027001,
          -49.08859270065089,
          -52.39024293725593,
          -49.488573081200194,
          -48.50320378589786,
          -49.07837365853379,
          -49.165211726860235,
          -48.91495449463355,
          -51.013445047372564,
          -53.24935701690006,
          -51.099089272478885,
          -48.6530538136281,
          -48.65447463717855,
          -49.33601244876342,
          -53.080448080969894,
          -51.22556495735034,
          -48.76801763692695,
          -50.39172922868355,
          -51.60580689056575,
          -48.95654041508624,
          -51.65997041262784,
          -52.88536980002553,
          -50.99894011938237,
          -51.337239601534826,
          -50.87310645895104,
          -49.55069677396388,
          -52.62686537508495,
          -52.61597152257477,
          -49.32524103807989,
          -52.023822129790176,
          -52.039363690454906,
          -52.70313049471359,
          -52.66907658962485,
          -50.36622459794297,
          -49.2476145658104,
          -49.37956162353715,
          -49.37037739628315,
          -53.17166652110003,
          -50.577361136441255,
          -53.63606883082187,
          -49.72814449754168,
          -52.25917760328908,
          -48.51216585808974,
          -48.54335757807922,
          -49.475392669899485,
          -50.92124249393447,
          -50.80152181447459,
          -52.688055890561294,
          -48.631463327998624,
          -48.85354111529444,
          -48.960346747598315,
          -48.55333035089985,
          -49.21618662024598,
          -49.049950172418896,
          -48.97959805947018,
          -48.6624686136881,
          -53.52117874337839,
          -48.983797686859155,
          -53.52755352346349,
          -51.49262118869298,
          -51.2373440328739,
          -51.368779896982076,
          -49.528022287504946,
          -49.299651376329926,
          -48.82509102445541,
          -48.67933195388163,
          -49.422243993002034,
          -49.238014922548395,
          -51.24030088969536,
          -51.77521527946808,
          -53.532300990431125,
          -52.136377847019,
          -51.89536408227146,
          -50.79739878403102,
          -52.33914527672702,
          -49.90830890118037,
          -48.68320292528307,
          -48.67912064863266,
          -48.62229620137128,
          -53.71479710792749,
          -48.611132718734666,
          -49.5990465372085,
          -51.7357961888451,
          -49.76175641053026,
          -49.024157474362944,
          -49.09760360043017,
          -49.076177543776346,
          -51.50903852507784,
          -48.84274831142134,
          -49.62913949985476,
          -50.322292147109586,
          -48.784659261030505,
          -52.56748084406709,
          -49.731481761265776,
          -49.407237961634365,
          -50.690183539498875,
          -49.289790233969136,
          -52.08297158236855,
          -49.53931960111321,
          -48.960948530474354,
          -51.37578670302245,
          -49.81253069564952,
          -50.326946295403914,
          -49.45152082532771,
          -53.18449911898906,
          -49.002534048018276,
          -49.63181747150646,
          -53.400361871374365,
          -50.973045717160865,
          -50.23037014662203,
          -49.21095771779099,
          -49.714754963930766,
          -48.65736484423828,
          -48.26006409087198,
          -52.90589294135718,
          -52.8151697400277,
          -48.93077294776362,
          -49.49953380771339,
          -52.82987613528218,
          -49.288673597165094,
          -50.11624713130414,
          -51.605259013403035,
          -52.4994708847488,
          -48.67050591635624,
          -48.6121041326986,
          -53.27739176431275,
          -50.155864922583724,
          -53.162444901815576,
          -50.1457709126807,
          -53.67563706127842,
          -49.720961505227535,
          -52.058828204381285,
          -48.68271760811336,
          -48.63124274488887,
          -51.90567427153452,
          -49.687281874420606,
          -52.98723222324769,
          -51.775171480099665,
          -49.170139485950855,
          -50.46914219331401,
          -52.01530607142447,
          -48.57004704358004,
          -51.07950025593373,
          -49.93011922784603,
          -49.950968829581626,
          -51.806757068668645,
          -49.62755144977645,
          -49.388247748371604,
          -52.71900044773345,
          -49.02203223601675,
          -51.05934860664178,
          -50.13939941622872,
          -49.79595722328515,
          -49.64117297750651,
          -49.27417288129167,
          -49.11310643844439,
          -49.52153209709076,
          -49.78212355987929,
          -53.32609304434152,
          -49.35056297333393,
          -53.31972479541719,
          -51.40612862455321,
          -49.11269112630646,
          -50.41834564086907,
          -50.34219683322825,
          -49.130020129136675,
          -49.71729861550307,
          -50.00606939758184,
          -48.771889137271614,
          -49.388390232522525,
          -52.96469591075601,
          -48.93100079426772,
          -53.005672767804555,
          -50.44060575687204,
          -52.53337815092772,
          -48.85121490462979,
          -48.790260924709244,
          -49.801020472273294,
          -49.93410075331146,
          -48.6277065515257,
          -53.5030787189068,
          -50.584953610229505,
          -52.850665590498174,
          -48.978286567663815,
          -53.517529914408506,
          -48.777519213786796,
          -53.00431264626756,
          -49.074744844985375,
          -52.31539991047458,
          -49.42665884994721,
          -49.63523203121822,
          -49.36809337032627,
          -48.60788895849941,
          -48.6295378554403,
          -49.176644834659655,
          -49.999646980328485,
          -51.24670885270848,
          -48.63706692121833,
          -49.846026897438705,
          -49.27037623408747,
          -49.459605857074706,
          -51.411579838730134,
          -49.79617447830575,
          -50.316187299288124,
          -49.0118620541885,
          -48.98398215020871,
          -53.638902941062874,
          -49.67863775149962,
          -52.85390190900273,
          -49.58685791290171,
          -49.31843746844079,
          -52.15002291593487,
          -51.75354052626588,
          -51.15253710423868,
          -49.790441245336375,
          -52.403994657794016,
          -52.33428686916172,
          -52.53171511177201,
          -51.55171978347314,
          -37.01929312421029,
          -37.06727810860317,
          -37.02852300227634,
          -37.61894393927415,
          -36.46656089630383,
          -37.49323013983066,
          -37.8002195110143,
          -37.053739781815864,
          -36.987631225713095,
          -36.882810437497355,
          -37.755925805326065,
          -37.43571407810774,
          -36.98595499961593,
          -37.19691670316733,
          -37.50900137028286,
          -37.428873323228835,
          -37.79079538097516,
          -37.324067404588725,
          -36.94273691848698,
          -36.80432913245064,
          -37.67161895543462,
          -37.542187247143936,
          -37.30730703260873,
          -37.56306971851773,
          -36.57752881665699,
          -37.41298592778491,
          -37.210806466356985,
          -37.05431618159144,
          -37.09579239297197,
          -37.7234170916446,
          -36.85682459718917,
          -37.69009179553092,
          -38.17508556926912,
          -36.83589781029558,
          -37.18688734133239,
          -37.43596626093686,
          -37.05256509979146,
          -37.15164548571457,
          -36.885665536151365,
          -37.37878589064772,
          -37.806857157301685,
          -36.88485305490262,
          -38.00125690290274,
          -37.84024090800675,
          -37.660977220114106,
          -51.07601533556035,
          -49.64271564526813,
          -48.54493393688767,
          -46.97611915060669,
          -46.71391248489887,
          -46.61937324894832,
          -49.24013875938814,
          -48.986179277422266,
          -47.88510054852834,
          -51.41615439159179,
          -47.37739709707741,
          -47.2566134724933,
          -49.90855487631705,
          -51.46756282500047,
          -49.71827152171474,
          -47.323699357946985,
          -48.1099398816381,
          -49.73264497409821,
          -46.77982699608922,
          -47.66233977037924,
          -51.37738057763974,
          -48.40720315622438,
          -48.1292283726356,
          -51.387004974544936,
          -45.24664690995327,
          -50.88276638535785,
          -48.12446105412283,
          -48.61068860654759,
          -48.84405829786659,
          -47.06736198733114,
          -50.44493293196911,
          -47.61018378267268,
          -47.79068484733614,
          -49.05444039853914,
          -44.446542673956124,
          -48.171714984770624,
          -47.375545535422965,
          -50.43498158269512,
          -48.91356673220313,
          -44.69615578487731,
          -48.66588290743374,
          -48.78771758700769,
          -47.1657687687331,
          -46.31910937507674,
          -46.34054606234341,
          -50.41828219858361,
          -46.560481987331165,
          -50.55462075520381,
          -49.94644521887572,
          -48.92341762235375,
          -48.935964858633014,
          -49.3321336161767,
          -49.45081883954137,
          -49.356838571590075,
          -49.58219749414946,
          -44.318917933330425,
          -50.377957047095386,
          -48.74025621655563,
          -48.559591023505334,
          -48.49975225264679,
          -48.567785120619796,
          -48.15620878829506,
          -46.86935863185775,
          -46.746542723742934,
          -50.73237742419828,
          -47.585052012762034,
          -49.06668248533467,
          -48.48609167648656,
          -50.811250271092526,
          -49.47743449963315,
          -46.080623703430774,
          -50.47539635637737,
          -50.338194264108054,
          -46.040315566073,
          -48.39018235164461,
          -48.527803199195596,
          -48.262470448819585,
          -47.670586146714506,
          -46.468612532513475,
          -47.8152907655656,
          -48.77801123326215,
          -49.074917989060566,
          -47.675090169220525,
          -48.44704790213187,
          -46.537387081359995,
          -46.54899459954653,
          -50.32234439497585,
          -47.654618703557226,
          -48.12510155957027,
          -48.60001796917145,
          -50.14440187114213,
          -47.70999403830061,
          -47.0846305931781,
          -49.33753259362305,
          -45.70480998686251,
          -45.00905168465506,
          -46.64505089436829,
          -49.602212692890134,
          -46.74394262596612,
          -51.99009570480748,
          -46.84340601786666,
          -48.1128044045457,
          -48.81096248940023,
          -47.30547622191414,
          -48.446210632219476,
          -47.068536847474405,
          -46.77576640852021,
          -45.58642608881505,
          -47.93195710361432,
          -50.38672852848477,
          -48.63223957233123,
          -49.78339218605728,
          -48.34730492857453,
          -47.73925651476333,
          -47.505725105505064,
          -48.34707582199444,
          -45.413830222993546,
          -46.83817777573311,
          -46.8430722108346,
          -49.91269317703499,
          -47.07232828087684,
          -51.49176549174563,
          -48.97216028148743,
          -49.05981951184296,
          -45.71561436096287,
          -49.26857484683174,
          -49.16234455805434,
          -47.746688703504226,
          -47.955079500499465,
          -47.77588446279597,
          -49.70813951359056,
          -50.445800319817664,
          -48.53525462335842,
          -48.687257113900706,
          -47.1683209783616,
          -48.01092517102232,
          -47.459958340316014,
          -50.284634723537536,
          -49.31318912407182,
          -47.62297285810801,
          -47.18829388089939,
          -49.77624322252799,
          -47.198047865991676,
          -46.90435454556691,
          -47.737310166569,
          -47.417913133000404,
          -50.78786138581714,
          -44.96163046993114,
          -46.42322474384033,
          -46.42421914102068,
          -44.9555940657993,
          -47.16825995372357,
          -47.6195840295051,
          -46.611740825698575,
          -46.73662296127121,
          -48.392202600489014,
          -48.386261979222404,
          -48.314428984681655,
          -51.533744143993836,
          -49.40628836201711,
          -47.97706610477948,
          -50.20543406742506,
          -48.10802251113439,
          -47.37164861406023,
          -49.10985805938253,
          -48.83640240018734,
          -46.81466268245361,
          -46.82384878007388,
          -46.81408628502836,
          -51.48314002332803,
          -49.689783118793244,
          -47.20455471253452,
          -51.3567411304972,
          -46.75319181794205,
          -49.430369860135634,
          -46.952843895583676,
          -50.39756171781864,
          -51.6615243346063,
          -52.3908216193817,
          -49.51065070949627,
          -48.686678524301236,
          -50.24950578244738,
          -49.52102141266443,
          -46.37387106982926,
          -51.38098148948543,
          -50.149212613779234,
          -51.171722502040666,
          -50.72704172372592,
          -47.39844550580822,
          -46.741283768811044,
          -46.72582117346966,
          -50.55255132432654,
          -49.550428093596786,
          -49.65862497197638,
          -50.191440357247444,
          -48.49271330498367,
          -50.36256371267587,
          -49.93136486168771,
          -50.20917051985427,
          -48.320131288780836,
          -49.7959617756038,
          -49.224623059021205,
          -48.53143054189904,
          -47.82416381617847,
          -51.20801738963666,
          -48.94544905011795,
          -49.589140124912454,
          -48.38464116202757,
          -50.6464450392542,
          -46.04306997289354,
          -45.19386076130384,
          -45.19149552244728,
          -48.18287212973659,
          -48.22960077888057,
          -46.264741313341595,
          -46.24790769301417,
          -46.49876979709016,
          -48.030235561553184,
          -50.65988903151416,
          -50.38773723913576,
          -47.05260391223774,
          -47.20298754943171,
          -47.21241406363177,
          -49.02157232007048,
          -50.688853689418565,
          -49.15636520455567,
          -48.00218930682391,
          -49.239534252796,
          -50.07278787064314,
          -48.82974353343716,
          -47.01635693205662,
          -47.21680387588347,
          -49.19827509378191,
          -51.07532266006208,
          -48.56280548602923,
          -47.75051449522856,
          -46.153200257829695,
          -47.55535990452377,
          -47.556163577110816,
          -51.34047020675736,
          -45.36872586432739,
          -47.21478983064318,
          -51.2555370863029,
          -50.28778912387406,
          -50.961958450969824,
          -49.62719098425694,
          -47.67562806835082,
          -49.38823402308193,
          -48.01402332006467,
          -47.514344852283166,
          -49.73239519309951,
          -49.40931193941115,
          -51.351473550151816,
          -49.140922471000636,
          -49.09104467317485,
          -49.055417305075984,
          -48.80533121116169,
          -46.801838599988436,
          -46.83834116251071,
          -48.045083206495995,
          -48.881924042183606,
          -46.94612308104323,
          -46.82146906273631,
          -49.17994200783829,
          -48.8110842558583,
          -49.48636347801798,
          -51.50710885986281,
          -48.721835002175304,
          -46.34277286562584,
          -49.331432729703785,
          -47.164350224471185,
          -46.83699389579262,
          -48.61411255462107,
          -48.83887484847451,
          -47.81543112451409,
          -46.97227007969109,
          -47.30328085446802,
          -47.05406044642659,
          -47.789388483167954,
          -48.41446863531482,
          -48.320153673419505,
          -46.29752132500832,
          -45.96367383319701,
          -45.9583542198016,
          -49.57192076295022,
          -48.00518422912897,
          -46.975293816355,
          -46.991930469541835,
          -50.5461937168549,
          -46.883412703037685,
          -45.69815213667702,
          -46.903444302607426,
          -47.77320119312101,
          -46.71792466026417,
          -48.55898768961867,
          -48.55666701937139,
          -47.59088430465742,
          -46.27503350450869,
          -50.76827149621684,
          -49.689910403948005,
          -49.79005463803884,
          -47.79428781264151,
          -46.9030477492254,
          -46.885088328565196,
          -51.4357748889293,
          -47.634745537475155,
          -47.07320010425569,
          -45.19065349137051,
          -47.83762131131264,
          -51.04346287885727,
          -44.918835172991606,
          -47.38562111524039,
          -48.79732894442403,
          -48.80327376548455,
          -47.408479247924,
          -46.64639741174917,
          -49.749672844876535,
          -45.115553134409566,
          -50.22558899904064,
          -46.95954096067056,
          -51.01915775056405,
          -49.52193823995829,
          -47.701861968009545,
          -50.328300137038056,
          -49.81715454130793,
          -50.392418293507006,
          -48.71694212220494,
          -49.96359837466846,
          -50.195744656872506,
          -50.22331851181047,
          -47.18889011605326,
          -46.59712215964799,
          -49.31841495453075,
          -50.66808209417246,
          -45.715618277253796,
          -51.18213886034931,
          -49.945921766522886,
          -50.823099173961076,
          -47.89387609159676,
          -51.16954949489018,
          -49.955764212249676,
          -48.36007716677671,
          -46.4499434492524,
          -46.42298665246048,
          -49.57940128335437,
          -50.17546015055213,
          -48.02780172057328,
          -48.45129697299396,
          -50.13439239768762,
          -47.44974510482228,
          -51.103186563082744,
          -51.9115524214896,
          -49.50661257216199,
          -47.00767902184062,
          -46.193893380838716,
          -46.935076809492564,
          -46.93652397349256,
          -46.963692161782795,
          -46.94541486593902,
          -46.937297904531995,
          -47.20379104592536,
          -50.09068914679384,
          -46.665437421768196,
          -48.495496727506335,
          -49.711833620552895,
          -48.642493003077135,
          -51.5678132069837,
          -47.295351221518395,
          -45.839550230520295,
          -48.05514852208202,
          -46.793434706878294,
          -48.15053355851478,
          -51.2785202245721,
          -51.23805573941728,
          -51.52387024341253,
          -45.4439920506923,
          -46.39950999120283,
          -49.631101809394146,
          -50.042628269869525,
          -49.77811856559246,
          -48.904884830442995,
          -50.94343646027845,
          -48.56577873780284,
          -49.32085573063807,
          -51.64596990139046,
          -51.49134299887708,
          -50.26211321114505,
          -47.29331942779806,
          -48.919331724846614,
          -49.222216847438304,
          -47.752326415093854,
          -49.920418157041055,
          -48.9090364662508,
          -49.29805907727272,
          -50.093950330212785,
          -49.35290379035787,
          -47.87953500680893,
          -46.78828341997107,
          -50.27711765740892,
          -50.879277765103,
          -49.87355477949062,
          -51.700982299933294,
          -50.375282349761356,
          -51.26333287520684,
          -49.43452930521689,
          -48.804567588986195,
          -50.7621543967218,
          -50.21831951855033,
          -51.85690282245926,
          -50.580730780337454,
          -45.660762194770186,
          -48.53329697798407,
          -50.587202548420095,
          -50.79155691581234,
          -48.774583314334855,
          -48.384063172673436,
          -47.88138462884032,
          -50.011150681476224,
          -47.28110045998544,
          -51.834902374357675,
          -47.16425737161185,
          -49.40335898887546,
          -49.40546507066173,
          -47.152399752595464,
          -48.784495697020546,
          -46.4459800210432,
          -50.11125021710777,
          -47.476741704155444,
          -46.896753691339335,
          -50.79127156718951,
          -47.235761825825534,
          -50.078000999490456,
          -50.06500913181639,
          -51.1070106789236,
          -47.975358605522175,
          -46.98704897913631,
          -50.59921179543152,
          -47.4142318899136,
          -47.72290759681854,
          -45.44263294610259,
          -48.9079733309035,
          -46.588867109618306,
          -51.72439698579344,
          -45.1833131511937,
          -46.359235959126025,
          -47.646621915541594,
          -49.38278049595409,
          -49.454691250831175,
          -48.66404771711195,
          -46.99511625156263,
          -51.49849889926355,
          -47.419981543807395,
          -49.1394642465681,
          -48.219255640094126,
          -49.92797976129439,
          -46.34716319383304,
          -49.81418240130234,
          -50.17893613850754,
          -49.3581019226654,
          -48.03716928656765,
          -50.52198390309789,
          -49.70282581180715,
          -50.53746036679595,
          -48.12477521833464,
          -47.52209837709137,
          -47.4781017581213,
          -45.257415742241896,
          -49.37615780505847,
          -46.34810690034509,
          -48.07391298482993,
          -46.46182393815411,
          -49.438575555250246,
          -51.55634360153442,
          -52.115709937410585,
          -51.40472647981763,
          -51.84496960410871,
          -49.38266329330534,
          -49.856858452635045,
          -48.05753808479264,
          -50.70062907273488,
          -50.24002469627394,
          -44.77246182546043,
          -50.30397737674216,
          -47.5287510906979,
          -50.894681271077815,
          -48.31747225605046,
          -45.529779177729296,
          -51.30343940995456,
          -49.26469809965418,
          -47.84616128650988,
          -49.007751023908156,
          -48.220362384178166,
          -48.81137550504264,
          -49.7999709089014,
          -46.40676625986261,
          -47.8046394474577,
          -46.40979001121487,
          -47.802912215234564,
          -47.42466662704398,
          -48.075012156404924,
          -50.723761355843365,
          -47.56608729920489,
          -47.60705361138728,
          -46.39462033694684,
          -49.67993196435573,
          -49.43437700441544,
          -53.044630232532285,
          -45.30439111476588,
          -50.73460813411542,
          -51.00082399748581,
          -49.577083582537135,
          -49.499887625923535,
          -47.84072787580174,
          -45.84898375245856,
          -50.858928969583,
          -47.6774259881999,
          -47.292606359513954,
          -47.577740424892745,
          -49.982191819801756,
          -48.804810394183285,
          -50.72841136849298,
          -47.40596575462711,
          -47.39565532665196,
          -45.88538560664444,
          -47.377597965168675,
          -50.92708150606047,
          -47.45460184390611,
          -47.24871819241543,
          -49.624240162468844,
          -48.390233507196015,
          -50.90342436588622,
          -47.534630057614194,
          -46.22610698417855,
          -48.08393415431261,
          -48.15539870681134,
          -51.75361888280182,
          -50.8317828180983,
          -47.48280676309556,
          -47.36865063485143,
          -50.69013593805437,
          -46.89110007792794,
          -46.85554333463551,
          -51.65254186168632,
          -46.51985035314278,
          -46.531862896293646,
          -47.12564916167219,
          -46.920447238133505,
          -50.241934895118085,
          -46.684397924054096,
          -45.688732842326665,
          -51.394558865949115,
          -46.32780350647337,
          -45.71848783915089,
          -46.564188950283345,
          -46.56538626928337,
          -47.89356790298358,
          -46.79152257497672,
          -50.35275590689482,
          -47.863693188164746,
          -44.57781789098196,
          -46.94775856933444,
          -49.37644646554628,
          -45.88712809004379,
          -46.948897109025545,
          -45.35025173911259,
          -48.571813208388996,
          -47.99527910216195,
          -46.63198379135355,
          -49.64274673437182,
          -47.12700051607103,
          -45.51145638498864,
          -46.82083536657486,
          -47.5616924463303,
          -46.39454824421266,
          -47.82642968733283,
          -49.47703188494938,
          -47.564034300996234,
          -46.709593428612386,
          -47.60158665380721,
          -47.9914482063831,
          -48.002939038245614,
          -47.92805608893468,
          -48.807385189974895,
          -44.85266683118531,
          -46.50720671996104,
          -47.464271654978425,
          -50.923232206352566,
          -47.22948003290961,
          -47.23889178243103,
          -51.02644096285529,
          -46.30959916897046,
          -46.561494325418884,
          -46.564789568910925,
          -47.89154810546995,
          -50.69449561717764,
          -47.641702312370604,
          -49.38777036019791,
          -45.86965678254152,
          -46.789465624189866,
          -46.64430412515868,
          -47.90659642198052,
          -47.128504337389415,
          -45.55225838823786,
          -46.38799389760218,
          -49.032608844070054,
          -48.687600901117015,
          -46.78381113054595,
          -46.77182792788843,
          -51.28957838619756,
          -49.40549224796595,
          -48.510864977366786,
          -48.448628768247815,
          -47.276353860301036,
          -49.65195844976547,
          -48.78737039593602,
          -47.50544464465205,
          -46.74849920183369,
          -48.50487960125685,
          -49.2463222335984,
          -48.69799582939113,
          -51.55827751528551,
          -50.578951684465736,
          -47.84781198434304,
          -45.563883117017625,
          -45.56350822960505,
          -51.13586076317752,
          -49.32839062212415,
          -52.17241964879716,
          -49.24164245159575,
          -48.33040622959039,
          -47.71181914055678,
          -49.60307493634824,
          -48.16996617407241,
          -48.338877795076094,
          -45.547937514535704,
          -50.88976382630348,
          -46.69485417580671,
          -50.51207918186477,
          -51.573633973535884,
          -50.525683571124965,
          -50.47591844483859,
          -45.093219408528476,
          -49.661752758183525,
          -49.17415232102767,
          -50.64351825817718,
          -49.293054572622275,
          -50.08289205067884,
          -46.99698053847312,
          -50.866901593158474,
          -46.41063286982591,
          -46.89918572591992,
          -47.01270417218394,
          -46.837099156519855,
          -47.11780277213674,
          -49.822674319538606,
          -46.98002585423225,
          -48.29333486279983,
          -48.632422076534624,
          -47.45058667876496,
          -49.97354155865327,
          -46.81847957669532,
          -50.05272655419454,
          -47.871430213488246,
          -49.3404494057287,
          -48.937210314892596,
          -47.16831043399929,
          -49.122904845770265,
          -48.0732415223337,
          -47.975271675045946,
          -49.82627300068317,
          -48.208300558489654,
          -48.12128374688021,
          -48.20958972212538,
          -49.06430152660563,
          -46.95008122252024,
          -47.88830548742561,
          -48.57808559792473,
          -48.72605594606052,
          -48.21111239878048,
          -49.16622321648179,
          -48.396199949532765,
          -47.33711355000809,
          -48.47981127603573,
          -48.75320312015688,
          -46.550130269666916,
          -47.29849504126553,
          -49.16831059122928,
          -49.19543707598355,
          -46.8215469964229,
          -49.215057616062104,
          -49.2668578885991,
          -48.54211501094385,
          -48.90260536728865,
          -49.544885922077356,
          -48.93506587266363,
          -48.508516745825716,
          -49.068431131062,
          -49.627226639839506,
          -48.355778305601746,
          -48.591047290409776,
          -47.72150567887336,
          -48.42301010954237,
          -46.57394544207846,
          -46.62521807090953,
          -48.325751337297625,
          -48.888445237183845,
          -47.87578736776262,
          -48.145337615418356,
          -48.53987814765796,
          -48.934494426926754,
          -47.57513582310215,
          -49.17797610985666,
          -48.406267678182125,
          -47.80934643175413,
          -48.92569099999996,
          -49.92660328672929,
          -48.141224978837464,
          -47.64917313667066,
          -46.439265385294775,
          -47.43089957828529,
          -48.53295969111909
         ],
         "radius": 35,
         "showscale": true,
         "type": "densitymapbox",
         "z": [
          1,
          3,
          1,
          1,
          1,
          66,
          2,
          2,
          1,
          2,
          28,
          1,
          2,
          2,
          3,
          2,
          2,
          1,
          1,
          1,
          1,
          1,
          2,
          3,
          4,
          1,
          2,
          1,
          2,
          2,
          2,
          2,
          2,
          2,
          1,
          206,
          37,
          1,
          5,
          2,
          1,
          1,
          2,
          1,
          1,
          1,
          1,
          2,
          7,
          1,
          1,
          1,
          2,
          8,
          1,
          3,
          2,
          2,
          1,
          6,
          1,
          1,
          3,
          2,
          1,
          1,
          2,
          1,
          2,
          1,
          1,
          1,
          1,
          8,
          1,
          2,
          1,
          1,
          4,
          1,
          135,
          2,
          2,
          34,
          19,
          1,
          1,
          9,
          1,
          2,
          2,
          3,
          1,
          1,
          39,
          4,
          1,
          3,
          1,
          1,
          1,
          5,
          1,
          1,
          2,
          1,
          1,
          1,
          3,
          1,
          1,
          10,
          2,
          1,
          1,
          2,
          6,
          3,
          3,
          1,
          51,
          2,
          1,
          1,
          1,
          3,
          1,
          9,
          2,
          2,
          2,
          1,
          1,
          1,
          1,
          1,
          21,
          4,
          2,
          1,
          4,
          3,
          1,
          1,
          10,
          1,
          3,
          6,
          53,
          8,
          7,
          1,
          10,
          1,
          6,
          1,
          12,
          3,
          5,
          1,
          1,
          1,
          5,
          1,
          3,
          2,
          1,
          6,
          2,
          10,
          2,
          2,
          1,
          1,
          9,
          1,
          4,
          1,
          2,
          9,
          1,
          3,
          2,
          1,
          1,
          1,
          6,
          3,
          2,
          1,
          1,
          4,
          2,
          17,
          3,
          2,
          24,
          3,
          1,
          2,
          6,
          1,
          6,
          5,
          37,
          176,
          1,
          3,
          2,
          4,
          1,
          1,
          1,
          38,
          2,
          1,
          4,
          1,
          2,
          5,
          3,
          1,
          2,
          1,
          1,
          2,
          1,
          1,
          1,
          7,
          2,
          1,
          1,
          2,
          72,
          7,
          1,
          8,
          8,
          1,
          2,
          5,
          2,
          12,
          3,
          10,
          60,
          1,
          8,
          2,
          2,
          1,
          1,
          1,
          3,
          12,
          3,
          3,
          2,
          1,
          1,
          1,
          17,
          2,
          3,
          3,
          3,
          3,
          4,
          2,
          3,
          3,
          3,
          23,
          2,
          7,
          1,
          34,
          6,
          1,
          1,
          44,
          2,
          2,
          1,
          1,
          1,
          72,
          1,
          5,
          36,
          9,
          7,
          1,
          2,
          1,
          4,
          2,
          2,
          11,
          6,
          5,
          2,
          2,
          1,
          2,
          1,
          7,
          1,
          9,
          1,
          2,
          1,
          4,
          4,
          2,
          1,
          1,
          3,
          1,
          3,
          2,
          2,
          5,
          2,
          1,
          40,
          1,
          2,
          4,
          2,
          3,
          2,
          1,
          2,
          5,
          1,
          1,
          2,
          13,
          1,
          37,
          4,
          7,
          5,
          3,
          1,
          4,
          4,
          2,
          3,
          5,
          1,
          1,
          4,
          4,
          1,
          8,
          3,
          2,
          3,
          3,
          3,
          7,
          1,
          1,
          1204,
          1,
          5,
          3,
          13,
          2,
          3,
          3,
          1,
          9,
          28,
          5,
          1,
          3,
          2,
          1,
          1,
          2,
          1,
          5,
          2,
          1,
          2,
          6,
          18,
          1,
          4,
          2,
          14,
          3,
          20,
          5,
          1,
          3,
          2,
          3,
          4,
          3,
          2,
          28,
          1,
          3,
          4,
          6,
          9,
          4,
          6,
          4,
          2,
          4,
          1,
          5,
          2,
          2,
          5,
          32,
          6,
          1,
          1,
          1,
          7,
          2,
          73,
          18,
          1,
          2,
          2,
          3,
          2,
          6,
          7,
          1,
          2,
          3,
          1,
          1,
          1,
          2,
          2,
          21,
          3,
          2,
          2,
          2,
          1,
          3,
          1,
          6,
          1,
          4,
          3,
          3,
          4,
          3,
          10,
          8,
          4,
          6,
          1,
          1,
          3,
          2,
          3,
          2,
          5,
          3,
          35,
          1,
          1,
          1,
          1,
          9,
          19,
          1,
          7,
          3,
          1,
          13,
          1,
          4,
          642,
          1,
          2,
          5,
          1,
          1,
          4,
          1,
          6,
          5,
          3,
          1,
          5,
          8,
          14,
          1,
          2,
          1,
          4,
          3,
          2,
          2,
          1,
          4,
          7,
          11,
          1,
          1,
          1,
          5,
          4,
          2,
          4,
          33,
          1,
          1,
          1,
          2,
          11,
          1,
          31,
          1,
          3,
          3,
          2,
          1,
          2,
          2,
          2,
          2,
          1,
          1,
          3,
          9,
          4,
          1,
          3,
          7,
          3,
          2,
          2,
          6,
          5,
          2,
          1,
          1,
          5,
          4,
          3,
          2,
          2,
          2,
          3,
          1,
          1,
          1,
          2,
          12,
          2,
          6,
          3,
          4,
          3,
          9,
          1,
          5,
          4,
          3,
          4,
          5,
          2,
          4,
          36,
          2,
          3,
          1,
          1,
          10,
          9,
          2,
          1,
          3,
          1,
          2,
          4,
          1,
          2,
          1499,
          299,
          1,
          3,
          11,
          7,
          43,
          4,
          5,
          3,
          1,
          12,
          19,
          11,
          17,
          6,
          2,
          12,
          6,
          4,
          37,
          1,
          1,
          8,
          9,
          6,
          4,
          1,
          118,
          136,
          17,
          2,
          63,
          2,
          5,
          3,
          1,
          9,
          4,
          8,
          5,
          2,
          15,
          64,
          8,
          1,
          5,
          2,
          7,
          4,
          2,
          4,
          3,
          2,
          2,
          14,
          2,
          8,
          1,
          60,
          4,
          16,
          5,
          8,
          10,
          7,
          1,
          3,
          4,
          17,
          1,
          1,
          1,
          5,
          8,
          17,
          1,
          1,
          2,
          1,
          4,
          6,
          1,
          14,
          10,
          1,
          7,
          1,
          6,
          25,
          5,
          278,
          5,
          14,
          17,
          5,
          1,
          15,
          20,
          2,
          7,
          325,
          350,
          16,
          4,
          2,
          1,
          7,
          1,
          1,
          17,
          5,
          2,
          9,
          2,
          3,
          106,
          8,
          4,
          89,
          14,
          1,
          3,
          1,
          2,
          1,
          1,
          1,
          1,
          7,
          1,
          7,
          2,
          2,
          1,
          1,
          1,
          6,
          2,
          8,
          4,
          36,
          1,
          7,
          2,
          7,
          1,
          2,
          4,
          25,
          6,
          2,
          7,
          1,
          7,
          8,
          1,
          2,
          4,
          8,
          7,
          1,
          2,
          2,
          1,
          1,
          2,
          4,
          4,
          5,
          1,
          34,
          1,
          4,
          1,
          16,
          541,
          8,
          2,
          8,
          10,
          130,
          6,
          1,
          2,
          4,
          3,
          3,
          15,
          13,
          1,
          14,
          6,
          2,
          1,
          2,
          3,
          4,
          2,
          7,
          36,
          1,
          7,
          1,
          42,
          12,
          1,
          2,
          4,
          3,
          1,
          1,
          19,
          9,
          1,
          2,
          2,
          2,
          4,
          1,
          10,
          25,
          1,
          12,
          1,
          1,
          6,
          2,
          1,
          2,
          7,
          13,
          1,
          1,
          1,
          1,
          4,
          13,
          1,
          6,
          1,
          1,
          4,
          3,
          1,
          3,
          4,
          10,
          3,
          4,
          11,
          10,
          1,
          13,
          2,
          17,
          14,
          4,
          65,
          7,
          3,
          2,
          3,
          9,
          7,
          1,
          4,
          3,
          1,
          1,
          5,
          1,
          4,
          15,
          3,
          7,
          2,
          8,
          1,
          24,
          1,
          2,
          1,
          16,
          4,
          3,
          36,
          3,
          2,
          6,
          7,
          1,
          1,
          1,
          5,
          1,
          1,
          1,
          2,
          11,
          2,
          16,
          7,
          4,
          1,
          1,
          1,
          2,
          1,
          2,
          1,
          1,
          4,
          1,
          1,
          2,
          1,
          1,
          2,
          2,
          2,
          16,
          3,
          1,
          3,
          1,
          8,
          3,
          3,
          8,
          3,
          3,
          3,
          3,
          1,
          3,
          1,
          1,
          4,
          1,
          1,
          1,
          39,
          4,
          1,
          4,
          1,
          5,
          1,
          1,
          1,
          4,
          1,
          2,
          1,
          2,
          1,
          3,
          1,
          4,
          2,
          7,
          3,
          1,
          1,
          2,
          1,
          3,
          1,
          3,
          4,
          1,
          1,
          1,
          2,
          12,
          1,
          1,
          1,
          3,
          7,
          5,
          2,
          1,
          1,
          1,
          1,
          2,
          3,
          2,
          1,
          1,
          1,
          7,
          14,
          319,
          3,
          1,
          1,
          2,
          1,
          1,
          2,
          21,
          15,
          2,
          4,
          1,
          5,
          3,
          2,
          5,
          3,
          12,
          6,
          2,
          2,
          3,
          10,
          4,
          1,
          29,
          1,
          42,
          3,
          14,
          2,
          6,
          3,
          2,
          4,
          4,
          2,
          11,
          1,
          11,
          3,
          1,
          1,
          1,
          2,
          3,
          1,
          2,
          9,
          53,
          1,
          2,
          5,
          1,
          5,
          62,
          16,
          7,
          24,
          7,
          8,
          8,
          3,
          3,
          1,
          8,
          1,
          2,
          18,
          3,
          2,
          18,
          74,
          1,
          11,
          1,
          2671,
          5,
          3,
          1,
          1,
          1,
          201,
          2,
          6,
          10,
          12,
          39,
          8,
          1,
          1,
          4,
          4,
          4,
          4,
          2,
          1,
          6,
          8,
          2,
          2,
          8,
          7,
          1,
          1,
          26,
          4,
          5,
          1,
          13,
          9,
          2,
          3,
          2,
          7,
          3,
          1,
          2,
          1,
          8,
          25,
          3,
          1,
          5,
          1,
          9,
          20,
          5,
          2,
          7,
          3,
          10,
          1,
          1,
          21,
          4,
          1,
          5,
          5,
          1,
          4,
          9,
          2,
          1,
          1,
          20,
          2,
          1,
          11,
          1,
          5,
          1,
          2,
          6,
          11,
          25,
          59,
          3,
          6,
          2,
          3,
          1,
          4,
          6,
          3,
          10,
          16,
          8,
          5,
          3,
          3,
          3,
          1,
          6,
          32,
          5,
          17,
          1,
          1,
          1,
          2,
          2,
          4,
          2,
          2,
          1,
          1,
          19,
          1,
          1,
          3,
          1,
          6,
          1,
          3,
          4,
          12,
          3,
          5,
          4,
          1,
          4,
          30,
          5,
          83,
          14,
          417,
          3,
          10,
          2,
          22,
          41,
          1,
          1,
          1,
          1,
          2,
          3,
          3,
          2,
          8,
          1,
          2,
          4,
          42,
          1,
          1,
          3,
          3,
          1,
          1,
          1,
          27,
          2,
          2,
          1,
          14,
          1,
          5,
          136,
          2,
          1,
          1,
          2,
          4,
          2,
          2,
          8,
          1,
          6,
          2,
          10,
          1,
          1,
          6,
          7,
          14,
          18,
          6,
          1,
          2,
          1,
          5,
          1,
          37,
          1,
          1,
          1,
          2,
          8,
          3,
          1,
          32,
          2,
          3,
          2,
          3,
          1,
          5,
          1,
          6,
          2,
          26,
          3,
          2,
          3,
          3,
          4,
          140,
          3,
          1,
          18,
          1,
          2,
          9,
          6,
          2,
          2,
          31,
          2,
          4,
          1,
          4,
          1,
          9,
          3,
          1,
          4,
          43,
          5,
          2,
          11,
          1,
          4,
          1,
          2,
          2,
          2,
          1,
          7,
          2,
          2,
          7,
          7,
          168,
          3,
          2,
          2,
          79,
          1,
          31,
          3,
          1,
          84,
          6,
          7,
          5,
          2,
          9,
          14,
          4,
          6,
          5,
          12,
          4,
          2,
          5,
          54,
          3,
          2,
          47,
          15,
          1,
          1,
          2,
          4,
          16,
          1,
          5,
          1,
          13,
          3,
          21,
          1,
          5,
          1,
          1,
          2,
          2,
          9,
          5,
          1,
          47,
          16,
          5,
          4,
          415,
          5,
          2,
          2,
          10,
          1,
          5,
          7,
          4,
          56,
          3,
          8,
          1,
          1,
          81,
          2,
          17,
          3,
          5,
          2,
          2,
          2,
          3,
          2,
          2,
          21,
          1,
          3,
          7,
          1,
          3,
          65,
          16,
          11,
          9,
          4,
          3,
          32,
          1,
          4,
          1,
          2,
          5,
          6,
          2,
          9,
          12,
          3,
          2,
          12,
          2,
          2,
          6,
          5,
          1,
          4,
          1,
          4,
          1,
          1,
          8,
          1,
          1,
          1,
          1,
          3,
          4,
          5,
          5,
          23,
          2,
          9,
          19,
          3,
          206,
          2,
          3,
          1,
          1,
          1,
          1,
          4,
          40,
          24,
          8,
          8,
          1,
          24,
          1,
          2,
          9,
          15,
          94,
          9,
          1,
          51,
          6,
          1,
          1,
          1,
          21,
          1,
          39,
          16,
          56,
          2,
          1,
          1,
          1,
          2,
          2,
          4,
          1,
          3,
          15,
          60,
          13,
          15,
          9,
          20,
          10,
          1,
          43,
          1,
          97,
          46,
          2,
          1,
          1,
          5,
          5,
          1,
          1,
          3,
          3,
          40,
          1,
          5,
          8,
          8,
          2,
          2,
          1,
          2,
          7,
          3,
          3,
          2,
          1,
          1,
          1,
          4,
          8,
          8,
          40,
          2,
          21,
          31,
          2,
          8,
          1,
          117,
          3,
          11,
          39,
          1,
          2,
          5,
          1,
          3,
          117,
          3,
          3,
          10,
          1,
          2,
          5,
          3,
          1,
          1,
          11,
          11,
          3,
          3,
          10,
          1,
          2,
          2,
          82,
          2,
          1,
          14,
          8,
          5,
          1,
          1,
          5,
          4,
          9,
          5,
          4,
          6,
          4,
          3,
          2,
          2,
          1,
          3,
          36,
          5,
          6,
          12,
          22,
          2,
          23,
          4,
          2,
          2,
          1,
          2,
          9,
          90,
          2,
          4,
          1,
          2,
          6,
          1,
          3,
          2,
          1,
          34,
          16,
          4,
          1,
          1,
          1,
          4,
          3,
          16,
          2,
          4,
          1,
          3,
          8,
          1,
          1,
          2,
          15,
          1,
          21,
          1,
          2,
          1,
          2,
          4,
          1,
          12,
          2,
          1,
          1,
          1,
          2,
          3,
          6,
          1,
          3,
          10,
          20,
          3,
          2,
          1,
          2,
          2,
          53,
          2,
          2,
          4,
          7,
          14,
          8,
          6,
          8,
          1,
          2,
          32,
          1,
          1,
          3,
          3,
          5,
          2,
          3,
          35,
          1,
          2,
          5,
          4,
          4,
          1,
          1,
          18,
          1,
          1,
          2,
          2,
          2,
          1,
          2,
          2,
          1,
          1,
          5,
          2,
          1,
          2,
          123,
          3,
          1,
          2,
          1,
          8,
          1,
          5,
          4,
          13,
          3,
          2,
          13,
          1,
          2,
          4,
          7,
          49,
          24,
          50,
          4,
          3,
          6,
          1,
          5,
          42,
          20,
          12,
          1,
          13,
          1,
          9,
          2,
          45,
          1,
          3,
          181,
          250,
          116,
          5,
          1,
          53,
          3,
          1,
          1,
          1,
          2,
          1,
          82,
          2,
          11,
          3,
          5,
          3,
          1,
          1,
          44,
          87,
          1,
          1,
          3,
          1,
          7,
          2,
          17,
          1,
          4,
          5,
          2,
          4,
          5,
          2,
          1,
          1,
          1,
          7,
          4,
          1,
          5,
          3,
          3,
          1,
          8,
          1,
          4,
          6,
          315,
          1,
          5,
          14,
          1,
          1,
          23,
          5,
          11,
          11,
          2,
          3,
          59,
          1,
          4,
          1,
          1,
          1,
          3,
          2,
          3,
          2,
          3,
          4,
          5,
          13,
          4,
          3,
          8,
          3,
          11,
          1,
          14,
          1,
          1,
          8,
          8,
          1,
          1,
          1,
          11,
          1,
          1,
          7,
          9,
          2,
          1,
          1,
          30,
          11,
          1,
          10,
          5,
          3,
          2,
          3,
          1,
          4,
          2,
          8,
          3,
          24,
          1,
          25,
          2,
          16,
          10,
          6,
          10,
          2,
          3,
          4,
          4,
          4,
          3,
          8,
          6,
          7,
          1,
          2,
          189,
          53,
          1,
          2,
          4,
          3,
          1,
          2,
          2,
          5,
          1,
          1,
          5,
          1,
          3,
          5,
          5,
          17,
          3,
          2,
          24,
          5,
          14,
          1,
          1,
          4,
          3,
          1,
          1,
          3,
          5,
          2,
          1,
          10,
          1,
          3,
          4,
          2,
          4,
          3,
          9,
          1,
          1,
          2,
          1,
          2,
          27,
          10,
          2,
          1,
          2,
          4,
          58,
          2,
          3,
          1,
          1,
          1,
          1,
          8,
          43,
          20,
          2,
          2,
          2,
          24,
          1,
          3,
          1,
          31,
          3,
          1,
          3,
          9,
          16,
          11,
          25,
          84,
          3,
          1,
          6,
          406,
          26,
          2,
          2,
          2,
          9,
          3,
          3,
          1,
          4,
          9,
          5,
          3,
          4,
          22,
          7,
          3,
          1,
          2,
          5,
          1,
          3,
          3,
          3,
          1,
          1,
          2,
          3,
          1,
          1,
          6,
          1,
          2,
          21,
          1,
          13,
          1,
          1,
          4,
          2,
          1,
          1,
          1,
          1,
          1,
          5,
          2,
          2,
          1,
          5,
          6,
          16,
          24,
          1,
          1,
          2,
          2,
          5,
          13,
          1,
          9,
          1,
          6,
          2,
          3,
          36,
          7,
          1,
          1,
          8,
          2,
          2,
          1,
          5,
          4,
          1,
          1,
          4,
          13,
          4,
          1,
          6,
          3,
          4,
          1,
          9,
          1,
          1,
          2,
          2,
          1,
          1,
          2,
          1,
          1,
          1,
          5,
          2,
          7,
          1,
          1,
          1,
          1,
          7,
          12,
          1,
          68,
          6,
          2,
          3,
          2,
          4,
          1,
          1,
          6,
          1,
          2,
          10,
          1,
          3,
          1,
          2,
          1,
          1,
          235,
          6,
          2,
          1,
          1,
          1,
          1,
          1,
          1,
          6,
          1,
          3,
          1,
          1,
          16,
          1,
          1,
          1,
          2,
          1,
          2,
          1,
          1,
          1,
          3,
          5,
          1,
          1,
          1,
          5,
          1,
          1,
          2,
          1,
          5,
          6,
          1,
          1,
          3,
          1,
          1,
          2,
          1,
          1,
          3,
          7,
          3,
          1,
          1,
          1,
          1,
          1,
          2,
          9,
          8,
          2,
          1,
          1,
          6,
          1,
          2,
          2,
          2,
          12,
          5,
          2,
          6,
          2,
          12,
          11,
          2,
          7,
          2,
          5,
          4,
          2,
          1,
          21,
          6,
          1,
          1,
          33,
          2,
          3,
          2,
          1,
          2,
          10,
          62,
          7,
          1,
          1,
          4,
          1,
          2,
          2,
          1,
          5,
          2,
          10,
          4,
          1,
          1,
          5,
          4,
          25,
          2,
          9,
          8,
          3,
          3,
          3,
          13,
          4,
          2,
          16,
          3,
          4,
          2,
          3,
          2,
          119,
          15,
          3,
          2,
          3,
          3,
          4,
          2,
          2,
          2,
          2,
          3,
          3,
          7,
          7,
          2,
          1,
          3,
          2,
          5,
          1,
          2,
          92,
          1,
          3,
          8,
          9,
          2,
          4,
          1,
          2,
          41,
          3,
          9,
          10,
          64,
          1,
          1,
          1,
          1,
          586,
          2,
          4,
          2,
          16,
          3,
          3,
          2,
          13,
          1,
          2,
          1,
          1,
          5,
          1,
          1,
          1,
          2,
          2,
          4,
          9,
          2,
          10,
          2,
          4,
          5,
          5,
          3,
          5,
          1,
          1,
          6,
          1,
          1,
          7,
          5,
          2,
          4,
          1,
          3,
          2,
          1,
          2,
          14,
          1,
          1,
          2,
          1,
          5,
          1,
          1,
          1,
          2,
          1,
          3,
          1,
          1,
          4,
          2,
          1,
          1,
          1,
          7,
          1,
          2,
          1,
          8,
          1,
          4,
          1,
          4,
          4,
          17,
          1,
          3,
          1,
          4,
          1,
          1,
          1,
          1,
          1,
          3,
          1,
          1,
          1,
          1,
          3,
          1,
          1,
          1,
          2,
          6,
          19,
          4,
          3,
          2,
          17,
          2,
          1,
          2,
          7,
          1,
          6,
          1,
          1,
          6,
          1,
          1,
          1,
          3,
          7,
          1,
          1,
          269,
          1,
          4,
          4,
          1,
          3,
          1,
          1,
          1,
          34,
          2,
          2,
          1,
          2,
          1,
          3,
          2,
          7,
          9,
          3,
          10,
          52,
          34,
          9,
          4,
          52,
          3,
          6,
          12,
          6,
          1,
          13,
          2,
          1,
          1,
          3,
          5,
          1,
          1,
          4,
          2,
          1,
          1,
          2,
          2,
          12,
          2,
          10,
          25,
          2,
          2,
          3,
          10,
          1,
          1,
          37,
          1,
          48,
          6,
          4,
          1,
          2,
          8,
          5,
          1,
          3,
          6,
          146,
          22,
          4,
          3,
          7,
          4,
          37,
          5,
          3,
          59,
          3,
          6,
          2,
          1,
          1,
          3,
          24,
          1,
          11,
          1,
          3,
          1,
          7,
          1462,
          4,
          1,
          5,
          25,
          1,
          1,
          1,
          4,
          2,
          3,
          2,
          1,
          9,
          28,
          1,
          4,
          2,
          2,
          5,
          3,
          1,
          1,
          70,
          15,
          1,
          50,
          5,
          1,
          11,
          2,
          7,
          1,
          1,
          1,
          2,
          5,
          63,
          1,
          9,
          9,
          1,
          12,
          1,
          1,
          1,
          1,
          2,
          7,
          5,
          2,
          4,
          2,
          2,
          22,
          1,
          2,
          6,
          2,
          1,
          6,
          4,
          7,
          3,
          2,
          2,
          15,
          1,
          19,
          8,
          3,
          3,
          5,
          2,
          1,
          1,
          4,
          3,
          3,
          2,
          1,
          2,
          15,
          1,
          19,
          1,
          2,
          13,
          3,
          297,
          2,
          2,
          2,
          6,
          8,
          5,
          17,
          2,
          1,
          9,
          4,
          29,
          16,
          1,
          1,
          1,
          2,
          229,
          32,
          3,
          1,
          7,
          2,
          25,
          1,
          2,
          23,
          2,
          7,
          3,
          4,
          4,
          2,
          1,
          3,
          3,
          8,
          1,
          4,
          1,
          8,
          6,
          1,
          4,
          1,
          8,
          1,
          1,
          9,
          18,
          13,
          1,
          10,
          2,
          3,
          49,
          8,
          1,
          35,
          11,
          2,
          51,
          1,
          4,
          5,
          1,
          2,
          2,
          4,
          69,
          6,
          7,
          7,
          14,
          3,
          1,
          4,
          135,
          8,
          9,
          2,
          1,
          1,
          6,
          7,
          5,
          18,
          1,
          7,
          1,
          3,
          2,
          2,
          1,
          6,
          6,
          4,
          3,
          1,
          5,
          5,
          5,
          4,
          6,
          15,
          1,
          21,
          6,
          2,
          2,
          1,
          1,
          3,
          1,
          4,
          1,
          1,
          4,
          5,
          9,
          3,
          2,
          1,
          4,
          2,
          3,
          3,
          1,
          11,
          1,
          3,
          1,
          1,
          2,
          3,
          2,
          1,
          2,
          106,
          10,
          1,
          3,
          1,
          2,
          2,
          19,
          4,
          1,
          5,
          1,
          2,
          4,
          9,
          1,
          1,
          22,
          10,
          15,
          2,
          1,
          2,
          2,
          22,
          11,
          4,
          7,
          4,
          4,
          70,
          3,
          2,
          1,
          2,
          7,
          39,
          26,
          1,
          3,
          3,
          3,
          3,
          2,
          8,
          1,
          2,
          1,
          1,
          81,
          4,
          13,
          75,
          7,
          27,
          25,
          3,
          4,
          1,
          1,
          13,
          41,
          14,
          119,
          109,
          1,
          1,
          14,
          21,
          116,
          20,
          6,
          1,
          8,
          240,
          15,
          5,
          6,
          13,
          19,
          7,
          13,
          1,
          4,
          24,
          1,
          262,
          2,
          6,
          2,
          11,
          4,
          23,
          18,
          3,
          55,
          2,
          1,
          42,
          5,
          13,
          17,
          45,
          17,
          1,
          34,
          4,
          1,
          1,
          223,
          9,
          1,
          72,
          33,
          13,
          109,
          25,
          12,
          73,
          28,
          19,
          13,
          89,
          16,
          712,
          98,
          144,
          365,
          66,
          11,
          35,
          17,
          31,
          2,
          12,
          1,
          174,
          45,
          1,
          13,
          15,
          7,
          6,
          1,
          1,
          5,
          52,
          13,
          2,
          115,
          27,
          3,
          6,
          135,
          6611,
          1,
          1,
          1,
          1,
          7,
          1,
          4,
          6,
          31,
          23,
          14,
          341,
          15,
          114,
          3,
          1,
          12,
          44,
          1,
          4,
          5,
          39,
          23,
          9,
          4,
          9,
          57,
          15,
          1,
          6,
          93,
          22,
          2,
          8,
          1,
          33,
          5,
          1,
          28,
          4,
          35,
          7,
          2,
          226,
          2,
          1,
          3,
          1,
          2,
          1,
          7,
          1,
          1,
          3,
          3,
          1,
          1,
          1,
          10,
          3,
          1,
          2,
          2,
          1,
          8,
          2,
          1,
          1,
          1,
          1,
          1,
          3,
          1,
          2,
          2,
          1,
          2,
          1,
          1,
          1,
          1,
          3,
          2,
          1,
          4,
          1,
          1,
          2,
          1,
          5,
          5,
          1,
          2,
          1,
          1,
          1,
          25,
          11,
          202,
          2,
          4,
          57,
          3,
          9,
          1,
          2,
          2,
          1,
          2,
          4,
          1,
          2,
          1,
          1,
          3,
          1,
          3,
          1,
          1,
          3,
          2,
          2,
          1,
          1,
          2,
          1,
          1,
          4,
          2,
          1,
          1,
          3,
          1,
          1,
          1,
          3,
          1,
          1,
          12,
          2,
          1,
          1,
          12,
          1,
          1,
          1,
          3,
          2,
          1,
          6,
          3,
          5,
          7,
          9,
          3,
          1,
          1,
          1,
          2,
          2,
          4,
          7,
          107,
          2,
          7,
          2,
          3,
          2,
          3,
          18,
          44,
          1,
          2,
          2,
          1,
          1,
          2,
          34,
          1,
          1,
          1,
          1,
          50,
          2,
          1,
          4,
          4,
          2,
          1,
          9,
          5,
          2,
          8,
          3,
          3,
          2,
          33,
          31,
          7,
          1,
          1,
          1,
          5,
          1,
          2,
          3,
          41,
          13,
          1,
          1,
          1,
          1,
          6,
          3,
          2,
          1,
          6,
          4,
          31,
          67,
          2,
          13,
          1,
          2,
          2,
          6,
          36,
          2,
          3,
          4,
          4,
          18,
          14,
          202,
          38,
          2,
          3,
          2,
          1,
          1,
          4,
          24,
          20,
          7,
          1,
          4,
          213,
          5,
          1,
          1,
          2,
          7,
          4,
          16,
          2,
          1,
          4,
          5,
          1,
          1,
          3,
          4,
          1,
          2,
          1,
          1,
          2,
          2,
          3,
          32,
          4,
          1,
          2,
          1,
          18,
          5,
          10,
          2,
          1,
          13,
          11,
          8,
          3,
          1,
          53,
          1,
          1,
          6,
          5,
          5,
          41,
          16,
          1,
          13,
          1,
          28,
          1,
          2,
          14,
          12,
          1,
          2,
          1,
          14,
          10,
          1,
          3,
          1,
          8,
          9,
          2,
          30,
          1,
          1,
          80,
          28,
          1,
          29,
          18,
          2,
          2,
          1,
          7,
          1,
          1,
          2,
          2,
          20,
          17,
          50,
          3,
          13,
          3,
          2,
          1,
          2,
          1,
          9,
          1,
          1,
          13,
          1,
          1,
          8,
          3,
          1,
          2,
          10,
          1,
          13,
          1,
          47,
          3,
          1,
          1,
          2,
          1,
          3,
          1,
          20,
          1,
          1,
          1,
          2,
          3,
          1,
          1,
          2,
          1,
          1,
          31,
          1,
          3,
          10,
          1,
          6,
          2,
          3,
          1,
          4,
          1,
          1,
          2,
          3,
          2,
          8,
          15,
          1,
          1,
          5,
          2,
          1,
          120,
          1,
          34,
          1,
          1,
          4,
          15,
          4,
          17,
          3,
          3,
          1,
          1,
          12,
          112,
          1,
          3,
          4,
          180,
          1,
          1,
          5,
          1,
          1,
          3,
          1,
          10,
          1326,
          1,
          5,
          1,
          1,
          1,
          2,
          2,
          4,
          2,
          1,
          2,
          3,
          1,
          122,
          6,
          2,
          2,
          10,
          6,
          4,
          12,
          4,
          1,
          6,
          9,
          2,
          2,
          61,
          188,
          1,
          30,
          12,
          2,
          11,
          26,
          43,
          17,
          2,
          4,
          1,
          8,
          7,
          1,
          15,
          1,
          2,
          5,
          23,
          7,
          1,
          1,
          7,
          65,
          14,
          9,
          1,
          2,
          1,
          1,
          12,
          6,
          3,
          2,
          25,
          40,
          5,
          2,
          1,
          1,
          1,
          9,
          1,
          3,
          1,
          1,
          1,
          2,
          3,
          5,
          2,
          5,
          1,
          35,
          15,
          1,
          9,
          1,
          6,
          21,
          11,
          1,
          1,
          3,
          5,
          12,
          1,
          3,
          16,
          25,
          1,
          3,
          6,
          6,
          12,
          1,
          11,
          3,
          11,
          3,
          3,
          3,
          2,
          1,
          1,
          48,
          22,
          1,
          3,
          1,
          24,
          3,
          18,
          1,
          58,
          12,
          1,
          2,
          3,
          3,
          1,
          1,
          1,
          7,
          2,
          1,
          5,
          1,
          2,
          1,
          1,
          1,
          2,
          1,
          3,
          1,
          5,
          2,
          2,
          6,
          11,
          15,
          3,
          2,
          1,
          1,
          4,
          1,
          2,
          4,
          4,
          97,
          3,
          11,
          3,
          1,
          16,
          1,
          6,
          20,
          3,
          183,
          2,
          1,
          15,
          2,
          20,
          57,
          32,
          3,
          1,
          20,
          7,
          3,
          7,
          14,
          4,
          27,
          10,
          5,
          6,
          1,
          8,
          2,
          1,
          1,
          48,
          51,
          4,
          43,
          6,
          1,
          1,
          8,
          4,
          73,
          20,
          4,
          21,
          3,
          1,
          11,
          478,
          67,
          12,
          15,
          1,
          1,
          20,
          5,
          26,
          3,
          3,
          6,
          5,
          2,
          1,
          13,
          4,
          9,
          4,
          2,
          13,
          21,
          4,
          33,
          4,
          26,
          1,
          2,
          6,
          5,
          3,
          4,
          3,
          8,
          72,
          46,
          42,
          12,
          9,
          14,
          2,
          4,
          2,
          72,
          13,
          26,
          260,
          1,
          81,
          13,
          1,
          5,
          8,
          1,
          1,
          1,
          3,
          5,
          1,
          28,
          3,
          2,
          10,
          3,
          3,
          2,
          2,
          1,
          6,
          1,
          27,
          2,
          3,
          2,
          6,
          3,
          1,
          8,
          5,
          1,
          1,
          88,
          6,
          4,
          3,
          5,
          8,
          1,
          7,
          2,
          2,
          17,
          2,
          3,
          9,
          6,
          8,
          1,
          3,
          9,
          14,
          3,
          4,
          1,
          7,
          1,
          4,
          2,
          2,
          4,
          3,
          33,
          1,
          3,
          13,
          1,
          3,
          7,
          1,
          4,
          3,
          6,
          1,
          2,
          1,
          1,
          12,
          43,
          1,
          1,
          5,
          1,
          2,
          10,
          1,
          2,
          9,
          104,
          4,
          3,
          10,
          2,
          40,
          2,
          4,
          9,
          6,
          4,
          10,
          1,
          16,
          61,
          3,
          14,
          1,
          27,
          3,
          17,
          1,
          11,
          5,
          5,
          53,
          2,
          1,
          4,
          1,
          3,
          10,
          1,
          5,
          47,
          3,
          28,
          2,
          9,
          2,
          1,
          219,
          3,
          1,
          1,
          1,
          2,
          2,
          2,
          3,
          1,
          9,
          1,
          1,
          1,
          14,
          2,
          1,
          1,
          1,
          11,
          1,
          1,
          1,
          1,
          2,
          1,
          1,
          14,
          1,
          1,
          1,
          4,
          4,
          1,
          1,
          1,
          7,
          3,
          1,
          7,
          1,
          2,
          2,
          3,
          35,
          5,
          1,
          10,
          10,
          23,
          3,
          16,
          3,
          1,
          4,
          13,
          2,
          8,
          2,
          220,
          15,
          1,
          61,
          4,
          41,
          8,
          1,
          1,
          23,
          1,
          1,
          2,
          6,
          9,
          116,
          11,
          1,
          4,
          2,
          150,
          89,
          19,
          4,
          3,
          3,
          5,
          42,
          56,
          8,
          79,
          154,
          10,
          7,
          60,
          3,
          1,
          7,
          1,
          5,
          6,
          1,
          15,
          27,
          3,
          72,
          17,
          419,
          1,
          15,
          26,
          267,
          50,
          2,
          4,
          47,
          8,
          76,
          10,
          11,
          5,
          6,
          48,
          17,
          18,
          1,
          9,
          1,
          99,
          87,
          53,
          5,
          10,
          12,
          10,
          9,
          2,
          5,
          4,
          63,
          25,
          10,
          7,
          112,
          2,
          82,
          16,
          8,
          9,
          2,
          1397,
          47,
          24,
          8,
          16,
          2,
          2,
          21,
          3,
          34,
          2,
          88,
          283,
          37,
          6,
          13,
          11,
          70,
          6,
          9,
          6,
          17,
          28,
          12,
          10,
          12,
          4,
          8,
          5,
          18,
          9,
          16,
          2,
          2,
          2,
          42,
          6,
          7,
          242,
          23,
          4,
          3,
          54,
          65,
          10,
          15,
          1,
          13,
          272,
          7,
          2,
          11,
          8,
          28,
          9,
          4,
          2,
          6,
          5,
          1,
          1,
          31,
          141,
          45,
          1,
          1,
          12,
          2,
          18,
          2,
          5,
          2,
          3,
          1,
          10,
          6,
          53,
          1,
          107,
          1,
          2,
          4,
          1,
          158,
          92,
          104,
          1,
          1,
          28,
          3,
          2,
          7,
          2,
          2,
          34,
          8,
          6,
          3,
          8,
          4,
          2,
          5,
          1,
          18,
          11,
          93,
          3,
          5,
          14,
          156,
          59,
          1151,
          1,
          1,
          3,
          23,
          119,
          24,
          6,
          2,
          1,
          12,
          7,
          5,
          22,
          1,
          29,
          8,
          5,
          4,
          7,
          5,
          14,
          4,
          24,
          45,
          269,
          3,
          3,
          3,
          7,
          16,
          2,
          4,
          17,
          1,
          4,
          6,
          7,
          10,
          10,
          2,
          77,
          97,
          77,
          51,
          169,
          53,
          2,
          28,
          11,
          6,
          7,
          166,
          27,
          6,
          94,
          4,
          1,
          2,
          6,
          131,
          44,
          30,
          3,
          52,
          8,
          180,
          8,
          2,
          5,
          67,
          1,
          27,
          1,
          4,
          79,
          13,
          18,
          53,
          19,
          1,
          4,
          3,
          12,
          2,
          2,
          530,
          17,
          14,
          10,
          20,
          3,
          17,
          4,
          1,
          48,
          26,
          19,
          181,
          9,
          54,
          78,
          2,
          42,
          12,
          2,
          7,
          3,
          3,
          1,
          12,
          1,
          4,
          2,
          23,
          74,
          3,
          8,
          6,
          2,
          165,
          2,
          4,
          8,
          30,
          52,
          299,
          15,
          4,
          1,
          13,
          3,
          1,
          5,
          12,
          2,
          29,
          32,
          370,
          29,
          4,
          62,
          55,
          11,
          13,
          2,
          41,
          32,
          9,
          19,
          1,
          38,
          1,
          10,
          7,
          3,
          2,
          1,
          2,
          1,
          6,
          3,
          8,
          2,
          2,
          2,
          8,
          18,
          1,
          1,
          1,
          28,
          1,
          16,
          3,
          5,
          38,
          1,
          3,
          5,
          28,
          716,
          3,
          15,
          79,
          3,
          11,
          6,
          10,
          1,
          6,
          17,
          5,
          19,
          10,
          15,
          2,
          6,
          4,
          1,
          15,
          1,
          2,
          3,
          68,
          1,
          5,
          57,
          20,
          3,
          1,
          2,
          34,
          4,
          9,
          33,
          3,
          19,
          1,
          43,
          1,
          23,
          12,
          96,
          2,
          12,
          1,
          9,
          21,
          360,
          18,
          12,
          8,
          14,
          13,
          67,
          9,
          17,
          1,
          73,
          3,
          17,
          4,
          13,
          2,
          1,
          1,
          2,
          22,
          26,
          2,
          9,
          8,
          10,
          292,
          2,
          6,
          22,
          158,
          26,
          9,
          31,
          3,
          13,
          1,
          2,
          4,
          5,
          21,
          2,
          1,
          10,
          3,
          46,
          3,
          7,
          2,
          3,
          96,
          427,
          11,
          61,
          2,
          1,
          3,
          149,
          11,
          24,
          3,
          1,
          4,
          5,
          2,
          1,
          3,
          5,
          6,
          10,
          2,
          4,
          93,
          13,
          1,
          15,
          7,
          8,
          95,
          9,
          20,
          1,
          3,
          9,
          34,
          2,
          33,
          12,
          28,
          3,
          2,
          2,
          3,
          16,
          12,
          1,
          124,
          52,
          14,
          623,
          145,
          3,
          19,
          1,
          5,
          2,
          1,
          690,
          7,
          792,
          189,
          198,
          41,
          3,
          31,
          2,
          42,
          286,
          566,
          12,
          3,
          20,
          12,
          12697,
          2,
          52,
          40,
          4,
          9,
          147,
          2,
          1,
          1,
          14,
          13,
          52,
          9,
          4,
          5,
          3,
          18,
          609,
          5,
          147,
          30,
          1,
          221,
          116,
          77,
          28,
          2,
          3,
          42,
          98,
          35,
          2272,
          12,
          25,
          13,
          12,
          12,
          5,
          197,
          87,
          2,
          10,
          1,
          5,
          19,
          11,
          1,
          2,
          11,
          35,
          16,
          3,
          5,
          9,
          73,
          232,
          34,
          1,
          2,
          12,
          1,
          3,
          37,
          4,
          5,
          1,
          36,
          5,
          1,
          47,
          6,
          6,
          1,
          72,
          1,
          3,
          3,
          10,
          3,
          178,
          8,
          2,
          14,
          43,
          61,
          1,
          10,
          94,
          18,
          3,
          84,
          61,
          14,
          2,
          3,
          1,
          2,
          1,
          5,
          1,
          1,
          1,
          24,
          4,
          16,
          1,
          2,
          1,
          2,
          2,
          1,
          2,
          1,
          1,
          3,
          2,
          1,
          3,
          2,
          3,
          7,
          1,
          1,
          1,
          1,
          3,
          2,
          4,
          22,
          5,
          1,
          2,
          1,
          1,
          1,
          1,
          90,
          10,
          2,
          3,
          1,
          1,
          2,
          1,
          8,
          1,
          1,
          1,
          1,
          1,
          3,
          7,
          3
         ]
        }
       ],
       "layout": {
        "height": 580,
        "mapbox": {
         "center": {
          "lat": -15,
          "lon": -54.2
         },
         "style": "carto-positron",
         "zoom": 3.2
        },
        "margin": {
         "b": 0,
         "l": 0,
         "r": 0,
         "t": 35
        },
        "paper_bgcolor": "#fafaf7",
        "plot_bgcolor": "#fafaf7",
        "template": {
         "data": {
          "bar": [
           {
            "error_x": {
             "color": "#2a3f5f"
            },
            "error_y": {
             "color": "#2a3f5f"
            },
            "marker": {
             "line": {
              "color": "white",
              "width": 0.5
             },
             "pattern": {
              "fillmode": "overlay",
              "size": 10,
              "solidity": 0.2
             }
            },
            "type": "bar"
           }
          ],
          "barpolar": [
           {
            "marker": {
             "line": {
              "color": "white",
              "width": 0.5
             },
             "pattern": {
              "fillmode": "overlay",
              "size": 10,
              "solidity": 0.2
             }
            },
            "type": "barpolar"
           }
          ],
          "carpet": [
           {
            "aaxis": {
             "endlinecolor": "#2a3f5f",
             "gridcolor": "#C8D4E3",
             "linecolor": "#C8D4E3",
             "minorgridcolor": "#C8D4E3",
             "startlinecolor": "#2a3f5f"
            },
            "baxis": {
             "endlinecolor": "#2a3f5f",
             "gridcolor": "#C8D4E3",
             "linecolor": "#C8D4E3",
             "minorgridcolor": "#C8D4E3",
             "startlinecolor": "#2a3f5f"
            },
            "type": "carpet"
           }
          ],
          "choropleth": [
           {
            "colorbar": {
             "outlinewidth": 0,
             "ticks": ""
            },
            "type": "choropleth"
           }
          ],
          "contour": [
           {
            "colorbar": {
             "outlinewidth": 0,
             "ticks": ""
            },
            "colorscale": [
             [
              0,
              "#0d0887"
             ],
             [
              0.1111111111111111,
              "#46039f"
             ],
             [
              0.2222222222222222,
              "#7201a8"
             ],
             [
              0.3333333333333333,
              "#9c179e"
             ],
             [
              0.4444444444444444,
              "#bd3786"
             ],
             [
              0.5555555555555556,
              "#d8576b"
             ],
             [
              0.6666666666666666,
              "#ed7953"
             ],
             [
              0.7777777777777778,
              "#fb9f3a"
             ],
             [
              0.8888888888888888,
              "#fdca26"
             ],
             [
              1,
              "#f0f921"
             ]
            ],
            "type": "contour"
           }
          ],
          "contourcarpet": [
           {
            "colorbar": {
             "outlinewidth": 0,
             "ticks": ""
            },
            "type": "contourcarpet"
           }
          ],
          "heatmap": [
           {
            "colorbar": {
             "outlinewidth": 0,
             "ticks": ""
            },
            "colorscale": [
             [
              0,
              "#0d0887"
             ],
             [
              0.1111111111111111,
              "#46039f"
             ],
             [
              0.2222222222222222,
              "#7201a8"
             ],
             [
              0.3333333333333333,
              "#9c179e"
             ],
             [
              0.4444444444444444,
              "#bd3786"
             ],
             [
              0.5555555555555556,
              "#d8576b"
             ],
             [
              0.6666666666666666,
              "#ed7953"
             ],
             [
              0.7777777777777778,
              "#fb9f3a"
             ],
             [
              0.8888888888888888,
              "#fdca26"
             ],
             [
              1,
              "#f0f921"
             ]
            ],
            "type": "heatmap"
           }
          ],
          "heatmapgl": [
           {
            "colorbar": {
             "outlinewidth": 0,
             "ticks": ""
            },
            "colorscale": [
             [
              0,
              "#0d0887"
             ],
             [
              0.1111111111111111,
              "#46039f"
             ],
             [
              0.2222222222222222,
              "#7201a8"
             ],
             [
              0.3333333333333333,
              "#9c179e"
             ],
             [
              0.4444444444444444,
              "#bd3786"
             ],
             [
              0.5555555555555556,
              "#d8576b"
             ],
             [
              0.6666666666666666,
              "#ed7953"
             ],
             [
              0.7777777777777778,
              "#fb9f3a"
             ],
             [
              0.8888888888888888,
              "#fdca26"
             ],
             [
              1,
              "#f0f921"
             ]
            ],
            "type": "heatmapgl"
           }
          ],
          "histogram": [
           {
            "marker": {
             "pattern": {
              "fillmode": "overlay",
              "size": 10,
              "solidity": 0.2
             }
            },
            "type": "histogram"
           }
          ],
          "histogram2d": [
           {
            "colorbar": {
             "outlinewidth": 0,
             "ticks": ""
            },
            "colorscale": [
             [
              0,
              "#0d0887"
             ],
             [
              0.1111111111111111,
              "#46039f"
             ],
             [
              0.2222222222222222,
              "#7201a8"
             ],
             [
              0.3333333333333333,
              "#9c179e"
             ],
             [
              0.4444444444444444,
              "#bd3786"
             ],
             [
              0.5555555555555556,
              "#d8576b"
             ],
             [
              0.6666666666666666,
              "#ed7953"
             ],
             [
              0.7777777777777778,
              "#fb9f3a"
             ],
             [
              0.8888888888888888,
              "#fdca26"
             ],
             [
              1,
              "#f0f921"
             ]
            ],
            "type": "histogram2d"
           }
          ],
          "histogram2dcontour": [
           {
            "colorbar": {
             "outlinewidth": 0,
             "ticks": ""
            },
            "colorscale": [
             [
              0,
              "#0d0887"
             ],
             [
              0.1111111111111111,
              "#46039f"
             ],
             [
              0.2222222222222222,
              "#7201a8"
             ],
             [
              0.3333333333333333,
              "#9c179e"
             ],
             [
              0.4444444444444444,
              "#bd3786"
             ],
             [
              0.5555555555555556,
              "#d8576b"
             ],
             [
              0.6666666666666666,
              "#ed7953"
             ],
             [
              0.7777777777777778,
              "#fb9f3a"
             ],
             [
              0.8888888888888888,
              "#fdca26"
             ],
             [
              1,
              "#f0f921"
             ]
            ],
            "type": "histogram2dcontour"
           }
          ],
          "mesh3d": [
           {
            "colorbar": {
             "outlinewidth": 0,
             "ticks": ""
            },
            "type": "mesh3d"
           }
          ],
          "parcoords": [
           {
            "line": {
             "colorbar": {
              "outlinewidth": 0,
              "ticks": ""
             }
            },
            "type": "parcoords"
           }
          ],
          "pie": [
           {
            "automargin": true,
            "type": "pie"
           }
          ],
          "scatter": [
           {
            "fillpattern": {
             "fillmode": "overlay",
             "size": 10,
             "solidity": 0.2
            },
            "type": "scatter"
           }
          ],
          "scatter3d": [
           {
            "line": {
             "colorbar": {
              "outlinewidth": 0,
              "ticks": ""
             }
            },
            "marker": {
             "colorbar": {
              "outlinewidth": 0,
              "ticks": ""
             }
            },
            "type": "scatter3d"
           }
          ],
          "scattercarpet": [
           {
            "marker": {
             "colorbar": {
              "outlinewidth": 0,
              "ticks": ""
             }
            },
            "type": "scattercarpet"
           }
          ],
          "scattergeo": [
           {
            "marker": {
             "colorbar": {
              "outlinewidth": 0,
              "ticks": ""
             }
            },
            "type": "scattergeo"
           }
          ],
          "scattergl": [
           {
            "marker": {
             "colorbar": {
              "outlinewidth": 0,
              "ticks": ""
             }
            },
            "type": "scattergl"
           }
          ],
          "scattermapbox": [
           {
            "marker": {
             "colorbar": {
              "outlinewidth": 0,
              "ticks": ""
             }
            },
            "type": "scattermapbox"
           }
          ],
          "scatterpolar": [
           {
            "marker": {
             "colorbar": {
              "outlinewidth": 0,
              "ticks": ""
             }
            },
            "type": "scatterpolar"
           }
          ],
          "scatterpolargl": [
           {
            "marker": {
             "colorbar": {
              "outlinewidth": 0,
              "ticks": ""
             }
            },
            "type": "scatterpolargl"
           }
          ],
          "scatterternary": [
           {
            "marker": {
             "colorbar": {
              "outlinewidth": 0,
              "ticks": ""
             }
            },
            "type": "scatterternary"
           }
          ],
          "surface": [
           {
            "colorbar": {
             "outlinewidth": 0,
             "ticks": ""
            },
            "colorscale": [
             [
              0,
              "#0d0887"
             ],
             [
              0.1111111111111111,
              "#46039f"
             ],
             [
              0.2222222222222222,
              "#7201a8"
             ],
             [
              0.3333333333333333,
              "#9c179e"
             ],
             [
              0.4444444444444444,
              "#bd3786"
             ],
             [
              0.5555555555555556,
              "#d8576b"
             ],
             [
              0.6666666666666666,
              "#ed7953"
             ],
             [
              0.7777777777777778,
              "#fb9f3a"
             ],
             [
              0.8888888888888888,
              "#fdca26"
             ],
             [
              1,
              "#f0f921"
             ]
            ],
            "type": "surface"
           }
          ],
          "table": [
           {
            "cells": {
             "fill": {
              "color": "#EBF0F8"
             },
             "line": {
              "color": "white"
             }
            },
            "header": {
             "fill": {
              "color": "#C8D4E3"
             },
             "line": {
              "color": "white"
             }
            },
            "type": "table"
           }
          ]
         },
         "layout": {
          "annotationdefaults": {
           "arrowcolor": "#2a3f5f",
           "arrowhead": 0,
           "arrowwidth": 1
          },
          "autotypenumbers": "strict",
          "coloraxis": {
           "colorbar": {
            "outlinewidth": 0,
            "ticks": ""
           }
          },
          "colorscale": {
           "diverging": [
            [
             0,
             "#8e0152"
            ],
            [
             0.1,
             "#c51b7d"
            ],
            [
             0.2,
             "#de77ae"
            ],
            [
             0.3,
             "#f1b6da"
            ],
            [
             0.4,
             "#fde0ef"
            ],
            [
             0.5,
             "#f7f7f7"
            ],
            [
             0.6,
             "#e6f5d0"
            ],
            [
             0.7,
             "#b8e186"
            ],
            [
             0.8,
             "#7fbc41"
            ],
            [
             0.9,
             "#4d9221"
            ],
            [
             1,
             "#276419"
            ]
           ],
           "sequential": [
            [
             0,
             "#0d0887"
            ],
            [
             0.1111111111111111,
             "#46039f"
            ],
            [
             0.2222222222222222,
             "#7201a8"
            ],
            [
             0.3333333333333333,
             "#9c179e"
            ],
            [
             0.4444444444444444,
             "#bd3786"
            ],
            [
             0.5555555555555556,
             "#d8576b"
            ],
            [
             0.6666666666666666,
             "#ed7953"
            ],
            [
             0.7777777777777778,
             "#fb9f3a"
            ],
            [
             0.8888888888888888,
             "#fdca26"
            ],
            [
             1,
             "#f0f921"
            ]
           ],
           "sequentialminus": [
            [
             0,
             "#0d0887"
            ],
            [
             0.1111111111111111,
             "#46039f"
            ],
            [
             0.2222222222222222,
             "#7201a8"
            ],
            [
             0.3333333333333333,
             "#9c179e"
            ],
            [
             0.4444444444444444,
             "#bd3786"
            ],
            [
             0.5555555555555556,
             "#d8576b"
            ],
            [
             0.6666666666666666,
             "#ed7953"
            ],
            [
             0.7777777777777778,
             "#fb9f3a"
            ],
            [
             0.8888888888888888,
             "#fdca26"
            ],
            [
             1,
             "#f0f921"
            ]
           ]
          },
          "colorway": [
           "#636efa",
           "#EF553B",
           "#00cc96",
           "#ab63fa",
           "#FFA15A",
           "#19d3f3",
           "#FF6692",
           "#B6E880",
           "#FF97FF",
           "#FECB52"
          ],
          "font": {
           "color": "#2a3f5f"
          },
          "geo": {
           "bgcolor": "white",
           "lakecolor": "white",
           "landcolor": "white",
           "showlakes": true,
           "showland": true,
           "subunitcolor": "#C8D4E3"
          },
          "hoverlabel": {
           "align": "left"
          },
          "hovermode": "closest",
          "mapbox": {
           "style": "light"
          },
          "paper_bgcolor": "white",
          "plot_bgcolor": "white",
          "polar": {
           "angularaxis": {
            "gridcolor": "#EBF0F8",
            "linecolor": "#EBF0F8",
            "ticks": ""
           },
           "bgcolor": "white",
           "radialaxis": {
            "gridcolor": "#EBF0F8",
            "linecolor": "#EBF0F8",
            "ticks": ""
           }
          },
          "scene": {
           "xaxis": {
            "backgroundcolor": "white",
            "gridcolor": "#DFE8F3",
            "gridwidth": 2,
            "linecolor": "#EBF0F8",
            "showbackground": true,
            "ticks": "",
            "zerolinecolor": "#EBF0F8"
           },
           "yaxis": {
            "backgroundcolor": "white",
            "gridcolor": "#DFE8F3",
            "gridwidth": 2,
            "linecolor": "#EBF0F8",
            "showbackground": true,
            "ticks": "",
            "zerolinecolor": "#EBF0F8"
           },
           "zaxis": {
            "backgroundcolor": "white",
            "gridcolor": "#DFE8F3",
            "gridwidth": 2,
            "linecolor": "#EBF0F8",
            "showbackground": true,
            "ticks": "",
            "zerolinecolor": "#EBF0F8"
           }
          },
          "shapedefaults": {
           "line": {
            "color": "#2a3f5f"
           }
          },
          "ternary": {
           "aaxis": {
            "gridcolor": "#DFE8F3",
            "linecolor": "#A2B1C6",
            "ticks": ""
           },
           "baxis": {
            "gridcolor": "#DFE8F3",
            "linecolor": "#A2B1C6",
            "ticks": ""
           },
           "bgcolor": "white",
           "caxis": {
            "gridcolor": "#DFE8F3",
            "linecolor": "#A2B1C6",
            "ticks": ""
           }
          },
          "title": {
           "x": 0.05
          },
          "xaxis": {
           "automargin": true,
           "gridcolor": "#EBF0F8",
           "linecolor": "#EBF0F8",
           "ticks": "",
           "title": {
            "standoff": 15
           },
           "zerolinecolor": "#EBF0F8",
           "zerolinewidth": 2
          },
          "yaxis": {
           "automargin": true,
           "gridcolor": "#EBF0F8",
           "linecolor": "#EBF0F8",
           "ticks": "",
           "title": {
            "standoff": 15
           },
           "zerolinecolor": "#EBF0F8",
           "zerolinewidth": 2
          }
         }
        },
        "title": {
         "font": {
          "color": "#66757e"
         },
         "text": "Spacial distribution of customers"
        },
        "width": 600
       }
      }
     },
     "metadata": {},
     "output_type": "display_data"
    }
   ],
   "source": [
    "# Spacial distribution of customers\n",
    "fig = go.Figure(\n",
    "    go.Densitymapbox(\n",
    "        lat=customers_location[\"centroid_lat\"],\n",
    "        lon=customers_location[\"centroid_lng\"],\n",
    "        z=customers_location[\"n_customers\"],\n",
    "        radius=35,\n",
    "        showscale=True,\n",
    "        hovertemplate=\"City: %{customdata[0]} <br>State: %{customdata[1]} <br>Number of Customers: %{z:,}\",\n",
    "        customdata=customers_location[[\"geolocation_city\", \"geolocation_state\"]],\n",
    "        colorbar=dict(outlinecolor=\"rgba(0,0,0,0)\")\n",
    "    )\n",
    ")\n",
    "\n",
    "fig.update_layout(\n",
    "    title={\n",
    "        \"text\": \"Spacial distribution of customers\",\n",
    "        \"font\": {\"color\": \"#66757e\"},\n",
    "    },\n",
    "    plot_bgcolor=\"#fafaf7\",\n",
    "    paper_bgcolor=\"#fafaf7\",\n",
    "    width=600,\n",
    "    height=580,\n",
    "    mapbox_style=\"carto-positron\",\n",
    "    mapbox_center = dict(lat = -15, lon = -54.2),\n",
    "    mapbox_zoom = 3.2,\n",
    "    margin={\"r\": 0, \"t\": 35, \"l\": 0, \"b\": 0}\n",
    ")\n",
    "\n",
    "\n",
    "fig.show()"
   ]
  },
  {
   "cell_type": "code",
   "execution_count": 180,
   "metadata": {},
   "outputs": [
    {
     "data": {
      "application/vnd.plotly.v1+json": {
       "config": {
        "plotlyServerURL": "https://plot.ly"
       },
       "data": [
        {
         "colorbar": {
          "outlinecolor": "rgba(0,0,0,0)"
         },
         "customdata": [
          [
           "rio branco",
           "AC"
          ],
          [
           "manaus",
           "AM"
          ],
          [
           "arraial d'ajuda",
           "BA"
          ],
          [
           "barro alto",
           "BA"
          ],
          [
           "eunapolis",
           "BA"
          ],
          [
           "feira de santana",
           "BA"
          ],
          [
           "guanambi",
           "BA"
          ],
          [
           "ilheus",
           "BA"
          ],
          [
           "ipira",
           "BA"
          ],
          [
           "irece",
           "BA"
          ],
          [
           "lauro de freitas",
           "BA"
          ],
          [
           "paulo afonso",
           "BA"
          ],
          [
           "porto seguro",
           "BA"
          ],
          [
           "salvador",
           "BA"
          ],
          [
           "caucaia",
           "CE"
          ],
          [
           "eusebio",
           "CE"
          ],
          [
           "fortaleza",
           "CE"
          ],
          [
           "juazeiro do norte",
           "CE"
          ],
          [
           "mucambo",
           "CE"
          ],
          [
           "pacatuba",
           "CE"
          ],
          [
           "várzea alegre",
           "CE"
          ],
          [
           "brasilia",
           "DF"
          ],
          [
           "brasília",
           "DF"
          ],
          [
           "guara",
           "DF"
          ],
          [
           "afonso claudio",
           "ES"
          ],
          [
           "cachoeiro de itapemirim",
           "ES"
          ],
          [
           "cariacica",
           "ES"
          ],
          [
           "colatina",
           "ES"
          ],
          [
           "domingos martins",
           "ES"
          ],
          [
           "muqui",
           "ES"
          ],
          [
           "serra",
           "ES"
          ],
          [
           "viana",
           "ES"
          ],
          [
           "vila velha",
           "ES"
          ],
          [
           "vitoria",
           "ES"
          ],
          [
           "vitória",
           "ES"
          ],
          [
           "abadia de goias",
           "GO"
          ],
          [
           "anapolis",
           "GO"
          ],
          [
           "aparecida de goiania",
           "GO"
          ],
          [
           "formosa",
           "GO"
          ],
          [
           "goiania",
           "GO"
          ],
          [
           "goiânia",
           "GO"
          ],
          [
           "jaraguá",
           "GO"
          ],
          [
           "luziania",
           "GO"
          ],
          [
           "morrinhos",
           "GO"
          ],
          [
           "piracanjuba",
           "GO"
          ],
          [
           "rio verde",
           "GO"
          ],
          [
           "santa terezinha de goias",
           "GO"
          ],
          [
           "uruacu",
           "GO"
          ],
          [
           "sao luis",
           "MA"
          ],
          [
           "alfenas",
           "MG"
          ],
          [
           "andradas",
           "MG"
          ],
          [
           "araguari",
           "MG"
          ],
          [
           "araxa",
           "MG"
          ],
          [
           "araxá",
           "MG"
          ],
          [
           "arinos",
           "MG"
          ],
          [
           "baependi",
           "MG"
          ],
          [
           "barbacena",
           "MG"
          ],
          [
           "belo horizonte",
           "MG"
          ],
          [
           "betim",
           "MG"
          ],
          [
           "bonfinopolis de minas",
           "MG"
          ],
          [
           "borda da mata",
           "MG"
          ],
          [
           "camanducaia",
           "MG"
          ],
          [
           "campanha",
           "MG"
          ],
          [
           "campo do meio",
           "MG"
          ],
          [
           "caratinga",
           "MG"
          ],
          [
           "carmo da mata",
           "MG"
          ],
          [
           "carmo do cajuru",
           "MG"
          ],
          [
           "cataguases",
           "MG"
          ],
          [
           "claudio",
           "MG"
          ],
          [
           "congonhal",
           "MG"
          ],
          [
           "congonhas",
           "MG"
          ],
          [
           "conselheiro lafaiete",
           "MG"
          ],
          [
           "contagem",
           "MG"
          ],
          [
           "coronel fabriciano",
           "MG"
          ],
          [
           "divinopolis",
           "MG"
          ],
          [
           "divisa nova",
           "MG"
          ],
          [
           "dores de campos",
           "MG"
          ],
          [
           "extrema",
           "MG"
          ],
          [
           "formiga",
           "MG"
          ],
          [
           "fronteira",
           "MG"
          ],
          [
           "governador valadares",
           "MG"
          ],
          [
           "guanhaes",
           "MG"
          ],
          [
           "guiricema",
           "MG"
          ],
          [
           "ibia",
           "MG"
          ],
          [
           "ibirite",
           "MG"
          ],
          [
           "ilicinea",
           "MG"
          ],
          [
           "ipatinga",
           "MG"
          ],
          [
           "itabira",
           "MG"
          ],
          [
           "itau de minas",
           "MG"
          ],
          [
           "itauna",
           "MG"
          ],
          [
           "jacutinga",
           "MG"
          ],
          [
           "janauba",
           "MG"
          ],
          [
           "joao monlevade",
           "MG"
          ],
          [
           "joao pinheiro",
           "MG"
          ],
          [
           "juiz de fora",
           "MG"
          ],
          [
           "lagoa da prata",
           "MG"
          ],
          [
           "lagoa santa",
           "MG"
          ],
          [
           "lambari",
           "MG"
          ],
          [
           "mateus leme",
           "MG"
          ],
          [
           "monte siao",
           "MG"
          ],
          [
           "montes claros",
           "MG"
          ],
          [
           "muriae",
           "MG"
          ],
          [
           "nova lima",
           "MG"
          ],
          [
           "oliveira",
           "MG"
          ],
          [
           "ouro fino",
           "MG"
          ],
          [
           "ouro preto",
           "MG"
          ],
          [
           "pará de minas",
           "MG"
          ],
          [
           "passos",
           "MG"
          ],
          [
           "patos de minas",
           "MG"
          ],
          [
           "pedro leopoldo",
           "MG"
          ],
          [
           "pocos de caldas",
           "MG"
          ],
          [
           "ponte nova",
           "MG"
          ],
          [
           "pouso alegre",
           "MG"
          ],
          [
           "prados",
           "MG"
          ],
          [
           "ribeirao das neves",
           "MG"
          ],
          [
           "sabara",
           "MG"
          ],
          [
           "santa rita do sapucaí",
           "MG"
          ],
          [
           "sao joao del rei",
           "MG"
          ],
          [
           "sete lagoas",
           "MG"
          ],
          [
           "teofilo otoni",
           "MG"
          ],
          [
           "timoteo",
           "MG"
          ],
          [
           "tiradentes",
           "MG"
          ],
          [
           "tocantins",
           "MG"
          ],
          [
           "tres coracoes",
           "MG"
          ],
          [
           "uba",
           "MG"
          ],
          [
           "uberaba",
           "MG"
          ],
          [
           "uberlandia",
           "MG"
          ],
          [
           "uberlândia",
           "MG"
          ],
          [
           "varginha",
           "MG"
          ],
          [
           "vespasiano",
           "MG"
          ],
          [
           "vicosa",
           "MG"
          ],
          [
           "campo grande",
           "MS"
          ],
          [
           "coxim",
           "MS"
          ],
          [
           "cuiaba",
           "MT"
          ],
          [
           "jaciara",
           "MT"
          ],
          [
           "sinop",
           "MT"
          ],
          [
           "campina grande",
           "PB"
          ],
          [
           "joao pessoa",
           "PB"
          ],
          [
           "mamanguape",
           "PB"
          ],
          [
           "sao bento",
           "PB"
          ],
          [
           "serra redonda",
           "PB"
          ],
          [
           "brejão",
           "PE"
          ],
          [
           "caruaru",
           "PE"
          ],
          [
           "recife",
           "PE"
          ],
          [
           "vitoria de santo antao",
           "PE"
          ],
          [
           "teresina",
           "PI"
          ],
          [
           "almirante tamandare",
           "PR"
          ],
          [
           "ampere",
           "PR"
          ],
          [
           "apucarana",
           "PR"
          ],
          [
           "arapongas",
           "PR"
          ],
          [
           "araucaria",
           "PR"
          ],
          [
           "bandeirantes",
           "PR"
          ],
          [
           "barra do jacare",
           "PR"
          ],
          [
           "bocaiuva do sul",
           "PR"
          ],
          [
           "california",
           "PR"
          ],
          [
           "cambe",
           "PR"
          ],
          [
           "campo largo",
           "PR"
          ],
          [
           "campo magro",
           "PR"
          ],
          [
           "campo mourao",
           "PR"
          ],
          [
           "cascavel",
           "PR"
          ],
          [
           "castro",
           "PR"
          ],
          [
           "cianorte",
           "PR"
          ],
          [
           "colombo",
           "PR"
          ],
          [
           "colorado",
           "PR"
          ],
          [
           "cornelio procopio",
           "PR"
          ],
          [
           "curitiba",
           "PR"
          ],
          [
           "entre rios do oeste",
           "PR"
          ],
          [
           "fazenda rio grande",
           "PR"
          ],
          [
           "floresta",
           "PR"
          ],
          [
           "formosa do oeste",
           "PR"
          ],
          [
           "foz do iguacu",
           "PR"
          ],
          [
           "francisco beltrao",
           "PR"
          ],
          [
           "goioere",
           "PR"
          ],
          [
           "guaira",
           "PR"
          ],
          [
           "guarapuava",
           "PR"
          ],
          [
           "guaratuba",
           "PR"
          ],
          [
           "imbituva",
           "PR"
          ],
          [
           "irati",
           "PR"
          ],
          [
           "itaipulandia",
           "PR"
          ],
          [
           "japira",
           "PR"
          ],
          [
           "jussara",
           "PR"
          ],
          [
           "laranjeiras do sul",
           "PR"
          ],
          [
           "loanda",
           "PR"
          ],
          [
           "londrina",
           "PR"
          ],
          [
           "mandaguacu",
           "PR"
          ],
          [
           "mandaguari",
           "PR"
          ],
          [
           "mandirituba",
           "PR"
          ],
          [
           "marechal candido rondon",
           "PR"
          ],
          [
           "marialva",
           "PR"
          ],
          [
           "maringa",
           "PR"
          ],
          [
           "maringá",
           "PR"
          ],
          [
           "medianeira",
           "PR"
          ],
          [
           "paicandu",
           "PR"
          ],
          [
           "palotina",
           "PR"
          ],
          [
           "paranavaí",
           "PR"
          ],
          [
           "pato bragado",
           "PR"
          ],
          [
           "pato branco",
           "PR"
          ],
          [
           "pinhais",
           "PR"
          ],
          [
           "pinhalao",
           "PR"
          ],
          [
           "pitanga",
           "PR"
          ],
          [
           "ponta grossa",
           "PR"
          ],
          [
           "rolandia",
           "PR"
          ],
          [
           "rolândia",
           "PR"
          ],
          [
           "santa terezinha de itaipu",
           "PR"
          ],
          [
           "sao jose dos pinhais",
           "PR"
          ],
          [
           "sarandi",
           "PR"
          ],
          [
           "sertanopolis",
           "PR"
          ],
          [
           "são josé dos pinhais",
           "PR"
          ],
          [
           "teixeira soares",
           "PR"
          ],
          [
           "terra boa",
           "PR"
          ],
          [
           "toledo",
           "PR"
          ],
          [
           "umuarama",
           "PR"
          ],
          [
           "uniao da vitoria",
           "PR"
          ],
          [
           "angra dos reis",
           "RJ"
          ],
          [
           "aperibe",
           "RJ"
          ],
          [
           "armacao dos buzios",
           "RJ"
          ],
          [
           "barra mansa",
           "RJ"
          ],
          [
           "belford roxo",
           "RJ"
          ],
          [
           "boa esperança",
           "RJ"
          ],
          [
           "bom jardim",
           "RJ"
          ],
          [
           "campos dos goytacazes",
           "RJ"
          ],
          [
           "duque de caxias",
           "RJ"
          ],
          [
           "itaborai",
           "RJ"
          ],
          [
           "itaboraí",
           "RJ"
          ],
          [
           "macae",
           "RJ"
          ],
          [
           "mage",
           "RJ"
          ],
          [
           "maricá",
           "RJ"
          ],
          [
           "mesquita",
           "RJ"
          ],
          [
           "nilopolis",
           "RJ"
          ],
          [
           "niteroi",
           "RJ"
          ],
          [
           "nova friburgo",
           "RJ"
          ],
          [
           "nova iguacu",
           "RJ"
          ],
          [
           "paracambi",
           "RJ"
          ],
          [
           "paraiba do sul",
           "RJ"
          ],
          [
           "petropolis",
           "RJ"
          ],
          [
           "petrópolis",
           "RJ"
          ],
          [
           "queimados",
           "RJ"
          ],
          [
           "resende",
           "RJ"
          ],
          [
           "rio bonito",
           "RJ"
          ],
          [
           "rio de janeiro",
           "RJ"
          ],
          [
           "santo antônio de pádua",
           "RJ"
          ],
          [
           "sao goncalo",
           "RJ"
          ],
          [
           "sao joao de meriti",
           "RJ"
          ],
          [
           "sao pedro da aldeia",
           "RJ"
          ],
          [
           "saquarema",
           "RJ"
          ],
          [
           "são gonçalo",
           "RJ"
          ],
          [
           "são joão de meriti",
           "RJ"
          ],
          [
           "teresopolis",
           "RJ"
          ],
          [
           "tres rios",
           "RJ"
          ],
          [
           "vassouras",
           "RJ"
          ],
          [
           "volta redonda",
           "RJ"
          ],
          [
           "messias targino",
           "RN"
          ],
          [
           "natal",
           "RN"
          ],
          [
           "parnamirim",
           "RN"
          ],
          [
           "ji-paraná",
           "RO"
          ],
          [
           "porto velho",
           "RO"
          ],
          [
           "alvorada",
           "RS"
          ],
          [
           "arvorezinha",
           "RS"
          ],
          [
           "bagé",
           "RS"
          ],
          [
           "bento goncalves",
           "RS"
          ],
          [
           "cachoeira do sul",
           "RS"
          ],
          [
           "cachoeirinha",
           "RS"
          ],
          [
           "campina das missoes",
           "RS"
          ],
          [
           "campo bom",
           "RS"
          ],
          [
           "canoas",
           "RS"
          ],
          [
           "carazinho",
           "RS"
          ],
          [
           "caxias do sul",
           "RS"
          ],
          [
           "condor",
           "RS"
          ],
          [
           "erechim",
           "RS"
          ],
          [
           "estância velha",
           "RS"
          ],
          [
           "farroupilha",
           "RS"
          ],
          [
           "flores da cunha",
           "RS"
          ],
          [
           "horizontina",
           "RS"
          ],
          [
           "igrejinha",
           "RS"
          ],
          [
           "imbe",
           "RS"
          ],
          [
           "imigrante",
           "RS"
          ],
          [
           "ipe",
           "RS"
          ],
          [
           "ivoti",
           "RS"
          ],
          [
           "jacutinga",
           "RS"
          ],
          [
           "lajeado",
           "RS"
          ],
          [
           "montenegro",
           "RS"
          ],
          [
           "nova petropolis",
           "RS"
          ],
          [
           "novo hamburgo",
           "RS"
          ],
          [
           "parai",
           "RS"
          ],
          [
           "paraíso do sul",
           "RS"
          ],
          [
           "pelotas",
           "RS"
          ],
          [
           "portao",
           "RS"
          ],
          [
           "porto alegre",
           "RS"
          ],
          [
           "rio grande",
           "RS"
          ],
          [
           "rolante",
           "RS"
          ],
          [
           "ronda alta",
           "RS"
          ],
          [
           "santa cruz do sul",
           "RS"
          ],
          [
           "santa maria",
           "RS"
          ],
          [
           "santa rosa",
           "RS"
          ],
          [
           "santo angelo",
           "RS"
          ],
          [
           "santo antonio da patrulha",
           "RS"
          ],
          [
           "sao leopoldo",
           "RS"
          ],
          [
           "sapiranga",
           "RS"
          ],
          [
           "soledade",
           "RS"
          ],
          [
           "são leopoldo",
           "RS"
          ],
          [
           "torres",
           "RS"
          ],
          [
           "tres coroas",
           "RS"
          ],
          [
           "tres de maio",
           "RS"
          ],
          [
           "triunfo",
           "RS"
          ],
          [
           "uruguaiana",
           "RS"
          ],
          [
           "vale dos vinhedos",
           "RS"
          ],
          [
           "venancio aires",
           "RS"
          ],
          [
           "viamao",
           "RS"
          ],
          [
           "araquari",
           "SC"
          ],
          [
           "ararangua",
           "SC"
          ],
          [
           "balneario camboriu",
           "SC"
          ],
          [
           "balneario picarras",
           "SC"
          ],
          [
           "barra velha",
           "SC"
          ],
          [
           "blumenau",
           "SC"
          ],
          [
           "bombinhas",
           "SC"
          ],
          [
           "braco do norte",
           "SC"
          ],
          [
           "brusque",
           "SC"
          ],
          [
           "cacador",
           "SC"
          ],
          [
           "camboriu",
           "SC"
          ],
          [
           "campos novos",
           "SC"
          ],
          [
           "canoinhas",
           "SC"
          ],
          [
           "chapeco",
           "SC"
          ],
          [
           "chapecó",
           "SC"
          ],
          [
           "concordia",
           "SC"
          ],
          [
           "cordilheira alta",
           "SC"
          ],
          [
           "criciuma",
           "SC"
          ],
          [
           "curitibanos",
           "SC"
          ],
          [
           "florianopolis",
           "SC"
          ],
          [
           "florianópolis",
           "SC"
          ],
          [
           "garopaba",
           "SC"
          ],
          [
           "garuva",
           "SC"
          ],
          [
           "gaspar",
           "SC"
          ],
          [
           "icara",
           "SC"
          ],
          [
           "imbituba",
           "SC"
          ],
          [
           "indaial",
           "SC"
          ],
          [
           "itajai",
           "SC"
          ],
          [
           "itajaí",
           "SC"
          ],
          [
           "itapema",
           "SC"
          ],
          [
           "jaguaruna",
           "SC"
          ],
          [
           "jaragua do sul",
           "SC"
          ],
          [
           "jaraguá do sul",
           "SC"
          ],
          [
           "joinville",
           "SC"
          ],
          [
           "lages",
           "SC"
          ],
          [
           "laguna",
           "SC"
          ],
          [
           "laurentino",
           "SC"
          ],
          [
           "luiz alves",
           "SC"
          ],
          [
           "massaranduba",
           "SC"
          ],
          [
           "navegantes",
           "SC"
          ],
          [
           "nova trento",
           "SC"
          ],
          [
           "orleans",
           "SC"
          ],
          [
           "palhoca",
           "SC"
          ],
          [
           "palhoça",
           "SC"
          ],
          [
           "paulo lopes",
           "SC"
          ],
          [
           "pinhalzinho",
           "SC"
          ],
          [
           "porto belo",
           "SC"
          ],
          [
           "presidente getulio",
           "SC"
          ],
          [
           "rio do oeste",
           "SC"
          ],
          [
           "rio do sul",
           "SC"
          ],
          [
           "rio negrinho",
           "SC"
          ],
          [
           "rodeio",
           "SC"
          ],
          [
           "santa cecilia",
           "SC"
          ],
          [
           "sao bento do sul",
           "SC"
          ],
          [
           "sao jose",
           "SC"
          ],
          [
           "sao miguel do oeste",
           "SC"
          ],
          [
           "sombrio",
           "SC"
          ],
          [
           "são francisco do sul",
           "SC"
          ],
          [
           "são josé",
           "SC"
          ],
          [
           "são ludgero",
           "SC"
          ],
          [
           "taió",
           "SC"
          ],
          [
           "timbo",
           "SC"
          ],
          [
           "treze tilias",
           "SC"
          ],
          [
           "tubarao",
           "SC"
          ],
          [
           "videira",
           "SC"
          ],
          [
           "xanxere",
           "SC"
          ],
          [
           "xaxim",
           "SC"
          ],
          [
           "aracaju",
           "SE"
          ],
          [
           "neopolis",
           "SE"
          ],
          [
           "alambari",
           "SP"
          ],
          [
           "alvares machado",
           "SP"
          ],
          [
           "americana",
           "SP"
          ],
          [
           "amparo",
           "SP"
          ],
          [
           "aparecida",
           "SP"
          ],
          [
           "aracatuba",
           "SP"
          ],
          [
           "araraquara",
           "SP"
          ],
          [
           "araras",
           "SP"
          ],
          [
           "araçatuba",
           "SP"
          ],
          [
           "artur nogueira",
           "SP"
          ],
          [
           "aruja",
           "SP"
          ],
          [
           "arujá",
           "SP"
          ],
          [
           "assis",
           "SP"
          ],
          [
           "atibaia",
           "SP"
          ],
          [
           "auriflama",
           "SP"
          ],
          [
           "avare",
           "SP"
          ],
          [
           "bady bassitt",
           "SP"
          ],
          [
           "bariri",
           "SP"
          ],
          [
           "barretos",
           "SP"
          ],
          [
           "barrinha",
           "SP"
          ],
          [
           "barueri",
           "SP"
          ],
          [
           "batatais",
           "SP"
          ],
          [
           "bauru",
           "SP"
          ],
          [
           "bebedouro",
           "SP"
          ],
          [
           "bertioga",
           "SP"
          ],
          [
           "birigui",
           "SP"
          ],
          [
           "bofete",
           "SP"
          ],
          [
           "boituva",
           "SP"
          ],
          [
           "bom jesus dos perdoes",
           "SP"
          ],
          [
           "bonfim paulista",
           "SP"
          ],
          [
           "botucatu",
           "SP"
          ],
          [
           "braganca paulista",
           "SP"
          ],
          [
           "bragança paulista",
           "SP"
          ],
          [
           "brotas",
           "SP"
          ],
          [
           "buritama",
           "SP"
          ],
          [
           "cafelandia",
           "SP"
          ],
          [
           "caieiras",
           "SP"
          ],
          [
           "cajamar",
           "SP"
          ],
          [
           "campinas",
           "SP"
          ],
          [
           "campo limpo paulista",
           "SP"
          ],
          [
           "cananeia",
           "SP"
          ],
          [
           "capivari",
           "SP"
          ],
          [
           "carapicuiba",
           "SP"
          ],
          [
           "catanduva",
           "SP"
          ],
          [
           "cerqueira césar",
           "SP"
          ],
          [
           "clementina",
           "SP"
          ],
          [
           "conchal",
           "SP"
          ],
          [
           "cordeiropolis",
           "SP"
          ],
          [
           "cosmopolis",
           "SP"
          ],
          [
           "cotia",
           "SP"
          ],
          [
           "cravinhos",
           "SP"
          ],
          [
           "cruzeiro",
           "SP"
          ],
          [
           "descalvado",
           "SP"
          ],
          [
           "diadema",
           "SP"
          ],
          [
           "dois corregos",
           "SP"
          ],
          [
           "dracena",
           "SP"
          ],
          [
           "echapora",
           "SP"
          ],
          [
           "embu das artes",
           "SP"
          ],
          [
           "embu-guacu",
           "SP"
          ],
          [
           "engenheiro coelho",
           "SP"
          ],
          [
           "fernando prestes",
           "SP"
          ],
          [
           "fernandopolis",
           "SP"
          ],
          [
           "fernandópolis",
           "SP"
          ],
          [
           "ferraz de vasconcelos",
           "SP"
          ],
          [
           "franca",
           "SP"
          ],
          [
           "francisco morato",
           "SP"
          ],
          [
           "franco da rocha",
           "SP"
          ],
          [
           "garca",
           "SP"
          ],
          [
           "guaimbe",
           "SP"
          ],
          [
           "guaira",
           "SP"
          ],
          [
           "guara",
           "SP"
          ],
          [
           "guaratingueta",
           "SP"
          ],
          [
           "guariba",
           "SP"
          ],
          [
           "guaruja",
           "SP"
          ],
          [
           "guarujá",
           "SP"
          ],
          [
           "guarulhos",
           "SP"
          ],
          [
           "holambra",
           "SP"
          ],
          [
           "hortolandia",
           "SP"
          ],
          [
           "ibitinga",
           "SP"
          ],
          [
           "igaracu do tiete",
           "SP"
          ],
          [
           "indaiatuba",
           "SP"
          ],
          [
           "ipaussu",
           "SP"
          ],
          [
           "ipua",
           "SP"
          ],
          [
           "itajobi",
           "SP"
          ],
          [
           "itapecerica da serra",
           "SP"
          ],
          [
           "itapetininga",
           "SP"
          ],
          [
           "itapeva",
           "SP"
          ],
          [
           "itapevi",
           "SP"
          ],
          [
           "itaporanga",
           "SP"
          ],
          [
           "itapuí",
           "SP"
          ],
          [
           "itaquaquecetuba",
           "SP"
          ],
          [
           "itatiba",
           "SP"
          ],
          [
           "itirapina",
           "SP"
          ],
          [
           "itu",
           "SP"
          ],
          [
           "jaboticabal",
           "SP"
          ],
          [
           "jacarei",
           "SP"
          ],
          [
           "jaci",
           "SP"
          ],
          [
           "jaguariuna",
           "SP"
          ],
          [
           "jaguariúna",
           "SP"
          ],
          [
           "jales",
           "SP"
          ],
          [
           "jambeiro",
           "SP"
          ],
          [
           "jarinu",
           "SP"
          ],
          [
           "jau",
           "SP"
          ],
          [
           "jaú",
           "SP"
          ],
          [
           "jundiai",
           "SP"
          ],
          [
           "jundiaí",
           "SP"
          ],
          [
           "laranjal paulista",
           "SP"
          ],
          [
           "leme",
           "SP"
          ],
          [
           "lencois paulista",
           "SP"
          ],
          [
           "lençóis paulista",
           "SP"
          ],
          [
           "limeira",
           "SP"
          ],
          [
           "lorena",
           "SP"
          ],
          [
           "louveira",
           "SP"
          ],
          [
           "macatuba",
           "SP"
          ],
          [
           "mairinque",
           "SP"
          ],
          [
           "mairipora",
           "SP"
          ],
          [
           "marapoama",
           "SP"
          ],
          [
           "marilia",
           "SP"
          ],
          [
           "marília",
           "SP"
          ],
          [
           "maua",
           "SP"
          ],
          [
           "miguelopolis",
           "SP"
          ],
          [
           "mineiros do tiete",
           "SP"
          ],
          [
           "mirandopolis",
           "SP"
          ],
          [
           "mirassol",
           "SP"
          ],
          [
           "mococa",
           "SP"
          ],
          [
           "mogi das cruzes",
           "SP"
          ],
          [
           "mogi guacu",
           "SP"
          ],
          [
           "mogi mirim",
           "SP"
          ],
          [
           "mogi-guacu",
           "SP"
          ],
          [
           "mombuca",
           "SP"
          ],
          [
           "monte alto",
           "SP"
          ],
          [
           "monteiro lobato",
           "SP"
          ],
          [
           "nhandeara",
           "SP"
          ],
          [
           "nova odessa",
           "SP"
          ],
          [
           "novo horizonte",
           "SP"
          ],
          [
           "olimpia",
           "SP"
          ],
          [
           "orlandia",
           "SP"
          ],
          [
           "osasco",
           "SP"
          ],
          [
           "osvaldo cruz",
           "SP"
          ],
          [
           "ourinhos",
           "SP"
          ],
          [
           "paulinia",
           "SP"
          ],
          [
           "paulínia",
           "SP"
          ],
          [
           "pederneiras",
           "SP"
          ],
          [
           "pedregulho",
           "SP"
          ],
          [
           "pedreira",
           "SP"
          ],
          [
           "pedrinhas paulista",
           "SP"
          ],
          [
           "penapolis",
           "SP"
          ],
          [
           "penápolis",
           "SP"
          ],
          [
           "pilar do sul",
           "SP"
          ],
          [
           "pindamonhangaba",
           "SP"
          ],
          [
           "pinhalzinho",
           "SP"
          ],
          [
           "piracicaba",
           "SP"
          ],
          [
           "pirassununga",
           "SP"
          ],
          [
           "pitangueiras",
           "SP"
          ],
          [
           "poa",
           "SP"
          ],
          [
           "pompéia",
           "SP"
          ],
          [
           "porto ferreira",
           "SP"
          ],
          [
           "pradopolis",
           "SP"
          ],
          [
           "praia grande",
           "SP"
          ],
          [
           "presidente bernardes",
           "SP"
          ],
          [
           "presidente epitacio",
           "SP"
          ],
          [
           "presidente prudente",
           "SP"
          ],
          [
           "presidente venceslau",
           "SP"
          ],
          [
           "registro",
           "SP"
          ],
          [
           "ribeirao pires",
           "SP"
          ],
          [
           "ribeirao preto",
           "SP"
          ],
          [
           "ribeirão pires",
           "SP"
          ],
          [
           "ribeirão preto",
           "SP"
          ],
          [
           "rio claro",
           "SP"
          ],
          [
           "rio das pedras",
           "SP"
          ],
          [
           "salto",
           "SP"
          ],
          [
           "santa barbara d'oeste",
           "SP"
          ],
          [
           "santa bárbara d'oeste",
           "SP"
          ],
          [
           "santa maria da serra",
           "SP"
          ],
          [
           "santa rosa de viterbo",
           "SP"
          ],
          [
           "santana de parnaiba",
           "SP"
          ],
          [
           "santana de parnaíba",
           "SP"
          ],
          [
           "santo andre",
           "SP"
          ],
          [
           "santo andré",
           "SP"
          ],
          [
           "santo antonio de posse",
           "SP"
          ],
          [
           "santos",
           "SP"
          ],
          [
           "sao bernardo do campo",
           "SP"
          ],
          [
           "sao caetano do sul",
           "SP"
          ],
          [
           "sao carlos",
           "SP"
          ],
          [
           "sao joaquim da barra",
           "SP"
          ],
          [
           "sao jose do rio pardo",
           "SP"
          ],
          [
           "sao jose do rio preto",
           "SP"
          ],
          [
           "sao jose dos campos",
           "SP"
          ],
          [
           "sao paulo",
           "SP"
          ],
          [
           "sao roque",
           "SP"
          ],
          [
           "sao sebastiao",
           "SP"
          ],
          [
           "sao sebastiao da grama",
           "SP"
          ],
          [
           "serra negra",
           "SP"
          ],
          [
           "serrana",
           "SP"
          ],
          [
           "socorro",
           "SP"
          ],
          [
           "sorocaba",
           "SP"
          ],
          [
           "sumare",
           "SP"
          ],
          [
           "suzano",
           "SP"
          ],
          [
           "são bernardo do campo",
           "SP"
          ],
          [
           "são caetano do sul",
           "SP"
          ],
          [
           "são carlos",
           "SP"
          ],
          [
           "são josé do rio preto",
           "SP"
          ],
          [
           "são josé dos campos",
           "SP"
          ],
          [
           "são joão da boa vista",
           "SP"
          ],
          [
           "são paulo",
           "SP"
          ],
          [
           "são pedro",
           "SP"
          ],
          [
           "são roque",
           "SP"
          ],
          [
           "são vicente",
           "SP"
          ],
          [
           "tabatinga",
           "SP"
          ],
          [
           "taboao da serra",
           "SP"
          ],
          [
           "taboão da serra",
           "SP"
          ],
          [
           "tambaú",
           "SP"
          ],
          [
           "tanabi",
           "SP"
          ],
          [
           "taruma",
           "SP"
          ],
          [
           "tatui",
           "SP"
          ],
          [
           "taubate",
           "SP"
          ],
          [
           "taubaté",
           "SP"
          ],
          [
           "tiete",
           "SP"
          ],
          [
           "tupa",
           "SP"
          ],
          [
           "tupã",
           "SP"
          ],
          [
           "ubatuba",
           "SP"
          ],
          [
           "valinhos",
           "SP"
          ],
          [
           "vargem grande do sul",
           "SP"
          ],
          [
           "vargem grande paulista",
           "SP"
          ],
          [
           "varzea paulista",
           "SP"
          ],
          [
           "vera cruz",
           "SP"
          ],
          [
           "votorantim",
           "SP"
          ],
          [
           "votuporanga",
           "SP"
          ]
         ],
         "hovertemplate": "City: %{customdata[0]} <br>State: %{customdata[1]} <br>Number of Sellers: %{z:,}",
         "lat": [
          -9.96621427193253,
          -3.0795783434247967,
          -16.400187212609048,
          -11.76948844484253,
          -16.369117016592682,
          -12.250012686237463,
          -14.223207197286886,
          -14.802256101047456,
          -12.154533930203856,
          -11.304164446373443,
          -12.884900331298656,
          -9.406979889486355,
          -16.432027097855745,
          -12.96265670995726,
          -3.737584371922989,
          -3.8780846128375694,
          -3.763107946625493,
          -7.222549481274524,
          -3.905726996478778,
          -3.926842620267336,
          -6.792557339326901,
          -15.809228063592744,
          -15.822237248199658,
          -15.802601372530393,
          -20.076844770408805,
          -20.8465038277315,
          -20.33027859704238,
          -19.52984427509196,
          -20.35383799330783,
          -20.95206473566138,
          -20.177553426226176,
          -20.361682395783628,
          -20.359641371522812,
          -20.288520696154244,
          -20.286222342231266,
          -16.76706286540188,
          -16.327353964932357,
          -16.78072302739846,
          -15.544024654910425,
          -16.684699466259676,
          -16.683246551674088,
          -15.7491870749417,
          -16.22448456894426,
          -17.733896355961825,
          -17.30349906583519,
          -17.798027631733316,
          -14.43073368841814,
          -14.518474806651268,
          -2.52997736406047,
          -21.424588981834425,
          -22.07047143353818,
          -18.64778819488765,
          -19.58983075955769,
          -19.605227525304734,
          -15.920350682439093,
          -21.961660896718744,
          -21.219352072707792,
          -19.908765632662902,
          -19.954066182129804,
          -16.562527667206663,
          -22.26258413023529,
          -22.75549974414299,
          -21.834793738633515,
          -21.109499455456902,
          -19.785631048020417,
          -20.55966811821635,
          -20.2690173748538,
          -21.387342415899255,
          -20.437204870235007,
          -21.865404185877193,
          -20.50992275165819,
          -20.658076729054834,
          -19.919039515683153,
          -19.509009469549564,
          -20.144261597007578,
          -21.509803394507347,
          -21.109897644968864,
          -22.855478223289115,
          -20.46253562176835,
          -20.279454990887864,
          -18.86415130365667,
          -18.775765183946625,
          -21.00463525274551,
          -19.515039180739823,
          -20.01354969264759,
          -20.940577532886604,
          -19.469778652462953,
          -19.634178862962685,
          -20.74428836520151,
          -20.07831096929482,
          -22.288146664323694,
          -15.807096679447229,
          -19.8209140062623,
          -17.726614794336776,
          -21.754106779516853,
          -20.024064772425362,
          -19.636520104484408,
          -21.974223701500048,
          -19.99123842180006,
          -22.430217898121075,
          -16.741643358761603,
          -21.13196684929352,
          -20.007035015080383,
          -20.698563939792177,
          -22.278485305030316,
          -20.389307949267987,
          -19.853541121211897,
          -20.722383701952456,
          -18.588562538569054,
          -19.613117562252093,
          -21.797080763874256,
          -20.41011057281399,
          -22.23472849460431,
          -21.059067150905058,
          -19.782990616789203,
          -19.883361990471105,
          -22.247210939506797,
          -21.134252707625603,
          -19.45692266227589,
          -17.86605698610435,
          -19.55383879466229,
          -21.10980791604441,
          -21.1726252218232,
          -21.69322041636581,
          -21.115047074811592,
          -19.752824783115035,
          -18.924819084521808,
          -18.90625797837352,
          -21.561327093604785,
          -19.731097253636868,
          -20.751919937681883,
          -20.470062576972285,
          -18.50726515886232,
          -15.598283107343114,
          -15.95127425196516,
          -11.858358280599054,
          -7.175882589726607,
          -7.131450657286114,
          -6.837168594957803,
          -6.491794555348289,
          -7.185330489314501,
          -9.024839005157318,
          -8.280838827967246,
          -8.068123379304994,
          -8.11598411342617,
          -5.082661896995924,
          -25.333129745030142,
          -25.91985831671865,
          -23.55524538152002,
          -23.40888332472146,
          -25.58136622156955,
          -23.111896862925292,
          -23.112718429096926,
          -25.21080605480616,
          -23.665523235370998,
          -23.28578748927598,
          -25.45952017783654,
          -25.375606922660335,
          -24.03653918179025,
          -24.95595615069685,
          -24.794469907209375,
          -23.661703591075035,
          -25.351426853426876,
          -22.837653869064955,
          -23.181161077296654,
          -25.45314573672775,
          -24.702966464945906,
          -25.655911775273868,
          -23.614374068425708,
          -24.296024477069246,
          -25.52967023016546,
          -26.070961876714943,
          -24.185936255296784,
          -24.08674452889675,
          -25.39015019812817,
          -25.887866961664873,
          -25.229677010502076,
          -25.474093335032038,
          -25.147980629391814,
          -23.8119965425153,
          -23.622748095003274,
          -25.404934780834598,
          -22.929383785209307,
          -23.314415889539116,
          -23.34495591219923,
          -23.522116589381856,
          -25.770383610713115,
          -24.554525017898506,
          -23.48392434035238,
          -23.41651909835835,
          -23.43245273797492,
          -25.29320167334103,
          -23.45682094005969,
          -24.28579720485287,
          -23.086456324962484,
          -24.625809140863744,
          -26.229265318331908,
          -25.430260607564257,
          -23.78967571984096,
          -24.75784641485761,
          -25.093201294628823,
          -23.315062766592554,
          -23.31814778205777,
          -25.442862117746696,
          -25.52933440842274,
          -23.442024635170934,
          -23.059061150910853,
          -25.54055891482209,
          -25.371975656252413,
          -23.77185835065084,
          -24.728849877646496,
          -23.76369629845646,
          -26.229776246788475,
          -22.99495173147964,
          -21.62582998898821,
          -22.766572484803717,
          -22.541153347532763,
          -22.73723765866893,
          -22.751923494229857,
          -22.15968821079869,
          -21.76166917716252,
          -22.71473796323484,
          -22.752418963886146,
          -22.752960860630623,
          -22.38092741884204,
          -22.650759202815063,
          -22.915169098719872,
          -22.78350564873647,
          -22.810959575812085,
          -22.895758043551997,
          -22.2798798190238,
          -22.74371628042343,
          -22.61483382699214,
          -22.16428987434635,
          -22.484501767783026,
          -22.453537932568928,
          -22.71467796764372,
          -22.470728000495303,
          -22.711927870432564,
          -22.914912500719826,
          -21.552859881634557,
          -22.82738328272524,
          -22.784452445569862,
          -22.82073826327908,
          -22.9110480515675,
          -22.83309074685317,
          -22.796894240900844,
          -22.419234195098664,
          -22.11066977949884,
          -22.40767287308994,
          -22.50866919780627,
          -6.079137345909716,
          -5.812242777634381,
          -5.900784348278868,
          -10.87874912180055,
          -8.790724797238356,
          -30.008429725047467,
          -28.87190543829348,
          -31.32682744485877,
          -29.161588722863655,
          -30.033962971128897,
          -29.92583764692,
          -27.986799762328445,
          -29.67704500881413,
          -29.92165587909877,
          -28.29124464593789,
          -29.163658257979236,
          -28.20732212632177,
          -27.639169118303382,
          -29.53019993208299,
          -29.267688717622974,
          -29.035257065411393,
          -27.627277989445282,
          -29.571977530057968,
          -29.949823496703946,
          -29.345230455593615,
          -28.8019037608538,
          -29.605286893562898,
          -27.728956133348813,
          -29.45567909496981,
          -29.68780422662315,
          -29.375117732594422,
          -29.690185125405122,
          -28.596703774432147,
          -29.723802873745612,
          -31.75126875864103,
          -29.694204375791138,
          -30.049248315917616,
          -32.070940240601104,
          -29.64963363646582,
          -27.78222223380718,
          -29.718987587565096,
          -29.69474002388504,
          -27.921370559268944,
          -28.299550156174373,
          -29.833102764742073,
          -29.766880912678886,
          -29.639257291805553,
          -28.827449667113736,
          -29.759875183660156,
          -29.34114246818455,
          -29.511355583933103,
          -27.77657590438832,
          -29.930632716179662,
          -29.765154720951514,
          -29.17519237322801,
          -29.61111067145766,
          -30.0763683349751,
          -26.407378348238257,
          -28.943993806506032,
          -26.99050103828521,
          -26.760771390660455,
          -26.660970150266756,
          -26.899545050254957,
          -27.15657253033492,
          -28.274304945434466,
          -27.100857082718758,
          -26.778905135291758,
          -27.02671472916707,
          -27.399055235300438,
          -26.17842967715644,
          -27.0961949533651,
          -27.09704508273053,
          -27.231909087317668,
          -26.986388569060693,
          -28.683824551422386,
          -27.290948728745207,
          -27.576338944123886,
          -27.574267966497086,
          -28.038737678812907,
          -26.034602380283914,
          -26.91708268415727,
          -28.715980124328123,
          -28.231882617674767,
          -26.89651021522555,
          -26.909543612644995,
          -26.906705616867296,
          -27.104775732474042,
          -28.633920987357754,
          -26.486052416598184,
          -26.47406695067837,
          -26.296137780383066,
          -27.813280061035268,
          -28.47572857600972,
          -27.221224290121654,
          -26.77622549900964,
          -26.610216926670343,
          -26.875806870860107,
          -27.28299944363184,
          -28.357506793762706,
          -27.651871265979267,
          -27.819735050845207,
          -27.978665492288254,
          -26.847939738284047,
          -27.15728166876613,
          -27.050238879786896,
          -27.19614273379346,
          -27.21454204086186,
          -26.25613891864582,
          -26.88932240353919,
          -26.960282815228826,
          -26.243480944602062,
          -27.586654716879675,
          -26.73341376125163,
          -29.108465252964574,
          -26.24556370537883,
          -27.577896878814723,
          -28.32938171277176,
          -27.118392469189253,
          -26.827603296905576,
          -26.998521324070396,
          -28.480718124475317,
          -27.00447650803858,
          -26.876415100422566,
          -26.959436655053853,
          -10.941346378601748,
          -10.32593083501133,
          -23.56157106605844,
          -22.07699368740586,
          -22.737256111041713,
          -22.708334832836332,
          -22.851231225609038,
          -21.205464398963223,
          -21.782712943567855,
          -22.357745988322282,
          -21.20515308100005,
          -22.571207861628345,
          -23.39973180960107,
          -23.40669015411447,
          -22.65849706222492,
          -23.123134519244505,
          -20.685083174259976,
          -23.10090897853093,
          -20.91711533777068,
          -22.074022270567585,
          -20.559626185890163,
          -21.190885638654144,
          -23.50591265074973,
          -20.89297727758808,
          -22.32668283930309,
          -20.943887781782358,
          -23.818390396829994,
          -21.29125848579632,
          -23.110602286087335,
          -23.287426948305722,
          -23.138276989175566,
          -21.254547608936228,
          -22.88213183329501,
          -22.953511803384266,
          -22.939286825031104,
          -22.282154968038324,
          -21.067287508771535,
          -21.80320059939524,
          -23.36933536039048,
          -23.361582097869213,
          -22.900868230378116,
          -23.21221676734244,
          -25.009292746688903,
          -22.997483794858958,
          -23.54637568701664,
          -21.136969013718122,
          -23.034100418770535,
          -21.56018491317655,
          -22.338398569332117,
          -22.481763564480133,
          -22.64041213430548,
          -23.610952128091473,
          -21.339337940660595,
          -22.572679309827887,
          -21.908634153727803,
          -23.68976841618049,
          -22.368024597233408,
          -21.48639335970809,
          -22.4299509636415,
          -23.654222397178394,
          -23.8351268270498,
          -22.487817723352375,
          -21.267134804144064,
          -20.284193091749795,
          -20.28445960262045,
          -23.541294272040886,
          -20.534039232025886,
          -23.280906795824283,
          -23.316172347791127,
          -22.211471483564306,
          -21.90997953797039,
          -20.3249901235719,
          -20.43217689916522,
          -22.80010889745486,
          -21.36350170979939,
          -23.978832367775745,
          -23.979963039269553,
          -23.446399588378316,
          -22.633046009436132,
          -22.887001515875895,
          -21.75732063771276,
          -22.516187213174263,
          -23.095823068459914,
          -23.055151680595838,
          -20.445531132262545,
          -21.31499774715289,
          -23.718320952615475,
          -23.587600964830155,
          -23.984094196541136,
          -23.5486294338563,
          -23.705464946211745,
          -22.23455857964727,
          -23.470259427376792,
          -23.010064480685884,
          -22.252002596014556,
          -23.286022429648437,
          -21.256827223670943,
          -23.296706427693273,
          -20.884709308834225,
          -22.693758330608247,
          -22.68889567337748,
          -20.270890432738017,
          -23.26168303044727,
          -23.096492254601632,
          -22.29089809044845,
          -22.295943935787694,
          -23.18416150077504,
          -23.220872853278074,
          -23.04955173261455,
          -22.185288219344287,
          -22.60015299912251,
          -22.598195759105366,
          -22.573478963977,
          -22.737200126738085,
          -23.08550507419915,
          -22.514093447641567,
          -23.53650295835299,
          -23.329721686232084,
          -21.256794218570786,
          -22.21499784046301,
          -22.18301719688217,
          -23.669940629866247,
          -20.182732189905014,
          -22.41339600173933,
          -21.132503677693613,
          -20.814577890354094,
          -21.46874145307076,
          -23.53040121214045,
          -22.33680961368371,
          -22.43195176725281,
          -22.36711885976565,
          -22.59885254136169,
          -21.263459220114285,
          -22.95371488210672,
          -20.6934599976426,
          -22.787374835233962,
          -21.4696009553403,
          -20.73752999199967,
          -20.716823599737285,
          -23.536564187317172,
          -21.795711019289442,
          -22.978922384368094,
          -22.759991325136166,
          -22.76992082269883,
          -22.348013116995098,
          -20.248446312480418,
          -22.74032548616481,
          -22.815272553334733,
          -21.421665072340932,
          -21.427002247037205,
          -23.81197455444591,
          -22.929384305325573,
          -22.780736129682907,
          -22.725841079430882,
          -21.9966717365306,
          -21.00987455542997,
          -23.52683203684177,
          -22.10367343012363,
          -21.866032425983516,
          -21.35993680296325,
          -24.02142365584944,
          -22.00850814387055,
          -21.773562635668824,
          -22.1215822619376,
          -21.8742882795038,
          -24.498837779550897,
          -23.70304136632647,
          -21.18253985200731,
          -23.712533114311192,
          -21.169768610108182,
          -22.40538785404829,
          -22.842321876787764,
          -23.19676253260492,
          -22.748331241088955,
          -22.740529562708684,
          -22.569639672881543,
          -21.48348869998301,
          -23.444984900286805,
          -23.469332993120062,
          -23.660602376633854,
          -23.657550418594003,
          -22.60561843199777,
          -23.96252319074522,
          -23.708126268313464,
          -23.629503634159633,
          -22.01488488895912,
          -20.585751390105457,
          -21.582987429934313,
          -20.809333650181667,
          -23.209735311571148,
          -23.57030557745358,
          -23.533746462047183,
          -23.78058739252956,
          -21.710870954893334,
          -22.614621137795265,
          -21.20810212661793,
          -22.596373040143575,
          -23.4853450343409,
          -22.819908185531162,
          -23.549529536840787,
          -23.703485160391505,
          -23.620636786241842,
          -21.995857941679077,
          -20.81300026983835,
          -23.22163639535284,
          -21.980448072368873,
          -23.576380365185937,
          -22.55124525869923,
          -23.537270771937166,
          -23.95965213071715,
          -21.73706314242179,
          -23.620998620445693,
          -23.619902914955265,
          -21.703495030535553,
          -20.623521591055777,
          -22.7489466206339,
          -23.350914298763577,
          -23.026988893535137,
          -23.017069291228218,
          -23.101621006440027,
          -21.933336747303674,
          -21.928465491539185,
          -23.452929299956928,
          -22.97089118044588,
          -21.834918641034367,
          -23.622633411415162,
          -23.215595945942848,
          -22.22217393101984,
          -23.547265880122136,
          -20.418313494479584
         ],
         "lon": [
          -67.82662567759225,
          -60.007107446741344,
          -39.26274691403601,
          -41.90185348124609,
          -39.58383485681395,
          -38.956961887200904,
          -42.78339770003472,
          -39.03993394153876,
          -39.74046054005801,
          -41.855805030013435,
          -38.31467051487966,
          -38.22268948320069,
          -39.07562867228171,
          -38.4616867553148,
          -38.65032917297563,
          -38.4586571230597,
          -38.532429724974165,
          -39.3161107413191,
          -40.74612755881526,
          -38.60859603224847,
          -39.29859640215861,
          -47.96886647598218,
          -47.973739516250774,
          -47.95942805322606,
          -41.12371778471333,
          -41.12620227324465,
          -40.38342691295592,
          -40.63956105804319,
          -40.704032491724895,
          -41.342187048258076,
          -40.24827651942884,
          -40.434973177371816,
          -40.310135643738555,
          -40.29780285323718,
          -40.32675435497563,
          -49.438089420466014,
          -48.94870607519878,
          -49.27456941298342,
          -47.33225743558541,
          -49.27742722317797,
          -49.26206115063998,
          -49.332105332149894,
          -47.943599688145746,
          -49.11590889021752,
          -49.02636879088997,
          -50.92189186283831,
          -49.7106029180799,
          -49.14209708875239,
          -44.25328766057483,
          -45.95181438502002,
          -46.57354819165932,
          -48.19413419921396,
          -46.94142956405851,
          -46.92587490743116,
          -46.10773503284158,
          -44.88903628055419,
          -43.771457365243094,
          -43.95755214150804,
          -44.166961626958226,
          -45.9986358674731,
          -46.1711239405763,
          -46.14001332890425,
          -45.40188042460609,
          -45.8298343383836,
          -42.15296352209461,
          -44.86917286484877,
          -44.822366699776936,
          -42.69449766632387,
          -44.76203405975947,
          -45.65082349975035,
          -43.86153972516934,
          -43.78017241246155,
          -44.05785207133867,
          -42.62025165998482,
          -44.889300785600845,
          -46.196159335177065,
          -44.02336767935939,
          -46.31950127100401,
          -45.433058998165116,
          -49.2025514813791,
          -41.95359124345288,
          -42.93166199720478,
          -42.72034572426051,
          -46.56160823512746,
          -44.06810480896789,
          -45.82723735222764,
          -42.55329183239247,
          -43.22410877692911,
          -46.75138057010448,
          -44.580855025614476,
          -46.61190091318773,
          -43.30937886928544,
          -43.17287104423471,
          -46.1605205461504,
          -43.36263825472674,
          -45.537189813602396,
          -43.89965142692265,
          -45.349168217053055,
          -44.42872947177971,
          -46.57340512991158,
          -43.86499987886642,
          -42.37049984884314,
          -43.90569776372654,
          -44.82676038665832,
          -46.37130155156736,
          -43.51198972159075,
          -44.60882226071132,
          -46.60862610499827,
          -46.51218847404726,
          -44.03989226354459,
          -46.56466174523613,
          -42.89889898447688,
          -45.93340351615673,
          -44.083411637917365,
          -44.056231480685,
          -43.84548260295956,
          -45.70752067761215,
          -44.2530182811765,
          -44.23993688925752,
          -41.50507728036173,
          -42.63881915971747,
          -44.17477905963709,
          -43.0219328222331,
          -45.259773026737165,
          -42.94377427895534,
          -47.93581889415799,
          -48.277582044762305,
          -48.268999388934326,
          -45.43651868660234,
          -43.94146568879755,
          -42.88446217727082,
          -54.61578488356733,
          -54.74875310212911,
          -56.07178072169877,
          -54.98521595207802,
          -55.50845471568516,
          -35.862096832860594,
          -34.85072907961591,
          -35.12688719306731,
          -37.45186210632904,
          -35.68043589181518,
          -36.57020044972058,
          -35.97142784180055,
          -34.913631625683124,
          -35.29381202393832,
          -42.79056879008656,
          -49.28481718046522,
          -53.47434392960834,
          -51.45725414424617,
          -51.434763168422826,
          -49.38812403801107,
          -50.37155139815296,
          -50.175860427059064,
          -49.111757263590974,
          -51.35659668422704,
          -51.25968653739668,
          -49.52544188896422,
          -49.38601129666979,
          -52.37760566240605,
          -53.46087017667774,
          -50.000403661641826,
          -52.611260433642045,
          -49.18945052634131,
          -51.973422045406195,
          -50.64960783251922,
          -49.27496804313667,
          -54.23744799743772,
          -49.31010070422007,
          -52.082794433928086,
          -53.3145970174448,
          -54.56761201057936,
          -53.05267653634423,
          -53.02562860417749,
          -54.25118501409774,
          -51.47150836263734,
          -48.58448614693002,
          -50.603896895070974,
          -50.65035940195514,
          -54.30365145115528,
          -50.14014250820877,
          -52.4701183751283,
          -52.41067888534097,
          -53.13587259427024,
          -51.16549611994071,
          -52.09904825765634,
          -51.6776633579356,
          -49.32480184605346,
          -54.05852495786673,
          -51.79990910433005,
          -51.933278669808296,
          -51.929362270354474,
          -54.095134218967516,
          -52.03990549710547,
          -53.837677556703355,
          -52.466098370858454,
          -54.22673085775215,
          -52.6752472258087,
          -49.1785353243731,
          -50.058695203268186,
          -51.76595818161726,
          -50.15705455405596,
          -51.37055696358404,
          -51.39161964122817,
          -54.402764727764094,
          -49.17697817245352,
          -51.87179484496577,
          -51.037541668178726,
          -49.16623280064457,
          -50.462083835822334,
          -52.44832800271509,
          -53.73948376398968,
          -53.30627709706737,
          -51.08495246474599,
          -44.35337369206609,
          -42.10489089799902,
          -41.908675205986285,
          -44.171692237730994,
          -43.384292462811366,
          -42.53355679259949,
          -42.41686495479445,
          -41.322639047475214,
          -43.28943011353076,
          -42.87440162688028,
          -42.89160982209523,
          -41.78750292962273,
          -43.110864916246456,
          -42.86248136683131,
          -43.42440928433377,
          -43.41855517255842,
          -43.087327511993124,
          -42.526566029706544,
          -43.47041685619956,
          -43.705683375748585,
          -43.29222008230457,
          -43.173933473772166,
          -43.16277872389329,
          -43.56344900678065,
          -44.46159884227604,
          -42.63004113951235,
          -43.312870653667105,
          -42.19618878044136,
          -43.02941533235643,
          -43.36728421381585,
          -42.13330080020418,
          -42.494318781827225,
          -43.01464825043669,
          -43.3805314137531,
          -42.96721254331906,
          -43.20395774830091,
          -43.667689767440216,
          -44.09717153758818,
          -37.51443645815574,
          -35.22146264615494,
          -35.23134758749348,
          -61.942612829458746,
          -63.887522714632496,
          -51.06694091984415,
          -52.180111441190874,
          -54.10710698002473,
          -51.516969774464734,
          -52.9001114044151,
          -51.08405863874132,
          -54.84099998542986,
          -51.060403440177396,
          -51.174495237165495,
          -52.79025576343903,
          -51.17937527854719,
          -53.484839056818565,
          -52.27064372191643,
          -51.07027218186224,
          -51.3466939212746,
          -51.183154546287696,
          -54.31036031755507,
          -50.79472976396335,
          -50.11914007834461,
          -51.76658692040368,
          -51.28985837084383,
          -51.16427789211877,
          -52.536535128236906,
          -51.97037536984715,
          -51.467963988245124,
          -51.10823005629176,
          -51.12251257508265,
          -51.786946085315805,
          -53.17918716660632,
          -52.33736241072302,
          -51.23318877432421,
          -51.18857712942569,
          -52.130763948585496,
          -50.572926219838166,
          -52.806500480230916,
          -52.426570859496415,
          -53.80206641933696,
          -54.44175613309931,
          -54.262621227827275,
          -50.52008406269422,
          -51.13727189660359,
          -51.00307811090833,
          -52.50925488808854,
          -51.14558544250159,
          -49.74491959115231,
          -50.78115073787274,
          -54.23551840843681,
          -51.70738486119434,
          -57.08086720910939,
          -51.56925812204669,
          -52.193313555031075,
          -51.061272502949826,
          -48.75811272641001,
          -49.48892070353465,
          -48.63305320890661,
          -48.681909781747734,
          -48.691953317317825,
          -49.08859270065089,
          -48.50320378589786,
          -49.165211726860235,
          -48.91495449463355,
          -51.013445047372564,
          -48.6530538136281,
          -51.22556495735034,
          -50.39172922868355,
          -52.62686537508495,
          -52.61597152257477,
          -52.023822129790176,
          -52.60331776416496,
          -49.37956162353715,
          -50.577361136441255,
          -48.51216585808974,
          -48.54335757807922,
          -48.631463327998624,
          -48.85354111529444,
          -48.960346747598315,
          -49.299651376329926,
          -48.67933195388163,
          -49.238014922548395,
          -48.68320292528307,
          -48.67912064863266,
          -48.62229620137128,
          -49.024157474362944,
          -49.09760360043017,
          -49.076177543776346,
          -48.84274831142134,
          -50.322292147109586,
          -48.784659261030505,
          -49.731481761265776,
          -48.960948530474354,
          -49.002534048018276,
          -48.65736484423828,
          -48.93077294776362,
          -49.288673597165094,
          -48.67050591635624,
          -48.6121041326986,
          -48.68271760811336,
          -52.98723222324769,
          -48.57004704358004,
          -49.62755144977645,
          -49.79595722328515,
          -49.64117297750651,
          -49.52153209709076,
          -49.35056297333393,
          -50.41834564086907,
          -49.388390232522525,
          -48.6277065515257,
          -53.517529914408506,
          -49.63523203121822,
          -48.60788895849941,
          -48.6295378554403,
          -49.176644834659655,
          -49.999646980328485,
          -49.27037623408747,
          -51.411579838730134,
          -49.0118620541885,
          -51.15253710423868,
          -52.403994657794016,
          -52.53171511177201,
          -37.06727810860317,
          -36.57752881665699,
          -47.88510054852834,
          -51.46756282500047,
          -47.323699357946985,
          -46.77982699608922,
          -45.24664690995327,
          -50.44493293196911,
          -48.171714984770624,
          -47.375545535422965,
          -50.43498158269512,
          -47.1657687687331,
          -46.31910937507674,
          -46.34054606234341,
          -50.41828219858361,
          -46.560481987331165,
          -50.55462075520381,
          -48.92341762235375,
          -49.45081883954137,
          -48.74025621655563,
          -48.567785120619796,
          -48.15620878829506,
          -46.86935863185775,
          -47.585052012762034,
          -49.06668248533467,
          -48.48609167648656,
          -46.080623703430774,
          -50.338194264108054,
          -48.262470448819585,
          -47.670586146714506,
          -46.468612532513475,
          -47.8152907655656,
          -48.44704790213187,
          -46.537387081359995,
          -46.54899459954653,
          -48.12510155957027,
          -50.14440187114213,
          -49.602212692890134,
          -46.74394262596612,
          -46.84340601786666,
          -47.068536847474405,
          -46.77576640852021,
          -47.93195710361432,
          -47.505725105505064,
          -46.83817777573311,
          -48.97216028148743,
          -49.16234455805434,
          -50.445800319817664,
          -47.1683209783616,
          -47.459958340316014,
          -47.18829388089939,
          -46.90435454556691,
          -47.737310166569,
          -44.96163046993114,
          -47.6195840295051,
          -46.611740825698575,
          -48.386261979222404,
          -51.533744143993836,
          -50.20543406742506,
          -46.82384878007388,
          -46.81408628502836,
          -47.20455471253452,
          -48.686678524301236,
          -50.24950578244738,
          -50.25189194487372,
          -46.37387106982926,
          -47.39844550580822,
          -46.741283768811044,
          -46.72582117346966,
          -49.65862497197638,
          -49.89617225055718,
          -48.320131288780836,
          -47.82416381617847,
          -45.19386076130384,
          -48.22960077888057,
          -46.264741313341595,
          -46.24790769301417,
          -46.49876979709016,
          -47.05260391223774,
          -47.20298754943171,
          -48.82974353343716,
          -48.56280548602923,
          -47.21478983064318,
          -49.62719098425694,
          -48.01402332006467,
          -49.055417305075984,
          -46.83834116251071,
          -48.045083206495995,
          -48.881924042183606,
          -46.94612308104323,
          -49.48636347801798,
          -48.721835002175304,
          -46.34277286562584,
          -46.83699389579262,
          -47.81543112451409,
          -47.30328085446802,
          -48.320153673419505,
          -45.96367383319701,
          -49.57192076295022,
          -46.975293816355,
          -46.991930469541835,
          -50.5461937168549,
          -45.69815213667702,
          -46.71792466026417,
          -48.55898768961867,
          -48.55666701937139,
          -46.9030477492254,
          -46.885088328565196,
          -47.83762131131264,
          -47.38562111524039,
          -48.79732894442403,
          -48.80327376548455,
          -47.408479247924,
          -45.115553134409566,
          -46.95954096067056,
          -48.71694212220494,
          -47.18889011605326,
          -46.59712215964799,
          -49.1302214871592,
          -49.945921766522886,
          -49.955764212249676,
          -46.4499434492524,
          -48.02780172057328,
          -48.45129697299396,
          -51.103186563082744,
          -49.50661257216199,
          -47.00767902184062,
          -46.193893380838716,
          -46.935076809492564,
          -46.963692161782795,
          -46.94541486593902,
          -47.20379104592536,
          -48.495496727506335,
          -45.839550230520295,
          -50.042628269869525,
          -47.29331942779806,
          -49.222216847438304,
          -48.9090364662508,
          -47.87953500680893,
          -46.78828341997107,
          -50.879277765103,
          -49.87355477949062,
          -47.16425737161185,
          -47.152399752595464,
          -48.784495697020546,
          -47.476741704155444,
          -46.896753691339335,
          -50.79127156718951,
          -50.078000999490456,
          -50.06500913181639,
          -47.72290759681854,
          -45.44263294610259,
          -46.588867109618306,
          -47.646621915541594,
          -47.419981543807395,
          -48.219255640094126,
          -46.34716319383304,
          -50.17893613850754,
          -47.4781017581213,
          -48.07391298482993,
          -46.46182393815411,
          -51.55634360153442,
          -52.115709937410585,
          -51.40472647981763,
          -51.84496960410871,
          -47.84616128650988,
          -46.40676625986261,
          -47.8046394474577,
          -46.40979001121487,
          -47.802912215234564,
          -47.56608729920489,
          -47.60705361138728,
          -47.292606359513954,
          -47.39565532665196,
          -47.377597965168675,
          -48.15539870681134,
          -47.36865063485143,
          -46.89110007792794,
          -46.85554333463551,
          -46.51985035314278,
          -46.531862896293646,
          -46.920447238133505,
          -46.32780350647337,
          -46.564188950283345,
          -46.56538626928337,
          -47.89356790298358,
          -47.863693188164746,
          -46.94775856933444,
          -49.37644646554628,
          -45.88712809004379,
          -46.63198379135355,
          -47.12700051607103,
          -45.51145638498864,
          -46.82083536657486,
          -46.709593428612386,
          -47.60158665380721,
          -46.50720671996104,
          -47.464271654978425,
          -47.22948003290961,
          -46.30959916897046,
          -46.561494325418884,
          -46.564789568910925,
          -47.89154810546995,
          -49.38777036019791,
          -45.86965678254152,
          -46.789465624189866,
          -46.64430412515868,
          -47.90659642198052,
          -47.128504337389415,
          -46.38799389760218,
          -48.687600901117015,
          -46.78381113054595,
          -46.77182792788843,
          -47.276353860301036,
          -49.65195844976547,
          -50.578951684465736,
          -47.84781198434304,
          -45.563883117017625,
          -45.56350822960505,
          -47.71181914055678,
          -50.51207918186477,
          -50.525683571124965,
          -45.093219408528476,
          -46.99698053847312,
          -46.89918572591992,
          -47.01270417218394,
          -46.837099156519855,
          -49.822674319538606,
          -47.45058667876496,
          -49.97354155865327
         ],
         "radius": 35,
         "showscale": true,
         "type": "densitymapbox",
         "z": [
          1,
          1,
          1,
          1,
          1,
          1,
          1,
          1,
          2,
          1,
          2,
          1,
          1,
          7,
          1,
          1,
          7,
          1,
          1,
          1,
          1,
          24,
          4,
          1,
          1,
          4,
          3,
          1,
          1,
          1,
          3,
          1,
          5,
          3,
          1,
          1,
          3,
          1,
          2,
          20,
          3,
          1,
          1,
          3,
          1,
          1,
          1,
          2,
          1,
          2,
          2,
          4,
          1,
          1,
          1,
          2,
          2,
          70,
          5,
          1,
          4,
          1,
          1,
          2,
          1,
          1,
          1,
          1,
          6,
          1,
          1,
          3,
          11,
          2,
          8,
          1,
          2,
          1,
          4,
          1,
          1,
          1,
          1,
          1,
          1,
          1,
          2,
          1,
          1,
          2,
          2,
          1,
          1,
          1,
          10,
          2,
          1,
          1,
          1,
          1,
          3,
          1,
          1,
          1,
          1,
          1,
          1,
          1,
          2,
          1,
          4,
          1,
          1,
          1,
          2,
          1,
          7,
          2,
          4,
          1,
          1,
          2,
          1,
          3,
          6,
          3,
          7,
          5,
          4,
          1,
          2,
          4,
          1,
          2,
          1,
          1,
          1,
          2,
          1,
          1,
          1,
          1,
          2,
          5,
          1,
          1,
          1,
          1,
          8,
          10,
          2,
          1,
          1,
          1,
          1,
          3,
          3,
          1,
          1,
          15,
          2,
          1,
          8,
          1,
          1,
          126,
          1,
          6,
          1,
          1,
          5,
          4,
          1,
          1,
          1,
          3,
          1,
          1,
          2,
          1,
          1,
          1,
          3,
          26,
          1,
          1,
          1,
          3,
          1,
          40,
          2,
          1,
          1,
          1,
          1,
          1,
          2,
          9,
          1,
          2,
          6,
          2,
          1,
          3,
          9,
          3,
          1,
          3,
          1,
          1,
          8,
          4,
          1,
          2,
          1,
          2,
          4,
          2,
          1,
          1,
          2,
          3,
          1,
          1,
          3,
          2,
          1,
          3,
          2,
          8,
          5,
          6,
          1,
          1,
          4,
          2,
          1,
          1,
          1,
          96,
          1,
          6,
          2,
          1,
          1,
          1,
          1,
          2,
          1,
          1,
          2,
          1,
          2,
          1,
          1,
          1,
          1,
          1,
          1,
          2,
          1,
          3,
          1,
          2,
          9,
          3,
          18,
          1,
          1,
          2,
          2,
          2,
          1,
          1,
          1,
          1,
          1,
          1,
          1,
          5,
          2,
          1,
          7,
          1,
          1,
          3,
          1,
          27,
          1,
          1,
          1,
          1,
          3,
          2,
          1,
          1,
          1,
          1,
          1,
          1,
          1,
          1,
          1,
          1,
          1,
          1,
          3,
          2,
          1,
          1,
          4,
          1,
          1,
          21,
          1,
          1,
          10,
          1,
          1,
          1,
          2,
          2,
          1,
          1,
          1,
          4,
          2,
          18,
          2,
          2,
          1,
          2,
          1,
          2,
          2,
          9,
          1,
          1,
          2,
          6,
          3,
          22,
          3,
          1,
          2,
          1,
          1,
          3,
          1,
          1,
          8,
          1,
          2,
          1,
          2,
          1,
          1,
          4,
          1,
          2,
          1,
          3,
          2,
          2,
          2,
          1,
          2,
          2,
          1,
          2,
          2,
          5,
          2,
          2,
          1,
          1,
          1,
          1,
          1,
          10,
          5,
          1,
          4,
          11,
          4,
          1,
          3,
          2,
          1,
          8,
          11,
          2,
          1,
          2,
          2,
          4,
          1,
          13,
          3,
          14,
          1,
          1,
          10,
          1,
          3,
          1,
          2,
          4,
          5,
          1,
          1,
          1,
          2,
          1,
          2,
          41,
          2,
          1,
          4,
          11,
          10,
          1,
          1,
          2,
          1,
          2,
          10,
          1,
          1,
          1,
          10,
          2,
          1,
          2,
          2,
          1,
          1,
          1,
          2,
          2,
          4,
          20,
          1,
          2,
          4,
          1,
          1,
          1,
          1,
          1,
          5,
          2,
          51,
          1,
          2,
          49,
          2,
          8,
          1,
          1,
          2,
          4,
          2,
          1,
          4,
          1,
          1,
          9,
          4,
          1,
          4,
          2,
          8,
          4,
          4,
          1,
          1,
          1,
          1,
          3,
          1,
          13,
          1,
          4,
          1,
          3,
          3,
          17,
          2,
          1,
          1,
          1,
          2,
          1,
          12,
          3,
          14,
          1,
          1,
          1,
          4,
          1,
          17,
          1,
          3,
          7,
          2,
          1,
          1,
          1,
          1,
          1,
          1,
          1,
          33,
          3,
          1,
          2,
          2,
          1,
          1,
          9,
          1,
          4,
          1,
          1,
          1,
          1,
          13,
          1,
          1,
          1,
          3,
          10,
          2,
          10,
          1,
          1,
          12,
          1,
          2,
          5,
          39,
          1,
          16,
          12,
          1,
          9,
          6,
          1,
          1,
          1,
          7,
          2,
          39,
          8,
          1,
          16,
          32,
          12,
          12,
          1,
          3,
          29,
          16,
          583,
          3,
          1,
          1,
          3,
          1,
          1,
          32,
          5,
          3,
          4,
          9,
          1,
          6,
          2,
          1,
          112,
          2,
          4,
          1,
          3,
          9,
          3,
          1,
          2,
          1,
          2,
          5,
          1,
          1,
          4,
          1,
          1,
          7,
          3,
          1,
          1,
          1,
          4,
          4
         ]
        }
       ],
       "layout": {
        "height": 580,
        "mapbox": {
         "center": {
          "lat": -15,
          "lon": -54.2
         },
         "style": "carto-positron",
         "zoom": 3.2
        },
        "margin": {
         "b": 0,
         "l": 0,
         "r": 0,
         "t": 35
        },
        "paper_bgcolor": "#fafaf7",
        "plot_bgcolor": "#fafaf7",
        "template": {
         "data": {
          "bar": [
           {
            "error_x": {
             "color": "#2a3f5f"
            },
            "error_y": {
             "color": "#2a3f5f"
            },
            "marker": {
             "line": {
              "color": "white",
              "width": 0.5
             },
             "pattern": {
              "fillmode": "overlay",
              "size": 10,
              "solidity": 0.2
             }
            },
            "type": "bar"
           }
          ],
          "barpolar": [
           {
            "marker": {
             "line": {
              "color": "white",
              "width": 0.5
             },
             "pattern": {
              "fillmode": "overlay",
              "size": 10,
              "solidity": 0.2
             }
            },
            "type": "barpolar"
           }
          ],
          "carpet": [
           {
            "aaxis": {
             "endlinecolor": "#2a3f5f",
             "gridcolor": "#C8D4E3",
             "linecolor": "#C8D4E3",
             "minorgridcolor": "#C8D4E3",
             "startlinecolor": "#2a3f5f"
            },
            "baxis": {
             "endlinecolor": "#2a3f5f",
             "gridcolor": "#C8D4E3",
             "linecolor": "#C8D4E3",
             "minorgridcolor": "#C8D4E3",
             "startlinecolor": "#2a3f5f"
            },
            "type": "carpet"
           }
          ],
          "choropleth": [
           {
            "colorbar": {
             "outlinewidth": 0,
             "ticks": ""
            },
            "type": "choropleth"
           }
          ],
          "contour": [
           {
            "colorbar": {
             "outlinewidth": 0,
             "ticks": ""
            },
            "colorscale": [
             [
              0,
              "#0d0887"
             ],
             [
              0.1111111111111111,
              "#46039f"
             ],
             [
              0.2222222222222222,
              "#7201a8"
             ],
             [
              0.3333333333333333,
              "#9c179e"
             ],
             [
              0.4444444444444444,
              "#bd3786"
             ],
             [
              0.5555555555555556,
              "#d8576b"
             ],
             [
              0.6666666666666666,
              "#ed7953"
             ],
             [
              0.7777777777777778,
              "#fb9f3a"
             ],
             [
              0.8888888888888888,
              "#fdca26"
             ],
             [
              1,
              "#f0f921"
             ]
            ],
            "type": "contour"
           }
          ],
          "contourcarpet": [
           {
            "colorbar": {
             "outlinewidth": 0,
             "ticks": ""
            },
            "type": "contourcarpet"
           }
          ],
          "heatmap": [
           {
            "colorbar": {
             "outlinewidth": 0,
             "ticks": ""
            },
            "colorscale": [
             [
              0,
              "#0d0887"
             ],
             [
              0.1111111111111111,
              "#46039f"
             ],
             [
              0.2222222222222222,
              "#7201a8"
             ],
             [
              0.3333333333333333,
              "#9c179e"
             ],
             [
              0.4444444444444444,
              "#bd3786"
             ],
             [
              0.5555555555555556,
              "#d8576b"
             ],
             [
              0.6666666666666666,
              "#ed7953"
             ],
             [
              0.7777777777777778,
              "#fb9f3a"
             ],
             [
              0.8888888888888888,
              "#fdca26"
             ],
             [
              1,
              "#f0f921"
             ]
            ],
            "type": "heatmap"
           }
          ],
          "heatmapgl": [
           {
            "colorbar": {
             "outlinewidth": 0,
             "ticks": ""
            },
            "colorscale": [
             [
              0,
              "#0d0887"
             ],
             [
              0.1111111111111111,
              "#46039f"
             ],
             [
              0.2222222222222222,
              "#7201a8"
             ],
             [
              0.3333333333333333,
              "#9c179e"
             ],
             [
              0.4444444444444444,
              "#bd3786"
             ],
             [
              0.5555555555555556,
              "#d8576b"
             ],
             [
              0.6666666666666666,
              "#ed7953"
             ],
             [
              0.7777777777777778,
              "#fb9f3a"
             ],
             [
              0.8888888888888888,
              "#fdca26"
             ],
             [
              1,
              "#f0f921"
             ]
            ],
            "type": "heatmapgl"
           }
          ],
          "histogram": [
           {
            "marker": {
             "pattern": {
              "fillmode": "overlay",
              "size": 10,
              "solidity": 0.2
             }
            },
            "type": "histogram"
           }
          ],
          "histogram2d": [
           {
            "colorbar": {
             "outlinewidth": 0,
             "ticks": ""
            },
            "colorscale": [
             [
              0,
              "#0d0887"
             ],
             [
              0.1111111111111111,
              "#46039f"
             ],
             [
              0.2222222222222222,
              "#7201a8"
             ],
             [
              0.3333333333333333,
              "#9c179e"
             ],
             [
              0.4444444444444444,
              "#bd3786"
             ],
             [
              0.5555555555555556,
              "#d8576b"
             ],
             [
              0.6666666666666666,
              "#ed7953"
             ],
             [
              0.7777777777777778,
              "#fb9f3a"
             ],
             [
              0.8888888888888888,
              "#fdca26"
             ],
             [
              1,
              "#f0f921"
             ]
            ],
            "type": "histogram2d"
           }
          ],
          "histogram2dcontour": [
           {
            "colorbar": {
             "outlinewidth": 0,
             "ticks": ""
            },
            "colorscale": [
             [
              0,
              "#0d0887"
             ],
             [
              0.1111111111111111,
              "#46039f"
             ],
             [
              0.2222222222222222,
              "#7201a8"
             ],
             [
              0.3333333333333333,
              "#9c179e"
             ],
             [
              0.4444444444444444,
              "#bd3786"
             ],
             [
              0.5555555555555556,
              "#d8576b"
             ],
             [
              0.6666666666666666,
              "#ed7953"
             ],
             [
              0.7777777777777778,
              "#fb9f3a"
             ],
             [
              0.8888888888888888,
              "#fdca26"
             ],
             [
              1,
              "#f0f921"
             ]
            ],
            "type": "histogram2dcontour"
           }
          ],
          "mesh3d": [
           {
            "colorbar": {
             "outlinewidth": 0,
             "ticks": ""
            },
            "type": "mesh3d"
           }
          ],
          "parcoords": [
           {
            "line": {
             "colorbar": {
              "outlinewidth": 0,
              "ticks": ""
             }
            },
            "type": "parcoords"
           }
          ],
          "pie": [
           {
            "automargin": true,
            "type": "pie"
           }
          ],
          "scatter": [
           {
            "fillpattern": {
             "fillmode": "overlay",
             "size": 10,
             "solidity": 0.2
            },
            "type": "scatter"
           }
          ],
          "scatter3d": [
           {
            "line": {
             "colorbar": {
              "outlinewidth": 0,
              "ticks": ""
             }
            },
            "marker": {
             "colorbar": {
              "outlinewidth": 0,
              "ticks": ""
             }
            },
            "type": "scatter3d"
           }
          ],
          "scattercarpet": [
           {
            "marker": {
             "colorbar": {
              "outlinewidth": 0,
              "ticks": ""
             }
            },
            "type": "scattercarpet"
           }
          ],
          "scattergeo": [
           {
            "marker": {
             "colorbar": {
              "outlinewidth": 0,
              "ticks": ""
             }
            },
            "type": "scattergeo"
           }
          ],
          "scattergl": [
           {
            "marker": {
             "colorbar": {
              "outlinewidth": 0,
              "ticks": ""
             }
            },
            "type": "scattergl"
           }
          ],
          "scattermapbox": [
           {
            "marker": {
             "colorbar": {
              "outlinewidth": 0,
              "ticks": ""
             }
            },
            "type": "scattermapbox"
           }
          ],
          "scatterpolar": [
           {
            "marker": {
             "colorbar": {
              "outlinewidth": 0,
              "ticks": ""
             }
            },
            "type": "scatterpolar"
           }
          ],
          "scatterpolargl": [
           {
            "marker": {
             "colorbar": {
              "outlinewidth": 0,
              "ticks": ""
             }
            },
            "type": "scatterpolargl"
           }
          ],
          "scatterternary": [
           {
            "marker": {
             "colorbar": {
              "outlinewidth": 0,
              "ticks": ""
             }
            },
            "type": "scatterternary"
           }
          ],
          "surface": [
           {
            "colorbar": {
             "outlinewidth": 0,
             "ticks": ""
            },
            "colorscale": [
             [
              0,
              "#0d0887"
             ],
             [
              0.1111111111111111,
              "#46039f"
             ],
             [
              0.2222222222222222,
              "#7201a8"
             ],
             [
              0.3333333333333333,
              "#9c179e"
             ],
             [
              0.4444444444444444,
              "#bd3786"
             ],
             [
              0.5555555555555556,
              "#d8576b"
             ],
             [
              0.6666666666666666,
              "#ed7953"
             ],
             [
              0.7777777777777778,
              "#fb9f3a"
             ],
             [
              0.8888888888888888,
              "#fdca26"
             ],
             [
              1,
              "#f0f921"
             ]
            ],
            "type": "surface"
           }
          ],
          "table": [
           {
            "cells": {
             "fill": {
              "color": "#EBF0F8"
             },
             "line": {
              "color": "white"
             }
            },
            "header": {
             "fill": {
              "color": "#C8D4E3"
             },
             "line": {
              "color": "white"
             }
            },
            "type": "table"
           }
          ]
         },
         "layout": {
          "annotationdefaults": {
           "arrowcolor": "#2a3f5f",
           "arrowhead": 0,
           "arrowwidth": 1
          },
          "autotypenumbers": "strict",
          "coloraxis": {
           "colorbar": {
            "outlinewidth": 0,
            "ticks": ""
           }
          },
          "colorscale": {
           "diverging": [
            [
             0,
             "#8e0152"
            ],
            [
             0.1,
             "#c51b7d"
            ],
            [
             0.2,
             "#de77ae"
            ],
            [
             0.3,
             "#f1b6da"
            ],
            [
             0.4,
             "#fde0ef"
            ],
            [
             0.5,
             "#f7f7f7"
            ],
            [
             0.6,
             "#e6f5d0"
            ],
            [
             0.7,
             "#b8e186"
            ],
            [
             0.8,
             "#7fbc41"
            ],
            [
             0.9,
             "#4d9221"
            ],
            [
             1,
             "#276419"
            ]
           ],
           "sequential": [
            [
             0,
             "#0d0887"
            ],
            [
             0.1111111111111111,
             "#46039f"
            ],
            [
             0.2222222222222222,
             "#7201a8"
            ],
            [
             0.3333333333333333,
             "#9c179e"
            ],
            [
             0.4444444444444444,
             "#bd3786"
            ],
            [
             0.5555555555555556,
             "#d8576b"
            ],
            [
             0.6666666666666666,
             "#ed7953"
            ],
            [
             0.7777777777777778,
             "#fb9f3a"
            ],
            [
             0.8888888888888888,
             "#fdca26"
            ],
            [
             1,
             "#f0f921"
            ]
           ],
           "sequentialminus": [
            [
             0,
             "#0d0887"
            ],
            [
             0.1111111111111111,
             "#46039f"
            ],
            [
             0.2222222222222222,
             "#7201a8"
            ],
            [
             0.3333333333333333,
             "#9c179e"
            ],
            [
             0.4444444444444444,
             "#bd3786"
            ],
            [
             0.5555555555555556,
             "#d8576b"
            ],
            [
             0.6666666666666666,
             "#ed7953"
            ],
            [
             0.7777777777777778,
             "#fb9f3a"
            ],
            [
             0.8888888888888888,
             "#fdca26"
            ],
            [
             1,
             "#f0f921"
            ]
           ]
          },
          "colorway": [
           "#636efa",
           "#EF553B",
           "#00cc96",
           "#ab63fa",
           "#FFA15A",
           "#19d3f3",
           "#FF6692",
           "#B6E880",
           "#FF97FF",
           "#FECB52"
          ],
          "font": {
           "color": "#2a3f5f"
          },
          "geo": {
           "bgcolor": "white",
           "lakecolor": "white",
           "landcolor": "white",
           "showlakes": true,
           "showland": true,
           "subunitcolor": "#C8D4E3"
          },
          "hoverlabel": {
           "align": "left"
          },
          "hovermode": "closest",
          "mapbox": {
           "style": "light"
          },
          "paper_bgcolor": "white",
          "plot_bgcolor": "white",
          "polar": {
           "angularaxis": {
            "gridcolor": "#EBF0F8",
            "linecolor": "#EBF0F8",
            "ticks": ""
           },
           "bgcolor": "white",
           "radialaxis": {
            "gridcolor": "#EBF0F8",
            "linecolor": "#EBF0F8",
            "ticks": ""
           }
          },
          "scene": {
           "xaxis": {
            "backgroundcolor": "white",
            "gridcolor": "#DFE8F3",
            "gridwidth": 2,
            "linecolor": "#EBF0F8",
            "showbackground": true,
            "ticks": "",
            "zerolinecolor": "#EBF0F8"
           },
           "yaxis": {
            "backgroundcolor": "white",
            "gridcolor": "#DFE8F3",
            "gridwidth": 2,
            "linecolor": "#EBF0F8",
            "showbackground": true,
            "ticks": "",
            "zerolinecolor": "#EBF0F8"
           },
           "zaxis": {
            "backgroundcolor": "white",
            "gridcolor": "#DFE8F3",
            "gridwidth": 2,
            "linecolor": "#EBF0F8",
            "showbackground": true,
            "ticks": "",
            "zerolinecolor": "#EBF0F8"
           }
          },
          "shapedefaults": {
           "line": {
            "color": "#2a3f5f"
           }
          },
          "ternary": {
           "aaxis": {
            "gridcolor": "#DFE8F3",
            "linecolor": "#A2B1C6",
            "ticks": ""
           },
           "baxis": {
            "gridcolor": "#DFE8F3",
            "linecolor": "#A2B1C6",
            "ticks": ""
           },
           "bgcolor": "white",
           "caxis": {
            "gridcolor": "#DFE8F3",
            "linecolor": "#A2B1C6",
            "ticks": ""
           }
          },
          "title": {
           "x": 0.05
          },
          "xaxis": {
           "automargin": true,
           "gridcolor": "#EBF0F8",
           "linecolor": "#EBF0F8",
           "ticks": "",
           "title": {
            "standoff": 15
           },
           "zerolinecolor": "#EBF0F8",
           "zerolinewidth": 2
          },
          "yaxis": {
           "automargin": true,
           "gridcolor": "#EBF0F8",
           "linecolor": "#EBF0F8",
           "ticks": "",
           "title": {
            "standoff": 15
           },
           "zerolinecolor": "#EBF0F8",
           "zerolinewidth": 2
          }
         }
        },
        "title": {
         "font": {
          "color": "#66757e"
         },
         "text": "Spacial distribution of sellers"
        },
        "width": 600
       }
      }
     },
     "metadata": {},
     "output_type": "display_data"
    }
   ],
   "source": [
    "# Spacial distribution of sellers\n",
    "fig = go.Figure(\n",
    "    go.Densitymapbox(\n",
    "        lat=sellers_location[\"centroid_lat\"],\n",
    "        lon=sellers_location[\"centroid_lng\"],\n",
    "        z=sellers_location[\"n_sellers\"],\n",
    "        radius=35,\n",
    "        showscale=True,\n",
    "        hovertemplate=\"City: %{customdata[0]} <br>State: %{customdata[1]} <br>Number of Sellers: %{z:,}\",\n",
    "        customdata=sellers_location[[\"geolocation_city\", \"geolocation_state\"]],\n",
    "        colorbar=dict(outlinecolor=\"rgba(0,0,0,0)\")\n",
    "    )\n",
    ")\n",
    "\n",
    "fig.update_layout(\n",
    "    title={\n",
    "        \"text\": \"Spacial distribution of sellers\",\n",
    "        \"font\": {\"color\": \"#66757e\"},\n",
    "    },\n",
    "    plot_bgcolor=\"#fafaf7\",\n",
    "    paper_bgcolor=\"#fafaf7\",\n",
    "    width=600,\n",
    "    height=580,\n",
    "    mapbox_style=\"carto-positron\",\n",
    "    mapbox_center = dict(lat = -15, lon = -54.2),\n",
    "    mapbox_zoom = 3.2,\n",
    "    margin={\"r\": 0, \"t\": 35, \"l\": 0, \"b\": 0}\n",
    ")\n",
    "\n",
    "\n",
    "fig.show()"
   ]
  },
  {
   "cell_type": "markdown",
   "metadata": {},
   "source": [
    "Here we see that despite having significant concentrations of sales in the states of RJ and MG, we do not have a proportional number of sellers in these same two states."
   ]
  },
  {
   "cell_type": "markdown",
   "metadata": {},
   "source": [
    "## NLP"
   ]
  },
  {
   "cell_type": "markdown",
   "metadata": {},
   "source": [
    "### Comments sentiment classification"
   ]
  },
  {
   "cell_type": "code",
   "execution_count": 23,
   "metadata": {},
   "outputs": [
    {
     "data": {
      "text/html": [
       "<div>\n",
       "<style scoped>\n",
       "    .dataframe tbody tr th:only-of-type {\n",
       "        vertical-align: middle;\n",
       "    }\n",
       "\n",
       "    .dataframe tbody tr th {\n",
       "        vertical-align: top;\n",
       "    }\n",
       "\n",
       "    .dataframe thead th {\n",
       "        text-align: right;\n",
       "    }\n",
       "</style>\n",
       "<table border=\"1\" class=\"dataframe\">\n",
       "  <thead>\n",
       "    <tr style=\"text-align: right;\">\n",
       "      <th></th>\n",
       "      <th>review_id</th>\n",
       "      <th>order_id</th>\n",
       "      <th>review_score</th>\n",
       "      <th>review_comment_title</th>\n",
       "      <th>review_comment_message</th>\n",
       "      <th>review_creation_date</th>\n",
       "      <th>review_answer_timestamp</th>\n",
       "      <th>review_text</th>\n",
       "    </tr>\n",
       "  </thead>\n",
       "  <tbody>\n",
       "    <tr>\n",
       "      <th>0</th>\n",
       "      <td>7bc2406110b926393aa56f80a40eba40</td>\n",
       "      <td>73fc7af87114b39712e6da79b0a377eb</td>\n",
       "      <td>4</td>\n",
       "      <td>NaN</td>\n",
       "      <td>NaN</td>\n",
       "      <td>2018-01-18 00:00:00</td>\n",
       "      <td>2018-01-18 21:46:59</td>\n",
       "      <td>NaN</td>\n",
       "    </tr>\n",
       "    <tr>\n",
       "      <th>1</th>\n",
       "      <td>80e641a11e56f04c1ad469d5645fdfde</td>\n",
       "      <td>a548910a1c6147796b98fdf73dbeba33</td>\n",
       "      <td>5</td>\n",
       "      <td>NaN</td>\n",
       "      <td>NaN</td>\n",
       "      <td>2018-03-10 00:00:00</td>\n",
       "      <td>2018-03-11 03:05:13</td>\n",
       "      <td>NaN</td>\n",
       "    </tr>\n",
       "    <tr>\n",
       "      <th>2</th>\n",
       "      <td>228ce5500dc1d8e020d8d1322874b6f0</td>\n",
       "      <td>f9e4b658b201a9f2ecdecbb34bed034b</td>\n",
       "      <td>5</td>\n",
       "      <td>NaN</td>\n",
       "      <td>NaN</td>\n",
       "      <td>2018-02-17 00:00:00</td>\n",
       "      <td>2018-02-18 14:36:24</td>\n",
       "      <td>NaN</td>\n",
       "    </tr>\n",
       "    <tr>\n",
       "      <th>3</th>\n",
       "      <td>e64fb393e7b32834bb789ff8bb30750e</td>\n",
       "      <td>658677c97b385a9be170737859d3511b</td>\n",
       "      <td>5</td>\n",
       "      <td>NaN</td>\n",
       "      <td>Recebi bem antes do prazo estipulado.</td>\n",
       "      <td>2017-04-21 00:00:00</td>\n",
       "      <td>2017-04-21 22:02:06</td>\n",
       "      <td>recebi bem antes do prazo estipulado</td>\n",
       "    </tr>\n",
       "    <tr>\n",
       "      <th>4</th>\n",
       "      <td>f7c4243c7fe1938f181bec41a392bdeb</td>\n",
       "      <td>8e6bfb81e283fa7e4f11123a3fb894f1</td>\n",
       "      <td>5</td>\n",
       "      <td>NaN</td>\n",
       "      <td>Parabéns lojas lannister adorei comprar pela I...</td>\n",
       "      <td>2018-03-01 00:00:00</td>\n",
       "      <td>2018-03-02 10:26:53</td>\n",
       "      <td>parabéns lojas lannister adorei comprar pela i...</td>\n",
       "    </tr>\n",
       "  </tbody>\n",
       "</table>\n",
       "</div>"
      ],
      "text/plain": [
       "                          review_id                          order_id  \\\n",
       "0  7bc2406110b926393aa56f80a40eba40  73fc7af87114b39712e6da79b0a377eb   \n",
       "1  80e641a11e56f04c1ad469d5645fdfde  a548910a1c6147796b98fdf73dbeba33   \n",
       "2  228ce5500dc1d8e020d8d1322874b6f0  f9e4b658b201a9f2ecdecbb34bed034b   \n",
       "3  e64fb393e7b32834bb789ff8bb30750e  658677c97b385a9be170737859d3511b   \n",
       "4  f7c4243c7fe1938f181bec41a392bdeb  8e6bfb81e283fa7e4f11123a3fb894f1   \n",
       "\n",
       "   review_score review_comment_title  \\\n",
       "0             4                  NaN   \n",
       "1             5                  NaN   \n",
       "2             5                  NaN   \n",
       "3             5                  NaN   \n",
       "4             5                  NaN   \n",
       "\n",
       "                              review_comment_message review_creation_date  \\\n",
       "0                                                NaN  2018-01-18 00:00:00   \n",
       "1                                                NaN  2018-03-10 00:00:00   \n",
       "2                                                NaN  2018-02-17 00:00:00   \n",
       "3              Recebi bem antes do prazo estipulado.  2017-04-21 00:00:00   \n",
       "4  Parabéns lojas lannister adorei comprar pela I...  2018-03-01 00:00:00   \n",
       "\n",
       "  review_answer_timestamp                                        review_text  \n",
       "0     2018-01-18 21:46:59                                                NaN  \n",
       "1     2018-03-11 03:05:13                                                NaN  \n",
       "2     2018-02-18 14:36:24                                                NaN  \n",
       "3     2017-04-21 22:02:06               recebi bem antes do prazo estipulado  \n",
       "4     2018-03-02 10:26:53  parabéns lojas lannister adorei comprar pela i...  "
      ]
     },
     "execution_count": 23,
     "metadata": {},
     "output_type": "execute_result"
    }
   ],
   "source": [
    "# Creates a new column with the title and the review message\n",
    "order_reviews[\"review_text\"] = (\n",
    "    order_reviews[\"review_comment_title\"].fillna(\"\")\n",
    "    + \" \"\n",
    "    + order_reviews[\"review_comment_message\"].fillna(\"\")\n",
    ")\n",
    "\n",
    "# Converts to lower case\n",
    "order_reviews[\"review_text\"] = order_reviews[\"review_text\"].str.lower()\n",
    "\n",
    "# Removes special characters\n",
    "order_reviews[\"review_text\"] = order_reviews[\"review_text\"].str.replace(\n",
    "    r\"[^\\w\\s]\", \" \", regex=True\n",
    ")\n",
    "\n",
    "# Removes numbers\n",
    "order_reviews[\"review_text\"] = order_reviews[\"review_text\"].str.replace(\n",
    "    r\"\\d+\", \"\", regex=True\n",
    ")\n",
    "\n",
    "# Removes new lines\n",
    "order_reviews[\"review_text\"] = order_reviews[\"review_text\"].str.replace(\n",
    "    r\"\\n\", \" \", regex=True\n",
    ")\n",
    "\n",
    "# Removes multiple spaces\n",
    "order_reviews[\"review_text\"] = order_reviews[\"review_text\"].str.replace(\n",
    "    r\"\\s+\", \" \", regex=True\n",
    ")\n",
    "\n",
    "# Removes spaces at the beginning and end of the string\n",
    "order_reviews[\"review_text\"] = order_reviews[\"review_text\"].str.strip()\n",
    "\n",
    "# Replaces empty strings with NaN\n",
    "order_reviews[\"review_text\"] = order_reviews[\"review_text\"].replace(\"\", np.nan)\n",
    "\n",
    "order_reviews.head(5)"
   ]
  },
  {
   "cell_type": "code",
   "execution_count": 24,
   "metadata": {},
   "outputs": [
    {
     "data": {
      "text/plain": [
       "review_text\n",
       "True     56770\n",
       "False    42454\n",
       "Name: count, dtype: int64"
      ]
     },
     "execution_count": 24,
     "metadata": {},
     "output_type": "execute_result"
    }
   ],
   "source": [
    "# Checks the number of NaN values in the review_text column\n",
    "order_reviews[\"review_text\"].isna().value_counts()"
   ]
  },
  {
   "cell_type": "markdown",
   "metadata": {},
   "source": [
    "More than half of the comments are missing, so we'll have to verify later if this problem is concentrated in a few states or if it's spread across the country."
   ]
  },
  {
   "cell_type": "code",
   "execution_count": 25,
   "metadata": {},
   "outputs": [
    {
     "data": {
      "text/html": [
       "<div>\n",
       "<style scoped>\n",
       "    .dataframe tbody tr th:only-of-type {\n",
       "        vertical-align: middle;\n",
       "    }\n",
       "\n",
       "    .dataframe tbody tr th {\n",
       "        vertical-align: top;\n",
       "    }\n",
       "\n",
       "    .dataframe thead th {\n",
       "        text-align: right;\n",
       "    }\n",
       "</style>\n",
       "<table border=\"1\" class=\"dataframe\">\n",
       "  <thead>\n",
       "    <tr style=\"text-align: right;\">\n",
       "      <th></th>\n",
       "      <th>review_id</th>\n",
       "      <th>order_id</th>\n",
       "      <th>review_score</th>\n",
       "      <th>review_comment_title</th>\n",
       "      <th>review_comment_message</th>\n",
       "      <th>review_creation_date</th>\n",
       "      <th>review_answer_timestamp</th>\n",
       "      <th>review_text</th>\n",
       "      <th>sentiment</th>\n",
       "      <th>positive_score</th>\n",
       "      <th>neutral_score</th>\n",
       "      <th>negative_score</th>\n",
       "      <th>sentiment_label</th>\n",
       "    </tr>\n",
       "  </thead>\n",
       "  <tbody>\n",
       "    <tr>\n",
       "      <th>0</th>\n",
       "      <td>7bc2406110b926393aa56f80a40eba40</td>\n",
       "      <td>73fc7af87114b39712e6da79b0a377eb</td>\n",
       "      <td>4</td>\n",
       "      <td>None</td>\n",
       "      <td>None</td>\n",
       "      <td>2018-01-18 00:00:00</td>\n",
       "      <td>2018-01-18 21:46:59</td>\n",
       "      <td>None</td>\n",
       "      <td>None</td>\n",
       "      <td>NaN</td>\n",
       "      <td>NaN</td>\n",
       "      <td>NaN</td>\n",
       "      <td>None</td>\n",
       "    </tr>\n",
       "    <tr>\n",
       "      <th>1</th>\n",
       "      <td>80e641a11e56f04c1ad469d5645fdfde</td>\n",
       "      <td>a548910a1c6147796b98fdf73dbeba33</td>\n",
       "      <td>5</td>\n",
       "      <td>None</td>\n",
       "      <td>None</td>\n",
       "      <td>2018-03-10 00:00:00</td>\n",
       "      <td>2018-03-11 03:05:13</td>\n",
       "      <td>None</td>\n",
       "      <td>None</td>\n",
       "      <td>NaN</td>\n",
       "      <td>NaN</td>\n",
       "      <td>NaN</td>\n",
       "      <td>None</td>\n",
       "    </tr>\n",
       "    <tr>\n",
       "      <th>2</th>\n",
       "      <td>228ce5500dc1d8e020d8d1322874b6f0</td>\n",
       "      <td>f9e4b658b201a9f2ecdecbb34bed034b</td>\n",
       "      <td>5</td>\n",
       "      <td>None</td>\n",
       "      <td>None</td>\n",
       "      <td>2018-02-17 00:00:00</td>\n",
       "      <td>2018-02-18 14:36:24</td>\n",
       "      <td>None</td>\n",
       "      <td>None</td>\n",
       "      <td>NaN</td>\n",
       "      <td>NaN</td>\n",
       "      <td>NaN</td>\n",
       "      <td>None</td>\n",
       "    </tr>\n",
       "    <tr>\n",
       "      <th>3</th>\n",
       "      <td>e64fb393e7b32834bb789ff8bb30750e</td>\n",
       "      <td>658677c97b385a9be170737859d3511b</td>\n",
       "      <td>5</td>\n",
       "      <td>None</td>\n",
       "      <td>Recebi bem antes do prazo estipulado.</td>\n",
       "      <td>2017-04-21 00:00:00</td>\n",
       "      <td>2017-04-21 22:02:06</td>\n",
       "      <td>recebi bem antes do prazo estipulado</td>\n",
       "      <td>{'NEG': 0.05595749616622925, 'NEU': 0.82182419...</td>\n",
       "      <td>0.122218</td>\n",
       "      <td>0.821824</td>\n",
       "      <td>0.055957</td>\n",
       "      <td>Neutral</td>\n",
       "    </tr>\n",
       "    <tr>\n",
       "      <th>4</th>\n",
       "      <td>f7c4243c7fe1938f181bec41a392bdeb</td>\n",
       "      <td>8e6bfb81e283fa7e4f11123a3fb894f1</td>\n",
       "      <td>5</td>\n",
       "      <td>None</td>\n",
       "      <td>Parabéns lojas lannister adorei comprar pela I...</td>\n",
       "      <td>2018-03-01 00:00:00</td>\n",
       "      <td>2018-03-02 10:26:53</td>\n",
       "      <td>parabéns lojas lannister adorei comprar pela i...</td>\n",
       "      <td>{'NEG': 0.0017929649911820889, 'NEU': 0.006466...</td>\n",
       "      <td>0.991741</td>\n",
       "      <td>0.006466</td>\n",
       "      <td>0.001793</td>\n",
       "      <td>Positive</td>\n",
       "    </tr>\n",
       "  </tbody>\n",
       "</table>\n",
       "</div>"
      ],
      "text/plain": [
       "                          review_id                          order_id  \\\n",
       "0  7bc2406110b926393aa56f80a40eba40  73fc7af87114b39712e6da79b0a377eb   \n",
       "1  80e641a11e56f04c1ad469d5645fdfde  a548910a1c6147796b98fdf73dbeba33   \n",
       "2  228ce5500dc1d8e020d8d1322874b6f0  f9e4b658b201a9f2ecdecbb34bed034b   \n",
       "3  e64fb393e7b32834bb789ff8bb30750e  658677c97b385a9be170737859d3511b   \n",
       "4  f7c4243c7fe1938f181bec41a392bdeb  8e6bfb81e283fa7e4f11123a3fb894f1   \n",
       "\n",
       "   review_score review_comment_title  \\\n",
       "0             4                 None   \n",
       "1             5                 None   \n",
       "2             5                 None   \n",
       "3             5                 None   \n",
       "4             5                 None   \n",
       "\n",
       "                              review_comment_message review_creation_date  \\\n",
       "0                                               None  2018-01-18 00:00:00   \n",
       "1                                               None  2018-03-10 00:00:00   \n",
       "2                                               None  2018-02-17 00:00:00   \n",
       "3              Recebi bem antes do prazo estipulado.  2017-04-21 00:00:00   \n",
       "4  Parabéns lojas lannister adorei comprar pela I...  2018-03-01 00:00:00   \n",
       "\n",
       "  review_answer_timestamp                                        review_text  \\\n",
       "0     2018-01-18 21:46:59                                               None   \n",
       "1     2018-03-11 03:05:13                                               None   \n",
       "2     2018-02-18 14:36:24                                               None   \n",
       "3     2017-04-21 22:02:06               recebi bem antes do prazo estipulado   \n",
       "4     2018-03-02 10:26:53  parabéns lojas lannister adorei comprar pela i...   \n",
       "\n",
       "                                           sentiment  positive_score  \\\n",
       "0                                               None             NaN   \n",
       "1                                               None             NaN   \n",
       "2                                               None             NaN   \n",
       "3  {'NEG': 0.05595749616622925, 'NEU': 0.82182419...        0.122218   \n",
       "4  {'NEG': 0.0017929649911820889, 'NEU': 0.006466...        0.991741   \n",
       "\n",
       "   neutral_score  negative_score sentiment_label  \n",
       "0            NaN             NaN            None  \n",
       "1            NaN             NaN            None  \n",
       "2            NaN             NaN            None  \n",
       "3       0.821824        0.055957         Neutral  \n",
       "4       0.006466        0.001793        Positive  "
      ]
     },
     "execution_count": 25,
     "metadata": {},
     "output_type": "execute_result"
    }
   ],
   "source": [
    "# If the .parquet file already exists, reads it\n",
    "# Otherwise, creates a new column with the sentiment and the score\n",
    "if project_folder.joinpath(\n",
    "    \"data\", \"processed\", \"order_reviews_sentiment.parquet\"\n",
    ").exists():\n",
    "    order_reviews_sentiment = pd.read_parquet(\n",
    "        project_folder.joinpath(\"data\", \"processed\", \"order_reviews_sentiment.parquet\")\n",
    "    )\n",
    "else:\n",
    "    # Copies the order_reviews dataframe\n",
    "    order_reviews_sentiment = order_reviews.copy()\n",
    "\n",
    "    # Creates a new column with the sentiment and the score\n",
    "    order_reviews_sentiment[\"sentiment\"] = order_reviews_sentiment[\"review_text\"].map(\n",
    "        lambda x: {\n",
    "            dictionary[\"label\"]: dictionary[\"score\"]\n",
    "            for dictionary in sentiment_classifier(x, top_k=None)\n",
    "        },\n",
    "        na_action=\"ignore\",\n",
    "    )\n",
    "\n",
    "    # Separates the sentiment and the score in different columns\n",
    "    order_reviews_sentiment[\"positive_score\"] = order_reviews_sentiment[\n",
    "        \"sentiment\"\n",
    "    ].map(lambda x: x[\"POS\"] if isinstance(x, dict) else np.nan)\n",
    "    order_reviews_sentiment[\"neutral_score\"] = order_reviews_sentiment[\"sentiment\"].map(\n",
    "        lambda x: x[\"NEU\"] if isinstance(x, dict) else np.nan\n",
    "    )\n",
    "    order_reviews_sentiment[\"negative_score\"] = order_reviews_sentiment[\n",
    "        \"sentiment\"\n",
    "    ].map(lambda x: x[\"NEG\"] if isinstance(x, dict) else np.nan)\n",
    "\n",
    "    # Creates a new column with the sentiment label\n",
    "    sentiment_labels = {\"POS\": \"Positive\", \"NEU\": \"Neutral\", \"NEG\": \"Negative\"}\n",
    "    order_reviews_sentiment[\"sentiment_label\"] = order_reviews_sentiment[\n",
    "        \"sentiment\"\n",
    "    ].map(\n",
    "        lambda x: sentiment_labels.get(max(x, key=x.get))\n",
    "        if isinstance(x, dict)\n",
    "        else np.nan\n",
    "    )\n",
    "\n",
    "    # Saves the dataframe to a .parquet file\n",
    "    order_reviews_sentiment.to_parquet(\n",
    "        project_folder.joinpath(\"data\", \"processed\", \"order_reviews_sentiment.parquet\"),\n",
    "        index=False,\n",
    "    )\n",
    "\n",
    "order_reviews_sentiment.head(5)"
   ]
  },
  {
   "cell_type": "code",
   "execution_count": 26,
   "metadata": {},
   "outputs": [
    {
     "data": {
      "text/html": [
       "<div>\n",
       "<style scoped>\n",
       "    .dataframe tbody tr th:only-of-type {\n",
       "        vertical-align: middle;\n",
       "    }\n",
       "\n",
       "    .dataframe tbody tr th {\n",
       "        vertical-align: top;\n",
       "    }\n",
       "\n",
       "    .dataframe thead th {\n",
       "        text-align: right;\n",
       "    }\n",
       "</style>\n",
       "<table border=\"1\" class=\"dataframe\">\n",
       "  <thead>\n",
       "    <tr style=\"text-align: right;\">\n",
       "      <th></th>\n",
       "      <th>positive_score</th>\n",
       "      <th>review_text</th>\n",
       "    </tr>\n",
       "  </thead>\n",
       "  <tbody>\n",
       "    <tr>\n",
       "      <th>5235</th>\n",
       "      <td>0.994251</td>\n",
       "      <td>o produto é uma graça além de pratico muito li...</td>\n",
       "    </tr>\n",
       "    <tr>\n",
       "      <th>8367</th>\n",
       "      <td>0.994110</td>\n",
       "      <td>otímo adorei a cauterização da trivitt quero p...</td>\n",
       "    </tr>\n",
       "    <tr>\n",
       "      <th>65108</th>\n",
       "      <td>0.994079</td>\n",
       "      <td>ótimo muito bom e lindo o produto</td>\n",
       "    </tr>\n",
       "    <tr>\n",
       "      <th>70627</th>\n",
       "      <td>0.994033</td>\n",
       "      <td>amei o produto agilidade na entrega chegou mui...</td>\n",
       "    </tr>\n",
       "    <tr>\n",
       "      <th>64788</th>\n",
       "      <td>0.994011</td>\n",
       "      <td>muito bom a lojas lannister produtos muito bonito</td>\n",
       "    </tr>\n",
       "  </tbody>\n",
       "</table>\n",
       "</div>"
      ],
      "text/plain": [
       "       positive_score                                        review_text\n",
       "5235         0.994251  o produto é uma graça além de pratico muito li...\n",
       "8367         0.994110  otímo adorei a cauterização da trivitt quero p...\n",
       "65108        0.994079                  ótimo muito bom e lindo o produto\n",
       "70627        0.994033  amei o produto agilidade na entrega chegou mui...\n",
       "64788        0.994011  muito bom a lojas lannister produtos muito bonito"
      ]
     },
     "execution_count": 26,
     "metadata": {},
     "output_type": "execute_result"
    }
   ],
   "source": [
    "# Positive reviews examples\n",
    "order_reviews_sentiment[[\"positive_score\", \"review_text\"]].sort_values(\n",
    "    by=\"positive_score\", ascending=False\n",
    ").head(5)"
   ]
  },
  {
   "cell_type": "code",
   "execution_count": 27,
   "metadata": {},
   "outputs": [
    {
     "data": {
      "text/html": [
       "<div>\n",
       "<style scoped>\n",
       "    .dataframe tbody tr th:only-of-type {\n",
       "        vertical-align: middle;\n",
       "    }\n",
       "\n",
       "    .dataframe tbody tr th {\n",
       "        vertical-align: top;\n",
       "    }\n",
       "\n",
       "    .dataframe thead th {\n",
       "        text-align: right;\n",
       "    }\n",
       "</style>\n",
       "<table border=\"1\" class=\"dataframe\">\n",
       "  <thead>\n",
       "    <tr style=\"text-align: right;\">\n",
       "      <th></th>\n",
       "      <th>neutral_score</th>\n",
       "      <th>review_text</th>\n",
       "    </tr>\n",
       "  </thead>\n",
       "  <tbody>\n",
       "    <tr>\n",
       "      <th>49780</th>\n",
       "      <td>0.975681</td>\n",
       "      <td>somente o toner amarelo chegou até o momento</td>\n",
       "    </tr>\n",
       "    <tr>\n",
       "      <th>57174</th>\n",
       "      <td>0.974293</td>\n",
       "      <td>dentro do anunciado</td>\n",
       "    </tr>\n",
       "    <tr>\n",
       "      <th>54419</th>\n",
       "      <td>0.969607</td>\n",
       "      <td>estampa diferente do anunciado</td>\n",
       "    </tr>\n",
       "    <tr>\n",
       "      <th>89361</th>\n",
       "      <td>0.969598</td>\n",
       "      <td>ainda vou avaliar se realmente é original da p...</td>\n",
       "    </tr>\n",
       "    <tr>\n",
       "      <th>94277</th>\n",
       "      <td>0.967110</td>\n",
       "      <td>luminária o produto é um plástico duro vamos v...</td>\n",
       "    </tr>\n",
       "  </tbody>\n",
       "</table>\n",
       "</div>"
      ],
      "text/plain": [
       "       neutral_score                                        review_text\n",
       "49780       0.975681       somente o toner amarelo chegou até o momento\n",
       "57174       0.974293                                dentro do anunciado\n",
       "54419       0.969607                     estampa diferente do anunciado\n",
       "89361       0.969598  ainda vou avaliar se realmente é original da p...\n",
       "94277       0.967110  luminária o produto é um plástico duro vamos v..."
      ]
     },
     "execution_count": 27,
     "metadata": {},
     "output_type": "execute_result"
    }
   ],
   "source": [
    "# Neutral reviews examples\n",
    "order_reviews_sentiment[[\"neutral_score\", \"review_text\"]].sort_values(\n",
    "    by=\"neutral_score\", ascending=False\n",
    ").head(5)"
   ]
  },
  {
   "cell_type": "code",
   "execution_count": 28,
   "metadata": {},
   "outputs": [
    {
     "data": {
      "text/html": [
       "<div>\n",
       "<style scoped>\n",
       "    .dataframe tbody tr th:only-of-type {\n",
       "        vertical-align: middle;\n",
       "    }\n",
       "\n",
       "    .dataframe tbody tr th {\n",
       "        vertical-align: top;\n",
       "    }\n",
       "\n",
       "    .dataframe thead th {\n",
       "        text-align: right;\n",
       "    }\n",
       "</style>\n",
       "<table border=\"1\" class=\"dataframe\">\n",
       "  <thead>\n",
       "    <tr style=\"text-align: right;\">\n",
       "      <th></th>\n",
       "      <th>negative_score</th>\n",
       "      <th>review_text</th>\n",
       "    </tr>\n",
       "  </thead>\n",
       "  <tbody>\n",
       "    <tr>\n",
       "      <th>17795</th>\n",
       "      <td>0.993699</td>\n",
       "      <td>relógio horrível péssimo sem qualidade materia...</td>\n",
       "    </tr>\n",
       "    <tr>\n",
       "      <th>10432</th>\n",
       "      <td>0.993670</td>\n",
       "      <td>não gostei tecido ruim péssimo</td>\n",
       "    </tr>\n",
       "    <tr>\n",
       "      <th>65079</th>\n",
       "      <td>0.993641</td>\n",
       "      <td>a manta é uma porcaria não vale nada é pior qu...</td>\n",
       "    </tr>\n",
       "    <tr>\n",
       "      <th>44775</th>\n",
       "      <td>0.993618</td>\n",
       "      <td>não gostei do acabamento produto de péssima qu...</td>\n",
       "    </tr>\n",
       "    <tr>\n",
       "      <th>55536</th>\n",
       "      <td>0.993502</td>\n",
       "      <td>produto de péssima qualidade a estampa do skat...</td>\n",
       "    </tr>\n",
       "  </tbody>\n",
       "</table>\n",
       "</div>"
      ],
      "text/plain": [
       "       negative_score                                        review_text\n",
       "17795        0.993699  relógio horrível péssimo sem qualidade materia...\n",
       "10432        0.993670                     não gostei tecido ruim péssimo\n",
       "65079        0.993641  a manta é uma porcaria não vale nada é pior qu...\n",
       "44775        0.993618  não gostei do acabamento produto de péssima qu...\n",
       "55536        0.993502  produto de péssima qualidade a estampa do skat..."
      ]
     },
     "execution_count": 28,
     "metadata": {},
     "output_type": "execute_result"
    }
   ],
   "source": [
    "# Negative reviews examples\n",
    "order_reviews_sentiment[[\"negative_score\", \"review_text\"]].sort_values(\n",
    "    by=\"negative_score\", ascending=False\n",
    ").head(5)"
   ]
  },
  {
   "cell_type": "markdown",
   "metadata": {},
   "source": [
    "### Sentiment vs. order review score correlation"
   ]
  },
  {
   "cell_type": "code",
   "execution_count": 29,
   "metadata": {},
   "outputs": [
    {
     "data": {
      "application/vnd.plotly.v1+json": {
       "config": {
        "plotlyServerURL": "https://plot.ly"
       },
       "data": [
        {
         "marker": {
          "color": "#49B265"
         },
         "name": "Positive",
         "type": "bar",
         "x": [
          1,
          2,
          3,
          4,
          5
         ],
         "y": [
          107,
          105,
          738,
          3456,
          17359
         ]
        },
        {
         "marker": {
          "color": "#ffc31c"
         },
         "name": "Neutral",
         "type": "bar",
         "x": [
          1,
          2,
          3,
          4,
          5
         ],
         "y": [
          3543,
          985,
          1716,
          2117,
          3920
         ]
        },
        {
         "marker": {
          "color": "#ff2d39"
         },
         "name": "Negative",
         "type": "bar",
         "x": [
          1,
          2,
          3,
          4,
          5
         ],
         "y": [
          5167,
          1071,
          1174,
          649,
          347
         ]
        },
        {
         "marker": {
          "color": "#a9a9a9"
         },
         "name": "No comment",
         "type": "bar",
         "x": [
          1,
          2,
          3,
          4,
          5
         ],
         "y": [
          2607,
          990,
          4551,
          12920,
          35702
         ]
        }
       ],
       "layout": {
        "legend": {
         "orientation": "h",
         "x": 0.5,
         "xanchor": "center",
         "y": 1,
         "yanchor": "bottom"
        },
        "template": {
         "data": {
          "bar": [
           {
            "error_x": {
             "color": "#2a3f5f"
            },
            "error_y": {
             "color": "#2a3f5f"
            },
            "marker": {
             "line": {
              "color": "white",
              "width": 0.5
             },
             "pattern": {
              "fillmode": "overlay",
              "size": 10,
              "solidity": 0.2
             }
            },
            "type": "bar"
           }
          ],
          "barpolar": [
           {
            "marker": {
             "line": {
              "color": "white",
              "width": 0.5
             },
             "pattern": {
              "fillmode": "overlay",
              "size": 10,
              "solidity": 0.2
             }
            },
            "type": "barpolar"
           }
          ],
          "carpet": [
           {
            "aaxis": {
             "endlinecolor": "#2a3f5f",
             "gridcolor": "#C8D4E3",
             "linecolor": "#C8D4E3",
             "minorgridcolor": "#C8D4E3",
             "startlinecolor": "#2a3f5f"
            },
            "baxis": {
             "endlinecolor": "#2a3f5f",
             "gridcolor": "#C8D4E3",
             "linecolor": "#C8D4E3",
             "minorgridcolor": "#C8D4E3",
             "startlinecolor": "#2a3f5f"
            },
            "type": "carpet"
           }
          ],
          "choropleth": [
           {
            "colorbar": {
             "outlinewidth": 0,
             "ticks": ""
            },
            "type": "choropleth"
           }
          ],
          "contour": [
           {
            "colorbar": {
             "outlinewidth": 0,
             "ticks": ""
            },
            "colorscale": [
             [
              0,
              "#0d0887"
             ],
             [
              0.1111111111111111,
              "#46039f"
             ],
             [
              0.2222222222222222,
              "#7201a8"
             ],
             [
              0.3333333333333333,
              "#9c179e"
             ],
             [
              0.4444444444444444,
              "#bd3786"
             ],
             [
              0.5555555555555556,
              "#d8576b"
             ],
             [
              0.6666666666666666,
              "#ed7953"
             ],
             [
              0.7777777777777778,
              "#fb9f3a"
             ],
             [
              0.8888888888888888,
              "#fdca26"
             ],
             [
              1,
              "#f0f921"
             ]
            ],
            "type": "contour"
           }
          ],
          "contourcarpet": [
           {
            "colorbar": {
             "outlinewidth": 0,
             "ticks": ""
            },
            "type": "contourcarpet"
           }
          ],
          "heatmap": [
           {
            "colorbar": {
             "outlinewidth": 0,
             "ticks": ""
            },
            "colorscale": [
             [
              0,
              "#0d0887"
             ],
             [
              0.1111111111111111,
              "#46039f"
             ],
             [
              0.2222222222222222,
              "#7201a8"
             ],
             [
              0.3333333333333333,
              "#9c179e"
             ],
             [
              0.4444444444444444,
              "#bd3786"
             ],
             [
              0.5555555555555556,
              "#d8576b"
             ],
             [
              0.6666666666666666,
              "#ed7953"
             ],
             [
              0.7777777777777778,
              "#fb9f3a"
             ],
             [
              0.8888888888888888,
              "#fdca26"
             ],
             [
              1,
              "#f0f921"
             ]
            ],
            "type": "heatmap"
           }
          ],
          "heatmapgl": [
           {
            "colorbar": {
             "outlinewidth": 0,
             "ticks": ""
            },
            "colorscale": [
             [
              0,
              "#0d0887"
             ],
             [
              0.1111111111111111,
              "#46039f"
             ],
             [
              0.2222222222222222,
              "#7201a8"
             ],
             [
              0.3333333333333333,
              "#9c179e"
             ],
             [
              0.4444444444444444,
              "#bd3786"
             ],
             [
              0.5555555555555556,
              "#d8576b"
             ],
             [
              0.6666666666666666,
              "#ed7953"
             ],
             [
              0.7777777777777778,
              "#fb9f3a"
             ],
             [
              0.8888888888888888,
              "#fdca26"
             ],
             [
              1,
              "#f0f921"
             ]
            ],
            "type": "heatmapgl"
           }
          ],
          "histogram": [
           {
            "marker": {
             "pattern": {
              "fillmode": "overlay",
              "size": 10,
              "solidity": 0.2
             }
            },
            "type": "histogram"
           }
          ],
          "histogram2d": [
           {
            "colorbar": {
             "outlinewidth": 0,
             "ticks": ""
            },
            "colorscale": [
             [
              0,
              "#0d0887"
             ],
             [
              0.1111111111111111,
              "#46039f"
             ],
             [
              0.2222222222222222,
              "#7201a8"
             ],
             [
              0.3333333333333333,
              "#9c179e"
             ],
             [
              0.4444444444444444,
              "#bd3786"
             ],
             [
              0.5555555555555556,
              "#d8576b"
             ],
             [
              0.6666666666666666,
              "#ed7953"
             ],
             [
              0.7777777777777778,
              "#fb9f3a"
             ],
             [
              0.8888888888888888,
              "#fdca26"
             ],
             [
              1,
              "#f0f921"
             ]
            ],
            "type": "histogram2d"
           }
          ],
          "histogram2dcontour": [
           {
            "colorbar": {
             "outlinewidth": 0,
             "ticks": ""
            },
            "colorscale": [
             [
              0,
              "#0d0887"
             ],
             [
              0.1111111111111111,
              "#46039f"
             ],
             [
              0.2222222222222222,
              "#7201a8"
             ],
             [
              0.3333333333333333,
              "#9c179e"
             ],
             [
              0.4444444444444444,
              "#bd3786"
             ],
             [
              0.5555555555555556,
              "#d8576b"
             ],
             [
              0.6666666666666666,
              "#ed7953"
             ],
             [
              0.7777777777777778,
              "#fb9f3a"
             ],
             [
              0.8888888888888888,
              "#fdca26"
             ],
             [
              1,
              "#f0f921"
             ]
            ],
            "type": "histogram2dcontour"
           }
          ],
          "mesh3d": [
           {
            "colorbar": {
             "outlinewidth": 0,
             "ticks": ""
            },
            "type": "mesh3d"
           }
          ],
          "parcoords": [
           {
            "line": {
             "colorbar": {
              "outlinewidth": 0,
              "ticks": ""
             }
            },
            "type": "parcoords"
           }
          ],
          "pie": [
           {
            "automargin": true,
            "type": "pie"
           }
          ],
          "scatter": [
           {
            "fillpattern": {
             "fillmode": "overlay",
             "size": 10,
             "solidity": 0.2
            },
            "type": "scatter"
           }
          ],
          "scatter3d": [
           {
            "line": {
             "colorbar": {
              "outlinewidth": 0,
              "ticks": ""
             }
            },
            "marker": {
             "colorbar": {
              "outlinewidth": 0,
              "ticks": ""
             }
            },
            "type": "scatter3d"
           }
          ],
          "scattercarpet": [
           {
            "marker": {
             "colorbar": {
              "outlinewidth": 0,
              "ticks": ""
             }
            },
            "type": "scattercarpet"
           }
          ],
          "scattergeo": [
           {
            "marker": {
             "colorbar": {
              "outlinewidth": 0,
              "ticks": ""
             }
            },
            "type": "scattergeo"
           }
          ],
          "scattergl": [
           {
            "marker": {
             "colorbar": {
              "outlinewidth": 0,
              "ticks": ""
             }
            },
            "type": "scattergl"
           }
          ],
          "scattermapbox": [
           {
            "marker": {
             "colorbar": {
              "outlinewidth": 0,
              "ticks": ""
             }
            },
            "type": "scattermapbox"
           }
          ],
          "scatterpolar": [
           {
            "marker": {
             "colorbar": {
              "outlinewidth": 0,
              "ticks": ""
             }
            },
            "type": "scatterpolar"
           }
          ],
          "scatterpolargl": [
           {
            "marker": {
             "colorbar": {
              "outlinewidth": 0,
              "ticks": ""
             }
            },
            "type": "scatterpolargl"
           }
          ],
          "scatterternary": [
           {
            "marker": {
             "colorbar": {
              "outlinewidth": 0,
              "ticks": ""
             }
            },
            "type": "scatterternary"
           }
          ],
          "surface": [
           {
            "colorbar": {
             "outlinewidth": 0,
             "ticks": ""
            },
            "colorscale": [
             [
              0,
              "#0d0887"
             ],
             [
              0.1111111111111111,
              "#46039f"
             ],
             [
              0.2222222222222222,
              "#7201a8"
             ],
             [
              0.3333333333333333,
              "#9c179e"
             ],
             [
              0.4444444444444444,
              "#bd3786"
             ],
             [
              0.5555555555555556,
              "#d8576b"
             ],
             [
              0.6666666666666666,
              "#ed7953"
             ],
             [
              0.7777777777777778,
              "#fb9f3a"
             ],
             [
              0.8888888888888888,
              "#fdca26"
             ],
             [
              1,
              "#f0f921"
             ]
            ],
            "type": "surface"
           }
          ],
          "table": [
           {
            "cells": {
             "fill": {
              "color": "#EBF0F8"
             },
             "line": {
              "color": "white"
             }
            },
            "header": {
             "fill": {
              "color": "#C8D4E3"
             },
             "line": {
              "color": "white"
             }
            },
            "type": "table"
           }
          ]
         },
         "layout": {
          "annotationdefaults": {
           "arrowcolor": "#2a3f5f",
           "arrowhead": 0,
           "arrowwidth": 1
          },
          "autotypenumbers": "strict",
          "coloraxis": {
           "colorbar": {
            "outlinewidth": 0,
            "ticks": ""
           }
          },
          "colorscale": {
           "diverging": [
            [
             0,
             "#8e0152"
            ],
            [
             0.1,
             "#c51b7d"
            ],
            [
             0.2,
             "#de77ae"
            ],
            [
             0.3,
             "#f1b6da"
            ],
            [
             0.4,
             "#fde0ef"
            ],
            [
             0.5,
             "#f7f7f7"
            ],
            [
             0.6,
             "#e6f5d0"
            ],
            [
             0.7,
             "#b8e186"
            ],
            [
             0.8,
             "#7fbc41"
            ],
            [
             0.9,
             "#4d9221"
            ],
            [
             1,
             "#276419"
            ]
           ],
           "sequential": [
            [
             0,
             "#0d0887"
            ],
            [
             0.1111111111111111,
             "#46039f"
            ],
            [
             0.2222222222222222,
             "#7201a8"
            ],
            [
             0.3333333333333333,
             "#9c179e"
            ],
            [
             0.4444444444444444,
             "#bd3786"
            ],
            [
             0.5555555555555556,
             "#d8576b"
            ],
            [
             0.6666666666666666,
             "#ed7953"
            ],
            [
             0.7777777777777778,
             "#fb9f3a"
            ],
            [
             0.8888888888888888,
             "#fdca26"
            ],
            [
             1,
             "#f0f921"
            ]
           ],
           "sequentialminus": [
            [
             0,
             "#0d0887"
            ],
            [
             0.1111111111111111,
             "#46039f"
            ],
            [
             0.2222222222222222,
             "#7201a8"
            ],
            [
             0.3333333333333333,
             "#9c179e"
            ],
            [
             0.4444444444444444,
             "#bd3786"
            ],
            [
             0.5555555555555556,
             "#d8576b"
            ],
            [
             0.6666666666666666,
             "#ed7953"
            ],
            [
             0.7777777777777778,
             "#fb9f3a"
            ],
            [
             0.8888888888888888,
             "#fdca26"
            ],
            [
             1,
             "#f0f921"
            ]
           ]
          },
          "colorway": [
           "#636efa",
           "#EF553B",
           "#00cc96",
           "#ab63fa",
           "#FFA15A",
           "#19d3f3",
           "#FF6692",
           "#B6E880",
           "#FF97FF",
           "#FECB52"
          ],
          "font": {
           "color": "#2a3f5f"
          },
          "geo": {
           "bgcolor": "white",
           "lakecolor": "white",
           "landcolor": "white",
           "showlakes": true,
           "showland": true,
           "subunitcolor": "#C8D4E3"
          },
          "hoverlabel": {
           "align": "left"
          },
          "hovermode": "closest",
          "mapbox": {
           "style": "light"
          },
          "paper_bgcolor": "white",
          "plot_bgcolor": "white",
          "polar": {
           "angularaxis": {
            "gridcolor": "#EBF0F8",
            "linecolor": "#EBF0F8",
            "ticks": ""
           },
           "bgcolor": "white",
           "radialaxis": {
            "gridcolor": "#EBF0F8",
            "linecolor": "#EBF0F8",
            "ticks": ""
           }
          },
          "scene": {
           "xaxis": {
            "backgroundcolor": "white",
            "gridcolor": "#DFE8F3",
            "gridwidth": 2,
            "linecolor": "#EBF0F8",
            "showbackground": true,
            "ticks": "",
            "zerolinecolor": "#EBF0F8"
           },
           "yaxis": {
            "backgroundcolor": "white",
            "gridcolor": "#DFE8F3",
            "gridwidth": 2,
            "linecolor": "#EBF0F8",
            "showbackground": true,
            "ticks": "",
            "zerolinecolor": "#EBF0F8"
           },
           "zaxis": {
            "backgroundcolor": "white",
            "gridcolor": "#DFE8F3",
            "gridwidth": 2,
            "linecolor": "#EBF0F8",
            "showbackground": true,
            "ticks": "",
            "zerolinecolor": "#EBF0F8"
           }
          },
          "shapedefaults": {
           "line": {
            "color": "#2a3f5f"
           }
          },
          "ternary": {
           "aaxis": {
            "gridcolor": "#DFE8F3",
            "linecolor": "#A2B1C6",
            "ticks": ""
           },
           "baxis": {
            "gridcolor": "#DFE8F3",
            "linecolor": "#A2B1C6",
            "ticks": ""
           },
           "bgcolor": "white",
           "caxis": {
            "gridcolor": "#DFE8F3",
            "linecolor": "#A2B1C6",
            "ticks": ""
           }
          },
          "title": {
           "x": 0.05
          },
          "xaxis": {
           "automargin": true,
           "gridcolor": "#EBF0F8",
           "linecolor": "#EBF0F8",
           "ticks": "",
           "title": {
            "standoff": 15
           },
           "zerolinecolor": "#EBF0F8",
           "zerolinewidth": 2
          },
          "yaxis": {
           "automargin": true,
           "gridcolor": "#EBF0F8",
           "linecolor": "#EBF0F8",
           "ticks": "",
           "title": {
            "standoff": 15
           },
           "zerolinecolor": "#EBF0F8",
           "zerolinewidth": 2
          }
         }
        },
        "title": {
         "text": "Number of Reviews by Review Score and Sentiment"
        },
        "xaxis": {
         "title": {
          "text": "Review Score"
         }
        },
        "yaxis": {
         "dtick": 5000,
         "title": {
          "text": "# Reviews"
         }
        }
       }
      }
     },
     "metadata": {},
     "output_type": "display_data"
    }
   ],
   "source": [
    "# Creates a aggregated dataframe with the percentage of positive, neutral and negative reviews by review_score\n",
    "sentiment_by_review_rate = (\n",
    "    order_reviews_sentiment[[\"review_score\", \"sentiment_label\", \"review_id\"]]\n",
    "    .fillna(\"No comment\")\n",
    "    .groupby(by=[\"review_score\", \"sentiment_label\"])\n",
    "    .agg({\"review_id\": \"count\"})\n",
    "    .reset_index()\n",
    "    .rename(columns={\"review_id\": \"n_reviews\"})\n",
    ")\n",
    "\n",
    "sentiment_color_map = {\n",
    "    \"Positive\": \"#49B265\",\n",
    "    \"Neutral\": \"#ffc31c\",\n",
    "    \"Negative\": \"#ff2d39\",\n",
    "    \"No comment\": \"#a9a9a9\",\n",
    "}\n",
    "\n",
    "fig = go.Figure()\n",
    "\n",
    "for sentiment in sentiment_color_map.keys():\n",
    "    fig.add_trace(\n",
    "        go.Bar(\n",
    "            x=sentiment_by_review_rate[\n",
    "                sentiment_by_review_rate[\"sentiment_label\"] == sentiment\n",
    "            ][\"review_score\"],\n",
    "            y=sentiment_by_review_rate[\n",
    "                sentiment_by_review_rate[\"sentiment_label\"] == sentiment\n",
    "            ][\"n_reviews\"],\n",
    "            name=sentiment,\n",
    "            marker_color=sentiment_color_map[sentiment],\n",
    "        )\n",
    "    )\n",
    "\n",
    "fig.update_layout(\n",
    "    title_text=\"Number of Reviews by Review Score and Sentiment\",\n",
    "    xaxis=dict(title=\"Review Score\"),\n",
    "    yaxis=dict(title=\"# Reviews\"),\n",
    ")\n",
    "\n",
    "# Sets the step of the yaxis to 2000 orders\n",
    "fig.update_yaxes(dtick=5000)\n",
    "\n",
    "# Move legend to the top\n",
    "fig.update_layout(\n",
    "    legend=dict(orientation=\"h\", yanchor=\"bottom\", y=1, xanchor=\"center\", x=0.5)\n",
    ")\n",
    "\n",
    "\n",
    "fig.show()"
   ]
  },
  {
   "cell_type": "markdown",
   "metadata": {},
   "source": [
    "Most of the positive comments are distributed in the 4 and 5-star reviews, while the negative comments are concentrated in the 1-star reviews.\n",
    "\n",
    "Furthermore, 5-star reviews concentrate the highest number of comments in general.\n",
    "\n",
    "Another insight is that the number of missing comments decreases as the ratings given to orders increase, probably because customers are **more likely to leave a comment when they are unsatisfied** with their purchase."
   ]
  },
  {
   "cell_type": "markdown",
   "metadata": {},
   "source": [
    "But what about positive comments in a 1-star reviews and negative comments in a 5-star reviews? Despite being uncommon, they do exist. Let's take a look at some examples:"
   ]
  },
  {
   "cell_type": "code",
   "execution_count": 30,
   "metadata": {},
   "outputs": [
    {
     "data": {
      "text/html": [
       "<div>\n",
       "<style scoped>\n",
       "    .dataframe tbody tr th:only-of-type {\n",
       "        vertical-align: middle;\n",
       "    }\n",
       "\n",
       "    .dataframe tbody tr th {\n",
       "        vertical-align: top;\n",
       "    }\n",
       "\n",
       "    .dataframe thead th {\n",
       "        text-align: right;\n",
       "    }\n",
       "</style>\n",
       "<table border=\"1\" class=\"dataframe\">\n",
       "  <thead>\n",
       "    <tr style=\"text-align: right;\">\n",
       "      <th></th>\n",
       "      <th>review_score</th>\n",
       "      <th>sentiment_label</th>\n",
       "      <th>review_text</th>\n",
       "    </tr>\n",
       "  </thead>\n",
       "  <tbody>\n",
       "    <tr>\n",
       "      <th>170</th>\n",
       "      <td>5</td>\n",
       "      <td>Negative</td>\n",
       "      <td>prazo entrega espero receber esta semana o que...</td>\n",
       "    </tr>\n",
       "    <tr>\n",
       "      <th>204</th>\n",
       "      <td>5</td>\n",
       "      <td>Negative</td>\n",
       "      <td>nada a declarar</td>\n",
       "    </tr>\n",
       "    <tr>\n",
       "      <th>430</th>\n",
       "      <td>5</td>\n",
       "      <td>Negative</td>\n",
       "      <td>produto fraco quanto ao site não tenho o que q...</td>\n",
       "    </tr>\n",
       "    <tr>\n",
       "      <th>674</th>\n",
       "      <td>5</td>\n",
       "      <td>Negative</td>\n",
       "      <td>sdds</td>\n",
       "    </tr>\n",
       "    <tr>\n",
       "      <th>812</th>\n",
       "      <td>5</td>\n",
       "      <td>Negative</td>\n",
       "      <td>n a</td>\n",
       "    </tr>\n",
       "    <tr>\n",
       "      <th>1020</th>\n",
       "      <td>5</td>\n",
       "      <td>Negative</td>\n",
       "      <td>péssima recebi o produto que eh falso quero me...</td>\n",
       "    </tr>\n",
       "    <tr>\n",
       "      <th>1217</th>\n",
       "      <td>5</td>\n",
       "      <td>Negative</td>\n",
       "      <td>só acho que poderia ter comprado mais cartucho...</td>\n",
       "    </tr>\n",
       "    <tr>\n",
       "      <th>1566</th>\n",
       "      <td>5</td>\n",
       "      <td>Negative</td>\n",
       "      <td>balancim ainda não pode avaliar o produto esto...</td>\n",
       "    </tr>\n",
       "    <tr>\n",
       "      <th>1742</th>\n",
       "      <td>5</td>\n",
       "      <td>Negative</td>\n",
       "      <td>lojas lannister cumpre prazo mercadoria corret...</td>\n",
       "    </tr>\n",
       "    <tr>\n",
       "      <th>1898</th>\n",
       "      <td>5</td>\n",
       "      <td>Negative</td>\n",
       "      <td>tudo correto exceto a demora que não é culpa d...</td>\n",
       "    </tr>\n",
       "  </tbody>\n",
       "</table>\n",
       "</div>"
      ],
      "text/plain": [
       "      review_score sentiment_label  \\\n",
       "170              5        Negative   \n",
       "204              5        Negative   \n",
       "430              5        Negative   \n",
       "674              5        Negative   \n",
       "812              5        Negative   \n",
       "1020             5        Negative   \n",
       "1217             5        Negative   \n",
       "1566             5        Negative   \n",
       "1742             5        Negative   \n",
       "1898             5        Negative   \n",
       "\n",
       "                                            review_text  \n",
       "170   prazo entrega espero receber esta semana o que...  \n",
       "204                                     nada a declarar  \n",
       "430   produto fraco quanto ao site não tenho o que q...  \n",
       "674                                                sdds  \n",
       "812                                                 n a  \n",
       "1020  péssima recebi o produto que eh falso quero me...  \n",
       "1217  só acho que poderia ter comprado mais cartucho...  \n",
       "1566  balancim ainda não pode avaliar o produto esto...  \n",
       "1742  lojas lannister cumpre prazo mercadoria corret...  \n",
       "1898  tudo correto exceto a demora que não é culpa d...  "
      ]
     },
     "execution_count": 30,
     "metadata": {},
     "output_type": "execute_result"
    }
   ],
   "source": [
    "# 5-star reviews with negative sentiment\n",
    "order_reviews_sentiment[\n",
    "    (order_reviews_sentiment[\"review_score\"] == 5)\n",
    "    & (order_reviews_sentiment[\"sentiment_label\"] == \"Negative\")\n",
    "][[\"review_score\", \"sentiment_label\", \"review_text\"]].head(10)"
   ]
  },
  {
   "cell_type": "markdown",
   "metadata": {},
   "source": [
    "Here we can see that the customer was satisfied with the product, but the delivery was delayed.\n",
    "\n",
    "Or in other cases, the customer was satisfied with the purchase process in marketplace, but the received product was not what they expected.\n",
    "\n",
    "There are some comments classified as negative, but the customer wrote monotone comments, like \"ok\" or \"n a\". Here we can fine tune the model to classify these comments as neutral and solve this problem in future updates."
   ]
  },
  {
   "cell_type": "code",
   "execution_count": 31,
   "metadata": {},
   "outputs": [
    {
     "data": {
      "text/html": [
       "<div>\n",
       "<style scoped>\n",
       "    .dataframe tbody tr th:only-of-type {\n",
       "        vertical-align: middle;\n",
       "    }\n",
       "\n",
       "    .dataframe tbody tr th {\n",
       "        vertical-align: top;\n",
       "    }\n",
       "\n",
       "    .dataframe thead th {\n",
       "        text-align: right;\n",
       "    }\n",
       "</style>\n",
       "<table border=\"1\" class=\"dataframe\">\n",
       "  <thead>\n",
       "    <tr style=\"text-align: right;\">\n",
       "      <th></th>\n",
       "      <th>review_score</th>\n",
       "      <th>sentiment_label</th>\n",
       "      <th>review_text</th>\n",
       "    </tr>\n",
       "  </thead>\n",
       "  <tbody>\n",
       "    <tr>\n",
       "      <th>59843</th>\n",
       "      <td>1</td>\n",
       "      <td>Positive</td>\n",
       "      <td>otima muito agel com a entrega obrigado</td>\n",
       "    </tr>\n",
       "    <tr>\n",
       "      <th>89390</th>\n",
       "      <td>1</td>\n",
       "      <td>Positive</td>\n",
       "      <td>muito bjom</td>\n",
       "    </tr>\n",
       "    <tr>\n",
       "      <th>6272</th>\n",
       "      <td>1</td>\n",
       "      <td>Positive</td>\n",
       "      <td>gostei de comprar nas lannister envio rápido e...</td>\n",
       "    </tr>\n",
       "    <tr>\n",
       "      <th>93490</th>\n",
       "      <td>1</td>\n",
       "      <td>Positive</td>\n",
       "      <td>recramação estou esperando a resposta do parce...</td>\n",
       "    </tr>\n",
       "    <tr>\n",
       "      <th>13856</th>\n",
       "      <td>1</td>\n",
       "      <td>Positive</td>\n",
       "      <td>super recomendo</td>\n",
       "    </tr>\n",
       "    <tr>\n",
       "      <th>19224</th>\n",
       "      <td>1</td>\n",
       "      <td>Positive</td>\n",
       "      <td>infelizmente o produto veio errado pedi chocol...</td>\n",
       "    </tr>\n",
       "    <tr>\n",
       "      <th>67729</th>\n",
       "      <td>1</td>\n",
       "      <td>Positive</td>\n",
       "      <td>atrazada</td>\n",
       "    </tr>\n",
       "    <tr>\n",
       "      <th>9831</th>\n",
       "      <td>1</td>\n",
       "      <td>Positive</td>\n",
       "      <td>ótimo site para comprar muito confiável</td>\n",
       "    </tr>\n",
       "    <tr>\n",
       "      <th>50813</th>\n",
       "      <td>1</td>\n",
       "      <td>Positive</td>\n",
       "      <td>gostei só que demorou muito p chegar</td>\n",
       "    </tr>\n",
       "    <tr>\n",
       "      <th>85702</th>\n",
       "      <td>1</td>\n",
       "      <td>Positive</td>\n",
       "      <td>amei a forma de entega foi muito rápido e prát...</td>\n",
       "    </tr>\n",
       "  </tbody>\n",
       "</table>\n",
       "</div>"
      ],
      "text/plain": [
       "       review_score sentiment_label  \\\n",
       "59843             1        Positive   \n",
       "89390             1        Positive   \n",
       "6272              1        Positive   \n",
       "93490             1        Positive   \n",
       "13856             1        Positive   \n",
       "19224             1        Positive   \n",
       "67729             1        Positive   \n",
       "9831              1        Positive   \n",
       "50813             1        Positive   \n",
       "85702             1        Positive   \n",
       "\n",
       "                                             review_text  \n",
       "59843            otima muito agel com a entrega obrigado  \n",
       "89390                                         muito bjom  \n",
       "6272   gostei de comprar nas lannister envio rápido e...  \n",
       "93490  recramação estou esperando a resposta do parce...  \n",
       "13856                                    super recomendo  \n",
       "19224  infelizmente o produto veio errado pedi chocol...  \n",
       "67729                                           atrazada  \n",
       "9831             ótimo site para comprar muito confiável  \n",
       "50813               gostei só que demorou muito p chegar  \n",
       "85702  amei a forma de entega foi muito rápido e prát...  "
      ]
     },
     "execution_count": 31,
     "metadata": {},
     "output_type": "execute_result"
    }
   ],
   "source": [
    "# 5-star reviews with negative sentiment\n",
    "order_reviews_sentiment[\n",
    "    (order_reviews_sentiment[\"review_score\"] == 1)\n",
    "    & (order_reviews_sentiment[\"sentiment_label\"] == \"Positive\")\n",
    "][[\"review_score\", \"sentiment_label\", \"review_text\"]].sample(10)"
   ]
  },
  {
   "cell_type": "markdown",
   "metadata": {},
   "source": [
    "In this case, we can see a lot of positive comments with the right classification but with an **unconformity in the order review score**, probably because the customer was satisfied with the product, but he doesn't know how to use the product review system."
   ]
  },
  {
   "cell_type": "markdown",
   "metadata": {},
   "source": [
    "#### Verify waterfall of review comments during the purchase process"
   ]
  },
  {
   "cell_type": "code",
   "execution_count": 32,
   "metadata": {},
   "outputs": [
    {
     "data": {
      "application/vnd.plotly.v1+json": {
       "config": {
        "plotlyServerURL": "https://plot.ly"
       },
       "data": [
        {
         "connector": {
          "line": {
           "color": "rgb(63, 63, 63)"
          }
         },
         "measure": [
          "relative",
          "relative",
          "relative",
          "total"
         ],
         "name": "Reviews comments",
         "orientation": "v",
         "text": [
          "99,441",
          "-1,031",
          "-57,433",
          "40,977"
         ],
         "textposition": "outside",
         "type": "waterfall",
         "x": [
          "Orders",
          "No review",
          "No comment",
          "Comments"
         ],
         "y": [
          99441,
          -1031,
          -57433,
          98410
         ]
        }
       ],
       "layout": {
        "height": 400,
        "showlegend": false,
        "template": {
         "data": {
          "bar": [
           {
            "error_x": {
             "color": "#2a3f5f"
            },
            "error_y": {
             "color": "#2a3f5f"
            },
            "marker": {
             "line": {
              "color": "white",
              "width": 0.5
             },
             "pattern": {
              "fillmode": "overlay",
              "size": 10,
              "solidity": 0.2
             }
            },
            "type": "bar"
           }
          ],
          "barpolar": [
           {
            "marker": {
             "line": {
              "color": "white",
              "width": 0.5
             },
             "pattern": {
              "fillmode": "overlay",
              "size": 10,
              "solidity": 0.2
             }
            },
            "type": "barpolar"
           }
          ],
          "carpet": [
           {
            "aaxis": {
             "endlinecolor": "#2a3f5f",
             "gridcolor": "#C8D4E3",
             "linecolor": "#C8D4E3",
             "minorgridcolor": "#C8D4E3",
             "startlinecolor": "#2a3f5f"
            },
            "baxis": {
             "endlinecolor": "#2a3f5f",
             "gridcolor": "#C8D4E3",
             "linecolor": "#C8D4E3",
             "minorgridcolor": "#C8D4E3",
             "startlinecolor": "#2a3f5f"
            },
            "type": "carpet"
           }
          ],
          "choropleth": [
           {
            "colorbar": {
             "outlinewidth": 0,
             "ticks": ""
            },
            "type": "choropleth"
           }
          ],
          "contour": [
           {
            "colorbar": {
             "outlinewidth": 0,
             "ticks": ""
            },
            "colorscale": [
             [
              0,
              "#0d0887"
             ],
             [
              0.1111111111111111,
              "#46039f"
             ],
             [
              0.2222222222222222,
              "#7201a8"
             ],
             [
              0.3333333333333333,
              "#9c179e"
             ],
             [
              0.4444444444444444,
              "#bd3786"
             ],
             [
              0.5555555555555556,
              "#d8576b"
             ],
             [
              0.6666666666666666,
              "#ed7953"
             ],
             [
              0.7777777777777778,
              "#fb9f3a"
             ],
             [
              0.8888888888888888,
              "#fdca26"
             ],
             [
              1,
              "#f0f921"
             ]
            ],
            "type": "contour"
           }
          ],
          "contourcarpet": [
           {
            "colorbar": {
             "outlinewidth": 0,
             "ticks": ""
            },
            "type": "contourcarpet"
           }
          ],
          "heatmap": [
           {
            "colorbar": {
             "outlinewidth": 0,
             "ticks": ""
            },
            "colorscale": [
             [
              0,
              "#0d0887"
             ],
             [
              0.1111111111111111,
              "#46039f"
             ],
             [
              0.2222222222222222,
              "#7201a8"
             ],
             [
              0.3333333333333333,
              "#9c179e"
             ],
             [
              0.4444444444444444,
              "#bd3786"
             ],
             [
              0.5555555555555556,
              "#d8576b"
             ],
             [
              0.6666666666666666,
              "#ed7953"
             ],
             [
              0.7777777777777778,
              "#fb9f3a"
             ],
             [
              0.8888888888888888,
              "#fdca26"
             ],
             [
              1,
              "#f0f921"
             ]
            ],
            "type": "heatmap"
           }
          ],
          "heatmapgl": [
           {
            "colorbar": {
             "outlinewidth": 0,
             "ticks": ""
            },
            "colorscale": [
             [
              0,
              "#0d0887"
             ],
             [
              0.1111111111111111,
              "#46039f"
             ],
             [
              0.2222222222222222,
              "#7201a8"
             ],
             [
              0.3333333333333333,
              "#9c179e"
             ],
             [
              0.4444444444444444,
              "#bd3786"
             ],
             [
              0.5555555555555556,
              "#d8576b"
             ],
             [
              0.6666666666666666,
              "#ed7953"
             ],
             [
              0.7777777777777778,
              "#fb9f3a"
             ],
             [
              0.8888888888888888,
              "#fdca26"
             ],
             [
              1,
              "#f0f921"
             ]
            ],
            "type": "heatmapgl"
           }
          ],
          "histogram": [
           {
            "marker": {
             "pattern": {
              "fillmode": "overlay",
              "size": 10,
              "solidity": 0.2
             }
            },
            "type": "histogram"
           }
          ],
          "histogram2d": [
           {
            "colorbar": {
             "outlinewidth": 0,
             "ticks": ""
            },
            "colorscale": [
             [
              0,
              "#0d0887"
             ],
             [
              0.1111111111111111,
              "#46039f"
             ],
             [
              0.2222222222222222,
              "#7201a8"
             ],
             [
              0.3333333333333333,
              "#9c179e"
             ],
             [
              0.4444444444444444,
              "#bd3786"
             ],
             [
              0.5555555555555556,
              "#d8576b"
             ],
             [
              0.6666666666666666,
              "#ed7953"
             ],
             [
              0.7777777777777778,
              "#fb9f3a"
             ],
             [
              0.8888888888888888,
              "#fdca26"
             ],
             [
              1,
              "#f0f921"
             ]
            ],
            "type": "histogram2d"
           }
          ],
          "histogram2dcontour": [
           {
            "colorbar": {
             "outlinewidth": 0,
             "ticks": ""
            },
            "colorscale": [
             [
              0,
              "#0d0887"
             ],
             [
              0.1111111111111111,
              "#46039f"
             ],
             [
              0.2222222222222222,
              "#7201a8"
             ],
             [
              0.3333333333333333,
              "#9c179e"
             ],
             [
              0.4444444444444444,
              "#bd3786"
             ],
             [
              0.5555555555555556,
              "#d8576b"
             ],
             [
              0.6666666666666666,
              "#ed7953"
             ],
             [
              0.7777777777777778,
              "#fb9f3a"
             ],
             [
              0.8888888888888888,
              "#fdca26"
             ],
             [
              1,
              "#f0f921"
             ]
            ],
            "type": "histogram2dcontour"
           }
          ],
          "mesh3d": [
           {
            "colorbar": {
             "outlinewidth": 0,
             "ticks": ""
            },
            "type": "mesh3d"
           }
          ],
          "parcoords": [
           {
            "line": {
             "colorbar": {
              "outlinewidth": 0,
              "ticks": ""
             }
            },
            "type": "parcoords"
           }
          ],
          "pie": [
           {
            "automargin": true,
            "type": "pie"
           }
          ],
          "scatter": [
           {
            "fillpattern": {
             "fillmode": "overlay",
             "size": 10,
             "solidity": 0.2
            },
            "type": "scatter"
           }
          ],
          "scatter3d": [
           {
            "line": {
             "colorbar": {
              "outlinewidth": 0,
              "ticks": ""
             }
            },
            "marker": {
             "colorbar": {
              "outlinewidth": 0,
              "ticks": ""
             }
            },
            "type": "scatter3d"
           }
          ],
          "scattercarpet": [
           {
            "marker": {
             "colorbar": {
              "outlinewidth": 0,
              "ticks": ""
             }
            },
            "type": "scattercarpet"
           }
          ],
          "scattergeo": [
           {
            "marker": {
             "colorbar": {
              "outlinewidth": 0,
              "ticks": ""
             }
            },
            "type": "scattergeo"
           }
          ],
          "scattergl": [
           {
            "marker": {
             "colorbar": {
              "outlinewidth": 0,
              "ticks": ""
             }
            },
            "type": "scattergl"
           }
          ],
          "scattermapbox": [
           {
            "marker": {
             "colorbar": {
              "outlinewidth": 0,
              "ticks": ""
             }
            },
            "type": "scattermapbox"
           }
          ],
          "scatterpolar": [
           {
            "marker": {
             "colorbar": {
              "outlinewidth": 0,
              "ticks": ""
             }
            },
            "type": "scatterpolar"
           }
          ],
          "scatterpolargl": [
           {
            "marker": {
             "colorbar": {
              "outlinewidth": 0,
              "ticks": ""
             }
            },
            "type": "scatterpolargl"
           }
          ],
          "scatterternary": [
           {
            "marker": {
             "colorbar": {
              "outlinewidth": 0,
              "ticks": ""
             }
            },
            "type": "scatterternary"
           }
          ],
          "surface": [
           {
            "colorbar": {
             "outlinewidth": 0,
             "ticks": ""
            },
            "colorscale": [
             [
              0,
              "#0d0887"
             ],
             [
              0.1111111111111111,
              "#46039f"
             ],
             [
              0.2222222222222222,
              "#7201a8"
             ],
             [
              0.3333333333333333,
              "#9c179e"
             ],
             [
              0.4444444444444444,
              "#bd3786"
             ],
             [
              0.5555555555555556,
              "#d8576b"
             ],
             [
              0.6666666666666666,
              "#ed7953"
             ],
             [
              0.7777777777777778,
              "#fb9f3a"
             ],
             [
              0.8888888888888888,
              "#fdca26"
             ],
             [
              1,
              "#f0f921"
             ]
            ],
            "type": "surface"
           }
          ],
          "table": [
           {
            "cells": {
             "fill": {
              "color": "#EBF0F8"
             },
             "line": {
              "color": "white"
             }
            },
            "header": {
             "fill": {
              "color": "#C8D4E3"
             },
             "line": {
              "color": "white"
             }
            },
            "type": "table"
           }
          ]
         },
         "layout": {
          "annotationdefaults": {
           "arrowcolor": "#2a3f5f",
           "arrowhead": 0,
           "arrowwidth": 1
          },
          "autotypenumbers": "strict",
          "coloraxis": {
           "colorbar": {
            "outlinewidth": 0,
            "ticks": ""
           }
          },
          "colorscale": {
           "diverging": [
            [
             0,
             "#8e0152"
            ],
            [
             0.1,
             "#c51b7d"
            ],
            [
             0.2,
             "#de77ae"
            ],
            [
             0.3,
             "#f1b6da"
            ],
            [
             0.4,
             "#fde0ef"
            ],
            [
             0.5,
             "#f7f7f7"
            ],
            [
             0.6,
             "#e6f5d0"
            ],
            [
             0.7,
             "#b8e186"
            ],
            [
             0.8,
             "#7fbc41"
            ],
            [
             0.9,
             "#4d9221"
            ],
            [
             1,
             "#276419"
            ]
           ],
           "sequential": [
            [
             0,
             "#0d0887"
            ],
            [
             0.1111111111111111,
             "#46039f"
            ],
            [
             0.2222222222222222,
             "#7201a8"
            ],
            [
             0.3333333333333333,
             "#9c179e"
            ],
            [
             0.4444444444444444,
             "#bd3786"
            ],
            [
             0.5555555555555556,
             "#d8576b"
            ],
            [
             0.6666666666666666,
             "#ed7953"
            ],
            [
             0.7777777777777778,
             "#fb9f3a"
            ],
            [
             0.8888888888888888,
             "#fdca26"
            ],
            [
             1,
             "#f0f921"
            ]
           ],
           "sequentialminus": [
            [
             0,
             "#0d0887"
            ],
            [
             0.1111111111111111,
             "#46039f"
            ],
            [
             0.2222222222222222,
             "#7201a8"
            ],
            [
             0.3333333333333333,
             "#9c179e"
            ],
            [
             0.4444444444444444,
             "#bd3786"
            ],
            [
             0.5555555555555556,
             "#d8576b"
            ],
            [
             0.6666666666666666,
             "#ed7953"
            ],
            [
             0.7777777777777778,
             "#fb9f3a"
            ],
            [
             0.8888888888888888,
             "#fdca26"
            ],
            [
             1,
             "#f0f921"
            ]
           ]
          },
          "colorway": [
           "#636efa",
           "#EF553B",
           "#00cc96",
           "#ab63fa",
           "#FFA15A",
           "#19d3f3",
           "#FF6692",
           "#B6E880",
           "#FF97FF",
           "#FECB52"
          ],
          "font": {
           "color": "#2a3f5f"
          },
          "geo": {
           "bgcolor": "white",
           "lakecolor": "white",
           "landcolor": "white",
           "showlakes": true,
           "showland": true,
           "subunitcolor": "#C8D4E3"
          },
          "hoverlabel": {
           "align": "left"
          },
          "hovermode": "closest",
          "mapbox": {
           "style": "light"
          },
          "paper_bgcolor": "white",
          "plot_bgcolor": "white",
          "polar": {
           "angularaxis": {
            "gridcolor": "#EBF0F8",
            "linecolor": "#EBF0F8",
            "ticks": ""
           },
           "bgcolor": "white",
           "radialaxis": {
            "gridcolor": "#EBF0F8",
            "linecolor": "#EBF0F8",
            "ticks": ""
           }
          },
          "scene": {
           "xaxis": {
            "backgroundcolor": "white",
            "gridcolor": "#DFE8F3",
            "gridwidth": 2,
            "linecolor": "#EBF0F8",
            "showbackground": true,
            "ticks": "",
            "zerolinecolor": "#EBF0F8"
           },
           "yaxis": {
            "backgroundcolor": "white",
            "gridcolor": "#DFE8F3",
            "gridwidth": 2,
            "linecolor": "#EBF0F8",
            "showbackground": true,
            "ticks": "",
            "zerolinecolor": "#EBF0F8"
           },
           "zaxis": {
            "backgroundcolor": "white",
            "gridcolor": "#DFE8F3",
            "gridwidth": 2,
            "linecolor": "#EBF0F8",
            "showbackground": true,
            "ticks": "",
            "zerolinecolor": "#EBF0F8"
           }
          },
          "shapedefaults": {
           "line": {
            "color": "#2a3f5f"
           }
          },
          "ternary": {
           "aaxis": {
            "gridcolor": "#DFE8F3",
            "linecolor": "#A2B1C6",
            "ticks": ""
           },
           "baxis": {
            "gridcolor": "#DFE8F3",
            "linecolor": "#A2B1C6",
            "ticks": ""
           },
           "bgcolor": "white",
           "caxis": {
            "gridcolor": "#DFE8F3",
            "linecolor": "#A2B1C6",
            "ticks": ""
           }
          },
          "title": {
           "x": 0.05
          },
          "xaxis": {
           "automargin": true,
           "gridcolor": "#EBF0F8",
           "linecolor": "#EBF0F8",
           "ticks": "",
           "title": {
            "standoff": 15
           },
           "zerolinecolor": "#EBF0F8",
           "zerolinewidth": 2
          },
          "yaxis": {
           "automargin": true,
           "gridcolor": "#EBF0F8",
           "linecolor": "#EBF0F8",
           "ticks": "",
           "title": {
            "standoff": 15
           },
           "zerolinecolor": "#EBF0F8",
           "zerolinewidth": 2
          }
         }
        },
        "title": {
         "text": "Comments during the purchase process"
        },
        "width": 600,
        "yaxis": {
         "range": [
          0,
          114357.15
         ],
         "showgrid": false,
         "showticklabels": false
        }
       }
      }
     },
     "metadata": {},
     "output_type": "display_data"
    }
   ],
   "source": [
    "# Calculates the amount of orders, reviews and comments\n",
    "orders_quantity = orders.order_id.nunique()\n",
    "reviews_quantity = order_reviews_sentiment.review_id.nunique()\n",
    "comments_quantity = order_reviews_sentiment.review_comment_message.count()\n",
    "\n",
    "no_review_quantity = orders_quantity - reviews_quantity\n",
    "no_comment_quantity = reviews_quantity - comments_quantity\n",
    "\n",
    "# Creates a waterfall chart with the amount of orders, reviews and comments quantities\n",
    "fig = go.Figure(\n",
    "    go.Waterfall(\n",
    "        name=\"Reviews comments\",\n",
    "        orientation=\"v\",\n",
    "        measure=[\"relative\", \"relative\", \"relative\", \"total\"],\n",
    "        x=[\"Orders\", \"No review\", \"No comment\", \"Comments\"],\n",
    "        textposition=\"outside\",\n",
    "        text=[\n",
    "            f\"{orders_quantity:,}\",\n",
    "            f\"-{no_review_quantity:,}\",\n",
    "            f\"-{no_comment_quantity:,}\",\n",
    "            f\"{comments_quantity:,}\",\n",
    "        ],\n",
    "        y=[\n",
    "            orders_quantity,\n",
    "            -no_review_quantity,\n",
    "            -no_comment_quantity,\n",
    "            reviews_quantity,\n",
    "        ],\n",
    "        connector={\"line\": {\"color\": \"rgb(63, 63, 63)\"}},\n",
    "    )\n",
    ")\n",
    "\n",
    "# Makes some style adjustments\n",
    "fig.update_layout(\n",
    "    title=\"Comments during the purchase process\",\n",
    "    height=400,\n",
    "    width=600,\n",
    "    showlegend=False,\n",
    "    yaxis=dict(showticklabels=False),\n",
    ")\n",
    "\n",
    "# Update axes limits to not cut off the first bar\n",
    "fig.update_yaxes(range=[0, 1.15 * orders_quantity])\n",
    "\n",
    "# Removes the grid\n",
    "fig.update_yaxes(showgrid=False)\n",
    "\n",
    "fig.show()"
   ]
  },
  {
   "cell_type": "markdown",
   "metadata": {},
   "source": [
    "So almost of every purchase has a review, but more than half of it has no comment text, just a score from 1 to 5 stars."
   ]
  }
 ],
 "metadata": {
  "kernelspec": {
   "display_name": ".venv",
   "language": "python",
   "name": "python3"
  },
  "language_info": {
   "codemirror_mode": {
    "name": "ipython",
    "version": 3
   },
   "file_extension": ".py",
   "mimetype": "text/x-python",
   "name": "python",
   "nbconvert_exporter": "python",
   "pygments_lexer": "ipython3",
   "version": "3.12.1"
  }
 },
 "nbformat": 4,
 "nbformat_minor": 2
}
