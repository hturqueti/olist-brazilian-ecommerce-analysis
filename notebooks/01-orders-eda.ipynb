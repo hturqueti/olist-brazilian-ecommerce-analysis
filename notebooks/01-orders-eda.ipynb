{
 "cells": [
  {
   "cell_type": "markdown",
   "metadata": {},
   "source": [
    "# Development environment setup"
   ]
  },
  {
   "cell_type": "markdown",
   "metadata": {},
   "source": [
    "## Libraries"
   ]
  },
  {
   "cell_type": "code",
   "execution_count": 55,
   "metadata": {},
   "outputs": [],
   "source": [
    "from pathlib import Path\n",
    "\n",
    "import pandas as pd\n",
    "import plotly.graph_objects as go\n",
    "import plotly.io as pio\n",
    "from plotly.subplots import make_subplots\n",
    "from pprint import pprint"
   ]
  },
  {
   "cell_type": "markdown",
   "metadata": {},
   "source": [
    "## Paths"
   ]
  },
  {
   "cell_type": "code",
   "execution_count": 2,
   "metadata": {},
   "outputs": [],
   "source": [
    "project_folder = Path(\".\").absolute().parent\n"
   ]
  },
  {
   "cell_type": "markdown",
   "metadata": {},
   "source": [
    "## Plotly preferences"
   ]
  },
  {
   "cell_type": "code",
   "execution_count": 3,
   "metadata": {},
   "outputs": [],
   "source": [
    "# Change the default theme to \"plotly_white\"\n",
    "pio.templates.default = \"plotly_white\"\n"
   ]
  },
  {
   "cell_type": "markdown",
   "metadata": {},
   "source": [
    "# Datasets"
   ]
  },
  {
   "cell_type": "markdown",
   "metadata": {},
   "source": [
    "## Import raw data"
   ]
  },
  {
   "cell_type": "markdown",
   "metadata": {},
   "source": [
    "### Customers"
   ]
  },
  {
   "cell_type": "code",
   "execution_count": 4,
   "metadata": {},
   "outputs": [
    {
     "data": {
      "text/html": [
       "<div>\n",
       "<style scoped>\n",
       "    .dataframe tbody tr th:only-of-type {\n",
       "        vertical-align: middle;\n",
       "    }\n",
       "\n",
       "    .dataframe tbody tr th {\n",
       "        vertical-align: top;\n",
       "    }\n",
       "\n",
       "    .dataframe thead th {\n",
       "        text-align: right;\n",
       "    }\n",
       "</style>\n",
       "<table border=\"1\" class=\"dataframe\">\n",
       "  <thead>\n",
       "    <tr style=\"text-align: right;\">\n",
       "      <th></th>\n",
       "      <th>customer_id</th>\n",
       "      <th>customer_unique_id</th>\n",
       "      <th>customer_zip_code_prefix</th>\n",
       "      <th>customer_city</th>\n",
       "      <th>customer_state</th>\n",
       "    </tr>\n",
       "  </thead>\n",
       "  <tbody>\n",
       "    <tr>\n",
       "      <th>0</th>\n",
       "      <td>06b8999e2fba1a1fbc88172c00ba8bc7</td>\n",
       "      <td>861eff4711a542e4b93843c6dd7febb0</td>\n",
       "      <td>14409</td>\n",
       "      <td>franca</td>\n",
       "      <td>SP</td>\n",
       "    </tr>\n",
       "    <tr>\n",
       "      <th>1</th>\n",
       "      <td>18955e83d337fd6b2def6b18a428ac77</td>\n",
       "      <td>290c77bc529b7ac935b93aa66c333dc3</td>\n",
       "      <td>9790</td>\n",
       "      <td>sao bernardo do campo</td>\n",
       "      <td>SP</td>\n",
       "    </tr>\n",
       "  </tbody>\n",
       "</table>\n",
       "</div>"
      ],
      "text/plain": [
       "                        customer_id                customer_unique_id  \\\n",
       "0  06b8999e2fba1a1fbc88172c00ba8bc7  861eff4711a542e4b93843c6dd7febb0   \n",
       "1  18955e83d337fd6b2def6b18a428ac77  290c77bc529b7ac935b93aa66c333dc3   \n",
       "\n",
       "   customer_zip_code_prefix          customer_city customer_state  \n",
       "0                     14409                 franca             SP  \n",
       "1                      9790  sao bernardo do campo             SP  "
      ]
     },
     "execution_count": 4,
     "metadata": {},
     "output_type": "execute_result"
    }
   ],
   "source": [
    "customers = pd.read_csv(\n",
    "    project_folder.joinpath(\"data\", \"raw\", \"olist_customers_dataset.csv\")\n",
    ")\n",
    "customers.head(2)\n"
   ]
  },
  {
   "cell_type": "markdown",
   "metadata": {},
   "source": [
    "### Geolocation"
   ]
  },
  {
   "cell_type": "code",
   "execution_count": 5,
   "metadata": {},
   "outputs": [
    {
     "data": {
      "text/html": [
       "<div>\n",
       "<style scoped>\n",
       "    .dataframe tbody tr th:only-of-type {\n",
       "        vertical-align: middle;\n",
       "    }\n",
       "\n",
       "    .dataframe tbody tr th {\n",
       "        vertical-align: top;\n",
       "    }\n",
       "\n",
       "    .dataframe thead th {\n",
       "        text-align: right;\n",
       "    }\n",
       "</style>\n",
       "<table border=\"1\" class=\"dataframe\">\n",
       "  <thead>\n",
       "    <tr style=\"text-align: right;\">\n",
       "      <th></th>\n",
       "      <th>geolocation_zip_code_prefix</th>\n",
       "      <th>geolocation_lat</th>\n",
       "      <th>geolocation_lng</th>\n",
       "      <th>geolocation_city</th>\n",
       "      <th>geolocation_state</th>\n",
       "    </tr>\n",
       "  </thead>\n",
       "  <tbody>\n",
       "    <tr>\n",
       "      <th>0</th>\n",
       "      <td>1037</td>\n",
       "      <td>-23.545621</td>\n",
       "      <td>-46.639292</td>\n",
       "      <td>sao paulo</td>\n",
       "      <td>SP</td>\n",
       "    </tr>\n",
       "    <tr>\n",
       "      <th>1</th>\n",
       "      <td>1046</td>\n",
       "      <td>-23.546081</td>\n",
       "      <td>-46.644820</td>\n",
       "      <td>sao paulo</td>\n",
       "      <td>SP</td>\n",
       "    </tr>\n",
       "  </tbody>\n",
       "</table>\n",
       "</div>"
      ],
      "text/plain": [
       "   geolocation_zip_code_prefix  geolocation_lat  geolocation_lng  \\\n",
       "0                         1037       -23.545621       -46.639292   \n",
       "1                         1046       -23.546081       -46.644820   \n",
       "\n",
       "  geolocation_city geolocation_state  \n",
       "0        sao paulo                SP  \n",
       "1        sao paulo                SP  "
      ]
     },
     "execution_count": 5,
     "metadata": {},
     "output_type": "execute_result"
    }
   ],
   "source": [
    "geolocation = pd.read_csv(\n",
    "    project_folder.joinpath(\"data\", \"raw\", \"olist_geolocation_dataset.csv\")\n",
    ")\n",
    "geolocation.head(2)\n"
   ]
  },
  {
   "cell_type": "markdown",
   "metadata": {},
   "source": [
    "### Orders"
   ]
  },
  {
   "cell_type": "code",
   "execution_count": 6,
   "metadata": {},
   "outputs": [
    {
     "data": {
      "text/html": [
       "<div>\n",
       "<style scoped>\n",
       "    .dataframe tbody tr th:only-of-type {\n",
       "        vertical-align: middle;\n",
       "    }\n",
       "\n",
       "    .dataframe tbody tr th {\n",
       "        vertical-align: top;\n",
       "    }\n",
       "\n",
       "    .dataframe thead th {\n",
       "        text-align: right;\n",
       "    }\n",
       "</style>\n",
       "<table border=\"1\" class=\"dataframe\">\n",
       "  <thead>\n",
       "    <tr style=\"text-align: right;\">\n",
       "      <th></th>\n",
       "      <th>order_id</th>\n",
       "      <th>customer_id</th>\n",
       "      <th>order_status</th>\n",
       "      <th>order_purchase_timestamp</th>\n",
       "      <th>order_approved_at</th>\n",
       "      <th>order_delivered_carrier_date</th>\n",
       "      <th>order_delivered_customer_date</th>\n",
       "      <th>order_estimated_delivery_date</th>\n",
       "    </tr>\n",
       "  </thead>\n",
       "  <tbody>\n",
       "    <tr>\n",
       "      <th>0</th>\n",
       "      <td>e481f51cbdc54678b7cc49136f2d6af7</td>\n",
       "      <td>9ef432eb6251297304e76186b10a928d</td>\n",
       "      <td>delivered</td>\n",
       "      <td>2017-10-02 10:56:33</td>\n",
       "      <td>2017-10-02 11:07:15</td>\n",
       "      <td>2017-10-04 19:55:00</td>\n",
       "      <td>2017-10-10 21:25:13</td>\n",
       "      <td>2017-10-18 00:00:00</td>\n",
       "    </tr>\n",
       "    <tr>\n",
       "      <th>1</th>\n",
       "      <td>53cdb2fc8bc7dce0b6741e2150273451</td>\n",
       "      <td>b0830fb4747a6c6d20dea0b8c802d7ef</td>\n",
       "      <td>delivered</td>\n",
       "      <td>2018-07-24 20:41:37</td>\n",
       "      <td>2018-07-26 03:24:27</td>\n",
       "      <td>2018-07-26 14:31:00</td>\n",
       "      <td>2018-08-07 15:27:45</td>\n",
       "      <td>2018-08-13 00:00:00</td>\n",
       "    </tr>\n",
       "  </tbody>\n",
       "</table>\n",
       "</div>"
      ],
      "text/plain": [
       "                           order_id                       customer_id  \\\n",
       "0  e481f51cbdc54678b7cc49136f2d6af7  9ef432eb6251297304e76186b10a928d   \n",
       "1  53cdb2fc8bc7dce0b6741e2150273451  b0830fb4747a6c6d20dea0b8c802d7ef   \n",
       "\n",
       "  order_status order_purchase_timestamp    order_approved_at  \\\n",
       "0    delivered      2017-10-02 10:56:33  2017-10-02 11:07:15   \n",
       "1    delivered      2018-07-24 20:41:37  2018-07-26 03:24:27   \n",
       "\n",
       "  order_delivered_carrier_date order_delivered_customer_date  \\\n",
       "0          2017-10-04 19:55:00           2017-10-10 21:25:13   \n",
       "1          2018-07-26 14:31:00           2018-08-07 15:27:45   \n",
       "\n",
       "  order_estimated_delivery_date  \n",
       "0           2017-10-18 00:00:00  \n",
       "1           2018-08-13 00:00:00  "
      ]
     },
     "execution_count": 6,
     "metadata": {},
     "output_type": "execute_result"
    }
   ],
   "source": [
    "orders = pd.read_csv(project_folder.joinpath(\"data\", \"raw\", \"olist_orders_dataset.csv\"))\n",
    "\n",
    "orders.head(2)\n"
   ]
  },
  {
   "cell_type": "markdown",
   "metadata": {},
   "source": [
    "### Order Items"
   ]
  },
  {
   "cell_type": "code",
   "execution_count": 7,
   "metadata": {},
   "outputs": [
    {
     "data": {
      "text/html": [
       "<div>\n",
       "<style scoped>\n",
       "    .dataframe tbody tr th:only-of-type {\n",
       "        vertical-align: middle;\n",
       "    }\n",
       "\n",
       "    .dataframe tbody tr th {\n",
       "        vertical-align: top;\n",
       "    }\n",
       "\n",
       "    .dataframe thead th {\n",
       "        text-align: right;\n",
       "    }\n",
       "</style>\n",
       "<table border=\"1\" class=\"dataframe\">\n",
       "  <thead>\n",
       "    <tr style=\"text-align: right;\">\n",
       "      <th></th>\n",
       "      <th>order_id</th>\n",
       "      <th>order_item_id</th>\n",
       "      <th>product_id</th>\n",
       "      <th>seller_id</th>\n",
       "      <th>shipping_limit_date</th>\n",
       "      <th>price</th>\n",
       "      <th>freight_value</th>\n",
       "    </tr>\n",
       "  </thead>\n",
       "  <tbody>\n",
       "    <tr>\n",
       "      <th>0</th>\n",
       "      <td>00010242fe8c5a6d1ba2dd792cb16214</td>\n",
       "      <td>1</td>\n",
       "      <td>4244733e06e7ecb4970a6e2683c13e61</td>\n",
       "      <td>48436dade18ac8b2bce089ec2a041202</td>\n",
       "      <td>2017-09-19 09:45:35</td>\n",
       "      <td>58.9</td>\n",
       "      <td>13.29</td>\n",
       "    </tr>\n",
       "    <tr>\n",
       "      <th>1</th>\n",
       "      <td>00018f77f2f0320c557190d7a144bdd3</td>\n",
       "      <td>1</td>\n",
       "      <td>e5f2d52b802189ee658865ca93d83a8f</td>\n",
       "      <td>dd7ddc04e1b6c2c614352b383efe2d36</td>\n",
       "      <td>2017-05-03 11:05:13</td>\n",
       "      <td>239.9</td>\n",
       "      <td>19.93</td>\n",
       "    </tr>\n",
       "  </tbody>\n",
       "</table>\n",
       "</div>"
      ],
      "text/plain": [
       "                           order_id  order_item_id  \\\n",
       "0  00010242fe8c5a6d1ba2dd792cb16214              1   \n",
       "1  00018f77f2f0320c557190d7a144bdd3              1   \n",
       "\n",
       "                         product_id                         seller_id  \\\n",
       "0  4244733e06e7ecb4970a6e2683c13e61  48436dade18ac8b2bce089ec2a041202   \n",
       "1  e5f2d52b802189ee658865ca93d83a8f  dd7ddc04e1b6c2c614352b383efe2d36   \n",
       "\n",
       "   shipping_limit_date  price  freight_value  \n",
       "0  2017-09-19 09:45:35   58.9          13.29  \n",
       "1  2017-05-03 11:05:13  239.9          19.93  "
      ]
     },
     "execution_count": 7,
     "metadata": {},
     "output_type": "execute_result"
    }
   ],
   "source": [
    "order_items = pd.read_csv(\n",
    "    project_folder.joinpath(\"data\", \"raw\", \"olist_order_items_dataset.csv\")\n",
    ")\n",
    "order_items.head(2)\n"
   ]
  },
  {
   "cell_type": "markdown",
   "metadata": {},
   "source": [
    "### Order Payments"
   ]
  },
  {
   "cell_type": "code",
   "execution_count": 8,
   "metadata": {},
   "outputs": [
    {
     "data": {
      "text/html": [
       "<div>\n",
       "<style scoped>\n",
       "    .dataframe tbody tr th:only-of-type {\n",
       "        vertical-align: middle;\n",
       "    }\n",
       "\n",
       "    .dataframe tbody tr th {\n",
       "        vertical-align: top;\n",
       "    }\n",
       "\n",
       "    .dataframe thead th {\n",
       "        text-align: right;\n",
       "    }\n",
       "</style>\n",
       "<table border=\"1\" class=\"dataframe\">\n",
       "  <thead>\n",
       "    <tr style=\"text-align: right;\">\n",
       "      <th></th>\n",
       "      <th>order_id</th>\n",
       "      <th>payment_sequential</th>\n",
       "      <th>payment_type</th>\n",
       "      <th>payment_installments</th>\n",
       "      <th>payment_value</th>\n",
       "    </tr>\n",
       "  </thead>\n",
       "  <tbody>\n",
       "    <tr>\n",
       "      <th>0</th>\n",
       "      <td>b81ef226f3fe1789b1e8b2acac839d17</td>\n",
       "      <td>1</td>\n",
       "      <td>credit_card</td>\n",
       "      <td>8</td>\n",
       "      <td>99.33</td>\n",
       "    </tr>\n",
       "    <tr>\n",
       "      <th>1</th>\n",
       "      <td>a9810da82917af2d9aefd1278f1dcfa0</td>\n",
       "      <td>1</td>\n",
       "      <td>credit_card</td>\n",
       "      <td>1</td>\n",
       "      <td>24.39</td>\n",
       "    </tr>\n",
       "  </tbody>\n",
       "</table>\n",
       "</div>"
      ],
      "text/plain": [
       "                           order_id  payment_sequential payment_type  \\\n",
       "0  b81ef226f3fe1789b1e8b2acac839d17                   1  credit_card   \n",
       "1  a9810da82917af2d9aefd1278f1dcfa0                   1  credit_card   \n",
       "\n",
       "   payment_installments  payment_value  \n",
       "0                     8          99.33  \n",
       "1                     1          24.39  "
      ]
     },
     "execution_count": 8,
     "metadata": {},
     "output_type": "execute_result"
    }
   ],
   "source": [
    "order_payments = pd.read_csv(\n",
    "    project_folder.joinpath(\"data\", \"raw\", \"olist_order_payments_dataset.csv\")\n",
    ")\n",
    "\n",
    "order_payments.head(2)\n"
   ]
  },
  {
   "cell_type": "markdown",
   "metadata": {},
   "source": [
    "### Order Reviews"
   ]
  },
  {
   "cell_type": "code",
   "execution_count": 9,
   "metadata": {},
   "outputs": [
    {
     "data": {
      "text/html": [
       "<div>\n",
       "<style scoped>\n",
       "    .dataframe tbody tr th:only-of-type {\n",
       "        vertical-align: middle;\n",
       "    }\n",
       "\n",
       "    .dataframe tbody tr th {\n",
       "        vertical-align: top;\n",
       "    }\n",
       "\n",
       "    .dataframe thead th {\n",
       "        text-align: right;\n",
       "    }\n",
       "</style>\n",
       "<table border=\"1\" class=\"dataframe\">\n",
       "  <thead>\n",
       "    <tr style=\"text-align: right;\">\n",
       "      <th></th>\n",
       "      <th>review_id</th>\n",
       "      <th>order_id</th>\n",
       "      <th>review_score</th>\n",
       "      <th>review_comment_title</th>\n",
       "      <th>review_comment_message</th>\n",
       "      <th>review_creation_date</th>\n",
       "      <th>review_answer_timestamp</th>\n",
       "    </tr>\n",
       "  </thead>\n",
       "  <tbody>\n",
       "    <tr>\n",
       "      <th>0</th>\n",
       "      <td>7bc2406110b926393aa56f80a40eba40</td>\n",
       "      <td>73fc7af87114b39712e6da79b0a377eb</td>\n",
       "      <td>4</td>\n",
       "      <td>NaN</td>\n",
       "      <td>NaN</td>\n",
       "      <td>2018-01-18 00:00:00</td>\n",
       "      <td>2018-01-18 21:46:59</td>\n",
       "    </tr>\n",
       "    <tr>\n",
       "      <th>1</th>\n",
       "      <td>80e641a11e56f04c1ad469d5645fdfde</td>\n",
       "      <td>a548910a1c6147796b98fdf73dbeba33</td>\n",
       "      <td>5</td>\n",
       "      <td>NaN</td>\n",
       "      <td>NaN</td>\n",
       "      <td>2018-03-10 00:00:00</td>\n",
       "      <td>2018-03-11 03:05:13</td>\n",
       "    </tr>\n",
       "  </tbody>\n",
       "</table>\n",
       "</div>"
      ],
      "text/plain": [
       "                          review_id                          order_id  \\\n",
       "0  7bc2406110b926393aa56f80a40eba40  73fc7af87114b39712e6da79b0a377eb   \n",
       "1  80e641a11e56f04c1ad469d5645fdfde  a548910a1c6147796b98fdf73dbeba33   \n",
       "\n",
       "   review_score review_comment_title review_comment_message  \\\n",
       "0             4                  NaN                    NaN   \n",
       "1             5                  NaN                    NaN   \n",
       "\n",
       "  review_creation_date review_answer_timestamp  \n",
       "0  2018-01-18 00:00:00     2018-01-18 21:46:59  \n",
       "1  2018-03-10 00:00:00     2018-03-11 03:05:13  "
      ]
     },
     "execution_count": 9,
     "metadata": {},
     "output_type": "execute_result"
    }
   ],
   "source": [
    "order_reviews = pd.read_csv(\n",
    "    project_folder.joinpath(\"data\", \"raw\", \"olist_order_reviews_dataset.csv\")\n",
    ")\n",
    "\n",
    "order_reviews.head(2)\n"
   ]
  },
  {
   "cell_type": "markdown",
   "metadata": {},
   "source": [
    "### Products"
   ]
  },
  {
   "cell_type": "code",
   "execution_count": 10,
   "metadata": {},
   "outputs": [
    {
     "data": {
      "text/html": [
       "<div>\n",
       "<style scoped>\n",
       "    .dataframe tbody tr th:only-of-type {\n",
       "        vertical-align: middle;\n",
       "    }\n",
       "\n",
       "    .dataframe tbody tr th {\n",
       "        vertical-align: top;\n",
       "    }\n",
       "\n",
       "    .dataframe thead th {\n",
       "        text-align: right;\n",
       "    }\n",
       "</style>\n",
       "<table border=\"1\" class=\"dataframe\">\n",
       "  <thead>\n",
       "    <tr style=\"text-align: right;\">\n",
       "      <th></th>\n",
       "      <th>product_id</th>\n",
       "      <th>product_category_name</th>\n",
       "      <th>product_name_lenght</th>\n",
       "      <th>product_description_lenght</th>\n",
       "      <th>product_photos_qty</th>\n",
       "      <th>product_weight_g</th>\n",
       "      <th>product_length_cm</th>\n",
       "      <th>product_height_cm</th>\n",
       "      <th>product_width_cm</th>\n",
       "    </tr>\n",
       "  </thead>\n",
       "  <tbody>\n",
       "    <tr>\n",
       "      <th>0</th>\n",
       "      <td>1e9e8ef04dbcff4541ed26657ea517e5</td>\n",
       "      <td>perfumaria</td>\n",
       "      <td>40.0</td>\n",
       "      <td>287.0</td>\n",
       "      <td>1.0</td>\n",
       "      <td>225.0</td>\n",
       "      <td>16.0</td>\n",
       "      <td>10.0</td>\n",
       "      <td>14.0</td>\n",
       "    </tr>\n",
       "    <tr>\n",
       "      <th>1</th>\n",
       "      <td>3aa071139cb16b67ca9e5dea641aaa2f</td>\n",
       "      <td>artes</td>\n",
       "      <td>44.0</td>\n",
       "      <td>276.0</td>\n",
       "      <td>1.0</td>\n",
       "      <td>1000.0</td>\n",
       "      <td>30.0</td>\n",
       "      <td>18.0</td>\n",
       "      <td>20.0</td>\n",
       "    </tr>\n",
       "  </tbody>\n",
       "</table>\n",
       "</div>"
      ],
      "text/plain": [
       "                         product_id product_category_name  \\\n",
       "0  1e9e8ef04dbcff4541ed26657ea517e5            perfumaria   \n",
       "1  3aa071139cb16b67ca9e5dea641aaa2f                 artes   \n",
       "\n",
       "   product_name_lenght  product_description_lenght  product_photos_qty  \\\n",
       "0                 40.0                       287.0                 1.0   \n",
       "1                 44.0                       276.0                 1.0   \n",
       "\n",
       "   product_weight_g  product_length_cm  product_height_cm  product_width_cm  \n",
       "0             225.0               16.0               10.0              14.0  \n",
       "1            1000.0               30.0               18.0              20.0  "
      ]
     },
     "execution_count": 10,
     "metadata": {},
     "output_type": "execute_result"
    }
   ],
   "source": [
    "products = pd.read_csv(\n",
    "    project_folder.joinpath(\"data\", \"raw\", \"olist_products_dataset.csv\")\n",
    ")\n",
    "\n",
    "products.head(2)\n"
   ]
  },
  {
   "cell_type": "markdown",
   "metadata": {},
   "source": [
    "### Sellers"
   ]
  },
  {
   "cell_type": "code",
   "execution_count": 11,
   "metadata": {},
   "outputs": [
    {
     "data": {
      "text/html": [
       "<div>\n",
       "<style scoped>\n",
       "    .dataframe tbody tr th:only-of-type {\n",
       "        vertical-align: middle;\n",
       "    }\n",
       "\n",
       "    .dataframe tbody tr th {\n",
       "        vertical-align: top;\n",
       "    }\n",
       "\n",
       "    .dataframe thead th {\n",
       "        text-align: right;\n",
       "    }\n",
       "</style>\n",
       "<table border=\"1\" class=\"dataframe\">\n",
       "  <thead>\n",
       "    <tr style=\"text-align: right;\">\n",
       "      <th></th>\n",
       "      <th>seller_id</th>\n",
       "      <th>seller_zip_code_prefix</th>\n",
       "      <th>seller_city</th>\n",
       "      <th>seller_state</th>\n",
       "    </tr>\n",
       "  </thead>\n",
       "  <tbody>\n",
       "    <tr>\n",
       "      <th>0</th>\n",
       "      <td>3442f8959a84dea7ee197c632cb2df15</td>\n",
       "      <td>13023</td>\n",
       "      <td>campinas</td>\n",
       "      <td>SP</td>\n",
       "    </tr>\n",
       "    <tr>\n",
       "      <th>1</th>\n",
       "      <td>d1b65fc7debc3361ea86b5f14c68d2e2</td>\n",
       "      <td>13844</td>\n",
       "      <td>mogi guacu</td>\n",
       "      <td>SP</td>\n",
       "    </tr>\n",
       "  </tbody>\n",
       "</table>\n",
       "</div>"
      ],
      "text/plain": [
       "                          seller_id  seller_zip_code_prefix seller_city  \\\n",
       "0  3442f8959a84dea7ee197c632cb2df15                   13023    campinas   \n",
       "1  d1b65fc7debc3361ea86b5f14c68d2e2                   13844  mogi guacu   \n",
       "\n",
       "  seller_state  \n",
       "0           SP  \n",
       "1           SP  "
      ]
     },
     "execution_count": 11,
     "metadata": {},
     "output_type": "execute_result"
    }
   ],
   "source": [
    "sellers = pd.read_csv(\n",
    "    project_folder.joinpath(\"data\", \"raw\", \"olist_sellers_dataset.csv\")\n",
    ")\n",
    "\n",
    "sellers.head(2)\n"
   ]
  },
  {
   "cell_type": "markdown",
   "metadata": {},
   "source": [
    "### Product Category Name Translation"
   ]
  },
  {
   "cell_type": "code",
   "execution_count": 12,
   "metadata": {},
   "outputs": [
    {
     "data": {
      "text/html": [
       "<div>\n",
       "<style scoped>\n",
       "    .dataframe tbody tr th:only-of-type {\n",
       "        vertical-align: middle;\n",
       "    }\n",
       "\n",
       "    .dataframe tbody tr th {\n",
       "        vertical-align: top;\n",
       "    }\n",
       "\n",
       "    .dataframe thead th {\n",
       "        text-align: right;\n",
       "    }\n",
       "</style>\n",
       "<table border=\"1\" class=\"dataframe\">\n",
       "  <thead>\n",
       "    <tr style=\"text-align: right;\">\n",
       "      <th></th>\n",
       "      <th>product_category_name</th>\n",
       "      <th>product_category_name_english</th>\n",
       "    </tr>\n",
       "  </thead>\n",
       "  <tbody>\n",
       "    <tr>\n",
       "      <th>0</th>\n",
       "      <td>beleza_saude</td>\n",
       "      <td>health_beauty</td>\n",
       "    </tr>\n",
       "    <tr>\n",
       "      <th>1</th>\n",
       "      <td>informatica_acessorios</td>\n",
       "      <td>computers_accessories</td>\n",
       "    </tr>\n",
       "  </tbody>\n",
       "</table>\n",
       "</div>"
      ],
      "text/plain": [
       "    product_category_name product_category_name_english\n",
       "0            beleza_saude                 health_beauty\n",
       "1  informatica_acessorios         computers_accessories"
      ]
     },
     "execution_count": 12,
     "metadata": {},
     "output_type": "execute_result"
    }
   ],
   "source": [
    "product_category_name_translation = pd.read_csv(\n",
    "    project_folder.joinpath(\"data\", \"raw\", \"product_category_name_translation.csv\")\n",
    ")\n",
    "\n",
    "product_category_name_translation.head(2)\n"
   ]
  },
  {
   "cell_type": "markdown",
   "metadata": {},
   "source": [
    "# Exploratory Data Analysis (EDA)"
   ]
  },
  {
   "cell_type": "markdown",
   "metadata": {},
   "source": [
    "## Number of orders and payment values by state and order status"
   ]
  },
  {
   "cell_type": "code",
   "execution_count": 13,
   "metadata": {},
   "outputs": [
    {
     "data": {
      "text/html": [
       "<div>\n",
       "<style scoped>\n",
       "    .dataframe tbody tr th:only-of-type {\n",
       "        vertical-align: middle;\n",
       "    }\n",
       "\n",
       "    .dataframe tbody tr th {\n",
       "        vertical-align: top;\n",
       "    }\n",
       "\n",
       "    .dataframe thead th {\n",
       "        text-align: right;\n",
       "    }\n",
       "</style>\n",
       "<table border=\"1\" class=\"dataframe\">\n",
       "  <thead>\n",
       "    <tr style=\"text-align: right;\">\n",
       "      <th></th>\n",
       "      <th>customer_state</th>\n",
       "      <th>order_status</th>\n",
       "      <th>n_orders</th>\n",
       "      <th>payment_value</th>\n",
       "    </tr>\n",
       "  </thead>\n",
       "  <tbody>\n",
       "    <tr>\n",
       "      <th>139</th>\n",
       "      <td>SP</td>\n",
       "      <td>delivered</td>\n",
       "      <td>40501</td>\n",
       "      <td>5770266.19</td>\n",
       "    </tr>\n",
       "    <tr>\n",
       "      <th>101</th>\n",
       "      <td>RJ</td>\n",
       "      <td>delivered</td>\n",
       "      <td>12350</td>\n",
       "      <td>2055690.45</td>\n",
       "    </tr>\n",
       "    <tr>\n",
       "      <th>51</th>\n",
       "      <td>MG</td>\n",
       "      <td>delivered</td>\n",
       "      <td>11354</td>\n",
       "      <td>1819277.61</td>\n",
       "    </tr>\n",
       "    <tr>\n",
       "      <th>120</th>\n",
       "      <td>RS</td>\n",
       "      <td>delivered</td>\n",
       "      <td>5345</td>\n",
       "      <td>861802.40</td>\n",
       "    </tr>\n",
       "    <tr>\n",
       "      <th>94</th>\n",
       "      <td>PR</td>\n",
       "      <td>delivered</td>\n",
       "      <td>4923</td>\n",
       "      <td>781919.55</td>\n",
       "    </tr>\n",
       "    <tr>\n",
       "      <th>...</th>\n",
       "      <td>...</td>\n",
       "      <td>...</td>\n",
       "      <td>...</td>\n",
       "      <td>...</td>\n",
       "    </tr>\n",
       "    <tr>\n",
       "      <th>7</th>\n",
       "      <td>AL</td>\n",
       "      <td>unavailable</td>\n",
       "      <td>1</td>\n",
       "      <td>69.38</td>\n",
       "    </tr>\n",
       "    <tr>\n",
       "      <th>131</th>\n",
       "      <td>SE</td>\n",
       "      <td>canceled</td>\n",
       "      <td>1</td>\n",
       "      <td>61.79</td>\n",
       "    </tr>\n",
       "    <tr>\n",
       "      <th>49</th>\n",
       "      <td>MG</td>\n",
       "      <td>approved</td>\n",
       "      <td>1</td>\n",
       "      <td>61.62</td>\n",
       "    </tr>\n",
       "    <tr>\n",
       "      <th>133</th>\n",
       "      <td>SE</td>\n",
       "      <td>invoiced</td>\n",
       "      <td>1</td>\n",
       "      <td>43.05</td>\n",
       "    </tr>\n",
       "    <tr>\n",
       "      <th>100</th>\n",
       "      <td>RJ</td>\n",
       "      <td>created</td>\n",
       "      <td>1</td>\n",
       "      <td>37.84</td>\n",
       "    </tr>\n",
       "  </tbody>\n",
       "</table>\n",
       "<p>149 rows × 4 columns</p>\n",
       "</div>"
      ],
      "text/plain": [
       "    customer_state order_status  n_orders  payment_value\n",
       "139             SP    delivered     40501     5770266.19\n",
       "101             RJ    delivered     12350     2055690.45\n",
       "51              MG    delivered     11354     1819277.61\n",
       "120             RS    delivered      5345      861802.40\n",
       "94              PR    delivered      4923      781919.55\n",
       "..             ...          ...       ...            ...\n",
       "7               AL  unavailable         1          69.38\n",
       "131             SE     canceled         1          61.79\n",
       "49              MG     approved         1          61.62\n",
       "133             SE     invoiced         1          43.05\n",
       "100             RJ      created         1          37.84\n",
       "\n",
       "[149 rows x 4 columns]"
      ]
     },
     "execution_count": 13,
     "metadata": {},
     "output_type": "execute_result"
    }
   ],
   "source": [
    "# Creates a aggregated dataframe with the number of orders and the total payment value by state and order status\n",
    "value_orders_by_state_status = (\n",
    "    orders.merge(customers, how=\"left\", on=\"customer_id\")\n",
    "    .merge(order_payments, how=\"left\", on=\"order_id\")\n",
    "    .loc[:, [\"customer_state\", \"order_id\", \"order_status\", \"payment_value\"]]\n",
    "    .groupby(by=[\"customer_state\", \"order_status\"])\n",
    "    .agg({\"order_id\": \"nunique\", \"payment_value\": \"sum\"})\n",
    "    .reset_index()\n",
    "    .rename(columns={\"order_id\": \"n_orders\"})\n",
    "    .sort_values(by=\"payment_value\", ascending=False)\n",
    ")\n",
    "\n",
    "value_orders_by_state_status\n"
   ]
  },
  {
   "cell_type": "code",
   "execution_count": 78,
   "metadata": {},
   "outputs": [
    {
     "data": {
      "text/html": [
       "<div>\n",
       "<style scoped>\n",
       "    .dataframe tbody tr th:only-of-type {\n",
       "        vertical-align: middle;\n",
       "    }\n",
       "\n",
       "    .dataframe tbody tr th {\n",
       "        vertical-align: top;\n",
       "    }\n",
       "\n",
       "    .dataframe thead th {\n",
       "        text-align: right;\n",
       "    }\n",
       "</style>\n",
       "<table border=\"1\" class=\"dataframe\">\n",
       "  <thead>\n",
       "    <tr style=\"text-align: right;\">\n",
       "      <th></th>\n",
       "      <th>customer_state</th>\n",
       "      <th>approved</th>\n",
       "      <th>canceled</th>\n",
       "      <th>created</th>\n",
       "      <th>delivered</th>\n",
       "      <th>invoiced</th>\n",
       "      <th>processing</th>\n",
       "      <th>shipped</th>\n",
       "      <th>unavailable</th>\n",
       "    </tr>\n",
       "  </thead>\n",
       "  <tbody>\n",
       "    <tr>\n",
       "      <th>26</th>\n",
       "      <td>TO</td>\n",
       "      <td>0.00</td>\n",
       "      <td>250.57</td>\n",
       "      <td>0.00</td>\n",
       "      <td>60007.37</td>\n",
       "      <td>0.00</td>\n",
       "      <td>96.98</td>\n",
       "      <td>999.50</td>\n",
       "      <td>130.91</td>\n",
       "    </tr>\n",
       "    <tr>\n",
       "      <th>25</th>\n",
       "      <td>SP</td>\n",
       "      <td>179.46</td>\n",
       "      <td>55829.85</td>\n",
       "      <td>160.94</td>\n",
       "      <td>5770266.19</td>\n",
       "      <td>30663.24</td>\n",
       "      <td>31436.74</td>\n",
       "      <td>46229.42</td>\n",
       "      <td>63461.12</td>\n",
       "    </tr>\n",
       "  </tbody>\n",
       "</table>\n",
       "</div>"
      ],
      "text/plain": [
       "   customer_state  approved  canceled  created   delivered  invoiced  \\\n",
       "26             TO      0.00    250.57     0.00    60007.37      0.00   \n",
       "25             SP    179.46  55829.85   160.94  5770266.19  30663.24   \n",
       "\n",
       "    processing   shipped  unavailable  \n",
       "26       96.98    999.50       130.91  \n",
       "25    31436.74  46229.42     63461.12  "
      ]
     },
     "execution_count": 78,
     "metadata": {},
     "output_type": "execute_result"
    }
   ],
   "source": [
    "pivot_value_by_state_status = (\n",
    "    value_orders_by_state_status.pivot_table(\n",
    "        index=\"customer_state\", columns=\"order_status\", values=\"payment_value\"\n",
    "    )\n",
    "    .fillna(0)\n",
    "    .reset_index()\n",
    "    .rename_axis(None, axis=1)\n",
    "    .sort_values(by=\"customer_state\", ascending=False)\n",
    ")\n",
    "\n",
    "pivot_value_by_state_status.head(2)\n"
   ]
  },
  {
   "cell_type": "code",
   "execution_count": 77,
   "metadata": {},
   "outputs": [
    {
     "data": {
      "text/html": [
       "<div>\n",
       "<style scoped>\n",
       "    .dataframe tbody tr th:only-of-type {\n",
       "        vertical-align: middle;\n",
       "    }\n",
       "\n",
       "    .dataframe tbody tr th {\n",
       "        vertical-align: top;\n",
       "    }\n",
       "\n",
       "    .dataframe thead th {\n",
       "        text-align: right;\n",
       "    }\n",
       "</style>\n",
       "<table border=\"1\" class=\"dataframe\">\n",
       "  <thead>\n",
       "    <tr style=\"text-align: right;\">\n",
       "      <th></th>\n",
       "      <th>customer_state</th>\n",
       "      <th>approved</th>\n",
       "      <th>canceled</th>\n",
       "      <th>created</th>\n",
       "      <th>delivered</th>\n",
       "      <th>invoiced</th>\n",
       "      <th>processing</th>\n",
       "      <th>shipped</th>\n",
       "      <th>unavailable</th>\n",
       "    </tr>\n",
       "  </thead>\n",
       "  <tbody>\n",
       "    <tr>\n",
       "      <th>26</th>\n",
       "      <td>TO</td>\n",
       "      <td>0.0</td>\n",
       "      <td>1.0</td>\n",
       "      <td>0.0</td>\n",
       "      <td>274.0</td>\n",
       "      <td>0.0</td>\n",
       "      <td>1.0</td>\n",
       "      <td>3.0</td>\n",
       "      <td>1.0</td>\n",
       "    </tr>\n",
       "    <tr>\n",
       "      <th>25</th>\n",
       "      <td>SP</td>\n",
       "      <td>1.0</td>\n",
       "      <td>327.0</td>\n",
       "      <td>1.0</td>\n",
       "      <td>40501.0</td>\n",
       "      <td>160.0</td>\n",
       "      <td>136.0</td>\n",
       "      <td>328.0</td>\n",
       "      <td>292.0</td>\n",
       "    </tr>\n",
       "  </tbody>\n",
       "</table>\n",
       "</div>"
      ],
      "text/plain": [
       "   customer_state  approved  canceled  created  delivered  invoiced  \\\n",
       "26             TO       0.0       1.0      0.0      274.0       0.0   \n",
       "25             SP       1.0     327.0      1.0    40501.0     160.0   \n",
       "\n",
       "    processing  shipped  unavailable  \n",
       "26         1.0      3.0          1.0  \n",
       "25       136.0    328.0        292.0  "
      ]
     },
     "execution_count": 77,
     "metadata": {},
     "output_type": "execute_result"
    }
   ],
   "source": [
    "pivot_orders_by_state_status = (\n",
    "    value_orders_by_state_status.pivot_table(\n",
    "        index=\"customer_state\", columns=\"order_status\", values=\"n_orders\"\n",
    "    )\n",
    "    .fillna(0)\n",
    "    .reset_index()\n",
    "    .rename_axis(None, axis=1)\n",
    "    .sort_values(by=\"customer_state\", ascending=False)\n",
    ")\n",
    "\n",
    "pivot_orders_by_state_status.head(2)\n"
   ]
  },
  {
   "cell_type": "code",
   "execution_count": 97,
   "metadata": {},
   "outputs": [
    {
     "name": "stdout",
     "output_type": "stream",
     "text": [
      "{'approved': '#6e35ff',\n",
      " 'canceled': '#ff4d65',\n",
      " 'created': '#6e35ff',\n",
      " 'delivered': '#00c456',\n",
      " 'invoiced': '#6e35ff',\n",
      " 'processing': '#6e35ff',\n",
      " 'shipped': '#6e35ff',\n",
      " 'unavailable': '#ff4d65'}\n"
     ]
    }
   ],
   "source": [
    "map_status_color = {\n",
    "    \"approved\": \"#6e35ff\",\n",
    "    \"canceled\": \"#ff4d65\",\n",
    "    \"created\": \"#6e35ff\",\n",
    "    \"delivered\": \"#00c456\",\n",
    "    \"invoiced\": \"#6e35ff\",\n",
    "    \"processing\": \"#6e35ff\",\n",
    "    \"shipped\": \"#6e35ff\",\n",
    "    \"unavailable\": \"#ff4d65\",\n",
    "}\n",
    "\n",
    "pprint(map_status_color)"
   ]
  },
  {
   "cell_type": "code",
   "execution_count": 98,
   "metadata": {},
   "outputs": [
    {
     "name": "stdout",
     "output_type": "stream",
     "text": [
      "['created',\n",
      " 'processing',\n",
      " 'approved',\n",
      " 'invoiced',\n",
      " 'shipped',\n",
      " 'delivered',\n",
      " 'unavailable',\n",
      " 'canceled']\n"
     ]
    }
   ],
   "source": [
    "status_order = [\n",
    "    \"created\",\n",
    "    \"processing\",\n",
    "    \"approved\",\n",
    "    \"invoiced\",\n",
    "    \"shipped\",\n",
    "    \"delivered\",\n",
    "    \"unavailable\",\n",
    "    \"canceled\",\n",
    "]\n",
    "\n",
    "pprint(status_order)"
   ]
  },
  {
   "cell_type": "code",
   "execution_count": 96,
   "metadata": {},
   "outputs": [
    {
     "data": {
      "application/vnd.plotly.v1+json": {
       "config": {
        "plotlyServerURL": "https://plot.ly"
       },
       "data": [
        {
         "marker": {
          "color": "#6e35ff"
         },
         "name": "Created",
         "orientation": "h",
         "type": "bar",
         "x": [
          0,
          160.94,
          0,
          0,
          105.87,
          0,
          0,
          0,
          37.84,
          245.85,
          0,
          0,
          0,
          0,
          0,
          0,
          0,
          0,
          0,
          0,
          137.6,
          0,
          0,
          0,
          0,
          0,
          0
         ],
         "xaxis": "x",
         "y": [
          "TO",
          "SP",
          "SE",
          "SC",
          "RS",
          "RR",
          "RO",
          "RN",
          "RJ",
          "PR",
          "PI",
          "PE",
          "PB",
          "PA",
          "MT",
          "MS",
          "MG",
          "MA",
          "GO",
          "ES",
          "DF",
          "CE",
          "BA",
          "AP",
          "AM",
          "AL",
          "AC"
         ],
         "yaxis": "y"
        },
        {
         "marker": {
          "color": "#6e35ff"
         },
         "name": "Created",
         "orientation": "h",
         "showlegend": false,
         "type": "bar",
         "x": [
          0,
          1,
          0,
          0,
          1,
          0,
          0,
          0,
          1,
          1,
          0,
          0,
          0,
          0,
          0,
          0,
          0,
          0,
          0,
          0,
          1,
          0,
          0,
          0,
          0,
          0,
          0
         ],
         "xaxis": "x2",
         "y": [
          "TO",
          "SP",
          "SE",
          "SC",
          "RS",
          "RR",
          "RO",
          "RN",
          "RJ",
          "PR",
          "PI",
          "PE",
          "PB",
          "PA",
          "MT",
          "MS",
          "MG",
          "MA",
          "GO",
          "ES",
          "DF",
          "CE",
          "BA",
          "AP",
          "AM",
          "AL",
          "AC"
         ],
         "yaxis": "y2"
        },
        {
         "marker": {
          "color": "#6e35ff"
         },
         "name": "Processing",
         "orientation": "h",
         "type": "bar",
         "x": [
          96.98,
          31436.74,
          0,
          4599.59,
          2276.11,
          0,
          307.40999999999997,
          160.58,
          8244.33,
          3143.46,
          838.13,
          2914.01,
          459.37,
          585.5699999999999,
          655.67,
          547.35,
          5981.42,
          0,
          1511.02,
          118.50999999999999,
          733.14,
          1607.01,
          2617.42,
          120.99,
          0,
          439.3,
          0
         ],
         "xaxis": "x",
         "y": [
          "TO",
          "SP",
          "SE",
          "SC",
          "RS",
          "RR",
          "RO",
          "RN",
          "RJ",
          "PR",
          "PI",
          "PE",
          "PB",
          "PA",
          "MT",
          "MS",
          "MG",
          "MA",
          "GO",
          "ES",
          "DF",
          "CE",
          "BA",
          "AP",
          "AM",
          "AL",
          "AC"
         ],
         "yaxis": "y"
        },
        {
         "marker": {
          "color": "#6e35ff"
         },
         "name": "Processing",
         "orientation": "h",
         "showlegend": false,
         "type": "bar",
         "x": [
          1,
          136,
          0,
          14,
          14,
          0,
          2,
          1,
          32,
          15,
          3,
          10,
          2,
          2,
          1,
          3,
          31,
          0,
          5,
          2,
          7,
          5,
          11,
          1,
          0,
          3,
          0
         ],
         "xaxis": "x2",
         "y": [
          "TO",
          "SP",
          "SE",
          "SC",
          "RS",
          "RR",
          "RO",
          "RN",
          "RJ",
          "PR",
          "PI",
          "PE",
          "PB",
          "PA",
          "MT",
          "MS",
          "MG",
          "MA",
          "GO",
          "ES",
          "DF",
          "CE",
          "BA",
          "AP",
          "AM",
          "AL",
          "AC"
         ],
         "yaxis": "y2"
        },
        {
         "marker": {
          "color": "#6e35ff"
         },
         "name": "Approved",
         "orientation": "h",
         "type": "bar",
         "x": [
          0,
          179.46,
          0,
          0,
          0,
          0,
          0,
          0,
          0,
          0,
          0,
          0,
          0,
          0,
          0,
          0,
          61.62,
          0,
          0,
          0,
          0,
          0,
          0,
          0,
          0,
          0,
          0
         ],
         "xaxis": "x",
         "y": [
          "TO",
          "SP",
          "SE",
          "SC",
          "RS",
          "RR",
          "RO",
          "RN",
          "RJ",
          "PR",
          "PI",
          "PE",
          "PB",
          "PA",
          "MT",
          "MS",
          "MG",
          "MA",
          "GO",
          "ES",
          "DF",
          "CE",
          "BA",
          "AP",
          "AM",
          "AL",
          "AC"
         ],
         "yaxis": "y"
        },
        {
         "marker": {
          "color": "#6e35ff"
         },
         "name": "Approved",
         "orientation": "h",
         "showlegend": false,
         "type": "bar",
         "x": [
          0,
          1,
          0,
          0,
          0,
          0,
          0,
          0,
          0,
          0,
          0,
          0,
          0,
          0,
          0,
          0,
          1,
          0,
          0,
          0,
          0,
          0,
          0,
          0,
          0,
          0,
          0
         ],
         "xaxis": "x2",
         "y": [
          "TO",
          "SP",
          "SE",
          "SC",
          "RS",
          "RR",
          "RO",
          "RN",
          "RJ",
          "PR",
          "PI",
          "PE",
          "PB",
          "PA",
          "MT",
          "MS",
          "MG",
          "MA",
          "GO",
          "ES",
          "DF",
          "CE",
          "BA",
          "AP",
          "AM",
          "AL",
          "AC"
         ],
         "yaxis": "y2"
        },
        {
         "marker": {
          "color": "#6e35ff"
         },
         "name": "Invoiced",
         "orientation": "h",
         "type": "bar",
         "x": [
          0,
          30663.24,
          43.05,
          3319.8700000000003,
          5711.54,
          0,
          150.36,
          0,
          5842.68,
          2813.99,
          773.37,
          2415.6000000000004,
          81.96,
          814.1899999999999,
          1724.04,
          444.25,
          9211.2,
          100.1,
          643.13,
          1856.12,
          181.32,
          181,
          1994.87,
          0,
          0,
          172.11,
          0
         ],
         "xaxis": "x",
         "y": [
          "TO",
          "SP",
          "SE",
          "SC",
          "RS",
          "RR",
          "RO",
          "RN",
          "RJ",
          "PR",
          "PI",
          "PE",
          "PB",
          "PA",
          "MT",
          "MS",
          "MG",
          "MA",
          "GO",
          "ES",
          "DF",
          "CE",
          "BA",
          "AP",
          "AM",
          "AL",
          "AC"
         ],
         "yaxis": "y"
        },
        {
         "marker": {
          "color": "#6e35ff"
         },
         "name": "Invoiced",
         "orientation": "h",
         "showlegend": false,
         "type": "bar",
         "x": [
          0,
          160,
          1,
          12,
          20,
          0,
          1,
          0,
          26,
          15,
          4,
          5,
          1,
          2,
          1,
          1,
          39,
          2,
          5,
          4,
          3,
          1,
          9,
          0,
          0,
          2,
          0
         ],
         "xaxis": "x2",
         "y": [
          "TO",
          "SP",
          "SE",
          "SC",
          "RS",
          "RR",
          "RO",
          "RN",
          "RJ",
          "PR",
          "PI",
          "PE",
          "PB",
          "PA",
          "MT",
          "MS",
          "MG",
          "MA",
          "GO",
          "ES",
          "DF",
          "CE",
          "BA",
          "AP",
          "AM",
          "AL",
          "AC"
         ],
         "yaxis": "y2"
        },
        {
         "marker": {
          "color": "#6e35ff"
         },
         "name": "Shipped",
         "orientation": "h",
         "type": "bar",
         "x": [
          999.5,
          46229.42,
          2700.14,
          5052.650000000001,
          7907.88,
          909.45,
          0,
          1019.72,
          46178.98,
          6530.35,
          975.78,
          6716.68,
          2143.59,
          4057.21,
          2400.98,
          516.54,
          8928.52,
          2784.31,
          4177.87,
          3448.4700000000003,
          4289.4,
          6297.83,
          11158.56,
          0,
          250.26,
          1445.5,
          94.37
         ],
         "xaxis": "x",
         "y": [
          "TO",
          "SP",
          "SE",
          "SC",
          "RS",
          "RR",
          "RO",
          "RN",
          "RJ",
          "PR",
          "PI",
          "PE",
          "PB",
          "PA",
          "MT",
          "MS",
          "MG",
          "MA",
          "GO",
          "ES",
          "DF",
          "CE",
          "BA",
          "AP",
          "AM",
          "AL",
          "AC"
         ],
         "yaxis": "y"
        },
        {
         "marker": {
          "color": "#6e35ff"
         },
         "name": "Shipped",
         "orientation": "h",
         "showlegend": false,
         "type": "bar",
         "x": [
          3,
          328,
          9,
          28,
          37,
          4,
          0,
          7,
          289,
          29,
          7,
          35,
          11,
          19,
          14,
          3,
          71,
          17,
          31,
          17,
          30,
          38,
          68,
          0,
          2,
          9,
          1
         ],
         "xaxis": "x2",
         "y": [
          "TO",
          "SP",
          "SE",
          "SC",
          "RS",
          "RR",
          "RO",
          "RN",
          "RJ",
          "PR",
          "PI",
          "PE",
          "PB",
          "PA",
          "MT",
          "MS",
          "MG",
          "MA",
          "GO",
          "ES",
          "DF",
          "CE",
          "BA",
          "AP",
          "AM",
          "AL",
          "AC"
         ],
         "yaxis": "y2"
        },
        {
         "marker": {
          "color": "#00c456"
         },
         "name": "Delivered",
         "orientation": "h",
         "type": "bar",
         "x": [
          60007.37,
          5770266.19,
          70289.13,
          595208.4,
          861802.4,
          9039.52,
          56975.7,
          100728.3,
          2055690.45,
          781919.55,
          105272.17,
          309074.59,
          137834.65,
          212027.55,
          181441.72,
          134421.54,
          1819277.61,
          147807.29,
          334294.22,
          317682.65,
          346146.17,
          266463.97,
          591270.6,
          16141.81,
          27596.18,
          94195.79,
          19586.25
         ],
         "xaxis": "x",
         "y": [
          "TO",
          "SP",
          "SE",
          "SC",
          "RS",
          "RR",
          "RO",
          "RN",
          "RJ",
          "PR",
          "PI",
          "PE",
          "PB",
          "PA",
          "MT",
          "MS",
          "MG",
          "MA",
          "GO",
          "ES",
          "DF",
          "CE",
          "BA",
          "AP",
          "AM",
          "AL",
          "AC"
         ],
         "yaxis": "y"
        },
        {
         "marker": {
          "color": "#00c456"
         },
         "name": "Delivered",
         "orientation": "h",
         "showlegend": false,
         "type": "bar",
         "x": [
          274,
          40501,
          335,
          3546,
          5345,
          41,
          243,
          474,
          12350,
          4923,
          476,
          1593,
          517,
          946,
          886,
          701,
          11354,
          717,
          1957,
          1995,
          2080,
          1279,
          3256,
          67,
          145,
          397,
          80
         ],
         "xaxis": "x2",
         "y": [
          "TO",
          "SP",
          "SE",
          "SC",
          "RS",
          "RR",
          "RO",
          "RN",
          "RJ",
          "PR",
          "PI",
          "PE",
          "PB",
          "PA",
          "MT",
          "MS",
          "MG",
          "MA",
          "GO",
          "ES",
          "DF",
          "CE",
          "BA",
          "AP",
          "AM",
          "AL",
          "AC"
         ],
         "yaxis": "y2"
        },
        {
         "marker": {
          "color": "#ff4d65"
         },
         "name": "Unavailable",
         "orientation": "h",
         "type": "bar",
         "x": [
          130.91,
          63461.12,
          2152.14,
          5526.95,
          3876.8,
          0,
          1761.63,
          809.53,
          10449.95,
          7665.9800000000005,
          75.68,
          2510.21,
          476.09999999999997,
          332.03,
          191.59,
          1243.53,
          12915.44,
          1347.29,
          1498.56,
          933.15,
          1230.41,
          2946.0800000000004,
          4754.5599999999995,
          0,
          120.49,
          69.38,
          0
         ],
         "xaxis": "x",
         "y": [
          "TO",
          "SP",
          "SE",
          "SC",
          "RS",
          "RR",
          "RO",
          "RN",
          "RJ",
          "PR",
          "PI",
          "PE",
          "PB",
          "PA",
          "MT",
          "MS",
          "MG",
          "MA",
          "GO",
          "ES",
          "DF",
          "CE",
          "BA",
          "AP",
          "AM",
          "AL",
          "AC"
         ],
         "yaxis": "y"
        },
        {
         "marker": {
          "color": "#ff4d65"
         },
         "name": "Unavailable",
         "orientation": "h",
         "showlegend": false,
         "type": "bar",
         "x": [
          1,
          292,
          4,
          18,
          24,
          0,
          4,
          3,
          68,
          40,
          1,
          4,
          3,
          2,
          3,
          5,
          75,
          7,
          9,
          6,
          12,
          6,
          20,
          0,
          1,
          1,
          0
         ],
         "xaxis": "x2",
         "y": [
          "TO",
          "SP",
          "SE",
          "SC",
          "RS",
          "RR",
          "RO",
          "RN",
          "RJ",
          "PR",
          "PI",
          "PE",
          "PB",
          "PA",
          "MT",
          "MS",
          "MG",
          "MA",
          "GO",
          "ES",
          "DF",
          "CE",
          "BA",
          "AP",
          "AM",
          "AL",
          "AC"
         ],
         "yaxis": "y2"
        },
        {
         "marker": {
          "color": "#ff4d65"
         },
         "name": "Canceled",
         "orientation": "h",
         "type": "bar",
         "x": [
          250.57,
          55829.85,
          61.79,
          9378.970000000001,
          9217.94,
          115.65,
          1671.1000000000001,
          0,
          17935.46,
          8837.199999999999,
          588.8399999999999,
          1219.35,
          550.05,
          479.3,
          615.29,
          361.63,
          15881.45,
          484.03,
          7967.509999999999,
          1928.65,
          2423.04,
          1968.14,
          4849.81,
          0,
          0,
          639.98,
          0
         ],
         "xaxis": "x",
         "y": [
          "TO",
          "SP",
          "SE",
          "SC",
          "RS",
          "RR",
          "RO",
          "RN",
          "RJ",
          "PR",
          "PI",
          "PE",
          "PB",
          "PA",
          "MT",
          "MS",
          "MG",
          "MA",
          "GO",
          "ES",
          "DF",
          "CE",
          "BA",
          "AP",
          "AM",
          "AL",
          "AC"
         ],
         "yaxis": "y"
        },
        {
         "marker": {
          "color": "#ff4d65"
         },
         "name": "Canceled",
         "orientation": "h",
         "showlegend": false,
         "type": "bar",
         "x": [
          1,
          327,
          1,
          19,
          25,
          1,
          3,
          0,
          86,
          22,
          4,
          5,
          2,
          4,
          2,
          2,
          64,
          4,
          13,
          9,
          7,
          7,
          16,
          0,
          0,
          1,
          0
         ],
         "xaxis": "x2",
         "y": [
          "TO",
          "SP",
          "SE",
          "SC",
          "RS",
          "RR",
          "RO",
          "RN",
          "RJ",
          "PR",
          "PI",
          "PE",
          "PB",
          "PA",
          "MT",
          "MS",
          "MG",
          "MA",
          "GO",
          "ES",
          "DF",
          "CE",
          "BA",
          "AP",
          "AM",
          "AL",
          "AC"
         ],
         "yaxis": "y2"
        }
       ],
       "layout": {
        "annotations": [
         {
          "font": {
           "size": 16
          },
          "showarrow": false,
          "text": "Total Payment Value",
          "x": 0.225,
          "xanchor": "center",
          "xref": "paper",
          "y": 1,
          "yanchor": "bottom",
          "yref": "paper"
         },
         {
          "font": {
           "size": 16
          },
          "showarrow": false,
          "text": "Number of Orders",
          "x": 0.775,
          "xanchor": "center",
          "xref": "paper",
          "y": 1,
          "yanchor": "bottom",
          "yref": "paper"
         }
        ],
        "barmode": "stack",
        "height": 600,
        "template": {
         "data": {
          "bar": [
           {
            "error_x": {
             "color": "#2a3f5f"
            },
            "error_y": {
             "color": "#2a3f5f"
            },
            "marker": {
             "line": {
              "color": "white",
              "width": 0.5
             },
             "pattern": {
              "fillmode": "overlay",
              "size": 10,
              "solidity": 0.2
             }
            },
            "type": "bar"
           }
          ],
          "barpolar": [
           {
            "marker": {
             "line": {
              "color": "white",
              "width": 0.5
             },
             "pattern": {
              "fillmode": "overlay",
              "size": 10,
              "solidity": 0.2
             }
            },
            "type": "barpolar"
           }
          ],
          "carpet": [
           {
            "aaxis": {
             "endlinecolor": "#2a3f5f",
             "gridcolor": "#C8D4E3",
             "linecolor": "#C8D4E3",
             "minorgridcolor": "#C8D4E3",
             "startlinecolor": "#2a3f5f"
            },
            "baxis": {
             "endlinecolor": "#2a3f5f",
             "gridcolor": "#C8D4E3",
             "linecolor": "#C8D4E3",
             "minorgridcolor": "#C8D4E3",
             "startlinecolor": "#2a3f5f"
            },
            "type": "carpet"
           }
          ],
          "choropleth": [
           {
            "colorbar": {
             "outlinewidth": 0,
             "ticks": ""
            },
            "type": "choropleth"
           }
          ],
          "contour": [
           {
            "colorbar": {
             "outlinewidth": 0,
             "ticks": ""
            },
            "colorscale": [
             [
              0,
              "#0d0887"
             ],
             [
              0.1111111111111111,
              "#46039f"
             ],
             [
              0.2222222222222222,
              "#7201a8"
             ],
             [
              0.3333333333333333,
              "#9c179e"
             ],
             [
              0.4444444444444444,
              "#bd3786"
             ],
             [
              0.5555555555555556,
              "#d8576b"
             ],
             [
              0.6666666666666666,
              "#ed7953"
             ],
             [
              0.7777777777777778,
              "#fb9f3a"
             ],
             [
              0.8888888888888888,
              "#fdca26"
             ],
             [
              1,
              "#f0f921"
             ]
            ],
            "type": "contour"
           }
          ],
          "contourcarpet": [
           {
            "colorbar": {
             "outlinewidth": 0,
             "ticks": ""
            },
            "type": "contourcarpet"
           }
          ],
          "heatmap": [
           {
            "colorbar": {
             "outlinewidth": 0,
             "ticks": ""
            },
            "colorscale": [
             [
              0,
              "#0d0887"
             ],
             [
              0.1111111111111111,
              "#46039f"
             ],
             [
              0.2222222222222222,
              "#7201a8"
             ],
             [
              0.3333333333333333,
              "#9c179e"
             ],
             [
              0.4444444444444444,
              "#bd3786"
             ],
             [
              0.5555555555555556,
              "#d8576b"
             ],
             [
              0.6666666666666666,
              "#ed7953"
             ],
             [
              0.7777777777777778,
              "#fb9f3a"
             ],
             [
              0.8888888888888888,
              "#fdca26"
             ],
             [
              1,
              "#f0f921"
             ]
            ],
            "type": "heatmap"
           }
          ],
          "heatmapgl": [
           {
            "colorbar": {
             "outlinewidth": 0,
             "ticks": ""
            },
            "colorscale": [
             [
              0,
              "#0d0887"
             ],
             [
              0.1111111111111111,
              "#46039f"
             ],
             [
              0.2222222222222222,
              "#7201a8"
             ],
             [
              0.3333333333333333,
              "#9c179e"
             ],
             [
              0.4444444444444444,
              "#bd3786"
             ],
             [
              0.5555555555555556,
              "#d8576b"
             ],
             [
              0.6666666666666666,
              "#ed7953"
             ],
             [
              0.7777777777777778,
              "#fb9f3a"
             ],
             [
              0.8888888888888888,
              "#fdca26"
             ],
             [
              1,
              "#f0f921"
             ]
            ],
            "type": "heatmapgl"
           }
          ],
          "histogram": [
           {
            "marker": {
             "pattern": {
              "fillmode": "overlay",
              "size": 10,
              "solidity": 0.2
             }
            },
            "type": "histogram"
           }
          ],
          "histogram2d": [
           {
            "colorbar": {
             "outlinewidth": 0,
             "ticks": ""
            },
            "colorscale": [
             [
              0,
              "#0d0887"
             ],
             [
              0.1111111111111111,
              "#46039f"
             ],
             [
              0.2222222222222222,
              "#7201a8"
             ],
             [
              0.3333333333333333,
              "#9c179e"
             ],
             [
              0.4444444444444444,
              "#bd3786"
             ],
             [
              0.5555555555555556,
              "#d8576b"
             ],
             [
              0.6666666666666666,
              "#ed7953"
             ],
             [
              0.7777777777777778,
              "#fb9f3a"
             ],
             [
              0.8888888888888888,
              "#fdca26"
             ],
             [
              1,
              "#f0f921"
             ]
            ],
            "type": "histogram2d"
           }
          ],
          "histogram2dcontour": [
           {
            "colorbar": {
             "outlinewidth": 0,
             "ticks": ""
            },
            "colorscale": [
             [
              0,
              "#0d0887"
             ],
             [
              0.1111111111111111,
              "#46039f"
             ],
             [
              0.2222222222222222,
              "#7201a8"
             ],
             [
              0.3333333333333333,
              "#9c179e"
             ],
             [
              0.4444444444444444,
              "#bd3786"
             ],
             [
              0.5555555555555556,
              "#d8576b"
             ],
             [
              0.6666666666666666,
              "#ed7953"
             ],
             [
              0.7777777777777778,
              "#fb9f3a"
             ],
             [
              0.8888888888888888,
              "#fdca26"
             ],
             [
              1,
              "#f0f921"
             ]
            ],
            "type": "histogram2dcontour"
           }
          ],
          "mesh3d": [
           {
            "colorbar": {
             "outlinewidth": 0,
             "ticks": ""
            },
            "type": "mesh3d"
           }
          ],
          "parcoords": [
           {
            "line": {
             "colorbar": {
              "outlinewidth": 0,
              "ticks": ""
             }
            },
            "type": "parcoords"
           }
          ],
          "pie": [
           {
            "automargin": true,
            "type": "pie"
           }
          ],
          "scatter": [
           {
            "fillpattern": {
             "fillmode": "overlay",
             "size": 10,
             "solidity": 0.2
            },
            "type": "scatter"
           }
          ],
          "scatter3d": [
           {
            "line": {
             "colorbar": {
              "outlinewidth": 0,
              "ticks": ""
             }
            },
            "marker": {
             "colorbar": {
              "outlinewidth": 0,
              "ticks": ""
             }
            },
            "type": "scatter3d"
           }
          ],
          "scattercarpet": [
           {
            "marker": {
             "colorbar": {
              "outlinewidth": 0,
              "ticks": ""
             }
            },
            "type": "scattercarpet"
           }
          ],
          "scattergeo": [
           {
            "marker": {
             "colorbar": {
              "outlinewidth": 0,
              "ticks": ""
             }
            },
            "type": "scattergeo"
           }
          ],
          "scattergl": [
           {
            "marker": {
             "colorbar": {
              "outlinewidth": 0,
              "ticks": ""
             }
            },
            "type": "scattergl"
           }
          ],
          "scattermapbox": [
           {
            "marker": {
             "colorbar": {
              "outlinewidth": 0,
              "ticks": ""
             }
            },
            "type": "scattermapbox"
           }
          ],
          "scatterpolar": [
           {
            "marker": {
             "colorbar": {
              "outlinewidth": 0,
              "ticks": ""
             }
            },
            "type": "scatterpolar"
           }
          ],
          "scatterpolargl": [
           {
            "marker": {
             "colorbar": {
              "outlinewidth": 0,
              "ticks": ""
             }
            },
            "type": "scatterpolargl"
           }
          ],
          "scatterternary": [
           {
            "marker": {
             "colorbar": {
              "outlinewidth": 0,
              "ticks": ""
             }
            },
            "type": "scatterternary"
           }
          ],
          "surface": [
           {
            "colorbar": {
             "outlinewidth": 0,
             "ticks": ""
            },
            "colorscale": [
             [
              0,
              "#0d0887"
             ],
             [
              0.1111111111111111,
              "#46039f"
             ],
             [
              0.2222222222222222,
              "#7201a8"
             ],
             [
              0.3333333333333333,
              "#9c179e"
             ],
             [
              0.4444444444444444,
              "#bd3786"
             ],
             [
              0.5555555555555556,
              "#d8576b"
             ],
             [
              0.6666666666666666,
              "#ed7953"
             ],
             [
              0.7777777777777778,
              "#fb9f3a"
             ],
             [
              0.8888888888888888,
              "#fdca26"
             ],
             [
              1,
              "#f0f921"
             ]
            ],
            "type": "surface"
           }
          ],
          "table": [
           {
            "cells": {
             "fill": {
              "color": "#EBF0F8"
             },
             "line": {
              "color": "white"
             }
            },
            "header": {
             "fill": {
              "color": "#C8D4E3"
             },
             "line": {
              "color": "white"
             }
            },
            "type": "table"
           }
          ]
         },
         "layout": {
          "annotationdefaults": {
           "arrowcolor": "#2a3f5f",
           "arrowhead": 0,
           "arrowwidth": 1
          },
          "autotypenumbers": "strict",
          "coloraxis": {
           "colorbar": {
            "outlinewidth": 0,
            "ticks": ""
           }
          },
          "colorscale": {
           "diverging": [
            [
             0,
             "#8e0152"
            ],
            [
             0.1,
             "#c51b7d"
            ],
            [
             0.2,
             "#de77ae"
            ],
            [
             0.3,
             "#f1b6da"
            ],
            [
             0.4,
             "#fde0ef"
            ],
            [
             0.5,
             "#f7f7f7"
            ],
            [
             0.6,
             "#e6f5d0"
            ],
            [
             0.7,
             "#b8e186"
            ],
            [
             0.8,
             "#7fbc41"
            ],
            [
             0.9,
             "#4d9221"
            ],
            [
             1,
             "#276419"
            ]
           ],
           "sequential": [
            [
             0,
             "#0d0887"
            ],
            [
             0.1111111111111111,
             "#46039f"
            ],
            [
             0.2222222222222222,
             "#7201a8"
            ],
            [
             0.3333333333333333,
             "#9c179e"
            ],
            [
             0.4444444444444444,
             "#bd3786"
            ],
            [
             0.5555555555555556,
             "#d8576b"
            ],
            [
             0.6666666666666666,
             "#ed7953"
            ],
            [
             0.7777777777777778,
             "#fb9f3a"
            ],
            [
             0.8888888888888888,
             "#fdca26"
            ],
            [
             1,
             "#f0f921"
            ]
           ],
           "sequentialminus": [
            [
             0,
             "#0d0887"
            ],
            [
             0.1111111111111111,
             "#46039f"
            ],
            [
             0.2222222222222222,
             "#7201a8"
            ],
            [
             0.3333333333333333,
             "#9c179e"
            ],
            [
             0.4444444444444444,
             "#bd3786"
            ],
            [
             0.5555555555555556,
             "#d8576b"
            ],
            [
             0.6666666666666666,
             "#ed7953"
            ],
            [
             0.7777777777777778,
             "#fb9f3a"
            ],
            [
             0.8888888888888888,
             "#fdca26"
            ],
            [
             1,
             "#f0f921"
            ]
           ]
          },
          "colorway": [
           "#636efa",
           "#EF553B",
           "#00cc96",
           "#ab63fa",
           "#FFA15A",
           "#19d3f3",
           "#FF6692",
           "#B6E880",
           "#FF97FF",
           "#FECB52"
          ],
          "font": {
           "color": "#2a3f5f"
          },
          "geo": {
           "bgcolor": "white",
           "lakecolor": "white",
           "landcolor": "white",
           "showlakes": true,
           "showland": true,
           "subunitcolor": "#C8D4E3"
          },
          "hoverlabel": {
           "align": "left"
          },
          "hovermode": "closest",
          "mapbox": {
           "style": "light"
          },
          "paper_bgcolor": "white",
          "plot_bgcolor": "white",
          "polar": {
           "angularaxis": {
            "gridcolor": "#EBF0F8",
            "linecolor": "#EBF0F8",
            "ticks": ""
           },
           "bgcolor": "white",
           "radialaxis": {
            "gridcolor": "#EBF0F8",
            "linecolor": "#EBF0F8",
            "ticks": ""
           }
          },
          "scene": {
           "xaxis": {
            "backgroundcolor": "white",
            "gridcolor": "#DFE8F3",
            "gridwidth": 2,
            "linecolor": "#EBF0F8",
            "showbackground": true,
            "ticks": "",
            "zerolinecolor": "#EBF0F8"
           },
           "yaxis": {
            "backgroundcolor": "white",
            "gridcolor": "#DFE8F3",
            "gridwidth": 2,
            "linecolor": "#EBF0F8",
            "showbackground": true,
            "ticks": "",
            "zerolinecolor": "#EBF0F8"
           },
           "zaxis": {
            "backgroundcolor": "white",
            "gridcolor": "#DFE8F3",
            "gridwidth": 2,
            "linecolor": "#EBF0F8",
            "showbackground": true,
            "ticks": "",
            "zerolinecolor": "#EBF0F8"
           }
          },
          "shapedefaults": {
           "line": {
            "color": "#2a3f5f"
           }
          },
          "ternary": {
           "aaxis": {
            "gridcolor": "#DFE8F3",
            "linecolor": "#A2B1C6",
            "ticks": ""
           },
           "baxis": {
            "gridcolor": "#DFE8F3",
            "linecolor": "#A2B1C6",
            "ticks": ""
           },
           "bgcolor": "white",
           "caxis": {
            "gridcolor": "#DFE8F3",
            "linecolor": "#A2B1C6",
            "ticks": ""
           }
          },
          "title": {
           "x": 0.05
          },
          "xaxis": {
           "automargin": true,
           "gridcolor": "#EBF0F8",
           "linecolor": "#EBF0F8",
           "ticks": "",
           "title": {
            "standoff": 15
           },
           "zerolinecolor": "#EBF0F8",
           "zerolinewidth": 2
          },
          "yaxis": {
           "automargin": true,
           "gridcolor": "#EBF0F8",
           "linecolor": "#EBF0F8",
           "ticks": "",
           "title": {
            "standoff": 15
           },
           "zerolinecolor": "#EBF0F8",
           "zerolinewidth": 2
          }
         }
        },
        "title": {
         "text": "Number of Total Payment Value and Orders by State and Order Status"
        },
        "width": 1200,
        "xaxis": {
         "anchor": "y",
         "domain": [
          0,
          0.45
         ],
         "title": {
          "text": "Value (BRL)"
         }
        },
        "xaxis2": {
         "anchor": "y2",
         "domain": [
          0.55,
          1
         ],
         "title": {
          "text": "# Orders"
         }
        },
        "yaxis": {
         "anchor": "x",
         "domain": [
          0,
          1
         ]
        },
        "yaxis2": {
         "anchor": "x2",
         "domain": [
          0,
          1
         ],
         "matches": "y",
         "showticklabels": false
        }
       }
      }
     },
     "metadata": {},
     "output_type": "display_data"
    }
   ],
   "source": [
    "# Creates a plotly figure with the number of orders and the total payment value by state and order status\n",
    "fig = make_subplots(\n",
    "    rows=1,\n",
    "    cols=2,\n",
    "    subplot_titles=(\"Total Payment Value\", \"Number of Orders\"),\n",
    "    shared_yaxes=True,\n",
    "    specs=[[{\"type\": \"bar\"}, {\"type\": \"bar\"}]],\n",
    ")\n",
    "\n",
    "for status in status_order:\n",
    "    trace1 = go.Bar(\n",
    "        y=pivot_value_by_state_status[\"customer_state\"],\n",
    "        x=pivot_value_by_state_status[status],\n",
    "        orientation=\"h\",\n",
    "        name=status.title(),\n",
    "        marker=dict(color=map_status_color[status]),\n",
    "    )\n",
    "\n",
    "    trace2 = go.Bar(\n",
    "        y=pivot_orders_by_state_status[\"customer_state\"],\n",
    "        x=pivot_orders_by_state_status[status],\n",
    "        orientation=\"h\",\n",
    "        name=status.title(),\n",
    "        showlegend=False,\n",
    "        marker=dict(color=map_status_color[status]),\n",
    "    )\n",
    "\n",
    "    fig.add_trace(trace1, row=1, col=1)\n",
    "    fig.add_trace(trace2, row=1, col=2)\n",
    "\n",
    "fig.update_layout(\n",
    "    title_text=\"Number of Total Payment Value and Orders by State and Order Status\",\n",
    "    height=600,\n",
    "    width=1200,\n",
    ")\n",
    "\n",
    "fig.update_layout(\n",
    "    barmode=\"stack\",\n",
    "    xaxis=dict(title=\"Value (BRL)\"),\n",
    "    xaxis2=dict(title=\"# Orders\"),\n",
    ")\n",
    "\n",
    "fig.show()\n"
   ]
  }
 ],
 "metadata": {
  "kernelspec": {
   "display_name": ".venv",
   "language": "python",
   "name": "python3"
  },
  "language_info": {
   "codemirror_mode": {
    "name": "ipython",
    "version": 3
   },
   "file_extension": ".py",
   "mimetype": "text/x-python",
   "name": "python",
   "nbconvert_exporter": "python",
   "pygments_lexer": "ipython3",
   "version": "3.12.1"
  }
 },
 "nbformat": 4,
 "nbformat_minor": 2
}
